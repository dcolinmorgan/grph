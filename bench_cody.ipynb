{
  "cells": [
    {
      "cell_type": "markdown",
      "metadata": {
        "id": "view-in-github",
        "colab_type": "text"
      },
      "source": [
        "<a href=\"https://colab.research.google.com/github/dcolinmorgan/grph/blob/main/bench_cody.ipynb\" target=\"_parent\"><img src=\"https://colab.research.google.com/assets/colab-badge.svg\" alt=\"Open In Colab\"/></a>"
      ]
    },
    {
      "cell_type": "markdown",
      "source": [
        "# gpu demo for cody"
      ],
      "metadata": {
        "id": "4Y1PPZV1dpo9"
      },
      "id": "4Y1PPZV1dpo9"
    },
    {
      "cell_type": "code",
      "execution_count": null,
      "metadata": {
        "id": "pZ2B17Vp2EY1",
        "colab": {
          "base_uri": "https://localhost:8080/"
        },
        "outputId": "4656c707-8575-4f57-80cb-874f5e7cf99d"
      },
      "outputs": [
        {
          "output_type": "stream",
          "name": "stdout",
          "text": [
            "Looking in indexes: https://pypi.org/simple, https://us-python.pkg.dev/colab-wheels/public/simple/, https://pypi.nvidia.com\n",
            "Collecting cuml-cu11\n",
            "  Downloading https://pypi.nvidia.com/cuml-cu11/cuml_cu11-23.6.0-cp310-cp310-manylinux_2_17_x86_64.manylinux2014_x86_64.whl (1079.0 MB)\n",
            "\u001b[2K     \u001b[91m━━━━━━━━━\u001b[0m\u001b[90m╺\u001b[0m\u001b[90m━━━━━━━━━━━━━━━━━━━━━━━━━━━━━━\u001b[0m \u001b[32m0.3/1.1 GB\u001b[0m \u001b[31m195.9 MB/s\u001b[0m eta \u001b[36m0:00:05\u001b[0m"
          ]
        }
      ],
      "source": [
        "!pip install --extra-index-url=https://pypi.nvidia.com cuml-cu11 cudf-cu11 cugraph-cu11 pylibraft_cu11 raft_dask_cu11 dask_cudf_cu11 pylibcugraph_cu11 pylibraft_cu11\n",
        "import cuml,cudf\n",
        "print(cuml.__version__)\n",
        "\n",
        "!wget https://www.dropbox.com/s/owzp6af8v4vcp1s/sample-state-with-severity.csv.zip\n",
        "!unzip sample-state-with-severity.csv.zip\n",
        "\n",
        "!pip install -U --force git+https://github.com/graphistry/pygraphistry.git@cudf\n",
        "!pip install -U git+https://github.com/graphistry/cu-cat.git@DT\n",
        "!pip install dirty_cat \n",
        "!pip install umap-learn\n",
        "\n",
        "!nvidia-smi --query-gpu=gpu_name --format=csv\n",
        "!pip install nvsmi"
      ],
      "id": "pZ2B17Vp2EY1"
    },
    {
      "cell_type": "code",
      "execution_count": null,
      "metadata": {
        "id": "3EszGClHTCC_"
      },
      "outputs": [],
      "source": [
        "import cuml,cudf\n",
        "print(cuml.__version__)\n"
      ],
      "id": "3EszGClHTCC_"
    },
    {
      "cell_type": "code",
      "execution_count": null,
      "metadata": {
        "id": "219c6516-e381-4d41-aebb-a17704888e5a"
      },
      "outputs": [],
      "source": [
        "import locale\n",
        "def getpreferredencoding(do_setlocale = True):\n",
        "    return \"UTF-8\"\n",
        "locale.getpreferredencoding = getpreferredencoding"
      ],
      "id": "219c6516-e381-4d41-aebb-a17704888e5a"
    },
    {
      "cell_type": "code",
      "execution_count": null,
      "metadata": {
        "id": "9da43cdd-e7c2-45e2-83cb-e7b6a3efe896"
      },
      "outputs": [],
      "source": [
        "import os\n",
        "from collections import Counter\n",
        "import cProfile\n",
        "import pandas as pd\n",
        "import numpy as np\n",
        "import matplotlib.pyplot as plt\n",
        "from pstats import Stats\n",
        "import cudf\n",
        "from time import time\n",
        "import warnings\n",
        "warnings.filterwarnings('ignore')\n",
        "\n",
        "pd.set_option('display.max_colwidth', 200)"
      ],
      "id": "9da43cdd-e7c2-45e2-83cb-e7b6a3efe896"
    },
    {
      "cell_type": "code",
      "execution_count": null,
      "metadata": {
        "id": "af47c1f6-003b-4585-9722-c13d9a93eb4b"
      },
      "outputs": [],
      "source": [
        "import graphistry\n",
        "graphistry.register(api=3,protocol=\"https\", server=\"hub.graphistry.com\", username='dcolinmorgan', password='fXjJnkE3Gik6BWy') ## key id, secret key\n",
        "\n",
        "# graphistry.register(api=3,protocol=\"https\", server=\"hub.graphistry.com\", username='dcolinmorgan', password='***') ## key id, secret key\n",
        "graphistry.__version__\n",
        "\n",
        "import cu_cat\n",
        "print(cu_cat.__file__)"
      ],
      "id": "af47c1f6-003b-4585-9722-c13d9a93eb4b"
    },
    {
      "cell_type": "code",
      "execution_count": null,
      "metadata": {
        "id": "D5w567tn2Uok"
      },
      "outputs": [],
      "source": [
        "# !nvidia-smi --query-gpu=gpu_name --format=csv\n",
        "!nvidia-smi --query-gpu=gpu_name --format=csv,noheader\n",
        "# !nvidia-smi -L\n",
        "# import sys\n",
        "# import os\n",
        "\n",
        "# gpu=(sys.argv[1])\n",
        "# gpu\n",
        "import os"
      ],
      "id": "D5w567tn2Uok"
    },
    {
      "cell_type": "code",
      "source": [
        "# from google.colab import drive\n",
        "# drive.mount('/content/drive')"
      ],
      "metadata": {
        "id": "qEdei3vfcKeD"
      },
      "id": "qEdei3vfcKeD",
      "execution_count": null,
      "outputs": []
    },
    {
      "cell_type": "code",
      "source": [
        "\n",
        "filtered_state_df=pd.read_csv(\"sample-state-with-severity.csv\").drop(columns=[\"Unnamed: 0\"])\n",
        "\n",
        "# filtered_state_df.to_parquet('drugs/'+s+'_drugs.pq',compression='gzip',index=False)\n",
        "for d in pd.unique(filtered_state_df.DRUG_NAME)[0:2]:\n",
        "    filtered_state_df[\"DRUG_NAME\"] = filtered_state_df[\"DRUG_NAME\"].str.replace('\\t', '', regex=True)\n",
        "    # d='TAPENTADOL'\n",
        "    filtered_df = filtered_state_df[(filtered_state_df['DRUG_NAME']=='FENTANYL')]\n",
        "\n",
        "\n",
        "\n",
        "    filtered_df=filtered_df.rename(columns={\"('CALC_BASE_WT_IN_GM', 'sum')\":\"calc_weight_per_month_grams\",\"('DOSAGE_UNIT', 'sum')\":\"pills_per_month\" })\n",
        "    filtered_df[\"month\"]=pd.to_datetime(filtered_df[\"month_date\"],format='%Y-%m').dt.month\n",
        "    filtered_df[\"year\"]=pd.to_datetime(filtered_df[\"month_date\"],format='%Y-%m').dt.year\n",
        "    filtered_df.month_date = filtered_df.month_date.values.astype('datetime64[M]')\n",
        "    filtered_df=filtered_df.set_index(\"month_date\")\n",
        "    filtered_df = filtered_df.sort_index()\n",
        "\n",
        "    filtered_df[\"trailing six month avg\"]=filtered_df.groupby([\"BUYER_DEA_NO\",\"DRUG_NAME\",\"dos_str\",\"month_date\"])['pills_per_month'].transform(\"sum\").rolling(\"183d\",min_periods=1).mean()\n",
        "    filtered_df[\"yearly_average\"]=filtered_df.groupby([\"BUYER_DEA_NO\",\"DRUG_NAME\",\"dos_str\",\"year\"])['pills_per_month'].transform('mean')\n",
        "    filtered_df['2*TRAILING12']=2*filtered_df.groupby([\"BUYER_DEA_NO\",\"DRUG_NAME\",\"dos_str\",\"month_date\"])['pills_per_month'].transform(\"sum\").rolling(window=\"365D\",min_periods=1).mean()\n",
        "    filtered_df['3*TRAILING12']=3*filtered_df.groupby([\"BUYER_DEA_NO\",\"DRUG_NAME\",\"dos_str\",\"month_date\"])['pills_per_month'].transform(\"sum\").rolling(window=\"365D\",min_periods=1).mean()\n",
        "    filtered_df[\"Max monthly dosage units\"]=8000\n",
        "    filtered_df=filtered_df.reset_index()\n",
        "    filtered_df[\"exceeds_max_monthly_dosage_unit_threshhold\"] = filtered_df['pills_per_month'] > filtered_df[\"Max monthly dosage units\"]\n",
        "    filtered_df[\"exceeds_trailing_6_month_avg\"] = filtered_df['pills_per_month'] > filtered_df[\"trailing six month avg\"]\n",
        "    filtered_df[\"exceeds_3*TRAILING12_threshold\"] = filtered_df['pills_per_month'] > filtered_df['3*TRAILING12']\n",
        "    filtered_df[\"exceeds_2*TRAILING12_threshold\"] = filtered_df['pills_per_month'] > filtered_df['2*TRAILING12']\n",
        "    filtered_df[\"exceeds_yearly_avg\"] = filtered_df['pills_per_month'] > filtered_df['yearly_average']\n",
        "\n",
        "\n",
        "    sev_lst = dict()\n",
        "    for index in filtered_df.index:\n",
        "        sev_lst[index] = (filtered_df[\"exceeds_max_monthly_dosage_unit_threshhold\"][index].sum() +\n",
        "                          filtered_df[\"exceeds_trailing_6_month_avg\"][index].sum() +\n",
        "                          (2*filtered_df[\"exceeds_3*TRAILING12_threshold\"][index].sum()) +\n",
        "                          filtered_df[\"exceeds_2*TRAILING12_threshold\"][index].sum() +\n",
        "                          filtered_df[\"exceeds_yearly_avg\"][index].sum())/5\n",
        "    filtered_df[\"severity_level\"] = sev_lst\n",
        "\n",
        "\n",
        "\n",
        "    rows=filtered_df.groupby(['month','year','BUYER_DEA_NO','dos_str']).sum().reset_index()\n"
      ],
      "metadata": {
        "id": "iORJW4UxpX0v"
      },
      "id": "iORJW4UxpX0v",
      "execution_count": null,
      "outputs": []
    },
    {
      "cell_type": "code",
      "source": [
        "rows[['BUYER_STATE','DRUG_NAME','BUYER_BUS_ACT','BUYER_COUNTY','BUYER_DEA_NO','ds']]=filtered_df[filtered_df.columns[filtered_df.dtypes.eq('object')].tolist()]\n",
        "rows['month_date']=filtered_df.month_date\n",
        "rows.ds=pd.to_datetime(rows.ds)\n",
        "s = rows.select_dtypes(include='int').columns\n",
        "rows[s] = rows[s].astype(\"float\")"
      ],
      "metadata": {
        "id": "qbNUBV8gpX3k"
      },
      "id": "qbNUBV8gpX3k",
      "execution_count": null,
      "outputs": []
    },
    {
      "cell_type": "code",
      "source": [
        "import logging\n",
        "logging.basicConfig(level=logging.DEBUG)"
      ],
      "metadata": {
        "id": "YB_YbBjg0SI0"
      },
      "id": "YB_YbBjg0SI0",
      "execution_count": null,
      "outputs": []
    },
    {
      "cell_type": "code",
      "source": [
        "\n",
        "\n",
        "s = rows.select_dtypes(include='int').columns\n",
        "rows[s] = rows[s].astype(\"float\")\n",
        "rows.dtypes"
      ],
      "metadata": {
        "id": "A2Bn47sryC1d"
      },
      "id": "A2Bn47sryC1d",
      "execution_count": null,
      "outputs": []
    },
    {
      "cell_type": "code",
      "source": [
        "\n",
        "rows=rows.drop(columns=['month_date','ds'])\n",
        "g = graphistry.nodes(cudf.from_pandas(rows))\n",
        "X = ['DRUG_NAME',\"severity_level\",'BUYER_BUS_ACT',\"BUYER_COUNTY\"]\n",
        "\n",
        "# rows['feats'] = rows[X].astype(str).agg(' '.join, axis=1)\n",
        "g2=g.featurize(feature_engine='cu_cat',memoize=True)\n",
        "g3=g2.umap(X=X,engine='cuml')\n",
        "\n",
        "g3.bind(node=filtered_df.month_date)"
      ],
      "metadata": {
        "id": "4hu155yWphGw"
      },
      "id": "4hu155yWphGw",
      "execution_count": null,
      "outputs": []
    },
    {
      "cell_type": "code",
      "source": [],
      "metadata": {
        "id": "e0fGkyVHBomS"
      },
      "id": "e0fGkyVHBomS",
      "execution_count": null,
      "outputs": []
    },
    {
      "cell_type": "code",
      "source": [
        "# g3._nodes['month_date']=filtered_df.month_date\n",
        "g3.plot()"
      ],
      "metadata": {
        "id": "B7U-BvkCCPgd"
      },
      "id": "B7U-BvkCCPgd",
      "execution_count": null,
      "outputs": []
    },
    {
      "cell_type": "code",
      "source": [
        "# filtered_state_df=pd.read_parquet('/content/drive/MyDrive/graphistry/drugs/CA_drugs.pq')\n",
        "\n",
        "# A=pd.DataFrame(columns=['state','drug','gpu','dc-cuml'])\n",
        "# files=glob.glob('/content/drive/MyDrive/graphistry/drugs/*_drugs.pq')\n",
        "# # states = [\"AZ\", \"AR\", \"CA\", \"CO\", \"CT\", \"DC\", \"DE\", \"FL\", \"GA\", \"HI\", \"ID\", \"IL\", \"IN\", \"IA\", \"KS\", \"KY\", \"LA\", \"ME\", \"MD\", \"MA\", \"MI\", \"MN\", \"MS\", \"MO\", \"MT\", \"NE\", \"NV\", \"NH\", \"NJ\", \"NM\", \"NY\", \"NC\", \"ND\", \"OH\", \"OK\", \"OR\", \"PA\", \"RI\", \"SC\", \"SD\", \"TN\", \"TX\", \"UT\", \"VT\", \"VA\", \"WA\", \"WV\", \"WI\", \"WY\"]\n",
        "# # for s in states:\n",
        "#     # filtered_state_df=pd.read_parquet('/content/drive/MyDrive/graphistry/drugs/'+s+'_drugs.pq')\n",
        "# for f in files:\n",
        "#     filtered_state_df=pd.read_parquet(f)\n",
        "#     s=os.path.basename(f).str.strip('.pq')\n",
        "#     # state_df = ddf[ddf[\"BUYER_STATE\"].isin([s])]\n",
        "#     # filtered_state_df=state_df.compute().to_pandas()\n",
        "#     # filtered_state_df.to_parquet(s+'_drugs.pq',compression='gzip',index=False)\n",
        "#     for d in pd.unique(filtered_state_df.DRUG_NAME):\n",
        "#         filtered_state_df[\"DRUG_NAME\"] = filtered_state_df[\"DRUG_NAME\"].str.replace('\\t', '', regex=True)\n",
        "#         # d='TAPENTADOL'\n",
        "#         filtered_df = filtered_state_df[(filtered_state_df['DRUG_NAME']==d)]\n",
        "\n",
        "\n",
        "\n",
        "#         filtered_df=filtered_df.rename(columns={\"('CALC_BASE_WT_IN_GM', 'sum')\":\"calc_weight_per_month_grams\",\"('DOSAGE_UNIT', 'sum')\":\"pills_per_month\" })\n",
        "#         filtered_df[\"month\"]=pd.to_datetime(filtered_df[\"month_date\"],format='%Y-%m').dt.month\n",
        "#         filtered_df[\"year\"]=pd.to_datetime(filtered_df[\"month_date\"],format='%Y-%m').dt.year\n",
        "#         filtered_df.month_date = filtered_df.month_date.values.astype('datetime64[M]')\n",
        "#         filtered_df=filtered_df.set_index(\"month_date\")\n",
        "#         filtered_df = filtered_df.sort_index()\n",
        "\n",
        "#         filtered_df[\"trailing six month avg\"]=filtered_df.groupby([\"BUYER_DEA_NO\",\"DRUG_NAME\",\"dos_str\",\"month_date\"])['pills_per_month'].transform(\"sum\").rolling(\"183d\",min_periods=1).mean()\n",
        "#         filtered_df[\"yearly_average\"]=filtered_df.groupby([\"BUYER_DEA_NO\",\"DRUG_NAME\",\"dos_str\",\"year\"])['pills_per_month'].transform('mean')\n",
        "#         filtered_df['2*TRAILING12']=2*filtered_df.groupby([\"BUYER_DEA_NO\",\"DRUG_NAME\",\"dos_str\",\"month_date\"])['pills_per_month'].transform(\"sum\").rolling(window=\"365D\",min_periods=1).mean()\n",
        "#         filtered_df['3*TRAILING12']=3*filtered_df.groupby([\"BUYER_DEA_NO\",\"DRUG_NAME\",\"dos_str\",\"month_date\"])['pills_per_month'].transform(\"sum\").rolling(window=\"365D\",min_periods=1).mean()\n",
        "#         filtered_df[\"Max monthly dosage units\"]=8000\n",
        "#         filtered_df=filtered_df.reset_index()\n",
        "#         filtered_df[\"exceeds_max_monthly_dosage_unit_threshhold\"] = filtered_df['pills_per_month'] > filtered_df[\"Max monthly dosage units\"]\n",
        "#         filtered_df[\"exceeds_trailing_6_month_avg\"] = filtered_df['pills_per_month'] > filtered_df[\"trailing six month avg\"]\n",
        "#         filtered_df[\"exceeds_3*TRAILING12_threshold\"] = filtered_df['pills_per_month'] > filtered_df['3*TRAILING12']\n",
        "#         filtered_df[\"exceeds_2*TRAILING12_threshold\"] = filtered_df['pills_per_month'] > filtered_df['2*TRAILING12']\n",
        "#         filtered_df[\"exceeds_yearly_avg\"] = filtered_df['pills_per_month'] > filtered_df['yearly_average']\n",
        "\n",
        "\n",
        "#         sev_lst = dict()\n",
        "#         for index in filtered_df.index:\n",
        "#             sev_lst[index] = (filtered_df[\"exceeds_max_monthly_dosage_unit_threshhold\"][index].sum() +\n",
        "#                               filtered_df[\"exceeds_trailing_6_month_avg\"][index].sum() +\n",
        "#                               (2*filtered_df[\"exceeds_3*TRAILING12_threshold\"][index].sum()) +\n",
        "#                               filtered_df[\"exceeds_2*TRAILING12_threshold\"][index].sum() +\n",
        "#                               filtered_df[\"exceeds_yearly_avg\"][index].sum())/5\n",
        "#         filtered_df[\"severity_level\"] = sev_lst\n",
        "\n",
        "\n",
        "\n",
        "#         rows=filtered_df.groupby(['month','year','BUYER_DEA_NO','dos_str']).sum().reset_index()\n",
        "#         if rows.shape[0]<500000:\n",
        "#             g = graphistry.nodes(cudf.from_pandas(rows))\n",
        "#             t=time()\n",
        "#             g2=g.featurize(feature_engine='cu_cat',memoize=True)\n",
        "#             t1=time()-t\n",
        "#             t=time()\n",
        "#             g2.umap(engine='cuml')\n",
        "#             t2=time()-t\n",
        "\n",
        "#             # pd.DataFrame([['gpu',d,t1,t2,samp.shape[0]]]).to_csv('bench3.txt',mode='a',sep='\\t',index=None,header=None)\n",
        "\n",
        "#             g = graphistry.nodes((rows))\n",
        "#             t=time()\n",
        "#             g3=g.featurize(feature_engine='dirty_cat',memoize=True)\n",
        "#             t3=time()-t\n",
        "#             t=time()\n",
        "#             # try:\n",
        "#             g3.umap( engine='umap_learn')\n",
        "#             # except:\n",
        "#                 # pass\n",
        "#             del g, g3,g2\n",
        "#             t4=time()-t\n",
        "#             pd.DataFrame([[s,d,t1,t2,t3,t4,rows.shape[0]]]).to_csv('T4_eks_bench.txt',mode='a',sep='\\t',index=None,header=None)\n"
      ],
      "metadata": {
        "id": "SYIwchaycisJ"
      },
      "id": "SYIwchaycisJ",
      "execution_count": null,
      "outputs": []
    },
    {
      "cell_type": "code",
      "source": [
        "# filtered_df=pd.read_csv(\"sample-state-with-severity.csv\").drop(columns=[\"Unnamed: 0\"])\n",
        "# samp=filtered_df.sample(500000)\n",
        "\n",
        "# from graphistry.features import ModelDict, topic_model\n",
        "\n",
        "# X = ['DRUG_NAME',\"severity_level\",'BUYER_BUS_ACT',\"BUYER_COUNTY\",\"BUYER_STATE\"] #buyer_state and county only for multi states\n",
        "\n",
        "# # samp['feats'] = samp[X].astype(str).agg(' '.join, axis=1)\n",
        "# samp['month_date']=pd.to_datetime(samp['month_date'])\n",
        "# samp['day'] = samp['month_date'].dt.day\n",
        "# samp['month'] = samp['month_date'].dt.month\n",
        "# samp['year'] = samp['month_date'].dt.year\n",
        "\n",
        "# sampA=samp.drop(columns=['month_date','ds'])\n",
        "\n",
        "# # for j,d in enumerate(pd.unique(sampA.DRUG_NAME)):\n",
        "# for j,d in enumerate(['OXYCODONE','HYDROCODONE']):\n",
        "#     samp=sampA[sampA['DRUG_NAME']==d]\n",
        "#     if samp.shape[0]: #<80000:\n",
        "#         g = graphistry.nodes(cudf.from_pandas(samp))\n",
        "#         t=time()\n",
        "#         g2=g.featurize(feature_engine='cu_cat',memoize=True)\n",
        "#         t1=time()-t\n",
        "#         t=time()\n",
        "#         g2.umap(engine='cuml')\n",
        "#         t2=time()-t\n",
        "        \n",
        "#         # pd.DataFrame([['gpu',d,t1,t2,samp.shape[0]]]).to_csv('bench3.txt',mode='a',sep='\\t',index=None,header=None)\n",
        "        \n",
        "#         g = graphistry.nodes((samp))\n",
        "#         t=time()\n",
        "#         g3=g.featurize(feature_engine='dirty_cat',memoize=True)\n",
        "#         t3=time()-t\n",
        "#         t=time()\n",
        "#         # try:\n",
        "#         g3.umap( engine='umap_learn')\n",
        "#         # except:\n",
        "#             # pass\n",
        "#         del g, g3,g2\n",
        "#         t4=time()-t\n",
        "#         pd.DataFrame([[d,t1,t2,t3,t4,samp.shape[0]]]).to_csv('bench80k.txt',mode='a',sep='\\t',index=None,header=None)\n",
        "#         # pd.DataFrame([['cpu',d,t3,t4,samp.shape[0]]]).to_csv('bench3.txt',mode='a',sep='\\t',index=None,header=None)"
      ],
      "metadata": {
        "id": "TynqOl1p3FoG"
      },
      "id": "TynqOl1p3FoG",
      "execution_count": null,
      "outputs": []
    },
    {
      "cell_type": "code",
      "source": [
        "data=pd.read_csv('bench80k.txt',sep='\\t',header=None)\n",
        "data.columns=['drug','cu_cat','cuml','dirty_cat','umap_learn','dims']"
      ],
      "metadata": {
        "id": "J1sBsiksdchu"
      },
      "id": "J1sBsiksdchu",
      "execution_count": null,
      "outputs": []
    },
    {
      "cell_type": "code",
      "source": [
        "# data['umap_learn']=data.cpu-data.dirty_cat\n",
        "data['gpu']=data.cu_cat+data.cuml\n",
        "data['cpu']=data.dirty_cat+data.umap_learn"
      ],
      "metadata": {
        "id": "1R3dj2qTLDkZ"
      },
      "id": "1R3dj2qTLDkZ",
      "execution_count": null,
      "outputs": []
    },
    {
      "cell_type": "code",
      "source": [
        "# from google.colab import drive\n",
        "# drive.mount('/content/drive')\n",
        "# !cp *.txt /content/drive/MyDrive/graphistry/"
      ],
      "metadata": {
        "id": "86tPiZxbdGzl"
      },
      "id": "86tPiZxbdGzl",
      "execution_count": null,
      "outputs": []
    },
    {
      "cell_type": "code",
      "source": [],
      "metadata": {
        "id": "lX74mG4_Y2qd"
      },
      "id": "lX74mG4_Y2qd",
      "execution_count": null,
      "outputs": []
    },
    {
      "cell_type": "code",
      "source": [
        "# data=pd.read_csv('bench5.txt',sep='\\t',names=['drug','cu_cat','cuml','dirty_cat','cpu','dims'])\n",
        "\n",
        "RR=data.sort_values(by='cpu',ascending=False)#.to_csv('drug_bench.txt',sep='\\t',index=False)\n",
        "RR['drug_count']= RR.drug+'_'+RR.dims.astype(str) #.str.split(',').str[0].str.strip('(')\n",
        "# RR['umap_learn']=RR.cpu-RR.dirty_cat\n"
      ],
      "metadata": {
        "id": "gSlXNoVrY1gG"
      },
      "id": "gSlXNoVrY1gG",
      "execution_count": null,
      "outputs": []
    },
    {
      "cell_type": "code",
      "source": [
        "RR#.dims.astype(str)"
      ],
      "metadata": {
        "id": "kzrHU-PvB0o-"
      },
      "id": "kzrHU-PvB0o-",
      "execution_count": null,
      "outputs": []
    },
    {
      "cell_type": "code",
      "source": [
        "A=np.sum(RR.gpu)\n",
        "B=np.sum(RR.cpu)\n",
        "print('total gpu:' +str(A))\n",
        "print('total cpu:' +str(B))\n",
        "print('ratio:' +str(B/A))"
      ],
      "metadata": {
        "id": "7myb75krBD0_"
      },
      "id": "7myb75krBD0_",
      "execution_count": null,
      "outputs": []
    },
    {
      "cell_type": "code",
      "source": [
        "# RR.drop(columns=['drug','dims','cpu','gpu'],inplace=True)\n",
        "\n",
        "\n",
        "import matplotlib.pyplot as plt\n",
        "\n",
        "fig, axes = plt.subplots(nrows=1, ncols=2,figsize=(12, 4))\n",
        "\n",
        "RR.index=RR['drug_count']\n",
        "RR[['drug_count','cu_cat','cuml']].plot.bar(ax=axes[0],stacked=True)\n",
        "RR[['drug_count','dirty_cat','umap_learn']].plot.bar(ax=axes[1],stacked=True)\n",
        "\n",
        "axes[0].set_ylim([0, 20])\n",
        "axes[0].set_title('GPU time')\n",
        "axes[0].set_ylabel('seconds')\n",
        "axes[0].set_xlabel('drug and row count')\n",
        "# axes[0].set_yscale('log')\n",
        "\n",
        "axes[1].set_ylim([0, 500])\n",
        "# axes[1].set_yscale('log')\n",
        "axes[1].set_title('CPU time')\n",
        "axes[1].set_xlabel('drug and row count')\n",
        "fig.suptitle('Massachusetts')\n",
        "fig.autofmt_xdate(rotation=45)"
      ],
      "metadata": {
        "id": "swMeOywDqdar"
      },
      "id": "swMeOywDqdar",
      "execution_count": null,
      "outputs": []
    },
    {
      "cell_type": "code",
      "source": [],
      "metadata": {
        "id": "j0tb7nx1qJRw"
      },
      "id": "j0tb7nx1qJRw",
      "execution_count": null,
      "outputs": []
    }
  ],
  "metadata": {
    "accelerator": "GPU",
    "colab": {
      "machine_shape": "hm",
      "provenance": [],
      "gpuType": "T4",
      "gpuClass": "premium",
      "include_colab_link": true
    },
    "gpuClass": "premium",
    "kernelspec": {
      "display_name": "Python 3",
      "name": "python3"
    },
    "language_info": {
      "codemirror_mode": {
        "name": "ipython",
        "version": 3
      },
      "file_extension": ".py",
      "mimetype": "text/x-python",
      "name": "python",
      "nbconvert_exporter": "python",
      "pygments_lexer": "ipython3",
      "version": "3.8.13"
    }
  },
  "nbformat": 4,
  "nbformat_minor": 5
}