{
  "cells": [
    {
      "cell_type": "markdown",
      "metadata": {
        "id": "view-in-github",
        "colab_type": "text"
      },
      "source": [
        "<a href=\"https://colab.research.google.com/github/dcolinmorgan/grph/blob/main/bench_cody.ipynb\" target=\"_parent\"><img src=\"https://colab.research.google.com/assets/colab-badge.svg\" alt=\"Open In Colab\"/></a>"
      ]
    },
    {
      "cell_type": "markdown",
      "source": [
        "# gpu demo for cody"
      ],
      "metadata": {
        "id": "4Y1PPZV1dpo9"
      },
      "id": "4Y1PPZV1dpo9"
    },
    {
      "cell_type": "code",
      "execution_count": 1,
      "metadata": {
        "id": "pZ2B17Vp2EY1"
      },
      "outputs": [],
      "source": [
        "# !pip install --extra-index-url=https://pypi.nvidia.com cuml-cu11 cudf-cu11 cugraph-cu11 pylibraft_cu11 raft_dask_cu11 dask_cudf_cu11 pylibcugraph_cu11 pylibraft_cu11\n",
        "# import cuml,cudf\n",
        "# print(cuml.__version__)\n",
        "\n",
        "# !wget https://www.dropbox.com/s/owzp6af8v4vcp1s/sample-state-with-severity.csv.zip\n",
        "# !unzip sample-state-with-severity.csv.zip\n",
        "\n",
        "# !pip install -U --force git+https://github.com/graphistry/pygraphistry.git@cudf\n",
        "# !pip install -U git+https://github.com/graphistry/cu-cat.git@DT\n",
        "# !pip install dirty_cat \n",
        "# !pip install umap-learn\n",
        "\n",
        "# !nvidia-smi --query-gpu=gpu_name --format=csv\n",
        "# !pip install nvsmi"
      ],
      "id": "pZ2B17Vp2EY1"
    },
    {
      "cell_type": "code",
      "execution_count": 2,
      "metadata": {
        "id": "3EszGClHTCC_",
        "colab": {
          "base_uri": "https://localhost:8080/"
        },
        "outputId": "3845b353-2a95-49d9-b4ec-dd46275cb08a"
      },
      "outputs": [
        {
          "output_type": "stream",
          "name": "stderr",
          "text": [
            "<frozen importlib._bootstrap>:241: RuntimeWarning: pyarrow.lib.IpcWriteOptions size changed, may indicate binary incompatibility. Expected 72 from C header, got 88 from PyObject\n"
          ]
        },
        {
          "output_type": "stream",
          "name": "stdout",
          "text": [
            "23.04.01\n"
          ]
        }
      ],
      "source": [
        "import cuml,cudf\n",
        "print(cuml.__version__)\n"
      ],
      "id": "3EszGClHTCC_"
    },
    {
      "cell_type": "code",
      "execution_count": 3,
      "metadata": {
        "id": "219c6516-e381-4d41-aebb-a17704888e5a"
      },
      "outputs": [],
      "source": [
        "import locale\n",
        "def getpreferredencoding(do_setlocale = True):\n",
        "    return \"UTF-8\"\n",
        "locale.getpreferredencoding = getpreferredencoding"
      ],
      "id": "219c6516-e381-4d41-aebb-a17704888e5a"
    },
    {
      "cell_type": "code",
      "execution_count": 4,
      "metadata": {
        "id": "9da43cdd-e7c2-45e2-83cb-e7b6a3efe896"
      },
      "outputs": [],
      "source": [
        "import os\n",
        "from collections import Counter\n",
        "import cProfile\n",
        "import pandas as pd\n",
        "import numpy as np\n",
        "import matplotlib.pyplot as plt\n",
        "from pstats import Stats\n",
        "import cudf\n",
        "from time import time\n",
        "import warnings\n",
        "warnings.filterwarnings('ignore')\n",
        "\n",
        "pd.set_option('display.max_colwidth', 200)"
      ],
      "id": "9da43cdd-e7c2-45e2-83cb-e7b6a3efe896"
    },
    {
      "cell_type": "code",
      "execution_count": 5,
      "metadata": {
        "id": "af47c1f6-003b-4585-9722-c13d9a93eb4b",
        "colab": {
          "base_uri": "https://localhost:8080/"
        },
        "outputId": "babbd29a-a543-4902-f554-6aeeed10cbe3"
      },
      "outputs": [
        {
          "output_type": "stream",
          "name": "stdout",
          "text": [
            "/usr/local/lib/python3.10/dist-packages/cu_cat/__init__.py\n"
          ]
        }
      ],
      "source": [
        "import graphistry\n",
        "graphistry.register(api=3,protocol=\"https\", server=\"hub.graphistry.com\", username='dcolinmorgan', password='fXjJnkE3Gik6BWy') ## key id, secret key\n",
        "\n",
        "# graphistry.register(api=3,protocol=\"https\", server=\"hub.graphistry.com\", username='dcolinmorgan', password='***') ## key id, secret key\n",
        "graphistry.__version__\n",
        "\n",
        "import cu_cat\n",
        "print(cu_cat.__file__)"
      ],
      "id": "af47c1f6-003b-4585-9722-c13d9a93eb4b"
    },
    {
      "cell_type": "code",
      "execution_count": 6,
      "metadata": {
        "id": "D5w567tn2Uok",
        "colab": {
          "base_uri": "https://localhost:8080/"
        },
        "outputId": "0fcabba9-32c8-422a-d145-333dfd315ef8"
      },
      "outputs": [
        {
          "output_type": "stream",
          "name": "stdout",
          "text": [
            "Tesla T4\n"
          ]
        }
      ],
      "source": [
        "# !nvidia-smi --query-gpu=gpu_name --format=csv\n",
        "!nvidia-smi --query-gpu=gpu_name --format=csv,noheader\n",
        "# !nvidia-smi -L\n",
        "# import sys\n",
        "# import os\n",
        "\n",
        "# gpu=(sys.argv[1])\n",
        "# gpu\n",
        "import os"
      ],
      "id": "D5w567tn2Uok"
    },
    {
      "cell_type": "code",
      "source": [
        "import nvsmi\n",
        "gpu=str(nvsmi.get_gpu_processes()).split('|')[3].split(':')[1]"
      ],
      "metadata": {
        "id": "AuJH7SQMmllb"
      },
      "id": "AuJH7SQMmllb",
      "execution_count": 7,
      "outputs": []
    },
    {
      "cell_type": "code",
      "source": [
        "filtered_df=pd.read_csv(\"sample-state-with-severity.csv\").drop(columns=[\"Unnamed: 0\"])\n",
        "samp=filtered_df.sample(500000)\n",
        "\n",
        "from graphistry.features import ModelDict, topic_model\n",
        "\n",
        "X = ['DRUG_NAME',\"severity_level\",'BUYER_BUS_ACT',\"BUYER_COUNTY\",\"BUYER_STATE\"] #buyer_state and county only for multi states\n",
        "\n",
        "# samp['feats'] = samp[X].astype(str).agg(' '.join, axis=1)\n",
        "samp['month_date']=pd.to_datetime(samp['month_date'])\n",
        "samp['day'] = samp['month_date'].dt.day\n",
        "samp['month'] = samp['month_date'].dt.month\n",
        "samp['year'] = samp['month_date'].dt.year\n",
        "\n",
        "sampA=samp.drop(columns=['month_date','ds'])\n",
        "\n",
        "for j,d in enumerate(pd.unique(sampA.DRUG_NAME)):\n",
        "    samp=sampA[sampA['DRUG_NAME']==d]\n",
        "    if samp.shape[0]<35000:\n",
        "        g = graphistry.nodes(cudf.from_pandas(samp))\n",
        "        t=time()\n",
        "        g2=g.featurize(feature_engine='cu_cat',memoize=True)\n",
        "        t1=time()-t\n",
        "        t=time()\n",
        "        g2.umap(X=X, engine='cuml')\n",
        "        t2=time()-t\n",
        "        \n",
        "        pd.DataFrame([['gpu',d,t1,t2,samp.shape[0]]]).to_csv('bench3.txt',mode='a',sep='\\t',index=None,header=None)\n",
        "        \n",
        "        g = graphistry.nodes((samp))\n",
        "        t=time()\n",
        "        g3=g.featurize(feature_engine='dirty_cat',memoize=True)\n",
        "        t3=time()-t\n",
        "        t=time()\n",
        "        # try:\n",
        "        g.umap(X=X, feature_engine='dirty_cat', engine='umap_learn')\n",
        "        # except:\n",
        "            # pass\n",
        "        t4=time()-t\n",
        "        pd.DataFrame([['cpu',d,t3,t4,samp.shape[0]]]).to_csv('bench3.txt',mode='a',sep='\\t',index=None,header=None)"
      ],
      "metadata": {
        "id": "TynqOl1p3FoG",
        "colab": {
          "base_uri": "https://localhost:8080/"
        },
        "outputId": "cf9be96d-f0d0-4f4a-836e-d563390559c2"
      },
      "id": "TynqOl1p3FoG",
      "execution_count": 91,
      "outputs": [
        {
          "output_type": "stream",
          "name": "stderr",
          "text": [
            "WARNING:root:! Failed featurize speedup attempt. Continuing without memoization speedups.WARNING:root:Target is not of type(DataFrame) and has no columns"
          ]
        },
        {
          "output_type": "stream",
          "name": "stdout",
          "text": [
            "Featurizing nodes with feature_engine=cu_cat\n",
            "Using GPU: cu_cat\n"
          ]
        },
        {
          "output_type": "stream",
          "name": "stderr",
          "text": [
            "WARNING:root:! Failed featurize speedup attempt. Continuing without memoization speedups.WARNING:root:Target is not of type(DataFrame) and has no columns"
          ]
        },
        {
          "output_type": "stream",
          "name": "stdout",
          "text": [
            "Using GPU: cu_cat\n"
          ]
        },
        {
          "output_type": "stream",
          "name": "stderr",
          "text": [
            "WARNING:root:! Failed umap speedup attempt. Continuing without memoization speedups.WARNING:graphistry.umap_utils:* Ignoring target column of shape (34609, 0) in UMAP fit, as it is not one dimensional"
          ]
        },
        {
          "output_type": "stream",
          "name": "stdout",
          "text": [
            "Featurizing nodes with feature_engine=dirty_cat\n",
            "Using GPU: dirty_cat\n",
            "Using GPU: dirty_cat\n"
          ]
        },
        {
          "output_type": "stream",
          "name": "stderr",
          "text": [
            "WARNING:graphistry.umap_utils:* Ignoring target column of shape (34609, 0) in UMAP fit, as it is not one dimensionalWARNING:root:! Failed featurize speedup attempt. Continuing without memoization speedups.WARNING:root:Target is not of type(DataFrame) and has no columns"
          ]
        },
        {
          "output_type": "stream",
          "name": "stdout",
          "text": [
            "Featurizing nodes with feature_engine=cu_cat\n",
            "Using GPU: cu_cat\n"
          ]
        },
        {
          "output_type": "stream",
          "name": "stderr",
          "text": [
            "WARNING:root:! Failed featurize speedup attempt. Continuing without memoization speedups.WARNING:root:Target is not of type(DataFrame) and has no columns"
          ]
        },
        {
          "output_type": "stream",
          "name": "stdout",
          "text": [
            "Using GPU: cu_cat\n"
          ]
        },
        {
          "output_type": "stream",
          "name": "stderr",
          "text": [
            "WARNING:root:! Failed umap speedup attempt. Continuing without memoization speedups.WARNING:graphistry.umap_utils:* Ignoring target column of shape (5500, 0) in UMAP fit, as it is not one dimensional"
          ]
        },
        {
          "output_type": "stream",
          "name": "stdout",
          "text": [
            "Featurizing nodes with feature_engine=dirty_cat\n",
            "Using GPU: dirty_cat\n"
          ]
        },
        {
          "output_type": "stream",
          "name": "stderr",
          "text": [
            "WARNING:graphistry.umap_utils:* Ignoring target column of shape (5500, 0) in UMAP fit, as it is not one dimensional"
          ]
        },
        {
          "output_type": "stream",
          "name": "stdout",
          "text": [
            "Using GPU: dirty_cat\n"
          ]
        },
        {
          "output_type": "stream",
          "name": "stderr",
          "text": [
            "WARNING:root:! Failed featurize speedup attempt. Continuing without memoization speedups.WARNING:root:Target is not of type(DataFrame) and has no columns"
          ]
        },
        {
          "output_type": "stream",
          "name": "stdout",
          "text": [
            "Featurizing nodes with feature_engine=cu_cat\n",
            "Using GPU: cu_cat\n"
          ]
        },
        {
          "output_type": "stream",
          "name": "stderr",
          "text": [
            "WARNING:root:! Failed featurize speedup attempt. Continuing without memoization speedups.WARNING:root:Target is not of type(DataFrame) and has no columns"
          ]
        },
        {
          "output_type": "stream",
          "name": "stdout",
          "text": [
            "Using GPU: cu_cat\n"
          ]
        },
        {
          "output_type": "stream",
          "name": "stderr",
          "text": [
            "WARNING:root:! Failed umap speedup attempt. Continuing without memoization speedups.WARNING:graphistry.umap_utils:* Ignoring target column of shape (111, 0) in UMAP fit, as it is not one dimensional"
          ]
        },
        {
          "output_type": "stream",
          "name": "stdout",
          "text": [
            "Featurizing nodes with feature_engine=dirty_cat\n",
            "Using GPU: dirty_cat\n"
          ]
        },
        {
          "output_type": "stream",
          "name": "stderr",
          "text": [
            "WARNING:graphistry.umap_utils:* Ignoring target column of shape (111, 0) in UMAP fit, as it is not one dimensional"
          ]
        },
        {
          "output_type": "stream",
          "name": "stdout",
          "text": [
            "Using GPU: dirty_cat\n"
          ]
        },
        {
          "output_type": "stream",
          "name": "stderr",
          "text": [
            "WARNING:root:! Failed featurize speedup attempt. Continuing without memoization speedups.WARNING:root:Target is not of type(DataFrame) and has no columns"
          ]
        },
        {
          "output_type": "stream",
          "name": "stdout",
          "text": [
            "Featurizing nodes with feature_engine=cu_cat\n",
            "Using GPU: cu_cat\n"
          ]
        },
        {
          "output_type": "stream",
          "name": "stderr",
          "text": [
            "WARNING:root:! Failed featurize speedup attempt. Continuing without memoization speedups.WARNING:root:Target is not of type(DataFrame) and has no columns"
          ]
        },
        {
          "output_type": "stream",
          "name": "stdout",
          "text": [
            "Using GPU: cu_cat\n"
          ]
        },
        {
          "output_type": "stream",
          "name": "stderr",
          "text": [
            "WARNING:root:! Failed umap speedup attempt. Continuing without memoization speedups.WARNING:graphistry.umap_utils:* Ignoring target column of shape (5605, 0) in UMAP fit, as it is not one dimensional"
          ]
        },
        {
          "output_type": "stream",
          "name": "stdout",
          "text": [
            "Featurizing nodes with feature_engine=dirty_cat\n",
            "Using GPU: dirty_cat\n"
          ]
        },
        {
          "output_type": "stream",
          "name": "stderr",
          "text": [
            "WARNING:graphistry.umap_utils:* Ignoring target column of shape (5605, 0) in UMAP fit, as it is not one dimensional"
          ]
        },
        {
          "output_type": "stream",
          "name": "stdout",
          "text": [
            "Using GPU: dirty_cat\n"
          ]
        },
        {
          "output_type": "stream",
          "name": "stderr",
          "text": [
            "WARNING:root:! Failed featurize speedup attempt. Continuing without memoization speedups.WARNING:root:Target is not of type(DataFrame) and has no columns"
          ]
        },
        {
          "output_type": "stream",
          "name": "stdout",
          "text": [
            "Featurizing nodes with feature_engine=cu_cat\n",
            "Using GPU: cu_cat\n"
          ]
        },
        {
          "output_type": "stream",
          "name": "stderr",
          "text": [
            "WARNING:root:! Failed featurize speedup attempt. Continuing without memoization speedups.WARNING:root:Target is not of type(DataFrame) and has no columns"
          ]
        },
        {
          "output_type": "stream",
          "name": "stdout",
          "text": [
            "Using GPU: cu_cat\n"
          ]
        },
        {
          "output_type": "stream",
          "name": "stderr",
          "text": [
            "WARNING:root:! Failed umap speedup attempt. Continuing without memoization speedups.WARNING:graphistry.umap_utils:* Ignoring target column of shape (350, 0) in UMAP fit, as it is not one dimensional"
          ]
        },
        {
          "output_type": "stream",
          "name": "stdout",
          "text": [
            "Featurizing nodes with feature_engine=dirty_cat\n",
            "Using GPU: dirty_cat\n"
          ]
        },
        {
          "output_type": "stream",
          "name": "stderr",
          "text": [
            "WARNING:graphistry.umap_utils:* Ignoring target column of shape (350, 0) in UMAP fit, as it is not one dimensional"
          ]
        },
        {
          "output_type": "stream",
          "name": "stdout",
          "text": [
            "Using GPU: dirty_cat\n"
          ]
        },
        {
          "output_type": "stream",
          "name": "stderr",
          "text": [
            "WARNING:root:! Failed featurize speedup attempt. Continuing without memoization speedups.WARNING:root:Target is not of type(DataFrame) and has no columns"
          ]
        },
        {
          "output_type": "stream",
          "name": "stdout",
          "text": [
            "Featurizing nodes with feature_engine=cu_cat\n",
            "Using GPU: cu_cat\n"
          ]
        },
        {
          "output_type": "stream",
          "name": "stderr",
          "text": [
            "WARNING:root:! Failed featurize speedup attempt. Continuing without memoization speedups.WARNING:root:Target is not of type(DataFrame) and has no columns"
          ]
        },
        {
          "output_type": "stream",
          "name": "stdout",
          "text": [
            "Using GPU: cu_cat\n"
          ]
        },
        {
          "output_type": "stream",
          "name": "stderr",
          "text": [
            "WARNING:root:! Failed umap speedup attempt. Continuing without memoization speedups.WARNING:graphistry.umap_utils:* Ignoring target column of shape (4268, 0) in UMAP fit, as it is not one dimensional"
          ]
        },
        {
          "output_type": "stream",
          "name": "stdout",
          "text": [
            "Featurizing nodes with feature_engine=dirty_cat\n",
            "Using GPU: dirty_cat\n"
          ]
        },
        {
          "output_type": "stream",
          "name": "stderr",
          "text": [
            "WARNING:graphistry.umap_utils:* Ignoring target column of shape (4268, 0) in UMAP fit, as it is not one dimensional"
          ]
        },
        {
          "output_type": "stream",
          "name": "stdout",
          "text": [
            "Using GPU: dirty_cat\n"
          ]
        },
        {
          "output_type": "stream",
          "name": "stderr",
          "text": [
            "WARNING:root:! Failed featurize speedup attempt. Continuing without memoization speedups.WARNING:root:Target is not of type(DataFrame) and has no columns"
          ]
        },
        {
          "output_type": "stream",
          "name": "stdout",
          "text": [
            "Featurizing nodes with feature_engine=cu_cat\n",
            "Using GPU: cu_cat\n"
          ]
        },
        {
          "output_type": "stream",
          "name": "stderr",
          "text": [
            "WARNING:root:! Failed featurize speedup attempt. Continuing without memoization speedups.WARNING:root:Target is not of type(DataFrame) and has no columns"
          ]
        },
        {
          "output_type": "stream",
          "name": "stdout",
          "text": [
            "Using GPU: cu_cat\n"
          ]
        },
        {
          "output_type": "stream",
          "name": "stderr",
          "text": [
            "WARNING:root:! Failed umap speedup attempt. Continuing without memoization speedups.WARNING:graphistry.umap_utils:* Ignoring target column of shape (1021, 0) in UMAP fit, as it is not one dimensional"
          ]
        },
        {
          "output_type": "stream",
          "name": "stdout",
          "text": [
            "Featurizing nodes with feature_engine=dirty_cat\n",
            "Using GPU: dirty_cat\n"
          ]
        },
        {
          "output_type": "stream",
          "name": "stderr",
          "text": [
            "WARNING:graphistry.umap_utils:* Ignoring target column of shape (1021, 0) in UMAP fit, as it is not one dimensional"
          ]
        },
        {
          "output_type": "stream",
          "name": "stdout",
          "text": [
            "Using GPU: dirty_cat\n"
          ]
        }
      ]
    },
    {
      "cell_type": "code",
      "source": [
        "data=pd.read_csv('bench3.txt',sep='\\t',header=None)\n",
        "data.columns=['drug','cu_cat','cuml','dirty_cat','cpu','dims']"
      ],
      "metadata": {
        "id": "J1sBsiksdchu"
      },
      "id": "J1sBsiksdchu",
      "execution_count": 22,
      "outputs": []
    },
    {
      "cell_type": "code",
      "source": [
        "data['umap_learn']=data.cpu-data.dirty_cat\n",
        "data['gpu']=data.cu_cat+data.cuml"
      ],
      "metadata": {
        "id": "1R3dj2qTLDkZ"
      },
      "id": "1R3dj2qTLDkZ",
      "execution_count": 23,
      "outputs": []
    },
    {
      "cell_type": "code",
      "source": [
        "# from google.colab import drive\n",
        "# drive.mount('/content/drive')\n",
        "# !cp *.txt /content/drive/MyDrive/graphistry/"
      ],
      "metadata": {
        "id": "86tPiZxbdGzl"
      },
      "id": "86tPiZxbdGzl",
      "execution_count": 160,
      "outputs": []
    },
    {
      "cell_type": "code",
      "source": [],
      "metadata": {
        "id": "lX74mG4_Y2qd"
      },
      "id": "lX74mG4_Y2qd",
      "execution_count": 30,
      "outputs": []
    },
    {
      "cell_type": "code",
      "source": [
        "data=pd.read_csv('bench2.txt',sep='\\t',names=['drug','cu_cat','cuml','dirty_cat','cpu','dims'])\n",
        "\n",
        "RR=data[7:].sort_values(by='cpu',ascending=False)#.to_csv('drug_bench.txt',sep='\\t',index=False)\n",
        "RR['drug_count']= RR.drug+'_'+RR.dims.str.split(',').str[0].str.strip('(')\n",
        "RR['umap_learn']=RR.cpu-RR.dirty_cat\n",
        "RR.drop(columns=['drug','dims','cpu'],inplace=True)\n"
      ],
      "metadata": {
        "id": "gSlXNoVrY1gG"
      },
      "id": "gSlXNoVrY1gG",
      "execution_count": 132,
      "outputs": []
    },
    {
      "cell_type": "code",
      "source": [
        "import matplotlib.pyplot as plt\n",
        "\n",
        "fig, axes = plt.subplots(nrows=1, ncols=2,figsize=(8, 4))\n",
        "\n",
        "RR.index=RR['drug_count']\n",
        "RR[['drug_count','cu_cat','cuml']].plot.bar(ax=axes[0],stacked=True)\n",
        "RR[['drug_count','dirty_cat','umap_learn']].plot.bar(ax=axes[1],stacked=True)\n",
        "\n",
        "axes[0].set_ylim([0, 100])\n",
        "axes[0].set_title('GPU time')\n",
        "axes[0].set_ylabel('seconds')\n",
        "axes[0].set_xlabel('drug and row count')\n",
        "\n",
        "axes[1].set_ylim([0, 100])\n",
        "axes[1].set_title('CPU time')\n",
        "axes[1].set_xlabel('drug and row count')\n",
        "fig.suptitle('Massachusetts')\n",
        "fig.autofmt_xdate(rotation=45)"
      ],
      "metadata": {
        "colab": {
          "base_uri": "https://localhost:8080/",
          "height": 502
        },
        "id": "swMeOywDqdar",
        "outputId": "2cc56a0c-b93f-4c1b-d76b-975ab8bc6eb1"
      },
      "id": "swMeOywDqdar",
      "execution_count": 159,
      "outputs": [
        {
          "output_type": "display_data",
          "data": {
            "text/plain": [
              "<Figure size 800x400 with 2 Axes>"
            ],
            "image/png": "[encoded data removed]"
          },
          "metadata": {}
        }
      ]
    },
    {
      "cell_type": "code",
      "source": [],
      "metadata": {
        "id": "j0tb7nx1qJRw"
      },
      "id": "j0tb7nx1qJRw",
      "execution_count": null,
      "outputs": []
    }
  ],
  "metadata": {
    "accelerator": "GPU",
    "colab": {
      "machine_shape": "hm",
      "provenance": [],
      "gpuType": "T4",
      "gpuClass": "premium",
      "include_colab_link": true
    },
    "gpuClass": "premium",
    "kernelspec": {
      "display_name": "Python 3 (ipykernel)",
      "language": "python",
      "name": "python3"
    },
    "language_info": {
      "codemirror_mode": {
        "name": "ipython",
        "version": 3
      },
      "file_extension": ".py",
      "mimetype": "text/x-python",
      "name": "python",
      "nbconvert_exporter": "python",
      "pygments_lexer": "ipython3",
      "version": "3.8.13"
    }
  },
  "nbformat": 4,
  "nbformat_minor": 5
}