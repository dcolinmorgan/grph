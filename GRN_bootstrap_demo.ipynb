{
  "cells": [
    {
      "cell_type": "markdown",
      "metadata": {
        "id": "view-in-github",
        "colab_type": "text"
      },
      "source": [
        "<a href=\"https://colab.research.google.com/github/dcolinmorgan/grph/blob/main/GRN_bootstrap_demo.ipynb\" target=\"_parent\"><img src=\"https://colab.research.google.com/assets/colab-badge.svg\" alt=\"Open In Colab\"/></a>"
      ]
    },
    {
      "cell_type": "markdown",
      "source": [
        "# ScenicPlus Bootstrap tutorial"
      ],
      "metadata": {
        "id": "9sUt3qc4bS4D"
      }
    },
    {
      "cell_type": "markdown",
      "source": [
        "## gather multiple runs"
      ],
      "metadata": {
        "id": "awpzKuCrbZBZ"
      }
    },
    {
      "cell_type": "code",
      "execution_count": null,
      "metadata": {
        "id": "gHUrAaGHYBJh"
      },
      "outputs": [],
      "source": [
        "# import pandas as pd\n",
        "# import os\n",
        "\n",
        "# # Specify the base directory to search for files\n",
        "# base_directory = '/Users/apple/Developer/dcolinmorgan/scenicplus/scplus_pipeline'\n",
        "\n",
        "# # List to hold DataFrames\n",
        "# dataframes = []\n",
        "\n",
        "# # Loop through the directory and its subdirectories\n",
        "# for root, dirs, files in os.walk(base_directory):\n",
        "#     for file in files:\n",
        "#         if file == 'eRegulon*.tsv': # s_extended.tsv':  # Check for the specific file name\n",
        "#             file_path = os.path.join(root, file)  # Get the full file path\n",
        "#             df = pd.read_csv(file_path, sep='\\t')  # Load the DataFrame (assuming tab-separated values)\n",
        "#             df['source_file'] = file_path  # Add a new column with the file path\n",
        "#             dataframes.append(df)  # Append to the list\n",
        "\n",
        "# # Optionally, concatenate all DataFrames into a single DataFrame\n",
        "# combined_df = pd.concat(dataframes, ignore_index=True)\n",
        "\n",
        "# # Print the combined DataFrame\n",
        "# print(combined_df)\n"
      ]
    },
    {
      "cell_type": "code",
      "source": [
        "import pandas as pd\n",
        "# !zip -d /content/drive/MyDrive/SU/GRN-bootstrap-chapter/directANDextended_combined_df.txt.zip __MACOSX/\\*\n",
        "data=pd.read_csv('/content/drive/MyDrive/SU/GRN-bootstrap-chapter/directANDextended_combined_df.txt.zip',sep='\\t')"
      ],
      "metadata": {
        "colab": {
          "base_uri": "https://localhost:8080/"
        },
        "id": "--MuVeuj3RVP",
        "outputId": "b650dbb3-ce6a-42b1-de33-19ebc63c802d"
      },
      "execution_count": null,
      "outputs": [
        {
          "output_type": "stream",
          "name": "stdout",
          "text": [
            "deleting: __MACOSX/._directANDextended_combined_df.txt\n"
          ]
        }
      ]
    },
    {
      "cell_type": "code",
      "source": [
        "data.source_file=data.source_file.str.split('/').str[7]"
      ],
      "metadata": {
        "id": "83epi_CO3Xtw"
      },
      "execution_count": null,
      "outputs": []
    },
    {
      "cell_type": "markdown",
      "source": [
        "## naive edge count per ScenicPlus run"
      ],
      "metadata": {
        "id": "XIXhwNVEYgc_"
      }
    },
    {
      "cell_type": "code",
      "source": [
        "count=data.source_file.value_counts()\n",
        "count"
      ],
      "metadata": {
        "colab": {
          "base_uri": "https://localhost:8080/",
          "height": 429
        },
        "id": "q-ITZGFu3ZD8",
        "outputId": "8c24e1b0-aad6-4b80-cada-3b9bf7776926"
      },
      "execution_count": null,
      "outputs": [
        {
          "output_type": "execute_result",
          "data": {
            "text/plain": [
              "source_file\n",
              "run6     144113\n",
              "run10    138891\n",
              "run4     136875\n",
              "run3     133909\n",
              "run9     132933\n",
              "run2     131809\n",
              "run8     128147\n",
              "run7     126583\n",
              "run1     118074\n",
              "run5     112721\n",
              "Name: count, dtype: int64"
            ],
            "text/html": [
              "<div>\n",
              "<style scoped>\n",
              "    .dataframe tbody tr th:only-of-type {\n",
              "        vertical-align: middle;\n",
              "    }\n",
              "\n",
              "    .dataframe tbody tr th {\n",
              "        vertical-align: top;\n",
              "    }\n",
              "\n",
              "    .dataframe thead th {\n",
              "        text-align: right;\n",
              "    }\n",
              "</style>\n",
              "<table border=\"1\" class=\"dataframe\">\n",
              "  <thead>\n",
              "    <tr style=\"text-align: right;\">\n",
              "      <th></th>\n",
              "      <th>count</th>\n",
              "    </tr>\n",
              "    <tr>\n",
              "      <th>source_file</th>\n",
              "      <th></th>\n",
              "    </tr>\n",
              "  </thead>\n",
              "  <tbody>\n",
              "    <tr>\n",
              "      <th>run6</th>\n",
              "      <td>144113</td>\n",
              "    </tr>\n",
              "    <tr>\n",
              "      <th>run10</th>\n",
              "      <td>138891</td>\n",
              "    </tr>\n",
              "    <tr>\n",
              "      <th>run4</th>\n",
              "      <td>136875</td>\n",
              "    </tr>\n",
              "    <tr>\n",
              "      <th>run3</th>\n",
              "      <td>133909</td>\n",
              "    </tr>\n",
              "    <tr>\n",
              "      <th>run9</th>\n",
              "      <td>132933</td>\n",
              "    </tr>\n",
              "    <tr>\n",
              "      <th>run2</th>\n",
              "      <td>131809</td>\n",
              "    </tr>\n",
              "    <tr>\n",
              "      <th>run8</th>\n",
              "      <td>128147</td>\n",
              "    </tr>\n",
              "    <tr>\n",
              "      <th>run7</th>\n",
              "      <td>126583</td>\n",
              "    </tr>\n",
              "    <tr>\n",
              "      <th>run1</th>\n",
              "      <td>118074</td>\n",
              "    </tr>\n",
              "    <tr>\n",
              "      <th>run5</th>\n",
              "      <td>112721</td>\n",
              "    </tr>\n",
              "  </tbody>\n",
              "</table>\n",
              "</div><br><label><b>dtype:</b> int64</label>"
            ]
          },
          "metadata": {},
          "execution_count": 102
        }
      ]
    },
    {
      "cell_type": "code",
      "source": [
        "data[['Gene','TF','importance_TF2G','rho_TF2G','triplet_rank']]\n",
        "# data[['target','TF','source_file']]"
      ],
      "metadata": {
        "colab": {
          "base_uri": "https://localhost:8080/",
          "height": 424
        },
        "id": "Dhog4Lar3uPX",
        "outputId": "ed1f3fb6-37d4-4fd0-c7f3-0045cf5f52ff"
      },
      "execution_count": null,
      "outputs": [
        {
          "output_type": "execute_result",
          "data": {
            "text/plain": [
              "           Gene      TF  importance_TF2G  rho_TF2G  triplet_rank\n",
              "0        PCDHB2  ARID3A         0.072025  0.638654         40371\n",
              "1         LRMDA  ARID3A         0.228578  0.358036         19260\n",
              "2         DCHS2  ARID3A         0.050875  0.352265         44200\n",
              "3         ATCAY  ARID3A         0.050157  0.458091         12008\n",
              "4         LEKR1  ARID3A         0.052121  0.570661         44435\n",
              "...         ...     ...              ...       ...           ...\n",
              "1304050    HCN1    RFX4         3.853835 -0.179892           162\n",
              "1304051   MTUS2    RFX4         3.213123 -0.168589          9990\n",
              "1304052   FGF14    RFX4         2.093614 -0.239278          4133\n",
              "1304053  GPR158    RFX4         2.035685 -0.180641         11934\n",
              "1304054   MYT1L    RFX4         4.871685 -0.232857         18805\n",
              "\n",
              "[1304055 rows x 5 columns]"
            ],
            "text/html": [
              "\n",
              "  <div id=\"df-a3943b30-d89e-492f-83a8-583684f56e0c\" class=\"colab-df-container\">\n",
              "    <div>\n",
              "<style scoped>\n",
              "    .dataframe tbody tr th:only-of-type {\n",
              "        vertical-align: middle;\n",
              "    }\n",
              "\n",
              "    .dataframe tbody tr th {\n",
              "        vertical-align: top;\n",
              "    }\n",
              "\n",
              "    .dataframe thead th {\n",
              "        text-align: right;\n",
              "    }\n",
              "</style>\n",
              "<table border=\"1\" class=\"dataframe\">\n",
              "  <thead>\n",
              "    <tr style=\"text-align: right;\">\n",
              "      <th></th>\n",
              "      <th>Gene</th>\n",
              "      <th>TF</th>\n",
              "      <th>importance_TF2G</th>\n",
              "      <th>rho_TF2G</th>\n",
              "      <th>triplet_rank</th>\n",
              "    </tr>\n",
              "  </thead>\n",
              "  <tbody>\n",
              "    <tr>\n",
              "      <th>0</th>\n",
              "      <td>PCDHB2</td>\n",
              "      <td>ARID3A</td>\n",
              "      <td>0.072025</td>\n",
              "      <td>0.638654</td>\n",
              "      <td>40371</td>\n",
              "    </tr>\n",
              "    <tr>\n",
              "      <th>1</th>\n",
              "      <td>LRMDA</td>\n",
              "      <td>ARID3A</td>\n",
              "      <td>0.228578</td>\n",
              "      <td>0.358036</td>\n",
              "      <td>19260</td>\n",
              "    </tr>\n",
              "    <tr>\n",
              "      <th>2</th>\n",
              "      <td>DCHS2</td>\n",
              "      <td>ARID3A</td>\n",
              "      <td>0.050875</td>\n",
              "      <td>0.352265</td>\n",
              "      <td>44200</td>\n",
              "    </tr>\n",
              "    <tr>\n",
              "      <th>3</th>\n",
              "      <td>ATCAY</td>\n",
              "      <td>ARID3A</td>\n",
              "      <td>0.050157</td>\n",
              "      <td>0.458091</td>\n",
              "      <td>12008</td>\n",
              "    </tr>\n",
              "    <tr>\n",
              "      <th>4</th>\n",
              "      <td>LEKR1</td>\n",
              "      <td>ARID3A</td>\n",
              "      <td>0.052121</td>\n",
              "      <td>0.570661</td>\n",
              "      <td>44435</td>\n",
              "    </tr>\n",
              "    <tr>\n",
              "      <th>...</th>\n",
              "      <td>...</td>\n",
              "      <td>...</td>\n",
              "      <td>...</td>\n",
              "      <td>...</td>\n",
              "      <td>...</td>\n",
              "    </tr>\n",
              "    <tr>\n",
              "      <th>1304050</th>\n",
              "      <td>HCN1</td>\n",
              "      <td>RFX4</td>\n",
              "      <td>3.853835</td>\n",
              "      <td>-0.179892</td>\n",
              "      <td>162</td>\n",
              "    </tr>\n",
              "    <tr>\n",
              "      <th>1304051</th>\n",
              "      <td>MTUS2</td>\n",
              "      <td>RFX4</td>\n",
              "      <td>3.213123</td>\n",
              "      <td>-0.168589</td>\n",
              "      <td>9990</td>\n",
              "    </tr>\n",
              "    <tr>\n",
              "      <th>1304052</th>\n",
              "      <td>FGF14</td>\n",
              "      <td>RFX4</td>\n",
              "      <td>2.093614</td>\n",
              "      <td>-0.239278</td>\n",
              "      <td>4133</td>\n",
              "    </tr>\n",
              "    <tr>\n",
              "      <th>1304053</th>\n",
              "      <td>GPR158</td>\n",
              "      <td>RFX4</td>\n",
              "      <td>2.035685</td>\n",
              "      <td>-0.180641</td>\n",
              "      <td>11934</td>\n",
              "    </tr>\n",
              "    <tr>\n",
              "      <th>1304054</th>\n",
              "      <td>MYT1L</td>\n",
              "      <td>RFX4</td>\n",
              "      <td>4.871685</td>\n",
              "      <td>-0.232857</td>\n",
              "      <td>18805</td>\n",
              "    </tr>\n",
              "  </tbody>\n",
              "</table>\n",
              "<p>1304055 rows × 5 columns</p>\n",
              "</div>\n",
              "    <div class=\"colab-df-buttons\">\n",
              "\n",
              "  <div class=\"colab-df-container\">\n",
              "    <button class=\"colab-df-convert\" onclick=\"convertToInteractive('df-a3943b30-d89e-492f-83a8-583684f56e0c')\"\n",
              "            title=\"Convert this dataframe to an interactive table.\"\n",
              "            style=\"display:none;\">\n",
              "\n",
              "  <svg xmlns=\"http://www.w3.org/2000/svg\" height=\"24px\" viewBox=\"0 -960 960 960\">\n",
              "    <path d=\"M120-120v-720h720v720H120Zm60-500h600v-160H180v160Zm220 220h160v-160H400v160Zm0 220h160v-160H400v160ZM180-400h160v-160H180v160Zm440 0h160v-160H620v160ZM180-180h160v-160H180v160Zm440 0h160v-160H620v160Z\"/>\n",
              "  </svg>\n",
              "    </button>\n",
              "\n",
              "  <style>\n",
              "    .colab-df-container {\n",
              "      display:flex;\n",
              "      gap: 12px;\n",
              "    }\n",
              "\n",
              "    .colab-df-convert {\n",
              "      background-color: #E8F0FE;\n",
              "      border: none;\n",
              "      border-radius: 50%;\n",
              "      cursor: pointer;\n",
              "      display: none;\n",
              "      fill: #1967D2;\n",
              "      height: 32px;\n",
              "      padding: 0 0 0 0;\n",
              "      width: 32px;\n",
              "    }\n",
              "\n",
              "    .colab-df-convert:hover {\n",
              "      background-color: #E2EBFA;\n",
              "      box-shadow: 0px 1px 2px rgba(60, 64, 67, 0.3), 0px 1px 3px 1px rgba(60, 64, 67, 0.15);\n",
              "      fill: #174EA6;\n",
              "    }\n",
              "\n",
              "    .colab-df-buttons div {\n",
              "      margin-bottom: 4px;\n",
              "    }\n",
              "\n",
              "    [theme=dark] .colab-df-convert {\n",
              "      background-color: #3B4455;\n",
              "      fill: #D2E3FC;\n",
              "    }\n",
              "\n",
              "    [theme=dark] .colab-df-convert:hover {\n",
              "      background-color: #434B5C;\n",
              "      box-shadow: 0px 1px 3px 1px rgba(0, 0, 0, 0.15);\n",
              "      filter: drop-shadow(0px 1px 2px rgba(0, 0, 0, 0.3));\n",
              "      fill: #FFFFFF;\n",
              "    }\n",
              "  </style>\n",
              "\n",
              "    <script>\n",
              "      const buttonEl =\n",
              "        document.querySelector('#df-a3943b30-d89e-492f-83a8-583684f56e0c button.colab-df-convert');\n",
              "      buttonEl.style.display =\n",
              "        google.colab.kernel.accessAllowed ? 'block' : 'none';\n",
              "\n",
              "      async function convertToInteractive(key) {\n",
              "        const element = document.querySelector('#df-a3943b30-d89e-492f-83a8-583684f56e0c');\n",
              "        const dataTable =\n",
              "          await google.colab.kernel.invokeFunction('convertToInteractive',\n",
              "                                                    [key], {});\n",
              "        if (!dataTable) return;\n",
              "\n",
              "        const docLinkHtml = 'Like what you see? Visit the ' +\n",
              "          '<a target=\"_blank\" href=https://colab.research.google.com/notebooks/data_table.ipynb>data table notebook</a>'\n",
              "          + ' to learn more about interactive tables.';\n",
              "        element.innerHTML = '';\n",
              "        dataTable['output_type'] = 'display_data';\n",
              "        await google.colab.output.renderOutput(dataTable, element);\n",
              "        const docLink = document.createElement('div');\n",
              "        docLink.innerHTML = docLinkHtml;\n",
              "        element.appendChild(docLink);\n",
              "      }\n",
              "    </script>\n",
              "  </div>\n",
              "\n",
              "\n",
              "<div id=\"df-c094d5a2-ac8b-403a-8bba-41b85a80bc77\">\n",
              "  <button class=\"colab-df-quickchart\" onclick=\"quickchart('df-c094d5a2-ac8b-403a-8bba-41b85a80bc77')\"\n",
              "            title=\"Suggest charts\"\n",
              "            style=\"display:none;\">\n",
              "\n",
              "<svg xmlns=\"http://www.w3.org/2000/svg\" height=\"24px\"viewBox=\"0 0 24 24\"\n",
              "     width=\"24px\">\n",
              "    <g>\n",
              "        <path d=\"M19 3H5c-1.1 0-2 .9-2 2v14c0 1.1.9 2 2 2h14c1.1 0 2-.9 2-2V5c0-1.1-.9-2-2-2zM9 17H7v-7h2v7zm4 0h-2V7h2v10zm4 0h-2v-4h2v4z\"/>\n",
              "    </g>\n",
              "</svg>\n",
              "  </button>\n",
              "\n",
              "<style>\n",
              "  .colab-df-quickchart {\n",
              "      --bg-color: #E8F0FE;\n",
              "      --fill-color: #1967D2;\n",
              "      --hover-bg-color: #E2EBFA;\n",
              "      --hover-fill-color: #174EA6;\n",
              "      --disabled-fill-color: #AAA;\n",
              "      --disabled-bg-color: #DDD;\n",
              "  }\n",
              "\n",
              "  [theme=dark] .colab-df-quickchart {\n",
              "      --bg-color: #3B4455;\n",
              "      --fill-color: #D2E3FC;\n",
              "      --hover-bg-color: #434B5C;\n",
              "      --hover-fill-color: #FFFFFF;\n",
              "      --disabled-bg-color: #3B4455;\n",
              "      --disabled-fill-color: #666;\n",
              "  }\n",
              "\n",
              "  .colab-df-quickchart {\n",
              "    background-color: var(--bg-color);\n",
              "    border: none;\n",
              "    border-radius: 50%;\n",
              "    cursor: pointer;\n",
              "    display: none;\n",
              "    fill: var(--fill-color);\n",
              "    height: 32px;\n",
              "    padding: 0;\n",
              "    width: 32px;\n",
              "  }\n",
              "\n",
              "  .colab-df-quickchart:hover {\n",
              "    background-color: var(--hover-bg-color);\n",
              "    box-shadow: 0 1px 2px rgba(60, 64, 67, 0.3), 0 1px 3px 1px rgba(60, 64, 67, 0.15);\n",
              "    fill: var(--button-hover-fill-color);\n",
              "  }\n",
              "\n",
              "  .colab-df-quickchart-complete:disabled,\n",
              "  .colab-df-quickchart-complete:disabled:hover {\n",
              "    background-color: var(--disabled-bg-color);\n",
              "    fill: var(--disabled-fill-color);\n",
              "    box-shadow: none;\n",
              "  }\n",
              "\n",
              "  .colab-df-spinner {\n",
              "    border: 2px solid var(--fill-color);\n",
              "    border-color: transparent;\n",
              "    border-bottom-color: var(--fill-color);\n",
              "    animation:\n",
              "      spin 1s steps(1) infinite;\n",
              "  }\n",
              "\n",
              "  @keyframes spin {\n",
              "    0% {\n",
              "      border-color: transparent;\n",
              "      border-bottom-color: var(--fill-color);\n",
              "      border-left-color: var(--fill-color);\n",
              "    }\n",
              "    20% {\n",
              "      border-color: transparent;\n",
              "      border-left-color: var(--fill-color);\n",
              "      border-top-color: var(--fill-color);\n",
              "    }\n",
              "    30% {\n",
              "      border-color: transparent;\n",
              "      border-left-color: var(--fill-color);\n",
              "      border-top-color: var(--fill-color);\n",
              "      border-right-color: var(--fill-color);\n",
              "    }\n",
              "    40% {\n",
              "      border-color: transparent;\n",
              "      border-right-color: var(--fill-color);\n",
              "      border-top-color: var(--fill-color);\n",
              "    }\n",
              "    60% {\n",
              "      border-color: transparent;\n",
              "      border-right-color: var(--fill-color);\n",
              "    }\n",
              "    80% {\n",
              "      border-color: transparent;\n",
              "      border-right-color: var(--fill-color);\n",
              "      border-bottom-color: var(--fill-color);\n",
              "    }\n",
              "    90% {\n",
              "      border-color: transparent;\n",
              "      border-bottom-color: var(--fill-color);\n",
              "    }\n",
              "  }\n",
              "</style>\n",
              "\n",
              "  <script>\n",
              "    async function quickchart(key) {\n",
              "      const quickchartButtonEl =\n",
              "        document.querySelector('#' + key + ' button');\n",
              "      quickchartButtonEl.disabled = true;  // To prevent multiple clicks.\n",
              "      quickchartButtonEl.classList.add('colab-df-spinner');\n",
              "      try {\n",
              "        const charts = await google.colab.kernel.invokeFunction(\n",
              "            'suggestCharts', [key], {});\n",
              "      } catch (error) {\n",
              "        console.error('Error during call to suggestCharts:', error);\n",
              "      }\n",
              "      quickchartButtonEl.classList.remove('colab-df-spinner');\n",
              "      quickchartButtonEl.classList.add('colab-df-quickchart-complete');\n",
              "    }\n",
              "    (() => {\n",
              "      let quickchartButtonEl =\n",
              "        document.querySelector('#df-c094d5a2-ac8b-403a-8bba-41b85a80bc77 button');\n",
              "      quickchartButtonEl.style.display =\n",
              "        google.colab.kernel.accessAllowed ? 'block' : 'none';\n",
              "    })();\n",
              "  </script>\n",
              "</div>\n",
              "    </div>\n",
              "  </div>\n"
            ],
            "application/vnd.google.colaboratory.intrinsic+json": {
              "type": "dataframe"
            }
          },
          "metadata": {},
          "execution_count": 103
        }
      ]
    },
    {
      "cell_type": "code",
      "source": [
        "import pandas as pd\n",
        "import networkx as nx\n",
        "graphs={}\n",
        "for i in count.index:\n",
        "    # Step 1: Create a directed graph\n",
        "    G = nx.DiGraph()  # Use DiGraph for directed edges, or Graph for undirected\n",
        "\n",
        "    # Step 3: Add edges to the graph\n",
        "    for index, row in data[data['source_file']==i].iterrows():\n",
        "        gene = row['Gene']\n",
        "        tf = row['TF']\n",
        "        rho_TF2G = row['rho_TF2G']\n",
        "\n",
        "        # Add an edge from TF to Gene with weight as rho_TF2G\n",
        "        G.add_edge(tf, gene, weight=rho_TF2G)\n",
        "    graphs[f'graph_{i}'] = G\n"
      ],
      "metadata": {
        "id": "bqYq5ve439kX"
      },
      "execution_count": null,
      "outputs": []
    },
    {
      "cell_type": "code",
      "source": [
        "graphs"
      ],
      "metadata": {
        "id": "dpZhzbme4foS",
        "colab": {
          "base_uri": "https://localhost:8080/"
        },
        "outputId": "5af6ae65-aec1-4805-dfbe-652b8302ae8d"
      },
      "execution_count": null,
      "outputs": [
        {
          "data": {
            "text/plain": [
              "{'graph_run6': <networkx.classes.digraph.DiGraph at 0x78b6822f9540>,\n",
              " 'graph_run10': <networkx.classes.digraph.DiGraph at 0x78b652a84cd0>,\n",
              " 'graph_run4': <networkx.classes.digraph.DiGraph at 0x78b652a84220>,\n",
              " 'graph_run3': <networkx.classes.digraph.DiGraph at 0x78b652a84df0>,\n",
              " 'graph_run9': <networkx.classes.digraph.DiGraph at 0x78b652a84190>,\n",
              " 'graph_run2': <networkx.classes.digraph.DiGraph at 0x78b652a86d10>,\n",
              " 'graph_run8': <networkx.classes.digraph.DiGraph at 0x78b652a85390>,\n",
              " 'graph_run7': <networkx.classes.digraph.DiGraph at 0x78b652a850f0>,\n",
              " 'graph_run1': <networkx.classes.digraph.DiGraph at 0x78b652a856f0>,\n",
              " 'graph_run5': <networkx.classes.digraph.DiGraph at 0x78b652a84a30>}"
            ]
          },
          "execution_count": 105,
          "metadata": {},
          "output_type": "execute_result"
        }
      ]
    },
    {
      "cell_type": "code",
      "source": [
        "import pandas as pd\n",
        "import matplotlib.pyplot as plt"
      ],
      "metadata": {
        "id": "a2zaTV-S9HoP"
      },
      "execution_count": null,
      "outputs": []
    },
    {
      "cell_type": "code",
      "source": [
        "plt.figure(figsize=(12, 6))\n",
        "\n",
        "subax1 = plt.subplot2grid((2,5), (0,0))\n",
        "subax1.set_xticks([])\n",
        "degrees = [val for (node, val) in graphs['graph_run1'].degree()]\n",
        "x=plt.hist(degrees,log=True,bins=20)\n",
        "subax2 = plt.subplot2grid((2,5), (0,1))\n",
        "subax2.set_xticks([])\n",
        "degrees = [val for (node, val) in graphs['graph_run2'].degree()]\n",
        "x=plt.hist(degrees,log=True,bins=20)\n",
        "subax2.set_yticks([])\n",
        "subax3 = plt.subplot2grid((2,5), (0,2))\n",
        "subax3.set_xticks([])\n",
        "degrees = [val for (node, val) in graphs['graph_run3'].degree()]\n",
        "x=plt.hist(degrees,log=True,bins=20)\n",
        "subax3.set_yticks([])\n",
        "subax4 = plt.subplot2grid((2,5), (0,3))\n",
        "subax4.set_xticks([])\n",
        "degrees = [val for (node, val) in graphs['graph_run4'].degree()]\n",
        "x=plt.hist(degrees,log=True,bins=20)\n",
        "subax4.set_yticks([])\n",
        "subax5 = plt.subplot2grid((2,5), (0,4))\n",
        "subax5.set_xticks([])\n",
        "degrees = [val for (node, val) in graphs['graph_run5'].degree()]\n",
        "x=plt.hist(degrees,log=True,bins=20)\n",
        "subax5.set_yticks([])\n",
        "subax6 = plt.subplot2grid((2,5), (1,0))\n",
        "degrees = [val for (node, val) in graphs['graph_run6'].degree()]\n",
        "x=plt.hist(degrees,log=True,bins=20)\n",
        "subax7 = plt.subplot2grid((2,5), (1,1))\n",
        "degrees = [val for (node, val) in graphs['graph_run7'].degree()]\n",
        "x=plt.hist(degrees,log=True,bins=20)\n",
        "subax7.set_yticks([])\n",
        "subax8 = plt.subplot2grid((2,5), (1,2))\n",
        "degrees = [val for (node, val) in graphs['graph_run8'].degree()]\n",
        "x=plt.hist(degrees,log=True,bins=20)\n",
        "subax8.set_yticks([])\n",
        "subax9 = plt.subplot2grid((2,5), (1,3))\n",
        "degrees = [val for (node, val) in graphs['graph_run9'].degree()]\n",
        "x=plt.hist(degrees,log=True,bins=20)\n",
        "subax9.set_yticks([])\n",
        "subax10 = plt.subplot2grid((2,5), (1,4))\n",
        "degrees = [val for (node, val) in graphs['graph_run10'].degree()]\n",
        "x=plt.hist(degrees,log=True,bins=20)\n",
        "subax10.set_yticks([])"
      ],
      "metadata": {
        "id": "MxvAztcr80H-",
        "colab": {
          "base_uri": "https://localhost:8080/",
          "height": 382
        },
        "outputId": "5ff94d53-edb5-4e25-989f-32edc8f71db9"
      },
      "execution_count": null,
      "outputs": [
        {
          "output_type": "execute_result",
          "data": {
            "text/plain": [
              "[]"
            ]
          },
          "metadata": {},
          "execution_count": 138
        },
        {
          "output_type": "display_data",
          "data": {
            "text/plain": [
              "<Figure size 1200x600 with 10 Axes>"
            ],
            "image/png": "[encoded data removed]"
          },
          "metadata": {}
        }
      ]
    },
    {
      "cell_type": "markdown",
      "source": [
        "## 100% intersection of bootstrap runs"
      ],
      "metadata": {
        "id": "FeWr0NMeYtfh"
      }
    },
    {
      "cell_type": "code",
      "source": [
        "import numpy as np\n",
        "\n",
        "GG=None\n",
        "for i in np.sort(count.index)[4:]:\n",
        "    if GG is None:\n",
        "        GG=nx.intersection(graphs['graph_run1'],graphs['graph_run2'])\n",
        "    else:\n",
        "        GG=nx.intersection(GG,graphs['graph_'+i])"
      ],
      "metadata": {
        "id": "92kTm36A-soA"
      },
      "execution_count": null,
      "outputs": []
    },
    {
      "cell_type": "code",
      "source": [
        "degrees = [val for (node, val) in GG.degree()]\n",
        "x=plt.hist(degrees,log=True,bins=20)"
      ],
      "metadata": {
        "id": "1FTIeXpSRvdC",
        "colab": {
          "base_uri": "https://localhost:8080/",
          "height": 430
        },
        "outputId": "5c6f7e56-8317-4314-ea4b-64added8f11f"
      },
      "execution_count": null,
      "outputs": [
        {
          "output_type": "display_data",
          "data": {
            "text/plain": [
              "<Figure size 640x480 with 1 Axes>"
            ],
            "image/png": "[encoded data removed]"
          },
          "metadata": {}
        }
      ]
    },
    {
      "cell_type": "code",
      "source": [
        "print(GG.number_of_nodes())\n",
        "print(GG.number_of_edges())"
      ],
      "metadata": {
        "colab": {
          "base_uri": "https://localhost:8080/"
        },
        "id": "9otzLB77larV",
        "outputId": "b026e0cd-feeb-4064-e644-5506609926e4"
      },
      "execution_count": null,
      "outputs": [
        {
          "output_type": "stream",
          "name": "stdout",
          "text": [
            "3408\n",
            "7809\n"
          ]
        }
      ]
    },
    {
      "cell_type": "markdown",
      "source": [
        "## see how lowering confidence threshold, based on presence in X/10 runs changes the intersection graph"
      ],
      "metadata": {
        "id": "2ws3fpq_Yyj8"
      }
    },
    {
      "cell_type": "code",
      "source": [
        "DD=data[['TF','Gene','source_file']].drop_duplicates()\n"
      ],
      "metadata": {
        "id": "eyLd4arQW5sb"
      },
      "execution_count": null,
      "outputs": []
    },
    {
      "cell_type": "code",
      "source": [
        "grouped = DD.groupby(['TF','Gene']).count()\n",
        "intersect=grouped.reset_index()[['TF','Gene','source_file']]"
      ],
      "metadata": {
        "id": "8qalC-agT7so"
      },
      "execution_count": null,
      "outputs": []
    },
    {
      "cell_type": "markdown",
      "source": [
        "### 80% confidence in links based on bootstrap runs"
      ],
      "metadata": {
        "id": "C00cDLX3ZDYv"
      }
    },
    {
      "cell_type": "code",
      "source": [
        "ninety=intersect[intersect.source_file>7]"
      ],
      "metadata": {
        "id": "Dw09EqRBVBXf"
      },
      "execution_count": null,
      "outputs": []
    },
    {
      "cell_type": "code",
      "source": [
        "G = nx.DiGraph()  # Use DiGraph for directed edges, or Graph for undirected\n",
        "\n",
        "# Step 3: Add edges to the graph\n",
        "for index, row in ninety.iterrows():\n",
        "        gene = row['Gene']\n",
        "        tf = row['TF']\n",
        "        rho_TF2G = row['source_file']\n",
        "\n",
        "        # Add an edge from TF to Gene with weight as rho_TF2G\n",
        "        G.add_edge(tf, gene, weight=rho_TF2G/10)"
      ],
      "metadata": {
        "id": "uSLb4EtiVSb-"
      },
      "execution_count": null,
      "outputs": []
    },
    {
      "cell_type": "code",
      "source": [
        "degrees = [val for (node, val) in G.degree()]\n",
        "x=plt.hist(degrees,log=True,bins=20)"
      ],
      "metadata": {
        "id": "QvFNqw_SXrYN",
        "colab": {
          "base_uri": "https://localhost:8080/",
          "height": 430
        },
        "outputId": "5781c486-8a7b-4ce5-c747-c92cad0c3870"
      },
      "execution_count": null,
      "outputs": [
        {
          "output_type": "display_data",
          "data": {
            "text/plain": [
              "<Figure size 640x480 with 1 Axes>"
            ],
            "image/png": "[encoded data removed]"
          },
          "metadata": {}
        }
      ]
    },
    {
      "cell_type": "code",
      "source": [
        "print(G.number_of_nodes())\n",
        "print(G.number_of_edges())"
      ],
      "metadata": {
        "id": "LTeRuvB6YYbd",
        "colab": {
          "base_uri": "https://localhost:8080/"
        },
        "outputId": "755c32e1-aeef-4af9-a3f8-9fa5d8400c71"
      },
      "execution_count": null,
      "outputs": [
        {
          "output_type": "stream",
          "name": "stdout",
          "text": [
            "3167\n",
            "16435\n"
          ]
        }
      ]
    },
    {
      "cell_type": "code",
      "source": [
        "# !pip install graphistry\n",
        "# import graphistry\n",
        "# from google.colab import userdata\n",
        "# g_user=userdata.get('g_user')\n",
        "# g_pass=userdata.get('g_pass')\n",
        "# graphistry.register(api=3,protocol=\"https\", server=\"hub.graphistry.com\", username=g_user, password=g_pass) ## key id, secret key\n"
      ],
      "metadata": {
        "id": "W1uRSfg07eGE"
      },
      "execution_count": null,
      "outputs": []
    },
    {
      "cell_type": "code",
      "source": [
        "plotter = graphistry.bind(source='TF', destination='Gene')\n",
        "plotter.plot(ninety[['TF','Gene','source_file']])"
      ],
      "metadata": {
        "id": "AQsxAI8sX4WH",
        "colab": {
          "base_uri": "https://localhost:8080/",
          "height": 543
        },
        "outputId": "b0efbaad-74ab-491a-da46-9520cd0361a7"
      },
      "execution_count": null,
      "outputs": [
        {
          "output_type": "execute_result",
          "data": {
            "text/plain": [
              "<IPython.core.display.HTML object>"
            ],
            "text/html": [
              "\n",
              "            <iframe id=\"ab4f2ba6-6adc-4873-8dd3-b0fc25b37447\" src=\"https://hub.graphistry.com/graph/graph.html?dataset=0417481b40934a6c975a4c2cc007ebbd&type=arrow&viztoken=dd7bb95b-ffa1-40a1-b02f-eca8c207c22a&usertag=a97c3297-pygraphistry-0.35.4&splashAfter=1736485652&info=true\"\n",
              "                    allowfullscreen=\"true\" webkitallowfullscreen=\"true\" mozallowfullscreen=\"true\"\n",
              "                    oallowfullscreen=\"true\" msallowfullscreen=\"true\"\n",
              "                    style=\"width:100%; height:500px; border: 1px solid #DDD; overflow: hidden\"\n",
              "                    \n",
              "            >\n",
              "            </iframe>\n",
              "        \n",
              "            <script>\n",
              "                try {\n",
              "                  $(\"#ab4f2ba6-6adc-4873-8dd3-b0fc25b37447\").bind('mousewheel', function(e) { e.preventDefault(); });\n",
              "                } catch (e) { console.error('exn catching scroll', e); }\n",
              "            </script>\n",
              "        "
            ]
          },
          "metadata": {},
          "execution_count": 141
        }
      ]
    }
  ],
  "metadata": {
    "colab": {
      "provenance": [],
      "mount_file_id": "1l9OYZIiDXAq1uUaUZ0GHjDhpX87MHaW3",
      "authorship_tag": "ABX9TyOtr7B6om/ee8IcAvHZNEur",
      "include_colab_link": true
    },
    "kernelspec": {
      "display_name": "Python 3",
      "name": "python3"
    },
    "language_info": {
      "name": "python"
    }
  },
  "nbformat": 4,
  "nbformat_minor": 0
}