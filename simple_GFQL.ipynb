{
  "nbformat": 4,
  "nbformat_minor": 0,
  "metadata": {
    "colab": {
      "provenance": [],
      "gpuType": "T4",
      "include_colab_link": true
    },
    "kernelspec": {
      "name": "python3",
      "display_name": "Python 3"
    },
    "language_info": {
      "name": "python"
    },
    "accelerator": "GPU"
  },
  "cells": [
    {
      "cell_type": "markdown",
      "metadata": {
        "id": "view-in-github",
        "colab_type": "text"
      },
      "source": [
        "<a href=\"https://colab.research.google.com/github/dcolinmorgan/grph/blob/main/simple_GFQL.ipynb\" target=\"_parent\"><img src=\"https://colab.research.google.com/assets/colab-badge.svg\" alt=\"Open In Colab\"/></a>"
      ]
    },
    {
      "cell_type": "markdown",
      "source": [
        "# simple GFQL demo on Twitter data\n",
        "\n",
        "* Twitter\tNetwork with 81,306 Nodes\tand 2,420,766 Edges\n",
        "\n",
        "* The single-threaded CPU mode benefits from GFQL's novel dataframe engine, and the GPU mode further adds single-GPU acceleration. Both the chain() and hop() methods are examined.\n",
        "\n",
        "* The benchmark does not examine bigger-than-memory and distributed scenarios. The provided results here are from running on a free Google Colab T4 runtime, with a 2.2GHz Intel CPU (12 GB CPU RAM) and T4 Nvidia GPU (16 GB GPU RAM)."
      ],
      "metadata": {
        "id": "Sm80AgJOJ3-c"
      }
    },
    {
      "cell_type": "markdown",
      "source": [
        "## Install, Import, Load"
      ],
      "metadata": {
        "id": "g7s-qBKqE9eC"
      }
    },
    {
      "cell_type": "code",
      "source": [
        "# !pip install --extra-index-url=https://pypi.nvidia.com cuml-cu12 cudf-cu12\n",
        "import cudf\n",
        "cudf.__version__\n",
        "\n",
        "!pip install -q igraph\n",
        "!pip install -q graphistry\n",
        "\n",
        "import pandas as pd\n",
        "import graphistry, time, cProfile\n",
        "\n",
        "from graphistry import (\n",
        "\n",
        "    # graph operators\n",
        "    n, e_undirected, e_forward, e_reverse,\n",
        "\n",
        "    # attribute predicates\n",
        "    is_in, ge, startswith, contains, match as match_re\n",
        ")\n",
        "graphistry.__version__"
      ],
      "metadata": {
        "id": "JTdSJgquBnGd",
        "colab": {
          "base_uri": "https://localhost:8080/",
          "height": 35
        },
        "outputId": "4d1da186-28ab-4236-a569-4dd8760c4715"
      },
      "execution_count": 5,
      "outputs": [
        {
          "output_type": "execute_result",
          "data": {
            "text/plain": [
              "'0.33.0'"
            ],
            "application/vnd.google.colaboratory.intrinsic+json": {
              "type": "string"
            }
          },
          "metadata": {},
          "execution_count": 5
        }
      ]
    },
    {
      "cell_type": "code",
      "execution_count": 2,
      "metadata": {
        "colab": {
          "base_uri": "https://localhost:8080/"
        },
        "id": "yLJjLYAWbRXH",
        "outputId": "e0177c6d-7d74-449a-c72b-28241516aaf0"
      },
      "outputs": [
        {
          "output_type": "execute_result",
          "data": {
            "text/plain": [
              "(81306, 1)"
            ]
          },
          "metadata": {},
          "execution_count": 2
        }
      ],
      "source": [
        "te_df = pd.read_csv('https://snap.stanford.edu/data/twitter_combined.txt.gz', sep=' ', names=['s', 'd'])\n",
        "g = graphistry.edges(te_df, 's', 'd').materialize_nodes()"
      ]
    },
    {
      "cell_type": "markdown",
      "source": [
        "## .chain() CPU v GPU"
      ],
      "metadata": {
        "id": "c3vuo0yVFDCs"
      }
    },
    {
      "cell_type": "code",
      "source": [
        "start = time.time()\n",
        "\n",
        "for i in range(10):\n",
        "  g2 = g.chain([n({'id': 17116707}), e_forward(hops=1)])\n",
        "g2._nodes.shape, g2._edges.shape\n",
        "\n",
        "end1 = time.time()\n",
        "T1 = end1 - start"
      ],
      "metadata": {
        "id": "wEzyOOymCcsj"
      },
      "execution_count": null,
      "outputs": []
    },
    {
      "cell_type": "code",
      "source": [
        "start = time.time()\n",
        "\n",
        "g_gdf = g.nodes(lambda g: cudf.DataFrame(g._nodes)).edges(lambda g: cudf.DataFrame(g._edges))\n",
        "for i in range(10):\n",
        "  out = g_gdf.chain([n({'id': 17116707}), e_forward(hops=1)])._nodes\n",
        "del g_gdf\n",
        "del out\n",
        "\n",
        "end2 = time.time()\n",
        "T2= end2 - start\n",
        "print('CPU time:',T1, '\\nGPU time:', T2, '\\nspeedup:', T1/T2)"
      ],
      "metadata": {
        "id": "yKoNh5UgClIr",
        "colab": {
          "base_uri": "https://localhost:8080/"
        },
        "outputId": "5c9545e1-5a6c-45db-b0ab-a199939e8ebd"
      },
      "execution_count": 17,
      "outputs": [
        {
          "output_type": "stream",
          "name": "stdout",
          "text": [
            "CPU time: 17.837570190429688 \n",
            "GPU time: 2.0647764205932617 \n",
            "speedup: 8.638983868919091\n"
          ]
        }
      ]
    },
    {
      "cell_type": "markdown",
      "source": [
        "## .hop() CPU v GPU\n",
        "\n",
        "*   simpler tasks can witness greater speedup\n",
        "\n"
      ],
      "metadata": {
        "id": "KrXZ7ajHFJ3z"
      }
    },
    {
      "cell_type": "code",
      "source": [
        "start = time.time()\n",
        "start_nodes = pd.DataFrame({g._node: [17116707]})\n",
        "for i in range(10):\n",
        "  g2 = g.hop(\n",
        "      nodes=start_nodes,\n",
        "      direction='forward',\n",
        "      hops=8)\n",
        "\n",
        "end1 = time.time()\n",
        "T1 = end1 - start"
      ],
      "metadata": {
        "id": "CJt_8YTPCtZM"
      },
      "execution_count": null,
      "outputs": []
    },
    {
      "cell_type": "code",
      "source": [
        "start = time.time()\n",
        "start_nodes = cudf.DataFrame({g._node: [17116707]})\n",
        "g_gdf = g.nodes(cudf.from_pandas(g._nodes)).edges(cudf.from_pandas(g._edges))\n",
        "for i in range(10):\n",
        "  g2 = g_gdf.hop(\n",
        "      nodes=start_nodes,\n",
        "      direction='forward',\n",
        "      engine = 'cudf',  # one can also set `engine = cudf`\n",
        "      hops=8)\n",
        "del start_nodes\n",
        "del g_gdf\n",
        "del g2\n",
        "\n",
        "end2 = time.time()\n",
        "T2= end2 - start\n",
        "print('CPU time:',T1, '\\nGPU time:', T2, '\\nspeedup:', T1/T2)"
      ],
      "metadata": {
        "id": "fOC7ODIeFTI6",
        "colab": {
          "base_uri": "https://localhost:8080/"
        },
        "outputId": "ba349462-caee-4f42-8f45-fa7c883c54bc"
      },
      "execution_count": 26,
      "outputs": [
        {
          "output_type": "stream",
          "name": "stdout",
          "text": [
            "CPU time: 40.91506862640381 \n",
            "GPU time: 2.8351004123687744 \n",
            "speedup: 14.431611821543413\n"
          ]
        }
      ]
    }
  ]
}