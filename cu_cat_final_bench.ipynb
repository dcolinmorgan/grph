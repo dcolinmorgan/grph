{
  "cells": [
    {
      "cell_type": "markdown",
      "metadata": {
        "id": "view-in-github",
        "colab_type": "text"
      },
      "source": [
        "<a href=\"https://colab.research.google.com/github/dcolinmorgan/grph/blob/main/cu_cat_final_bench.ipynb\" target=\"_parent\"><img src=\"https://colab.research.google.com/assets/colab-badge.svg\" alt=\"Open In Colab\"/></a>"
      ]
    },
    {
      "cell_type": "code",
      "execution_count": 1,
      "metadata": {
        "id": "3398dccc-fc11-4fcd-a6b8-7e3baf0c108d"
      },
      "outputs": [],
      "source": [
        "import locale\n",
        "def getpreferredencoding(do_setlocale = True):\n",
        "    return \"UTF-8\"\n",
        "locale.getpreferredencoding = getpreferredencoding"
      ],
      "id": "3398dccc-fc11-4fcd-a6b8-7e3baf0c108d"
    },
    {
      "cell_type": "code",
      "execution_count": null,
      "metadata": {
        "id": "515b40ff-6af7-4160-a0d0-4b6dddb88485"
      },
      "outputs": [],
      "source": [
        "# !pip install --extra-index-url=https://pypi.nvidia.com cuml-cu11==22.10.0 cudf-cu11==22.10.0 cugraph-cu11==22.10.0 pylibraft_cu11==22.10.0 raft_dask_cu11==22.10.0 dask_cudf_cu11==22.10.0 pylibcugraph_cu11==22.10.0 pylibraft_cu11==22.10.0\n",
        "# !pip install -U git+https://github.com/graphistry/pygraphistry.git@cudf_cat\n",
        "# !pip install -U git+https://github.com/graphistry/cu-cat.git@cu_cat_regpt"
      ],
      "id": "515b40ff-6af7-4160-a0d0-4b6dddb88485"
    },
    {
      "cell_type": "code",
      "source": [
        "# !pip install dirty_cat"
      ],
      "metadata": {
        "id": "520IfahaBiJ1"
      },
      "id": "520IfahaBiJ1",
      "execution_count": null,
      "outputs": []
    },
    {
      "cell_type": "code",
      "execution_count": 2,
      "metadata": {
        "colab": {
          "base_uri": "https://localhost:8080/",
          "height": 35
        },
        "id": "f61ad51b-f4fa-4706-a91b-b72a92ecf39c",
        "outputId": "3b9694c0-9922-48d3-ef97-3dfe36b038f6"
      },
      "outputs": [
        {
          "output_type": "execute_result",
          "data": {
            "text/plain": [
              "'22.10.00a+119.gb30ef85c1'"
            ],
            "application/vnd.google.colaboratory.intrinsic+json": {
              "type": "string"
            }
          },
          "metadata": {},
          "execution_count": 2
        }
      ],
      "source": [
        "import cuml,cudf\n",
        "cuml.__version__"
      ],
      "id": "f61ad51b-f4fa-4706-a91b-b72a92ecf39c"
    },
    {
      "cell_type": "code",
      "execution_count": 5,
      "metadata": {
        "id": "acaa3721-5277-40f5-bddc-652d82d021d3"
      },
      "outputs": [],
      "source": [
        "!echo \"0.01.0\" > VERSION.txt\n",
        "# !cp VERSION.txt /root/.local/lib/python3.9/site-packages/cu_cat/\n",
        "!cp VERSION.txt /usr/local/lib/python3.9/dist-packages/cu_cat/"
      ],
      "id": "acaa3721-5277-40f5-bddc-652d82d021d3"
    },
    {
      "cell_type": "code",
      "execution_count": 3,
      "metadata": {
        "colab": {
          "base_uri": "https://localhost:8080/"
        },
        "id": "65e8dccf-5b22-469b-b1db-1dcccaea2517",
        "outputId": "10e3a21c-a619-491e-ad03-34f0b871dbce"
      },
      "outputs": [
        {
          "output_type": "stream",
          "name": "stdout",
          "text": [
            "/usr/local/lib/python3.9/dist-packages/cu_cat/__init__.py\n"
          ]
        }
      ],
      "source": [
        "# from importlib import reload\n",
        "# reload(cu_cat)\n",
        "import cu_cat\n",
        "print(cu_cat.__file__)"
      ],
      "id": "65e8dccf-5b22-469b-b1db-1dcccaea2517"
    },
    {
      "cell_type": "code",
      "execution_count": 4,
      "metadata": {
        "id": "a32fccec-327d-4328-9672-86baf42e11ca"
      },
      "outputs": [],
      "source": [
        "import os\n",
        "from collections import Counter\n",
        "import cProfile\n",
        "import pandas as pd\n",
        "import numpy as np\n",
        "import matplotlib.pyplot as plt\n",
        "from pstats import Stats\n",
        "import warnings\n",
        "warnings.filterwarnings('ignore')\n",
        "pd.set_option('display.max_colwidth', 200)\n"
      ],
      "id": "a32fccec-327d-4328-9672-86baf42e11ca"
    },
    {
      "cell_type": "code",
      "execution_count": 7,
      "metadata": {
        "colab": {
          "base_uri": "https://localhost:8080/",
          "height": 35
        },
        "id": "fb4ef11c-5e1d-4f36-a8a0-ae58fc0f0317",
        "outputId": "02ff6b15-8803-4b4e-e128-f44fc59487e5"
      },
      "outputs": [
        {
          "output_type": "execute_result",
          "data": {
            "text/plain": [
              "'0.28.7+328.gc2d2fcb'"
            ],
            "application/vnd.google.colaboratory.intrinsic+json": {
              "type": "string"
            }
          },
          "metadata": {},
          "execution_count": 7
        }
      ],
      "source": [
        "import graphistry\n",
        "graphistry.register(api=3,protocol=\"https\", server=\"hub.graphistry.com\", username='dcolinmorgan', password='***') ## key id, secret key\n",
        "graphistry.__version__\n"
      ],
      "id": "fb4ef11c-5e1d-4f36-a8a0-ae58fc0f0317"
    },
    {
      "cell_type": "code",
      "execution_count": null,
      "metadata": {
        "id": "xOXv_NNaCe_t"
      },
      "outputs": [],
      "source": [
        "import logging\n",
        "logging.basicConfig(level=logging.DEBUG)"
      ],
      "id": "xOXv_NNaCe_t"
    },
    {
      "cell_type": "code",
      "execution_count": 6,
      "metadata": {
        "id": "UqHh0H_68r8y",
        "colab": {
          "base_uri": "https://localhost:8080/"
        },
        "outputId": "c04b7acd-3dd8-4e68-8fe5-d177c7dd7f7d"
      },
      "outputs": [
        {
          "output_type": "stream",
          "name": "stdout",
          "text": [
            "Mounted at /content/drive\n"
          ]
        }
      ],
      "source": [
        "from google.colab import drive\n",
        "drive.mount('/content/drive')"
      ],
      "id": "UqHh0H_68r8y"
    },
    {
      "cell_type": "markdown",
      "metadata": {
        "id": "b9fa2d4e-53e8-4eb5-bdbf-c5c1908159ad"
      },
      "source": [
        "### redteam"
      ],
      "id": "b9fa2d4e-53e8-4eb5-bdbf-c5c1908159ad"
    },
    {
      "cell_type": "code",
      "execution_count": 8,
      "metadata": {
        "colab": {
          "base_uri": "https://localhost:8080/"
        },
        "id": "3fe52faa-c35c-492e-98c1-7cfc46888a5f",
        "outputId": "24e28b77-6341-4a0c-efb3-dd93af3ef7e2"
      },
      "outputs": [
        {
          "output_type": "execute_result",
          "data": {
            "text/plain": [
              "749.0"
            ]
          },
          "metadata": {},
          "execution_count": 8
        }
      ],
      "source": [
        "df = pd.read_csv('https://gist.githubusercontent.com/silkspace/c7b50d0c03dc59f63c48d68d696958ff/raw/31d918267f86f8252d42d2e9597ba6fc03fcdac2/redteam_50k.csv', index_col=0)\n",
        "red_team = pd.read_csv('https://gist.githubusercontent.com/silkspace/5cf5a94b9ac4b4ffe38904f20d93edb1/raw/888dabd86f88ea747cf9ff5f6c44725e21536465/redteam_labels.csv', index_col=0)\n",
        "df['feats'] = df.src_computer + ' ' + df.dst_computer + ' ' + df.auth_type + ' ' + df.logontype\n",
        "df['feats2'] = df.src_computer + ' ' + df.dst_computer\n",
        "ndf = df.drop_duplicates(subset=['feats'])\n",
        "tdf = pd.concat([red_team.reset_index(), ndf.reset_index()])\n",
        "tdf['node'] = range(len(tdf))\n",
        "tdf.RED.sum()"
      ],
      "id": "3fe52faa-c35c-492e-98c1-7cfc46888a5f"
    },
    {
      "cell_type": "code",
      "execution_count": null,
      "metadata": {
        "id": "df94cfc1-ef21-4ff8-b81f-8f5b08968129"
      },
      "outputs": [],
      "source": [
        "%%time\n",
        "# process = True  # set to false after it's run for ease of speed\n",
        "pr = cProfile.Profile()\n",
        "pr.enable()\n",
        "\n",
        "g = graphistry.nodes(cudf.from_pandas(tdf), 'node')\n",
        "\n",
        "g5b = g.umap(X=['feats'], \n",
        "            min_words=1000000, # force high so that we don't use Sentence Transformers\n",
        "            cardinality_threshold=4, # set low so we force topic model\n",
        "            n_topics=32, # number of topics\n",
        "            use_scaler=None,\n",
        "            feature_engine='cu_cat',\n",
        "            memoize=False,\n",
        "            #  remove_node_column=False,\n",
        "            # engine='cuml',\n",
        "            use_scaler_target=None\n",
        "           )\n",
        "\n",
        "pr.disable()\n",
        "stats = Stats(pr)\n",
        "stats.sort_stats('tottime').print_stats(20)\n",
        "\n",
        "with open('redteam_umap_cudf_cu_cat.txt', 'w') as stream:\n",
        "    stats = Stats(pr,stream=stream)\n",
        "    stats.sort_stats('tottime').print_stats(20)"
      ],
      "id": "df94cfc1-ef21-4ff8-b81f-8f5b08968129"
    },
    {
      "cell_type": "code",
      "execution_count": null,
      "metadata": {
        "id": "28017a3b-6a39-4c33-8d6d-78cecb73ecf2"
      },
      "outputs": [],
      "source": [
        "%%time\n",
        "# process = True  # set to false after it's run for ease of speed\n",
        "pr = cProfile.Profile()\n",
        "pr.enable()\n",
        "\n",
        "g = graphistry.nodes(tdf, 'node')\n",
        "\n",
        "g5a = g.umap(X=['feats'], \n",
        "            min_words=1000000, # force high so that we don't use Sentence Transformers\n",
        "            cardinality_threshold=4, # set low so we force topic model\n",
        "            n_topics=32, # number of topics\n",
        "            use_scaler=None,\n",
        "            feature_engine='cu_cat',\n",
        "            memoize=False,\n",
        "            #  remove_node_column=False,\n",
        "            # engine='cuml',\n",
        "            use_scaler_target=None\n",
        "           )\n",
        "\n",
        "pr.disable()\n",
        "stats = Stats(pr)\n",
        "stats.sort_stats('tottime').print_stats(20)\n",
        "\n",
        "with open('redteam_umap_cu_cat.txt', 'w') as stream:\n",
        "    stats = Stats(pr,stream=stream)\n",
        "    stats.sort_stats('tottime').print_stats(20)"
      ],
      "id": "28017a3b-6a39-4c33-8d6d-78cecb73ecf2"
    },
    {
      "cell_type": "code",
      "execution_count": null,
      "metadata": {
        "colab": {
          "base_uri": "https://localhost:8080/"
        },
        "id": "343d14cc-e1e4-4f6c-aa0d-ff4e6f0dcefa",
        "outputId": "8e2b7b0d-6c22-4ef0-c24d-d7002d8dd705"
      },
      "outputs": [
        {
          "output_type": "stream",
          "name": "stdout",
          "text": [
            "Using GPU: dirty_cat\n"
          ]
        },
        {
          "output_type": "stream",
          "name": "stderr",
          "text": [
            "WARNING:graphistry.umap_utils:* Ignoring target column of shape (19762, 0) in UMAP fit, as it is not one dimensional"
          ]
        }
      ],
      "source": [
        "%%time\n",
        "# process = True  # set to false after it's run for ease of speed\n",
        "pr = cProfile.Profile()\n",
        "pr.enable()\n",
        "\n",
        "g = graphistry.nodes((tdf), 'node')\n",
        "\n",
        "g5c = g.umap(X=['feats'], \n",
        "            min_words=1000000, # force high so that we don't use Sentence Transformers\n",
        "            cardinality_threshold=4, # set low so we force topic model\n",
        "            n_topics=32, # number of topics\n",
        "            use_scaler=None,\n",
        "            feature_engine='dirty_cat',\n",
        "            memoize=False,\n",
        "            #  remove_node_column=False,\n",
        "            # engine='cuml',\n",
        "            use_scaler_target=None\n",
        "           )\n",
        "\n",
        "pr.disable()\n",
        "stats = Stats(pr)\n",
        "stats.sort_stats('tottime').print_stats(20)\n",
        "\n",
        "with open('redteam_umap_dirty_cat.txt', 'w') as stream:\n",
        "    stats = Stats(pr,stream=stream)\n",
        "    stats.sort_stats('tottime').print_stats(20)"
      ],
      "id": "343d14cc-e1e4-4f6c-aa0d-ff4e6f0dcefa"
    },
    {
      "cell_type": "markdown",
      "metadata": {
        "id": "3eb4ae8b-2a14-43fe-ac7f-1714e38272aa"
      },
      "source": [
        "### CTU-13 malware dataset"
      ],
      "id": "3eb4ae8b-2a14-43fe-ac7f-1714e38272aa"
    },
    {
      "cell_type": "code",
      "execution_count": 22,
      "metadata": {
        "colab": {
          "base_uri": "https://localhost:8080/"
        },
        "id": "3b2f1b00-6984-44c2-9148-6f38282bc0de",
        "outputId": "7a729f26-8c05-4968-b46d-c834aa0d4d01"
      },
      "outputs": [
        {
          "output_type": "stream",
          "name": "stdout",
          "text": [
            "Botnet abundance: 0.69%\n"
          ]
        }
      ],
      "source": [
        "edf = pd.read_csv('https://gist.githubusercontent.com/silkspace/33bde3e69ae24fee1298a66d1e00b467/raw/dc66bd6f1687270be7098f94b3929d6a055b4438/malware_bots.csv', index_col=0)\n",
        "T = edf.Label.apply(lambda x: True if 'Botnet' in x else False)\n",
        "bot = edf[T]\n",
        "nbot = edf[~T]\n",
        "print(f'Botnet abundance: {100*len(bot)/len(edf):0.2f}%')# so botnet traffic makes up a tiny fraction of total\n",
        "\n",
        "# let's balance the dataset in a 10-1 ratio, for speed and demonstrative purposes\n",
        "negs = nbot.sample(10*len(bot))\n",
        "edf = pd.concat([bot, negs])  # top part of arrays are bot traffic, then all non-bot traffic\n",
        "edf = edf.drop_duplicates()\n",
        "\n",
        "# some useful indicators for later that predict Botnet as Bool and Int\n",
        "Y = edf.Label.apply(lambda x: 1 if 'Botnet' in x else 0)  # np.array(T)\n",
        "\n",
        "# Later we will use and exploit any meaning shared between the labels in a latent distribution\n",
        "\n",
        "# add it to the dataframe\n",
        "edf['bot'] = Y\n",
        "\n",
        "# name some columns for edges and features\n",
        "src = 'SrcAddr'\n",
        "dst = 'DstAddr'\n",
        "good_cols_with_edges = ['Dur', 'Proto', 'Sport',\n",
        "       'Dport', 'State', 'TotBytes', 'SrcBytes', src, dst]\n",
        "\n",
        "good_cols_without_edges = ['Dur', 'Proto', 'Sport',\n",
        "       'Dport', 'State', 'TotPkts', 'TotBytes', 'SrcBytes']\n",
        "\n",
        "## some encoding parameters\n",
        "n_topics = 20\n",
        "n_topics_target = 7\n",
        "\n"
      ],
      "id": "3b2f1b00-6984-44c2-9148-6f38282bc0de"
    },
    {
      "cell_type": "code",
      "execution_count": null,
      "metadata": {
        "id": "294da65b-8116-41a9-93e7-6c6c5b7accdb"
      },
      "outputs": [],
      "source": [
        "# lets umap the data\n",
        "g = graphistry.edges(cudf.from_pandas(edf), src, dst)\n",
        "\n",
        "pr = cProfile.Profile()\n",
        "pr.enable()\n",
        "g6b = g.umap(kind='edges', \n",
        "            X=good_cols_with_edges, \n",
        "            y = ['bot'], \n",
        "            # use_scaler='quantile',\n",
        "            # use_scaler_target=None,\n",
        "            cardinality_threshold=20,\n",
        "            cardinality_threshold_target=2, \n",
        "            n_topics=n_topics,\n",
        "            feature_engine='cu_cat',\n",
        "            # engine='cuml',\n",
        "            memoize=False,\n",
        "            n_topics_target=n_topics_target,\n",
        "            n_bins=n_topics_target,\n",
        "            metric='euclidean', \n",
        "            n_neighbors=12)\n",
        "pr.disable()\n",
        "stats = Stats(pr)\n",
        "stats.sort_stats('tottime').print_stats(20)\n",
        "\n",
        "with open('ctu13_umap_cudf-cu_cat.txt', 'w') as stream:\n",
        "    stats = Stats(pr,stream=stream)\n",
        "    stats.sort_stats('tottime').print_stats(20)\n"
      ],
      "id": "294da65b-8116-41a9-93e7-6c6c5b7accdb"
    },
    {
      "cell_type": "code",
      "execution_count": null,
      "metadata": {
        "id": "b0947964-efba-43be-acdc-39e52d7e2261"
      },
      "outputs": [],
      "source": [
        "# lets umap the data\n",
        "g = graphistry.edges(edf, src, dst)\n",
        "\n",
        "pr = cProfile.Profile()\n",
        "pr.enable()\n",
        "g6a = g.umap(kind='edges', \n",
        "            X=good_cols_with_edges, \n",
        "            y = ['bot'], \n",
        "            use_scaler='quantile',\n",
        "            use_scaler_target=None,\n",
        "            cardinality_threshold=20,\n",
        "            cardinality_threshold_target=2, \n",
        "            n_topics=n_topics,\n",
        "            feature_engine='cu_cat',\n",
        "            # engine='cuml',\n",
        "            memoize=False,\n",
        "            n_topics_target=n_topics_target,\n",
        "            n_bins=n_topics_target,\n",
        "            metric='euclidean', \n",
        "            n_neighbors=12)\n",
        "pr.disable()\n",
        "stats = Stats(pr)\n",
        "stats.sort_stats('tottime').print_stats(20)\n",
        "\n",
        "with open('ctu13_umap_cu_cat.txt', 'w') as stream:\n",
        "    stats = Stats(pr,stream=stream)\n",
        "    stats.sort_stats('tottime').print_stats(20)\n"
      ],
      "id": "b0947964-efba-43be-acdc-39e52d7e2261"
    },
    {
      "cell_type": "code",
      "execution_count": null,
      "metadata": {
        "id": "066c8421-4c91-4e6a-b6de-07a62eecdfb1"
      },
      "outputs": [],
      "source": [
        "### lets umap the data\n",
        "g = graphistry.edges(edf, src, dst)\n",
        "pr = cProfile.Profile()\n",
        "pr.enable()\n",
        "g6c = g.umap(kind='edges', \n",
        "            X=good_cols_with_edges, \n",
        "            y = ['bot'], \n",
        "            use_scaler='quantile',\n",
        "            use_scaler_target=None,\n",
        "            cardinality_threshold=20,\n",
        "            cardinality_threshold_target=2, \n",
        "            n_topics=n_topics,\n",
        "            feature_engine='dirty_cat',\n",
        "            # engine='cuml',\n",
        "            memoize=False,\n",
        "            n_topics_target=n_topics_target,\n",
        "            n_bins=n_topics_target,\n",
        "            metric='euclidean', \n",
        "            n_neighbors=12)\n",
        "pr.disable()\n",
        "stats = Stats(pr)\n",
        "stats.sort_stats('tottime').print_stats(20)\n",
        "\n",
        "with open('ctu13_umap_dirtycat.txt', 'w') as stream:\n",
        "    stats = Stats(pr,stream=stream)\n",
        "    stats.sort_stats('tottime').print_stats(20)\n"
      ],
      "id": "066c8421-4c91-4e6a-b6de-07a62eecdfb1"
    },
    {
      "cell_type": "markdown",
      "metadata": {
        "id": "6657b008-5094-42fd-96a8-177edf7e5ebd"
      },
      "source": [
        "### 20newsgroups"
      ],
      "id": "6657b008-5094-42fd-96a8-177edf7e5ebd"
    },
    {
      "cell_type": "code",
      "execution_count": 34,
      "metadata": {
        "id": "625c5db9-bd1e-40df-9cce-604a675de2aa"
      },
      "outputs": [],
      "source": [
        "from sklearn.datasets import fetch_20newsgroups\n",
        "# newsgroups = fetch_20newsgroups()#categories=categories)\n",
        "n_samples = 500\n",
        "# n_features = 1000\n",
        "# n_components = 10\n",
        "# n_top_words = 20\n",
        "# batch_size = 128\n",
        "# init = \"nndsvda\"\n",
        "\n",
        "news, _ = fetch_20newsgroups(\n",
        "    shuffle=True,\n",
        "    random_state=1,\n",
        "    remove=(\"headers\", \"footers\", \"quotes\"),\n",
        "    return_X_y=True,\n",
        ")\n",
        "\n",
        "news = news[:n_samples]\n",
        "news=pd.DataFrame(news)"
      ],
      "id": "625c5db9-bd1e-40df-9cce-604a675de2aa"
    },
    {
      "cell_type": "code",
      "source": [
        "import logging\n",
        "# logging.basicConfig(level=logging)\n",
        "logging.basicConfig(level=None)"
      ],
      "metadata": {
        "id": "4op4etIhGwB3"
      },
      "id": "4op4etIhGwB3",
      "execution_count": 32,
      "outputs": []
    },
    {
      "cell_type": "code",
      "execution_count": 35,
      "metadata": {
        "id": "427e3cb3-60fe-4289-9655-fbdecda1a9ca",
        "colab": {
          "base_uri": "https://localhost:8080/"
        },
        "outputId": "b5e53c94-5f17-4eed-f17e-ee78f33bf160"
      },
      "outputs": [
        {
          "output_type": "stream",
          "name": "stderr",
          "text": [
            "WARNING:root:Target is not of type(DataFrame) and has no columns"
          ]
        },
        {
          "output_type": "stream",
          "name": "stdout",
          "text": [
            "Featurizing nodes with feature_engine=cu_cat\n",
            "Using GPU: cu_cat\n",
            "         8512735 function calls (8496584 primitive calls) in 41.524 seconds\n",
            "\n",
            "   Ordered by: internal time\n",
            "   List reduced from 1951 to 20 due to restriction <20>\n",
            "\n",
            "   ncalls  tottime  percall  cumtime  percall filename:lineno(function)\n",
            "        3    6.291    2.097    6.291    2.097 /usr/local/lib/python3.9/dist-packages/numpy/lib/arraysetops.py:519(in1d)\n",
            "        6    5.732    0.955    7.280    1.213 /usr/local/lib/python3.9/dist-packages/cu_cat/_gap_encoder.py:1126(_multiplicative_update_h_smallfast)\n",
            "      208    5.468    0.026   19.062    0.092 /usr/local/lib/python3.9/dist-packages/cu_cat/_gap_encoder.py:1042(_multiplicative_update_h)\n",
            "    84103    2.952    0.000    3.564    0.000 /usr/local/lib/python3.9/dist-packages/rmm/rmm.py:216(rmm_cupy_allocator)\n",
            "    13374    2.141    0.000    3.116    0.000 /usr/local/lib/python3.9/dist-packages/cupyx/scipy/sparse/_index.py:44(_get_csr_submatrix_major_axis)\n",
            "    40606    1.971    0.000    1.971    0.000 {built-in method numpy.array}\n",
            "        7    1.465    0.209    3.348    0.478 /usr/local/lib/python3.9/dist-packages/cu_cat/_gap_encoder.py:181(_get_H)\n",
            "757012/756998    1.351    0.000    8.932    0.000 {built-in method numpy.core._multiarray_umath.implement_array_function}\n",
            "    40337    1.111    0.000    2.718    0.000 {method 'copy' of 'cupy._core.core.ndarray' objects}\n",
            "    39839    1.107    0.000    1.235    0.000 {method 'get' of 'cupy._core.core.ndarray' objects}\n",
            "    55085    1.043    0.000    1.774    0.000 {built-in method cupy._core.core.array}\n",
            "      202    0.605    0.003    0.852    0.004 /usr/local/lib/python3.9/dist-packages/cupyx/scipy/sparse/csr.py:148(__mul__)\n",
            "       15    0.397    0.026    0.404    0.027 /usr/local/lib/python3.9/dist-packages/cudf/core/column/string.py:4619(character_ngrams)\n",
            "    26978    0.392    0.000    0.815    0.000 /usr/local/lib/python3.9/dist-packages/cupyx/scipy/sparse/compressed.py:195(__init__)\n",
            "   126950    0.372    0.000    0.372    0.000 {method 'reduce' of 'numpy.ufunc' objects}\n",
            "        7    0.362    0.052    0.366    0.052 /usr/local/lib/python3.9/dist-packages/cudf/core/column/string.py:1800(lower)\n",
            "   507072    0.337    0.000    1.252    0.000 <__array_function__ internals>:177(dot)\n",
            "   126772    0.290    0.000    1.052    0.000 /usr/local/lib/python3.9/dist-packages/numpy/core/fromnumeric.py:69(_wrapreduction)\n",
            "    13270    0.288    0.000    7.246    0.001 /usr/local/lib/python3.9/dist-packages/cupyx/scipy/sparse/csr.py:548(_get_intXslice)\n",
            "    26750    0.225    0.000    0.486    0.000 /usr/local/lib/python3.9/dist-packages/scipy/sparse/_sputils.py:147(get_index_dtype)\n",
            "\n",
            "\n"
          ]
        }
      ],
      "source": [
        "g = graphistry.nodes(cudf.from_pandas(news))\n",
        "pr = cProfile.Profile()\n",
        "pr.enable()\n",
        "\n",
        "\n",
        "g8 = g.featurize(feature_engine='cu_cat',memoize=False)\n",
        "g8b = g8.umap()#,feature_engine='cu_cat',memoize=False)\n",
        "\n",
        "pr.disable()\n",
        "stats = Stats(pr)\n",
        "stats.sort_stats('tottime').print_stats(20)\n",
        "\n",
        "with open('20news_umap_cudf-cu_cat.txt', 'w') as stream:\n",
        "    stats = Stats(pr,stream=stream)\n",
        "    stats.sort_stats('tottime').print_stats(20)"
      ],
      "id": "427e3cb3-60fe-4289-9655-fbdecda1a9ca"
    },
    {
      "cell_type": "code",
      "execution_count": 37,
      "metadata": {
        "id": "9683c33e-aa71-47a2-87f2-16b69d482a85",
        "colab": {
          "base_uri": "https://localhost:8080/"
        },
        "outputId": "929494cf-a3d7-4dcf-b0bb-5fe96ed03084"
      },
      "outputs": [
        {
          "output_type": "stream",
          "name": "stderr",
          "text": [
            "WARNING:root:Target is not of type(DataFrame) and has no columns"
          ]
        },
        {
          "output_type": "stream",
          "name": "stdout",
          "text": [
            "Featurizing nodes with feature_engine=cu_cat\n",
            "Using GPU: cu_cat\n"
          ]
        },
        {
          "output_type": "stream",
          "name": "stderr",
          "text": [
            "WARNING:root:! Failed featurize speedup attempt. Continuing without memoization speedups.WARNING:root:Target is not of type(DataFrame) and has no columns"
          ]
        },
        {
          "output_type": "stream",
          "name": "stdout",
          "text": [
            "Using GPU: cu_cat\n"
          ]
        },
        {
          "output_type": "stream",
          "name": "stderr",
          "text": [
            "WARNING:root:! Failed umap speedup attempt. Continuing without memoization speedups.WARNING:graphistry.umap_utils:* Ignoring target column of shape (500, 0) in UMAP fit, as it is not one dimensional"
          ]
        },
        {
          "output_type": "stream",
          "name": "stdout",
          "text": [
            "         17151891 function calls (17118991 primitive calls) in 91.635 seconds\n",
            "\n",
            "   Ordered by: internal time\n",
            "   List reduced from 2537 to 20 due to restriction <20>\n",
            "\n",
            "   ncalls  tottime  percall  cumtime  percall filename:lineno(function)\n",
            "       12   12.542    1.045   16.656    1.388 /usr/local/lib/python3.9/dist-packages/cu_cat/_gap_encoder.py:1126(_multiplicative_update_h_smallfast)\n",
            "      416   10.534    0.025   37.019    0.089 /usr/local/lib/python3.9/dist-packages/cu_cat/_gap_encoder.py:1042(_multiplicative_update_h)\n",
            "        6   10.250    1.708   10.250    1.708 /usr/local/lib/python3.9/dist-packages/numpy/lib/arraysetops.py:519(in1d)\n",
            "        1    7.328    7.328    8.452    8.452 /usr/local/lib/python3.9/dist-packages/cuml/internals/api_decorators.py:397(inner_with_setters)\n",
            "   168234    6.830    0.000    8.148    0.000 /usr/local/lib/python3.9/dist-packages/rmm/rmm.py:216(rmm_cupy_allocator)\n",
            "    26748    4.232    0.000    6.154    0.000 /usr/local/lib/python3.9/dist-packages/cupyx/scipy/sparse/_index.py:44(_get_csr_submatrix_major_axis)\n",
            "    81244    3.914    0.000    3.914    0.000 {built-in method numpy.array}\n",
            "       14    2.984    0.213    7.388    0.528 /usr/local/lib/python3.9/dist-packages/cu_cat/_gap_encoder.py:181(_get_H)\n",
            "1522545/1522461    2.583    0.000   15.291    0.000 {built-in method numpy.core._multiarray_umath.implement_array_function}\n",
            "   110348    2.461    0.000    4.217    0.000 {built-in method cupy._core.core.array}\n",
            "    80674    2.217    0.000    5.422    0.000 {method 'copy' of 'cupy._core.core.ndarray' objects}\n",
            "    79688    2.193    0.000    2.445    0.000 {method 'get' of 'cupy._core.core.ndarray' objects}\n",
            "      404    1.326    0.003    1.878    0.005 /usr/local/lib/python3.9/dist-packages/cupyx/scipy/sparse/csr.py:148(__mul__)\n",
            "        6    1.280    0.213    1.280    0.213 {built-in method cupy_backends.cuda.libs.nvrtc.compileProgram}\n",
            "       30    0.849    0.028    0.866    0.029 /usr/local/lib/python3.9/dist-packages/cudf/core/column/string.py:4619(character_ngrams)\n",
            "    53956    0.789    0.000    1.616    0.000 /usr/local/lib/python3.9/dist-packages/cupyx/scipy/sparse/compressed.py:195(__init__)\n",
            "   255671    0.706    0.000    0.706    0.000 {method 'reduce' of 'numpy.ufunc' objects}\n",
            "       14    0.674    0.048    0.683    0.049 /usr/local/lib/python3.9/dist-packages/cudf/core/column/string.py:1800(lower)\n",
            "  1020852    0.648    0.000    2.410    0.000 <__array_function__ internals>:177(dot)\n",
            "    26540    0.573    0.000   14.342    0.001 /usr/local/lib/python3.9/dist-packages/cupyx/scipy/sparse/csr.py:548(_get_intXslice)\n",
            "\n",
            "\n"
          ]
        }
      ],
      "source": [
        "g = graphistry.nodes(news)\n",
        "pr = cProfile.Profile()\n",
        "pr.enable()\n",
        "\n",
        "g7 = g.featurize(feature_engine='cu_cat',memoize=False)\n",
        "g7a = g7.umap()#,feature_engine='cu_cat',memoize=False)\n",
        "\n",
        "pr.disable()\n",
        "stats = Stats(pr)\n",
        "stats.sort_stats('tottime').print_stats(20)\n",
        "\n",
        "with open('20news_umap_cu_cat.txt', 'w') as stream:\n",
        "    stats = Stats(pr,stream=stream)\n",
        "    stats.sort_stats('tottime').print_stats(20)"
      ],
      "id": "9683c33e-aa71-47a2-87f2-16b69d482a85"
    },
    {
      "cell_type": "code",
      "execution_count": 1,
      "metadata": {
        "id": "b88c5fba-32d3-4140-9a9e-8fd6a652f07c",
        "colab": {
          "base_uri": "https://localhost:8080/",
          "height": 236
        },
        "outputId": "822c2e37-117b-45ef-fe4c-8d1620d8cd84"
      },
      "outputs": [
        {
          "output_type": "error",
          "ename": "NameError",
          "evalue": "ignored",
          "traceback": [
            "\u001b[0;31m---------------------------------------------------------------------------\u001b[0m",
            "\u001b[0;31mNameError\u001b[0m                                 Traceback (most recent call last)",
            "\u001b[0;32m<ipython-input-1-a1b16e6d2a28>\u001b[0m in \u001b[0;36m<cell line: 1>\u001b[0;34m()\u001b[0m\n\u001b[0;32m----> 1\u001b[0;31m \u001b[0mg\u001b[0m \u001b[0;34m=\u001b[0m \u001b[0mgraphistry\u001b[0m\u001b[0;34m.\u001b[0m\u001b[0mnodes\u001b[0m\u001b[0;34m(\u001b[0m\u001b[0mnews\u001b[0m\u001b[0;34m)\u001b[0m\u001b[0;34m\u001b[0m\u001b[0;34m\u001b[0m\u001b[0m\n\u001b[0m\u001b[1;32m      2\u001b[0m \u001b[0mpr\u001b[0m \u001b[0;34m=\u001b[0m \u001b[0mcProfile\u001b[0m\u001b[0;34m.\u001b[0m\u001b[0mProfile\u001b[0m\u001b[0;34m(\u001b[0m\u001b[0;34m)\u001b[0m\u001b[0;34m\u001b[0m\u001b[0;34m\u001b[0m\u001b[0m\n\u001b[1;32m      3\u001b[0m \u001b[0mpr\u001b[0m\u001b[0;34m.\u001b[0m\u001b[0menable\u001b[0m\u001b[0;34m(\u001b[0m\u001b[0;34m)\u001b[0m\u001b[0;34m\u001b[0m\u001b[0;34m\u001b[0m\u001b[0m\n\u001b[1;32m      4\u001b[0m \u001b[0;34m\u001b[0m\u001b[0m\n\u001b[1;32m      5\u001b[0m \u001b[0mg9\u001b[0m \u001b[0;34m=\u001b[0m \u001b[0mg\u001b[0m\u001b[0;34m.\u001b[0m\u001b[0mfeaturize\u001b[0m\u001b[0;34m(\u001b[0m\u001b[0mfeature_engine\u001b[0m\u001b[0;34m=\u001b[0m\u001b[0;34m'dirty_cat'\u001b[0m\u001b[0;34m,\u001b[0m\u001b[0mmemoize\u001b[0m\u001b[0;34m=\u001b[0m\u001b[0;32mFalse\u001b[0m\u001b[0;34m)\u001b[0m\u001b[0;34m\u001b[0m\u001b[0;34m\u001b[0m\u001b[0m\n",
            "\u001b[0;31mNameError\u001b[0m: name 'graphistry' is not defined"
          ]
        }
      ],
      "source": [
        "g = graphistry.nodes(news)\n",
        "pr = cProfile.Profile()\n",
        "pr.enable()\n",
        "\n",
        "g9 = g.featurize(feature_engine='dirty_cat',memoize=False)\n",
        "# g9c = g9.umap(engine='cuml')#,feature_engine='cu_cat',memoize=False)\n",
        "\n",
        "pr.disable()\n",
        "stats = Stats(pr)\n",
        "stats.sort_stats('tottime').print_stats(20)\n",
        "\n",
        "with open('20news_umap_dirtycat.txt', 'w') as stream:\n",
        "    stats = Stats(pr,stream=stream)\n",
        "    stats.sort_stats('tottime').print_stats(20)"
      ],
      "id": "b88c5fba-32d3-4140-9a9e-8fd6a652f07c"
    },
    {
      "cell_type": "code",
      "execution_count": null,
      "metadata": {
        "id": "FNlKXbL48xOe"
      },
      "outputs": [],
      "source": [
        "!cp *.txt /content/drive/MyDrive/graphistry"
      ],
      "id": "FNlKXbL48xOe"
    },
    {
      "cell_type": "markdown",
      "metadata": {
        "id": "f2eafa7a-9b51-492a-ab0e-ed7ec89a2a6f"
      },
      "source": [
        "### winlogs"
      ],
      "id": "f2eafa7a-9b51-492a-ab0e-ed7ec89a2a6f"
    },
    {
      "cell_type": "code",
      "execution_count": 27,
      "metadata": {
        "colab": {
          "base_uri": "https://localhost:8080/"
        },
        "id": "216f66ba-18a5-4ac5-bb10-b7aefe086df0",
        "outputId": "85fd21ee-1883-4b46-ad3a-889f4645439f"
      },
      "outputs": [
        {
          "output_type": "stream",
          "name": "stdout",
          "text": [
            "File ‘part.88.parquet’ already there; not retrieving.\n",
            "\n"
          ]
        },
        {
          "output_type": "stream",
          "name": "stderr",
          "text": [
            "WARNING:root:Target is not of type(DataFrame) and has no columns"
          ]
        },
        {
          "output_type": "stream",
          "name": "stdout",
          "text": [
            "Featurizing nodes with feature_engine=cu_cat\n",
            "Using GPU: cu_cat\n",
            "         5039507 function calls (4962708 primitive calls) in 34.820 seconds\n",
            "\n",
            "   Ordered by: internal time\n",
            "   List reduced from 2046 to 20 due to restriction <20>\n",
            "\n",
            "   ncalls  tottime  percall  cumtime  percall filename:lineno(function)\n",
            "       48   20.313    0.423   23.328    0.486 /usr/local/lib/python3.9/dist-packages/cu_cat/_gap_encoder.py:1126(_multiplicative_update_h_smallfast)\n",
            "       18    3.050    0.169    3.050    0.169 /usr/local/lib/python3.9/dist-packages/numpy/lib/arraysetops.py:519(in1d)\n",
            "    18573    2.160    0.000    2.304    0.000 /usr/local/lib/python3.9/dist-packages/rmm/rmm.py:216(rmm_cupy_allocator)\n",
            "       42    1.843    0.044    2.237    0.053 /usr/local/lib/python3.9/dist-packages/cu_cat/_gap_encoder.py:181(_get_H)\n",
            "       30    0.667    0.022    0.778    0.026 /usr/local/lib/python3.9/dist-packages/cu_cat/_gap_encoder.py:994(_multiplicative_update_w_smallfast)\n",
            "     1895    0.428    0.000    0.459    0.000 {method 'update' of 'dict' objects}\n",
            "    31182    0.379    0.000    0.546    0.000 /usr/lib/python3.9/typing.py:1065(_get_protocol_attrs)\n",
            "       17    0.351    0.021    0.351    0.021 /usr/local/lib/python3.9/dist-packages/cudf/core/column/column.py:844(distinct_count)\n",
            "   134829    0.236    0.000    0.262    0.000 {built-in method cupy._core.core.array}\n",
            "      415    0.194    0.000    0.682    0.002 /usr/local/lib/python3.9/dist-packages/cudf/core/indexed_frame.py:1508(_gather)\n",
            "      126    0.158    0.001    0.206    0.002 /usr/local/lib/python3.9/dist-packages/cudf/core/column/column.py:1040(unique)\n",
            "625238/624029    0.151    0.000    0.569    0.000 {built-in method builtins.isinstance}\n",
            "      896    0.146    0.000    0.576    0.001 /usr/local/lib/python3.9/dist-packages/cupyx/scipy/sparse/csr.py:148(__mul__)\n",
            "        6    0.122    0.020    0.122    0.020 {method 'gamma' of 'numpy.random.mtrand.RandomState' objects}\n",
            "      255    0.113    0.000    0.172    0.001 /usr/local/lib/python3.9/dist-packages/cudf/core/frame.py:1540(_get_sorted_inds)\n",
            "56354/5988    0.109    0.000    3.986    0.001 /usr/local/lib/python3.9/dist-packages/nvtx/nvtx.py:98(inner)\n",
            "     2829    0.098    0.000    0.225    0.000 /usr/local/lib/python3.9/dist-packages/cupyx/scipy/sparse/compressed.py:649(__get_has_canonical_format)\n",
            "   623767    0.093    0.000    0.093    0.000 {method 'startswith' of 'str' objects}\n",
            "      510    0.090    0.000    0.090    0.000 {method 'argsort' of 'numpy.ndarray' objects}\n",
            "   203012    0.089    0.000    0.136    0.000 /usr/local/lib/python3.9/dist-packages/numpy/core/numeric.py:1859(isscalar)\n",
            "\n",
            "\n"
          ]
        },
        {
          "output_type": "stream",
          "name": "stderr",
          "text": [
            "WARNING:root:Target is not of type(DataFrame) and has no columns"
          ]
        },
        {
          "output_type": "stream",
          "name": "stdout",
          "text": [
            "Featurizing nodes with feature_engine=cu_cat\n",
            "Using GPU: cu_cat\n",
            "         5032028 function calls (4955295 primitive calls) in 35.162 seconds\n",
            "\n",
            "   Ordered by: internal time\n",
            "   List reduced from 1965 to 20 due to restriction <20>\n",
            "\n",
            "   ncalls  tottime  percall  cumtime  percall filename:lineno(function)\n",
            "       48   20.209    0.421   23.576    0.491 /usr/local/lib/python3.9/dist-packages/cu_cat/_gap_encoder.py:1126(_multiplicative_update_h_smallfast)\n",
            "       18    3.478    0.193    3.478    0.193 /usr/local/lib/python3.9/dist-packages/numpy/lib/arraysetops.py:519(in1d)\n",
            "    18357    2.391    0.000    2.559    0.000 /usr/local/lib/python3.9/dist-packages/rmm/rmm.py:216(rmm_cupy_allocator)\n",
            "       42    1.798    0.043    2.190    0.052 /usr/local/lib/python3.9/dist-packages/cu_cat/_gap_encoder.py:181(_get_H)\n",
            "       30    0.657    0.022    0.784    0.026 /usr/local/lib/python3.9/dist-packages/cu_cat/_gap_encoder.py:994(_multiplicative_update_w_smallfast)\n",
            "    31174    0.417    0.000    0.595    0.000 /usr/lib/python3.9/typing.py:1065(_get_protocol_attrs)\n",
            "   134817    0.236    0.000    0.267    0.000 {built-in method cupy._core.core.array}\n",
            "     1871    0.224    0.000    0.259    0.000 {method 'update' of 'dict' objects}\n",
            "      415    0.196    0.000    0.730    0.002 /usr/local/lib/python3.9/dist-packages/cudf/core/indexed_frame.py:1508(_gather)\n",
            "      126    0.160    0.001    0.213    0.002 /usr/local/lib/python3.9/dist-packages/cudf/core/column/column.py:1040(unique)\n",
            "624583/623387    0.156    0.000    0.600    0.000 {built-in method builtins.isinstance}\n",
            "        6    0.149    0.025    0.149    0.025 {method 'gamma' of 'numpy.random.mtrand.RandomState' objects}\n",
            "      884    0.147    0.000    0.640    0.001 /usr/local/lib/python3.9/dist-packages/cupyx/scipy/sparse/csr.py:148(__mul__)\n",
            "56354/5988    0.114    0.000    3.783    0.001 /usr/local/lib/python3.9/dist-packages/nvtx/nvtx.py:98(inner)\n",
            "      255    0.114    0.000    0.175    0.001 /usr/local/lib/python3.9/dist-packages/cudf/core/frame.py:1540(_get_sorted_inds)\n",
            "     2793    0.110    0.000    0.254    0.000 /usr/local/lib/python3.9/dist-packages/cupyx/scipy/sparse/compressed.py:649(__get_has_canonical_format)\n",
            "      510    0.105    0.000    0.105    0.000 {method 'argsort' of 'numpy.ndarray' objects}\n",
            "   623613    0.104    0.000    0.104    0.000 {method 'startswith' of 'str' objects}\n",
            "   202954    0.092    0.000    0.141    0.000 /usr/local/lib/python3.9/dist-packages/numpy/core/numeric.py:1859(isscalar)\n",
            "      457    0.088    0.000    0.206    0.000 /usr/local/lib/python3.9/dist-packages/cudf/core/column/column.py:994(apply_boolean_mask)\n",
            "\n",
            "\n",
            "Featurizing nodes with feature_engine=dirty_cat\n",
            "Using GPU: dirty_cat\n",
            "         25511870 function calls (25229028 primitive calls) in 77.404 seconds\n",
            "\n",
            "   Ordered by: internal time\n",
            "   List reduced from 1713 to 20 due to restriction <20>\n",
            "\n",
            "   ncalls  tottime  percall  cumtime  percall filename:lineno(function)\n",
            "3220594/3219187   17.900    0.000   23.036    0.000 {built-in method numpy.core._multiarray_umath.implement_array_function}\n",
            "     2661   14.503    0.005   39.602    0.015 /usr/local/lib/python3.9/dist-packages/dirty_cat/_gap_encoder.py:1003(_multiplicative_update_h)\n",
            "     2370   10.192    0.004   27.463    0.012 /usr/local/lib/python3.9/dist-packages/dirty_cat/_gap_encoder.py:971(_multiplicative_update_w)\n",
            "       18    4.641    0.258    4.642    0.258 /usr/local/lib/python3.9/dist-packages/numpy/lib/arraysetops.py:519(in1d)\n",
            "   303590    3.228    0.000    7.005    0.000 /usr/local/lib/python3.9/dist-packages/scipy/sparse/_sputils.py:147(get_index_dtype)\n",
            "   146809    2.942    0.000    8.355    0.000 /usr/local/lib/python3.9/dist-packages/scipy/sparse/_compressed.py:136(check_format)\n",
            "  2601446    2.356    0.000   19.716    0.000 <__array_function__ internals>:177(dot)\n",
            "     2370    1.720    0.001    2.388    0.001 /usr/local/lib/python3.9/dist-packages/dirty_cat/_gap_encoder.py:961(_rescale_W)\n",
            "   607220    1.431    0.000    1.431    0.000 /usr/local/lib/python3.9/dist-packages/numpy/core/getlimits.py:647(__init__)\n",
            "146809/146563    1.375    0.000   17.176    0.000 /usr/local/lib/python3.9/dist-packages/scipy/sparse/_compressed.py:26(__init__)\n",
            "   146809    0.982    0.000    2.181    0.000 /usr/local/lib/python3.9/dist-packages/scipy/sparse/_compressed.py:1168(prune)\n",
            "    35192    0.958    0.000    0.958    0.000 {method 'reduce' of 'numpy.ufunc' objects}\n",
            "    99540    0.850    0.000    0.850    0.000 {built-in method scipy.sparse._sparsetools.coo_matvec}\n",
            "   142880    0.769    0.000   16.847    0.000 /usr/local/lib/python3.9/dist-packages/scipy/sparse/_csr.py:236(__iter__)\n",
            "   151549    0.753    0.000    1.444    0.000 /usr/local/lib/python3.9/dist-packages/scipy/sparse/_sputils.py:295(check_shape)\n",
            "    10597    0.684    0.000    0.684    0.000 {built-in method numpy.zeros}\n",
            "   454027    0.655    0.000    0.655    0.000 {built-in method numpy.array}\n",
            "   151303    0.620    0.000    0.649    0.000 /usr/local/lib/python3.9/dist-packages/scipy/sparse/_sputils.py:238(isshape)\n",
            "   589240    0.590    0.000    1.724    0.000 <__array_function__ internals>:177(can_cast)\n",
            "       40    0.549    0.014    1.621    0.041 /usr/local/lib/python3.9/dist-packages/sklearn/feature_extraction/text.py:1258(_count_vocab)\n",
            "\n",
            "\n"
          ]
        }
      ],
      "source": [
        "!wget -nc https://www.dropbox.com/s/31dx1g6g59exoc3/part.88.parquet\n",
        "winlogs=pd.read_parquet('part.88.parquet')\n",
        "n=10000\n",
        "winlogs=winlogs.sample(n,replace=False).iloc[:,:8]\n",
        "\n",
        "g = graphistry.nodes(winlogs)\n",
        "pr = cProfile.Profile()\n",
        "pr.enable()\n",
        "\n",
        "g10 = g.featurize(feature_engine='cu_cat',memoize=False)\n",
        "# g10a = g10.umap(engine='cuml')#,feature_engine='cu_cat',memoize=False)\n",
        "\n",
        "pr.disable()\n",
        "stats = Stats(pr)\n",
        "stats.sort_stats('tottime').print_stats(20)\n",
        "\n",
        "with open('winlogs_featurize+umap_cu_cat_'+str(n)+'.txt', 'w') as stream:\n",
        "    stats = Stats(pr,stream=stream)\n",
        "    stats.sort_stats('tottime').print_stats(20)\n",
        "\n",
        "g = graphistry.nodes(cudf.from_pandas(winlogs))\n",
        "pr = cProfile.Profile()\n",
        "pr.enable()\n",
        "\n",
        "g11 = g.featurize(feature_engine='cu_cat',memoize=False)\n",
        "# g11b = g11.umap(engine='cuml')#,feature_engine='cu_cat',memoize=False)\n",
        "\n",
        "pr.disable()\n",
        "stats = Stats(pr)\n",
        "stats.sort_stats('tottime').print_stats(20)\n",
        "\n",
        "with open('winlogs_featurize+umap_cudf-cu_cat_'+str(n)+'.txt', 'w') as stream:\n",
        "    stats = Stats(pr,stream=stream)\n",
        "    stats.sort_stats('tottime').print_stats(20)\n",
        "\n",
        "\n",
        "g = graphistry.nodes(winlogs)\n",
        "pr = cProfile.Profile()\n",
        "pr.enable()\n",
        "\n",
        "\n",
        "g12 = g.featurize(feature_engine='dirty_cat',memoize=False)\n",
        "# g12c = g12.umap(engine='cuml')#,feature_engine='cu_cat',memoize=False)\n",
        "\n",
        "pr.disable()\n",
        "stats = Stats(pr)\n",
        "stats.sort_stats('tottime').print_stats(20)\n",
        "\n",
        "with open('winlogs_featurize+umap_dirtycat_'+str(n)+'.txt', 'w') as stream:\n",
        "    stats = Stats(pr,stream=stream)\n",
        "    stats.sort_stats('tottime').print_stats(20)"
      ],
      "id": "216f66ba-18a5-4ac5-bb10-b7aefe086df0"
    },
    {
      "cell_type": "code",
      "execution_count": null,
      "metadata": {
        "id": "87452d7b-60b4-4c23-88c3-b60ee8ae06bf"
      },
      "outputs": [],
      "source": [
        "!cp *.txt /content/drive/MyDrive/graphistry"
      ],
      "id": "87452d7b-60b4-4c23-88c3-b60ee8ae06bf"
    },
    {
      "cell_type": "code",
      "execution_count": null,
      "metadata": {
        "id": "21c2ce89-b39c-49ee-955e-932b40c2cf31"
      },
      "outputs": [],
      "source": [],
      "id": "21c2ce89-b39c-49ee-955e-932b40c2cf31"
    },
    {
      "cell_type": "markdown",
      "metadata": {
        "id": "a1f6bcea-42c9-4f00-baf1-86e4c4349434"
      },
      "source": [
        "### ask HN"
      ],
      "id": "a1f6bcea-42c9-4f00-baf1-86e4c4349434"
    },
    {
      "cell_type": "code",
      "execution_count": 15,
      "metadata": {
        "id": "44bbd703-0c8c-48cc-be2c-f4bbe53879d4"
      },
      "outputs": [],
      "source": [
        "# # get the data top 3000 posts on Hacker News\n",
        "askHN = pd.read_csv('https://storage.googleapis.com/cohere-assets/blog/text-clustering/data/askhn3k_df.csv', index_col=0)\n",
        "\n",
        "# df = askHN.sample(1000,replace=True) # set smaller if you want to test a minibatch \n",
        "# df = df[['text','title']]\n",
        "# df['title'] = df['title'].sample(frac=1).values"
      ],
      "id": "44bbd703-0c8c-48cc-be2c-f4bbe53879d4"
    },
    {
      "cell_type": "code",
      "execution_count": null,
      "metadata": {
        "id": "cab7e1db-329c-4be7-9760-471d0e9916a6"
      },
      "outputs": [],
      "source": [
        "g = graphistry.nodes(cudf.from_pandas(askHN))\n",
        "pr = cProfile.Profile()\n",
        "pr.enable()\n",
        "\n",
        "g1 = g.featurize(feature_engine='cu_cat',memoize=False)\n",
        "# g1a = g1.umap(engine='cuml')#,feature_engine='cu_cat',memoize=False)\n",
        "\n",
        "pr.disable()\n",
        "stats = Stats(pr)\n",
        "stats.sort_stats('tottime').print_stats(20)\n",
        "\n",
        "with open('aHN_umap_cudf_cat.txt', 'w') as stream:\n",
        "    stats = Stats(pr,stream=stream)\n",
        "    stats.sort_stats('tottime').print_stats(20)"
      ],
      "id": "cab7e1db-329c-4be7-9760-471d0e9916a6"
    },
    {
      "cell_type": "code",
      "execution_count": null,
      "metadata": {
        "id": "ef216a0b-2074-42cf-a70d-b3cb40fafd5d"
      },
      "outputs": [],
      "source": [
        "# g1a = g1.umap(engine='cuml')"
      ],
      "id": "ef216a0b-2074-42cf-a70d-b3cb40fafd5d"
    },
    {
      "cell_type": "code",
      "execution_count": null,
      "metadata": {
        "id": "353f72e4-2119-4546-9dcb-45647881ab2d"
      },
      "outputs": [],
      "source": [
        "g = graphistry.nodes(askHN)\n",
        "pr = cProfile.Profile()\n",
        "pr.enable()\n",
        "\n",
        "g2 = g.featurize(feature_engine='cu_cat',memoize=False)\n",
        "# g2a = g2.umap(engine='cuml')#,feature_engine='cu_cat',memoize=False)\n",
        "\n",
        "pr.disable()\n",
        "stats = Stats(pr)\n",
        "stats.sort_stats('tottime').print_stats(20)\n",
        "\n",
        "with open('aHN_umap_cu_cat.txt', 'w') as stream:\n",
        "    stats = Stats(pr,stream=stream)\n",
        "    stats.sort_stats('tottime').print_stats(20)"
      ],
      "id": "353f72e4-2119-4546-9dcb-45647881ab2d"
    },
    {
      "cell_type": "code",
      "execution_count": null,
      "metadata": {
        "id": "aHaet8UvIYlu"
      },
      "outputs": [],
      "source": [
        "# g2a = g2.umap(engine='cuml')"
      ],
      "id": "aHaet8UvIYlu"
    },
    {
      "cell_type": "code",
      "execution_count": null,
      "metadata": {
        "id": "505ed578-f056-4d53-9feb-514f07aa0ca3"
      },
      "outputs": [],
      "source": [
        "g = graphistry.nodes(askHN)\n",
        "pr = cProfile.Profile()\n",
        "pr.enable()\n",
        "\n",
        "\n",
        "g3 = g.featurize(feature_engine='dirty_cat',memoize=False)\n",
        "# g3a = g3.umap(engine='cuml')#,feature_engine='cu_cat',memoize=False)\n",
        "\n",
        "pr.disable()\n",
        "stats = Stats(pr)\n",
        "stats.sort_stats('tottime').print_stats(20)\n",
        "\n",
        "with open('aHN_umap_dirtycat_3k.txt', 'w') as stream:\n",
        "    stats = Stats(pr,stream=stream)\n",
        "    stats.sort_stats('tottime').print_stats(20)"
      ],
      "id": "505ed578-f056-4d53-9feb-514f07aa0ca3"
    },
    {
      "cell_type": "code",
      "execution_count": null,
      "metadata": {
        "id": "hX157ptIIaXK"
      },
      "outputs": [],
      "source": [],
      "id": "hX157ptIIaXK"
    },
    {
      "cell_type": "code",
      "execution_count": null,
      "metadata": {
        "id": "a5599817-e773-4369-9049-ea7fc4d7cfa6"
      },
      "outputs": [],
      "source": [
        "# g1a.plot()"
      ],
      "id": "a5599817-e773-4369-9049-ea7fc4d7cfa6"
    },
    {
      "cell_type": "code",
      "execution_count": null,
      "metadata": {
        "id": "e6d6b656-ef14-4e9c-8032-d8f551e04438"
      },
      "outputs": [],
      "source": [
        "# g1b.plot()"
      ],
      "id": "e6d6b656-ef14-4e9c-8032-d8f551e04438"
    }
  ],
  "metadata": {
    "accelerator": "GPU",
    "colab": {
      "provenance": [],
      "toc_visible": true,
      "include_colab_link": true
    },
    "gpuClass": "standard",
    "kernelspec": {
      "display_name": "Python 3 (ipykernel)",
      "language": "python",
      "name": "python3"
    },
    "language_info": {
      "codemirror_mode": {
        "name": "ipython",
        "version": 3
      },
      "file_extension": ".py",
      "mimetype": "text/x-python",
      "name": "python",
      "nbconvert_exporter": "python",
      "pygments_lexer": "ipython3",
      "version": "3.8.13"
    }
  },
  "nbformat": 4,
  "nbformat_minor": 5
}