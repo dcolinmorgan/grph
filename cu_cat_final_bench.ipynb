{
  "cells": [
    {
      "cell_type": "markdown",
      "metadata": {
        "id": "view-in-github",
        "colab_type": "text"
      },
      "source": [
        "<a href=\"https://colab.research.google.com/github/dcolinmorgan/grph/blob/main/cu_cat_final_bench.ipynb\" target=\"_parent\"><img src=\"https://colab.research.google.com/assets/colab-badge.svg\" alt=\"Open In Colab\"/></a>"
      ]
    },
    {
      "cell_type": "code",
      "execution_count": 7,
      "metadata": {
        "id": "3398dccc-fc11-4fcd-a6b8-7e3baf0c108d"
      },
      "outputs": [],
      "source": [
        "import locale\n",
        "def getpreferredencoding(do_setlocale = True):\n",
        "    return \"UTF-8\"\n",
        "locale.getpreferredencoding = getpreferredencoding"
      ],
      "id": "3398dccc-fc11-4fcd-a6b8-7e3baf0c108d"
    },
    {
      "cell_type": "code",
      "execution_count": 2,
      "metadata": {
        "id": "515b40ff-6af7-4160-a0d0-4b6dddb88485",
        "colab": {
          "base_uri": "https://localhost:8080/"
        },
        "outputId": "53026349-9f37-4470-d088-8d0c15550f1e"
      },
      "outputs": [
        {
          "output_type": "stream",
          "name": "stdout",
          "text": [
            "Looking in indexes: https://pypi.org/simple, https://us-python.pkg.dev/colab-wheels/public/simple/, https://pypi.nvidia.com\n",
            "Collecting cuml-cu11==22.10.0\n",
            "  Downloading https://pypi.nvidia.com/cuml-cu11/cuml_cu11-22.10.0-cp39-cp39-manylinux_2_17_x86_64.manylinux2014_x86_64.whl (1262.9 MB)\n",
            "\u001b[2K     \u001b[90m━━━━━━━━━━━━━━━━━━━━━━━━━━━━━━━━━━━━━━━━\u001b[0m \u001b[32m1.3/1.3 GB\u001b[0m \u001b[31m1.3 MB/s\u001b[0m eta \u001b[36m0:00:00\u001b[0m\n",
            "\u001b[?25hCollecting cudf-cu11==22.10.0\n",
            "  Downloading https://pypi.nvidia.com/cudf-cu11/cudf_cu11-22.10.0-cp39-cp39-manylinux_2_17_x86_64.manylinux2014_x86_64.whl (435.2 MB)\n",
            "\u001b[2K     \u001b[90m━━━━━━━━━━━━━━━━━━━━━━━━━━━━━━━━━━━━━━━\u001b[0m \u001b[32m435.2/435.2 MB\u001b[0m \u001b[31m3.4 MB/s\u001b[0m eta \u001b[36m0:00:00\u001b[0m\n",
            "\u001b[?25hCollecting cugraph-cu11==22.10.0\n",
            "  Downloading https://pypi.nvidia.com/cugraph-cu11/cugraph_cu11-22.10.0-cp39-cp39-manylinux_2_17_x86_64.manylinux2014_x86_64.whl (1427.0 MB)\n",
            "\u001b[2K     \u001b[90m━━━━━━━━━━━━━━━━━━━━━━━━━━━━━━━━━━━━━━━━\u001b[0m \u001b[32m1.4/1.4 GB\u001b[0m \u001b[31m1.2 MB/s\u001b[0m eta \u001b[36m0:00:00\u001b[0m\n",
            "\u001b[?25hCollecting pylibraft_cu11==22.10.0\n",
            "  Downloading https://pypi.nvidia.com/pylibraft-cu11/pylibraft_cu11-22.10.0-cp39-cp39-manylinux_2_17_x86_64.manylinux2014_x86_64.whl (138.5 MB)\n",
            "\u001b[2K     \u001b[90m━━━━━━━━━━━━━━━━━━━━━━━━━━━━━━━━━━━━━━━\u001b[0m \u001b[32m138.5/138.5 MB\u001b[0m \u001b[31m8.3 MB/s\u001b[0m eta \u001b[36m0:00:00\u001b[0m\n",
            "\u001b[?25hCollecting raft_dask_cu11==22.10.0\n",
            "  Downloading https://pypi.nvidia.com/raft-dask-cu11/raft_dask_cu11-22.10.0-cp39-cp39-manylinux_2_17_x86_64.manylinux2014_x86_64.whl (210.5 MB)\n",
            "\u001b[2K     \u001b[90m━━━━━━━━━━━━━━━━━━━━━━━━━━━━━━━━━━━━━━━\u001b[0m \u001b[32m210.5/210.5 MB\u001b[0m \u001b[31m5.9 MB/s\u001b[0m eta \u001b[36m0:00:00\u001b[0m\n",
            "\u001b[?25hCollecting dask_cudf_cu11==22.10.0\n",
            "  Downloading https://pypi.nvidia.com/dask-cudf-cu11/dask_cudf_cu11-22.10.0-py3-none-any.whl (73 kB)\n",
            "\u001b[2K     \u001b[90m━━━━━━━━━━━━━━━━━━━━━━━━━━━━━━━━━━━━━━━━\u001b[0m \u001b[32m73.1/73.1 kB\u001b[0m \u001b[31m10.6 MB/s\u001b[0m eta \u001b[36m0:00:00\u001b[0m\n",
            "\u001b[?25hCollecting pylibcugraph_cu11==22.10.0\n",
            "  Downloading https://pypi.nvidia.com/pylibcugraph-cu11/pylibcugraph_cu11-22.10.0-cp39-cp39-manylinux_2_17_x86_64.manylinux2014_x86_64.whl (1422.3 MB)\n",
            "\u001b[2K     \u001b[90m━━━━━━━━━━━━━━━━━━━━━━━━━━━━━━━━━━━━━━━━\u001b[0m \u001b[32m1.4/1.4 GB\u001b[0m \u001b[31m1.2 MB/s\u001b[0m eta \u001b[36m0:00:00\u001b[0m\n",
            "\u001b[?25hCollecting treelite-runtime==3.0.0\n",
            "  Downloading treelite_runtime-3.0.0-py3-none-manylinux2014_x86_64.whl (191 kB)\n",
            "\u001b[2K     \u001b[90m━━━━━━━━━━━━━━━━━━━━━━━━━━━━━━━━━━━━━━\u001b[0m \u001b[32m192.0/192.0 kB\u001b[0m \u001b[31m16.7 MB/s\u001b[0m eta \u001b[36m0:00:00\u001b[0m\n",
            "\u001b[?25hRequirement already satisfied: scipy in /usr/local/lib/python3.9/dist-packages (from cuml-cu11==22.10.0) (1.10.1)\n",
            "Collecting treelite==3.0.0\n",
            "  Downloading treelite-3.0.0-py3-none-manylinux2014_x86_64.whl (864 kB)\n",
            "\u001b[2K     \u001b[90m━━━━━━━━━━━━━━━━━━━━━━━━━━━━━━━━━━━━━━\u001b[0m \u001b[32m864.5/864.5 kB\u001b[0m \u001b[31m53.3 MB/s\u001b[0m eta \u001b[36m0:00:00\u001b[0m\n",
            "\u001b[?25hRequirement already satisfied: numba in /usr/local/lib/python3.9/dist-packages (from cuml-cu11==22.10.0) (0.56.4)\n",
            "Requirement already satisfied: seaborn in /usr/local/lib/python3.9/dist-packages (from cuml-cu11==22.10.0) (0.12.2)\n",
            "Collecting cuda-python<11.7.1,>=11.5\n",
            "  Downloading cuda_python-11.7.0-cp39-cp39-manylinux_2_17_x86_64.manylinux2014_x86_64.whl (16.4 MB)\n",
            "\u001b[2K     \u001b[90m━━━━━━━━━━━━━━━━━━━━━━━━━━━━━━━━━━━━━━━━\u001b[0m \u001b[32m16.4/16.4 MB\u001b[0m \u001b[31m3.5 MB/s\u001b[0m eta \u001b[36m0:00:00\u001b[0m\n",
            "\u001b[?25hRequirement already satisfied: numpy in /usr/local/lib/python3.9/dist-packages (from cudf-cu11==22.10.0) (1.22.4)\n",
            "Requirement already satisfied: packaging in /usr/local/lib/python3.9/dist-packages (from cudf-cu11==22.10.0) (23.0)\n",
            "Requirement already satisfied: protobuf<3.21.0a0,>=3.20.1 in /usr/local/lib/python3.9/dist-packages (from cudf-cu11==22.10.0) (3.20.3)\n",
            "Requirement already satisfied: fsspec>=0.6.0 in /usr/local/lib/python3.9/dist-packages (from cudf-cu11==22.10.0) (2023.4.0)\n",
            "Requirement already satisfied: pandas<1.6.0dev0,>=1.0 in /usr/local/lib/python3.9/dist-packages (from cudf-cu11==22.10.0) (1.5.3)\n",
            "Collecting nvtx>=0.2.1\n",
            "  Downloading nvtx-0.2.5-cp39-cp39-manylinux_2_17_x86_64.manylinux2014_x86_64.whl (441 kB)\n",
            "\u001b[2K     \u001b[90m━━━━━━━━━━━━━━━━━━━━━━━━━━━━━━━━━━━━━━\u001b[0m \u001b[32m441.3/441.3 kB\u001b[0m \u001b[31m51.1 MB/s\u001b[0m eta \u001b[36m0:00:00\u001b[0m\n",
            "\u001b[?25hRequirement already satisfied: pyarrow==9.0.0 in /usr/local/lib/python3.9/dist-packages (from cudf-cu11==22.10.0) (9.0.0)\n",
            "Collecting cupy-cuda115<12.0.0a0,>=9.5.0\n",
            "  Downloading cupy_cuda115-10.6.0-cp39-cp39-manylinux1_x86_64.whl (81.5 MB)\n",
            "\u001b[2K     \u001b[90m━━━━━━━━━━━━━━━━━━━━━━━━━━━━━━━━━━━━━━━━\u001b[0m \u001b[32m81.5/81.5 MB\u001b[0m \u001b[31m2.7 MB/s\u001b[0m eta \u001b[36m0:00:00\u001b[0m\n",
            "\u001b[?25hCollecting rmm-cu11\n",
            "  Downloading https://pypi.nvidia.com/rmm-cu11/rmm_cu11-23.4.0.1681362075-cp39-cp39-manylinux_2_17_x86_64.manylinux2014_x86_64.whl (2.3 MB)\n",
            "\u001b[2K     \u001b[90m━━━━━━━━━━━━━━━━━━━━━━━━━━━━━━━━━━━━━━━━\u001b[0m \u001b[32m2.3/2.3 MB\u001b[0m \u001b[31m49.2 MB/s\u001b[0m eta \u001b[36m0:00:00\u001b[0m\n",
            "\u001b[?25hRequirement already satisfied: typing-extensions in /usr/local/lib/python3.9/dist-packages (from cudf-cu11==22.10.0) (4.5.0)\n",
            "Collecting ptxcompiler-cu11\n",
            "  Downloading https://pypi.nvidia.com/ptxcompiler-cu11/ptxcompiler_cu11-0.7.0.post1-cp39-cp39-manylinux_2_17_x86_64.manylinux2014_x86_64.whl (8.8 MB)\n",
            "\u001b[2K     \u001b[90m━━━━━━━━━━━━━━━━━━━━━━━━━━━━━━━━━━━━━━━━\u001b[0m \u001b[32m8.8/8.8 MB\u001b[0m \u001b[31m48.2 MB/s\u001b[0m eta \u001b[36m0:00:00\u001b[0m\n",
            "\u001b[?25hRequirement already satisfied: cachetools in /usr/local/lib/python3.9/dist-packages (from cudf-cu11==22.10.0) (5.3.0)\n",
            "Collecting cubinlinker-cu11\n",
            "  Downloading https://pypi.nvidia.com/cubinlinker-cu11/cubinlinker_cu11-0.3.0.post1-cp39-cp39-manylinux_2_17_x86_64.manylinux2014_x86_64.whl (8.8 MB)\n",
            "\u001b[2K     \u001b[90m━━━━━━━━━━━━━━━━━━━━━━━━━━━━━━━━━━━━━━━━\u001b[0m \u001b[32m8.8/8.8 MB\u001b[0m \u001b[31m51.6 MB/s\u001b[0m eta \u001b[36m0:00:00\u001b[0m\n",
            "\u001b[?25hCollecting dask-cuda>=22.10\n",
            "  Downloading dask_cuda-23.4.0-py3-none-any.whl (125 kB)\n",
            "\u001b[2K     \u001b[90m━━━━━━━━━━━━━━━━━━━━━━━━━━━━━━━━━━━━━━\u001b[0m \u001b[32m125.3/125.3 kB\u001b[0m \u001b[31m16.8 MB/s\u001b[0m eta \u001b[36m0:00:00\u001b[0m\n",
            "\u001b[?25hRequirement already satisfied: dask>=2022.9.1 in /usr/local/lib/python3.9/dist-packages (from raft_dask_cu11==22.10.0) (2022.12.1)\n",
            "Requirement already satisfied: distributed>=2022.9.1 in /usr/local/lib/python3.9/dist-packages (from raft_dask_cu11==22.10.0) (2022.12.1)\n",
            "Requirement already satisfied: joblib>=0.11 in /usr/local/lib/python3.9/dist-packages (from raft_dask_cu11==22.10.0) (1.2.0)\n",
            "Collecting ucx-py-cu11\n",
            "  Downloading https://pypi.nvidia.com/ucx-py-cu11/ucx_py_cu11-0.31.0.1681362077-cp39-cp39-manylinux_2_17_x86_64.manylinux2014_x86_64.whl (8.4 MB)\n",
            "\u001b[2K     \u001b[90m━━━━━━━━━━━━━━━━━━━━━━━━━━━━━━━━━━━━━━━━\u001b[0m \u001b[32m8.4/8.4 MB\u001b[0m \u001b[31m41.4 MB/s\u001b[0m eta \u001b[36m0:00:00\u001b[0m\n",
            "\u001b[?25hCollecting dask>=2022.9.1\n",
            "  Downloading dask-2022.9.2-py3-none-any.whl (1.1 MB)\n",
            "\u001b[2K     \u001b[90m━━━━━━━━━━━━━━━━━━━━━━━━━━━━━━━━━━━━━━━━\u001b[0m \u001b[32m1.1/1.1 MB\u001b[0m \u001b[31m4.1 MB/s\u001b[0m eta \u001b[36m0:00:00\u001b[0m\n",
            "\u001b[?25hCollecting distributed>=2022.9.1\n",
            "  Downloading distributed-2022.9.2-py3-none-any.whl (906 kB)\n",
            "\u001b[2K     \u001b[90m━━━━━━━━━━━━━━━━━━━━━━━━━━━━━━━━━━━━━━\u001b[0m \u001b[32m906.6/906.6 kB\u001b[0m \u001b[31m77.6 MB/s\u001b[0m eta \u001b[36m0:00:00\u001b[0m\n",
            "\u001b[?25hRequirement already satisfied: toolz>=0.8.2 in /usr/local/lib/python3.9/dist-packages (from dask>=2022.9.1->raft_dask_cu11==22.10.0) (0.12.0)\n",
            "Requirement already satisfied: cloudpickle>=1.1.1 in /usr/local/lib/python3.9/dist-packages (from dask>=2022.9.1->raft_dask_cu11==22.10.0) (2.2.1)\n",
            "Requirement already satisfied: pyyaml>=5.3.1 in /usr/local/lib/python3.9/dist-packages (from dask>=2022.9.1->raft_dask_cu11==22.10.0) (6.0)\n",
            "Requirement already satisfied: partd>=0.3.10 in /usr/local/lib/python3.9/dist-packages (from dask>=2022.9.1->raft_dask_cu11==22.10.0) (1.3.0)\n",
            "Requirement already satisfied: urllib3 in /usr/local/lib/python3.9/dist-packages (from distributed>=2022.9.1->raft_dask_cu11==22.10.0) (1.26.15)\n",
            "Requirement already satisfied: jinja2 in /usr/local/lib/python3.9/dist-packages (from distributed>=2022.9.1->raft_dask_cu11==22.10.0) (3.1.2)\n",
            "Requirement already satisfied: psutil>=5.0 in /usr/local/lib/python3.9/dist-packages (from distributed>=2022.9.1->raft_dask_cu11==22.10.0) (5.9.4)\n",
            "Requirement already satisfied: tblib>=1.6.0 in /usr/local/lib/python3.9/dist-packages (from distributed>=2022.9.1->raft_dask_cu11==22.10.0) (1.7.0)\n",
            "Requirement already satisfied: zict>=0.1.3 in /usr/local/lib/python3.9/dist-packages (from distributed>=2022.9.1->raft_dask_cu11==22.10.0) (2.2.0)\n",
            "Requirement already satisfied: click>=6.6 in /usr/local/lib/python3.9/dist-packages (from distributed>=2022.9.1->raft_dask_cu11==22.10.0) (8.1.3)\n",
            "Requirement already satisfied: sortedcontainers!=2.0.0,!=2.0.1 in /usr/local/lib/python3.9/dist-packages (from distributed>=2022.9.1->raft_dask_cu11==22.10.0) (2.4.0)\n",
            "Requirement already satisfied: locket>=1.0.0 in /usr/local/lib/python3.9/dist-packages (from distributed>=2022.9.1->raft_dask_cu11==22.10.0) (1.0.0)\n",
            "Collecting tornado<6.2,>=6.0.3\n",
            "  Downloading tornado-6.1-cp39-cp39-manylinux2010_x86_64.whl (427 kB)\n",
            "\u001b[2K     \u001b[90m━━━━━━━━━━━━━━━━━━━━━━━━━━━━━━━━━━━━━━\u001b[0m \u001b[32m427.2/427.2 kB\u001b[0m \u001b[31m49.2 MB/s\u001b[0m eta \u001b[36m0:00:00\u001b[0m\n",
            "\u001b[?25hRequirement already satisfied: msgpack>=0.6.0 in /usr/local/lib/python3.9/dist-packages (from distributed>=2022.9.1->raft_dask_cu11==22.10.0) (1.0.5)\n",
            "Requirement already satisfied: cython in /usr/local/lib/python3.9/dist-packages (from cuda-python<11.7.1,>=11.5->cudf-cu11==22.10.0) (0.29.34)\n",
            "Requirement already satisfied: fastrlock>=0.5 in /usr/local/lib/python3.9/dist-packages (from cupy-cuda115<12.0.0a0,>=9.5.0->cudf-cu11==22.10.0) (0.8.1)\n",
            "Collecting dask-cuda>=22.10\n",
            "  Downloading dask_cuda-23.2.1-py3-none-any.whl (240 kB)\n",
            "\u001b[2K     \u001b[90m━━━━━━━━━━━━━━━━━━━━━━━━━━━━━━━━━━━━━━\u001b[0m \u001b[32m240.2/240.2 kB\u001b[0m \u001b[31m32.5 MB/s\u001b[0m eta \u001b[36m0:00:00\u001b[0m\n",
            "\u001b[?25h  Downloading dask_cuda-23.2.0-py3-none-any.whl (239 kB)\n",
            "\u001b[2K     \u001b[90m━━━━━━━━━━━━━━━━━━━━━━━━━━━━━━━━━━━━━━\u001b[0m \u001b[32m240.0/240.0 kB\u001b[0m \u001b[31m31.9 MB/s\u001b[0m eta \u001b[36m0:00:00\u001b[0m\n",
            "\u001b[?25h  Downloading dask_cuda-22.12.0-py3-none-any.whl (121 kB)\n",
            "\u001b[2K     \u001b[90m━━━━━━━━━━━━━━━━━━━━━━━━━━━━━━━━━━━━━━\u001b[0m \u001b[32m121.1/121.1 kB\u001b[0m \u001b[31m18.9 MB/s\u001b[0m eta \u001b[36m0:00:00\u001b[0m\n",
            "\u001b[?25h  Downloading dask_cuda-22.10.0-py3-none-any.whl (81 kB)\n",
            "\u001b[2K     \u001b[90m━━━━━━━━━━━━━━━━━━━━━━━━━━━━━━━━━━━━━━━━\u001b[0m \u001b[32m81.3/81.3 kB\u001b[0m \u001b[31m13.8 MB/s\u001b[0m eta \u001b[36m0:00:00\u001b[0m\n",
            "\u001b[?25hCollecting pynvml>=11.0.0\n",
            "  Downloading pynvml-11.5.0-py3-none-any.whl (53 kB)\n",
            "\u001b[2K     \u001b[90m━━━━━━━━━━━━━━━━━━━━━━━━━━━━━━━━━━━━━━━━\u001b[0m \u001b[32m53.1/53.1 kB\u001b[0m \u001b[31m8.6 MB/s\u001b[0m eta \u001b[36m0:00:00\u001b[0m\n",
            "\u001b[?25hRequirement already satisfied: llvmlite<0.40,>=0.39.0dev0 in /usr/local/lib/python3.9/dist-packages (from numba->cuml-cu11==22.10.0) (0.39.1)\n",
            "Requirement already satisfied: setuptools in /usr/local/lib/python3.9/dist-packages (from numba->cuml-cu11==22.10.0) (67.6.1)\n",
            "Requirement already satisfied: pytz>=2020.1 in /usr/local/lib/python3.9/dist-packages (from pandas<1.6.0dev0,>=1.0->cudf-cu11==22.10.0) (2022.7.1)\n",
            "Requirement already satisfied: python-dateutil>=2.8.1 in /usr/local/lib/python3.9/dist-packages (from pandas<1.6.0dev0,>=1.0->cudf-cu11==22.10.0) (2.8.2)\n",
            "Collecting rmm-cu11\n",
            "  Downloading https://pypi.nvidia.com/rmm-cu11/rmm_cu11-23.2.0-cp39-cp39-manylinux_2_17_x86_64.manylinux2014_x86_64.whl (2.3 MB)\n",
            "\u001b[2K     \u001b[90m━━━━━━━━━━━━━━━━━━━━━━━━━━━━━━━━━━━━━━━━\u001b[0m \u001b[32m2.3/2.3 MB\u001b[0m \u001b[31m49.1 MB/s\u001b[0m eta \u001b[36m0:00:00\u001b[0m\n",
            "\u001b[?25h  Downloading https://pypi.nvidia.com/rmm-cu11/rmm_cu11-22.12.0-cp39-cp39-manylinux_2_17_x86_64.manylinux2014_x86_64.whl (1.8 MB)\n",
            "\u001b[2K     \u001b[90m━━━━━━━━━━━━━━━━━━━━━━━━━━━━━━━━━━━━━━━━\u001b[0m \u001b[32m1.8/1.8 MB\u001b[0m \u001b[31m43.8 MB/s\u001b[0m eta \u001b[36m0:00:00\u001b[0m\n",
            "\u001b[?25h  Downloading https://pypi.nvidia.com/rmm-cu11/rmm_cu11-22.10.0-cp39-cp39-manylinux_2_17_x86_64.manylinux2014_x86_64.whl (3.5 MB)\n",
            "\u001b[2K     \u001b[90m━━━━━━━━━━━━━━━━━━━━━━━━━━━━━━━━━━━━━━━━\u001b[0m \u001b[32m3.5/3.5 MB\u001b[0m \u001b[31m50.4 MB/s\u001b[0m eta \u001b[36m0:00:00\u001b[0m\n",
            "\u001b[?25hRequirement already satisfied: matplotlib!=3.6.1,>=3.1 in /usr/local/lib/python3.9/dist-packages (from seaborn->cuml-cu11==22.10.0) (3.7.1)\n",
            "Requirement already satisfied: kiwisolver>=1.0.1 in /usr/local/lib/python3.9/dist-packages (from matplotlib!=3.6.1,>=3.1->seaborn->cuml-cu11==22.10.0) (1.4.4)\n",
            "Requirement already satisfied: pyparsing>=2.3.1 in /usr/local/lib/python3.9/dist-packages (from matplotlib!=3.6.1,>=3.1->seaborn->cuml-cu11==22.10.0) (3.0.9)\n",
            "Requirement already satisfied: fonttools>=4.22.0 in /usr/local/lib/python3.9/dist-packages (from matplotlib!=3.6.1,>=3.1->seaborn->cuml-cu11==22.10.0) (4.39.3)\n",
            "Requirement already satisfied: pillow>=6.2.0 in /usr/local/lib/python3.9/dist-packages (from matplotlib!=3.6.1,>=3.1->seaborn->cuml-cu11==22.10.0) (8.4.0)\n",
            "Requirement already satisfied: cycler>=0.10 in /usr/local/lib/python3.9/dist-packages (from matplotlib!=3.6.1,>=3.1->seaborn->cuml-cu11==22.10.0) (0.11.0)\n",
            "Requirement already satisfied: importlib-resources>=3.2.0 in /usr/local/lib/python3.9/dist-packages (from matplotlib!=3.6.1,>=3.1->seaborn->cuml-cu11==22.10.0) (5.12.0)\n",
            "Requirement already satisfied: contourpy>=1.0.1 in /usr/local/lib/python3.9/dist-packages (from matplotlib!=3.6.1,>=3.1->seaborn->cuml-cu11==22.10.0) (1.0.7)\n",
            "Requirement already satisfied: six>=1.5 in /usr/local/lib/python3.9/dist-packages (from python-dateutil>=2.8.1->pandas<1.6.0dev0,>=1.0->cudf-cu11==22.10.0) (1.16.0)\n",
            "Requirement already satisfied: heapdict in /usr/local/lib/python3.9/dist-packages (from zict>=0.1.3->distributed>=2022.9.1->raft_dask_cu11==22.10.0) (1.0.1)\n",
            "Requirement already satisfied: MarkupSafe>=2.0 in /usr/local/lib/python3.9/dist-packages (from jinja2->distributed>=2022.9.1->raft_dask_cu11==22.10.0) (2.1.2)\n",
            "Requirement already satisfied: zipp>=3.1.0 in /usr/local/lib/python3.9/dist-packages (from importlib-resources>=3.2.0->matplotlib!=3.6.1,>=3.1->seaborn->cuml-cu11==22.10.0) (3.15.0)\n",
            "Installing collected packages: ptxcompiler-cu11, nvtx, cubinlinker-cu11, tornado, pynvml, cupy-cuda115, cuda-python, ucx-py-cu11, treelite-runtime, treelite, rmm-cu11, dask, pylibraft_cu11, distributed, cudf-cu11, pylibcugraph_cu11, dask_cudf_cu11, dask-cuda, raft_dask_cu11, cuml-cu11, cugraph-cu11\n",
            "  Attempting uninstall: tornado\n",
            "    Found existing installation: tornado 6.2\n",
            "    Uninstalling tornado-6.2:\n",
            "      Successfully uninstalled tornado-6.2\n",
            "  Attempting uninstall: dask\n",
            "    Found existing installation: dask 2022.12.1\n",
            "    Uninstalling dask-2022.12.1:\n",
            "      Successfully uninstalled dask-2022.12.1\n",
            "  Attempting uninstall: distributed\n",
            "    Found existing installation: distributed 2022.12.1\n",
            "    Uninstalling distributed-2022.12.1:\n",
            "      Successfully uninstalled distributed-2022.12.1\n",
            "\u001b[31mERROR: pip's dependency resolver does not currently take into account all the packages that are installed. This behaviour is the source of the following dependency conflicts.\n",
            "google-colab 1.0.0 requires tornado~=6.2, but you have tornado 6.1 which is incompatible.\u001b[0m\u001b[31m\n",
            "\u001b[0mSuccessfully installed cubinlinker-cu11-0.3.0.post1 cuda-python-11.7.0 cudf-cu11-22.10.0 cugraph-cu11-22.10.0 cuml-cu11-22.10.0 cupy-cuda115-10.6.0 dask-2022.9.2 dask-cuda-22.10.0 dask_cudf_cu11-22.10.0 distributed-2022.9.2 nvtx-0.2.5 ptxcompiler-cu11-0.7.0.post1 pylibcugraph_cu11-22.10.0 pylibraft_cu11-22.10.0 pynvml-11.5.0 raft_dask_cu11-22.10.0 rmm-cu11-22.10.0 tornado-6.1 treelite-3.0.0 treelite-runtime-3.0.0 ucx-py-cu11-0.31.0.1681362077\n",
            "Looking in indexes: https://pypi.org/simple, https://us-python.pkg.dev/colab-wheels/public/simple/\n",
            "Collecting git+https://github.com/graphistry/pygraphistry.git@cudf-cat-final\n",
            "  Cloning https://github.com/graphistry/pygraphistry.git (to revision cudf-cat-final) to /tmp/pip-req-build-2b65_tzq\n",
            "  Running command git clone --filter=blob:none --quiet https://github.com/graphistry/pygraphistry.git /tmp/pip-req-build-2b65_tzq\n",
            "  Running command git checkout -b cudf-cat-final --track origin/cudf-cat-final\n",
            "  Switched to a new branch 'cudf-cat-final'\n",
            "  Branch 'cudf-cat-final' set up to track remote branch 'cudf-cat-final' from 'origin'.\n",
            "  Resolved https://github.com/graphistry/pygraphistry.git to commit c2d2fcb6eb1588e28171c2b6b8dcfde01ba66b39\n",
            "  Preparing metadata (setup.py) ... \u001b[?25l\u001b[?25hdone\n",
            "Requirement already satisfied: numpy in /usr/local/lib/python3.9/dist-packages (from graphistry==0.28.7+328.gc2d2fcb) (1.22.4)\n",
            "Requirement already satisfied: palettable>=3.0 in /usr/local/lib/python3.9/dist-packages (from graphistry==0.28.7+328.gc2d2fcb) (3.3.1)\n",
            "Requirement already satisfied: pandas<2.0.0 in /usr/local/lib/python3.9/dist-packages (from graphistry==0.28.7+328.gc2d2fcb) (1.5.3)\n",
            "Requirement already satisfied: pyarrow>=0.15.0 in /usr/local/lib/python3.9/dist-packages (from graphistry==0.28.7+328.gc2d2fcb) (9.0.0)\n",
            "Requirement already satisfied: requests in /usr/local/lib/python3.9/dist-packages (from graphistry==0.28.7+328.gc2d2fcb) (2.27.1)\n",
            "Collecting squarify\n",
            "  Downloading squarify-0.4.3-py3-none-any.whl (4.3 kB)\n",
            "Requirement already satisfied: typing-extensions in /usr/local/lib/python3.9/dist-packages (from graphistry==0.28.7+328.gc2d2fcb) (4.5.0)\n",
            "Requirement already satisfied: packaging>=20.1 in /usr/local/lib/python3.9/dist-packages (from graphistry==0.28.7+328.gc2d2fcb) (23.0)\n",
            "Collecting setuptools<60.0.0\n",
            "  Downloading setuptools-59.8.0-py3-none-any.whl (952 kB)\n",
            "\u001b[2K     \u001b[90m━━━━━━━━━━━━━━━━━━━━━━━━━━━━━━━━━━━━━━\u001b[0m \u001b[32m952.8/952.8 kB\u001b[0m \u001b[31m57.3 MB/s\u001b[0m eta \u001b[36m0:00:00\u001b[0m\n",
            "\u001b[?25hRequirement already satisfied: pytz>=2020.1 in /usr/local/lib/python3.9/dist-packages (from pandas<2.0.0->graphistry==0.28.7+328.gc2d2fcb) (2022.7.1)\n",
            "Requirement already satisfied: python-dateutil>=2.8.1 in /usr/local/lib/python3.9/dist-packages (from pandas<2.0.0->graphistry==0.28.7+328.gc2d2fcb) (2.8.2)\n",
            "Requirement already satisfied: idna<4,>=2.5 in /usr/local/lib/python3.9/dist-packages (from requests->graphistry==0.28.7+328.gc2d2fcb) (3.4)\n",
            "Requirement already satisfied: charset-normalizer~=2.0.0 in /usr/local/lib/python3.9/dist-packages (from requests->graphistry==0.28.7+328.gc2d2fcb) (2.0.12)\n",
            "Requirement already satisfied: urllib3<1.27,>=1.21.1 in /usr/local/lib/python3.9/dist-packages (from requests->graphistry==0.28.7+328.gc2d2fcb) (1.26.15)\n",
            "Requirement already satisfied: certifi>=2017.4.17 in /usr/local/lib/python3.9/dist-packages (from requests->graphistry==0.28.7+328.gc2d2fcb) (2022.12.7)\n",
            "Requirement already satisfied: six>=1.5 in /usr/local/lib/python3.9/dist-packages (from python-dateutil>=2.8.1->pandas<2.0.0->graphistry==0.28.7+328.gc2d2fcb) (1.16.0)\n",
            "Building wheels for collected packages: graphistry\n",
            "  Building wheel for graphistry (setup.py) ... \u001b[?25l\u001b[?25hdone\n",
            "  Created wheel for graphistry: filename=graphistry-0.28.7+328.gc2d2fcb-py3-none-any.whl size=228034 sha256=616ba1173d2d1e3e87008de49968663c6673a32ba3005f2c41584349155c85fe\n",
            "  Stored in directory: /tmp/pip-ephem-wheel-cache-eb5ge6ik/wheels/85/57/bf/8d9e50dc0accfc92ee2fe4ce38bdab897f94611ee5bddac6d0\n",
            "Successfully built graphistry\n",
            "Installing collected packages: squarify, setuptools, graphistry\n",
            "  Attempting uninstall: setuptools\n",
            "    Found existing installation: setuptools 67.6.1\n",
            "    Uninstalling setuptools-67.6.1:\n",
            "      Successfully uninstalled setuptools-67.6.1\n",
            "\u001b[31mERROR: pip's dependency resolver does not currently take into account all the packages that are installed. This behaviour is the source of the following dependency conflicts.\n",
            "ipython 7.34.0 requires jedi>=0.16, which is not installed.\n",
            "google-colab 1.0.0 requires tornado~=6.2, but you have tornado 6.1 which is incompatible.\n",
            "cvxpy 1.3.1 requires setuptools>65.5.1, but you have setuptools 59.8.0 which is incompatible.\n",
            "arviz 0.15.1 requires setuptools>=60.0.0, but you have setuptools 59.8.0 which is incompatible.\u001b[0m\u001b[31m\n",
            "\u001b[0mSuccessfully installed graphistry-0.28.7+328.gc2d2fcb setuptools-59.8.0 squarify-0.4.3\n",
            "Looking in indexes: https://pypi.org/simple, https://us-python.pkg.dev/colab-wheels/public/simple/\n",
            "Collecting git+https://github.com/graphistry/cu-cat.git@cu_cat_regpt\n",
            "  Cloning https://github.com/graphistry/cu-cat.git (to revision cu_cat_regpt) to /tmp/pip-req-build-pzifokdm\n",
            "  Running command git clone --filter=blob:none --quiet https://github.com/graphistry/cu-cat.git /tmp/pip-req-build-pzifokdm\n",
            "  Running command git checkout -b cu_cat_regpt --track origin/cu_cat_regpt\n",
            "  Switched to a new branch 'cu_cat_regpt'\n",
            "  Branch 'cu_cat_regpt' set up to track remote branch 'cu_cat_regpt' from 'origin'.\n",
            "  Resolved https://github.com/graphistry/cu-cat.git to commit bb49e8d549d9a58f753ed2bcbdda529a83f74beb\n",
            "  Installing build dependencies ... \u001b[?25l\u001b[?25hdone\n",
            "  Getting requirements to build wheel ... \u001b[?25l\u001b[?25hdone\n",
            "  Preparing metadata (pyproject.toml) ... \u001b[?25l\u001b[?25hdone\n",
            "Requirement already satisfied: requests in /usr/local/lib/python3.9/dist-packages (from cu-cat==0.4.0b2) (2.27.1)\n",
            "Requirement already satisfied: pandas>=1.2.0 in /usr/local/lib/python3.9/dist-packages (from cu-cat==0.4.0b2) (1.5.3)\n",
            "Requirement already satisfied: numpy>=1.17.3 in /usr/local/lib/python3.9/dist-packages (from cu-cat==0.4.0b2) (1.22.4)\n",
            "Requirement already satisfied: scikit-learn>=0.23.0 in /usr/local/lib/python3.9/dist-packages (from cu-cat==0.4.0b2) (1.2.2)\n",
            "Requirement already satisfied: joblib in /usr/local/lib/python3.9/dist-packages (from cu-cat==0.4.0b2) (1.2.0)\n",
            "Requirement already satisfied: scipy>=1.4.0 in /usr/local/lib/python3.9/dist-packages (from cu-cat==0.4.0b2) (1.10.1)\n",
            "Requirement already satisfied: pytz>=2020.1 in /usr/local/lib/python3.9/dist-packages (from pandas>=1.2.0->cu-cat==0.4.0b2) (2022.7.1)\n",
            "Requirement already satisfied: python-dateutil>=2.8.1 in /usr/local/lib/python3.9/dist-packages (from pandas>=1.2.0->cu-cat==0.4.0b2) (2.8.2)\n",
            "Requirement already satisfied: threadpoolctl>=2.0.0 in /usr/local/lib/python3.9/dist-packages (from scikit-learn>=0.23.0->cu-cat==0.4.0b2) (3.1.0)\n",
            "Requirement already satisfied: idna<4,>=2.5 in /usr/local/lib/python3.9/dist-packages (from requests->cu-cat==0.4.0b2) (3.4)\n",
            "Requirement already satisfied: charset-normalizer~=2.0.0 in /usr/local/lib/python3.9/dist-packages (from requests->cu-cat==0.4.0b2) (2.0.12)\n",
            "Requirement already satisfied: urllib3<1.27,>=1.21.1 in /usr/local/lib/python3.9/dist-packages (from requests->cu-cat==0.4.0b2) (1.26.15)\n",
            "Requirement already satisfied: certifi>=2017.4.17 in /usr/local/lib/python3.9/dist-packages (from requests->cu-cat==0.4.0b2) (2022.12.7)\n",
            "Requirement already satisfied: six>=1.5 in /usr/local/lib/python3.9/dist-packages (from python-dateutil>=2.8.1->pandas>=1.2.0->cu-cat==0.4.0b2) (1.16.0)\n",
            "Building wheels for collected packages: cu-cat\n",
            "  Building wheel for cu-cat (pyproject.toml) ... \u001b[?25l\u001b[?25hdone\n",
            "  Created wheel for cu-cat: filename=cu_cat-0.4.0b2-py3-none-any.whl size=113934 sha256=4dd85705b37e9a2a79801e7e4f7903ab682dfb4e450bb8dfa556e35a145a4b58\n",
            "  Stored in directory: /tmp/pip-ephem-wheel-cache-17szvss5/wheels/ac/2b/0e/a8c819f3a15019fda1dad3ef27e03f7d5c4359cfae7c37a5f6\n",
            "Successfully built cu-cat\n",
            "Installing collected packages: cu-cat\n",
            "Successfully installed cu-cat-0.4.0b2\n"
          ]
        }
      ],
      "source": [
        "!pip install --extra-index-url=https://pypi.nvidia.com cuml-cu11==22.10.0 cudf-cu11==22.10.0 cugraph-cu11==22.10.0 pylibraft_cu11==22.10.0 raft_dask_cu11==22.10.0 dask_cudf_cu11==22.10.0 pylibcugraph_cu11==22.10.0 pylibraft_cu11==22.10.0\n",
        "!pip install -U git+https://github.com/graphistry/pygraphistry.git@cudf-cat-final\n",
        "!pip install -U git+https://github.com/graphistry/cu-cat.git@cu_cat_regpt"
      ],
      "id": "515b40ff-6af7-4160-a0d0-4b6dddb88485"
    },
    {
      "cell_type": "code",
      "source": [
        "# !pip install dirty_cat"
      ],
      "metadata": {
        "id": "520IfahaBiJ1"
      },
      "id": "520IfahaBiJ1",
      "execution_count": null,
      "outputs": []
    },
    {
      "cell_type": "code",
      "execution_count": 5,
      "metadata": {
        "colab": {
          "base_uri": "https://localhost:8080/",
          "height": 35
        },
        "id": "f61ad51b-f4fa-4706-a91b-b72a92ecf39c",
        "outputId": "94616958-0856-4120-ce57-af05bb0ed3e3"
      },
      "outputs": [
        {
          "output_type": "execute_result",
          "data": {
            "text/plain": [
              "'22.10.00a+119.gb30ef85c1'"
            ],
            "application/vnd.google.colaboratory.intrinsic+json": {
              "type": "string"
            }
          },
          "metadata": {},
          "execution_count": 5
        }
      ],
      "source": [
        "import cuml,cudf\n",
        "cuml.__version__"
      ],
      "id": "f61ad51b-f4fa-4706-a91b-b72a92ecf39c"
    },
    {
      "cell_type": "code",
      "execution_count": 4,
      "metadata": {
        "id": "acaa3721-5277-40f5-bddc-652d82d021d3"
      },
      "outputs": [],
      "source": [
        "!echo \"0.01.0\" > VERSION.txt\n",
        "# !cp VERSION.txt /root/.local/lib/python3.9/site-packages/cu_cat/\n",
        "!cp VERSION.txt /usr/local/lib/python3.9/dist-packages/cu_cat/"
      ],
      "id": "acaa3721-5277-40f5-bddc-652d82d021d3"
    },
    {
      "cell_type": "code",
      "execution_count": 1,
      "metadata": {
        "colab": {
          "base_uri": "https://localhost:8080/"
        },
        "id": "65e8dccf-5b22-469b-b1db-1dcccaea2517",
        "outputId": "33a2f461-bd14-4ac9-f67a-23424b63da88"
      },
      "outputs": [
        {
          "output_type": "stream",
          "name": "stdout",
          "text": [
            "/usr/local/lib/python3.9/dist-packages/cu_cat/__init__.py\n"
          ]
        }
      ],
      "source": [
        "# from importlib import reload\n",
        "# reload(cu_cat)\n",
        "import cu_cat\n",
        "print(cu_cat.__file__)"
      ],
      "id": "65e8dccf-5b22-469b-b1db-1dcccaea2517"
    },
    {
      "cell_type": "code",
      "execution_count": 2,
      "metadata": {
        "id": "a32fccec-327d-4328-9672-86baf42e11ca"
      },
      "outputs": [],
      "source": [
        "import os\n",
        "from collections import Counter\n",
        "import cProfile\n",
        "import pandas as pd\n",
        "import numpy as np\n",
        "import matplotlib.pyplot as plt\n",
        "from pstats import Stats\n",
        "import warnings\n",
        "warnings.filterwarnings('ignore')\n",
        "pd.set_option('display.max_colwidth', 200)\n"
      ],
      "id": "a32fccec-327d-4328-9672-86baf42e11ca"
    },
    {
      "cell_type": "code",
      "execution_count": 3,
      "metadata": {
        "colab": {
          "base_uri": "https://localhost:8080/",
          "height": 35
        },
        "id": "fb4ef11c-5e1d-4f36-a8a0-ae58fc0f0317",
        "outputId": "a459fece-90e4-4ee0-c37f-6ba31bda4145"
      },
      "outputs": [
        {
          "output_type": "execute_result",
          "data": {
            "text/plain": [
              "'0.28.7+328.gc2d2fcb'"
            ],
            "application/vnd.google.colaboratory.intrinsic+json": {
              "type": "string"
            }
          },
          "metadata": {},
          "execution_count": 3
        }
      ],
      "source": [
        "import graphistry\n",
        "graphistry.register(api=3,protocol=\"https\", server=\"hub.graphistry.com\", username='dcolinmorgan', password='***') ## key id, secret key\n",
        "graphistry.__version__\n"
      ],
      "id": "fb4ef11c-5e1d-4f36-a8a0-ae58fc0f0317"
    },
    {
      "cell_type": "code",
      "execution_count": null,
      "metadata": {
        "id": "xOXv_NNaCe_t"
      },
      "outputs": [],
      "source": [
        "import logging\n",
        "logging.basicConfig(level=logging.DEBUG)"
      ],
      "id": "xOXv_NNaCe_t"
    },
    {
      "cell_type": "code",
      "execution_count": null,
      "metadata": {
        "id": "UqHh0H_68r8y"
      },
      "outputs": [],
      "source": [],
      "id": "UqHh0H_68r8y"
    },
    {
      "cell_type": "markdown",
      "metadata": {
        "id": "b9fa2d4e-53e8-4eb5-bdbf-c5c1908159ad"
      },
      "source": [
        "### redteam"
      ],
      "id": "b9fa2d4e-53e8-4eb5-bdbf-c5c1908159ad"
    },
    {
      "cell_type": "code",
      "execution_count": 9,
      "metadata": {
        "colab": {
          "base_uri": "https://localhost:8080/"
        },
        "id": "3fe52faa-c35c-492e-98c1-7cfc46888a5f",
        "outputId": "d0689d12-512f-4341-cc1b-7aa38693e171"
      },
      "outputs": [
        {
          "output_type": "execute_result",
          "data": {
            "text/plain": [
              "749.0"
            ]
          },
          "metadata": {},
          "execution_count": 9
        }
      ],
      "source": [
        "df = pd.read_csv('https://gist.githubusercontent.com/silkspace/c7b50d0c03dc59f63c48d68d696958ff/raw/31d918267f86f8252d42d2e9597ba6fc03fcdac2/redteam_50k.csv', index_col=0)\n",
        "red_team = pd.read_csv('https://gist.githubusercontent.com/silkspace/5cf5a94b9ac4b4ffe38904f20d93edb1/raw/888dabd86f88ea747cf9ff5f6c44725e21536465/redteam_labels.csv', index_col=0)\n",
        "df['feats'] = df.src_computer + ' ' + df.dst_computer + ' ' + df.auth_type + ' ' + df.logontype\n",
        "df['feats2'] = df.src_computer + ' ' + df.dst_computer\n",
        "ndf = df.drop_duplicates(subset=['feats'])\n",
        "tdf = pd.concat([red_team.reset_index(), ndf.reset_index()])\n",
        "tdf['node'] = range(len(tdf))\n",
        "tdf.RED.sum()"
      ],
      "id": "3fe52faa-c35c-492e-98c1-7cfc46888a5f"
    },
    {
      "cell_type": "code",
      "execution_count": 13,
      "metadata": {
        "colab": {
          "base_uri": "https://localhost:8080/"
        },
        "id": "df94cfc1-ef21-4ff8-b81f-8f5b08968129",
        "outputId": "5dcbd44c-9475-457e-a57b-b03c14f06948"
      },
      "outputs": [
        {
          "output_type": "stream",
          "name": "stderr",
          "text": [
            "WARNING:root:! Failed featurize speedup attempt. Continuing without memoization speedups.WARNING:root:Target is not of type(DataFrame) and has no columns"
          ]
        },
        {
          "output_type": "stream",
          "name": "stdout",
          "text": [
            "Using GPU: cu_cat\n"
          ]
        },
        {
          "output_type": "stream",
          "name": "stderr",
          "text": [
            "WARNING:root:! Failed umap speedup attempt. Continuing without memoization speedups.WARNING:graphistry.umap_utils:* Ignoring target column of shape (19762, 0) in UMAP fit, as it is not one dimensional"
          ]
        },
        {
          "output_type": "stream",
          "name": "stdout",
          "text": [
            "         10194116 function calls (10092396 primitive calls) in 210.419 seconds\n",
            "\n",
            "   Ordered by: internal time\n",
            "   List reduced from 2489 to 20 due to restriction <20>\n",
            "\n",
            "   ncalls  tottime  percall  cumtime  percall filename:lineno(function)\n",
            "       56  111.169    1.985  124.533    2.224 /usr/local/lib/python3.9/dist-packages/cu_cat/_gap_encoder.py:1126(_multiplicative_update_h_smallfast)\n",
            "       21   60.668    2.889   60.668    2.889 /usr/local/lib/python3.9/dist-packages/numpy/lib/arraysetops.py:519(in1d)\n",
            "    25171   10.479    0.000   10.797    0.000 /usr/local/lib/python3.9/dist-packages/rmm/rmm.py:216(rmm_cupy_allocator)\n",
            "       49    8.388    0.171   10.271    0.210 /usr/local/lib/python3.9/dist-packages/cu_cat/_gap_encoder.py:181(_get_H)\n",
            "       35    2.911    0.083    3.353    0.096 /usr/local/lib/python3.9/dist-packages/cu_cat/_gap_encoder.py:994(_multiplicative_update_w_smallfast)\n",
            "     2628    2.392    0.001    2.632    0.001 {method 'update' of 'dict' objects}\n",
            "     1231    1.332    0.001    2.657    0.002 /usr/local/lib/python3.9/dist-packages/cupyx/scipy/sparse/csr.py:148(__mul__)\n",
            "   585512    0.924    0.000    0.987    0.000 {built-in method cupy._core.core.array}\n",
            "    43068    0.552    0.000    0.792    0.000 /usr/lib/python3.9/typing.py:1065(_get_protocol_attrs)\n",
            "      597    0.479    0.001    0.479    0.001 {method 'argsort' of 'numpy.ndarray' objects}\n",
            "  1034628    0.471    0.000    0.686    0.000 /usr/local/lib/python3.9/dist-packages/numpy/core/numeric.py:1859(isscalar)\n",
            "1623203/1620966    0.370    0.000    0.965    0.000 {built-in method builtins.isinstance}\n",
            "149554/149401    0.360    0.000   61.571    0.000 {built-in method numpy.core._multiarray_umath.implement_array_function}\n",
            "      605    0.338    0.001    1.030    0.002 /usr/local/lib/python3.9/dist-packages/cudf/core/indexed_frame.py:1508(_gather)\n",
            "      153    0.333    0.002    0.420    0.003 /usr/local/lib/python3.9/dist-packages/cudf/core/column/column.py:1040(unique)\n",
            "        2    0.289    0.145    0.735    0.368 /usr/local/lib/python3.9/dist-packages/cuml/internals/api_decorators.py:397(inner_with_setters)\n",
            "        7    0.260    0.037   82.824   11.832 /usr/local/lib/python3.9/dist-packages/cu_cat/_gap_encoder.py:274(fit)\n",
            "     8396    0.241    0.000    0.254    0.000 /usr/local/lib/python3.9/dist-packages/numba/misc/dummyarray.py:110(compute_index)\n",
            "      3/2    0.230    0.077  142.211   71.106 /usr/local/lib/python3.9/dist-packages/cuml/internals/api_decorators.py:571(inner_get)\n",
            "     3856    0.218    0.000    0.519    0.000 /usr/local/lib/python3.9/dist-packages/cupyx/scipy/sparse/compressed.py:649(__get_has_canonical_format)\n",
            "\n",
            "\n",
            "CPU times: user 2min 59s, sys: 24.3 s, total: 3min 24s\n",
            "Wall time: 3min 30s\n"
          ]
        }
      ],
      "source": [
        "%%time\n",
        "# process = True  # set to false after it's run for ease of speed\n",
        "pr = cProfile.Profile()\n",
        "pr.enable()\n",
        "\n",
        "g = graphistry.nodes(cudf.from_pandas(tdf), 'node')\n",
        "\n",
        "g5b = g.umap(X=['feats'], \n",
        "            min_words=1000000, # force high so that we don't use Sentence Transformers\n",
        "            cardinality_threshold=4, # set low so we force topic model\n",
        "            n_topics=32, # number of topics\n",
        "            use_scaler=None,\n",
        "            feature_engine='cu_cat',\n",
        "            memoize=False,\n",
        "            #  remove_node_column=False,\n",
        "            # engine='cuml',\n",
        "            use_scaler_target=None\n",
        "           )\n",
        "\n",
        "pr.disable()\n",
        "stats = Stats(pr)\n",
        "stats.sort_stats('tottime').print_stats(20)\n",
        "\n",
        "with open('redteam_umap_cudf_cu_cat.txt', 'w') as stream:\n",
        "    stats = Stats(pr,stream=stream)\n",
        "    stats.sort_stats('tottime').print_stats(20)"
      ],
      "id": "df94cfc1-ef21-4ff8-b81f-8f5b08968129"
    },
    {
      "cell_type": "code",
      "execution_count": 11,
      "metadata": {
        "colab": {
          "base_uri": "https://localhost:8080/"
        },
        "id": "28017a3b-6a39-4c33-8d6d-78cecb73ecf2",
        "outputId": "16cecb5d-c5e5-4983-c871-682302dd663f"
      },
      "outputs": [
        {
          "output_type": "stream",
          "name": "stderr",
          "text": [
            "WARNING:root:Target is not of type(DataFrame) and has no columns"
          ]
        },
        {
          "output_type": "stream",
          "name": "stdout",
          "text": [
            "Using GPU: cu_cat\n"
          ]
        },
        {
          "output_type": "stream",
          "name": "stderr",
          "text": [
            "WARNING:graphistry.umap_utils:* Ignoring target column of shape (19762, 0) in UMAP fit, as it is not one dimensional"
          ]
        },
        {
          "output_type": "stream",
          "name": "stdout",
          "text": [
            "         1624287 function calls (1608282 primitive calls) in 41.368 seconds\n",
            "\n",
            "   Ordered by: internal time\n",
            "   List reduced from 2359 to 20 due to restriction <20>\n",
            "\n",
            "   ncalls  tottime  percall  cumtime  percall filename:lineno(function)\n",
            "        8   20.256    2.532   24.775    3.097 /usr/local/lib/python3.9/dist-packages/cu_cat/_gap_encoder.py:1126(_multiplicative_update_h_smallfast)\n",
            "        3   12.664    4.221   12.664    4.221 /usr/local/lib/python3.9/dist-packages/numpy/lib/arraysetops.py:519(in1d)\n",
            "     4236    4.104    0.001    4.156    0.001 /usr/local/lib/python3.9/dist-packages/rmm/rmm.py:216(rmm_cupy_allocator)\n",
            "        7    1.132    0.162    1.388    0.198 /usr/local/lib/python3.9/dist-packages/cu_cat/_gap_encoder.py:181(_get_H)\n",
            "      213    0.458    0.002    0.711    0.003 /usr/local/lib/python3.9/dist-packages/cupyx/scipy/sparse/csr.py:148(__mul__)\n",
            "      478    0.411    0.001    0.448    0.001 {method 'update' of 'dict' objects}\n",
            "        5    0.309    0.062    0.667    0.133 /usr/local/lib/python3.9/dist-packages/cu_cat/_gap_encoder.py:994(_multiplicative_update_w_smallfast)\n",
            "    91584    0.122    0.000    0.130    0.000 {built-in method cupy._core.core.array}\n",
            "        1    0.092    0.092    0.121    0.121 /usr/local/lib/python3.9/dist-packages/cuml/internals/api_decorators.py:397(inner_with_setters)\n",
            "       21    0.077    0.004    0.084    0.004 /usr/local/lib/python3.9/dist-packages/cudf/core/column/column.py:1040(unique)\n",
            "     5754    0.070    0.000    0.098    0.000 /usr/lib/python3.9/typing.py:1065(_get_protocol_attrs)\n",
            "   174585    0.066    0.000    0.094    0.000 /usr/local/lib/python3.9/dist-packages/numpy/core/numeric.py:1859(isscalar)\n",
            "29825/29756    0.058    0.000   12.789    0.000 {built-in method numpy.core._multiarray_umath.implement_array_function}\n",
            "       84    0.049    0.001    0.140    0.002 /usr/local/lib/python3.9/dist-packages/cudf/core/indexed_frame.py:1508(_gather)\n",
            "266923/266586    0.048    0.000    0.124    0.000 {built-in method builtins.isinstance}\n",
            "   112879    0.045    0.000    0.045    0.000 {method 'as_py' of 'pyarrow.lib.StringScalar' objects}\n",
            "        1    0.045    0.045   14.539   14.539 /usr/local/lib/python3.9/dist-packages/cu_cat/_gap_encoder.py:274(fit)\n",
            "       67    0.042    0.001    0.042    0.001 {method 'argsort' of 'numpy.ndarray' objects}\n",
            "       45    0.042    0.001    0.051    0.001 /usr/local/lib/python3.9/dist-packages/cudf/core/frame.py:1540(_get_sorted_inds)\n",
            "      662    0.035    0.000    0.082    0.000 /usr/local/lib/python3.9/dist-packages/cupyx/scipy/sparse/compressed.py:649(__get_has_canonical_format)\n",
            "\n",
            "\n",
            "CPU times: user 34.6 s, sys: 5.57 s, total: 40.2 s\n",
            "Wall time: 41.5 s\n"
          ]
        }
      ],
      "source": [
        "%%time\n",
        "# process = True  # set to false after it's run for ease of speed\n",
        "pr = cProfile.Profile()\n",
        "pr.enable()\n",
        "\n",
        "g = graphistry.nodes(tdf, 'node')\n",
        "\n",
        "g5a = g.umap(X=['feats'], \n",
        "            min_words=1000000, # force high so that we don't use Sentence Transformers\n",
        "            cardinality_threshold=4, # set low so we force topic model\n",
        "            n_topics=32, # number of topics\n",
        "            use_scaler=None,\n",
        "            feature_engine='cu_cat',\n",
        "            memoize=False,\n",
        "            #  remove_node_column=False,\n",
        "            # engine='cuml',\n",
        "            use_scaler_target=None\n",
        "           )\n",
        "\n",
        "pr.disable()\n",
        "stats = Stats(pr)\n",
        "stats.sort_stats('tottime').print_stats(20)\n",
        "\n",
        "with open('redteam_umap_cu_cat.txt', 'w') as stream:\n",
        "    stats = Stats(pr,stream=stream)\n",
        "    stats.sort_stats('tottime').print_stats(20)"
      ],
      "id": "28017a3b-6a39-4c33-8d6d-78cecb73ecf2"
    },
    {
      "cell_type": "code",
      "source": [
        "!pip install dirty_cat"
      ],
      "metadata": {
        "id": "NTs-Sq1ZoeNL"
      },
      "id": "NTs-Sq1ZoeNL",
      "execution_count": null,
      "outputs": []
    },
    {
      "cell_type": "code",
      "execution_count": 15,
      "metadata": {
        "colab": {
          "base_uri": "https://localhost:8080/"
        },
        "id": "343d14cc-e1e4-4f6c-aa0d-ff4e6f0dcefa",
        "outputId": "e0716c86-5ca9-4cd9-ccf1-2b6f13481835"
      },
      "outputs": [
        {
          "output_type": "stream",
          "name": "stdout",
          "text": [
            "Using GPU: dirty_cat\n"
          ]
        },
        {
          "output_type": "stream",
          "name": "stderr",
          "text": [
            "WARNING:graphistry.umap_utils:* Ignoring target column of shape (19762, 0) in UMAP fit, as it is not one dimensional"
          ]
        },
        {
          "output_type": "stream",
          "name": "stdout",
          "text": [
            "         28960368 function calls (28800717 primitive calls) in 110.439 seconds\n",
            "\n",
            "   Ordered by: internal time\n",
            "   List reduced from 2562 to 20 due to restriction <20>\n",
            "\n",
            "   ncalls  tottime  percall  cumtime  percall filename:lineno(function)\n",
            "2916339/2916096   22.138    0.000   39.057    0.000 {built-in method numpy.core._multiarray_umath.implement_array_function}\n",
            "     1054   17.698    0.017   48.474    0.046 /usr/local/lib/python3.9/dist-packages/dirty_cat/_gap_encoder.py:1003(_multiplicative_update_h)\n",
            "        3   16.647    5.549   16.647    5.549 /usr/local/lib/python3.9/dist-packages/numpy/lib/arraysetops.py:519(in1d)\n",
            "    39524    8.337    0.000   10.021    0.000 /usr/local/lib/python3.9/dist-packages/pandas/core/missing.py:61(mask_missing)\n",
            "      775    4.697    0.006   14.330    0.018 /usr/local/lib/python3.9/dist-packages/dirty_cat/_gap_encoder.py:971(_multiplicative_update_w)\n",
            "   272946    3.786    0.000    8.226    0.000 /usr/local/lib/python3.9/dist-packages/scipy/sparse/_sputils.py:147(get_index_dtype)\n",
            "   134889    3.485    0.000    9.775    0.000 /usr/local/lib/python3.9/dist-packages/scipy/sparse/_compressed.py:136(check_format)\n",
            "    39616    3.295    0.000    3.295    0.000 {method 'copy' of 'numpy.ndarray' objects}\n",
            "  2327729    2.641    0.000   16.721    0.000 <__array_function__ internals>:177(dot)\n",
            "    90365    2.349    0.000    2.349    0.000 {method 'reduce' of 'numpy.ufunc' objects}\n",
            "   664472    1.897    0.000    1.897    0.000 /usr/local/lib/python3.9/dist-packages/numpy/core/getlimits.py:647(__init__)\n",
            "134889/134858    1.627    0.000   20.358    0.000 /usr/local/lib/python3.9/dist-packages/scipy/sparse/_compressed.py:26(__init__)\n",
            "   134889    1.172    0.000    2.455    0.000 /usr/local/lib/python3.9/dist-packages/scipy/sparse/_compressed.py:1168(prune)\n",
            "   488375    0.971    0.000    0.971    0.000 {built-in method numpy.array}\n",
            "   133914    0.933    0.000   20.601    0.000 /usr/local/lib/python3.9/dist-packages/scipy/sparse/_csr.py:236(__iter__)\n",
            "   136442    0.816    0.000    1.643    0.000 /usr/local/lib/python3.9/dist-packages/scipy/sparse/_sputils.py:295(check_shape)\n",
            "        7    0.764    0.109    2.362    0.337 /usr/local/lib/python3.9/dist-packages/sklearn/feature_extraction/text.py:1258(_count_vocab)\n",
            "    24800    0.756    0.000    0.756    0.000 {built-in method scipy.sparse._sparsetools.coo_matvec}\n",
            "   136411    0.745    0.000    0.763    0.000 /usr/local/lib/python3.9/dist-packages/scipy/sparse/_sputils.py:238(isshape)\n",
            "2166975/2008762    0.705    0.000    1.274    0.000 {built-in method builtins.isinstance}\n",
            "\n",
            "\n",
            "CPU times: user 1min 33s, sys: 33.8 s, total: 2min 7s\n",
            "Wall time: 1min 50s\n"
          ]
        }
      ],
      "source": [
        "%%time\n",
        "# process = True  # set to false after it's run for ease of speed\n",
        "pr = cProfile.Profile()\n",
        "pr.enable()\n",
        "\n",
        "g = graphistry.nodes((tdf), 'node')\n",
        "\n",
        "g5c = g.umap(X=['feats'], \n",
        "            min_words=1000000, # force high so that we don't use Sentence Transformers\n",
        "            cardinality_threshold=4, # set low so we force topic model\n",
        "            n_topics=32, # number of topics\n",
        "            use_scaler=None,\n",
        "            feature_engine='dirty_cat',\n",
        "            memoize=False,\n",
        "            #  remove_node_column=False,\n",
        "            # engine='cuml',\n",
        "            use_scaler_target=None\n",
        "           )\n",
        "\n",
        "pr.disable()\n",
        "stats = Stats(pr)\n",
        "stats.sort_stats('tottime').print_stats(20)\n",
        "\n",
        "with open('redteam_umap_dirty_cat.txt', 'w') as stream:\n",
        "    stats = Stats(pr,stream=stream)\n",
        "    stats.sort_stats('tottime').print_stats(20)"
      ],
      "id": "343d14cc-e1e4-4f6c-aa0d-ff4e6f0dcefa"
    },
    {
      "cell_type": "markdown",
      "metadata": {
        "id": "3eb4ae8b-2a14-43fe-ac7f-1714e38272aa"
      },
      "source": [
        "### CTU-13 malware dataset"
      ],
      "id": "3eb4ae8b-2a14-43fe-ac7f-1714e38272aa"
    },
    {
      "cell_type": "code",
      "execution_count": 16,
      "metadata": {
        "colab": {
          "base_uri": "https://localhost:8080/"
        },
        "id": "3b2f1b00-6984-44c2-9148-6f38282bc0de",
        "outputId": "2db4de95-18a3-4942-8c21-da2c2547001a"
      },
      "outputs": [
        {
          "output_type": "stream",
          "name": "stdout",
          "text": [
            "Botnet abundance: 0.69%\n"
          ]
        }
      ],
      "source": [
        "edf = pd.read_csv('https://gist.githubusercontent.com/silkspace/33bde3e69ae24fee1298a66d1e00b467/raw/dc66bd6f1687270be7098f94b3929d6a055b4438/malware_bots.csv', index_col=0)\n",
        "T = edf.Label.apply(lambda x: True if 'Botnet' in x else False)\n",
        "bot = edf[T]\n",
        "nbot = edf[~T]\n",
        "print(f'Botnet abundance: {100*len(bot)/len(edf):0.2f}%')# so botnet traffic makes up a tiny fraction of total\n",
        "\n",
        "# let's balance the dataset in a 10-1 ratio, for speed and demonstrative purposes\n",
        "negs = nbot.sample(10*len(bot))\n",
        "edf = pd.concat([bot, negs])  # top part of arrays are bot traffic, then all non-bot traffic\n",
        "edf = edf.drop_duplicates()\n",
        "\n",
        "# some useful indicators for later that predict Botnet as Bool and Int\n",
        "Y = edf.Label.apply(lambda x: 1 if 'Botnet' in x else 0)  # np.array(T)\n",
        "\n",
        "# Later we will use and exploit any meaning shared between the labels in a latent distribution\n",
        "\n",
        "# add it to the dataframe\n",
        "edf['bot'] = Y\n",
        "\n",
        "# name some columns for edges and features\n",
        "src = 'SrcAddr'\n",
        "dst = 'DstAddr'\n",
        "good_cols_with_edges = ['Dur', 'Proto', 'Sport',\n",
        "       'Dport', 'State', 'TotBytes', 'SrcBytes', src, dst]\n",
        "\n",
        "good_cols_without_edges = ['Dur', 'Proto', 'Sport',\n",
        "       'Dport', 'State', 'TotPkts', 'TotBytes', 'SrcBytes']\n",
        "\n",
        "## some encoding parameters\n",
        "n_topics = 20\n",
        "n_topics_target = 7\n",
        "\n"
      ],
      "id": "3b2f1b00-6984-44c2-9148-6f38282bc0de"
    },
    {
      "cell_type": "code",
      "execution_count": 17,
      "metadata": {
        "colab": {
          "base_uri": "https://localhost:8080/",
          "height": 639
        },
        "id": "294da65b-8116-41a9-93e7-6c6c5b7accdb",
        "outputId": "265a2f60-88fb-4567-b523-152bef0c4198"
      },
      "outputs": [
        {
          "output_type": "error",
          "ename": "AttributeError",
          "evalue": "ignored",
          "traceback": [
            "\u001b[0;31m---------------------------------------------------------------------------\u001b[0m",
            "\u001b[0;31mAttributeError\u001b[0m                            Traceback (most recent call last)",
            "\u001b[0;32m<ipython-input-17-54b52d78ccaa>\u001b[0m in \u001b[0;36m<cell line: 6>\u001b[0;34m()\u001b[0m\n\u001b[1;32m      4\u001b[0m \u001b[0mpr\u001b[0m \u001b[0;34m=\u001b[0m \u001b[0mcProfile\u001b[0m\u001b[0;34m.\u001b[0m\u001b[0mProfile\u001b[0m\u001b[0;34m(\u001b[0m\u001b[0;34m)\u001b[0m\u001b[0;34m\u001b[0m\u001b[0;34m\u001b[0m\u001b[0m\n\u001b[1;32m      5\u001b[0m \u001b[0mpr\u001b[0m\u001b[0;34m.\u001b[0m\u001b[0menable\u001b[0m\u001b[0;34m(\u001b[0m\u001b[0;34m)\u001b[0m\u001b[0;34m\u001b[0m\u001b[0;34m\u001b[0m\u001b[0m\n\u001b[0;32m----> 6\u001b[0;31m g6b = g.umap(kind='edges', \n\u001b[0m\u001b[1;32m      7\u001b[0m             \u001b[0mX\u001b[0m\u001b[0;34m=\u001b[0m\u001b[0mgood_cols_with_edges\u001b[0m\u001b[0;34m,\u001b[0m\u001b[0;34m\u001b[0m\u001b[0;34m\u001b[0m\u001b[0m\n\u001b[1;32m      8\u001b[0m             \u001b[0my\u001b[0m \u001b[0;34m=\u001b[0m \u001b[0;34m[\u001b[0m\u001b[0;34m'bot'\u001b[0m\u001b[0;34m]\u001b[0m\u001b[0;34m,\u001b[0m\u001b[0;34m\u001b[0m\u001b[0;34m\u001b[0m\u001b[0m\n",
            "\u001b[0;32m/usr/local/lib/python3.9/dist-packages/graphistry/umap_utils.py\u001b[0m in \u001b[0;36mumap\u001b[0;34m(self, X, y, kind, scale, n_neighbors, min_dist, spread, local_connectivity, repulsion_strength, negative_sample_rate, n_components, metric, suffix, play, encode_position, encode_weight, dbscan, umap_engine, feature_engine, inplace, memoize, verbose, **featurize_kwargs)\u001b[0m\n\u001b[1;32m    563\u001b[0m                 \u001b[0;32mif\u001b[0m \u001b[0mflag_edges_cudf\u001b[0m\u001b[0;34m:\u001b[0m\u001b[0;34m\u001b[0m\u001b[0;34m\u001b[0m\u001b[0m\n\u001b[1;32m    564\u001b[0m                     \u001b[0mres\u001b[0m\u001b[0;34m.\u001b[0m\u001b[0m_edges\u001b[0m \u001b[0;34m=\u001b[0m \u001b[0mres\u001b[0m\u001b[0;34m.\u001b[0m\u001b[0m_edges\u001b[0m\u001b[0;34m.\u001b[0m\u001b[0mto_pandas\u001b[0m\u001b[0;34m(\u001b[0m\u001b[0;34m)\u001b[0m\u001b[0;34m\u001b[0m\u001b[0;34m\u001b[0m\u001b[0m\n\u001b[0;32m--> 565\u001b[0;31m                 \u001b[0mres\u001b[0m \u001b[0;34m=\u001b[0m \u001b[0mres\u001b[0m\u001b[0;34m.\u001b[0m\u001b[0mumap\u001b[0m\u001b[0;34m(\u001b[0m\u001b[0mX\u001b[0m\u001b[0;34m=\u001b[0m\u001b[0mself\u001b[0m\u001b[0;34m.\u001b[0m\u001b[0m_nodes\u001b[0m\u001b[0;34m,\u001b[0m \u001b[0my\u001b[0m\u001b[0;34m=\u001b[0m\u001b[0mself\u001b[0m\u001b[0;34m.\u001b[0m\u001b[0m_edges\u001b[0m\u001b[0;34m,\u001b[0m \u001b[0;34m**\u001b[0m\u001b[0mumap_kwargs\u001b[0m\u001b[0;34m)\u001b[0m  \u001b[0;31m# type: ignore\u001b[0m\u001b[0;34m\u001b[0m\u001b[0;34m\u001b[0m\u001b[0m\n\u001b[0m\u001b[1;32m    566\u001b[0m                 \u001b[0;32mreturn\u001b[0m \u001b[0mres\u001b[0m\u001b[0;34m\u001b[0m\u001b[0;34m\u001b[0m\u001b[0m\n\u001b[1;32m    567\u001b[0m \u001b[0;34m\u001b[0m\u001b[0m\n",
            "\u001b[0;32m/usr/local/lib/python3.9/dist-packages/graphistry/umap_utils.py\u001b[0m in \u001b[0;36mumap\u001b[0;34m(self, X, y, kind, scale, n_neighbors, min_dist, spread, local_connectivity, repulsion_strength, negative_sample_rate, n_components, metric, suffix, play, encode_position, encode_weight, dbscan, umap_engine, feature_engine, inplace, memoize, verbose, **featurize_kwargs)\u001b[0m\n\u001b[1;32m    583\u001b[0m \u001b[0;34m\u001b[0m\u001b[0m\n\u001b[1;32m    584\u001b[0m         \u001b[0;32mif\u001b[0m \u001b[0mkind\u001b[0m \u001b[0;34m==\u001b[0m \u001b[0;34m\"nodes\"\u001b[0m\u001b[0;34m:\u001b[0m\u001b[0;34m\u001b[0m\u001b[0;34m\u001b[0m\u001b[0m\n\u001b[0;32m--> 585\u001b[0;31m             \u001b[0mindex\u001b[0m \u001b[0;34m=\u001b[0m \u001b[0mres\u001b[0m\u001b[0;34m.\u001b[0m\u001b[0m_nodes\u001b[0m\u001b[0;34m.\u001b[0m\u001b[0mindex\u001b[0m\u001b[0;34m\u001b[0m\u001b[0;34m\u001b[0m\u001b[0m\n\u001b[0m\u001b[1;32m    586\u001b[0m             \u001b[0;32mif\u001b[0m \u001b[0mres\u001b[0m\u001b[0;34m.\u001b[0m\u001b[0m_node\u001b[0m \u001b[0;32mis\u001b[0m \u001b[0;32mNone\u001b[0m\u001b[0;34m:\u001b[0m\u001b[0;34m\u001b[0m\u001b[0;34m\u001b[0m\u001b[0m\n\u001b[1;32m    587\u001b[0m                 \u001b[0mlogger\u001b[0m\u001b[0;34m.\u001b[0m\u001b[0mdebug\u001b[0m\u001b[0;34m(\u001b[0m\u001b[0;34m\"-Writing new node name\"\u001b[0m\u001b[0;34m)\u001b[0m\u001b[0;34m\u001b[0m\u001b[0;34m\u001b[0m\u001b[0m\n",
            "\u001b[0;31mAttributeError\u001b[0m: 'NoneType' object has no attribute 'index'"
          ]
        }
      ],
      "source": [
        "# lets umap the data\n",
        "g = graphistry.edges(cudf.from_pandas(edf), src, dst)\n",
        "\n",
        "pr = cProfile.Profile()\n",
        "pr.enable()\n",
        "g6b = g.umap(kind='edges', \n",
        "            X=good_cols_with_edges, \n",
        "            y = ['bot'], \n",
        "            # use_scaler='quantile',\n",
        "            # use_scaler_target=None,\n",
        "            cardinality_threshold=20,\n",
        "            cardinality_threshold_target=2, \n",
        "            n_topics=n_topics,\n",
        "            feature_engine='cu_cat',\n",
        "            # engine='cuml',\n",
        "            memoize=False,\n",
        "            n_topics_target=n_topics_target,\n",
        "            n_bins=n_topics_target,\n",
        "            metric='euclidean', \n",
        "            n_neighbors=12)\n",
        "pr.disable()\n",
        "stats = Stats(pr)\n",
        "stats.sort_stats('tottime').print_stats(20)\n",
        "\n",
        "with open('ctu13_umap_cudf-cu_cat.txt', 'w') as stream:\n",
        "    stats = Stats(pr,stream=stream)\n",
        "    stats.sort_stats('tottime').print_stats(20)\n"
      ],
      "id": "294da65b-8116-41a9-93e7-6c6c5b7accdb"
    },
    {
      "cell_type": "code",
      "execution_count": 19,
      "metadata": {
        "colab": {
          "base_uri": "https://localhost:8080/"
        },
        "id": "b0947964-efba-43be-acdc-39e52d7e2261",
        "outputId": "83e9fdf3-9899-469e-896c-cc73d408b244"
      },
      "outputs": [
        {
          "output_type": "stream",
          "name": "stderr",
          "text": [
            "WARNING:root:Target is not of type(DataFrame) and has no columns"
          ]
        },
        {
          "output_type": "stream",
          "name": "stdout",
          "text": [
            "Using GPU: cu_cat\n",
            "         21273825 function calls (21081102 primitive calls) in 49.066 seconds\n",
            "\n",
            "   Ordered by: internal time\n",
            "   List reduced from 2769 to 20 due to restriction <20>\n",
            "\n",
            "   ncalls  tottime  percall  cumtime  percall filename:lineno(function)\n",
            "       40    6.384    0.160    8.219    0.205 /usr/local/lib/python3.9/dist-packages/cu_cat/_gap_encoder.py:1126(_multiplicative_update_h_smallfast)\n",
            "       15    4.605    0.307    4.605    0.307 /usr/local/lib/python3.9/dist-packages/numpy/lib/arraysetops.py:519(in1d)\n",
            "        3    2.559    0.853    2.560    0.853 /usr/local/lib/python3.9/dist-packages/numpy/ma/core.py:3211(__getitem__)\n",
            "       35    1.786    0.051    2.152    0.061 /usr/local/lib/python3.9/dist-packages/cu_cat/_gap_encoder.py:181(_get_H)\n",
            "      207    1.719    0.008    1.719    0.008 {method 'argsort' of 'numpy.ndarray' objects}\n",
            "   126556    1.641    0.000    2.361    0.000 /usr/lib/python3.9/typing.py:1065(_get_protocol_attrs)\n",
            "        1    1.603    1.603    1.603    1.603 /usr/local/lib/python3.9/dist-packages/numpy/ma/core.py:3337(__setitem__)\n",
            "    17893    1.443    0.000    1.586    0.000 /usr/local/lib/python3.9/dist-packages/rmm/rmm.py:216(rmm_cupy_allocator)\n",
            "   160172    1.128    0.000    1.376    0.000 {built-in method cupy._core.core.array}\n",
            "    13186    1.112    0.000    1.112    0.000 {method 'take' of 'numpy.ndarray' objects}\n",
            "        2    0.890    0.445    5.858    2.929 /usr/local/lib/python3.9/dist-packages/cuml/internals/api_decorators.py:397(inner_with_setters)\n",
            "    13065    0.858    0.000    3.167    0.000 /usr/local/lib/python3.9/dist-packages/scipy/stats/_distn_infrastructure.py:2319(ppf)\n",
            "      3/2    0.822    0.274   16.430    8.215 /usr/local/lib/python3.9/dist-packages/cuml/internals/api_decorators.py:571(inner_get)\n",
            "     8837    0.686    0.000    2.399    0.000 /usr/local/lib/python3.9/dist-packages/cudf/core/column/numerical.py:367(as_numerical_column)\n",
            "       19    0.647    0.034    6.005    0.316 /usr/local/lib/python3.9/dist-packages/cudf/core/frame.py:460(_to_array)\n",
            "     8710    0.620    0.000    0.620    0.000 {built-in method numpy.core._multiarray_umath.interp}\n",
            "     4355    0.620    0.000    4.855    0.001 /usr/local/lib/python3.9/dist-packages/sklearn/preprocessing/_data.py:2645(_transform_col)\n",
            "    74725    0.595    0.000    0.595    0.000 {method 'reduce' of 'numpy.ufunc' objects}\n",
            "     4358    0.540    0.000    0.540    0.000 {method 'partition' of 'numpy.ndarray' objects}\n",
            "279511/222369    0.478    0.000   11.876    0.000 {built-in method numpy.core._multiarray_umath.implement_array_function}\n",
            "\n",
            "\n"
          ]
        }
      ],
      "source": [
        "# lets umap the data\n",
        "g = graphistry.edges(edf, src, dst)\n",
        "\n",
        "pr = cProfile.Profile()\n",
        "pr.enable()\n",
        "g6a = g.umap(kind='edges', \n",
        "            X=good_cols_with_edges, \n",
        "            y = ['bot'], \n",
        "            use_scaler='quantile',\n",
        "            use_scaler_target=None,\n",
        "            cardinality_threshold=20,\n",
        "            cardinality_threshold_target=2, \n",
        "            n_topics=n_topics,\n",
        "            feature_engine='cu_cat',\n",
        "            # engine='cuml',\n",
        "            memoize=False,\n",
        "            n_topics_target=n_topics_target,\n",
        "            n_bins=n_topics_target,\n",
        "            metric='euclidean', \n",
        "            n_neighbors=12)\n",
        "pr.disable()\n",
        "stats = Stats(pr)\n",
        "stats.sort_stats('tottime').print_stats(20)\n",
        "\n",
        "with open('ctu13_umap_cu_cat.txt', 'w') as stream:\n",
        "    stats = Stats(pr,stream=stream)\n",
        "    stats.sort_stats('tottime').print_stats(20)\n"
      ],
      "id": "b0947964-efba-43be-acdc-39e52d7e2261"
    },
    {
      "cell_type": "code",
      "execution_count": 18,
      "metadata": {
        "id": "066c8421-4c91-4e6a-b6de-07a62eecdfb1",
        "colab": {
          "base_uri": "https://localhost:8080/"
        },
        "outputId": "a89a1591-700c-4b97-f2c7-8824f1cca2fe"
      },
      "outputs": [
        {
          "output_type": "stream",
          "name": "stdout",
          "text": [
            "Using GPU: dirty_cat\n",
            "         26082100 function calls (25804777 primitive calls) in 61.806 seconds\n",
            "\n",
            "   Ordered by: internal time\n",
            "   List reduced from 2571 to 20 due to restriction <20>\n",
            "\n",
            "   ncalls  tottime  percall  cumtime  percall filename:lineno(function)\n",
            "     1392    6.611    0.005   21.920    0.016 /usr/local/lib/python3.9/dist-packages/dirty_cat/_gap_encoder.py:1003(_multiplicative_update_h)\n",
            "1739586/1682766    5.960    0.000   17.477    0.000 {built-in method numpy.core._multiarray_umath.implement_array_function}\n",
            "        9    5.336    0.593    5.336    0.593 /usr/local/lib/python3.9/dist-packages/numpy/lib/arraysetops.py:519(in1d)\n",
            "   186894    2.096    0.000    4.544    0.000 /usr/local/lib/python3.9/dist-packages/scipy/sparse/_sputils.py:147(get_index_dtype)\n",
            "    91047    1.941    0.000    5.551    0.000 /usr/local/lib/python3.9/dist-packages/scipy/sparse/_compressed.py:136(check_format)\n",
            "      144    1.656    0.011    1.656    0.011 {method 'argsort' of 'numpy.ndarray' objects}\n",
            "     1170    1.571    0.001    4.795    0.004 /usr/local/lib/python3.9/dist-packages/dirty_cat/_gap_encoder.py:971(_multiplicative_update_w)\n",
            "        3    1.565    0.522    1.565    0.522 /usr/local/lib/python3.9/dist-packages/numpy/ma/core.py:3211(__getitem__)\n",
            "        1    1.395    1.395    1.395    1.395 /usr/local/lib/python3.9/dist-packages/numpy/ma/core.py:3337(__setitem__)\n",
            "  1109824    1.163    0.000    6.213    0.000 <__array_function__ internals>:177(dot)\n",
            "    12951    1.072    0.000    3.827    0.000 /usr/local/lib/python3.9/dist-packages/scipy/stats/_distn_infrastructure.py:2319(ppf)\n",
            "    13142    1.036    0.000    1.036    0.000 {method 'take' of 'numpy.ndarray' objects}\n",
            "        1    0.942    0.942    4.166    4.166 /usr/local/lib/python3.9/dist-packages/cuml/internals/api_decorators.py:397(inner_with_setters)\n",
            "91047/90990    0.938    0.000   11.117    0.000 /usr/local/lib/python3.9/dist-packages/scipy/sparse/_compressed.py:26(__init__)\n",
            "   373808    0.926    0.000    0.926    0.000 /usr/local/lib/python3.9/dist-packages/numpy/core/getlimits.py:647(__init__)\n",
            "      138    0.919    0.007    0.919    0.007 {method 'copy' of 'numpy.ndarray' objects}\n",
            "        1    0.850    0.850    4.211    4.211 /usr/local/lib/python3.9/dist-packages/cuml/internals/api_decorators.py:571(inner_get)\n",
            "    90570    0.811    0.000    0.811    0.000 {method 'reduce' of 'numpy.ufunc' objects}\n",
            "   349281    0.757    0.000    0.766    0.000 {built-in method numpy.array}\n",
            "    51744    0.752    0.000    0.984    0.000 /usr/lib/python3.9/typing.py:1065(_get_protocol_attrs)\n",
            "\n",
            "\n"
          ]
        }
      ],
      "source": [
        "### lets umap the data\n",
        "g = graphistry.edges(edf, src, dst)\n",
        "pr = cProfile.Profile()\n",
        "pr.enable()\n",
        "g6c = g.umap(kind='edges', \n",
        "            X=good_cols_with_edges, \n",
        "            y = ['bot'], \n",
        "            use_scaler='quantile',\n",
        "            use_scaler_target=None,\n",
        "            cardinality_threshold=20,\n",
        "            cardinality_threshold_target=2, \n",
        "            n_topics=n_topics,\n",
        "            feature_engine='dirty_cat',\n",
        "            # engine='cuml',\n",
        "            memoize=False,\n",
        "            n_topics_target=n_topics_target,\n",
        "            n_bins=n_topics_target,\n",
        "            metric='euclidean', \n",
        "            n_neighbors=12)\n",
        "pr.disable()\n",
        "stats = Stats(pr)\n",
        "stats.sort_stats('tottime').print_stats(20)\n",
        "\n",
        "with open('ctu13_umap_dirtycat.txt', 'w') as stream:\n",
        "    stats = Stats(pr,stream=stream)\n",
        "    stats.sort_stats('tottime').print_stats(20)\n"
      ],
      "id": "066c8421-4c91-4e6a-b6de-07a62eecdfb1"
    },
    {
      "cell_type": "markdown",
      "metadata": {
        "id": "6657b008-5094-42fd-96a8-177edf7e5ebd"
      },
      "source": [
        "### 20newsgroups"
      ],
      "id": "6657b008-5094-42fd-96a8-177edf7e5ebd"
    },
    {
      "cell_type": "code",
      "execution_count": 20,
      "metadata": {
        "id": "625c5db9-bd1e-40df-9cce-604a675de2aa"
      },
      "outputs": [],
      "source": [
        "from sklearn.datasets import fetch_20newsgroups\n",
        "# newsgroups = fetch_20newsgroups()#categories=categories)\n",
        "n_samples = 500\n",
        "# n_features = 1000\n",
        "# n_components = 10\n",
        "# n_top_words = 20\n",
        "# batch_size = 128\n",
        "# init = \"nndsvda\"\n",
        "\n",
        "news, _ = fetch_20newsgroups(\n",
        "    shuffle=True,\n",
        "    random_state=1,\n",
        "    remove=(\"headers\", \"footers\", \"quotes\"),\n",
        "    return_X_y=True,\n",
        ")\n",
        "\n",
        "news = news[:n_samples]\n",
        "news=pd.DataFrame(news)"
      ],
      "id": "625c5db9-bd1e-40df-9cce-604a675de2aa"
    },
    {
      "cell_type": "code",
      "source": [
        "import logging\n",
        "# logging.basicConfig(level=logging)\n",
        "logging.basicConfig(level=None)"
      ],
      "metadata": {
        "id": "4op4etIhGwB3"
      },
      "id": "4op4etIhGwB3",
      "execution_count": 21,
      "outputs": []
    },
    {
      "cell_type": "code",
      "execution_count": 22,
      "metadata": {
        "id": "427e3cb3-60fe-4289-9655-fbdecda1a9ca",
        "colab": {
          "base_uri": "https://localhost:8080/"
        },
        "outputId": "2b31795c-6db0-42bc-dd61-7d3a88233e38"
      },
      "outputs": [
        {
          "output_type": "stream",
          "name": "stderr",
          "text": [
            "WARNING:root:Target is not of type(DataFrame) and has no columns"
          ]
        },
        {
          "output_type": "stream",
          "name": "stdout",
          "text": [
            "Featurizing nodes with feature_engine=cu_cat\n",
            "Using GPU: cu_cat\n"
          ]
        },
        {
          "output_type": "stream",
          "name": "stderr",
          "text": [
            "WARNING:root:! Failed featurize speedup attempt. Continuing without memoization speedups.WARNING:root:Target is not of type(DataFrame) and has no columns"
          ]
        },
        {
          "output_type": "stream",
          "name": "stdout",
          "text": [
            "Using GPU: cu_cat\n"
          ]
        },
        {
          "output_type": "stream",
          "name": "stderr",
          "text": [
            "WARNING:root:! Failed umap speedup attempt. Continuing without memoization speedups.WARNING:graphistry.umap_utils:* Ignoring target column of shape (500, 0) in UMAP fit, as it is not one dimensional"
          ]
        },
        {
          "output_type": "stream",
          "name": "stdout",
          "text": [
            "         17140650 function calls (17107731 primitive calls) in 90.004 seconds\n",
            "\n",
            "   Ordered by: internal time\n",
            "   List reduced from 2511 to 20 due to restriction <20>\n",
            "\n",
            "   ncalls  tottime  percall  cumtime  percall filename:lineno(function)\n",
            "      416   12.858    0.031   46.479    0.112 /usr/local/lib/python3.9/dist-packages/cu_cat/_gap_encoder.py:1042(_multiplicative_update_h)\n",
            "       12   11.673    0.973   14.952    1.246 /usr/local/lib/python3.9/dist-packages/cu_cat/_gap_encoder.py:1126(_multiplicative_update_h_smallfast)\n",
            "        6   10.637    1.773   10.637    1.773 /usr/local/lib/python3.9/dist-packages/numpy/lib/arraysetops.py:519(in1d)\n",
            "   168234    7.370    0.000    8.834    0.000 /usr/local/lib/python3.9/dist-packages/rmm/rmm.py:216(rmm_cupy_allocator)\n",
            "    26748    5.594    0.000    8.341    0.000 /usr/local/lib/python3.9/dist-packages/cupyx/scipy/sparse/_index.py:44(_get_csr_submatrix_major_axis)\n",
            "       14    3.202    0.229    7.352    0.525 /usr/local/lib/python3.9/dist-packages/cu_cat/_gap_encoder.py:181(_get_H)\n",
            "1519779/1519694    3.094    0.000   16.607    0.000 {built-in method numpy.core._multiarray_umath.implement_array_function}\n",
            "    79688    2.983    0.000    3.324    0.000 {method 'get' of 'cupy._core.core.ndarray' objects}\n",
            "    80674    2.817    0.000    7.141    0.000 {method 'copy' of 'cupy._core.core.ndarray' objects}\n",
            "   110348    2.292    0.000    3.963    0.000 {built-in method cupy._core.core.array}\n",
            "    81245    2.225    0.000    2.225    0.000 {built-in method numpy.array}\n",
            "      404    1.222    0.003    1.747    0.004 /usr/local/lib/python3.9/dist-packages/cupyx/scipy/sparse/csr.py:148(__mul__)\n",
            "    53956    0.988    0.000    2.267    0.000 /usr/local/lib/python3.9/dist-packages/cupyx/scipy/sparse/compressed.py:195(__init__)\n",
            "   255115    0.877    0.000    0.877    0.000 {method 'reduce' of 'numpy.ufunc' objects}\n",
            "       30    0.795    0.026    0.809    0.027 /usr/local/lib/python3.9/dist-packages/cudf/core/column/string.py:4619(character_ngrams)\n",
            "    26540    0.785    0.000   18.805    0.001 /usr/local/lib/python3.9/dist-packages/cupyx/scipy/sparse/csr.py:548(_get_intXslice)\n",
            "        2    0.775    0.387    0.775    0.387 {method 'gamma' of 'numpy.random.mtrand.RandomState' objects}\n",
            "  1018624    0.712    0.000    2.737    0.000 <__array_function__ internals>:177(dot)\n",
            "       14    0.653    0.047    0.661    0.047 /usr/local/lib/python3.9/dist-packages/cudf/core/column/string.py:1800(lower)\n",
            "   254695    0.646    0.000    2.374    0.000 /usr/local/lib/python3.9/dist-packages/numpy/core/fromnumeric.py:69(_wrapreduction)\n",
            "\n",
            "\n"
          ]
        }
      ],
      "source": [
        "g = graphistry.nodes(cudf.from_pandas(news))\n",
        "pr = cProfile.Profile()\n",
        "pr.enable()\n",
        "\n",
        "\n",
        "g8 = g.featurize(feature_engine='cu_cat',memoize=False)\n",
        "g8b = g8.umap()#,feature_engine='cu_cat',memoize=False)\n",
        "\n",
        "pr.disable()\n",
        "stats = Stats(pr)\n",
        "stats.sort_stats('tottime').print_stats(20)\n",
        "\n",
        "with open('20news_umap_cudf-cu_cat.txt', 'w') as stream:\n",
        "    stats = Stats(pr,stream=stream)\n",
        "    stats.sort_stats('tottime').print_stats(20)"
      ],
      "id": "427e3cb3-60fe-4289-9655-fbdecda1a9ca"
    },
    {
      "cell_type": "code",
      "execution_count": 23,
      "metadata": {
        "id": "9683c33e-aa71-47a2-87f2-16b69d482a85",
        "colab": {
          "base_uri": "https://localhost:8080/"
        },
        "outputId": "f856b4f0-fe45-40a2-dff0-de12526448e9"
      },
      "outputs": [
        {
          "output_type": "stream",
          "name": "stderr",
          "text": [
            "WARNING:root:Target is not of type(DataFrame) and has no columns"
          ]
        },
        {
          "output_type": "stream",
          "name": "stdout",
          "text": [
            "Featurizing nodes with feature_engine=cu_cat\n",
            "Using GPU: cu_cat\n"
          ]
        },
        {
          "output_type": "stream",
          "name": "stderr",
          "text": [
            "WARNING:root:! Failed featurize speedup attempt. Continuing without memoization speedups.WARNING:root:Target is not of type(DataFrame) and has no columns"
          ]
        },
        {
          "output_type": "stream",
          "name": "stdout",
          "text": [
            "Using GPU: cu_cat\n"
          ]
        },
        {
          "output_type": "stream",
          "name": "stderr",
          "text": [
            "WARNING:root:! Failed umap speedup attempt. Continuing without memoization speedups.WARNING:graphistry.umap_utils:* Ignoring target column of shape (500, 0) in UMAP fit, as it is not one dimensional"
          ]
        },
        {
          "output_type": "stream",
          "name": "stdout",
          "text": [
            "         17164380 function calls (17131488 primitive calls) in 84.611 seconds\n",
            "\n",
            "   Ordered by: internal time\n",
            "   List reduced from 2433 to 20 due to restriction <20>\n",
            "\n",
            "   ncalls  tottime  percall  cumtime  percall filename:lineno(function)\n",
            "       12   11.993    0.999   15.394    1.283 /usr/local/lib/python3.9/dist-packages/cu_cat/_gap_encoder.py:1126(_multiplicative_update_h_smallfast)\n",
            "      416   11.639    0.028   39.970    0.096 /usr/local/lib/python3.9/dist-packages/cu_cat/_gap_encoder.py:1042(_multiplicative_update_h)\n",
            "        6    9.901    1.650    9.901    1.650 /usr/local/lib/python3.9/dist-packages/numpy/lib/arraysetops.py:519(in1d)\n",
            "   168234    7.289    0.000    8.759    0.000 /usr/local/lib/python3.9/dist-packages/rmm/rmm.py:216(rmm_cupy_allocator)\n",
            "    26748    4.437    0.000    6.471    0.000 /usr/local/lib/python3.9/dist-packages/cupyx/scipy/sparse/_index.py:44(_get_csr_submatrix_major_axis)\n",
            "       14    3.863    0.276   10.062    0.719 /usr/local/lib/python3.9/dist-packages/cu_cat/_gap_encoder.py:181(_get_H)\n",
            "   110348    3.390    0.000    5.984    0.000 {built-in method cupy._core.core.array}\n",
            "1525452/1525368    2.800    0.000   15.373    0.000 {built-in method numpy.core._multiarray_umath.implement_array_function}\n",
            "    79688    2.444    0.000    2.724    0.000 {method 'get' of 'cupy._core.core.ndarray' objects}\n",
            "    80674    2.266    0.000    5.792    0.000 {method 'copy' of 'cupy._core.core.ndarray' objects}\n",
            "    81244    2.151    0.000    2.151    0.000 {built-in method numpy.array}\n",
            "      404    1.278    0.003    1.810    0.004 /usr/local/lib/python3.9/dist-packages/cupyx/scipy/sparse/csr.py:148(__mul__)\n",
            "    53956    0.793    0.000    1.622    0.000 /usr/local/lib/python3.9/dist-packages/cupyx/scipy/sparse/compressed.py:195(__init__)\n",
            "   256259    0.789    0.000    0.789    0.000 {method 'reduce' of 'numpy.ufunc' objects}\n",
            "       30    0.783    0.026    0.797    0.027 /usr/local/lib/python3.9/dist-packages/cudf/core/column/string.py:4619(character_ngrams)\n",
            "  1023204    0.706    0.000    2.616    0.000 <__array_function__ internals>:177(dot)\n",
            "       14    0.684    0.049    0.691    0.049 /usr/local/lib/python3.9/dist-packages/cudf/core/column/string.py:1800(lower)\n",
            "    26540    0.641    0.000   15.100    0.001 /usr/local/lib/python3.9/dist-packages/cupyx/scipy/sparse/csr.py:548(_get_intXslice)\n",
            "        2    0.621    0.311    0.621    0.311 {method 'gamma' of 'numpy.random.mtrand.RandomState' objects}\n",
            "   255840    0.594    0.000    2.203    0.000 /usr/local/lib/python3.9/dist-packages/numpy/core/fromnumeric.py:69(_wrapreduction)\n",
            "\n",
            "\n"
          ]
        }
      ],
      "source": [
        "g = graphistry.nodes(news)\n",
        "pr = cProfile.Profile()\n",
        "pr.enable()\n",
        "\n",
        "g7 = g.featurize(feature_engine='cu_cat',memoize=False)\n",
        "g7a = g7.umap()#,feature_engine='cu_cat',memoize=False)\n",
        "\n",
        "pr.disable()\n",
        "stats = Stats(pr)\n",
        "stats.sort_stats('tottime').print_stats(20)\n",
        "\n",
        "with open('20news_umap_cu_cat.txt', 'w') as stream:\n",
        "    stats = Stats(pr,stream=stream)\n",
        "    stats.sort_stats('tottime').print_stats(20)"
      ],
      "id": "9683c33e-aa71-47a2-87f2-16b69d482a85"
    },
    {
      "cell_type": "code",
      "execution_count": null,
      "metadata": {
        "id": "b88c5fba-32d3-4140-9a9e-8fd6a652f07c",
        "colab": {
          "base_uri": "https://localhost:8080/"
        },
        "outputId": "4030fcd2-9b91-4efe-93b8-814bdb592d2e"
      },
      "outputs": [
        {
          "output_type": "stream",
          "name": "stdout",
          "text": [
            "Featurizing nodes with feature_engine=dirty_cat\n",
            "Using GPU: dirty_cat\n"
          ]
        }
      ],
      "source": [
        "g = graphistry.nodes(news)\n",
        "pr = cProfile.Profile()\n",
        "pr.enable()\n",
        "\n",
        "g9 = g.featurize(feature_engine='dirty_cat',memoize=False)\n",
        "g9c = g9.umap(engine='cuml')#,feature_engine='cu_cat',memoize=False)\n",
        "\n",
        "pr.disable()\n",
        "stats = Stats(pr)\n",
        "stats.sort_stats('tottime').print_stats(20)\n",
        "\n",
        "with open('20news_umap_dirtycat.txt', 'w') as stream:\n",
        "    stats = Stats(pr,stream=stream)\n",
        "    stats.sort_stats('tottime').print_stats(20)"
      ],
      "id": "b88c5fba-32d3-4140-9a9e-8fd6a652f07c"
    },
    {
      "cell_type": "code",
      "execution_count": null,
      "metadata": {
        "id": "FNlKXbL48xOe"
      },
      "outputs": [],
      "source": [],
      "id": "FNlKXbL48xOe"
    },
    {
      "cell_type": "markdown",
      "metadata": {
        "id": "f2eafa7a-9b51-492a-ab0e-ed7ec89a2a6f"
      },
      "source": [
        "### winlogs"
      ],
      "id": "f2eafa7a-9b51-492a-ab0e-ed7ec89a2a6f"
    },
    {
      "cell_type": "code",
      "execution_count": 8,
      "metadata": {
        "colab": {
          "base_uri": "https://localhost:8080/"
        },
        "id": "216f66ba-18a5-4ac5-bb10-b7aefe086df0",
        "outputId": "cb7e659d-afc5-493b-af4b-8a9b79dc8f21"
      },
      "outputs": [
        {
          "output_type": "stream",
          "name": "stdout",
          "text": [
            "File ‘part.88.parquet’ already there; not retrieving.\n",
            "\n",
            "Featurizing nodes with feature_engine=cu_cat\n",
            "Using GPU: cu_cat\n"
          ]
        },
        {
          "output_type": "stream",
          "name": "stderr",
          "text": [
            "WARNING:root:Target is not of type(DataFrame) and has no columnsWARNING:root:Target is not of type(DataFrame) and has no columns"
          ]
        },
        {
          "output_type": "stream",
          "name": "stdout",
          "text": [
            "         4766439 function calls (4726326 primitive calls) in 74.039 seconds\n",
            "\n",
            "   Ordered by: internal time\n",
            "   List reduced from 2050 to 20 due to restriction <20>\n",
            "\n",
            "   ncalls  tottime  percall  cumtime  percall filename:lineno(function)\n",
            "       24   37.937    1.581   42.562    1.773 /usr/local/lib/python3.9/dist-packages/cu_cat/_gap_encoder.py:1126(_multiplicative_update_h_smallfast)\n",
            "        9   18.896    2.100   18.897    2.100 /usr/local/lib/python3.9/dist-packages/numpy/lib/arraysetops.py:519(in1d)\n",
            "       21    5.809    0.277    6.994    0.333 /usr/local/lib/python3.9/dist-packages/cu_cat/_gap_encoder.py:181(_get_H)\n",
            "    10329    3.731    0.000    3.864    0.000 /usr/local/lib/python3.9/dist-packages/rmm/rmm.py:216(rmm_cupy_allocator)\n",
            "       15    0.976    0.065    1.116    0.074 /usr/local/lib/python3.9/dist-packages/cu_cat/_gap_encoder.py:994(_multiplicative_update_w_smallfast)\n",
            "   456139    0.624    0.000    0.646    0.000 {built-in method cupy._core.core.array}\n",
            "     1065    0.608    0.001    0.678    0.001 {method 'update' of 'dict' objects}\n",
            "      255    0.375    0.001    0.375    0.001 {method 'argsort' of 'numpy.ndarray' objects}\n",
            "      501    0.319    0.001    0.731    0.001 /usr/local/lib/python3.9/dist-packages/cupyx/scipy/sparse/csr.py:148(__mul__)\n",
            "   605044    0.272    0.000    0.388    0.000 /usr/local/lib/python3.9/dist-packages/numpy/core/numeric.py:1859(isscalar)\n",
            "       37    0.242    0.007    0.256    0.007 /usr/local/lib/python3.9/dist-packages/cudf/core/column/column.py:246(from_arrow)\n",
            "    16412    0.221    0.000    0.311    0.000 /usr/lib/python3.9/typing.py:1065(_get_protocol_attrs)\n",
            "834003/833347    0.173    0.000    0.412    0.000 {built-in method builtins.isinstance}\n",
            "       65    0.156    0.002    0.184    0.003 /usr/local/lib/python3.9/dist-packages/cudf/core/column/column.py:1040(unique)\n",
            "   456032    0.153    0.000    0.770    0.000 /usr/local/lib/python3.9/dist-packages/cupy/_creation/from_data.py:49(asarray)\n",
            "        3    0.126    0.042   27.815    9.272 /usr/local/lib/python3.9/dist-packages/cu_cat/_gap_encoder.py:274(fit)\n",
            "      208    0.116    0.001    0.392    0.002 /usr/local/lib/python3.9/dist-packages/cudf/core/indexed_frame.py:1508(_gather)\n",
            "49785/49743    0.109    0.000   19.437    0.000 {built-in method numpy.core._multiarray_umath.implement_array_function}\n",
            "      132    0.092    0.001    0.124    0.001 /usr/local/lib/python3.9/dist-packages/cudf/core/frame.py:1540(_get_sorted_inds)\n",
            "        3    0.085    0.028    0.085    0.028 {method 'gamma' of 'numpy.random.mtrand.RandomState' objects}\n",
            "\n",
            "\n",
            "Featurizing nodes with feature_engine=cu_cat\n",
            "Using GPU: cu_cat\n",
            "         4762959 function calls (4722891 primitive calls) in 71.151 seconds\n",
            "\n",
            "   Ordered by: internal time\n",
            "   List reduced from 1963 to 20 due to restriction <20>\n",
            "\n",
            "   ncalls  tottime  percall  cumtime  percall filename:lineno(function)\n",
            "       24   36.910    1.538   41.020    1.709 /usr/local/lib/python3.9/dist-packages/cu_cat/_gap_encoder.py:1126(_multiplicative_update_h_smallfast)\n",
            "        9   18.701    2.078   18.702    2.078 /usr/local/lib/python3.9/dist-packages/numpy/lib/arraysetops.py:519(in1d)\n",
            "       21    5.491    0.261    6.606    0.315 /usr/local/lib/python3.9/dist-packages/cu_cat/_gap_encoder.py:181(_get_H)\n",
            "    10275    3.297    0.000    3.416    0.000 /usr/local/lib/python3.9/dist-packages/rmm/rmm.py:216(rmm_cupy_allocator)\n",
            "       15    0.966    0.064    1.106    0.074 /usr/local/lib/python3.9/dist-packages/cu_cat/_gap_encoder.py:994(_multiplicative_update_w_smallfast)\n",
            "   456136    0.587    0.000    0.609    0.000 {built-in method cupy._core.core.array}\n",
            "     1059    0.546    0.001    0.611    0.001 {method 'update' of 'dict' objects}\n",
            "      255    0.325    0.001    0.325    0.001 {method 'argsort' of 'numpy.ndarray' objects}\n",
            "      498    0.313    0.001    0.701    0.001 /usr/local/lib/python3.9/dist-packages/cupyx/scipy/sparse/csr.py:148(__mul__)\n",
            "   605025    0.254    0.000    0.364    0.000 /usr/local/lib/python3.9/dist-packages/numpy/core/numeric.py:1859(isscalar)\n",
            "    16404    0.191    0.000    0.278    0.000 /usr/lib/python3.9/typing.py:1065(_get_protocol_attrs)\n",
            "833610/832961    0.159    0.000    0.371    0.000 {built-in method builtins.isinstance}\n",
            "   456029    0.142    0.000    0.722    0.000 /usr/local/lib/python3.9/dist-packages/cupy/_creation/from_data.py:49(asarray)\n",
            "       65    0.123    0.002    0.146    0.002 /usr/local/lib/python3.9/dist-packages/cudf/core/column/column.py:1040(unique)\n",
            "49762/49721    0.106    0.000   19.178    0.000 {built-in method numpy.core._multiarray_umath.implement_array_function}\n",
            "        3    0.100    0.033   26.448    8.816 /usr/local/lib/python3.9/dist-packages/cu_cat/_gap_encoder.py:274(fit)\n",
            "      208    0.099    0.000    0.332    0.002 /usr/local/lib/python3.9/dist-packages/cudf/core/indexed_frame.py:1508(_gather)\n",
            "      132    0.081    0.001    0.109    0.001 /usr/local/lib/python3.9/dist-packages/cudf/core/frame.py:1540(_get_sorted_inds)\n",
            "        3    0.073    0.024    0.073    0.024 {method 'gamma' of 'numpy.random.mtrand.RandomState' objects}\n",
            "     1565    0.071    0.000    0.166    0.000 /usr/local/lib/python3.9/dist-packages/cupyx/scipy/sparse/compressed.py:649(__get_has_canonical_format)\n",
            "\n",
            "\n",
            "Featurizing nodes with feature_engine=dirty_cat\n",
            "Using GPU: dirty_cat\n",
            "         94227606 function calls (93019419 primitive calls) in 345.175 seconds\n",
            "\n",
            "   Ordered by: internal time\n",
            "   List reduced from 2093 to 20 due to restriction <20>\n",
            "\n",
            "   ncalls  tottime  percall  cumtime  percall filename:lineno(function)\n",
            "12741351/12740862   90.306    0.000  105.874    0.000 {built-in method numpy.core._multiarray_umath.implement_array_function}\n",
            "     8255   60.123    0.007  170.758    0.021 /usr/local/lib/python3.9/dist-packages/dirty_cat/_gap_encoder.py:1003(_multiplicative_update_h)\n",
            "     7820   52.094    0.007  141.764    0.018 /usr/local/lib/python3.9/dist-packages/dirty_cat/_gap_encoder.py:971(_multiplicative_update_w)\n",
            "  1172158   14.257    0.000   30.584    0.000 /usr/local/lib/python3.9/dist-packages/scipy/sparse/_sputils.py:147(get_index_dtype)\n",
            "        6   14.006    2.334   14.006    2.334 /usr/local/lib/python3.9/dist-packages/numpy/lib/arraysetops.py:519(in1d)\n",
            "   570357   12.608    0.000   36.494    0.000 /usr/local/lib/python3.9/dist-packages/scipy/sparse/_compressed.py:136(check_format)\n",
            " 10378200   10.013    0.000   98.225    0.000 <__array_function__ internals>:177(dot)\n",
            "     7820    7.300    0.001   10.534    0.001 /usr/local/lib/python3.9/dist-packages/dirty_cat/_gap_encoder.py:961(_rescale_W)\n",
            "  2344330    6.117    0.000    6.117    0.000 /usr/local/lib/python3.9/dist-packages/numpy/core/getlimits.py:647(__init__)\n",
            "570357/570275    6.082    0.000   76.575    0.000 /usr/local/lib/python3.9/dist-packages/scipy/sparse/_compressed.py:26(__init__)\n",
            "   328440    4.972    0.000    4.972    0.000 {built-in method scipy.sparse._sparsetools.coo_matvec}\n",
            "   110236    4.363    0.000    4.363    0.000 {method 'reduce' of 'numpy.ufunc' objects}\n",
            "   570357    4.117    0.000    9.217    0.000 /usr/local/lib/python3.9/dist-packages/scipy/sparse/_compressed.py:1168(prune)\n",
            "    32019    4.048    0.000    4.048    0.000 {built-in method numpy.zeros}\n",
            "   562016    3.485    0.000   74.319    0.000 /usr/local/lib/python3.9/dist-packages/scipy/sparse/_csr.py:236(__iter__)\n",
            "   585997    3.153    0.000    6.305    0.000 /usr/local/lib/python3.9/dist-packages/scipy/sparse/_sputils.py:295(check_shape)\n",
            "  1757831    3.049    0.000    3.049    0.000 {built-in method numpy.array}\n",
            "       82    2.831    0.035    2.831    0.035 {built-in method scipy.sparse._sparsetools.csc_tocsr}\n",
            "   585915    2.529    0.000    2.651    0.000 /usr/local/lib/python3.9/dist-packages/scipy/sparse/_sputils.py:238(isshape)\n",
            "  2282114    2.501    0.000    7.357    0.000 <__array_function__ internals>:177(can_cast)\n",
            "\n",
            "\n"
          ]
        }
      ],
      "source": [
        "!wget -nc https://www.dropbox.com/s/31dx1g6g59exoc3/part.88.parquet\n",
        "winlogs=pd.read_parquet('part.88.parquet')\n",
        "n=100000\n",
        "winlogs=winlogs.sample(n,replace=False)#.iloc[:,:8]\n",
        "winlogs=winlogs.dropna(how='any',axis=1)\n",
        "\n",
        "g = graphistry.nodes(winlogs)\n",
        "pr = cProfile.Profile()\n",
        "pr.enable()\n",
        "\n",
        "g10 = g.featurize(feature_engine='cu_cat',memoize=False)\n",
        "# g10a = g10.umap(engine='cuml')#,feature_engine='cu_cat',memoize=False)\n",
        "\n",
        "pr.disable()\n",
        "stats = Stats(pr)\n",
        "stats.sort_stats('tottime').print_stats(20)\n",
        "\n",
        "with open('winlogs_featurize+umap_cu_cat_'+str(n)+'.txt', 'w') as stream:\n",
        "    stats = Stats(pr,stream=stream)\n",
        "    stats.sort_stats('tottime').print_stats(20)\n",
        "\n",
        "g = graphistry.nodes(cudf.from_pandas(winlogs))\n",
        "pr = cProfile.Profile()\n",
        "pr.enable()\n",
        "\n",
        "g11 = g.featurize(feature_engine='cu_cat',memoize=False)\n",
        "# g11b = g11.umap(engine='cuml')#,feature_engine='cu_cat',memoize=False)\n",
        "\n",
        "pr.disable()\n",
        "stats = Stats(pr)\n",
        "stats.sort_stats('tottime').print_stats(20)\n",
        "\n",
        "with open('winlogs_featurize+umap_cudf-cu_cat_'+str(n)+'.txt', 'w') as stream:\n",
        "    stats = Stats(pr,stream=stream)\n",
        "    stats.sort_stats('tottime').print_stats(20)\n",
        "\n",
        "\n",
        "g = graphistry.nodes(winlogs)\n",
        "pr = cProfile.Profile()\n",
        "pr.enable()\n",
        "\n",
        "\n",
        "g12 = g.featurize(feature_engine='dirty_cat',memoize=False)\n",
        "# g12c = g12.umap(engine='cuml')#,feature_engine='cu_cat',memoize=False)\n",
        "\n",
        "pr.disable()\n",
        "stats = Stats(pr)\n",
        "stats.sort_stats('tottime').print_stats(20)\n",
        "\n",
        "with open('winlogs_featurize+umap_dirtycat_'+str(n)+'.txt', 'w') as stream:\n",
        "    stats = Stats(pr,stream=stream)\n",
        "    stats.sort_stats('tottime').print_stats(20)"
      ],
      "id": "216f66ba-18a5-4ac5-bb10-b7aefe086df0"
    },
    {
      "cell_type": "code",
      "execution_count": 9,
      "metadata": {
        "id": "21c2ce89-b39c-49ee-955e-932b40c2cf31",
        "colab": {
          "base_uri": "https://localhost:8080/"
        },
        "outputId": "9bb32556-068f-4533-d5d1-4da0249c14e0"
      },
      "outputs": [
        {
          "output_type": "stream",
          "name": "stdout",
          "text": [
            "(100000, 5)\n"
          ]
        }
      ],
      "source": [
        "print(winlogs.shape)\n"
      ],
      "id": "21c2ce89-b39c-49ee-955e-932b40c2cf31"
    },
    {
      "cell_type": "markdown",
      "metadata": {
        "id": "a1f6bcea-42c9-4f00-baf1-86e4c4349434"
      },
      "source": [
        "### ask HN"
      ],
      "id": "a1f6bcea-42c9-4f00-baf1-86e4c4349434"
    },
    {
      "cell_type": "code",
      "execution_count": 28,
      "metadata": {
        "id": "44bbd703-0c8c-48cc-be2c-f4bbe53879d4"
      },
      "outputs": [],
      "source": [
        "# # get the data top 3000 posts on Hacker News\n",
        "askHN = pd.read_csv('https://storage.googleapis.com/cohere-assets/blog/text-clustering/data/askhn3k_df.csv', index_col=0)\n",
        "\n",
        "# askHN = askHN.sample(1000,replace=False) \n",
        "# df = df[['text','title']]\n",
        "# df['title'] = df['title'].sample(frac=1).values"
      ],
      "id": "44bbd703-0c8c-48cc-be2c-f4bbe53879d4"
    },
    {
      "cell_type": "code",
      "execution_count": 29,
      "metadata": {
        "colab": {
          "base_uri": "https://localhost:8080/"
        },
        "id": "cab7e1db-329c-4be7-9760-471d0e9916a6",
        "outputId": "506de15d-1455-4ca5-9da3-bc4ca9110b87"
      },
      "outputs": [
        {
          "output_type": "stream",
          "name": "stderr",
          "text": [
            "WARNING:root:Target is not of type(DataFrame) and has no columns"
          ]
        },
        {
          "output_type": "stream",
          "name": "stdout",
          "text": [
            "Featurizing nodes with feature_engine=cu_cat\n",
            "Using GPU: cu_cat\n",
            "         11133374 function calls (11102447 primitive calls) in 84.341 seconds\n",
            "\n",
            "   Ordered by: internal time\n",
            "   List reduced from 1950 to 20 due to restriction <20>\n",
            "\n",
            "   ncalls  tottime  percall  cumtime  percall filename:lineno(function)\n",
            "       14   41.635    2.974   47.606    3.400 /usr/local/lib/python3.9/dist-packages/cu_cat/_gap_encoder.py:1126(_multiplicative_update_h_smallfast)\n",
            "      242    6.050    0.025   20.891    0.086 /usr/local/lib/python3.9/dist-packages/cu_cat/_gap_encoder.py:1042(_multiplicative_update_h)\n",
            "        6    6.027    1.004    6.027    1.004 /usr/local/lib/python3.9/dist-packages/numpy/lib/arraysetops.py:519(in1d)\n",
            "   101167    5.518    0.000    6.273    0.000 /usr/local/lib/python3.9/dist-packages/rmm/rmm.py:216(rmm_cupy_allocator)\n",
            "      412    2.483    0.006    2.763    0.007 /usr/local/lib/python3.9/dist-packages/cupyx/scipy/sparse/csr.py:148(__mul__)\n",
            "    15526    2.324    0.000    3.367    0.000 /usr/local/lib/python3.9/dist-packages/cupyx/scipy/sparse/_index.py:44(_get_csr_submatrix_major_axis)\n",
            "       14    2.085    0.149    4.406    0.315 /usr/local/lib/python3.9/dist-packages/cu_cat/_gap_encoder.py:181(_get_H)\n",
            "950999/950971    1.560    0.000    9.089    0.000 {built-in method numpy.core._multiarray_umath.implement_array_function}\n",
            "    94420    1.356    0.000    2.166    0.000 {built-in method cupy._core.core.array}\n",
            "    47012    1.249    0.000    3.028    0.000 {method 'copy' of 'cupy._core.core.ndarray' objects}\n",
            "    46250    1.233    0.000    1.369    0.000 {method 'get' of 'cupy._core.core.ndarray' objects}\n",
            "       10    1.011    0.101    1.377    0.138 /usr/local/lib/python3.9/dist-packages/cu_cat/_gap_encoder.py:994(_multiplicative_update_w_smallfast)\n",
            "    31522    0.445    0.000    0.906    0.000 /usr/local/lib/python3.9/dist-packages/cupyx/scipy/sparse/compressed.py:195(__init__)\n",
            "   159756    0.422    0.000    0.422    0.000 {method 'reduce' of 'numpy.ufunc' objects}\n",
            "       42    0.385    0.009    0.404    0.010 /usr/local/lib/python3.9/dist-packages/cudf/core/column/column.py:1040(unique)\n",
            "   637996    0.376    0.000    1.424    0.000 <__array_function__ internals>:177(dot)\n",
            "    47518    0.340    0.000    0.340    0.000 {built-in method numpy.array}\n",
            "   159505    0.320    0.000    1.193    0.000 /usr/local/lib/python3.9/dist-packages/numpy/core/fromnumeric.py:69(_wrapreduction)\n",
            "    15405    0.308    0.000    7.887    0.001 /usr/local/lib/python3.9/dist-packages/cupyx/scipy/sparse/csr.py:548(_get_intXslice)\n",
            "        2    0.264    0.132    0.264    0.132 {method 'gamma' of 'numpy.random.mtrand.RandomState' objects}\n",
            "\n",
            "\n"
          ]
        }
      ],
      "source": [
        "g = graphistry.nodes(cudf.from_pandas(askHN))\n",
        "pr = cProfile.Profile()\n",
        "pr.enable()\n",
        "\n",
        "g2 = g.featurize(X=['title', 'text'], # the features to encode (can add/remove 'text', etc)\n",
        "                y=['score'], # for demonstrative purposes, we include a target -- though this one is not really conditioned on textual features in a straightforward way\n",
        "                model_name='msmarco-distilbert-base-v2', #'paraphrase-MiniLM-L6-v2', etc, from sbert/Huggingface, the text encoding model\n",
        "                min_words = 0, # when 0 forces all X=[..] as textually encoded, higher values would ascertain if a column is textual or not depending on average number of words per column\n",
        "                use_ngrams=False, # set to True if you want ngram features instead (does not make great plots but useful for other situations)\n",
        "                # use_scaler_target='zscale', # for regressive targets\n",
        "                # use_scaler=None, # there are many more settings see `g.featurize?` and `g.umap?` for further options\n",
        "                feature_engine='cu_cat',\n",
        "                 memoize=False,    \n",
        "               )# g1a = g1.umap(engine='cuml')#,feature_engine='cu_cat',memoize=False)\n",
        "\n",
        "pr.disable()\n",
        "stats = Stats(pr)\n",
        "stats.sort_stats('tottime').print_stats(20)\n",
        "\n",
        "with open('aHN_umap_cudf_cat.txt', 'w') as stream:\n",
        "    stats = Stats(pr,stream=stream)\n",
        "    stats.sort_stats('tottime').print_stats(20)"
      ],
      "id": "cab7e1db-329c-4be7-9760-471d0e9916a6"
    },
    {
      "cell_type": "code",
      "execution_count": 30,
      "metadata": {
        "colab": {
          "base_uri": "https://localhost:8080/"
        },
        "id": "353f72e4-2119-4546-9dcb-45647881ab2d",
        "outputId": "5c9d3645-6059-4ae4-fdb6-d8db0f8fe892"
      },
      "outputs": [
        {
          "output_type": "stream",
          "name": "stderr",
          "text": [
            "WARNING:root:Target is not of type(DataFrame) and has no columns"
          ]
        },
        {
          "output_type": "stream",
          "name": "stdout",
          "text": [
            "Featurizing nodes with feature_engine=cu_cat\n",
            "Using GPU: cu_cat\n",
            "         11122341 function calls (11091393 primitive calls) in 85.601 seconds\n",
            "\n",
            "   Ordered by: internal time\n",
            "   List reduced from 2027 to 20 due to restriction <20>\n",
            "\n",
            "   ncalls  tottime  percall  cumtime  percall filename:lineno(function)\n",
            "       14   41.650    2.975   47.820    3.416 /usr/local/lib/python3.9/dist-packages/cu_cat/_gap_encoder.py:1126(_multiplicative_update_h_smallfast)\n",
            "      242    6.654    0.027   22.132    0.091 /usr/local/lib/python3.9/dist-packages/cu_cat/_gap_encoder.py:1042(_multiplicative_update_h)\n",
            "        6    6.509    1.085    6.509    1.085 /usr/local/lib/python3.9/dist-packages/numpy/lib/arraysetops.py:519(in1d)\n",
            "   101149    5.611    0.000    6.329    0.000 /usr/local/lib/python3.9/dist-packages/rmm/rmm.py:216(rmm_cupy_allocator)\n",
            "      411    2.508    0.006    2.789    0.007 /usr/local/lib/python3.9/dist-packages/cupyx/scipy/sparse/csr.py:148(__mul__)\n",
            "    15526    2.274    0.000    3.284    0.000 /usr/local/lib/python3.9/dist-packages/cupyx/scipy/sparse/_index.py:44(_get_csr_submatrix_major_axis)\n",
            "       14    1.852    0.132    3.915    0.280 /usr/local/lib/python3.9/dist-packages/cu_cat/_gap_encoder.py:181(_get_H)\n",
            "949732/949703    1.772    0.000   10.014    0.000 {built-in method numpy.core._multiarray_umath.implement_array_function}\n",
            "    47011    1.221    0.000    2.972    0.000 {method 'copy' of 'cupy._core.core.ndarray' objects}\n",
            "    46250    1.205    0.000    1.339    0.000 {method 'get' of 'cupy._core.core.ndarray' objects}\n",
            "    94419    1.196    0.000    1.927    0.000 {built-in method cupy._core.core.array}\n",
            "       10    1.015    0.102    1.393    0.139 /usr/local/lib/python3.9/dist-packages/cu_cat/_gap_encoder.py:994(_multiplicative_update_w_smallfast)\n",
            "   159522    0.482    0.000    0.482    0.000 {method 'reduce' of 'numpy.ufunc' objects}\n",
            "    31521    0.437    0.000    0.890    0.000 /usr/local/lib/python3.9/dist-packages/cupyx/scipy/sparse/compressed.py:195(__init__)\n",
            "   637012    0.434    0.000    1.659    0.000 <__array_function__ internals>:177(dot)\n",
            "        2    0.385    0.193    0.385    0.193 {method 'gamma' of 'numpy.random.mtrand.RandomState' objects}\n",
            "       42    0.380    0.009    0.396    0.009 /usr/local/lib/python3.9/dist-packages/cudf/core/column/column.py:1040(unique)\n",
            "   159259    0.379    0.000    1.395    0.000 /usr/local/lib/python3.9/dist-packages/numpy/core/fromnumeric.py:69(_wrapreduction)\n",
            "    15405    0.310    0.000    7.737    0.001 /usr/local/lib/python3.9/dist-packages/cupyx/scipy/sparse/csr.py:548(_get_intXslice)\n",
            "   159253    0.296    0.000    0.852    0.000 {method 'any' of 'numpy.generic' objects}\n",
            "\n",
            "\n"
          ]
        }
      ],
      "source": [
        "g = graphistry.nodes(askHN)\n",
        "pr = cProfile.Profile()\n",
        "pr.enable()\n",
        "\n",
        "g2 = g.featurize(X=['title', 'text'], # the features to encode (can add/remove 'text', etc)\n",
        "                y=['score'], # for demonstrative purposes, we include a target -- though this one is not really conditioned on textual features in a straightforward way\n",
        "                model_name='msmarco-distilbert-base-v2', #'paraphrase-MiniLM-L6-v2', etc, from sbert/Huggingface, the text encoding model\n",
        "                min_words = 0, # when 0 forces all X=[..] as textually encoded, higher values would ascertain if a column is textual or not depending on average number of words per column\n",
        "                use_ngrams=False, # set to True if you want ngram features instead (does not make great plots but useful for other situations)\n",
        "                # use_scaler_target='zscale', # for regressive targets\n",
        "                # use_scaler=None, # there are many more settings see `g.featurize?` and `g.umap?` for further options\n",
        "                feature_engine='cu_cat',\n",
        "                 memoize=False,    \n",
        "               )# g2a = g2.umap(engine='cuml')#,feature_engine='cu_cat',memoize=False)\n",
        "\n",
        "pr.disable()\n",
        "stats = Stats(pr)\n",
        "stats.sort_stats('tottime').print_stats(20)\n",
        "\n",
        "with open('aHN_umap_cu_cat.txt', 'w') as stream:\n",
        "    stats = Stats(pr,stream=stream)\n",
        "    stats.sort_stats('tottime').print_stats(20)"
      ],
      "id": "353f72e4-2119-4546-9dcb-45647881ab2d"
    },
    {
      "cell_type": "code",
      "execution_count": 31,
      "metadata": {
        "colab": {
          "base_uri": "https://localhost:8080/"
        },
        "id": "505ed578-f056-4d53-9feb-514f07aa0ca3",
        "outputId": "af09b82e-7250-4a1f-c389-95b654ebc99b"
      },
      "outputs": [
        {
          "output_type": "stream",
          "name": "stdout",
          "text": [
            "Featurizing nodes with feature_engine=dirty_cat\n",
            "Using GPU: dirty_cat\n",
            "         30404485 function calls (30379291 primitive calls) in 117.927 seconds\n",
            "\n",
            "   Ordered by: internal time\n",
            "   List reduced from 1561 to 20 due to restriction <20>\n",
            "\n",
            "   ncalls  tottime  percall  cumtime  percall filename:lineno(function)\n",
            "3656983/3656502   36.575    0.000   44.639    0.000 {built-in method numpy.core._multiarray_umath.implement_array_function}\n",
            "      585   28.521    0.049   67.024    0.115 /usr/local/lib/python3.9/dist-packages/dirty_cat/_gap_encoder.py:1003(_multiplicative_update_h)\n",
            "      240   11.019    0.046   28.277    0.118 /usr/local/lib/python3.9/dist-packages/dirty_cat/_gap_encoder.py:971(_multiplicative_update_w)\n",
            "        6    7.101    1.183    7.101    1.184 /usr/local/lib/python3.9/dist-packages/numpy/lib/arraysetops.py:519(in1d)\n",
            "       14    3.972    0.284   10.082    0.720 /usr/local/lib/python3.9/dist-packages/sklearn/feature_extraction/text.py:1258(_count_vocab)\n",
            "    10080    3.421    0.000    3.421    0.000 {built-in method scipy.sparse._sparsetools.coo_matvec}\n",
            "    68355    3.014    0.000    4.149    0.000 /usr/local/lib/python3.9/dist-packages/sklearn/feature_extraction/text.py:275(_char_ngrams)\n",
            "  3356268    2.668    0.000   39.282    0.000 <__array_function__ internals>:177(dot)\n",
            "       82    2.021    0.025    2.021    0.025 {built-in method scipy.sparse._sparsetools.csc_tocsr}\n",
            "   148636    1.677    0.000    3.635    0.000 /usr/local/lib/python3.9/dist-packages/scipy/sparse/_sputils.py:147(get_index_dtype)\n",
            "    73756    1.550    0.000    4.289    0.000 /usr/local/lib/python3.9/dist-packages/scipy/sparse/_compressed.py:136(check_format)\n",
            "      240    1.097    0.005    1.593    0.007 /usr/local/lib/python3.9/dist-packages/dirty_cat/_gap_encoder.py:961(_rescale_W)\n",
            " 12473437    1.027    0.000    1.027    0.000 {method 'append' of 'list' objects}\n",
            "     1607    0.812    0.001    0.812    0.001 {built-in method numpy.zeros}\n",
            "      240    0.761    0.003    1.033    0.004 /usr/local/lib/python3.9/dist-packages/scipy/sparse/_compressed.py:365(multiply)\n",
            "   222544    0.758    0.000    0.758    0.000 {built-in method numpy.array}\n",
            "73756/73674    0.754    0.000   11.255    0.000 /usr/local/lib/python3.9/dist-packages/scipy/sparse/_compressed.py:26(__init__)\n",
            "   297286    0.746    0.000    0.746    0.000 /usr/local/lib/python3.9/dist-packages/numpy/core/getlimits.py:647(__init__)\n",
            "     4115    0.716    0.000    0.716    0.000 {method 'reduce' of 'numpy.ufunc' objects}\n",
            "  3356268    0.600    0.000    0.600    0.000 /usr/local/lib/python3.9/dist-packages/numpy/core/multiarray.py:736(dot)\n",
            "\n",
            "\n"
          ]
        }
      ],
      "source": [
        "g = graphistry.nodes(askHN)\n",
        "pr = cProfile.Profile()\n",
        "pr.enable()\n",
        "\n",
        "\n",
        "g2 = g.featurize(X=['title', 'text'], # the features to encode (can add/remove 'text', etc)\n",
        "                y=['score'], # for demonstrative purposes, we include a target -- though this one is not really conditioned on textual features in a straightforward way\n",
        "                model_name='msmarco-distilbert-base-v2', #'paraphrase-MiniLM-L6-v2', etc, from sbert/Huggingface, the text encoding model\n",
        "                min_words = 0, # when 0 forces all X=[..] as textually encoded, higher values would ascertain if a column is textual or not depending on average number of words per column\n",
        "                use_ngrams=False, # set to True if you want ngram features instead (does not make great plots but useful for other situations)\n",
        "                # use_scaler_target='zscale', # for regressive targets\n",
        "                # use_scaler=None, # there are many more settings see `g.featurize?` and `g.umap?` for further options\n",
        "                feature_engine='dirty_cat',\n",
        "                 memoize=False,    \n",
        "               )# g3a = g3.umap(engine='cuml')#,feature_engine='cu_cat',memoize=False)\n",
        "\n",
        "pr.disable()\n",
        "stats = Stats(pr)\n",
        "stats.sort_stats('tottime').print_stats(20)\n",
        "\n",
        "with open('aHN_umap_dirtycat_3k.txt', 'w') as stream:\n",
        "    stats = Stats(pr,stream=stream)\n",
        "    stats.sort_stats('tottime').print_stats(20)"
      ],
      "id": "505ed578-f056-4d53-9feb-514f07aa0ca3"
    },
    {
      "cell_type": "code",
      "execution_count": null,
      "metadata": {
        "id": "hX157ptIIaXK"
      },
      "outputs": [],
      "source": [],
      "id": "hX157ptIIaXK"
    },
    {
      "cell_type": "code",
      "source": [
        "from google.colab import drive\n",
        "drive.mount('/content/drive')"
      ],
      "metadata": {
        "colab": {
          "base_uri": "https://localhost:8080/"
        },
        "id": "0Z2UgS6rrxrg",
        "outputId": "f1c3ef7c-457f-4d36-c2eb-3092c02c3ead"
      },
      "id": "0Z2UgS6rrxrg",
      "execution_count": 32,
      "outputs": [
        {
          "output_type": "stream",
          "name": "stdout",
          "text": [
            "Mounted at /content/drive\n"
          ]
        }
      ]
    },
    {
      "cell_type": "code",
      "source": [
        "!cp *.txt /content/drive/MyDrive/graphistry"
      ],
      "metadata": {
        "id": "yXn_gejArvIx"
      },
      "id": "yXn_gejArvIx",
      "execution_count": 33,
      "outputs": []
    },
    {
      "cell_type": "code",
      "source": [],
      "metadata": {
        "id": "ur_EggmC1Bcw"
      },
      "id": "ur_EggmC1Bcw",
      "execution_count": null,
      "outputs": []
    }
  ],
  "metadata": {
    "accelerator": "GPU",
    "colab": {
      "provenance": [],
      "include_colab_link": true
    },
    "gpuClass": "standard",
    "kernelspec": {
      "display_name": "Python 3 (ipykernel)",
      "language": "python",
      "name": "python3"
    },
    "language_info": {
      "codemirror_mode": {
        "name": "ipython",
        "version": 3
      },
      "file_extension": ".py",
      "mimetype": "text/x-python",
      "name": "python",
      "nbconvert_exporter": "python",
      "pygments_lexer": "ipython3",
      "version": "3.8.13"
    }
  },
  "nbformat": 4,
  "nbformat_minor": 5
}