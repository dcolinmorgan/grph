{
  "cells": [
    {
      "cell_type": "markdown",
      "metadata": {
        "id": "view-in-github",
        "colab_type": "text"
      },
      "source": [
        "<a href=\"https://colab.research.google.com/github/dcolinmorgan/grph/blob/main/cu_cat_final_bench.ipynb\" target=\"_parent\"><img src=\"https://colab.research.google.com/assets/colab-badge.svg\" alt=\"Open In Colab\"/></a>"
      ]
    },
    {
      "cell_type": "code",
      "execution_count": 1,
      "metadata": {
        "id": "3398dccc-fc11-4fcd-a6b8-7e3baf0c108d"
      },
      "outputs": [],
      "source": [
        "import locale\n",
        "def getpreferredencoding(do_setlocale = True):\n",
        "    return \"UTF-8\"\n",
        "locale.getpreferredencoding = getpreferredencoding"
      ],
      "id": "3398dccc-fc11-4fcd-a6b8-7e3baf0c108d"
    },
    {
      "cell_type": "code",
      "execution_count": null,
      "metadata": {
        "id": "515b40ff-6af7-4160-a0d0-4b6dddb88485"
      },
      "outputs": [],
      "source": [
        "!pip install --extra-index-url=https://pypi.nvidia.com cuml-cu11==22.10.0 cudf-cu11==22.10.0 cugraph-cu11==22.10.0 pylibraft_cu11==22.10.0 raft_dask_cu11==22.10.0 dask_cudf_cu11==22.10.0 pylibcugraph_cu11==22.10.0 pylibraft_cu11==22.10.0\n",
        "!pip install -U git+https://github.com/graphistry/pygraphistry.git@cudf-cat-final\n",
        "!pip install -U git+https://github.com/graphistry/cu-cat.git@cu_cat_regpt"
      ],
      "id": "515b40ff-6af7-4160-a0d0-4b6dddb88485"
    },
    {
      "cell_type": "code",
      "source": [
        "# !pip install dirty_cat"
      ],
      "metadata": {
        "id": "520IfahaBiJ1"
      },
      "id": "520IfahaBiJ1",
      "execution_count": 4,
      "outputs": []
    },
    {
      "cell_type": "code",
      "execution_count": 6,
      "metadata": {
        "colab": {
          "base_uri": "https://localhost:8080/",
          "height": 35
        },
        "id": "f61ad51b-f4fa-4706-a91b-b72a92ecf39c",
        "outputId": "368d5e9f-5ea4-42fa-afa4-7f14362d863b"
      },
      "outputs": [
        {
          "output_type": "execute_result",
          "data": {
            "text/plain": [
              "'22.10.00a+119.gb30ef85c1'"
            ],
            "application/vnd.google.colaboratory.intrinsic+json": {
              "type": "string"
            }
          },
          "metadata": {},
          "execution_count": 6
        }
      ],
      "source": [
        "import cuml,cudf\n",
        "cuml.__version__"
      ],
      "id": "f61ad51b-f4fa-4706-a91b-b72a92ecf39c"
    },
    {
      "cell_type": "code",
      "execution_count": 7,
      "metadata": {
        "id": "acaa3721-5277-40f5-bddc-652d82d021d3"
      },
      "outputs": [],
      "source": [
        "!echo \"0.01.0\" > VERSION.txt\n",
        "# !cp VERSION.txt /root/.local/lib/python3.9/site-packages/cu_cat/\n",
        "!cp VERSION.txt /usr/local/lib/python3.9/dist-packages/cu_cat/"
      ],
      "id": "acaa3721-5277-40f5-bddc-652d82d021d3"
    },
    {
      "cell_type": "code",
      "execution_count": 8,
      "metadata": {
        "colab": {
          "base_uri": "https://localhost:8080/"
        },
        "id": "65e8dccf-5b22-469b-b1db-1dcccaea2517",
        "outputId": "edfdb4fd-2b23-4924-feeb-c56ca0d025c4"
      },
      "outputs": [
        {
          "output_type": "stream",
          "name": "stdout",
          "text": [
            "/usr/local/lib/python3.9/dist-packages/cu_cat/__init__.py\n"
          ]
        }
      ],
      "source": [
        "# from importlib import reload\n",
        "# reload(cu_cat)\n",
        "import cu_cat\n",
        "print(cu_cat.__file__)"
      ],
      "id": "65e8dccf-5b22-469b-b1db-1dcccaea2517"
    },
    {
      "cell_type": "code",
      "execution_count": 9,
      "metadata": {
        "id": "a32fccec-327d-4328-9672-86baf42e11ca"
      },
      "outputs": [],
      "source": [
        "import os\n",
        "from collections import Counter\n",
        "import cProfile\n",
        "import pandas as pd\n",
        "import numpy as np\n",
        "import matplotlib.pyplot as plt\n",
        "from pstats import Stats\n",
        "import warnings\n",
        "warnings.filterwarnings('ignore')\n",
        "pd.set_option('display.max_colwidth', 200)\n"
      ],
      "id": "a32fccec-327d-4328-9672-86baf42e11ca"
    },
    {
      "cell_type": "code",
      "execution_count": 11,
      "metadata": {
        "colab": {
          "base_uri": "https://localhost:8080/",
          "height": 35
        },
        "id": "fb4ef11c-5e1d-4f36-a8a0-ae58fc0f0317",
        "outputId": "39443ba5-aae9-4211-d9d7-4d6989520da3"
      },
      "outputs": [
        {
          "output_type": "execute_result",
          "data": {
            "text/plain": [
              "'0.28.7+393.g2e9820c'"
            ],
            "application/vnd.google.colaboratory.intrinsic+json": {
              "type": "string"
            }
          },
          "metadata": {},
          "execution_count": 11
        }
      ],
      "source": [
        "import graphistry\n",
        "graphistry.register(api=3,protocol=\"https\", server=\"hub.graphistry.com\", username='dcolinmorgan', password='***') ## key id, secret key\n",
        "graphistry.__version__\n"
      ],
      "id": "fb4ef11c-5e1d-4f36-a8a0-ae58fc0f0317"
    },
    {
      "cell_type": "code",
      "execution_count": null,
      "metadata": {
        "id": "xOXv_NNaCe_t"
      },
      "outputs": [],
      "source": [
        "# import logging\n",
        "# logging.basicConfig(level=logging.DEBUG)"
      ],
      "id": "xOXv_NNaCe_t"
    },
    {
      "cell_type": "code",
      "execution_count": null,
      "metadata": {
        "id": "UqHh0H_68r8y"
      },
      "outputs": [],
      "source": [],
      "id": "UqHh0H_68r8y"
    },
    {
      "cell_type": "markdown",
      "metadata": {
        "id": "b9fa2d4e-53e8-4eb5-bdbf-c5c1908159ad"
      },
      "source": [
        "### redteam"
      ],
      "id": "b9fa2d4e-53e8-4eb5-bdbf-c5c1908159ad"
    },
    {
      "cell_type": "code",
      "execution_count": 9,
      "metadata": {
        "colab": {
          "base_uri": "https://localhost:8080/"
        },
        "id": "3fe52faa-c35c-492e-98c1-7cfc46888a5f",
        "outputId": "d0689d12-512f-4341-cc1b-7aa38693e171"
      },
      "outputs": [
        {
          "output_type": "execute_result",
          "data": {
            "text/plain": [
              "749.0"
            ]
          },
          "metadata": {},
          "execution_count": 9
        }
      ],
      "source": [
        "df = pd.read_csv('https://gist.githubusercontent.com/silkspace/c7b50d0c03dc59f63c48d68d696958ff/raw/31d918267f86f8252d42d2e9597ba6fc03fcdac2/redteam_50k.csv', index_col=0)\n",
        "red_team = pd.read_csv('https://gist.githubusercontent.com/silkspace/5cf5a94b9ac4b4ffe38904f20d93edb1/raw/888dabd86f88ea747cf9ff5f6c44725e21536465/redteam_labels.csv', index_col=0)\n",
        "df['feats'] = df.src_computer + ' ' + df.dst_computer + ' ' + df.auth_type + ' ' + df.logontype\n",
        "df['feats2'] = df.src_computer + ' ' + df.dst_computer\n",
        "ndf = df.drop_duplicates(subset=['feats'])\n",
        "tdf = pd.concat([red_team.reset_index(), ndf.reset_index()])\n",
        "tdf['node'] = range(len(tdf))"
      ],
      "id": "3fe52faa-c35c-492e-98c1-7cfc46888a5f"
    },
    {
      "cell_type": "code",
      "execution_count": null,
      "metadata": {
        "id": "df94cfc1-ef21-4ff8-b81f-8f5b08968129"
      },
      "outputs": [],
      "source": [
        "%%time\n",
        "# process = True  # set to false after it's run for ease of speed\n",
        "pr = cProfile.Profile()\n",
        "pr.enable()\n",
        "\n",
        "g = graphistry.nodes(cudf.from_pandas(tdf), 'node')\n",
        "\n",
        "g5b = g.umap(X=['feats'], \n",
        "            min_words=1000000, # force high so that we don't use Sentence Transformers\n",
        "            cardinality_threshold=4, # set low so we force topic model\n",
        "            n_topics=32, # number of topics\n",
        "            use_scaler=None,\n",
        "            feature_engine='cu_cat',\n",
        "            memoize=False,\n",
        "            #  remove_node_column=False,\n",
        "            # engine='cuml',\n",
        "            use_scaler_target=None\n",
        "           )\n",
        "\n",
        "pr.disable()\n",
        "stats = Stats(pr)\n",
        "stats.sort_stats('tottime').print_stats(20)\n",
        "\n",
        "with open('redteam_umap_cudf_cu_cat.txt', 'w') as stream:\n",
        "    stats = Stats(pr,stream=stream)\n",
        "    stats.sort_stats('tottime').print_stats(20)"
      ],
      "id": "df94cfc1-ef21-4ff8-b81f-8f5b08968129"
    },
    {
      "cell_type": "code",
      "execution_count": 11,
      "metadata": {
        "colab": {
          "base_uri": "https://localhost:8080/"
        },
        "id": "28017a3b-6a39-4c33-8d6d-78cecb73ecf2",
        "outputId": "16cecb5d-c5e5-4983-c871-682302dd663f"
      },
      "outputs": [
        {
          "output_type": "stream",
          "name": "stderr",
          "text": [
            "WARNING:root:Target is not of type(DataFrame) and has no columns"
          ]
        },
        {
          "output_type": "stream",
          "name": "stdout",
          "text": [
            "Using GPU: cu_cat\n"
          ]
        },
        {
          "output_type": "stream",
          "name": "stderr",
          "text": [
            "WARNING:graphistry.umap_utils:* Ignoring target column of shape (19762, 0) in UMAP fit, as it is not one dimensional"
          ]
        },
        {
          "output_type": "stream",
          "name": "stdout",
          "text": [
            "         1624287 function calls (1608282 primitive calls) in 41.368 seconds\n",
            "\n",
            "   Ordered by: internal time\n",
            "   List reduced from 2359 to 20 due to restriction <20>\n",
            "\n",
            "   ncalls  tottime  percall  cumtime  percall filename:lineno(function)\n",
            "        8   20.256    2.532   24.775    3.097 /usr/local/lib/python3.9/dist-packages/cu_cat/_gap_encoder.py:1126(_multiplicative_update_h_smallfast)\n",
            "        3   12.664    4.221   12.664    4.221 /usr/local/lib/python3.9/dist-packages/numpy/lib/arraysetops.py:519(in1d)\n",
            "     4236    4.104    0.001    4.156    0.001 /usr/local/lib/python3.9/dist-packages/rmm/rmm.py:216(rmm_cupy_allocator)\n",
            "        7    1.132    0.162    1.388    0.198 /usr/local/lib/python3.9/dist-packages/cu_cat/_gap_encoder.py:181(_get_H)\n",
            "      213    0.458    0.002    0.711    0.003 /usr/local/lib/python3.9/dist-packages/cupyx/scipy/sparse/csr.py:148(__mul__)\n",
            "      478    0.411    0.001    0.448    0.001 {method 'update' of 'dict' objects}\n",
            "        5    0.309    0.062    0.667    0.133 /usr/local/lib/python3.9/dist-packages/cu_cat/_gap_encoder.py:994(_multiplicative_update_w_smallfast)\n",
            "    91584    0.122    0.000    0.130    0.000 {built-in method cupy._core.core.array}\n",
            "        1    0.092    0.092    0.121    0.121 /usr/local/lib/python3.9/dist-packages/cuml/internals/api_decorators.py:397(inner_with_setters)\n",
            "       21    0.077    0.004    0.084    0.004 /usr/local/lib/python3.9/dist-packages/cudf/core/column/column.py:1040(unique)\n",
            "     5754    0.070    0.000    0.098    0.000 /usr/lib/python3.9/typing.py:1065(_get_protocol_attrs)\n",
            "   174585    0.066    0.000    0.094    0.000 /usr/local/lib/python3.9/dist-packages/numpy/core/numeric.py:1859(isscalar)\n",
            "29825/29756    0.058    0.000   12.789    0.000 {built-in method numpy.core._multiarray_umath.implement_array_function}\n",
            "       84    0.049    0.001    0.140    0.002 /usr/local/lib/python3.9/dist-packages/cudf/core/indexed_frame.py:1508(_gather)\n",
            "266923/266586    0.048    0.000    0.124    0.000 {built-in method builtins.isinstance}\n",
            "   112879    0.045    0.000    0.045    0.000 {method 'as_py' of 'pyarrow.lib.StringScalar' objects}\n",
            "        1    0.045    0.045   14.539   14.539 /usr/local/lib/python3.9/dist-packages/cu_cat/_gap_encoder.py:274(fit)\n",
            "       67    0.042    0.001    0.042    0.001 {method 'argsort' of 'numpy.ndarray' objects}\n",
            "       45    0.042    0.001    0.051    0.001 /usr/local/lib/python3.9/dist-packages/cudf/core/frame.py:1540(_get_sorted_inds)\n",
            "      662    0.035    0.000    0.082    0.000 /usr/local/lib/python3.9/dist-packages/cupyx/scipy/sparse/compressed.py:649(__get_has_canonical_format)\n",
            "\n",
            "\n",
            "CPU times: user 34.6 s, sys: 5.57 s, total: 40.2 s\n",
            "Wall time: 41.5 s\n"
          ]
        }
      ],
      "source": [
        "%%time\n",
        "# process = True  # set to false after it's run for ease of speed\n",
        "pr = cProfile.Profile()\n",
        "pr.enable()\n",
        "\n",
        "g = graphistry.nodes(tdf, 'node')\n",
        "\n",
        "g5a = g.umap(X=['feats'], \n",
        "            min_words=1000000, # force high so that we don't use Sentence Transformers\n",
        "            cardinality_threshold=4, # set low so we force topic model\n",
        "            n_topics=32, # number of topics\n",
        "            use_scaler=None,\n",
        "            feature_engine='cu_cat',\n",
        "            memoize=False,\n",
        "             remove_node_column=False,\n",
        "            # engine='cuml',\n",
        "            use_scaler_target=None\n",
        "           )\n",
        "\n",
        "pr.disable()\n",
        "stats = Stats(pr)\n",
        "stats.sort_stats('tottime').print_stats(20)\n",
        "\n",
        "with open('redteam_umap_cu_cat.txt', 'w') as stream:\n",
        "    stats = Stats(pr,stream=stream)\n",
        "    stats.sort_stats('tottime').print_stats(20)"
      ],
      "id": "28017a3b-6a39-4c33-8d6d-78cecb73ecf2"
    },
    {
      "cell_type": "code",
      "source": [
        "!pip install dirty_cat"
      ],
      "metadata": {
        "id": "NTs-Sq1ZoeNL"
      },
      "id": "NTs-Sq1ZoeNL",
      "execution_count": null,
      "outputs": []
    },
    {
      "cell_type": "code",
      "execution_count": 15,
      "metadata": {
        "colab": {
          "base_uri": "https://localhost:8080/"
        },
        "id": "343d14cc-e1e4-4f6c-aa0d-ff4e6f0dcefa",
        "outputId": "e0716c86-5ca9-4cd9-ccf1-2b6f13481835"
      },
      "outputs": [
        {
          "output_type": "stream",
          "name": "stdout",
          "text": [
            "Using GPU: dirty_cat\n"
          ]
        },
        {
          "output_type": "stream",
          "name": "stderr",
          "text": [
            "WARNING:graphistry.umap_utils:* Ignoring target column of shape (19762, 0) in UMAP fit, as it is not one dimensional"
          ]
        },
        {
          "output_type": "stream",
          "name": "stdout",
          "text": [
            "         28960368 function calls (28800717 primitive calls) in 110.439 seconds\n",
            "\n",
            "   Ordered by: internal time\n",
            "   List reduced from 2562 to 20 due to restriction <20>\n",
            "\n",
            "   ncalls  tottime  percall  cumtime  percall filename:lineno(function)\n",
            "2916339/2916096   22.138    0.000   39.057    0.000 {built-in method numpy.core._multiarray_umath.implement_array_function}\n",
            "     1054   17.698    0.017   48.474    0.046 /usr/local/lib/python3.9/dist-packages/dirty_cat/_gap_encoder.py:1003(_multiplicative_update_h)\n",
            "        3   16.647    5.549   16.647    5.549 /usr/local/lib/python3.9/dist-packages/numpy/lib/arraysetops.py:519(in1d)\n",
            "    39524    8.337    0.000   10.021    0.000 /usr/local/lib/python3.9/dist-packages/pandas/core/missing.py:61(mask_missing)\n",
            "      775    4.697    0.006   14.330    0.018 /usr/local/lib/python3.9/dist-packages/dirty_cat/_gap_encoder.py:971(_multiplicative_update_w)\n",
            "   272946    3.786    0.000    8.226    0.000 /usr/local/lib/python3.9/dist-packages/scipy/sparse/_sputils.py:147(get_index_dtype)\n",
            "   134889    3.485    0.000    9.775    0.000 /usr/local/lib/python3.9/dist-packages/scipy/sparse/_compressed.py:136(check_format)\n",
            "    39616    3.295    0.000    3.295    0.000 {method 'copy' of 'numpy.ndarray' objects}\n",
            "  2327729    2.641    0.000   16.721    0.000 <__array_function__ internals>:177(dot)\n",
            "    90365    2.349    0.000    2.349    0.000 {method 'reduce' of 'numpy.ufunc' objects}\n",
            "   664472    1.897    0.000    1.897    0.000 /usr/local/lib/python3.9/dist-packages/numpy/core/getlimits.py:647(__init__)\n",
            "134889/134858    1.627    0.000   20.358    0.000 /usr/local/lib/python3.9/dist-packages/scipy/sparse/_compressed.py:26(__init__)\n",
            "   134889    1.172    0.000    2.455    0.000 /usr/local/lib/python3.9/dist-packages/scipy/sparse/_compressed.py:1168(prune)\n",
            "   488375    0.971    0.000    0.971    0.000 {built-in method numpy.array}\n",
            "   133914    0.933    0.000   20.601    0.000 /usr/local/lib/python3.9/dist-packages/scipy/sparse/_csr.py:236(__iter__)\n",
            "   136442    0.816    0.000    1.643    0.000 /usr/local/lib/python3.9/dist-packages/scipy/sparse/_sputils.py:295(check_shape)\n",
            "        7    0.764    0.109    2.362    0.337 /usr/local/lib/python3.9/dist-packages/sklearn/feature_extraction/text.py:1258(_count_vocab)\n",
            "    24800    0.756    0.000    0.756    0.000 {built-in method scipy.sparse._sparsetools.coo_matvec}\n",
            "   136411    0.745    0.000    0.763    0.000 /usr/local/lib/python3.9/dist-packages/scipy/sparse/_sputils.py:238(isshape)\n",
            "2166975/2008762    0.705    0.000    1.274    0.000 {built-in method builtins.isinstance}\n",
            "\n",
            "\n",
            "CPU times: user 1min 33s, sys: 33.8 s, total: 2min 7s\n",
            "Wall time: 1min 50s\n"
          ]
        }
      ],
      "source": [
        "%%time\n",
        "# process = True  # set to false after it's run for ease of speed\n",
        "pr = cProfile.Profile()\n",
        "pr.enable()\n",
        "\n",
        "g = graphistry.nodes((tdf), 'node')\n",
        "\n",
        "g5c = g.umap(X=['feats'], \n",
        "            min_words=1000000, # force high so that we don't use Sentence Transformers\n",
        "            cardinality_threshold=4, # set low so we force topic model\n",
        "            n_topics=32, # number of topics\n",
        "            use_scaler=None,\n",
        "            feature_engine='dirty_cat',\n",
        "            memoize=False,\n",
        "            #  remove_node_column=False,\n",
        "            # engine='cuml',\n",
        "            use_scaler_target=None\n",
        "           )\n",
        "\n",
        "pr.disable()\n",
        "stats = Stats(pr)\n",
        "stats.sort_stats('tottime').print_stats(20)\n",
        "\n",
        "with open('redteam_umap_dirty_cat.txt', 'w') as stream:\n",
        "    stats = Stats(pr,stream=stream)\n",
        "    stats.sort_stats('tottime').print_stats(20)"
      ],
      "id": "343d14cc-e1e4-4f6c-aa0d-ff4e6f0dcefa"
    },
    {
      "cell_type": "markdown",
      "metadata": {
        "id": "3eb4ae8b-2a14-43fe-ac7f-1714e38272aa"
      },
      "source": [
        "### CTU-13 malware dataset"
      ],
      "id": "3eb4ae8b-2a14-43fe-ac7f-1714e38272aa"
    },
    {
      "cell_type": "code",
      "execution_count": 12,
      "metadata": {
        "colab": {
          "base_uri": "https://localhost:8080/"
        },
        "id": "3b2f1b00-6984-44c2-9148-6f38282bc0de",
        "outputId": "b941c2c1-0701-4702-bb84-7218ab383286"
      },
      "outputs": [
        {
          "output_type": "stream",
          "name": "stdout",
          "text": [
            "Botnet abundance: 0.69%\n"
          ]
        }
      ],
      "source": [
        "edf = pd.read_csv('https://gist.githubusercontent.com/silkspace/33bde3e69ae24fee1298a66d1e00b467/raw/dc66bd6f1687270be7098f94b3929d6a055b4438/malware_bots.csv', index_col=0)\n",
        "T = edf.Label.apply(lambda x: True if 'Botnet' in x else False)\n",
        "bot = edf[T]\n",
        "nbot = edf[~T]\n",
        "print(f'Botnet abundance: {100*len(bot)/len(edf):0.2f}%')# so botnet traffic makes up a tiny fraction of total\n",
        "\n",
        "# let's balance the dataset in a 10-1 ratio, for speed and demonstrative purposes\n",
        "negs = nbot.sample(10*len(bot))\n",
        "edf = pd.concat([bot, negs])  # top part of arrays are bot traffic, then all non-bot traffic\n",
        "edf = edf.drop_duplicates()\n",
        "\n",
        "# some useful indicators for later that predict Botnet as Bool and Int\n",
        "Y = edf.Label.apply(lambda x: 1 if 'Botnet' in x else 0)  # np.array(T)\n",
        "\n",
        "# Later we will use and exploit any meaning shared between the labels in a latent distribution\n",
        "\n",
        "# add it to the dataframe\n",
        "edf['bot'] = Y\n",
        "\n",
        "# name some columns for edges and features\n",
        "src = 'SrcAddr'\n",
        "dst = 'DstAddr'\n",
        "good_cols_with_edges = ['Dur', 'Proto', 'Sport',\n",
        "       'Dport', 'State', 'TotBytes', 'SrcBytes', src, dst]\n",
        "\n",
        "good_cols_without_edges = ['Dur', 'Proto', 'Sport',\n",
        "       'Dport', 'State', 'TotPkts', 'TotBytes', 'SrcBytes']\n",
        "\n",
        "## some encoding parameters\n",
        "n_topics = 20\n",
        "n_topics_target = 7\n",
        "\n"
      ],
      "id": "3b2f1b00-6984-44c2-9148-6f38282bc0de"
    },
    {
      "cell_type": "code",
      "execution_count": 14,
      "metadata": {
        "colab": {
          "base_uri": "https://localhost:8080/"
        },
        "id": "294da65b-8116-41a9-93e7-6c6c5b7accdb",
        "outputId": "ab936417-0133-4239-e32a-1617c077100e"
      },
      "outputs": [
        {
          "output_type": "stream",
          "name": "stderr",
          "text": [
            "WARNING:root:Target is not of type(DataFrame) and has no columns"
          ]
        },
        {
          "output_type": "stream",
          "name": "stdout",
          "text": [
            "Featurizing nodes with feature_engine=cu_cat\n",
            "Using GPU: cu_cat\n",
            "         9177809 function calls (9076803 primitive calls) in 53.577 seconds\n",
            "\n",
            "   Ordered by: internal time\n",
            "   List reduced from 2274 to 20 due to restriction <20>\n",
            "\n",
            "   ncalls  tottime  percall  cumtime  percall filename:lineno(function)\n",
            "       81   23.140    0.286   23.140    0.286 {built-in method cupy_backends.cuda.libs.nvrtc.compileProgram}\n",
            "       40    6.209    0.155   13.838    0.346 /usr/local/lib/python3.9/dist-packages/cu_cat/_gap_encoder.py:1126(_multiplicative_update_h_smallfast)\n",
            "       15    4.736    0.316    4.736    0.316 /usr/local/lib/python3.9/dist-packages/numpy/lib/arraysetops.py:519(in1d)\n",
            "      677    3.505    0.005    3.510    0.005 {built-in method cupy._core._routines_linalg.matmul}\n",
            "    17837    1.677    0.000    1.904    0.000 /usr/local/lib/python3.9/dist-packages/rmm/rmm.py:216(rmm_cupy_allocator)\n",
            "       35    1.643    0.047    1.974    0.056 /usr/local/lib/python3.9/dist-packages/cu_cat/_gap_encoder.py:181(_get_H)\n",
            "      694    1.503    0.002    1.503    0.002 {built-in method cupy.cuda.device.get_cusparse_handle}\n",
            "    74161    1.481    0.000    1.972    0.000 /usr/lib/python3.9/typing.py:1065(_get_protocol_attrs)\n",
            "   138343    0.732    0.000    0.957    0.000 {built-in method cupy._core.core.array}\n",
            "        1    0.493    0.493    5.243    5.243 /usr/local/lib/python3.9/dist-packages/graphistry/feature_utils.py:1310(encode_edges)\n",
            "     4474    0.388    0.000    2.003    0.000 {built-in method cupy._core.core.ascontiguousarray}\n",
            "  1484386    0.292    0.000    0.292    0.000 {method 'startswith' of 'str' objects}\n",
            "454610/454602    0.250    0.000    0.322    0.000 {built-in method builtins.hasattr}\n",
            "   561910    0.236    0.000    0.239    0.000 {built-in method builtins.getattr}\n",
            "974885/973870    0.227    0.000    1.129    0.000 {built-in method builtins.isinstance}\n",
            "   298197    0.216    0.000    0.488    0.000 /usr/lib/python3.9/typing.py:1149(<genexpr>)\n",
            "     1504    0.199    0.000    0.228    0.000 {method 'update' of 'dict' objects}\n",
            "      395    0.191    0.000    0.659    0.002 /usr/local/lib/python3.9/dist-packages/cudf/core/indexed_frame.py:1508(_gather)\n",
            "       25    0.187    0.007    1.299    0.052 /usr/local/lib/python3.9/dist-packages/cu_cat/_gap_encoder.py:994(_multiplicative_update_w_smallfast)\n",
            "    26854    0.184    0.000    2.305    0.000 /usr/local/lib/python3.9/dist-packages/cudf/core/column/numerical.py:78(__init__)\n",
            "\n",
            "\n"
          ]
        }
      ],
      "source": [
        "# lets umap the data\n",
        "g = graphistry.edges(cudf.from_pandas(edf), src, dst) ## something with umap cudf still off a bit, so ran featurize\n",
        "pr = cProfile.Profile()\n",
        "pr.enable()\n",
        "g1a = g.featurize(kind='edges', \n",
        "            X=good_cols_with_edges, \n",
        "            y = ['bot'], \n",
        "            # use_scaler='quantile',\n",
        "            # use_scaler_target=None,\n",
        "            cardinality_threshold=20,\n",
        "            cardinality_threshold_target=2, \n",
        "            n_topics=n_topics,\n",
        "            feature_engine='cu_cat',\n",
        "            # engine='cuml',\n",
        "            memoize=False,\n",
        "            n_topics_target=n_topics_target,\n",
        "            n_bins=n_topics_target,\n",
        "            # metric='euclidean', \n",
        "            # n_neighbors=12)\n",
        ")\n",
        "pr.disable()\n",
        "stats = Stats(pr)\n",
        "stats.sort_stats('tottime').print_stats(20)\n",
        "\n",
        "with open('ctu13_umap_cu_cat.txt', 'w') as stream:\n",
        "    stats = Stats(pr,stream=stream)\n",
        "    stats.sort_stats('tottime').print_stats(20)\n"
      ],
      "id": "294da65b-8116-41a9-93e7-6c6c5b7accdb"
    },
    {
      "cell_type": "code",
      "execution_count": 15,
      "metadata": {
        "colab": {
          "base_uri": "https://localhost:8080/"
        },
        "id": "b0947964-efba-43be-acdc-39e52d7e2261",
        "outputId": "7e79701a-5bfa-49ee-d7c6-1d7b7d5d0863"
      },
      "outputs": [
        {
          "output_type": "stream",
          "name": "stderr",
          "text": [
            "WARNING:root:Target is not of type(DataFrame) and has no columns"
          ]
        },
        {
          "output_type": "stream",
          "name": "stdout",
          "text": [
            "Featurizing nodes with feature_engine=cu_cat\n",
            "Using GPU: cu_cat\n",
            "         14364844 function calls (14198592 primitive calls) in 50.806 seconds\n",
            "\n",
            "   Ordered by: internal time\n",
            "   List reduced from 2484 to 20 due to restriction <20>\n",
            "\n",
            "   ncalls  tottime  percall  cumtime  percall filename:lineno(function)\n",
            "    71288    6.596    0.000    6.669    0.000 {built-in method numpy.array}\n",
            "       40    6.122    0.153    7.931    0.198 /usr/local/lib/python3.9/dist-packages/cu_cat/_gap_encoder.py:1126(_multiplicative_update_h_smallfast)\n",
            "       15    4.827    0.322    4.828    0.322 /usr/local/lib/python3.9/dist-packages/numpy/lib/arraysetops.py:519(in1d)\n",
            "    13168    2.666    0.000    2.666    0.000 {method 'take' of 'numpy.ndarray' objects}\n",
            "      208    2.120    0.010    2.120    0.010 {method 'argsort' of 'numpy.ndarray' objects}\n",
            "        3    1.883    0.628    1.883    0.628 /usr/local/lib/python3.9/dist-packages/numpy/ma/core.py:3211(__getitem__)\n",
            "       35    1.702    0.049    2.054    0.059 /usr/local/lib/python3.9/dist-packages/cu_cat/_gap_encoder.py:181(_get_H)\n",
            "    91664    1.567    0.000    2.107    0.000 /usr/lib/python3.9/typing.py:1065(_get_protocol_attrs)\n",
            "    17821    1.385    0.000    1.522    0.000 /usr/local/lib/python3.9/dist-packages/rmm/rmm.py:216(rmm_cupy_allocator)\n",
            "        1    1.206    1.206    1.206    1.206 /usr/local/lib/python3.9/dist-packages/numpy/ma/core.py:3337(__setitem__)\n",
            "    13059    1.195    0.000    4.254    0.000 /usr/local/lib/python3.9/dist-packages/scipy/stats/_distn_infrastructure.py:2319(ppf)\n",
            "     8706    0.979    0.000    0.979    0.000 {built-in method numpy.core._multiarray_umath.interp}\n",
            "       11    0.844    0.077    1.973    0.179 /usr/local/lib/python3.9/dist-packages/cudf/core/frame.py:460(_to_array)\n",
            "     4353    0.811    0.000    6.636    0.002 /usr/local/lib/python3.9/dist-packages/sklearn/preprocessing/_data.py:2645(_transform_col)\n",
            "     4353    0.802    0.000    0.802    0.000 {method 'partition' of 'numpy.ndarray' objects}\n",
            "        3    0.791    0.264    0.791    0.264 /usr/local/lib/python3.9/dist-packages/sklearn/utils/_mask.py:9(_get_dense_mask)\n",
            "    74604    0.665    0.000    0.665    0.000 {method 'reduce' of 'numpy.ufunc' objects}\n",
            "279234/222166    0.563    0.000   12.770    0.000 {built-in method numpy.core._multiarray_umath.implement_array_function}\n",
            "        1    0.436    0.436    1.836    1.836 /usr/local/lib/python3.9/dist-packages/graphistry/feature_utils.py:1310(encode_edges)\n",
            "   142696    0.399    0.000    0.417    0.000 {built-in method cupy._core.core.array}\n",
            "\n",
            "\n"
          ]
        }
      ],
      "source": [
        "# lets umap the data\n",
        "g = graphistry.edges(edf, src, dst)\n",
        "\n",
        "pr = cProfile.Profile()\n",
        "pr.enable()\n",
        "g6a = g.featurize(kind='edges', \n",
        "            X=good_cols_with_edges, \n",
        "            y = ['bot'], \n",
        "            use_scaler='quantile',\n",
        "            use_scaler_target=None,\n",
        "            cardinality_threshold=20,\n",
        "            cardinality_threshold_target=2, \n",
        "            n_topics=n_topics,\n",
        "            feature_engine='cu_cat',\n",
        "            # engine='cuml',\n",
        "            memoize=False,\n",
        "            n_topics_target=n_topics_target,\n",
        "            n_bins=n_topics_target,\n",
        "            # metric='euclidean', \n",
        "            # n_neighbors=12)\n",
        "          )\n",
        "pr.disable()\n",
        "stats = Stats(pr)\n",
        "stats.sort_stats('tottime').print_stats(20)\n",
        "\n",
        "with open('ctu13_umap_cu_cat.txt', 'w') as stream:\n",
        "    stats = Stats(pr,stream=stream)\n",
        "    stats.sort_stats('tottime').print_stats(20)\n"
      ],
      "id": "b0947964-efba-43be-acdc-39e52d7e2261"
    },
    {
      "cell_type": "code",
      "source": [
        "!pip install dirty_cat"
      ],
      "metadata": {
        "id": "8viSbbrKuXEF"
      },
      "id": "8viSbbrKuXEF",
      "execution_count": null,
      "outputs": []
    },
    {
      "cell_type": "code",
      "execution_count": 18,
      "metadata": {
        "id": "066c8421-4c91-4e6a-b6de-07a62eecdfb1",
        "colab": {
          "base_uri": "https://localhost:8080/"
        },
        "outputId": "593e684b-2aa0-42a6-c844-505900723994"
      },
      "outputs": [
        {
          "output_type": "stream",
          "name": "stdout",
          "text": [
            "Featurizing nodes with feature_engine=dirty_cat\n",
            "Using GPU: dirty_cat\n",
            "         16859133 function calls (16637906 primitive calls) in 119.510 seconds\n",
            "\n",
            "   Ordered by: internal time\n",
            "   List reduced from 2281 to 20 due to restriction <20>\n",
            "\n",
            "   ncalls  tottime  percall  cumtime  percall filename:lineno(function)\n",
            "   348584   19.555    0.000   20.112    0.000 {built-in method numpy.array}\n",
            "1719805/1663063   13.469    0.000   37.938    0.000 {built-in method numpy.core._multiarray_umath.implement_array_function}\n",
            "     1389   10.500    0.008   34.249    0.025 /usr/local/lib/python3.9/dist-packages/dirty_cat/_gap_encoder.py:1003(_multiplicative_update_h)\n",
            "        9    8.427    0.936    8.427    0.936 /usr/local/lib/python3.9/dist-packages/numpy/lib/arraysetops.py:519(in1d)\n",
            "        3    7.004    2.335    7.004    2.335 /usr/local/lib/python3.9/dist-packages/numpy/ma/core.py:3211(__getitem__)\n",
            "    13122    6.933    0.001    6.933    0.001 {method 'take' of 'numpy.ndarray' objects}\n",
            "      143    5.675    0.040    5.675    0.040 {method 'argsort' of 'numpy.ndarray' objects}\n",
            "       17    3.386    0.199    7.612    0.448 /usr/local/lib/python3.9/dist-packages/pandas/core/internals/managers.py:2361(_merge_blocks)\n",
            "   186464    3.256    0.000    6.973    0.000 /usr/local/lib/python3.9/dist-packages/scipy/sparse/_sputils.py:147(get_index_dtype)\n",
            "      124    3.205    0.026    3.205    0.026 {method 'copy' of 'numpy.ndarray' objects}\n",
            "    90835    2.988    0.000    8.416    0.000 /usr/local/lib/python3.9/dist-packages/scipy/sparse/_compressed.py:136(check_format)\n",
            "        1    1.839    1.839    1.839    1.839 {method 'round' of 'numpy.ndarray' objects}\n",
            "     1170    1.755    0.001    6.727    0.006 /usr/local/lib/python3.9/dist-packages/dirty_cat/_gap_encoder.py:971(_multiplicative_update_w)\n",
            "     4315    1.689    0.000    1.689    0.000 {method 'partition' of 'numpy.ndarray' objects}\n",
            "  1091164    1.635    0.000    9.612    0.000 <__array_function__ internals>:177(dot)\n",
            "90835/90778    1.602    0.000   17.457    0.000 /usr/local/lib/python3.9/dist-packages/scipy/sparse/_compressed.py:26(__init__)\n",
            "        3    1.526    0.509    1.526    0.509 /usr/local/lib/python3.9/dist-packages/sklearn/utils/_mask.py:9(_get_dense_mask)\n",
            "        1    1.439    1.439    1.439    1.439 /usr/local/lib/python3.9/dist-packages/numpy/ma/core.py:3337(__setitem__)\n",
            "   372947    1.410    0.000    1.410    0.000 /usr/local/lib/python3.9/dist-packages/numpy/core/getlimits.py:647(__init__)\n",
            "    90443    1.064    0.000    1.064    0.000 {method 'reduce' of 'numpy.ufunc' objects}\n",
            "\n",
            "\n"
          ]
        }
      ],
      "source": [
        "### lets umap the data\n",
        "g = graphistry.edges(edf, src, dst)\n",
        "pr = cProfile.Profile()\n",
        "pr.enable()\n",
        "g6c = g.featurize(kind='edges', \n",
        "            X=good_cols_with_edges, \n",
        "            y = ['bot'], \n",
        "            use_scaler='quantile',\n",
        "            use_scaler_target=None,\n",
        "            cardinality_threshold=20,\n",
        "            cardinality_threshold_target=2, \n",
        "            n_topics=n_topics,\n",
        "            feature_engine='dirty_cat',\n",
        "            # engine='cuml',\n",
        "            memoize=False,\n",
        "            n_topics_target=n_topics_target,\n",
        "            n_bins=n_topics_target,\n",
        "            # metric='euclidean', \n",
        "            # n_neighbors=12)\n",
        "          )\n",
        "pr.disable()\n",
        "stats = Stats(pr)\n",
        "stats.sort_stats('tottime').print_stats(20)\n",
        "\n",
        "with open('ctu13_umap_dirtycat.txt', 'w') as stream:\n",
        "    stats = Stats(pr,stream=stream)\n",
        "    stats.sort_stats('tottime').print_stats(20)\n"
      ],
      "id": "066c8421-4c91-4e6a-b6de-07a62eecdfb1"
    },
    {
      "cell_type": "markdown",
      "metadata": {
        "id": "6657b008-5094-42fd-96a8-177edf7e5ebd"
      },
      "source": [
        "### 20newsgroups"
      ],
      "id": "6657b008-5094-42fd-96a8-177edf7e5ebd"
    },
    {
      "cell_type": "code",
      "execution_count": 20,
      "metadata": {
        "id": "625c5db9-bd1e-40df-9cce-604a675de2aa"
      },
      "outputs": [],
      "source": [
        "from sklearn.datasets import fetch_20newsgroups\n",
        "# newsgroups = fetch_20newsgroups()#categories=categories)\n",
        "n_samples = 500\n",
        "# n_features = 1000\n",
        "# n_components = 10\n",
        "# n_top_words = 20\n",
        "# batch_size = 128\n",
        "# init = \"nndsvda\"\n",
        "\n",
        "news, _ = fetch_20newsgroups(\n",
        "    shuffle=True,\n",
        "    random_state=1,\n",
        "    remove=(\"headers\", \"footers\", \"quotes\"),\n",
        "    return_X_y=True,\n",
        ")\n",
        "\n",
        "news = news[:n_samples]\n",
        "news=pd.DataFrame(news)"
      ],
      "id": "625c5db9-bd1e-40df-9cce-604a675de2aa"
    },
    {
      "cell_type": "code",
      "source": [
        "import logging\n",
        "# logging.basicConfig(level=logging)\n",
        "logging.basicConfig(level=None)"
      ],
      "metadata": {
        "id": "4op4etIhGwB3"
      },
      "id": "4op4etIhGwB3",
      "execution_count": 21,
      "outputs": []
    },
    {
      "cell_type": "code",
      "execution_count": 22,
      "metadata": {
        "id": "427e3cb3-60fe-4289-9655-fbdecda1a9ca",
        "colab": {
          "base_uri": "https://localhost:8080/"
        },
        "outputId": "2b31795c-6db0-42bc-dd61-7d3a88233e38"
      },
      "outputs": [
        {
          "output_type": "stream",
          "name": "stderr",
          "text": [
            "WARNING:root:Target is not of type(DataFrame) and has no columns"
          ]
        },
        {
          "output_type": "stream",
          "name": "stdout",
          "text": [
            "Featurizing nodes with feature_engine=cu_cat\n",
            "Using GPU: cu_cat\n"
          ]
        },
        {
          "output_type": "stream",
          "name": "stderr",
          "text": [
            "WARNING:root:! Failed featurize speedup attempt. Continuing without memoization speedups.WARNING:root:Target is not of type(DataFrame) and has no columns"
          ]
        },
        {
          "output_type": "stream",
          "name": "stdout",
          "text": [
            "Using GPU: cu_cat\n"
          ]
        },
        {
          "output_type": "stream",
          "name": "stderr",
          "text": [
            "WARNING:root:! Failed umap speedup attempt. Continuing without memoization speedups.WARNING:graphistry.umap_utils:* Ignoring target column of shape (500, 0) in UMAP fit, as it is not one dimensional"
          ]
        },
        {
          "output_type": "stream",
          "name": "stdout",
          "text": [
            "         17140650 function calls (17107731 primitive calls) in 90.004 seconds\n",
            "\n",
            "   Ordered by: internal time\n",
            "   List reduced from 2511 to 20 due to restriction <20>\n",
            "\n",
            "   ncalls  tottime  percall  cumtime  percall filename:lineno(function)\n",
            "      416   12.858    0.031   46.479    0.112 /usr/local/lib/python3.9/dist-packages/cu_cat/_gap_encoder.py:1042(_multiplicative_update_h)\n",
            "       12   11.673    0.973   14.952    1.246 /usr/local/lib/python3.9/dist-packages/cu_cat/_gap_encoder.py:1126(_multiplicative_update_h_smallfast)\n",
            "        6   10.637    1.773   10.637    1.773 /usr/local/lib/python3.9/dist-packages/numpy/lib/arraysetops.py:519(in1d)\n",
            "   168234    7.370    0.000    8.834    0.000 /usr/local/lib/python3.9/dist-packages/rmm/rmm.py:216(rmm_cupy_allocator)\n",
            "    26748    5.594    0.000    8.341    0.000 /usr/local/lib/python3.9/dist-packages/cupyx/scipy/sparse/_index.py:44(_get_csr_submatrix_major_axis)\n",
            "       14    3.202    0.229    7.352    0.525 /usr/local/lib/python3.9/dist-packages/cu_cat/_gap_encoder.py:181(_get_H)\n",
            "1519779/1519694    3.094    0.000   16.607    0.000 {built-in method numpy.core._multiarray_umath.implement_array_function}\n",
            "    79688    2.983    0.000    3.324    0.000 {method 'get' of 'cupy._core.core.ndarray' objects}\n",
            "    80674    2.817    0.000    7.141    0.000 {method 'copy' of 'cupy._core.core.ndarray' objects}\n",
            "   110348    2.292    0.000    3.963    0.000 {built-in method cupy._core.core.array}\n",
            "    81245    2.225    0.000    2.225    0.000 {built-in method numpy.array}\n",
            "      404    1.222    0.003    1.747    0.004 /usr/local/lib/python3.9/dist-packages/cupyx/scipy/sparse/csr.py:148(__mul__)\n",
            "    53956    0.988    0.000    2.267    0.000 /usr/local/lib/python3.9/dist-packages/cupyx/scipy/sparse/compressed.py:195(__init__)\n",
            "   255115    0.877    0.000    0.877    0.000 {method 'reduce' of 'numpy.ufunc' objects}\n",
            "       30    0.795    0.026    0.809    0.027 /usr/local/lib/python3.9/dist-packages/cudf/core/column/string.py:4619(character_ngrams)\n",
            "    26540    0.785    0.000   18.805    0.001 /usr/local/lib/python3.9/dist-packages/cupyx/scipy/sparse/csr.py:548(_get_intXslice)\n",
            "        2    0.775    0.387    0.775    0.387 {method 'gamma' of 'numpy.random.mtrand.RandomState' objects}\n",
            "  1018624    0.712    0.000    2.737    0.000 <__array_function__ internals>:177(dot)\n",
            "       14    0.653    0.047    0.661    0.047 /usr/local/lib/python3.9/dist-packages/cudf/core/column/string.py:1800(lower)\n",
            "   254695    0.646    0.000    2.374    0.000 /usr/local/lib/python3.9/dist-packages/numpy/core/fromnumeric.py:69(_wrapreduction)\n",
            "\n",
            "\n"
          ]
        }
      ],
      "source": [
        "g = graphistry.nodes(cudf.from_pandas(news))\n",
        "pr = cProfile.Profile()\n",
        "pr.enable()\n",
        "\n",
        "\n",
        "g8 = g.featurize(feature_engine='cu_cat',memoize=False)\n",
        "g8b = g8.umap()#,feature_engine='cu_cat',memoize=False)\n",
        "\n",
        "pr.disable()\n",
        "stats = Stats(pr)\n",
        "stats.sort_stats('tottime').print_stats(20)\n",
        "\n",
        "with open('20news_umap_cudf-cu_cat.txt', 'w') as stream:\n",
        "    stats = Stats(pr,stream=stream)\n",
        "    stats.sort_stats('tottime').print_stats(20)"
      ],
      "id": "427e3cb3-60fe-4289-9655-fbdecda1a9ca"
    },
    {
      "cell_type": "code",
      "execution_count": 23,
      "metadata": {
        "id": "9683c33e-aa71-47a2-87f2-16b69d482a85",
        "colab": {
          "base_uri": "https://localhost:8080/"
        },
        "outputId": "f856b4f0-fe45-40a2-dff0-de12526448e9"
      },
      "outputs": [
        {
          "output_type": "stream",
          "name": "stderr",
          "text": [
            "WARNING:root:Target is not of type(DataFrame) and has no columns"
          ]
        },
        {
          "output_type": "stream",
          "name": "stdout",
          "text": [
            "Featurizing nodes with feature_engine=cu_cat\n",
            "Using GPU: cu_cat\n"
          ]
        },
        {
          "output_type": "stream",
          "name": "stderr",
          "text": [
            "WARNING:root:! Failed featurize speedup attempt. Continuing without memoization speedups.WARNING:root:Target is not of type(DataFrame) and has no columns"
          ]
        },
        {
          "output_type": "stream",
          "name": "stdout",
          "text": [
            "Using GPU: cu_cat\n"
          ]
        },
        {
          "output_type": "stream",
          "name": "stderr",
          "text": [
            "WARNING:root:! Failed umap speedup attempt. Continuing without memoization speedups.WARNING:graphistry.umap_utils:* Ignoring target column of shape (500, 0) in UMAP fit, as it is not one dimensional"
          ]
        },
        {
          "output_type": "stream",
          "name": "stdout",
          "text": [
            "         17164380 function calls (17131488 primitive calls) in 84.611 seconds\n",
            "\n",
            "   Ordered by: internal time\n",
            "   List reduced from 2433 to 20 due to restriction <20>\n",
            "\n",
            "   ncalls  tottime  percall  cumtime  percall filename:lineno(function)\n",
            "       12   11.993    0.999   15.394    1.283 /usr/local/lib/python3.9/dist-packages/cu_cat/_gap_encoder.py:1126(_multiplicative_update_h_smallfast)\n",
            "      416   11.639    0.028   39.970    0.096 /usr/local/lib/python3.9/dist-packages/cu_cat/_gap_encoder.py:1042(_multiplicative_update_h)\n",
            "        6    9.901    1.650    9.901    1.650 /usr/local/lib/python3.9/dist-packages/numpy/lib/arraysetops.py:519(in1d)\n",
            "   168234    7.289    0.000    8.759    0.000 /usr/local/lib/python3.9/dist-packages/rmm/rmm.py:216(rmm_cupy_allocator)\n",
            "    26748    4.437    0.000    6.471    0.000 /usr/local/lib/python3.9/dist-packages/cupyx/scipy/sparse/_index.py:44(_get_csr_submatrix_major_axis)\n",
            "       14    3.863    0.276   10.062    0.719 /usr/local/lib/python3.9/dist-packages/cu_cat/_gap_encoder.py:181(_get_H)\n",
            "   110348    3.390    0.000    5.984    0.000 {built-in method cupy._core.core.array}\n",
            "1525452/1525368    2.800    0.000   15.373    0.000 {built-in method numpy.core._multiarray_umath.implement_array_function}\n",
            "    79688    2.444    0.000    2.724    0.000 {method 'get' of 'cupy._core.core.ndarray' objects}\n",
            "    80674    2.266    0.000    5.792    0.000 {method 'copy' of 'cupy._core.core.ndarray' objects}\n",
            "    81244    2.151    0.000    2.151    0.000 {built-in method numpy.array}\n",
            "      404    1.278    0.003    1.810    0.004 /usr/local/lib/python3.9/dist-packages/cupyx/scipy/sparse/csr.py:148(__mul__)\n",
            "    53956    0.793    0.000    1.622    0.000 /usr/local/lib/python3.9/dist-packages/cupyx/scipy/sparse/compressed.py:195(__init__)\n",
            "   256259    0.789    0.000    0.789    0.000 {method 'reduce' of 'numpy.ufunc' objects}\n",
            "       30    0.783    0.026    0.797    0.027 /usr/local/lib/python3.9/dist-packages/cudf/core/column/string.py:4619(character_ngrams)\n",
            "  1023204    0.706    0.000    2.616    0.000 <__array_function__ internals>:177(dot)\n",
            "       14    0.684    0.049    0.691    0.049 /usr/local/lib/python3.9/dist-packages/cudf/core/column/string.py:1800(lower)\n",
            "    26540    0.641    0.000   15.100    0.001 /usr/local/lib/python3.9/dist-packages/cupyx/scipy/sparse/csr.py:548(_get_intXslice)\n",
            "        2    0.621    0.311    0.621    0.311 {method 'gamma' of 'numpy.random.mtrand.RandomState' objects}\n",
            "   255840    0.594    0.000    2.203    0.000 /usr/local/lib/python3.9/dist-packages/numpy/core/fromnumeric.py:69(_wrapreduction)\n",
            "\n",
            "\n"
          ]
        }
      ],
      "source": [
        "g = graphistry.nodes(news)\n",
        "pr = cProfile.Profile()\n",
        "pr.enable()\n",
        "\n",
        "g7 = g.featurize(feature_engine='cu_cat',memoize=False)\n",
        "g7a = g7.umap()#,feature_engine='cu_cat',memoize=False)\n",
        "\n",
        "pr.disable()\n",
        "stats = Stats(pr)\n",
        "stats.sort_stats('tottime').print_stats(20)\n",
        "\n",
        "with open('20news_umap_cu_cat.txt', 'w') as stream:\n",
        "    stats = Stats(pr,stream=stream)\n",
        "    stats.sort_stats('tottime').print_stats(20)"
      ],
      "id": "9683c33e-aa71-47a2-87f2-16b69d482a85"
    },
    {
      "cell_type": "code",
      "execution_count": null,
      "metadata": {
        "id": "b88c5fba-32d3-4140-9a9e-8fd6a652f07c",
        "colab": {
          "base_uri": "https://localhost:8080/"
        },
        "outputId": "4030fcd2-9b91-4efe-93b8-814bdb592d2e"
      },
      "outputs": [
        {
          "output_type": "stream",
          "name": "stdout",
          "text": [
            "Featurizing nodes with feature_engine=dirty_cat\n",
            "Using GPU: dirty_cat\n"
          ]
        }
      ],
      "source": [
        "g = graphistry.nodes(news)\n",
        "pr = cProfile.Profile()\n",
        "pr.enable()\n",
        "\n",
        "g9 = g.featurize(feature_engine='dirty_cat',memoize=False)\n",
        "g9c = g9.umap(engine='cuml')#,feature_engine='cu_cat',memoize=False)\n",
        "\n",
        "pr.disable()\n",
        "stats = Stats(pr)\n",
        "stats.sort_stats('tottime').print_stats(20)\n",
        "\n",
        "with open('20news_umap_dirtycat.txt', 'w') as stream:\n",
        "    stats = Stats(pr,stream=stream)\n",
        "    stats.sort_stats('tottime').print_stats(20)"
      ],
      "id": "b88c5fba-32d3-4140-9a9e-8fd6a652f07c"
    },
    {
      "cell_type": "code",
      "execution_count": null,
      "metadata": {
        "id": "FNlKXbL48xOe"
      },
      "outputs": [],
      "source": [],
      "id": "FNlKXbL48xOe"
    },
    {
      "cell_type": "markdown",
      "metadata": {
        "id": "f2eafa7a-9b51-492a-ab0e-ed7ec89a2a6f"
      },
      "source": [
        "### winlogs"
      ],
      "id": "f2eafa7a-9b51-492a-ab0e-ed7ec89a2a6f"
    },
    {
      "cell_type": "code",
      "execution_count": 8,
      "metadata": {
        "colab": {
          "base_uri": "https://localhost:8080/"
        },
        "id": "216f66ba-18a5-4ac5-bb10-b7aefe086df0",
        "outputId": "cb7e659d-afc5-493b-af4b-8a9b79dc8f21"
      },
      "outputs": [
        {
          "output_type": "stream",
          "name": "stdout",
          "text": [
            "File ‘part.88.parquet’ already there; not retrieving.\n",
            "\n",
            "Featurizing nodes with feature_engine=cu_cat\n",
            "Using GPU: cu_cat\n"
          ]
        },
        {
          "output_type": "stream",
          "name": "stderr",
          "text": [
            "WARNING:root:Target is not of type(DataFrame) and has no columnsWARNING:root:Target is not of type(DataFrame) and has no columns"
          ]
        },
        {
          "output_type": "stream",
          "name": "stdout",
          "text": [
            "         4766439 function calls (4726326 primitive calls) in 74.039 seconds\n",
            "\n",
            "   Ordered by: internal time\n",
            "   List reduced from 2050 to 20 due to restriction <20>\n",
            "\n",
            "   ncalls  tottime  percall  cumtime  percall filename:lineno(function)\n",
            "       24   37.937    1.581   42.562    1.773 /usr/local/lib/python3.9/dist-packages/cu_cat/_gap_encoder.py:1126(_multiplicative_update_h_smallfast)\n",
            "        9   18.896    2.100   18.897    2.100 /usr/local/lib/python3.9/dist-packages/numpy/lib/arraysetops.py:519(in1d)\n",
            "       21    5.809    0.277    6.994    0.333 /usr/local/lib/python3.9/dist-packages/cu_cat/_gap_encoder.py:181(_get_H)\n",
            "    10329    3.731    0.000    3.864    0.000 /usr/local/lib/python3.9/dist-packages/rmm/rmm.py:216(rmm_cupy_allocator)\n",
            "       15    0.976    0.065    1.116    0.074 /usr/local/lib/python3.9/dist-packages/cu_cat/_gap_encoder.py:994(_multiplicative_update_w_smallfast)\n",
            "   456139    0.624    0.000    0.646    0.000 {built-in method cupy._core.core.array}\n",
            "     1065    0.608    0.001    0.678    0.001 {method 'update' of 'dict' objects}\n",
            "      255    0.375    0.001    0.375    0.001 {method 'argsort' of 'numpy.ndarray' objects}\n",
            "      501    0.319    0.001    0.731    0.001 /usr/local/lib/python3.9/dist-packages/cupyx/scipy/sparse/csr.py:148(__mul__)\n",
            "   605044    0.272    0.000    0.388    0.000 /usr/local/lib/python3.9/dist-packages/numpy/core/numeric.py:1859(isscalar)\n",
            "       37    0.242    0.007    0.256    0.007 /usr/local/lib/python3.9/dist-packages/cudf/core/column/column.py:246(from_arrow)\n",
            "    16412    0.221    0.000    0.311    0.000 /usr/lib/python3.9/typing.py:1065(_get_protocol_attrs)\n",
            "834003/833347    0.173    0.000    0.412    0.000 {built-in method builtins.isinstance}\n",
            "       65    0.156    0.002    0.184    0.003 /usr/local/lib/python3.9/dist-packages/cudf/core/column/column.py:1040(unique)\n",
            "   456032    0.153    0.000    0.770    0.000 /usr/local/lib/python3.9/dist-packages/cupy/_creation/from_data.py:49(asarray)\n",
            "        3    0.126    0.042   27.815    9.272 /usr/local/lib/python3.9/dist-packages/cu_cat/_gap_encoder.py:274(fit)\n",
            "      208    0.116    0.001    0.392    0.002 /usr/local/lib/python3.9/dist-packages/cudf/core/indexed_frame.py:1508(_gather)\n",
            "49785/49743    0.109    0.000   19.437    0.000 {built-in method numpy.core._multiarray_umath.implement_array_function}\n",
            "      132    0.092    0.001    0.124    0.001 /usr/local/lib/python3.9/dist-packages/cudf/core/frame.py:1540(_get_sorted_inds)\n",
            "        3    0.085    0.028    0.085    0.028 {method 'gamma' of 'numpy.random.mtrand.RandomState' objects}\n",
            "\n",
            "\n",
            "Featurizing nodes with feature_engine=cu_cat\n",
            "Using GPU: cu_cat\n",
            "         4762959 function calls (4722891 primitive calls) in 71.151 seconds\n",
            "\n",
            "   Ordered by: internal time\n",
            "   List reduced from 1963 to 20 due to restriction <20>\n",
            "\n",
            "   ncalls  tottime  percall  cumtime  percall filename:lineno(function)\n",
            "       24   36.910    1.538   41.020    1.709 /usr/local/lib/python3.9/dist-packages/cu_cat/_gap_encoder.py:1126(_multiplicative_update_h_smallfast)\n",
            "        9   18.701    2.078   18.702    2.078 /usr/local/lib/python3.9/dist-packages/numpy/lib/arraysetops.py:519(in1d)\n",
            "       21    5.491    0.261    6.606    0.315 /usr/local/lib/python3.9/dist-packages/cu_cat/_gap_encoder.py:181(_get_H)\n",
            "    10275    3.297    0.000    3.416    0.000 /usr/local/lib/python3.9/dist-packages/rmm/rmm.py:216(rmm_cupy_allocator)\n",
            "       15    0.966    0.064    1.106    0.074 /usr/local/lib/python3.9/dist-packages/cu_cat/_gap_encoder.py:994(_multiplicative_update_w_smallfast)\n",
            "   456136    0.587    0.000    0.609    0.000 {built-in method cupy._core.core.array}\n",
            "     1059    0.546    0.001    0.611    0.001 {method 'update' of 'dict' objects}\n",
            "      255    0.325    0.001    0.325    0.001 {method 'argsort' of 'numpy.ndarray' objects}\n",
            "      498    0.313    0.001    0.701    0.001 /usr/local/lib/python3.9/dist-packages/cupyx/scipy/sparse/csr.py:148(__mul__)\n",
            "   605025    0.254    0.000    0.364    0.000 /usr/local/lib/python3.9/dist-packages/numpy/core/numeric.py:1859(isscalar)\n",
            "    16404    0.191    0.000    0.278    0.000 /usr/lib/python3.9/typing.py:1065(_get_protocol_attrs)\n",
            "833610/832961    0.159    0.000    0.371    0.000 {built-in method builtins.isinstance}\n",
            "   456029    0.142    0.000    0.722    0.000 /usr/local/lib/python3.9/dist-packages/cupy/_creation/from_data.py:49(asarray)\n",
            "       65    0.123    0.002    0.146    0.002 /usr/local/lib/python3.9/dist-packages/cudf/core/column/column.py:1040(unique)\n",
            "49762/49721    0.106    0.000   19.178    0.000 {built-in method numpy.core._multiarray_umath.implement_array_function}\n",
            "        3    0.100    0.033   26.448    8.816 /usr/local/lib/python3.9/dist-packages/cu_cat/_gap_encoder.py:274(fit)\n",
            "      208    0.099    0.000    0.332    0.002 /usr/local/lib/python3.9/dist-packages/cudf/core/indexed_frame.py:1508(_gather)\n",
            "      132    0.081    0.001    0.109    0.001 /usr/local/lib/python3.9/dist-packages/cudf/core/frame.py:1540(_get_sorted_inds)\n",
            "        3    0.073    0.024    0.073    0.024 {method 'gamma' of 'numpy.random.mtrand.RandomState' objects}\n",
            "     1565    0.071    0.000    0.166    0.000 /usr/local/lib/python3.9/dist-packages/cupyx/scipy/sparse/compressed.py:649(__get_has_canonical_format)\n",
            "\n",
            "\n",
            "Featurizing nodes with feature_engine=dirty_cat\n",
            "Using GPU: dirty_cat\n",
            "         94227606 function calls (93019419 primitive calls) in 345.175 seconds\n",
            "\n",
            "   Ordered by: internal time\n",
            "   List reduced from 2093 to 20 due to restriction <20>\n",
            "\n",
            "   ncalls  tottime  percall  cumtime  percall filename:lineno(function)\n",
            "12741351/12740862   90.306    0.000  105.874    0.000 {built-in method numpy.core._multiarray_umath.implement_array_function}\n",
            "     8255   60.123    0.007  170.758    0.021 /usr/local/lib/python3.9/dist-packages/dirty_cat/_gap_encoder.py:1003(_multiplicative_update_h)\n",
            "     7820   52.094    0.007  141.764    0.018 /usr/local/lib/python3.9/dist-packages/dirty_cat/_gap_encoder.py:971(_multiplicative_update_w)\n",
            "  1172158   14.257    0.000   30.584    0.000 /usr/local/lib/python3.9/dist-packages/scipy/sparse/_sputils.py:147(get_index_dtype)\n",
            "        6   14.006    2.334   14.006    2.334 /usr/local/lib/python3.9/dist-packages/numpy/lib/arraysetops.py:519(in1d)\n",
            "   570357   12.608    0.000   36.494    0.000 /usr/local/lib/python3.9/dist-packages/scipy/sparse/_compressed.py:136(check_format)\n",
            " 10378200   10.013    0.000   98.225    0.000 <__array_function__ internals>:177(dot)\n",
            "     7820    7.300    0.001   10.534    0.001 /usr/local/lib/python3.9/dist-packages/dirty_cat/_gap_encoder.py:961(_rescale_W)\n",
            "  2344330    6.117    0.000    6.117    0.000 /usr/local/lib/python3.9/dist-packages/numpy/core/getlimits.py:647(__init__)\n",
            "570357/570275    6.082    0.000   76.575    0.000 /usr/local/lib/python3.9/dist-packages/scipy/sparse/_compressed.py:26(__init__)\n",
            "   328440    4.972    0.000    4.972    0.000 {built-in method scipy.sparse._sparsetools.coo_matvec}\n",
            "   110236    4.363    0.000    4.363    0.000 {method 'reduce' of 'numpy.ufunc' objects}\n",
            "   570357    4.117    0.000    9.217    0.000 /usr/local/lib/python3.9/dist-packages/scipy/sparse/_compressed.py:1168(prune)\n",
            "    32019    4.048    0.000    4.048    0.000 {built-in method numpy.zeros}\n",
            "   562016    3.485    0.000   74.319    0.000 /usr/local/lib/python3.9/dist-packages/scipy/sparse/_csr.py:236(__iter__)\n",
            "   585997    3.153    0.000    6.305    0.000 /usr/local/lib/python3.9/dist-packages/scipy/sparse/_sputils.py:295(check_shape)\n",
            "  1757831    3.049    0.000    3.049    0.000 {built-in method numpy.array}\n",
            "       82    2.831    0.035    2.831    0.035 {built-in method scipy.sparse._sparsetools.csc_tocsr}\n",
            "   585915    2.529    0.000    2.651    0.000 /usr/local/lib/python3.9/dist-packages/scipy/sparse/_sputils.py:238(isshape)\n",
            "  2282114    2.501    0.000    7.357    0.000 <__array_function__ internals>:177(can_cast)\n",
            "\n",
            "\n"
          ]
        }
      ],
      "source": [
        "!wget -nc https://www.dropbox.com/s/31dx1g6g59exoc3/part.88.parquet\n",
        "winlogs=pd.read_parquet('part.88.parquet')\n",
        "n=100000\n",
        "winlogs=winlogs.sample(n,replace=False)#.iloc[:,:8]\n",
        "winlogs=winlogs.dropna(how='any',axis=1)\n",
        "\n",
        "g = graphistry.nodes(winlogs)\n",
        "pr = cProfile.Profile()\n",
        "pr.enable()\n",
        "\n",
        "g10 = g.featurize(feature_engine='cu_cat',memoize=False)\n",
        "# g10a = g10.umap(engine='cuml')#,feature_engine='cu_cat',memoize=False)\n",
        "\n",
        "pr.disable()\n",
        "stats = Stats(pr)\n",
        "stats.sort_stats('tottime').print_stats(20)\n",
        "\n",
        "with open('winlogs_featurize+umap_cu_cat_'+str(n)+'.txt', 'w') as stream:\n",
        "    stats = Stats(pr,stream=stream)\n",
        "    stats.sort_stats('tottime').print_stats(20)\n",
        "\n",
        "g = graphistry.nodes(cudf.from_pandas(winlogs))\n",
        "pr = cProfile.Profile()\n",
        "pr.enable()\n",
        "\n",
        "g11 = g.featurize(feature_engine='cu_cat',memoize=False)\n",
        "# g11b = g11.umap(engine='cuml')#,feature_engine='cu_cat',memoize=False)\n",
        "\n",
        "pr.disable()\n",
        "stats = Stats(pr)\n",
        "stats.sort_stats('tottime').print_stats(20)\n",
        "\n",
        "with open('winlogs_featurize+umap_cudf-cu_cat_'+str(n)+'.txt', 'w') as stream:\n",
        "    stats = Stats(pr,stream=stream)\n",
        "    stats.sort_stats('tottime').print_stats(20)\n",
        "\n",
        "\n",
        "g = graphistry.nodes(winlogs)\n",
        "pr = cProfile.Profile()\n",
        "pr.enable()\n",
        "\n",
        "\n",
        "g12 = g.featurize(feature_engine='dirty_cat',memoize=False)\n",
        "# g12c = g12.umap(engine='cuml')#,feature_engine='cu_cat',memoize=False)\n",
        "\n",
        "pr.disable()\n",
        "stats = Stats(pr)\n",
        "stats.sort_stats('tottime').print_stats(20)\n",
        "\n",
        "with open('winlogs_featurize+umap_dirtycat_'+str(n)+'.txt', 'w') as stream:\n",
        "    stats = Stats(pr,stream=stream)\n",
        "    stats.sort_stats('tottime').print_stats(20)"
      ],
      "id": "216f66ba-18a5-4ac5-bb10-b7aefe086df0"
    },
    {
      "cell_type": "code",
      "execution_count": 9,
      "metadata": {
        "id": "21c2ce89-b39c-49ee-955e-932b40c2cf31",
        "colab": {
          "base_uri": "https://localhost:8080/"
        },
        "outputId": "9bb32556-068f-4533-d5d1-4da0249c14e0"
      },
      "outputs": [
        {
          "output_type": "stream",
          "name": "stdout",
          "text": [
            "(100000, 5)\n"
          ]
        }
      ],
      "source": [
        "print(winlogs.shape)\n"
      ],
      "id": "21c2ce89-b39c-49ee-955e-932b40c2cf31"
    },
    {
      "cell_type": "markdown",
      "metadata": {
        "id": "a1f6bcea-42c9-4f00-baf1-86e4c4349434"
      },
      "source": [
        "### ask HN"
      ],
      "id": "a1f6bcea-42c9-4f00-baf1-86e4c4349434"
    },
    {
      "cell_type": "code",
      "execution_count": 28,
      "metadata": {
        "id": "44bbd703-0c8c-48cc-be2c-f4bbe53879d4"
      },
      "outputs": [],
      "source": [
        "# # get the data top 3000 posts on Hacker News\n",
        "askHN = pd.read_csv('https://storage.googleapis.com/cohere-assets/blog/text-clustering/data/askhn3k_df.csv', index_col=0)\n",
        "\n",
        "# askHN = askHN.sample(1000,replace=False) \n",
        "# df = df[['text','title']]\n",
        "# df['title'] = df['title'].sample(frac=1).values"
      ],
      "id": "44bbd703-0c8c-48cc-be2c-f4bbe53879d4"
    },
    {
      "cell_type": "code",
      "execution_count": 29,
      "metadata": {
        "colab": {
          "base_uri": "https://localhost:8080/"
        },
        "id": "cab7e1db-329c-4be7-9760-471d0e9916a6",
        "outputId": "506de15d-1455-4ca5-9da3-bc4ca9110b87"
      },
      "outputs": [
        {
          "output_type": "stream",
          "name": "stderr",
          "text": [
            "WARNING:root:Target is not of type(DataFrame) and has no columns"
          ]
        },
        {
          "output_type": "stream",
          "name": "stdout",
          "text": [
            "Featurizing nodes with feature_engine=cu_cat\n",
            "Using GPU: cu_cat\n",
            "         11133374 function calls (11102447 primitive calls) in 84.341 seconds\n",
            "\n",
            "   Ordered by: internal time\n",
            "   List reduced from 1950 to 20 due to restriction <20>\n",
            "\n",
            "   ncalls  tottime  percall  cumtime  percall filename:lineno(function)\n",
            "       14   41.635    2.974   47.606    3.400 /usr/local/lib/python3.9/dist-packages/cu_cat/_gap_encoder.py:1126(_multiplicative_update_h_smallfast)\n",
            "      242    6.050    0.025   20.891    0.086 /usr/local/lib/python3.9/dist-packages/cu_cat/_gap_encoder.py:1042(_multiplicative_update_h)\n",
            "        6    6.027    1.004    6.027    1.004 /usr/local/lib/python3.9/dist-packages/numpy/lib/arraysetops.py:519(in1d)\n",
            "   101167    5.518    0.000    6.273    0.000 /usr/local/lib/python3.9/dist-packages/rmm/rmm.py:216(rmm_cupy_allocator)\n",
            "      412    2.483    0.006    2.763    0.007 /usr/local/lib/python3.9/dist-packages/cupyx/scipy/sparse/csr.py:148(__mul__)\n",
            "    15526    2.324    0.000    3.367    0.000 /usr/local/lib/python3.9/dist-packages/cupyx/scipy/sparse/_index.py:44(_get_csr_submatrix_major_axis)\n",
            "       14    2.085    0.149    4.406    0.315 /usr/local/lib/python3.9/dist-packages/cu_cat/_gap_encoder.py:181(_get_H)\n",
            "950999/950971    1.560    0.000    9.089    0.000 {built-in method numpy.core._multiarray_umath.implement_array_function}\n",
            "    94420    1.356    0.000    2.166    0.000 {built-in method cupy._core.core.array}\n",
            "    47012    1.249    0.000    3.028    0.000 {method 'copy' of 'cupy._core.core.ndarray' objects}\n",
            "    46250    1.233    0.000    1.369    0.000 {method 'get' of 'cupy._core.core.ndarray' objects}\n",
            "       10    1.011    0.101    1.377    0.138 /usr/local/lib/python3.9/dist-packages/cu_cat/_gap_encoder.py:994(_multiplicative_update_w_smallfast)\n",
            "    31522    0.445    0.000    0.906    0.000 /usr/local/lib/python3.9/dist-packages/cupyx/scipy/sparse/compressed.py:195(__init__)\n",
            "   159756    0.422    0.000    0.422    0.000 {method 'reduce' of 'numpy.ufunc' objects}\n",
            "       42    0.385    0.009    0.404    0.010 /usr/local/lib/python3.9/dist-packages/cudf/core/column/column.py:1040(unique)\n",
            "   637996    0.376    0.000    1.424    0.000 <__array_function__ internals>:177(dot)\n",
            "    47518    0.340    0.000    0.340    0.000 {built-in method numpy.array}\n",
            "   159505    0.320    0.000    1.193    0.000 /usr/local/lib/python3.9/dist-packages/numpy/core/fromnumeric.py:69(_wrapreduction)\n",
            "    15405    0.308    0.000    7.887    0.001 /usr/local/lib/python3.9/dist-packages/cupyx/scipy/sparse/csr.py:548(_get_intXslice)\n",
            "        2    0.264    0.132    0.264    0.132 {method 'gamma' of 'numpy.random.mtrand.RandomState' objects}\n",
            "\n",
            "\n"
          ]
        }
      ],
      "source": [
        "g = graphistry.nodes(cudf.from_pandas(askHN))\n",
        "pr = cProfile.Profile()\n",
        "pr.enable()\n",
        "\n",
        "g2 = g.featurize(X=['title', 'text'], # the features to encode (can add/remove 'text', etc)\n",
        "                y=['score'], # for demonstrative purposes, we include a target -- though this one is not really conditioned on textual features in a straightforward way\n",
        "                model_name='msmarco-distilbert-base-v2', #'paraphrase-MiniLM-L6-v2', etc, from sbert/Huggingface, the text encoding model\n",
        "                min_words = 0, # when 0 forces all X=[..] as textually encoded, higher values would ascertain if a column is textual or not depending on average number of words per column\n",
        "                use_ngrams=False, # set to True if you want ngram features instead (does not make great plots but useful for other situations)\n",
        "                # use_scaler_target='zscale', # for regressive targets\n",
        "                # use_scaler=None, # there are many more settings see `g.featurize?` and `g.umap?` for further options\n",
        "                feature_engine='cu_cat',\n",
        "                 memoize=False,    \n",
        "               )# g1a = g1.umap(engine='cuml')#,feature_engine='cu_cat',memoize=False)\n",
        "\n",
        "pr.disable()\n",
        "stats = Stats(pr)\n",
        "stats.sort_stats('tottime').print_stats(20)\n",
        "\n",
        "with open('aHN_umap_cudf_cat.txt', 'w') as stream:\n",
        "    stats = Stats(pr,stream=stream)\n",
        "    stats.sort_stats('tottime').print_stats(20)"
      ],
      "id": "cab7e1db-329c-4be7-9760-471d0e9916a6"
    },
    {
      "cell_type": "code",
      "execution_count": 30,
      "metadata": {
        "colab": {
          "base_uri": "https://localhost:8080/"
        },
        "id": "353f72e4-2119-4546-9dcb-45647881ab2d",
        "outputId": "5c9d3645-6059-4ae4-fdb6-d8db0f8fe892"
      },
      "outputs": [
        {
          "output_type": "stream",
          "name": "stderr",
          "text": [
            "WARNING:root:Target is not of type(DataFrame) and has no columns"
          ]
        },
        {
          "output_type": "stream",
          "name": "stdout",
          "text": [
            "Featurizing nodes with feature_engine=cu_cat\n",
            "Using GPU: cu_cat\n",
            "         11122341 function calls (11091393 primitive calls) in 85.601 seconds\n",
            "\n",
            "   Ordered by: internal time\n",
            "   List reduced from 2027 to 20 due to restriction <20>\n",
            "\n",
            "   ncalls  tottime  percall  cumtime  percall filename:lineno(function)\n",
            "       14   41.650    2.975   47.820    3.416 /usr/local/lib/python3.9/dist-packages/cu_cat/_gap_encoder.py:1126(_multiplicative_update_h_smallfast)\n",
            "      242    6.654    0.027   22.132    0.091 /usr/local/lib/python3.9/dist-packages/cu_cat/_gap_encoder.py:1042(_multiplicative_update_h)\n",
            "        6    6.509    1.085    6.509    1.085 /usr/local/lib/python3.9/dist-packages/numpy/lib/arraysetops.py:519(in1d)\n",
            "   101149    5.611    0.000    6.329    0.000 /usr/local/lib/python3.9/dist-packages/rmm/rmm.py:216(rmm_cupy_allocator)\n",
            "      411    2.508    0.006    2.789    0.007 /usr/local/lib/python3.9/dist-packages/cupyx/scipy/sparse/csr.py:148(__mul__)\n",
            "    15526    2.274    0.000    3.284    0.000 /usr/local/lib/python3.9/dist-packages/cupyx/scipy/sparse/_index.py:44(_get_csr_submatrix_major_axis)\n",
            "       14    1.852    0.132    3.915    0.280 /usr/local/lib/python3.9/dist-packages/cu_cat/_gap_encoder.py:181(_get_H)\n",
            "949732/949703    1.772    0.000   10.014    0.000 {built-in method numpy.core._multiarray_umath.implement_array_function}\n",
            "    47011    1.221    0.000    2.972    0.000 {method 'copy' of 'cupy._core.core.ndarray' objects}\n",
            "    46250    1.205    0.000    1.339    0.000 {method 'get' of 'cupy._core.core.ndarray' objects}\n",
            "    94419    1.196    0.000    1.927    0.000 {built-in method cupy._core.core.array}\n",
            "       10    1.015    0.102    1.393    0.139 /usr/local/lib/python3.9/dist-packages/cu_cat/_gap_encoder.py:994(_multiplicative_update_w_smallfast)\n",
            "   159522    0.482    0.000    0.482    0.000 {method 'reduce' of 'numpy.ufunc' objects}\n",
            "    31521    0.437    0.000    0.890    0.000 /usr/local/lib/python3.9/dist-packages/cupyx/scipy/sparse/compressed.py:195(__init__)\n",
            "   637012    0.434    0.000    1.659    0.000 <__array_function__ internals>:177(dot)\n",
            "        2    0.385    0.193    0.385    0.193 {method 'gamma' of 'numpy.random.mtrand.RandomState' objects}\n",
            "       42    0.380    0.009    0.396    0.009 /usr/local/lib/python3.9/dist-packages/cudf/core/column/column.py:1040(unique)\n",
            "   159259    0.379    0.000    1.395    0.000 /usr/local/lib/python3.9/dist-packages/numpy/core/fromnumeric.py:69(_wrapreduction)\n",
            "    15405    0.310    0.000    7.737    0.001 /usr/local/lib/python3.9/dist-packages/cupyx/scipy/sparse/csr.py:548(_get_intXslice)\n",
            "   159253    0.296    0.000    0.852    0.000 {method 'any' of 'numpy.generic' objects}\n",
            "\n",
            "\n"
          ]
        }
      ],
      "source": [
        "g = graphistry.nodes(askHN)\n",
        "pr = cProfile.Profile()\n",
        "pr.enable()\n",
        "\n",
        "g2 = g.featurize(X=['title', 'text'], # the features to encode (can add/remove 'text', etc)\n",
        "                y=['score'], # for demonstrative purposes, we include a target -- though this one is not really conditioned on textual features in a straightforward way\n",
        "                model_name='msmarco-distilbert-base-v2', #'paraphrase-MiniLM-L6-v2', etc, from sbert/Huggingface, the text encoding model\n",
        "                min_words = 0, # when 0 forces all X=[..] as textually encoded, higher values would ascertain if a column is textual or not depending on average number of words per column\n",
        "                use_ngrams=False, # set to True if you want ngram features instead (does not make great plots but useful for other situations)\n",
        "                # use_scaler_target='zscale', # for regressive targets\n",
        "                # use_scaler=None, # there are many more settings see `g.featurize?` and `g.umap?` for further options\n",
        "                feature_engine='cu_cat',\n",
        "                 memoize=False,    \n",
        "               )# g2a = g2.umap(engine='cuml')#,feature_engine='cu_cat',memoize=False)\n",
        "\n",
        "pr.disable()\n",
        "stats = Stats(pr)\n",
        "stats.sort_stats('tottime').print_stats(20)\n",
        "\n",
        "with open('aHN_umap_cu_cat.txt', 'w') as stream:\n",
        "    stats = Stats(pr,stream=stream)\n",
        "    stats.sort_stats('tottime').print_stats(20)"
      ],
      "id": "353f72e4-2119-4546-9dcb-45647881ab2d"
    },
    {
      "cell_type": "code",
      "execution_count": 31,
      "metadata": {
        "colab": {
          "base_uri": "https://localhost:8080/"
        },
        "id": "505ed578-f056-4d53-9feb-514f07aa0ca3",
        "outputId": "af09b82e-7250-4a1f-c389-95b654ebc99b"
      },
      "outputs": [
        {
          "output_type": "stream",
          "name": "stdout",
          "text": [
            "Featurizing nodes with feature_engine=dirty_cat\n",
            "Using GPU: dirty_cat\n",
            "         30404485 function calls (30379291 primitive calls) in 117.927 seconds\n",
            "\n",
            "   Ordered by: internal time\n",
            "   List reduced from 1561 to 20 due to restriction <20>\n",
            "\n",
            "   ncalls  tottime  percall  cumtime  percall filename:lineno(function)\n",
            "3656983/3656502   36.575    0.000   44.639    0.000 {built-in method numpy.core._multiarray_umath.implement_array_function}\n",
            "      585   28.521    0.049   67.024    0.115 /usr/local/lib/python3.9/dist-packages/dirty_cat/_gap_encoder.py:1003(_multiplicative_update_h)\n",
            "      240   11.019    0.046   28.277    0.118 /usr/local/lib/python3.9/dist-packages/dirty_cat/_gap_encoder.py:971(_multiplicative_update_w)\n",
            "        6    7.101    1.183    7.101    1.184 /usr/local/lib/python3.9/dist-packages/numpy/lib/arraysetops.py:519(in1d)\n",
            "       14    3.972    0.284   10.082    0.720 /usr/local/lib/python3.9/dist-packages/sklearn/feature_extraction/text.py:1258(_count_vocab)\n",
            "    10080    3.421    0.000    3.421    0.000 {built-in method scipy.sparse._sparsetools.coo_matvec}\n",
            "    68355    3.014    0.000    4.149    0.000 /usr/local/lib/python3.9/dist-packages/sklearn/feature_extraction/text.py:275(_char_ngrams)\n",
            "  3356268    2.668    0.000   39.282    0.000 <__array_function__ internals>:177(dot)\n",
            "       82    2.021    0.025    2.021    0.025 {built-in method scipy.sparse._sparsetools.csc_tocsr}\n",
            "   148636    1.677    0.000    3.635    0.000 /usr/local/lib/python3.9/dist-packages/scipy/sparse/_sputils.py:147(get_index_dtype)\n",
            "    73756    1.550    0.000    4.289    0.000 /usr/local/lib/python3.9/dist-packages/scipy/sparse/_compressed.py:136(check_format)\n",
            "      240    1.097    0.005    1.593    0.007 /usr/local/lib/python3.9/dist-packages/dirty_cat/_gap_encoder.py:961(_rescale_W)\n",
            " 12473437    1.027    0.000    1.027    0.000 {method 'append' of 'list' objects}\n",
            "     1607    0.812    0.001    0.812    0.001 {built-in method numpy.zeros}\n",
            "      240    0.761    0.003    1.033    0.004 /usr/local/lib/python3.9/dist-packages/scipy/sparse/_compressed.py:365(multiply)\n",
            "   222544    0.758    0.000    0.758    0.000 {built-in method numpy.array}\n",
            "73756/73674    0.754    0.000   11.255    0.000 /usr/local/lib/python3.9/dist-packages/scipy/sparse/_compressed.py:26(__init__)\n",
            "   297286    0.746    0.000    0.746    0.000 /usr/local/lib/python3.9/dist-packages/numpy/core/getlimits.py:647(__init__)\n",
            "     4115    0.716    0.000    0.716    0.000 {method 'reduce' of 'numpy.ufunc' objects}\n",
            "  3356268    0.600    0.000    0.600    0.000 /usr/local/lib/python3.9/dist-packages/numpy/core/multiarray.py:736(dot)\n",
            "\n",
            "\n"
          ]
        }
      ],
      "source": [
        "g = graphistry.nodes(askHN)\n",
        "pr = cProfile.Profile()\n",
        "pr.enable()\n",
        "\n",
        "\n",
        "g2 = g.featurize(X=['title', 'text'], # the features to encode (can add/remove 'text', etc)\n",
        "                y=['score'], # for demonstrative purposes, we include a target -- though this one is not really conditioned on textual features in a straightforward way\n",
        "                model_name='msmarco-distilbert-base-v2', #'paraphrase-MiniLM-L6-v2', etc, from sbert/Huggingface, the text encoding model\n",
        "                min_words = 0, # when 0 forces all X=[..] as textually encoded, higher values would ascertain if a column is textual or not depending on average number of words per column\n",
        "                use_ngrams=False, # set to True if you want ngram features instead (does not make great plots but useful for other situations)\n",
        "                # use_scaler_target='zscale', # for regressive targets\n",
        "                # use_scaler=None, # there are many more settings see `g.featurize?` and `g.umap?` for further options\n",
        "                feature_engine='dirty_cat',\n",
        "                 memoize=False,    \n",
        "               )# g3a = g3.umap(engine='cuml')#,feature_engine='cu_cat',memoize=False)\n",
        "\n",
        "pr.disable()\n",
        "stats = Stats(pr)\n",
        "stats.sort_stats('tottime').print_stats(20)\n",
        "\n",
        "with open('aHN_umap_dirtycat_3k.txt', 'w') as stream:\n",
        "    stats = Stats(pr,stream=stream)\n",
        "    stats.sort_stats('tottime').print_stats(20)"
      ],
      "id": "505ed578-f056-4d53-9feb-514f07aa0ca3"
    },
    {
      "cell_type": "code",
      "execution_count": null,
      "metadata": {
        "id": "hX157ptIIaXK"
      },
      "outputs": [],
      "source": [],
      "id": "hX157ptIIaXK"
    },
    {
      "cell_type": "code",
      "source": [
        "from google.colab import drive\n",
        "drive.mount('/content/drive')"
      ],
      "metadata": {
        "colab": {
          "base_uri": "https://localhost:8080/"
        },
        "id": "0Z2UgS6rrxrg",
        "outputId": "f1c3ef7c-457f-4d36-c2eb-3092c02c3ead"
      },
      "id": "0Z2UgS6rrxrg",
      "execution_count": 32,
      "outputs": [
        {
          "output_type": "stream",
          "name": "stdout",
          "text": [
            "Mounted at /content/drive\n"
          ]
        }
      ]
    },
    {
      "cell_type": "code",
      "source": [
        "!cp *.txt /content/drive/MyDrive/graphistry"
      ],
      "metadata": {
        "id": "yXn_gejArvIx"
      },
      "id": "yXn_gejArvIx",
      "execution_count": 33,
      "outputs": []
    },
    {
      "cell_type": "code",
      "source": [],
      "metadata": {
        "id": "ur_EggmC1Bcw"
      },
      "id": "ur_EggmC1Bcw",
      "execution_count": null,
      "outputs": []
    }
  ],
  "metadata": {
    "accelerator": "GPU",
    "colab": {
      "provenance": [],
      "include_colab_link": true
    },
    "gpuClass": "standard",
    "kernelspec": {
      "display_name": "Python 3 (ipykernel)",
      "language": "python",
      "name": "python3"
    },
    "language_info": {
      "codemirror_mode": {
        "name": "ipython",
        "version": 3
      },
      "file_extension": ".py",
      "mimetype": "text/x-python",
      "name": "python",
      "nbconvert_exporter": "python",
      "pygments_lexer": "ipython3",
      "version": "3.8.13"
    }
  },
  "nbformat": 4,
  "nbformat_minor": 5
}