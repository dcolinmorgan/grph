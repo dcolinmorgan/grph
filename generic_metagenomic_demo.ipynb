{
  "cells": [
    {
      "cell_type": "markdown",
      "metadata": {
        "id": "view-in-github",
        "colab_type": "text"
      },
      "source": [
        "<a href=\"https://colab.research.google.com/github/dcolinmorgan/grph/blob/main/generic_metagenomic_demo.ipynb\" target=\"_parent\"><img src=\"https://colab.research.google.com/assets/colab-badge.svg\" alt=\"Open In Colab\"/></a>"
      ]
    },
    {
      "cell_type": "markdown",
      "source": [
        "# Tutorial: Quick metagenomic analysis using GPU UMAP analysis & visualization"
      ],
      "metadata": {
        "id": "ozrca88hza85"
      }
    },
    {
      "cell_type": "markdown",
      "source": [
        "Using GPU-accelerated UMAP analysis & visualization, metagenomic samples can be compared faster and much more easily explored.\n",
        "\n",
        "*   Task: Analyze metagenomic samples for similarity\n",
        "*   Data: 10 samples\n",
        "*   [data](https://figshare.scilifelab.se/articles/dataset/Metagenomic_dataset_from_Swedish_urban_lakes/22270225?file=39602290)\n",
        "*   [paper](https://pubmed.ncbi.nlm.nih.gov/15560821/)\n",
        "\n",
        "**Insight/ Result:**\n",
        "\n",
        "over XXx faster for entire\n",
        "Offers more insight when static plot would otherwise fail\n",
        "(See also: CPU baseline)"
      ],
      "metadata": {
        "id": "tLRHg2VEzoYy"
      }
    },
    {
      "cell_type": "markdown",
      "metadata": {
        "id": "PjnS_PCWaClg"
      },
      "source": [
        "# Setup\n",
        "\n",
        "(install cuda packages first)"
      ]
    },
    {
      "cell_type": "code",
      "execution_count": null,
      "metadata": {
        "id": "JTzHVRgEcDUV"
      },
      "outputs": [],
      "source": [
        "!pip install graphistry[ai]\n",
        "!pip install dirty_cat umap-learn\n",
        "import umap, dirty_cat\n",
        "!pip install Biopython"
      ]
    },
    {
      "cell_type": "markdown",
      "source": [
        "# import /configure\n",
        "\n",
        "get a free api-key at https://www.graphistry.com/\n"
      ],
      "metadata": {
        "id": "HK_8_7UB0mhx"
      }
    },
    {
      "cell_type": "code",
      "source": [
        "import pandas as pd\n",
        "import graphistry\n",
        "\n",
        "graphistry.register(api=3,protocol=\"https\", server=\"hub.graphistry.com\", username='dcolinmorgan', password='fXjJnkE3Gik6BWy') ## key id, secret key\n",
        "\n",
        "# graphistry.register(api=3,protocol=\"https\", server=\"hub.graphistry.com\", username='dcolinmorgan', password='***') ## key id, secret key\n",
        "graphistry.__version__"
      ],
      "metadata": {
        "id": "i42QrQ_ejC4h"
      },
      "execution_count": null,
      "outputs": []
    },
    {
      "cell_type": "markdown",
      "source": [
        "# Data Download & Description"
      ],
      "metadata": {
        "id": "Dd_4UZYz0zGr"
      }
    },
    {
      "cell_type": "code",
      "execution_count": null,
      "metadata": {
        "id": "yHjo7u1OUeqQ"
      },
      "outputs": [],
      "source": [
        "# !wget https://figshare.scilifelab.se/ndownloader/files/39602290\n",
        "!unzip -qq /content/39602290\n",
        "# !wget https://figshare.scilifelab.se/ndownloader/files/39602299"
      ]
    },
    {
      "cell_type": "code",
      "execution_count": null,
      "metadata": {
        "id": "T0fFgMnu97T2",
        "colab": {
          "base_uri": "https://localhost:8080/"
        },
        "outputId": "2a3ac320-f263-403f-96aa-feebb43d1990"
      },
      "outputs": [
        {
          "output_type": "stream",
          "name": "stdout",
          "text": [
            ">Sample_101_S75-bin_1-k141_1338904_length_14014_cov_309.3572\n",
            "AATCACGCGTACGCCCGCACCTTGAACCGCTTTGCCGCTGCCCCCACATCATCCTCACGAAAGGTACCTT\n",
            "TTCATGGAAAAAATTATCAAATCCGATGCGGAATGGCGGGCCGTATTGGACCCCGTTCAATATCATGTCC\n",
            "TACGGGAGTCCGGCACTGAACGCGCCTTTGCCGGCGCGCTGACCGATGAAAAGCGCGAAGGCGAATTTCG\n",
            "CTGCGCCGGCTGTGAGACTGCCCTGTTTGCTTCGGACACGAAATTTGACAGCGGTTCGGGTTGGCCAAGC\n",
            "TTTACCGCGCCCGCAGACAATGATGCTGTTGAAGAGCACCGCGATACATCGCACGGCATGGTCCGCATTG\n",
            "AAGTGCGCTGTGCCGCATGTGAGGGGCATTTGGGCCATGTCTTCCCCGATGGGCCTGGACCGACTGGCCT\n",
            "GCGTTACTGCATCAACAGCGCCGCGCTTGCATTCGATCCTGAATAACAAGGCGCTTGTCGGCGGTTACGG\n",
            "GACTGGGTAACACTCGGGCCATGGCACGCGCGCGCAAGATTTCGAAAGAACGTGGCCCAATGGCAACATG\n",
            "GATACTCCGCATGGTCAAAGCGGGCGTCATCGCGGCGTTGCTGGGCGTCATGGTTCTTGGCATTTTTGTC\n"
          ]
        }
      ],
      "source": [
        "!head /content/All_MAGs/Sample_101_S75_bin_1.fa"
      ]
    },
    {
      "cell_type": "markdown",
      "source": [
        "# Read in 10 fasta to compare"
      ],
      "metadata": {
        "id": "9NuS4qjh04i2"
      }
    },
    {
      "cell_type": "code",
      "execution_count": null,
      "metadata": {
        "id": "fjNxESumcdBq"
      },
      "outputs": [],
      "source": [
        "from Bio import SeqIO\n",
        "import glob,os\n",
        "import pandas as pd\n",
        "B=pd.DataFrame()\n",
        "for i in glob.glob('/content/All_MAGs/*.fa')[0:9]:\n",
        "    # j=os.path.basename(i)\n",
        "    fasta_sequences = SeqIO.parse(open(i),'fasta')\n",
        "    identifiers = []\n",
        "    sequences = []\n",
        "    for fasta in fasta_sequences:\n",
        "        name, sequence = fasta.id, str(fasta.seq)\n",
        "        identifiers.append(name)\n",
        "        sequences.append(sequence)\n",
        "\n",
        "    A=pd.DataFrame([identifiers,sequences]).T\n",
        "    A.columns=['ID','seq']\n",
        "    A.dropna(inplace=True)\n",
        "    B=B.append(A)\n",
        "    # A['ID']#=A.ID.str.split('-')[0:1]\n",
        "# B['ID']=B['ID'].str.split('-').str[0]+'_'+B['ID'].str.split('-').str[1]#.cat()\n",
        "B['ID']=B.ID.str.split('_length').str[0]\n",
        "B.index=B.ID"
      ]
    },
    {
      "cell_type": "code",
      "source": [
        "B"
      ],
      "metadata": {
        "colab": {
          "base_uri": "https://localhost:8080/",
          "height": 455
        },
        "id": "43IUYQ55ascF",
        "outputId": "3b72d414-16c3-4e54-e13e-6cec091e1a3a"
      },
      "execution_count": null,
      "outputs": [
        {
          "output_type": "execute_result",
          "data": {
            "text/plain": [
              "                                                                      ID  \\\n",
              "ID                                                                         \n",
              "Sample_110_S81-bin_116-k141_613475    Sample_110_S81-bin_116-k141_613475   \n",
              "Sample_110_S81-bin_116-k141_1652364  Sample_110_S81-bin_116-k141_1652364   \n",
              "Sample_110_S81-bin_116-k141_719215    Sample_110_S81-bin_116-k141_719215   \n",
              "Sample_110_S81-bin_116-k141_2258219  Sample_110_S81-bin_116-k141_2258219   \n",
              "Sample_110_S81-bin_116-k141_1022213  Sample_110_S81-bin_116-k141_1022213   \n",
              "...                                                                  ...   \n",
              "Sample_105_S79-bin_9-k141_291995        Sample_105_S79-bin_9-k141_291995   \n",
              "Sample_105_S79-bin_9-k141_2043216      Sample_105_S79-bin_9-k141_2043216   \n",
              "Sample_105_S79-bin_9-k141_640011        Sample_105_S79-bin_9-k141_640011   \n",
              "Sample_105_S79-bin_9-k141_906856        Sample_105_S79-bin_9-k141_906856   \n",
              "Sample_105_S79-bin_9-k141_1198946      Sample_105_S79-bin_9-k141_1198946   \n",
              "\n",
              "                                                                                   seq  \n",
              "ID                                                                                      \n",
              "Sample_110_S81-bin_116-k141_613475   GCGTAGTCTGACAGGTTCGTGCCAAATGAATCCCTTTTTCGAACTG...  \n",
              "Sample_110_S81-bin_116-k141_1652364  GGTTAGTAGTCCCCAAAAAATTGCGCTGAGCAATGCAGCAAAGATT...  \n",
              "Sample_110_S81-bin_116-k141_719215   AGGCCTAACCAAATCAGTGCTAAAGTATTCATGGCGTGTCTCCCGA...  \n",
              "Sample_110_S81-bin_116-k141_2258219  ATTTTCGCGAATTGTTGTGCGGTTTCTACGCTTATTTCATGGGTAT...  \n",
              "Sample_110_S81-bin_116-k141_1022213  ATGAGTTTTAGGATTTAATGCTACTGACTATCAGCCCCAGCCATCC...  \n",
              "...                                                                                ...  \n",
              "Sample_105_S79-bin_9-k141_291995     TTCAATTCATCCATCACCACTTAAGTTTCCTGGATTAGATCAGACA...  \n",
              "Sample_105_S79-bin_9-k141_2043216    CATGCCAACATCGCAATCGCAGCTTCTGGAATCATCGGCATATAAA...  \n",
              "Sample_105_S79-bin_9-k141_640011     AACTTTGATAATCAACGTAGACAATTCCAAAGCGTTTTGCATACCC...  \n",
              "Sample_105_S79-bin_9-k141_906856     TTAAAGCCTGAACAGTTGCAACTAAAAGGTATCCACTCAGAATCTG...  \n",
              "Sample_105_S79-bin_9-k141_1198946    CAGAGAGAATCTATCTACTATGAATCAGATATTTTCTAATCTATAT...  \n",
              "\n",
              "[4850 rows x 2 columns]"
            ],
            "text/html": [
              "\n",
              "  <div id=\"df-05318d86-89d3-4d94-bb08-45b6949d72fc\">\n",
              "    <div class=\"colab-df-container\">\n",
              "      <div>\n",
              "<style scoped>\n",
              "    .dataframe tbody tr th:only-of-type {\n",
              "        vertical-align: middle;\n",
              "    }\n",
              "\n",
              "    .dataframe tbody tr th {\n",
              "        vertical-align: top;\n",
              "    }\n",
              "\n",
              "    .dataframe thead th {\n",
              "        text-align: right;\n",
              "    }\n",
              "</style>\n",
              "<table border=\"1\" class=\"dataframe\">\n",
              "  <thead>\n",
              "    <tr style=\"text-align: right;\">\n",
              "      <th></th>\n",
              "      <th>ID</th>\n",
              "      <th>seq</th>\n",
              "    </tr>\n",
              "    <tr>\n",
              "      <th>ID</th>\n",
              "      <th></th>\n",
              "      <th></th>\n",
              "    </tr>\n",
              "  </thead>\n",
              "  <tbody>\n",
              "    <tr>\n",
              "      <th>Sample_110_S81-bin_116-k141_613475</th>\n",
              "      <td>Sample_110_S81-bin_116-k141_613475</td>\n",
              "      <td>GCGTAGTCTGACAGGTTCGTGCCAAATGAATCCCTTTTTCGAACTG...</td>\n",
              "    </tr>\n",
              "    <tr>\n",
              "      <th>Sample_110_S81-bin_116-k141_1652364</th>\n",
              "      <td>Sample_110_S81-bin_116-k141_1652364</td>\n",
              "      <td>GGTTAGTAGTCCCCAAAAAATTGCGCTGAGCAATGCAGCAAAGATT...</td>\n",
              "    </tr>\n",
              "    <tr>\n",
              "      <th>Sample_110_S81-bin_116-k141_719215</th>\n",
              "      <td>Sample_110_S81-bin_116-k141_719215</td>\n",
              "      <td>AGGCCTAACCAAATCAGTGCTAAAGTATTCATGGCGTGTCTCCCGA...</td>\n",
              "    </tr>\n",
              "    <tr>\n",
              "      <th>Sample_110_S81-bin_116-k141_2258219</th>\n",
              "      <td>Sample_110_S81-bin_116-k141_2258219</td>\n",
              "      <td>ATTTTCGCGAATTGTTGTGCGGTTTCTACGCTTATTTCATGGGTAT...</td>\n",
              "    </tr>\n",
              "    <tr>\n",
              "      <th>Sample_110_S81-bin_116-k141_1022213</th>\n",
              "      <td>Sample_110_S81-bin_116-k141_1022213</td>\n",
              "      <td>ATGAGTTTTAGGATTTAATGCTACTGACTATCAGCCCCAGCCATCC...</td>\n",
              "    </tr>\n",
              "    <tr>\n",
              "      <th>...</th>\n",
              "      <td>...</td>\n",
              "      <td>...</td>\n",
              "    </tr>\n",
              "    <tr>\n",
              "      <th>Sample_105_S79-bin_9-k141_291995</th>\n",
              "      <td>Sample_105_S79-bin_9-k141_291995</td>\n",
              "      <td>TTCAATTCATCCATCACCACTTAAGTTTCCTGGATTAGATCAGACA...</td>\n",
              "    </tr>\n",
              "    <tr>\n",
              "      <th>Sample_105_S79-bin_9-k141_2043216</th>\n",
              "      <td>Sample_105_S79-bin_9-k141_2043216</td>\n",
              "      <td>CATGCCAACATCGCAATCGCAGCTTCTGGAATCATCGGCATATAAA...</td>\n",
              "    </tr>\n",
              "    <tr>\n",
              "      <th>Sample_105_S79-bin_9-k141_640011</th>\n",
              "      <td>Sample_105_S79-bin_9-k141_640011</td>\n",
              "      <td>AACTTTGATAATCAACGTAGACAATTCCAAAGCGTTTTGCATACCC...</td>\n",
              "    </tr>\n",
              "    <tr>\n",
              "      <th>Sample_105_S79-bin_9-k141_906856</th>\n",
              "      <td>Sample_105_S79-bin_9-k141_906856</td>\n",
              "      <td>TTAAAGCCTGAACAGTTGCAACTAAAAGGTATCCACTCAGAATCTG...</td>\n",
              "    </tr>\n",
              "    <tr>\n",
              "      <th>Sample_105_S79-bin_9-k141_1198946</th>\n",
              "      <td>Sample_105_S79-bin_9-k141_1198946</td>\n",
              "      <td>CAGAGAGAATCTATCTACTATGAATCAGATATTTTCTAATCTATAT...</td>\n",
              "    </tr>\n",
              "  </tbody>\n",
              "</table>\n",
              "<p>4850 rows × 2 columns</p>\n",
              "</div>\n",
              "      <button class=\"colab-df-convert\" onclick=\"convertToInteractive('df-05318d86-89d3-4d94-bb08-45b6949d72fc')\"\n",
              "              title=\"Convert this dataframe to an interactive table.\"\n",
              "              style=\"display:none;\">\n",
              "        \n",
              "  <svg xmlns=\"http://www.w3.org/2000/svg\" height=\"24px\"viewBox=\"0 0 24 24\"\n",
              "       width=\"24px\">\n",
              "    <path d=\"M0 0h24v24H0V0z\" fill=\"none\"/>\n",
              "    <path d=\"M18.56 5.44l.94 2.06.94-2.06 2.06-.94-2.06-.94-.94-2.06-.94 2.06-2.06.94zm-11 1L8.5 8.5l.94-2.06 2.06-.94-2.06-.94L8.5 2.5l-.94 2.06-2.06.94zm10 10l.94 2.06.94-2.06 2.06-.94-2.06-.94-.94-2.06-.94 2.06-2.06.94z\"/><path d=\"M17.41 7.96l-1.37-1.37c-.4-.4-.92-.59-1.43-.59-.52 0-1.04.2-1.43.59L10.3 9.45l-7.72 7.72c-.78.78-.78 2.05 0 2.83L4 21.41c.39.39.9.59 1.41.59.51 0 1.02-.2 1.41-.59l7.78-7.78 2.81-2.81c.8-.78.8-2.07 0-2.86zM5.41 20L4 18.59l7.72-7.72 1.47 1.35L5.41 20z\"/>\n",
              "  </svg>\n",
              "      </button>\n",
              "      \n",
              "  <style>\n",
              "    .colab-df-container {\n",
              "      display:flex;\n",
              "      flex-wrap:wrap;\n",
              "      gap: 12px;\n",
              "    }\n",
              "\n",
              "    .colab-df-convert {\n",
              "      background-color: #E8F0FE;\n",
              "      border: none;\n",
              "      border-radius: 50%;\n",
              "      cursor: pointer;\n",
              "      display: none;\n",
              "      fill: #1967D2;\n",
              "      height: 32px;\n",
              "      padding: 0 0 0 0;\n",
              "      width: 32px;\n",
              "    }\n",
              "\n",
              "    .colab-df-convert:hover {\n",
              "      background-color: #E2EBFA;\n",
              "      box-shadow: 0px 1px 2px rgba(60, 64, 67, 0.3), 0px 1px 3px 1px rgba(60, 64, 67, 0.15);\n",
              "      fill: #174EA6;\n",
              "    }\n",
              "\n",
              "    [theme=dark] .colab-df-convert {\n",
              "      background-color: #3B4455;\n",
              "      fill: #D2E3FC;\n",
              "    }\n",
              "\n",
              "    [theme=dark] .colab-df-convert:hover {\n",
              "      background-color: #434B5C;\n",
              "      box-shadow: 0px 1px 3px 1px rgba(0, 0, 0, 0.15);\n",
              "      filter: drop-shadow(0px 1px 2px rgba(0, 0, 0, 0.3));\n",
              "      fill: #FFFFFF;\n",
              "    }\n",
              "  </style>\n",
              "\n",
              "      <script>\n",
              "        const buttonEl =\n",
              "          document.querySelector('#df-05318d86-89d3-4d94-bb08-45b6949d72fc button.colab-df-convert');\n",
              "        buttonEl.style.display =\n",
              "          google.colab.kernel.accessAllowed ? 'block' : 'none';\n",
              "\n",
              "        async function convertToInteractive(key) {\n",
              "          const element = document.querySelector('#df-05318d86-89d3-4d94-bb08-45b6949d72fc');\n",
              "          const dataTable =\n",
              "            await google.colab.kernel.invokeFunction('convertToInteractive',\n",
              "                                                     [key], {});\n",
              "          if (!dataTable) return;\n",
              "\n",
              "          const docLinkHtml = 'Like what you see? Visit the ' +\n",
              "            '<a target=\"_blank\" href=https://colab.research.google.com/notebooks/data_table.ipynb>data table notebook</a>'\n",
              "            + ' to learn more about interactive tables.';\n",
              "          element.innerHTML = '';\n",
              "          dataTable['output_type'] = 'display_data';\n",
              "          await google.colab.output.renderOutput(dataTable, element);\n",
              "          const docLink = document.createElement('div');\n",
              "          docLink.innerHTML = docLinkHtml;\n",
              "          element.appendChild(docLink);\n",
              "        }\n",
              "      </script>\n",
              "    </div>\n",
              "  </div>\n",
              "  "
            ]
          },
          "metadata": {},
          "execution_count": 12
        }
      ]
    },
    {
      "cell_type": "markdown",
      "source": [
        "## install [HUMAnN 3](https://huttenhower.sph.harvard.edu/humann), a method for efficiently and accurately profiling the abundance of microbial metabolic pathways and other molecular functions from metagenomic or metatranscriptomic sequencing data."
      ],
      "metadata": {
        "id": "fDvymRFjHPNB"
      }
    },
    {
      "cell_type": "code",
      "source": [
        "# !pip install humann --no-binary :all:\n",
        "!pip install metaphlan"
      ],
      "metadata": {
        "id": "yIeeDXPBHN6D"
      },
      "execution_count": null,
      "outputs": []
    },
    {
      "cell_type": "code",
      "source": [
        "### !humann_databases --download utility_mapping full /path/to/databases --update-config yes\n",
        "\n",
        "# !humann_test\n",
        "\n",
        "# !wget https://github.com/biobakery/humann/raw/master/examples/demo.fastq.gz\n",
        "!humann -i demo.fastq.gz -o sample_results"
      ],
      "metadata": {
        "id": "TnYmqPJ-bHPa"
      },
      "execution_count": null,
      "outputs": []
    },
    {
      "cell_type": "code",
      "source": [],
      "metadata": {
        "id": "WPc33BrXY3Ul"
      },
      "execution_count": null,
      "outputs": []
    },
    {
      "cell_type": "code",
      "source": [
        "!humann -i /content/All_MAGs/Sample_101_S75_bin_1.fa -o test_out"
      ],
      "metadata": {
        "colab": {
          "base_uri": "https://localhost:8080/"
        },
        "id": "XAtq7G_waxLd",
        "outputId": "0f421939-9140-412c-de10-4d085bbc4ce3"
      },
      "execution_count": 26,
      "outputs": [
        {
          "output_type": "stream",
          "name": "stdout",
          "text": [
            "Output files will be written to: /content/test_out\n",
            "\n",
            "Running metaphlan ........\n",
            "\n",
            "CRITICAL ERROR: Error executing: /usr/local/bin/metaphlan /content/All_MAGs/Sample_101_S75_bin_1.fa -t rel_ab -o /content/test_out/Sample_101_S75_bin_1_humann_temp/Sample_101_S75_bin_1_metaphlan_bugs_list.tsv --input_type fasta --bowtie2out /content/test_out/Sample_101_S75_bin_1_humann_temp/Sample_101_S75_bin_1_metaphlan_bowtie2.txt\n",
            "\n",
            "Error message returned from metaphlan :\n",
            "(ERR): bowtie2-align died with signal 9 (KILL) \n",
            "Traceback (most recent call last):\n",
            "  File \"/usr/local/bin/read_fastx.py\", line 8, in <module>\n",
            "    sys.exit(main())\n",
            "  File \"/usr/local/lib/python3.10/dist-packages/metaphlan/utils/read_fastx.py\", line 168, in main\n",
            "    f_nreads, f_avg_read_length = read_and_write_raw(f, opened=False, min_len=min_len, prefix_id=prefix_id)\n",
            "  File \"/usr/local/lib/python3.10/dist-packages/metaphlan/utils/read_fastx.py\", line 130, in read_and_write_raw\n",
            "    nreads, avg_read_length = read_and_write_raw_int(inf, min_len=min_len, prefix_id=prefix_id)\n",
            "  File \"/usr/local/lib/python3.10/dist-packages/metaphlan/utils/read_fastx.py\", line 108, in read_and_write_raw_int\n",
            "    _ = sys.stdout.write(\n",
            "BrokenPipeError: [Errno 32] Broken pipe\n",
            "Exception ignored in: <_io.TextIOWrapper name='<stdout>' mode='w' encoding='utf-8'>\n",
            "BrokenPipeError: [Errno 32] Broken pipe\n",
            "\n"
          ]
        }
      ]
    },
    {
      "cell_type": "code",
      "execution_count": null,
      "metadata": {
        "id": "6Zoo17Ui9zxh"
      },
      "outputs": [],
      "source": [
        "\n",
        "# B.drop(columns=['ID'],inplace=True)\n",
        "g = graphistry.nodes(B)\n",
        "g2=g.umap(feature_engine='cu_cat',engine='cuml')\n",
        "\n",
        "emb2=g2._node_embedding\n",
        "g222=graphistry.nodes(emb2.reset_index(),'ID').edges(g2._edges,'_src_implicit','_dst_implicit').bind(point_x=\"x\",point_y=\"y\").settings(url_params={\"play\":0})\n",
        "g222.plot()"
      ]
    },
    {
      "cell_type": "markdown",
      "source": [
        "# Compare clustering distances to family/genus labels (gold standards)"
      ],
      "metadata": {
        "id": "KGzGwBre0-Ic"
      }
    },
    {
      "cell_type": "code",
      "source": [
        "meta=pd.read_excel('/content/39602299')\n",
        "A=meta.pplacer_taxonomy.str.split(';', expand=True)\n",
        "A.index=meta.Bin_name\n",
        "A"
      ],
      "metadata": {
        "id": "l0cG1is6kt77"
      },
      "execution_count": null,
      "outputs": []
    },
    {
      "cell_type": "code",
      "execution_count": null,
      "metadata": {
        "id": "hKMX5p6P9z0H"
      },
      "outputs": [],
      "source": [
        "stopppp"
      ]
    },
    {
      "cell_type": "code",
      "execution_count": null,
      "metadata": {
        "id": "_8luTkhLg1N3"
      },
      "outputs": [],
      "source": []
    },
    {
      "cell_type": "code",
      "execution_count": null,
      "metadata": {
        "id": "rBDnF-Rwg1P7"
      },
      "outputs": [],
      "source": []
    },
    {
      "cell_type": "markdown",
      "source": [
        "# bio-ml dataset\n",
        "\n",
        "\n",
        "1.   [3 subjects x 10 time points](\n",
        "https://www.ebi.ac.uk/ena/browser/view/PRJNA544527)\n",
        "\n",
        "2.  [metadata](\n",
        "https://static-content.springer.com/esm/art%3A10.1038%2Fs41591-019-0559-3/MediaObjects/41591_2019_559_MOESM3_ESM.xlsx)\n",
        "\n"
      ],
      "metadata": {
        "id": "_Y1VlCGy4_FR"
      }
    },
    {
      "cell_type": "code",
      "execution_count": null,
      "metadata": {
        "id": "rmh8spJ-g1SS"
      },
      "outputs": [],
      "source": []
    },
    {
      "cell_type": "markdown",
      "metadata": {
        "id": "eRvdJItA9wFm"
      },
      "source": [
        "#try #2"
      ]
    },
    {
      "cell_type": "markdown",
      "metadata": {
        "id": "Tp9kmly99uIU"
      },
      "source": [
        "[pull data](https://trace.ncbi.nlm.nih.gov/Traces/index.html?view=run_browser&acc=SRR6747711&display=data-access)\n",
        "from [papers](https://www.sciencedirect.com/science/article/pii/S0160412019321774#ec-research-data) [and 2](https://pubs.acs.org/doi/10.1021/acs.est.8b03446)"
      ]
    },
    {
      "cell_type": "code",
      "execution_count": null,
      "metadata": {
        "id": "60QChNEeaBxr"
      },
      "outputs": [],
      "source": []
    },
    {
      "cell_type": "code",
      "execution_count": null,
      "metadata": {
        "id": "no-joCMW9zCr"
      },
      "outputs": [],
      "source": [
        "# !wget https://sra-pub-run-odp.s3.amazonaws.com/sra/SRR6747711/SRR6747711\n",
        "# !wget AWS\ts3://sra-pub-src-5/SRR6747711/161002_I137_FCH7YT3BBXX_L1_wHAXPI035554-18_1.fq.gz\n",
        "\n",
        "import locale\n",
        "def getpreferredencoding(do_setlocale = True):\n",
        "    return \"UTF-8\"\n",
        "locale.getpreferredencoding = getpreferredencoding\n",
        "\n",
        "# with open(path, 'rb') as f:\n",
        "#   contents = f.read()\n",
        "\n",
        "from Bio import SeqIO\n",
        "import gzip\n",
        "\n",
        "reads = []\n",
        "count = 0\n",
        "    # for record in SeqIO.parse(handle, \"fasta\"):\n",
        "    #     print(record.id)\n",
        "# with gzip.open(\"39602290\", \"rt\") as handle:\n",
        "for rec in SeqIO.parse('39602290', \"fastq\"):\n",
        "    if count <500: # only read in the first 500 reads to avoid running out of memory\n",
        "        reads.append(rec.seq)\n",
        "    count = count+1\n",
        "\n",
        "# take a look at some of the reads\n",
        "reads[0:20]"
      ]
    },
    {
      "cell_type": "markdown",
      "metadata": {
        "id": "lm3WKQ_O90Pw"
      },
      "source": [
        "#try #1"
      ]
    },
    {
      "cell_type": "markdown",
      "metadata": {
        "id": "amHLdnyWPb2I"
      },
      "source": [
        "[pull metagenomic data](https://www.ncbi.nlm.nih.gov/nuccore/2496718099)\n"
      ]
    },
    {
      "cell_type": "code",
      "execution_count": null,
      "metadata": {
        "id": "Uf7PegozP_Nf"
      },
      "outputs": [],
      "source": [
        "# !get https://sra-download.ncbi.nlm.nih.gov/traces/wgs01/wgs_aux/KH/UX/KHUX01/KHUX01.1.fsa_nt.gz\n",
        "# !gunzip KHUX01.1.fsa_nt.gz\n",
        "\n"
      ]
    },
    {
      "cell_type": "code",
      "execution_count": null,
      "metadata": {
        "id": "O9B5mwxUKyd5"
      },
      "outputs": [],
      "source": [
        "from Bio import SeqIO\n",
        "\n",
        "fasta_sequences = SeqIO.parse(open('KHUX01.1.fsa_nt'),'fasta')\n",
        "    name = []\n",
        "    sequences = []\n",
        "    for fasta in fasta_sequences:\n",
        "        name, sequence = fasta.id, str(fasta.seq)\n",
        "        identifiers.append(name)\n",
        "        sequences.append(sequence)"
      ]
    },
    {
      "cell_type": "code",
      "execution_count": null,
      "metadata": {
        "id": "jpJ05iBnOkyn"
      },
      "outputs": [],
      "source": [
        "A=pd.DataFrame([identifiers,sequences]).T\n",
        "A.columns=['ID','seq']\n",
        "A.dropna(inplace=True)"
      ]
    },
    {
      "cell_type": "code",
      "execution_count": null,
      "metadata": {
        "id": "yrC3L_dsOra3"
      },
      "outputs": [],
      "source": [
        "# !pip install -U --force git+https://github.com/graphistry/pygraphistry.git@cudf\n",
        "!pip install graphistry[ai] --quiet"
      ]
    },
    {
      "cell_type": "code",
      "execution_count": null,
      "metadata": {
        "id": "MBfyD0iRPH8Y"
      },
      "outputs": [],
      "source": [
        "import graphistry\n",
        "\n",
        "graphistry.register(api=3,protocol=\"https\", server=\"hub.graphistry.com\", username='dcolinmorgan', password='fXjJnkE3Gik6BWy') ## key id, secret key\n",
        "\n",
        "# graphistry.register(api=3,protocol=\"https\", server=\"hub.graphistry.com\", username='dcolinmorgan', password='***') ## key id, secret key\n",
        "graphistry.__version__"
      ]
    },
    {
      "cell_type": "code",
      "execution_count": null,
      "metadata": {
        "id": "Sem5gsEuQF2p"
      },
      "outputs": [],
      "source": [
        "g = graphistry.nodes(A)\n",
        "g.umap(engine='umap_learn').plot()"
      ]
    },
    {
      "cell_type": "code",
      "execution_count": null,
      "metadata": {
        "id": "HQ2i-gndX94E"
      },
      "outputs": [],
      "source": []
    }
  ],
  "metadata": {
    "colab": {
      "provenance": [],
      "collapsed_sections": [
        "eRvdJItA9wFm",
        "lm3WKQ_O90Pw"
      ],
      "gpuType": "T4",
      "machine_shape": "hm",
      "include_colab_link": true
    },
    "kernelspec": {
      "display_name": "Python 3",
      "name": "python3"
    },
    "language_info": {
      "name": "python"
    }
  },
  "nbformat": 4,
  "nbformat_minor": 0
}