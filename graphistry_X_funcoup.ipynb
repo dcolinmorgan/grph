{
  "nbformat": 4,
  "nbformat_minor": 0,
  "metadata": {
    "colab": {
      "provenance": [],
      "authorship_tag": "ABX9TyN6FZFZEhms17wVuo5UzwK+",
      "include_colab_link": true
    },
    "kernelspec": {
      "name": "python3",
      "display_name": "Python 3"
    },
    "language_info": {
      "name": "python"
    }
  },
  "cells": [
    {
      "cell_type": "markdown",
      "metadata": {
        "id": "view-in-github",
        "colab_type": "text"
      },
      "source": [
        "<a href=\"https://colab.research.google.com/github/dcolinmorgan/grph/blob/main/graphistry_X_funcoup.ipynb\" target=\"_parent\"><img src=\"https://colab.research.google.com/assets/colab-badge.svg\" alt=\"Open In Colab\"/></a>"
      ]
    },
    {
      "cell_type": "code",
      "execution_count": null,
      "metadata": {
        "id": "gwOlFmQMpF2c"
      },
      "outputs": [],
      "source": [
        "# !pip install --extra-index-url=https://pypi.nvidia.com cupy-cu11 # cuml-cu11 cudf-cu11 cugraph-cu11 pylibraft_cu11  # raft_dask_cu11 dask_cudf_cu11 pylibcugraph_cu11 pylibraft_cu11\n"
      ]
    },
    {
      "cell_type": "code",
      "source": [
        "import os\n",
        "from collections import Counter\n",
        "import cProfile\n",
        "import pandas as pd\n",
        "import numpy as np\n",
        "import matplotlib.pyplot as plt\n",
        "from pstats import Stats\n",
        "# import cudf\n",
        "from time import time\n",
        "import warnings\n",
        "warnings.filterwarnings('ignore')\n",
        "\n",
        "pd.set_option('display.max_colwidth', 200)"
      ],
      "metadata": {
        "id": "HXaDixalpr7v"
      },
      "execution_count": 41,
      "outputs": []
    },
    {
      "cell_type": "code",
      "source": [
        "# !pip install git+https://github.com/graphistry/pygraphistry.git@feat/gpu-featurization\n",
        "# !pip install -U git+https://github.com/graphistry/cu-cat.git@DT6\n",
        "# !pip install -e git+https://github.com/dcolinmorgan/cu-cat.git@master#egg=cu-cat\n",
        "!pip install graphistry\n",
        "\n",
        "# !git clone https://github.com/dcolinmorgan/cu-cat.git\n",
        "# os.getcwd()\n",
        "\n",
        "# os.chdir('src/cu-cat')\n",
        "# import cu_cat\n",
        "# os.chdir('../..')"
      ],
      "metadata": {
        "id": "E1WJMbf2pfAC"
      },
      "execution_count": null,
      "outputs": []
    },
    {
      "cell_type": "code",
      "source": [
        "import locale\n",
        "def getpreferredencoding(do_setlocale = True):\n",
        "    return \"UTF-8\"\n",
        "locale.getpreferredencoding = getpreferredencoding"
      ],
      "metadata": {
        "id": "qaGkROYTpr5M"
      },
      "execution_count": 6,
      "outputs": []
    },
    {
      "cell_type": "code",
      "source": [
        "import graphistry\n",
        "\n",
        "graphistry.register(api=3,protocol=\"https\", server=\"hub.graphistry.com\", username='***', password='***') ## key id, secret key\n",
        "graphistry.__version__\n"
      ],
      "metadata": {
        "id": "5kXy3vfvpttr",
        "colab": {
          "base_uri": "https://localhost:8080/",
          "height": 35
        },
        "outputId": "cb75dbb1-1ce8-4183-dde7-5b0a392bda8b"
      },
      "execution_count": 8,
      "outputs": [
        {
          "output_type": "execute_result",
          "data": {
            "text/plain": [
              "'0.29.5+84.gf0eb1bf'"
            ],
            "application/vnd.google.colaboratory.intrinsic+json": {
              "type": "string"
            }
          },
          "metadata": {},
          "execution_count": 8
        }
      ]
    },
    {
      "cell_type": "markdown",
      "source": [
        "# select species and load full network"
      ],
      "metadata": {
        "id": "btiVYrD7qp-V"
      }
    },
    {
      "cell_type": "code",
      "source": [
        "species='H.sapiens'"
      ],
      "metadata": {
        "id": "Co_3dS5hp5a4"
      },
      "execution_count": 9,
      "outputs": []
    },
    {
      "cell_type": "code",
      "source": [
        "edges_df = pd.read_csv('https://funcoup.org/downloads/download.action?type=network&instanceID=24480085&fileName=FC5.0_'+species+'_full.gz', sep='\\t')"
      ],
      "metadata": {
        "id": "fulD-PYVpwpK"
      },
      "execution_count": 16,
      "outputs": []
    },
    {
      "cell_type": "code",
      "source": [
        "edges_df.replace({'ENSG00000':''},regex=True,inplace=True)"
      ],
      "metadata": {
        "id": "WMhGD2UaxES-"
      },
      "execution_count": 36,
      "outputs": []
    },
    {
      "cell_type": "code",
      "source": [
        "edges_df.columns=edges_df.columns.str.split(':').str[1]\n",
        "\n",
        "nodes_df = pd.DataFrame({'n': pd.concat([edges_df['Gene1'], edges_df['Gene2']]).unique()})\n",
        "n = len(nodes_df)\n",
        "\n",
        "nodes_df['ind'] = nodes_df.index\n",
        "nodes_df['nc'] = nodes_df['ind'].apply(lambda v: 0x01000000 * round(255 * v / n,2))\n"
      ],
      "metadata": {
        "id": "b1CXnc35vq-o"
      },
      "execution_count": 37,
      "outputs": []
    },
    {
      "cell_type": "markdown",
      "source": [
        "#plot network"
      ],
      "metadata": {
        "id": "RJboGTsWqqdL"
      }
    },
    {
      "cell_type": "code",
      "source": [
        "\n",
        "g0 = graphistry.edges(edges_df[['Gene1','Gene2','FBS_max']])\\\n",
        "                .bind(source=\"Gene1\", destination=\"Gene2\", edge_weight='FBS_max')\\\n",
        "                .nodes(nodes_df)\\\n",
        "                .bind(node='n', point_color='nc')\\\n",
        "                .settings(url_params={\n",
        "                    'pointSize': 0.3,\n",
        "                    'splashAfter': 'false',\n",
        "                    'bg': '%23' + 'f0f2f6'\n",
        "                })\n",
        "\n",
        "g0.plot()"
      ],
      "metadata": {
        "id": "ctMczPBspwr3",
        "colab": {
          "base_uri": "https://localhost:8080/",
          "height": 543
        },
        "outputId": "a44421c9-f8c9-4602-80be-0a1c0d9662a2"
      },
      "execution_count": 38,
      "outputs": [
        {
          "output_type": "execute_result",
          "data": {
            "text/plain": [
              "<IPython.core.display.HTML object>"
            ],
            "text/html": [
              "\n",
              "            <iframe id=\"0251c87f-bfbb-485b-90e5-85cd9bf4473a\" src=\"https://hub.graphistry.com/graph/graph.html?dataset=13dc13a5f20f4583a43208134aff6599&type=arrow&viztoken=410b7c63-920f-4d55-bb55-ee047ce4bbc7&usertag=606039be-pygraphistry-0.29.5+84.gf0eb1bf&splashAfter=1697800193&info=true&pointSize=0.3&splashAfter=false&bg=%23f0f2f6\"\n",
              "                    allowfullscreen=\"true\" webkitallowfullscreen=\"true\" mozallowfullscreen=\"true\"\n",
              "                    oallowfullscreen=\"true\" msallowfullscreen=\"true\"\n",
              "                    style=\"width:100%; height:500px; border: 1px solid #DDD; overflow: hidden\"\n",
              "                    \n",
              "            >\n",
              "            </iframe>\n",
              "        \n",
              "            <script>\n",
              "                try {\n",
              "                  $(\"#0251c87f-bfbb-485b-90e5-85cd9bf4473a\").bind('mousewheel', function(e) { e.preventDefault(); });\n",
              "                } catch (e) { console.error('exn catching scroll', e); }\n",
              "            </script>\n",
              "        "
            ]
          },
          "metadata": {},
          "execution_count": 38
        }
      ]
    },
    {
      "cell_type": "markdown",
      "source": [
        "# plot UMAP of full network"
      ],
      "metadata": {
        "id": "5Q4hnQ2nqfhD"
      }
    },
    {
      "cell_type": "code",
      "source": [
        "g00 = graphistry.nodes(edges_df)\\\n",
        "                .bind(source=\"Gene1\", destination=\"Gene2\")\\\n",
        "                .settings(url_params={\n",
        "                    'pointSize': 0.3,\n",
        "                    'splashAfter': 'false',\n",
        "                    'bg': '%23' + 'f0f2f6'\n",
        "                })\n",
        "\n",
        "t=time()\n",
        "g11=g00.umap(engine='cuml',memoize=True) ## install cuml above\n",
        "print(time()-t)\n",
        "\n",
        "\n",
        "emb2=g1._node_embedding\n",
        "graphistry.nodes(emb2.reset_index(),'index').edges(g11._edges,'_src_implicit','_dst_implicit').bind(point_x=\"x\",point_y=\"y\").settings(url_params={\"play\":0}).addStyle(bg={'color': '#eee'}).plot()\n",
        "# g1.plot()\n",
        "\n",
        "\n",
        "\n",
        "# g0=g0.bind(source='source',destination='destination',edge_weight='weight')\n",
        "# g0.plot()"
      ],
      "metadata": {
        "id": "dmGQ8CLAqMDf"
      },
      "execution_count": null,
      "outputs": []
    },
    {
      "cell_type": "code",
      "source": [],
      "metadata": {
        "id": "OcsyF2XUx3IA"
      },
      "execution_count": null,
      "outputs": []
    }
  ]
}