{
  "nbformat": 4,
  "nbformat_minor": 0,
  "metadata": {
    "colab": {
      "provenance": [],
      "authorship_tag": "ABX9TyOzzIRzYWA5+SmqYTPgIOA+",
      "include_colab_link": true
    },
    "kernelspec": {
      "name": "python3",
      "display_name": "Python 3"
    },
    "language_info": {
      "name": "python"
    }
  },
  "cells": [
    {
      "cell_type": "markdown",
      "metadata": {
        "id": "view-in-github",
        "colab_type": "text"
      },
      "source": [
        "<a href=\"https://colab.research.google.com/github/dcolinmorgan/grph/blob/main/graphistry_X_funcoup.ipynb\" target=\"_parent\"><img src=\"https://colab.research.google.com/assets/colab-badge.svg\" alt=\"Open In Colab\"/></a>"
      ]
    },
    {
      "cell_type": "code",
      "execution_count": null,
      "metadata": {
        "colab": {
          "base_uri": "https://localhost:8080/"
        },
        "id": "gwOlFmQMpF2c",
        "outputId": "5da9b44b-43ed-4061-a294-4335c0c50fbc"
      },
      "outputs": [
        {
          "output_type": "stream",
          "name": "stdout",
          "text": [
            "Looking in indexes: https://pypi.org/simple, https://pypi.nvidia.com\n",
            "Collecting cuml-cu11\n",
            "  Downloading https://pypi.nvidia.com/cuml-cu11/cuml_cu11-23.10.0-cp310-cp310-manylinux_2_17_x86_64.manylinux2014_x86_64.whl (1078.5 MB)\n",
            "\u001b[2K     \u001b[90m━━━━━━━━━━━━━━━━━━━━━━━━━━━━━━━━━━━━━━━━\u001b[0m \u001b[32m1.1/1.1 GB\u001b[0m \u001b[31m1.4 MB/s\u001b[0m eta \u001b[36m0:00:00\u001b[0m\n",
            "\u001b[?25hCollecting cudf-cu11\n",
            "  Downloading https://pypi.nvidia.com/cudf-cu11/cudf_cu11-23.10.0-cp310-cp310-manylinux_2_17_x86_64.manylinux2014_x86_64.whl (502.5 MB)\n",
            "\u001b[2K     \u001b[90m━━━━━━━━━━━━━━━━━━━━━━━━━━━━━━━━━━━━━━━━\u001b[0m \u001b[32m502.5/502.5 MB\u001b[0m \u001b[31m3.3 MB/s\u001b[0m eta \u001b[36m0:00:00\u001b[0m\n",
            "\u001b[?25hCollecting cugraph-cu11\n",
            "  Downloading https://pypi.nvidia.com/cugraph-cu11/cugraph_cu11-23.10.0-cp310-cp310-manylinux_2_17_x86_64.manylinux2014_x86_64.whl (1231.8 MB)\n",
            "\u001b[2K     \u001b[90m━━━━━━━━━━━━━━━━━━━━━━━━━━━━━━━━━━━━━━━━\u001b[0m \u001b[32m1.2/1.2 GB\u001b[0m \u001b[31m1.3 MB/s\u001b[0m eta \u001b[36m0:00:00\u001b[0m\n",
            "\u001b[?25hCollecting pylibraft_cu11\n",
            "  Downloading https://pypi.nvidia.com/pylibraft-cu11/pylibraft_cu11-23.10.0-cp310-cp310-manylinux_2_17_x86_64.manylinux2014_x86_64.whl (520.0 MB)\n",
            "\u001b[2K     \u001b[91m━━━━━━━━━━━━━━━━━━━━━━━━━━━━━━━━━━━━━━━\u001b[0m\u001b[91m╸\u001b[0m \u001b[32m520.0/520.0 MB\u001b[0m \u001b[31m101.1 MB/s\u001b[0m eta \u001b[36m0:00:01\u001b[0m"
          ]
        }
      ],
      "source": [
        "!pip install --extra-index-url=https://pypi.nvidia.com cuml-cu11 cudf-cu11 cugraph-cu11 pylibraft_cu11 raft_dask_cu11 dask_cudf_cu11 pylibcugraph_cu11 pylibraft_cu11\n"
      ]
    },
    {
      "cell_type": "code",
      "source": [
        "!pip install git+https://github.com/graphistry/pygraphistry.git@feat/gpu-featurization\n",
        "!pip install -U git+https://github.com/graphistry/cu-cat.git@DT6\n",
        "# !pip install -e git+https://github.com/dcolinmorgan/cu-cat.git@master#egg=cu-cat\n",
        "\n",
        "\n",
        "# !git clone https://github.com/dcolinmorgan/cu-cat.git\n",
        "# os.getcwd()\n",
        "\n",
        "os.chdir('src/cu-cat')\n",
        "import cu_cat\n",
        "os.chdir('../..')"
      ],
      "metadata": {
        "id": "E1WJMbf2pfAC"
      },
      "execution_count": null,
      "outputs": []
    },
    {
      "cell_type": "code",
      "source": [
        "import locale\n",
        "def getpreferredencoding(do_setlocale = True):\n",
        "    return \"UTF-8\"\n",
        "locale.getpreferredencoding = getpreferredencoding"
      ],
      "metadata": {
        "id": "qaGkROYTpr5M"
      },
      "execution_count": null,
      "outputs": []
    },
    {
      "cell_type": "code",
      "source": [
        "import os\n",
        "from collections import Counter\n",
        "import cProfile\n",
        "import pandas as pd\n",
        "import numpy as np\n",
        "import matplotlib.pyplot as plt\n",
        "from pstats import Stats\n",
        "import cudf\n",
        "from time import time\n",
        "import warnings\n",
        "warnings.filterwarnings('ignore')\n",
        "\n",
        "pd.set_option('display.max_colwidth', 200)"
      ],
      "metadata": {
        "id": "HXaDixalpr7v"
      },
      "execution_count": null,
      "outputs": []
    },
    {
      "cell_type": "code",
      "source": [
        "import graphistry\n",
        "\n",
        "graphistry.register(api=3,protocol=\"https\", server=\"hub.graphistry.com\", username='***', password='***') ## key id, secret key\n",
        "graphistry.__version__\n"
      ],
      "metadata": {
        "id": "5kXy3vfvpttr"
      },
      "execution_count": null,
      "outputs": []
    },
    {
      "cell_type": "code",
      "source": [
        "species='H.sapiens'\n"
      ],
      "metadata": {
        "id": "Co_3dS5hp5a4"
      },
      "execution_count": 1,
      "outputs": []
    },
    {
      "cell_type": "code",
      "source": [
        "edges_df = pd.read_csv('https://funcoup.org/downloads/download.action?type=network&instanceID=24480085&fileName=FC5.0_'+species+'_full'.gz', sep='\\t')\n"
      ],
      "metadata": {
        "id": "fulD-PYVpwpK"
      },
      "execution_count": null,
      "outputs": []
    },
    {
      "cell_type": "code",
      "source": [
        "\n",
        "edges_df.columns=edges_df.columns.str.split(':').str[1]\n",
        "\n",
        "# nodes_df = pd.DataFrame({'n': pd.concat([edges_df['Gene1'], edges_df['Gene2']]).unique()})\n",
        "# n = len(nodes_df)\n",
        "\n",
        "# nodes_df['ind'] = nodes_df.index\n",
        "# nodes_df['nc'] = nodes_df['ind'].apply(lambda v: 0x01000000 * round(255 * v / n,2))\n",
        "\n",
        "g0 = graphistry.nodes(edges_df)\\\n",
        "                .bind(source=\"Gene1\", destination=\"Gene2\")\\\n",
        "                .settings(url_params={\n",
        "                    'pointSize': 0.3,\n",
        "                    'splashAfter': 'false',\n",
        "                    'bg': '%23' + 'f0f2f6'\n",
        "                })\n",
        "t=time()\n",
        "g1=g0.umap(feature_engine='cu_cat',engine='cuml',memoize=True)\n",
        "print(time()-t)\n",
        "\n",
        "emb2=g1._node_embedding\n",
        "graphistry.nodes(emb2.reset_index(),'index').edges(g1._edges,'_src_implicit','_dst_implicit').bind(point_x=\"x\",point_y=\"y\").settings(url_params={\"play\":0}).addStyle(bg={'color': '#eee'}).plot()\n",
        "# g1.plot()\n",
        "\n",
        "\n",
        "\n",
        "# g0=g0.bind(source='source',destination='destination',edge_weight='weight')\n",
        "# g0.plot()"
      ],
      "metadata": {
        "id": "ctMczPBspwr3"
      },
      "execution_count": null,
      "outputs": []
    },
    {
      "cell_type": "code",
      "source": [],
      "metadata": {
        "id": "dmGQ8CLAqMDf"
      },
      "execution_count": null,
      "outputs": []
    }
  ]
}