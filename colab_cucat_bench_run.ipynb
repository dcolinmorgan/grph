{
  "cells": [
    {
      "cell_type": "markdown",
      "metadata": {
        "id": "view-in-github",
        "colab_type": "text"
      },
      "source": [
        "<a href=\"https://colab.research.google.com/github/dcolinmorgan/grph/blob/main/colab_cucat_bench_run.ipynb\" target=\"_parent\"><img src=\"https://colab.research.google.com/assets/colab-badge.svg\" alt=\"Open In Colab\"/></a>"
      ]
    },
    {
      "cell_type": "markdown",
      "source": [
        "# cu_cat demo-datasets benchmark"
      ],
      "metadata": {
        "id": "hQinzuiQscjc"
      },
      "id": "hQinzuiQscjc"
    },
    {
      "cell_type": "code",
      "source": [
        "!pip install --extra-index-url=https://pypi.nvidia.com cuml-cu12==23.12.00 cudf-cu12==23.12.00 #cugraph-cu11 pylibraft_cu11 raft_dask_cu11 dask_cudf_cu11 pylibcugraph_cu11 pylibraft_cu11\n",
        "!pip install git+https://github.com/graphistry/pygraphistry.git@feat/gpu-featurization\n",
        "# !pip install git+https://github.com/graphistry/pygraphistry.git@dev/depman_gpufeat\n",
        "# !pip install --upgrade git+https://github.com/graphistry/cu-cat.git@master\n",
        "# !git clone https://github.com/graphistry/cu-cat.git\n",
        "\n",
        "\n",
        "!pip3 install --upgrade cu_cat>=0.7.32 --verbose"
      ],
      "metadata": {
        "id": "UC_w5EhksYyX",
        "colab": {
          "base_uri": "https://localhost:8080/"
        },
        "outputId": "2f9cd00f-127e-440d-9697-7dd9f0b2b91a"
      },
      "id": "UC_w5EhksYyX",
      "execution_count": 1,
      "outputs": [
        {
          "output_type": "stream",
          "name": "stdout",
          "text": [
            "Looking in indexes: https://pypi.org/simple, https://pypi.nvidia.com\n",
            "Collecting cuml-cu12==23.12.00\n",
            "  Downloading https://pypi.nvidia.com/cuml-cu12/cuml_cu12-23.12.0-cp310-cp310-manylinux_2_17_x86_64.manylinux2014_x86_64.whl (955.2 MB)\n",
            "\u001b[2K     \u001b[90m━━━━━━━━━━━━━━━━━━━━━━━━━━━━━━━━━━━━━━━━\u001b[0m \u001b[32m955.2/955.2 MB\u001b[0m \u001b[31m1.3 MB/s\u001b[0m eta \u001b[36m0:00:00\u001b[0m\n",
            "\u001b[?25hCollecting cudf-cu12==23.12.00\n",
            "  Downloading https://pypi.nvidia.com/cudf-cu12/cudf_cu12-23.12.0-cp310-cp310-manylinux_2_28_x86_64.whl (511.6 MB)\n",
            "\u001b[2K     \u001b[90m━━━━━━━━━━━━━━━━━━━━━━━━━━━━━━━━━━━━━━━━\u001b[0m \u001b[32m511.6/511.6 MB\u001b[0m \u001b[31m3.2 MB/s\u001b[0m eta \u001b[36m0:00:00\u001b[0m\n",
            "\u001b[?25hRequirement already satisfied: cupy-cuda12x>=12.0.0 in /usr/local/lib/python3.10/dist-packages (from cuml-cu12==23.12.00) (12.2.0)\n",
            "Collecting dask-cuda==23.12.* (from cuml-cu12==23.12.00)\n",
            "  Downloading dask_cuda-23.12.0-py3-none-any.whl (126 kB)\n",
            "\u001b[2K     \u001b[90m━━━━━━━━━━━━━━━━━━━━━━━━━━━━━━━━━━━━━━━━\u001b[0m \u001b[32m126.0/126.0 kB\u001b[0m \u001b[31m2.6 MB/s\u001b[0m eta \u001b[36m0:00:00\u001b[0m\n",
            "\u001b[?25hCollecting dask-cudf-cu12==23.12.* (from cuml-cu12==23.12.00)\n",
            "  Downloading https://pypi.nvidia.com/dask-cudf-cu12/dask_cudf_cu12-23.12.0-py3-none-any.whl (82 kB)\n",
            "\u001b[2K     \u001b[90m━━━━━━━━━━━━━━━━━━━━━━━━━━━━━━━━━━━━━━━━\u001b[0m \u001b[32m82.9/82.9 kB\u001b[0m \u001b[31m11.0 MB/s\u001b[0m eta \u001b[36m0:00:00\u001b[0m\n",
            "\u001b[?25hRequirement already satisfied: joblib>=0.11 in /usr/local/lib/python3.10/dist-packages (from cuml-cu12==23.12.00) (1.3.2)\n",
            "Requirement already satisfied: numba>=0.57 in /usr/local/lib/python3.10/dist-packages (from cuml-cu12==23.12.00) (0.58.1)\n",
            "Collecting raft-dask-cu12==23.12.* (from cuml-cu12==23.12.00)\n",
            "  Downloading https://pypi.nvidia.com/raft-dask-cu12/raft_dask_cu12-23.12.0-cp310-cp310-manylinux_2_17_x86_64.manylinux2014_x86_64.whl (163.0 MB)\n",
            "\u001b[2K     \u001b[90m━━━━━━━━━━━━━━━━━━━━━━━━━━━━━━━━━━━━━━━━\u001b[0m \u001b[32m163.0/163.0 MB\u001b[0m \u001b[31m5.9 MB/s\u001b[0m eta \u001b[36m0:00:00\u001b[0m\n",
            "\u001b[?25hCollecting rapids-dask-dependency==23.12.* (from cuml-cu12==23.12.00)\n",
            "  Downloading https://pypi.nvidia.com/rapids-dask-dependency/rapids_dask_dependency-23.12.1-py3-none-any.whl (5.4 kB)\n",
            "Requirement already satisfied: scipy>=1.8.0 in /usr/local/lib/python3.10/dist-packages (from cuml-cu12==23.12.00) (1.11.4)\n",
            "Collecting treelite==3.9.1 (from cuml-cu12==23.12.00)\n",
            "  Downloading treelite-3.9.1-py3-none-manylinux2014_x86_64.whl (1.0 MB)\n",
            "\u001b[2K     \u001b[90m━━━━━━━━━━━━━━━━━━━━━━━━━━━━━━━━━━━━━━━━\u001b[0m \u001b[32m1.0/1.0 MB\u001b[0m \u001b[31m13.5 MB/s\u001b[0m eta \u001b[36m0:00:00\u001b[0m\n",
            "\u001b[?25hCollecting treelite-runtime==3.9.1 (from cuml-cu12==23.12.00)\n",
            "  Downloading treelite_runtime-3.9.1-py3-none-manylinux2014_x86_64.whl (198 kB)\n",
            "\u001b[2K     \u001b[90m━━━━━━━━━━━━━━━━━━━━━━━━━━━━━━━━━━━━━━━━\u001b[0m \u001b[32m198.7/198.7 kB\u001b[0m \u001b[31m13.3 MB/s\u001b[0m eta \u001b[36m0:00:00\u001b[0m\n",
            "\u001b[?25hRequirement already satisfied: cachetools in /usr/local/lib/python3.10/dist-packages (from cudf-cu12==23.12.00) (5.3.2)\n",
            "Collecting cuda-python<13.0a0,>=12.0 (from cudf-cu12==23.12.00)\n",
            "  Downloading cuda_python-12.3.0-cp310-cp310-manylinux_2_17_x86_64.manylinux2014_x86_64.whl (23.6 MB)\n",
            "\u001b[2K     \u001b[90m━━━━━━━━━━━━━━━━━━━━━━━━━━━━━━━━━━━━━━━━\u001b[0m \u001b[32m23.6/23.6 MB\u001b[0m \u001b[31m56.1 MB/s\u001b[0m eta \u001b[36m0:00:00\u001b[0m\n",
            "\u001b[?25hRequirement already satisfied: fsspec>=0.6.0 in /usr/local/lib/python3.10/dist-packages (from cudf-cu12==23.12.00) (2023.6.0)\n",
            "Collecting numba>=0.57 (from cuml-cu12==23.12.00)\n",
            "  Downloading numba-0.57.1-cp310-cp310-manylinux2014_x86_64.manylinux_2_17_x86_64.whl (3.6 MB)\n",
            "\u001b[2K     \u001b[90m━━━━━━━━━━━━━━━━━━━━━━━━━━━━━━━━━━━━━━━━\u001b[0m \u001b[32m3.6/3.6 MB\u001b[0m \u001b[31m86.4 MB/s\u001b[0m eta \u001b[36m0:00:00\u001b[0m\n",
            "\u001b[?25hRequirement already satisfied: numpy<1.25,>=1.21 in /usr/local/lib/python3.10/dist-packages (from cudf-cu12==23.12.00) (1.23.5)\n",
            "Collecting nvtx>=0.2.1 (from cudf-cu12==23.12.00)\n",
            "  Downloading nvtx-0.2.8-cp310-cp310-manylinux_2_17_x86_64.manylinux2014_x86_64.whl (582 kB)\n",
            "\u001b[2K     \u001b[90m━━━━━━━━━━━━━━━━━━━━━━━━━━━━━━━━━━━━━━━━\u001b[0m \u001b[32m582.4/582.4 kB\u001b[0m \u001b[31m49.2 MB/s\u001b[0m eta \u001b[36m0:00:00\u001b[0m\n",
            "\u001b[?25hRequirement already satisfied: packaging in /usr/local/lib/python3.10/dist-packages (from cudf-cu12==23.12.00) (23.2)\n",
            "Requirement already satisfied: pandas<1.6.0dev0,>=1.3 in /usr/local/lib/python3.10/dist-packages (from cudf-cu12==23.12.00) (1.5.3)\n",
            "Collecting protobuf<5,>=4.21 (from cudf-cu12==23.12.00)\n",
            "  Downloading protobuf-4.25.1-cp37-abi3-manylinux2014_x86_64.whl (294 kB)\n",
            "\u001b[2K     \u001b[90m━━━━━━━━━━━━━━━━━━━━━━━━━━━━━━━━━━━━━━━━\u001b[0m \u001b[32m294.6/294.6 kB\u001b[0m \u001b[31m30.3 MB/s\u001b[0m eta \u001b[36m0:00:00\u001b[0m\n",
            "\u001b[?25hCollecting pyarrow<15.0.0a0,>=14.0.1 (from cudf-cu12==23.12.00)\n",
            "  Downloading pyarrow-14.0.2-cp310-cp310-manylinux_2_28_x86_64.whl (38.0 MB)\n",
            "\u001b[2K     \u001b[90m━━━━━━━━━━━━━━━━━━━━━━━━━━━━━━━━━━━━━━━━\u001b[0m \u001b[32m38.0/38.0 MB\u001b[0m \u001b[31m10.4 MB/s\u001b[0m eta \u001b[36m0:00:00\u001b[0m\n",
            "\u001b[?25hRequirement already satisfied: rich in /usr/local/lib/python3.10/dist-packages (from cudf-cu12==23.12.00) (13.7.0)\n",
            "Collecting rmm-cu12==23.12.* (from cudf-cu12==23.12.00)\n",
            "  Downloading https://pypi.nvidia.com/rmm-cu12/rmm_cu12-23.12.0-cp310-cp310-manylinux_2_17_x86_64.manylinux2014_x86_64.whl (2.0 MB)\n",
            "\u001b[2K     \u001b[90m━━━━━━━━━━━━━━━━━━━━━━━━━━━━━━━━━━━━━━━━\u001b[0m \u001b[32m2.0/2.0 MB\u001b[0m \u001b[31m53.8 MB/s\u001b[0m eta \u001b[36m0:00:00\u001b[0m\n",
            "\u001b[?25hRequirement already satisfied: typing-extensions>=4.0.0 in /usr/local/lib/python3.10/dist-packages (from cudf-cu12==23.12.00) (4.5.0)\n",
            "Requirement already satisfied: click>=8.1 in /usr/local/lib/python3.10/dist-packages (from dask-cuda==23.12.*->cuml-cu12==23.12.00) (8.1.7)\n",
            "Collecting pynvml<11.5,>=11.0.0 (from dask-cuda==23.12.*->cuml-cu12==23.12.00)\n",
            "  Downloading pynvml-11.4.1-py3-none-any.whl (46 kB)\n",
            "\u001b[2K     \u001b[90m━━━━━━━━━━━━━━━━━━━━━━━━━━━━━━━━━━━━━━━━\u001b[0m \u001b[32m47.0/47.0 kB\u001b[0m \u001b[31m6.5 MB/s\u001b[0m eta \u001b[36m0:00:00\u001b[0m\n",
            "\u001b[?25hRequirement already satisfied: zict>=2.0.0 in /usr/local/lib/python3.10/dist-packages (from dask-cuda==23.12.*->cuml-cu12==23.12.00) (3.0.0)\n",
            "Collecting pylibraft-cu12==23.12.* (from raft-dask-cu12==23.12.*->cuml-cu12==23.12.00)\n",
            "  Downloading https://pypi.nvidia.com/pylibraft-cu12/pylibraft_cu12-23.12.0-cp310-cp310-manylinux_2_17_x86_64.manylinux2014_x86_64.whl (509.5 MB)\n",
            "\u001b[2K     \u001b[90m━━━━━━━━━━━━━━━━━━━━━━━━━━━━━━━━━━━━━━━━\u001b[0m \u001b[32m509.5/509.5 MB\u001b[0m \u001b[31m2.8 MB/s\u001b[0m eta \u001b[36m0:00:00\u001b[0m\n",
            "\u001b[?25hCollecting ucx-py-cu12==0.35.* (from raft-dask-cu12==23.12.*->cuml-cu12==23.12.00)\n",
            "  Downloading https://pypi.nvidia.com/ucx-py-cu12/ucx_py_cu12-0.35.0-cp310-cp310-manylinux_2_17_x86_64.manylinux2014_x86_64.whl (7.7 MB)\n",
            "\u001b[2K     \u001b[90m━━━━━━━━━━━━━━━━━━━━━━━━━━━━━━━━━━━━━━━━\u001b[0m \u001b[32m7.7/7.7 MB\u001b[0m \u001b[31m92.5 MB/s\u001b[0m eta \u001b[36m0:00:00\u001b[0m\n",
            "\u001b[?25hCollecting dask==2023.11.0 (from rapids-dask-dependency==23.12.*->cuml-cu12==23.12.00)\n",
            "  Downloading dask-2023.11.0-py3-none-any.whl (1.2 MB)\n",
            "\u001b[2K     \u001b[90m━━━━━━━━━━━━━━━━━━━━━━━━━━━━━━━━━━━━━━━━\u001b[0m \u001b[32m1.2/1.2 MB\u001b[0m \u001b[31m66.7 MB/s\u001b[0m eta \u001b[36m0:00:00\u001b[0m\n",
            "\u001b[?25hCollecting distributed==2023.11.0 (from rapids-dask-dependency==23.12.*->cuml-cu12==23.12.00)\n",
            "  Downloading distributed-2023.11.0-py3-none-any.whl (1.0 MB)\n",
            "\u001b[2K     \u001b[90m━━━━━━━━━━━━━━━━━━━━━━━━━━━━━━━━━━━━━━━━\u001b[0m \u001b[32m1.0/1.0 MB\u001b[0m \u001b[31m53.6 MB/s\u001b[0m eta \u001b[36m0:00:00\u001b[0m\n",
            "\u001b[?25hRequirement already satisfied: cloudpickle>=1.5.0 in /usr/local/lib/python3.10/dist-packages (from dask==2023.11.0->rapids-dask-dependency==23.12.*->cuml-cu12==23.12.00) (2.2.1)\n",
            "Requirement already satisfied: partd>=1.2.0 in /usr/local/lib/python3.10/dist-packages (from dask==2023.11.0->rapids-dask-dependency==23.12.*->cuml-cu12==23.12.00) (1.4.1)\n",
            "Requirement already satisfied: pyyaml>=5.3.1 in /usr/local/lib/python3.10/dist-packages (from dask==2023.11.0->rapids-dask-dependency==23.12.*->cuml-cu12==23.12.00) (6.0.1)\n",
            "Requirement already satisfied: toolz>=0.10.0 in /usr/local/lib/python3.10/dist-packages (from dask==2023.11.0->rapids-dask-dependency==23.12.*->cuml-cu12==23.12.00) (0.12.0)\n",
            "Requirement already satisfied: importlib-metadata>=4.13.0 in /usr/local/lib/python3.10/dist-packages (from dask==2023.11.0->rapids-dask-dependency==23.12.*->cuml-cu12==23.12.00) (7.0.0)\n",
            "Requirement already satisfied: jinja2>=2.10.3 in /usr/local/lib/python3.10/dist-packages (from distributed==2023.11.0->rapids-dask-dependency==23.12.*->cuml-cu12==23.12.00) (3.1.2)\n",
            "Requirement already satisfied: locket>=1.0.0 in /usr/local/lib/python3.10/dist-packages (from distributed==2023.11.0->rapids-dask-dependency==23.12.*->cuml-cu12==23.12.00) (1.0.0)\n",
            "Requirement already satisfied: msgpack>=1.0.0 in /usr/local/lib/python3.10/dist-packages (from distributed==2023.11.0->rapids-dask-dependency==23.12.*->cuml-cu12==23.12.00) (1.0.7)\n",
            "Requirement already satisfied: psutil>=5.7.2 in /usr/local/lib/python3.10/dist-packages (from distributed==2023.11.0->rapids-dask-dependency==23.12.*->cuml-cu12==23.12.00) (5.9.5)\n",
            "Requirement already satisfied: sortedcontainers>=2.0.5 in /usr/local/lib/python3.10/dist-packages (from distributed==2023.11.0->rapids-dask-dependency==23.12.*->cuml-cu12==23.12.00) (2.4.0)\n",
            "Requirement already satisfied: tblib>=1.6.0 in /usr/local/lib/python3.10/dist-packages (from distributed==2023.11.0->rapids-dask-dependency==23.12.*->cuml-cu12==23.12.00) (3.0.0)\n",
            "Requirement already satisfied: tornado>=6.0.4 in /usr/local/lib/python3.10/dist-packages (from distributed==2023.11.0->rapids-dask-dependency==23.12.*->cuml-cu12==23.12.00) (6.3.2)\n",
            "Requirement already satisfied: urllib3>=1.24.3 in /usr/local/lib/python3.10/dist-packages (from distributed==2023.11.0->rapids-dask-dependency==23.12.*->cuml-cu12==23.12.00) (2.0.7)\n",
            "Requirement already satisfied: fastrlock>=0.5 in /usr/local/lib/python3.10/dist-packages (from cupy-cuda12x>=12.0.0->cuml-cu12==23.12.00) (0.8.2)\n",
            "Collecting llvmlite<0.41,>=0.40.0dev0 (from numba>=0.57->cuml-cu12==23.12.00)\n",
            "  Downloading llvmlite-0.40.1-cp310-cp310-manylinux_2_17_x86_64.manylinux2014_x86_64.whl (42.1 MB)\n",
            "\u001b[2K     \u001b[90m━━━━━━━━━━━━━━━━━━━━━━━━━━━━━━━━━━━━━━━━\u001b[0m \u001b[32m42.1/42.1 MB\u001b[0m \u001b[31m13.2 MB/s\u001b[0m eta \u001b[36m0:00:00\u001b[0m\n",
            "\u001b[?25hRequirement already satisfied: python-dateutil>=2.8.1 in /usr/local/lib/python3.10/dist-packages (from pandas<1.6.0dev0,>=1.3->cudf-cu12==23.12.00) (2.8.2)\n",
            "Requirement already satisfied: pytz>=2020.1 in /usr/local/lib/python3.10/dist-packages (from pandas<1.6.0dev0,>=1.3->cudf-cu12==23.12.00) (2023.3.post1)\n",
            "Requirement already satisfied: markdown-it-py>=2.2.0 in /usr/local/lib/python3.10/dist-packages (from rich->cudf-cu12==23.12.00) (3.0.0)\n",
            "Requirement already satisfied: pygments<3.0.0,>=2.13.0 in /usr/local/lib/python3.10/dist-packages (from rich->cudf-cu12==23.12.00) (2.16.1)\n",
            "Requirement already satisfied: mdurl~=0.1 in /usr/local/lib/python3.10/dist-packages (from markdown-it-py>=2.2.0->rich->cudf-cu12==23.12.00) (0.1.2)\n",
            "Requirement already satisfied: six>=1.5 in /usr/local/lib/python3.10/dist-packages (from python-dateutil>=2.8.1->pandas<1.6.0dev0,>=1.3->cudf-cu12==23.12.00) (1.16.0)\n",
            "Requirement already satisfied: zipp>=0.5 in /usr/local/lib/python3.10/dist-packages (from importlib-metadata>=4.13.0->dask==2023.11.0->rapids-dask-dependency==23.12.*->cuml-cu12==23.12.00) (3.17.0)\n",
            "Requirement already satisfied: MarkupSafe>=2.0 in /usr/local/lib/python3.10/dist-packages (from jinja2>=2.10.3->distributed==2023.11.0->rapids-dask-dependency==23.12.*->cuml-cu12==23.12.00) (2.1.3)\n",
            "Installing collected packages: nvtx, cuda-python, pynvml, pyarrow, protobuf, llvmlite, ucx-py-cu12, treelite-runtime, treelite, numba, dask, rmm-cu12, distributed, rapids-dask-dependency, pylibraft-cu12, cudf-cu12, dask-cudf-cu12, dask-cuda, raft-dask-cu12, cuml-cu12\n",
            "  Attempting uninstall: pyarrow\n",
            "    Found existing installation: pyarrow 10.0.1\n",
            "    Uninstalling pyarrow-10.0.1:\n",
            "      Successfully uninstalled pyarrow-10.0.1\n",
            "  Attempting uninstall: protobuf\n",
            "    Found existing installation: protobuf 3.20.3\n",
            "    Uninstalling protobuf-3.20.3:\n",
            "      Successfully uninstalled protobuf-3.20.3\n",
            "  Attempting uninstall: llvmlite\n",
            "    Found existing installation: llvmlite 0.41.1\n",
            "    Uninstalling llvmlite-0.41.1:\n",
            "      Successfully uninstalled llvmlite-0.41.1\n",
            "  Attempting uninstall: numba\n",
            "    Found existing installation: numba 0.58.1\n",
            "    Uninstalling numba-0.58.1:\n",
            "      Successfully uninstalled numba-0.58.1\n",
            "  Attempting uninstall: dask\n",
            "    Found existing installation: dask 2023.8.1\n",
            "    Uninstalling dask-2023.8.1:\n",
            "      Successfully uninstalled dask-2023.8.1\n",
            "  Attempting uninstall: distributed\n",
            "    Found existing installation: distributed 2023.8.1\n",
            "    Uninstalling distributed-2023.8.1:\n",
            "      Successfully uninstalled distributed-2023.8.1\n",
            "\u001b[31mERROR: pip's dependency resolver does not currently take into account all the packages that are installed. This behaviour is the source of the following dependency conflicts.\n",
            "ibis-framework 6.2.0 requires pyarrow<13,>=2, but you have pyarrow 14.0.2 which is incompatible.\n",
            "tensorboard 2.15.1 requires protobuf<4.24,>=3.19.6, but you have protobuf 4.25.1 which is incompatible.\n",
            "tensorflow-metadata 1.14.0 requires protobuf<4.21,>=3.20.3, but you have protobuf 4.25.1 which is incompatible.\u001b[0m\u001b[31m\n",
            "\u001b[0mSuccessfully installed cuda-python-12.3.0 cudf-cu12-23.12.0 cuml-cu12-23.12.0 dask-2023.11.0 dask-cuda-23.12.0 dask-cudf-cu12-23.12.0 distributed-2023.11.0 llvmlite-0.40.1 numba-0.57.1 nvtx-0.2.8 protobuf-4.25.1 pyarrow-14.0.2 pylibraft-cu12-23.12.0 pynvml-11.4.1 raft-dask-cu12-23.12.0 rapids-dask-dependency-23.12.1 rmm-cu12-23.12.0 treelite-3.9.1 treelite-runtime-3.9.1 ucx-py-cu12-0.35.0\n",
            "Collecting git+https://github.com/graphistry/pygraphistry.git@feat/gpu-featurization\n",
            "  Cloning https://github.com/graphistry/pygraphistry.git (to revision feat/gpu-featurization) to /tmp/pip-req-build-7ifiurmf\n",
            "  Running command git clone --filter=blob:none --quiet https://github.com/graphistry/pygraphistry.git /tmp/pip-req-build-7ifiurmf\n",
            "  Running command git checkout -b feat/gpu-featurization --track origin/feat/gpu-featurization\n",
            "  Switched to a new branch 'feat/gpu-featurization'\n",
            "  Branch 'feat/gpu-featurization' set up to track remote branch 'feat/gpu-featurization' from 'origin'.\n",
            "  Resolved https://github.com/graphistry/pygraphistry.git to commit a654f9ff400c7709a151ce0995c30b8f422f49d1\n",
            "  Preparing metadata (setup.py) ... \u001b[?25l\u001b[?25hdone\n",
            "Requirement already satisfied: numpy in /usr/local/lib/python3.10/dist-packages (from graphistry==0.33.0+96.ga654f9f) (1.23.5)\n",
            "Collecting palettable>=3.0 (from graphistry==0.33.0+96.ga654f9f)\n",
            "  Downloading palettable-3.3.3-py2.py3-none-any.whl (332 kB)\n",
            "\u001b[2K     \u001b[90m━━━━━━━━━━━━━━━━━━━━━━━━━━━━━━━━━━━━━━━━\u001b[0m \u001b[32m332.3/332.3 kB\u001b[0m \u001b[31m5.5 MB/s\u001b[0m eta \u001b[36m0:00:00\u001b[0m\n",
            "\u001b[?25hRequirement already satisfied: pandas in /usr/local/lib/python3.10/dist-packages (from graphistry==0.33.0+96.ga654f9f) (1.5.3)\n",
            "Requirement already satisfied: pyarrow>=0.15.0 in /usr/local/lib/python3.10/dist-packages (from graphistry==0.33.0+96.ga654f9f) (14.0.2)\n",
            "Requirement already satisfied: requests in /usr/local/lib/python3.10/dist-packages (from graphistry==0.33.0+96.ga654f9f) (2.31.0)\n",
            "Collecting squarify (from graphistry==0.33.0+96.ga654f9f)\n",
            "  Downloading squarify-0.4.3-py3-none-any.whl (4.3 kB)\n",
            "Requirement already satisfied: typing-extensions in /usr/local/lib/python3.10/dist-packages (from graphistry==0.33.0+96.ga654f9f) (4.5.0)\n",
            "Requirement already satisfied: packaging>=20.1 in /usr/local/lib/python3.10/dist-packages (from graphistry==0.33.0+96.ga654f9f) (23.2)\n",
            "Requirement already satisfied: setuptools in /usr/local/lib/python3.10/dist-packages (from graphistry==0.33.0+96.ga654f9f) (67.7.2)\n",
            "Requirement already satisfied: python-dateutil>=2.8.1 in /usr/local/lib/python3.10/dist-packages (from pandas->graphistry==0.33.0+96.ga654f9f) (2.8.2)\n",
            "Requirement already satisfied: pytz>=2020.1 in /usr/local/lib/python3.10/dist-packages (from pandas->graphistry==0.33.0+96.ga654f9f) (2023.3.post1)\n",
            "Requirement already satisfied: charset-normalizer<4,>=2 in /usr/local/lib/python3.10/dist-packages (from requests->graphistry==0.33.0+96.ga654f9f) (3.3.2)\n",
            "Requirement already satisfied: idna<4,>=2.5 in /usr/local/lib/python3.10/dist-packages (from requests->graphistry==0.33.0+96.ga654f9f) (3.6)\n",
            "Requirement already satisfied: urllib3<3,>=1.21.1 in /usr/local/lib/python3.10/dist-packages (from requests->graphistry==0.33.0+96.ga654f9f) (2.0.7)\n",
            "Requirement already satisfied: certifi>=2017.4.17 in /usr/local/lib/python3.10/dist-packages (from requests->graphistry==0.33.0+96.ga654f9f) (2023.11.17)\n",
            "Requirement already satisfied: six>=1.5 in /usr/local/lib/python3.10/dist-packages (from python-dateutil>=2.8.1->pandas->graphistry==0.33.0+96.ga654f9f) (1.16.0)\n",
            "Building wheels for collected packages: graphistry\n",
            "  Building wheel for graphistry (setup.py) ... \u001b[?25l\u001b[?25hdone\n",
            "  Created wheel for graphistry: filename=graphistry-0.33.0+96.ga654f9f-py3-none-any.whl size=245830 sha256=6e0ecb7722a290e1523922450a63ed5b268a740441755173ae488ae556ccbcb5\n",
            "  Stored in directory: /tmp/pip-ephem-wheel-cache-12n0q8al/wheels/e6/31/69/78411863e2186c71f22a2c7d2a4d04ff90df9f31336f15722f\n",
            "Successfully built graphistry\n",
            "Installing collected packages: squarify, palettable, graphistry\n",
            "Successfully installed graphistry-0.33.0+96.ga654f9f palettable-3.3.3 squarify-0.4.3\n"
          ]
        }
      ]
    },
    {
      "cell_type": "code",
      "source": [
        "import cuml\n",
        "cuml.__version__"
      ],
      "metadata": {
        "id": "zl_CEY3RsZsp",
        "colab": {
          "base_uri": "https://localhost:8080/",
          "height": 35
        },
        "outputId": "b0888fee-794a-4c16-86f9-2f2811a90586"
      },
      "id": "zl_CEY3RsZsp",
      "execution_count": 2,
      "outputs": [
        {
          "output_type": "execute_result",
          "data": {
            "text/plain": [
              "'23.12.00'"
            ],
            "application/vnd.google.colaboratory.intrinsic+json": {
              "type": "string"
            }
          },
          "metadata": {},
          "execution_count": 2
        }
      ]
    },
    {
      "cell_type": "code",
      "source": [
        "!echo \"0.08.02\" > VERSION.txt\n",
        "!cp VERSION.txt /usr/local/lib/python3.10/dist-packages/cu_cat/"
      ],
      "metadata": {
        "id": "yGjC6ysZsZvN"
      },
      "id": "yGjC6ysZsZvN",
      "execution_count": 3,
      "outputs": []
    },
    {
      "cell_type": "code",
      "source": [
        "import os\n",
        "from collections import Counter\n",
        "import cProfile\n",
        "import pandas as pd\n",
        "import numpy as np\n",
        "import matplotlib.pyplot as plt\n",
        "from pstats import Stats\n",
        "import warnings\n",
        "warnings.filterwarnings('ignore')\n",
        "pd.set_option('display.max_colwidth', 200)\n",
        "import cudf,cuml,cupy"
      ],
      "metadata": {
        "id": "DDkaXicVsbVE"
      },
      "id": "DDkaXicVsbVE",
      "execution_count": 4,
      "outputs": []
    },
    {
      "cell_type": "code",
      "source": [
        "# from importlib import reload\n",
        "# reload(cu_cat)\n",
        "# os.chdir('cu-cat')\n",
        "import cu_cat\n",
        "# os.chdir('..')\n",
        "# print(cu_cat.__version__)"
      ],
      "metadata": {
        "id": "U4xWbmFMsbSu"
      },
      "id": "U4xWbmFMsbSu",
      "execution_count": 5,
      "outputs": []
    },
    {
      "cell_type": "code",
      "source": [
        "import graphistry\n",
        "graphistry.register(api=3,protocol=\"https\", server=\"hub.graphistry.com\", username='dcolinmorgan', password='fXjJnkE3Gik6BWy') ## key id, secret key\n",
        "graphistry.__version__"
      ],
      "metadata": {
        "id": "OpgmDTmwsbXX",
        "colab": {
          "base_uri": "https://localhost:8080/",
          "height": 35
        },
        "outputId": "1c564dd0-8a2d-48d7-8f5d-90a80c411c12"
      },
      "id": "OpgmDTmwsbXX",
      "execution_count": 6,
      "outputs": [
        {
          "output_type": "execute_result",
          "data": {
            "text/plain": [
              "'0.33.0+96.ga654f9f'"
            ],
            "application/vnd.google.colaboratory.intrinsic+json": {
              "type": "string"
            }
          },
          "metadata": {},
          "execution_count": 6
        }
      ]
    },
    {
      "cell_type": "code",
      "source": [
        "import locale\n",
        "def getpreferredencoding(do_setlocale = True):\n",
        "    return \"UTF-8\"\n",
        "locale.getpreferredencoding = getpreferredencoding\n",
        "# !pip install dirty_cat\n",
        "# import dirty_cat"
      ],
      "metadata": {
        "id": "2wziX0tHsbZu"
      },
      "id": "2wziX0tHsbZu",
      "execution_count": 7,
      "outputs": []
    },
    {
      "cell_type": "code",
      "source": [
        "import logging\n",
        "logger = logging.getLogger()\n",
        "logging.basicConfig(level=logging.DEBUG)\n",
        "!pip install dirty_cat"
      ],
      "metadata": {
        "id": "QvcZ0QCOsg6o",
        "colab": {
          "base_uri": "https://localhost:8080/"
        },
        "outputId": "a2cab04d-1939-4caf-e130-fcaa67eae848"
      },
      "id": "QvcZ0QCOsg6o",
      "execution_count": 8,
      "outputs": [
        {
          "output_type": "stream",
          "name": "stdout",
          "text": [
            "Collecting dirty_cat\n",
            "  Downloading dirty_cat-0.4.1-py3-none-any.whl (125 kB)\n",
            "\u001b[2K     \u001b[90m━━━━━━━━━━━━━━━━━━━━━━━━━━━━━━━━━━━━━━━━\u001b[0m \u001b[32m125.8/125.8 kB\u001b[0m \u001b[31m3.3 MB/s\u001b[0m eta \u001b[36m0:00:00\u001b[0m\n",
            "\u001b[?25hRequirement already satisfied: scikit-learn>=0.23.0 in /usr/local/lib/python3.10/dist-packages (from dirty_cat) (1.2.2)\n",
            "Requirement already satisfied: numpy>=1.17.3 in /usr/local/lib/python3.10/dist-packages (from dirty_cat) (1.23.5)\n",
            "Requirement already satisfied: scipy>=1.4.0 in /usr/local/lib/python3.10/dist-packages (from dirty_cat) (1.11.4)\n",
            "Requirement already satisfied: pandas>=1.2.0 in /usr/local/lib/python3.10/dist-packages (from dirty_cat) (1.5.3)\n",
            "Requirement already satisfied: requests in /usr/local/lib/python3.10/dist-packages (from dirty_cat) (2.31.0)\n",
            "Requirement already satisfied: joblib in /usr/local/lib/python3.10/dist-packages (from dirty_cat) (1.3.2)\n",
            "Requirement already satisfied: pyarrow in /usr/local/lib/python3.10/dist-packages (from dirty_cat) (14.0.2)\n",
            "Requirement already satisfied: python-dateutil>=2.8.1 in /usr/local/lib/python3.10/dist-packages (from pandas>=1.2.0->dirty_cat) (2.8.2)\n",
            "Requirement already satisfied: pytz>=2020.1 in /usr/local/lib/python3.10/dist-packages (from pandas>=1.2.0->dirty_cat) (2023.3.post1)\n",
            "Requirement already satisfied: threadpoolctl>=2.0.0 in /usr/local/lib/python3.10/dist-packages (from scikit-learn>=0.23.0->dirty_cat) (3.2.0)\n",
            "Requirement already satisfied: charset-normalizer<4,>=2 in /usr/local/lib/python3.10/dist-packages (from requests->dirty_cat) (3.3.2)\n",
            "Requirement already satisfied: idna<4,>=2.5 in /usr/local/lib/python3.10/dist-packages (from requests->dirty_cat) (3.6)\n",
            "Requirement already satisfied: urllib3<3,>=1.21.1 in /usr/local/lib/python3.10/dist-packages (from requests->dirty_cat) (2.0.7)\n",
            "Requirement already satisfied: certifi>=2017.4.17 in /usr/local/lib/python3.10/dist-packages (from requests->dirty_cat) (2023.11.17)\n",
            "Requirement already satisfied: six>=1.5 in /usr/local/lib/python3.10/dist-packages (from python-dateutil>=2.8.1->pandas>=1.2.0->dirty_cat) (1.16.0)\n",
            "Installing collected packages: dirty_cat\n",
            "Successfully installed dirty_cat-0.4.1\n"
          ]
        }
      ]
    },
    {
      "cell_type": "code",
      "source": [
        "def prepro(X):\n",
        "  obj_col=X.select_dtypes(include=['object']).columns\n",
        "  for i in obj_col:\n",
        "      X[i]=X[i].replace('nan',np.nan).fillna('0o0o0')\n",
        "      X[i]=X[i].str.rjust(4,'0')\n",
        "      X[i]=X[i].str.replace('.', 'dot', regex=False) #for IP addresses\n",
        "  num_col=X.select_dtypes(include=['int64','float64']).columns\n",
        "  for i in num_col:\n",
        "      X[i]=X[i].fillna(0)\n",
        "  return X"
      ],
      "metadata": {
        "id": "oMVgsCavIiB0"
      },
      "id": "oMVgsCavIiB0",
      "execution_count": 9,
      "outputs": []
    },
    {
      "cell_type": "code",
      "source": [
        "!nvidia-smi"
      ],
      "metadata": {
        "colab": {
          "base_uri": "https://localhost:8080/"
        },
        "id": "FSzsAiabssvc",
        "outputId": "ccec0775-7983-4a70-ef3b-e05e220665a1"
      },
      "id": "FSzsAiabssvc",
      "execution_count": 10,
      "outputs": [
        {
          "output_type": "stream",
          "name": "stdout",
          "text": [
            "Thu Jan  4 08:57:37 2024       \n",
            "+---------------------------------------------------------------------------------------+\n",
            "| NVIDIA-SMI 535.104.05             Driver Version: 535.104.05   CUDA Version: 12.2     |\n",
            "|-----------------------------------------+----------------------+----------------------+\n",
            "| GPU  Name                 Persistence-M | Bus-Id        Disp.A | Volatile Uncorr. ECC |\n",
            "| Fan  Temp   Perf          Pwr:Usage/Cap |         Memory-Usage | GPU-Util  Compute M. |\n",
            "|                                         |                      |               MIG M. |\n",
            "|=========================================+======================+======================|\n",
            "|   0  Tesla T4                       Off | 00000000:00:04.0 Off |                    0 |\n",
            "| N/A   51C    P0              26W /  70W |    103MiB / 15360MiB |      0%      Default |\n",
            "|                                         |                      |                  N/A |\n",
            "+-----------------------------------------+----------------------+----------------------+\n",
            "                                                                                         \n",
            "+---------------------------------------------------------------------------------------+\n",
            "| Processes:                                                                            |\n",
            "|  GPU   GI   CI        PID   Type   Process name                            GPU Memory |\n",
            "|        ID   ID                                                             Usage      |\n",
            "|=======================================================================================|\n",
            "+---------------------------------------------------------------------------------------+\n"
          ]
        }
      ]
    },
    {
      "cell_type": "markdown",
      "id": "a1f6bcea-42c9-4f00-baf1-86e4c4349434",
      "metadata": {
        "jp-MarkdownHeadingCollapsed": true,
        "tags": [],
        "id": "a1f6bcea-42c9-4f00-baf1-86e4c4349434"
      },
      "source": [
        "## ask HN"
      ]
    },
    {
      "cell_type": "code",
      "execution_count": 11,
      "id": "44bbd703-0c8c-48cc-be2c-f4bbe53879d4",
      "metadata": {
        "tags": [],
        "id": "44bbd703-0c8c-48cc-be2c-f4bbe53879d4"
      },
      "outputs": [],
      "source": [
        "# # get the data top 3000 posts on Hacker News\n",
        "askHN = pd.read_csv('https://storage.googleapis.com/cohere-assets/blog/text-clustering/data/askhn3k_df.csv', index_col=0)\n",
        "\n",
        "askHN = askHN.sample(100,replace=False) # set smaller if you want to test a minibatch\n",
        "# df = df[['text','title']]\n",
        "# df['title'] = df['title'].sample(frac=1).values"
      ]
    },
    {
      "cell_type": "code",
      "source": [
        "# for i in askHN.columns:\n",
        "#     askHN[i]=askHN[i].str.rjust(4,'0')#apply(lambda x: str(x).zfill(4))\n",
        "# # # bb=pd.DataFrame(bb)\n",
        "# # # bb['len']=bb.by.str.len()\n",
        "# # # bb.sort_values('len')\n",
        "# # # # bb.iloc[497]\n",
        "# # import cudf\n",
        "# askHN#.by.str.len().sort_values()"
      ],
      "metadata": {
        "id": "4Cgu-gamuQTp"
      },
      "id": "4Cgu-gamuQTp",
      "execution_count": 18,
      "outputs": []
    },
    {
      "cell_type": "markdown",
      "source": [
        "something strange happening with degree category count for datasets with lots of text"
      ],
      "metadata": {
        "id": "MaSTx2jYw5tb"
      },
      "id": "MaSTx2jYw5tb"
    },
    {
      "cell_type": "code",
      "execution_count": 26,
      "id": "353f72e4-2119-4546-9dcb-45647881ab2d",
      "metadata": {
        "tags": [],
        "id": "353f72e4-2119-4546-9dcb-45647881ab2d",
        "colab": {
          "base_uri": "https://localhost:8080/"
        },
        "outputId": "4b2c2e74-2c5c-49b1-d068-6660f44cfcc3"
      },
      "outputs": [
        {
          "output_type": "stream",
          "name": "stderr",
          "text": [
            "WARNING:graphistry.umap_utils:* Ignoring target column of shape (100, 0) in UMAP fit, as it is not one dimensional"
          ]
        },
        {
          "output_type": "stream",
          "name": "stdout",
          "text": [
            "         535372 function calls (529177 primitive calls) in 2.034 seconds\n",
            "\n",
            "   Ordered by: internal time\n",
            "   List reduced from 2321 to 20 due to restriction <20>\n",
            "\n",
            "   ncalls  tottime  percall  cumtime  percall filename:lineno(function)\n",
            "        3    0.785    0.262    0.785    0.262 {built-in method cupy_backends.cuda.libs.nvrtc.compileProgram}\n",
            "        2    0.461    0.230    0.461    0.230 {built-in method cupy.cuda.jitify.jitify}\n",
            "     1188    0.155    0.000    0.301    0.000 /usr/lib/python3.10/contextlib.py:76(inner)\n",
            "        2    0.038    0.019    0.038    0.019 {method 'read' of '_io.BufferedReader' objects}\n",
            "     31/6    0.030    0.001    1.617    0.270 /usr/local/lib/python3.10/dist-packages/cuml/internals/api_decorators.py:138(wrapper)\n",
            "99556/99388    0.023    0.000    0.038    0.000 {built-in method builtins.isinstance}\n",
            "        9    0.019    0.002    0.127    0.014 /usr/local/lib/python3.10/dist-packages/cudf/core/frame.py:416(_to_array)\n",
            "     4669    0.015    0.000    0.035    0.000 /usr/local/lib/python3.10/dist-packages/cudf/core/dtypes.py:969(is_categorical_dtype)\n",
            "      351    0.012    0.000    0.015    0.000 /usr/local/lib/python3.10/dist-packages/rmm/allocators/cupy.py:23(rmm_cupy_allocator)\n",
            "     2174    0.010    0.000    0.017    0.000 /usr/local/lib/python3.10/dist-packages/cudf/core/column/numerical.py:75(__init__)\n",
            "6175/6173    0.010    0.000    0.011    0.000 /usr/local/lib/python3.10/dist-packages/cudf/core/dtypes.py:33(dtype)\n",
            "      611    0.010    0.000    0.016    0.000 {built-in method cupy._core.core.array}\n",
            "21194/21186    0.008    0.000    0.010    0.000 {built-in method builtins.hasattr}\n",
            "     1374    0.008    0.000    0.010    0.000 /usr/local/lib/python3.10/dist-packages/numba/cuda/cudadrv/driver.py:328(safe_cuda_api_call)\n",
            "     2288    0.007    0.000    0.046    0.000 /usr/local/lib/python3.10/dist-packages/cudf/core/column/column.py:1522(build_column)\n",
            " 3265/258    0.006    0.000    0.619    0.002 /usr/local/lib/python3.10/dist-packages/nvtx/nvtx.py:112(inner)\n",
            "     2555    0.006    0.000    0.014    0.000 /usr/local/lib/python3.10/dist-packages/cudf/core/buffer/buffer.py:109(_from_device_memory)\n",
            "     2290    0.006    0.000    0.023    0.000 /usr/local/lib/python3.10/dist-packages/cudf/core/buffer/utils.py:16(as_buffer)\n",
            "  739/715    0.006    0.000    0.045    0.000 /usr/local/lib/python3.10/dist-packages/cudf/core/column/column.py:1895(as_column)\n",
            "      198    0.006    0.000    0.013    0.000 {built-in method cupy._core.core.ascontiguousarray}\n",
            "\n",
            "\n"
          ]
        }
      ],
      "source": [
        "g = graphistry.nodes(prepro(askHN[['text','title']])) # 'id','parent']]))#, \\\n",
        "        # 'id', 'parent']]))#, 'descendants', 'ranking', 'deleted']]))\n",
        "\n",
        "pr = cProfile.Profile()\n",
        "pr.enable()\n",
        "\n",
        "\n",
        "# g1a = g.featurize(feature_engine='cu_cat',memoize=False)\n",
        "g1aa = g.umap(engine='cuml',memoize=False,feature_engine='cu_cat')\n",
        "\n",
        "pr.disable()\n",
        "stats = Stats(pr)\n",
        "stats.sort_stats('tottime').print_stats(20)\n",
        "\n",
        "with open('aHN_umap_cucat_3k.txt', 'w') as stream:\n",
        "    stats = Stats(pr,stream=stream)\n",
        "    stats.sort_stats('tottime').print_stats(20)"
      ]
    },
    {
      "cell_type": "code",
      "source": [
        "g1aa.plot()"
      ],
      "metadata": {
        "id": "Pf0PDKIctpJD",
        "outputId": "ffbc0a18-4833-40b2-c216-12886936b367",
        "colab": {
          "base_uri": "https://localhost:8080/",
          "height": 543
        }
      },
      "id": "Pf0PDKIctpJD",
      "execution_count": 28,
      "outputs": [
        {
          "output_type": "execute_result",
          "data": {
            "text/plain": [
              "<IPython.core.display.HTML object>"
            ],
            "text/html": [
              "\n",
              "            <iframe id=\"1f96a198-2eb8-4652-b643-5fc887a3a695\" src=\"https://hub.graphistry.com/graph/graph.html?dataset=2dadc59299774c65a66aa0d5f4c9193b&type=arrow&viztoken=52fe6a58-60ef-4a28-90c2-aaf6ae54bed2&usertag=095e53d4-pygraphistry-0.33.0+96.ga654f9f&splashAfter=1704359030&info=true&play=0\"\n",
              "                    allowfullscreen=\"true\" webkitallowfullscreen=\"true\" mozallowfullscreen=\"true\"\n",
              "                    oallowfullscreen=\"true\" msallowfullscreen=\"true\"\n",
              "                    style=\"width:100%; height:500px; border: 1px solid #DDD; overflow: hidden\"\n",
              "                    \n",
              "            >\n",
              "            </iframe>\n",
              "        \n",
              "            <script>\n",
              "                try {\n",
              "                  $(\"#1f96a198-2eb8-4652-b643-5fc887a3a695\").bind('mousewheel', function(e) { e.preventDefault(); });\n",
              "                } catch (e) { console.error('exn catching scroll', e); }\n",
              "            </script>\n",
              "        "
            ]
          },
          "metadata": {},
          "execution_count": 28
        }
      ]
    },
    {
      "cell_type": "code",
      "execution_count": 27,
      "id": "505ed578-f056-4d53-9feb-514f07aa0ca3",
      "metadata": {
        "tags": [],
        "id": "505ed578-f056-4d53-9feb-514f07aa0ca3",
        "colab": {
          "base_uri": "https://localhost:8080/"
        },
        "outputId": "2deab33e-fae0-4034-f7f3-208d38cb759e"
      },
      "outputs": [
        {
          "output_type": "stream",
          "name": "stderr",
          "text": [
            "WARNING:graphistry.umap_utils:* Ignoring target column of shape (100, 0) in UMAP fit, as it is not one dimensional"
          ]
        },
        {
          "output_type": "stream",
          "name": "stdout",
          "text": [
            "         4517897 function calls (4512835 primitive calls) in 11.920 seconds\n",
            "\n",
            "   Ordered by: internal time\n",
            "   List reduced from 2824 to 20 due to restriction <20>\n",
            "\n",
            "   ncalls  tottime  percall  cumtime  percall filename:lineno(function)\n",
            "       64    3.151    0.049    6.877    0.107 /usr/local/lib/python3.10/dist-packages/dirty_cat/_gap_encoder.py:1006(_multiplicative_update_h)\n",
            "603064/602542    1.808    0.000    1.901    0.000 {built-in method numpy.core._multiarray_umath.implement_array_function}\n",
            "        6    1.368    0.228    1.368    0.228 {built-in method cupy_backends.cuda.libs.nvrtc.compileProgram}\n",
            "   567042    0.538    0.000    2.413    0.000 <__array_function__ internals>:177(dot)\n",
            "        2    0.501    0.251    0.501    0.251 {built-in method cupy.cuda.jitify.jitify}\n",
            "       16    0.432    0.027    1.080    0.067 /usr/local/lib/python3.10/dist-packages/sklearn/feature_extraction/text.py:1258(_count_vocab)\n",
            "    13268    0.318    0.000    0.426    0.000 /usr/local/lib/python3.10/dist-packages/sklearn/feature_extraction/text.py:275(_char_ngrams)\n",
            "    16622    0.259    0.000    0.542    0.000 /usr/local/lib/python3.10/dist-packages/scipy/sparse/_sputils.py:147(get_index_dtype)\n",
            "     8206    0.225    0.000    0.676    0.000 /usr/local/lib/python3.10/dist-packages/scipy/sparse/_compressed.py:135(check_format)\n",
            "    62200    0.210    0.000    0.346    0.000 /usr/local/lib/python3.10/dist-packages/dateutil/parser/_parser.py:77(get_token)\n",
            "   567042    0.147    0.000    0.147    0.000 /usr/local/lib/python3.10/dist-packages/numpy/core/multiarray.py:736(dot)\n",
            "8206/8124    0.115    0.000    1.475    0.000 /usr/local/lib/python3.10/dist-packages/scipy/sparse/_compressed.py:25(__init__)\n",
            "      420    0.114    0.000    0.114    0.000 {built-in method scipy.sparse._sparsetools.coo_matvec}\n",
            "    16622    0.112    0.000    0.689    0.000 /usr/local/lib/python3.10/dist-packages/scipy/sparse/_base.py:1269(_get_index_dtype)\n",
            "    33263    0.109    0.000    0.109    0.000 /usr/local/lib/python3.10/dist-packages/numpy/core/getlimits.py:648(__init__)\n",
            "       10    0.104    0.010    0.368    0.037 /usr/local/lib/python3.10/dist-packages/dirty_cat/_gap_encoder.py:974(_multiplicative_update_w)\n",
            "   692351    0.098    0.000    0.098    0.000 {method 'append' of 'list' objects}\n",
            "     8206    0.065    0.000    0.147    0.000 /usr/local/lib/python3.10/dist-packages/scipy/sparse/_compressed.py:1167(prune)\n",
            "        9    0.064    0.007    0.064    0.007 {built-in method _imp.create_dynamic}\n",
            "     7674    0.062    0.000    1.393    0.000 /usr/local/lib/python3.10/dist-packages/scipy/sparse/_csr.py:241(__iter__)\n",
            "\n",
            "\n"
          ]
        }
      ],
      "source": [
        "# !pip install dirty_cat\n",
        "g = graphistry.nodes(prepro(askHN[['text','title']]))\n",
        "pr = cProfile.Profile()\n",
        "pr.enable()\n",
        "\n",
        "\n",
        "# g1b = g.featurize(feature_engine='dirty_cat',memoize=False)\n",
        "g1bb = g.umap(engine='cuml',memoize=False,feature_engine='dirty_cat') ## crashes colab\n",
        "\n",
        "pr.disable()\n",
        "stats = Stats(pr)\n",
        "stats.sort_stats('tottime').print_stats(20)\n",
        "\n",
        "with open('aHN_umap_dirtycat_3k.txt', 'w') as stream:\n",
        "    stats = Stats(pr,stream=stream)\n",
        "    stats.sort_stats('tottime').print_stats(20)"
      ]
    },
    {
      "cell_type": "code",
      "source": [
        "g1bb.plot()"
      ],
      "metadata": {
        "id": "zc_KbYkmtwEY",
        "outputId": "aad041b9-61b4-471e-e499-b313d8b0843b",
        "colab": {
          "base_uri": "https://localhost:8080/",
          "height": 543
        }
      },
      "id": "zc_KbYkmtwEY",
      "execution_count": 29,
      "outputs": [
        {
          "output_type": "execute_result",
          "data": {
            "text/plain": [
              "<IPython.core.display.HTML object>"
            ],
            "text/html": [
              "\n",
              "            <iframe id=\"57230248-2335-4e7e-be00-d9edbdb95639\" src=\"https://hub.graphistry.com/graph/graph.html?dataset=84b7ec72b8c44214bcf04801158c4856&type=arrow&viztoken=84a3427e-6390-4c34-a928-5ae2c836a78d&usertag=095e53d4-pygraphistry-0.33.0+96.ga654f9f&splashAfter=1704359057&info=true&play=0\"\n",
              "                    allowfullscreen=\"true\" webkitallowfullscreen=\"true\" mozallowfullscreen=\"true\"\n",
              "                    oallowfullscreen=\"true\" msallowfullscreen=\"true\"\n",
              "                    style=\"width:100%; height:500px; border: 1px solid #DDD; overflow: hidden\"\n",
              "                    \n",
              "            >\n",
              "            </iframe>\n",
              "        \n",
              "            <script>\n",
              "                try {\n",
              "                  $(\"#57230248-2335-4e7e-be00-d9edbdb95639\").bind('mousewheel', function(e) { e.preventDefault(); });\n",
              "                } catch (e) { console.error('exn catching scroll', e); }\n",
              "            </script>\n",
              "        "
            ]
          },
          "metadata": {},
          "execution_count": 29
        }
      ]
    },
    {
      "cell_type": "markdown",
      "id": "6657b008-5094-42fd-96a8-177edf7e5ebd",
      "metadata": {
        "jp-MarkdownHeadingCollapsed": true,
        "tags": [],
        "id": "6657b008-5094-42fd-96a8-177edf7e5ebd"
      },
      "source": [
        "## 20newsgroups"
      ]
    },
    {
      "cell_type": "code",
      "execution_count": 20,
      "id": "625c5db9-bd1e-40df-9cce-604a675de2aa",
      "metadata": {
        "id": "625c5db9-bd1e-40df-9cce-604a675de2aa"
      },
      "outputs": [],
      "source": [
        "from sklearn.datasets import fetch_20newsgroups\n",
        "# newsgroups = fetch_20newsgroups()#categories=categories)\n",
        "n_samples = 400\n",
        "# n_features = 1000\n",
        "# n_components = 10\n",
        "# n_top_words = 20\n",
        "# batch_size = 128\n",
        "# init = \"nndsvda\"\n",
        "\n",
        "news, _ = fetch_20newsgroups(\n",
        "    shuffle=True,\n",
        "    random_state=1,\n",
        "    remove=(\"headers\", \"footers\", \"quotes\"),\n",
        "    return_X_y=True,\n",
        ")\n",
        "\n",
        "news = news[:n_samples]\n",
        "news=pd.DataFrame(news)"
      ]
    },
    {
      "cell_type": "code",
      "source": [
        "# !pip install dirty_cat\n",
        "# from dirty_cat import TableVectorizer\n",
        "# tv = TableVectorizer()\n",
        "# tv.fit_transform(news)\n",
        "# tv.get_feature_names()"
      ],
      "metadata": {
        "id": "cJHJV1GC8Akm"
      },
      "id": "cJHJV1GC8Akm",
      "execution_count": null,
      "outputs": []
    },
    {
      "cell_type": "code",
      "source": [
        "# from cu_cat import TableVectorizer, GapEncoder\n",
        "# tv = TableVectorizer()\n",
        "# tv.fit_transform(news)\n",
        "# tv.get_feature_names()"
      ],
      "metadata": {
        "id": "1yHMK9q05f-6"
      },
      "id": "1yHMK9q05f-6",
      "execution_count": null,
      "outputs": []
    },
    {
      "cell_type": "code",
      "execution_count": 30,
      "id": "9683c33e-aa71-47a2-87f2-16b69d482a85",
      "metadata": {
        "id": "9683c33e-aa71-47a2-87f2-16b69d482a85",
        "colab": {
          "base_uri": "https://localhost:8080/"
        },
        "outputId": "bd7d4ded-64df-44bc-9924-6af1afb1f92c"
      },
      "outputs": [
        {
          "output_type": "stream",
          "name": "stderr",
          "text": [
            "WARNING:graphistry.umap_utils:* Ignoring target column of shape (400, 0) in UMAP fit, as it is not one dimensional"
          ]
        },
        {
          "output_type": "stream",
          "name": "stdout",
          "text": [
            "         802602 function calls (797906 primitive calls) in 1.453 seconds\n",
            "\n",
            "   Ordered by: internal time\n",
            "   List reduced from 2235 to 20 due to restriction <20>\n",
            "\n",
            "   ncalls  tottime  percall  cumtime  percall filename:lineno(function)\n",
            "     2057    0.402    0.000    0.642    0.000 /usr/lib/python3.10/contextlib.py:76(inner)\n",
            "     3272    0.193    0.000    0.199    0.000 /usr/local/lib/python3.10/dist-packages/numba/misc/dummyarray.py:110(compute_index)\n",
            "     29/6    0.042    0.001    0.739    0.123 /usr/local/lib/python3.10/dist-packages/cuml/internals/api_decorators.py:138(wrapper)\n",
            "        2    0.037    0.019    0.037    0.019 {method 'read' of '_io.BufferedReader' objects}\n",
            "149377/149253    0.036    0.000    0.059    0.000 {built-in method builtins.isinstance}\n",
            "     8029    0.026    0.000    0.062    0.000 /usr/local/lib/python3.10/dist-packages/cudf/core/dtypes.py:969(is_categorical_dtype)\n",
            "        7    0.025    0.004    0.394    0.056 /usr/local/lib/python3.10/dist-packages/cudf/core/frame.py:416(_to_array)\n",
            "     1208    0.018    0.000    0.028    0.000 {built-in method cupy._core.core.array}\n",
            "     3771    0.017    0.000    0.029    0.000 /usr/local/lib/python3.10/dist-packages/cudf/core/column/numerical.py:75(__init__)\n",
            "      543    0.017    0.000    0.021    0.000 /usr/local/lib/python3.10/dist-packages/rmm/allocators/cupy.py:23(rmm_cupy_allocator)\n",
            "10577/10576    0.016    0.000    0.018    0.000 /usr/local/lib/python3.10/dist-packages/cudf/core/dtypes.py:33(dtype)\n",
            "34113/34107    0.013    0.000    0.015    0.000 {built-in method builtins.hasattr}\n",
            "      397    0.012    0.000    0.028    0.000 {built-in method cupy._core.core.ascontiguousarray}\n",
            "     3828    0.011    0.000    0.074    0.000 /usr/local/lib/python3.10/dist-packages/cudf/core/column/column.py:1522(build_column)\n",
            "     4269    0.010    0.000    0.023    0.000 /usr/local/lib/python3.10/dist-packages/cudf/core/buffer/buffer.py:109(_from_device_memory)\n",
            "     3829    0.010    0.000    0.038    0.000 /usr/local/lib/python3.10/dist-packages/cudf/core/buffer/utils.py:16(as_buffer)\n",
            "     2538    0.010    0.000    0.013    0.000 /usr/local/lib/python3.10/dist-packages/numba/cuda/cudadrv/driver.py:328(safe_cuda_api_call)\n",
            "     1636    0.008    0.000    0.222    0.000 /usr/local/lib/python3.10/dist-packages/numba/misc/dummyarray.py:160(__init__)\n",
            "9979/9141    0.008    0.000    0.020    0.000 {built-in method builtins.any}\n",
            "     1636    0.008    0.000    0.238    0.000 /usr/local/lib/python3.10/dist-packages/numba/cuda/cudadrv/devicearray.py:68(__init__)\n",
            "\n",
            "\n"
          ]
        }
      ],
      "source": [
        "g = graphistry.nodes(prepro(news))#.replace('nan',np.nan).fillna('0o0o0'))\n",
        "pr = cProfile.Profile()\n",
        "pr.enable()\n",
        "\n",
        "\n",
        "# g2 = g.featurize(feature_engine='cu_cat',memoize=False)\n",
        "g4a = g.umap(engine='cuml',feature_engine='cu_cat',memoize=False)\n",
        "\n",
        "pr.disable()\n",
        "stats = Stats(pr)\n",
        "stats.sort_stats('tottime').print_stats(20)\n",
        "\n",
        "with open('20news_umap_cucat.txt', 'w') as stream:\n",
        "    stats = Stats(pr,stream=stream)\n",
        "    stats.sort_stats('tottime').print_stats(20)"
      ]
    },
    {
      "cell_type": "code",
      "source": [
        "g4a.plot()"
      ],
      "metadata": {
        "id": "WhYvL4wtIM5k",
        "outputId": "f2002ffc-6e88-4680-d56d-f254502eac24",
        "colab": {
          "base_uri": "https://localhost:8080/",
          "height": 543
        }
      },
      "id": "WhYvL4wtIM5k",
      "execution_count": 31,
      "outputs": [
        {
          "output_type": "execute_result",
          "data": {
            "text/plain": [
              "<IPython.core.display.HTML object>"
            ],
            "text/html": [
              "\n",
              "            <iframe id=\"b07dca97-09d0-4a0a-9724-fa5558efb9b3\" src=\"https://hub.graphistry.com/graph/graph.html?dataset=befaf032548d465488d4b5c76fae3216&type=arrow&viztoken=bdde7365-d780-48a6-a7c5-670bd84a42f4&usertag=095e53d4-pygraphistry-0.33.0+96.ga654f9f&splashAfter=1704359204&info=true&play=0\"\n",
              "                    allowfullscreen=\"true\" webkitallowfullscreen=\"true\" mozallowfullscreen=\"true\"\n",
              "                    oallowfullscreen=\"true\" msallowfullscreen=\"true\"\n",
              "                    style=\"width:100%; height:500px; border: 1px solid #DDD; overflow: hidden\"\n",
              "                    \n",
              "            >\n",
              "            </iframe>\n",
              "        \n",
              "            <script>\n",
              "                try {\n",
              "                  $(\"#b07dca97-09d0-4a0a-9724-fa5558efb9b3\").bind('mousewheel', function(e) { e.preventDefault(); });\n",
              "                } catch (e) { console.error('exn catching scroll', e); }\n",
              "            </script>\n",
              "        "
            ]
          },
          "metadata": {},
          "execution_count": 31
        }
      ]
    },
    {
      "cell_type": "code",
      "execution_count": 54,
      "id": "b88c5fba-32d3-4140-9a9e-8fd6a652f07c",
      "metadata": {
        "id": "b88c5fba-32d3-4140-9a9e-8fd6a652f07c",
        "colab": {
          "base_uri": "https://localhost:8080/"
        },
        "outputId": "7e91c0d5-7884-4576-efda-e2b1cafc3b45"
      },
      "outputs": [
        {
          "output_type": "stream",
          "name": "stderr",
          "text": [
            "WARNING:graphistry.umap_utils:* Ignoring target column of shape (400, 0) in UMAP fit, as it is not one dimensional"
          ]
        },
        {
          "output_type": "stream",
          "name": "stdout",
          "text": [
            "         16382190 function calls (16376295 primitive calls) in 53.312 seconds\n",
            "\n",
            "   Ordered by: internal time\n",
            "   List reduced from 2320 to 20 due to restriction <20>\n",
            "\n",
            "   ncalls  tottime  percall  cumtime  percall filename:lineno(function)\n",
            "      236   18.525    0.078   40.050    0.170 /usr/local/lib/python3.10/dist-packages/dirty_cat/_gap_encoder.py:1006(_multiplicative_update_h)\n",
            "2683317/2683031   13.630    0.000   15.262    0.000 {built-in method numpy.core._multiarray_umath.implement_array_function}\n",
            "  2561136    2.594    0.000   16.537    0.000 <__array_function__ internals>:177(dot)\n",
            "        8    2.139    0.267    5.112    0.639 /usr/local/lib/python3.10/dist-packages/sklearn/feature_extraction/text.py:1258(_count_vocab)\n",
            "       20    1.392    0.070    3.643    0.182 /usr/local/lib/python3.10/dist-packages/dirty_cat/_gap_encoder.py:974(_multiplicative_update_w)\n",
            "    54888    1.351    0.000    1.832    0.000 /usr/local/lib/python3.10/dist-packages/sklearn/feature_extraction/text.py:275(_char_ngrams)\n",
            "    60082    1.021    0.000    2.161    0.000 /usr/local/lib/python3.10/dist-packages/scipy/sparse/_sputils.py:147(get_index_dtype)\n",
            "    29957    0.874    0.000    2.684    0.000 /usr/local/lib/python3.10/dist-packages/scipy/sparse/_compressed.py:135(check_format)\n",
            "        3    0.790    0.263    0.806    0.269 /usr/local/lib/python3.10/dist-packages/numpy/lib/arraysetops.py:523(in1d)\n",
            "      840    0.663    0.001    0.663    0.001 {built-in method scipy.sparse._sparsetools.coo_matvec}\n",
            "  2561136    0.642    0.000    0.642    0.000 /usr/local/lib/python3.10/dist-packages/numpy/core/multiarray.py:736(dot)\n",
            "    90001    0.588    0.000    0.588    0.000 {built-in method numpy.array}\n",
            "    60082    0.490    0.000    2.800    0.000 /usr/local/lib/python3.10/dist-packages/scipy/sparse/_base.py:1269(_get_index_dtype)\n",
            "29957/29916    0.475    0.000    6.274    0.000 /usr/local/lib/python3.10/dist-packages/scipy/sparse/_compressed.py:25(__init__)\n",
            "   120175    0.447    0.000    0.447    0.000 /usr/local/lib/python3.10/dist-packages/numpy/core/getlimits.py:648(__init__)\n",
            "  3784549    0.396    0.000    0.396    0.000 {method 'append' of 'list' objects}\n",
            "       41    0.389    0.009    0.389    0.009 {built-in method scipy.sparse._sparsetools.csc_tocsr}\n",
            "    29676    0.321    0.000    6.060    0.000 /usr/local/lib/python3.10/dist-packages/scipy/sparse/_csr.py:241(__iter__)\n",
            "    94422    0.309    0.000    0.493    0.000 /usr/local/lib/python3.10/dist-packages/dateutil/parser/_parser.py:77(get_token)\n",
            "181976/181968    0.296    0.000    0.296    0.000 {built-in method numpy.asarray}\n",
            "\n",
            "\n"
          ]
        }
      ],
      "source": [
        "g = graphistry.nodes(news)\n",
        "pr = cProfile.Profile()\n",
        "pr.enable()\n",
        "\n",
        "\n",
        "# g2 = g.featurize(feature_engine='dirty_cat',memoize=False)\n",
        "g4b = g.umap(engine='cuml',feature_engine='dirty_cat',memoize=False)\n",
        "\n",
        "pr.disable()\n",
        "stats = Stats(pr)\n",
        "stats.sort_stats('tottime').print_stats(20)\n",
        "\n",
        "with open('20news_umap_dirtycat.txt', 'w') as stream:\n",
        "    stats = Stats(pr,stream=stream)\n",
        "    stats.sort_stats('tottime').print_stats(20)"
      ]
    },
    {
      "cell_type": "code",
      "source": [
        "g4b.plot()"
      ],
      "metadata": {
        "colab": {
          "base_uri": "https://localhost:8080/",
          "height": 543
        },
        "id": "MDWGNtj5lvIF",
        "outputId": "fa65f00d-fd96-484f-bf73-a82aa674b958"
      },
      "id": "MDWGNtj5lvIF",
      "execution_count": 55,
      "outputs": [
        {
          "output_type": "execute_result",
          "data": {
            "text/plain": [
              "<IPython.core.display.HTML object>"
            ],
            "text/html": [
              "\n",
              "            <iframe id=\"25147a0c-b720-48c3-a17b-21ad4c3391d3\" src=\"https://hub.graphistry.com/graph/graph.html?dataset=48f68f1423bf431ea6f9a33ebc78b108&type=arrow&viztoken=79c5efd3-2771-40e7-a4f4-2058b192363c&usertag=095e53d4-pygraphistry-0.33.0+96.ga654f9f&splashAfter=1704359892&info=true&play=0\"\n",
              "                    allowfullscreen=\"true\" webkitallowfullscreen=\"true\" mozallowfullscreen=\"true\"\n",
              "                    oallowfullscreen=\"true\" msallowfullscreen=\"true\"\n",
              "                    style=\"width:100%; height:500px; border: 1px solid #DDD; overflow: hidden\"\n",
              "                    \n",
              "            >\n",
              "            </iframe>\n",
              "        \n",
              "            <script>\n",
              "                try {\n",
              "                  $(\"#25147a0c-b720-48c3-a17b-21ad4c3391d3\").bind('mousewheel', function(e) { e.preventDefault(); });\n",
              "                } catch (e) { console.error('exn catching scroll', e); }\n",
              "            </script>\n",
              "        "
            ]
          },
          "metadata": {},
          "execution_count": 55
        }
      ]
    },
    {
      "cell_type": "markdown",
      "id": "b9fa2d4e-53e8-4eb5-bdbf-c5c1908159ad",
      "metadata": {
        "jp-MarkdownHeadingCollapsed": true,
        "tags": [],
        "id": "b9fa2d4e-53e8-4eb5-bdbf-c5c1908159ad"
      },
      "source": [
        "## redteam"
      ]
    },
    {
      "cell_type": "code",
      "execution_count": 32,
      "id": "3fe52faa-c35c-492e-98c1-7cfc46888a5f",
      "metadata": {
        "tags": [],
        "id": "3fe52faa-c35c-492e-98c1-7cfc46888a5f"
      },
      "outputs": [],
      "source": [
        "df = pd.read_csv('https://gist.githubusercontent.com/silkspace/c7b50d0c03dc59f63c48d68d696958ff/raw/31d918267f86f8252d42d2e9597ba6fc03fcdac2/redteam_50k.csv', index_col=0)\n",
        "red_team = pd.read_csv('https://gist.githubusercontent.com/silkspace/5cf5a94b9ac4b4ffe38904f20d93edb1/raw/888dabd86f88ea747cf9ff5f6c44725e21536465/redteam_labels.csv', index_col=0)\n",
        "df['feats'] = df.src_computer + ' ' + df.dst_computer + ' ' + df.auth_type + ' ' + df.logontype\n",
        "df['feats2'] = df.src_computer + ' ' + df.dst_computer\n",
        "ndf = df.drop_duplicates(subset=['feats'])\n",
        "tdf = pd.concat([red_team.reset_index(), ndf.reset_index()])\n",
        "tdf['node'] = range(len(tdf))"
      ]
    },
    {
      "cell_type": "code",
      "execution_count": 33,
      "id": "50a61cf4-316f-4a78-854d-72c73f89e4ce",
      "metadata": {
        "tags": [],
        "id": "50a61cf4-316f-4a78-854d-72c73f89e4ce",
        "colab": {
          "base_uri": "https://localhost:8080/"
        },
        "outputId": "4a95762f-4fcc-4ccf-d7ac-b3794c2c2a00"
      },
      "outputs": [
        {
          "output_type": "stream",
          "name": "stderr",
          "text": [
            "WARNING:graphistry.umap_utils:* Ignoring target column of shape (19762, 0) in UMAP fit, as it is not one dimensional"
          ]
        },
        {
          "output_type": "stream",
          "name": "stdout",
          "text": [
            "         1225352 function calls (1204056 primitive calls) in 52.774 seconds\n",
            "\n",
            "   Ordered by: internal time\n",
            "   List reduced from 2680 to 20 due to restriction <20>\n",
            "\n",
            "   ncalls  tottime  percall  cumtime  percall filename:lineno(function)\n",
            "        3   18.610    6.203   18.610    6.203 /usr/local/lib/python3.10/dist-packages/numpy/lib/arraysetops.py:523(in1d)\n",
            "        8   15.074    1.884   19.962    2.495 /usr/local/lib/python3.10/dist-packages/cu_cat/_gap_encoder.py:1242(_multiplicative_update_h_smallfast)\n",
            "       45    9.832    0.218    9.832    0.218 {built-in method cupy_backends.cuda.libs.nvrtc.compileProgram}\n",
            "        7    1.909    0.273    2.193    0.313 /usr/local/lib/python3.10/dist-packages/cu_cat/_gap_encoder.py:273(_get_H)\n",
            "     3590    1.698    0.000    1.770    0.000 /usr/local/lib/python3.10/dist-packages/rmm/allocators/cupy.py:23(rmm_cupy_allocator)\n",
            "        5    0.928    0.186    0.928    0.186 {built-in method gc.collect}\n",
            "        5    0.510    0.102    2.532    0.506 /usr/local/lib/python3.10/dist-packages/cu_cat/_gap_encoder.py:1111(_multiplicative_update_w_smallfast)\n",
            "        2    0.498    0.249    0.498    0.249 {built-in method cupy.cuda.jitify.jitify}\n",
            "1050/1035    0.429    0.000    0.599    0.001 /usr/lib/python3.10/contextlib.py:76(inner)\n",
            "      418    0.399    0.001    0.449    0.001 {method 'update' of 'dict' objects}\n",
            "      158    0.303    0.002    1.914    0.012 /usr/local/lib/python3.10/dist-packages/cupyx/scipy/sparse/_csr.py:148(__mul__)\n",
            "    91451    0.183    0.000    0.488    0.000 {built-in method cupy._core.core.array}\n",
            "      161    0.133    0.001    0.135    0.001 {built-in method cupy._core._routines_linalg.matmul}\n",
            "     21/6    0.108    0.005   52.410    8.735 /usr/local/lib/python3.10/dist-packages/cuml/internals/api_decorators.py:138(wrapper)\n",
            "        5    0.104    0.021    0.104    0.021 {method 'read' of '_io.BufferedReader' objects}\n",
            "   174287    0.095    0.000    0.134    0.000 /usr/local/lib/python3.10/dist-packages/numpy/core/numeric.py:1873(isscalar)\n",
            "286138/285496    0.083    0.000    0.108    0.000 {built-in method builtins.isinstance}\n",
            "      161    0.063    0.000    0.063    0.000 {built-in method cupy_backends.cuda.libs.cusparse.spMM}\n",
            "       67    0.051    0.001    0.051    0.001 {method 'argsort' of 'numpy.ndarray' objects}\n",
            "        2    0.046    0.023    0.046    0.023 {built-in method cupy_backends.cuda.libs.cusparse.spMV}\n",
            "\n",
            "\n",
            "CPU times: user 48.2 s, sys: 4.44 s, total: 52.7 s\n",
            "Wall time: 52.9 s\n"
          ]
        }
      ],
      "source": [
        "%%time\n",
        "# process = True  # set to false after it's run for ease of speed\n",
        "pr = cProfile.Profile()\n",
        "pr.enable()\n",
        "g = graphistry.nodes(tdf, 'node')\n",
        "g2a = g.umap(X=['feats'],\n",
        "            min_words=1000000, # force high so that we don't use Sentence Transformers\n",
        "            cardinality_threshold=4, # set low so we force topic model\n",
        "            n_topics=32, # number of topics\n",
        "            use_scaler=None,\n",
        "            feature_engine='cu_cat',\n",
        "            memoize=False,\n",
        "            engine='cuml',\n",
        "            use_scaler_target=None\n",
        "           )\n",
        "\n",
        "pr.disable()\n",
        "stats = Stats(pr)\n",
        "stats.sort_stats('tottime').print_stats(20)\n",
        "\n",
        "with open('redteam_umap_cucat.txt', 'w') as stream:\n",
        "    stats = Stats(pr,stream=stream)\n",
        "    stats.sort_stats('tottime').print_stats(20)"
      ]
    },
    {
      "cell_type": "code",
      "source": [
        "g2a.plot()"
      ],
      "metadata": {
        "id": "Sb_cN11Cu-ka",
        "outputId": "c130420c-7ba1-4a70-abeb-a42493d8783e",
        "colab": {
          "base_uri": "https://localhost:8080/",
          "height": 543
        }
      },
      "id": "Sb_cN11Cu-ka",
      "execution_count": 47,
      "outputs": [
        {
          "output_type": "execute_result",
          "data": {
            "text/plain": [
              "<IPython.core.display.HTML object>"
            ],
            "text/html": [
              "\n",
              "            <iframe id=\"50a7f583-7a8f-421c-b8b6-d66ad66201bf\" src=\"https://hub.graphistry.com/graph/graph.html?dataset=0d7a94d5c87046df9cecc2d7bb75bebf&type=arrow&viztoken=b4499ce8-b1a5-42d4-86b7-c62b2718cc11&usertag=095e53d4-pygraphistry-0.33.0+96.ga654f9f&splashAfter=1704359730&info=true&play=0\"\n",
              "                    allowfullscreen=\"true\" webkitallowfullscreen=\"true\" mozallowfullscreen=\"true\"\n",
              "                    oallowfullscreen=\"true\" msallowfullscreen=\"true\"\n",
              "                    style=\"width:100%; height:500px; border: 1px solid #DDD; overflow: hidden\"\n",
              "                    \n",
              "            >\n",
              "            </iframe>\n",
              "        \n",
              "            <script>\n",
              "                try {\n",
              "                  $(\"#50a7f583-7a8f-421c-b8b6-d66ad66201bf\").bind('mousewheel', function(e) { e.preventDefault(); });\n",
              "                } catch (e) { console.error('exn catching scroll', e); }\n",
              "            </script>\n",
              "        "
            ]
          },
          "metadata": {},
          "execution_count": 47
        }
      ]
    },
    {
      "cell_type": "code",
      "execution_count": 34,
      "id": "65589ec6-7112-43eb-895c-8f0e3610f0cf",
      "metadata": {
        "tags": [],
        "id": "65589ec6-7112-43eb-895c-8f0e3610f0cf",
        "colab": {
          "base_uri": "https://localhost:8080/"
        },
        "outputId": "0d51d953-431e-4e56-c77a-b60dead1ba40"
      },
      "outputs": [
        {
          "output_type": "stream",
          "name": "stderr",
          "text": [
            "WARNING:graphistry.umap_utils:* Ignoring target column of shape (19762, 0) in UMAP fit, as it is not one dimensional"
          ]
        },
        {
          "output_type": "stream",
          "name": "stdout",
          "text": [
            "         26809875 function calls (26613122 primitive calls) in 98.518 seconds\n",
            "\n",
            "   Ordered by: internal time\n",
            "   List reduced from 2240 to 20 due to restriction <20>\n",
            "\n",
            "   ncalls  tottime  percall  cumtime  percall filename:lineno(function)\n",
            "     1054   20.047    0.019   59.218    0.056 /usr/local/lib/python3.10/dist-packages/dirty_cat/_gap_encoder.py:1006(_multiplicative_update_h)\n",
            "        3   17.386    5.795   17.386    5.795 /usr/local/lib/python3.10/dist-packages/numpy/lib/arraysetops.py:523(in1d)\n",
            "3337142/3336917   14.679    0.000   32.405    0.000 {built-in method numpy.core._multiarray_umath.implement_array_function}\n",
            "      775    4.901    0.006   14.259    0.018 /usr/local/lib/python3.10/dist-packages/dirty_cat/_gap_encoder.py:974(_multiplicative_update_w)\n",
            "   272948    4.805    0.000   10.109    0.000 /usr/local/lib/python3.10/dist-packages/scipy/sparse/_sputils.py:147(get_index_dtype)\n",
            "   134890    3.919    0.000   12.833    0.000 /usr/local/lib/python3.10/dist-packages/scipy/sparse/_compressed.py:135(check_format)\n",
            "  2781815    3.465    0.000   17.657    0.000 <__array_function__ internals>:177(dot)\n",
            "134890/134859    2.057    0.000   26.781    0.000 /usr/local/lib/python3.10/dist-packages/scipy/sparse/_compressed.py:25(__init__)\n",
            "   272948    2.015    0.000   12.799    0.000 /usr/local/lib/python3.10/dist-packages/scipy/sparse/_base.py:1269(_get_index_dtype)\n",
            "   545907    2.012    0.000    2.012    0.000 /usr/local/lib/python3.10/dist-packages/numpy/core/getlimits.py:648(__init__)\n",
            "   134890    1.320    0.000    2.936    0.000 /usr/local/lib/python3.10/dist-packages/scipy/sparse/_compressed.py:1167(prune)\n",
            "        8    1.180    0.148    3.393    0.424 /usr/local/lib/python3.10/dist-packages/sklearn/feature_extraction/text.py:1258(_count_vocab)\n",
            "   133914    1.115    0.000   26.838    0.000 /usr/local/lib/python3.10/dist-packages/scipy/sparse/_csr.py:241(__iter__)\n",
            "   136443    1.106    0.000    2.167    0.000 /usr/local/lib/python3.10/dist-packages/scipy/sparse/_sputils.py:294(check_shape)\n",
            "   409354    0.993    0.000    0.993    0.000 {built-in method numpy.array}\n",
            "  2781815    0.957    0.000    0.957    0.000 /usr/local/lib/python3.10/dist-packages/numpy/core/multiarray.py:736(dot)\n",
            "    24800    0.916    0.000    0.916    0.000 {built-in method scipy.sparse._sparsetools.coo_matvec}\n",
            "    71190    0.890    0.000    1.227    0.000 /usr/local/lib/python3.10/dist-packages/sklearn/feature_extraction/text.py:275(_char_ngrams)\n",
            "   546031    0.788    0.000    2.381    0.000 <__array_function__ internals>:177(can_cast)\n",
            "      775    0.720    0.001    1.068    0.001 /usr/local/lib/python3.10/dist-packages/dirty_cat/_gap_encoder.py:964(_rescale_W)\n",
            "\n",
            "\n",
            "CPU times: user 1min 34s, sys: 39.9 s, total: 2min 14s\n",
            "Wall time: 1min 38s\n"
          ]
        }
      ],
      "source": [
        "%%time\n",
        "pr = cProfile.Profile()\n",
        "pr.enable()\n",
        "g = graphistry.nodes(tdf, 'node')\n",
        "g2b = g.umap(X=['feats'],\n",
        "            min_words=1000000, # force high so that we don't use Sentence Transformers\n",
        "            cardinality_threshold=4, # set low so we force topic model\n",
        "            n_topics=32, # number of topics\n",
        "            use_scaler=None,\n",
        "            feature_engine='dirty_cat',\n",
        "            memoize=False,\n",
        "            engine='cuml',\n",
        "            use_scaler_target=None\n",
        "           )\n",
        "\n",
        "pr.disable()\n",
        "stats = Stats(pr)\n",
        "stats.sort_stats('tottime').print_stats(20)\n",
        "\n",
        "with open('redteam_umap_dirtycat.txt', 'w') as stream:\n",
        "    stats = Stats(pr,stream=stream)\n",
        "    stats.sort_stats('tottime').print_stats(20)"
      ]
    },
    {
      "cell_type": "code",
      "source": [
        "g2b.plot()"
      ],
      "metadata": {
        "id": "iIGD67l6vYjL"
      },
      "id": "iIGD67l6vYjL",
      "execution_count": null,
      "outputs": []
    },
    {
      "cell_type": "markdown",
      "id": "3eb4ae8b-2a14-43fe-ac7f-1714e38272aa",
      "metadata": {
        "jp-MarkdownHeadingCollapsed": true,
        "tags": [],
        "id": "3eb4ae8b-2a14-43fe-ac7f-1714e38272aa"
      },
      "source": [
        "## CTU-13 malware dataset"
      ]
    },
    {
      "cell_type": "code",
      "execution_count": 35,
      "id": "3b2f1b00-6984-44c2-9148-6f38282bc0de",
      "metadata": {
        "tags": [],
        "id": "3b2f1b00-6984-44c2-9148-6f38282bc0de",
        "colab": {
          "base_uri": "https://localhost:8080/"
        },
        "outputId": "33792ee0-bb9c-49b9-9815-7428a1a1c349"
      },
      "outputs": [
        {
          "output_type": "stream",
          "name": "stdout",
          "text": [
            "Botnet abundance: 0.69%\n"
          ]
        }
      ],
      "source": [
        "edf = pd.read_csv('https://gist.githubusercontent.com/silkspace/33bde3e69ae24fee1298a66d1e00b467/raw/dc66bd6f1687270be7098f94b3929d6a055b4438/malware_bots.csv', index_col=0)\n",
        "T = edf.Label.apply(lambda x: True if 'Botnet' in x else False)\n",
        "bot = edf[T]\n",
        "nbot = edf[~T]\n",
        "print(f'Botnet abundance: {100*len(bot)/len(edf):0.2f}%')# so botnet traffic makes up a tiny fraction of total\n",
        "\n",
        "# let's balance the dataset in a 10-1 ratio, for speed and demonstrative purposes\n",
        "negs = nbot.sample(10*len(bot))\n",
        "edf = pd.concat([bot, negs])  # top part of arrays are bot traffic, then all non-bot traffic\n",
        "edf = edf.drop_duplicates()\n",
        "\n",
        "# some useful indicators for later that predict Botnet as Bool and Int\n",
        "Y = edf.Label.apply(lambda x: 1 if 'Botnet' in x else 0)  # np.array(T)\n",
        "\n",
        "# Later we will use and exploit any meaning shared between the labels in a latent distribution\n",
        "\n",
        "# add it to the dataframe\n",
        "edf['bot'] = Y\n",
        "\n",
        "# name some columns for edges and features\n",
        "src = 'SrcAddr'\n",
        "dst = 'DstAddr'\n",
        "good_cols_with_edges = ['Dur', 'Proto', 'Sport',\n",
        "       'Dport', 'State', 'TotPkts', 'TotBytes', 'SrcBytes', src, dst]\n",
        "\n",
        "good_cols_without_edges = ['Dur', 'Proto', 'Sport',\n",
        "       'Dport', 'State', 'TotPkts', 'TotBytes', 'SrcBytes']\n",
        "\n",
        "## some encoding parameters\n",
        "n_topics = 20\n",
        "n_topics_target = 7\n",
        "\n"
      ]
    },
    {
      "cell_type": "code",
      "source": [
        "# # edf.DstAddr.str.len().sort_values()#.dropna()\n",
        "\n",
        "# edf.DstAddr=edf.DstAddr.str.replace('.', 'dot', regex=False)\n",
        "# edf.SrcAddr=edf.SrcAddr.str.replace('.', 'dot', regex=False)"
      ],
      "metadata": {
        "id": "AmEhVvu4URF-"
      },
      "id": "AmEhVvu4URF-",
      "execution_count": 36,
      "outputs": []
    },
    {
      "cell_type": "code",
      "source": [
        "# edf.DstAddr"
      ],
      "metadata": {
        "id": "kb2-BSmZtTSd"
      },
      "id": "kb2-BSmZtTSd",
      "execution_count": 37,
      "outputs": []
    },
    {
      "cell_type": "code",
      "execution_count": 38,
      "id": "b0947964-efba-43be-acdc-39e52d7e2261",
      "metadata": {
        "tags": [],
        "id": "b0947964-efba-43be-acdc-39e52d7e2261",
        "colab": {
          "base_uri": "https://localhost:8080/"
        },
        "outputId": "78a9d5eb-0eee-4c27-8186-bbe020561cb1"
      },
      "outputs": [
        {
          "output_type": "stream",
          "name": "stderr",
          "text": [
            "WARNING:graphistry.umap_utils:* Ignoring target column of shape (9911, 0) in UMAP fit, as it is not one dimensional"
          ]
        },
        {
          "output_type": "stream",
          "name": "stdout",
          "text": [
            "         1465360 function calls (1428219 primitive calls) in 10.429 seconds\n",
            "\n",
            "   Ordered by: internal time\n",
            "   List reduced from 2608 to 20 due to restriction <20>\n",
            "\n",
            "   ncalls  tottime  percall  cumtime  percall filename:lineno(function)\n",
            "       10    1.871    0.187    1.871    0.187 {built-in method gc.collect}\n",
            "        4    1.410    0.353    1.410    0.353 {built-in method cupy_backends.cuda.libs.nvrtc.compileProgram}\n",
            "       16    1.085    0.068    2.122    0.133 /usr/local/lib/python3.10/dist-packages/cu_cat/_gap_encoder.py:1242(_multiplicative_update_h_smallfast)\n",
            "       14    0.893    0.064    1.037    0.074 /usr/local/lib/python3.10/dist-packages/cu_cat/_gap_encoder.py:273(_get_H)\n",
            "        6    0.893    0.149    0.893    0.149 /usr/local/lib/python3.10/dist-packages/numpy/lib/arraysetops.py:523(in1d)\n",
            "        2    0.729    0.364    0.729    0.364 {built-in method cupy.cuda.jitify.jitify}\n",
            "     7141    0.471    0.000    0.551    0.000 /usr/local/lib/python3.10/dist-packages/rmm/allocators/cupy.py:23(rmm_cupy_allocator)\n",
            "2079/2049    0.457    0.000    0.777    0.000 /usr/lib/python3.10/contextlib.py:76(inner)\n",
            "      313    0.112    0.000    1.927    0.006 /usr/local/lib/python3.10/dist-packages/cupyx/scipy/sparse/_csr.py:148(__mul__)\n",
            "    47023    0.100    0.000    0.112    0.000 {built-in method cupy._core.core.array}\n",
            "      706    0.099    0.000    0.111    0.000 {method 'update' of 'dict' objects}\n",
            "     28/6    0.099    0.004   10.127    1.688 /usr/local/lib/python3.10/dist-packages/cuml/internals/api_decorators.py:138(wrapper)\n",
            "        5    0.095    0.019    0.095    0.019 {method 'read' of '_io.BufferedReader' objects}\n",
            "270256/269087    0.072    0.000    0.113    0.000 {built-in method builtins.isinstance}\n",
            "26509/2717    0.050    0.000    1.540    0.001 /usr/local/lib/python3.10/dist-packages/nvtx/nvtx.py:112(inner)\n",
            "      985    0.046    0.000    1.707    0.002 /usr/local/lib/python3.10/dist-packages/cupyx/scipy/sparse/_compressed.py:648(__get_has_canonical_format)\n",
            "      341    0.044    0.000    1.633    0.005 {method 'all' of 'cupy._core.core._ndarray_base' objects}\n",
            "    69690    0.037    0.000    0.057    0.000 /usr/local/lib/python3.10/dist-packages/numpy/core/numeric.py:1873(isscalar)\n",
            "      355    0.037    0.000    0.066    0.000 {method 'sum' of 'cupy._core.core._ndarray_base' objects}\n",
            "      170    0.036    0.000    0.036    0.000 {method 'argsort' of 'numpy.ndarray' objects}\n",
            "\n",
            "\n"
          ]
        }
      ],
      "source": [
        "# lets umap the data\n",
        "g = graphistry.nodes(edf[['SrcAddr','DstAddr']])#.apply(lambda x: str(x).zfill(4)))#, src, dst)\n",
        "pr = cProfile.Profile()\n",
        "pr.enable()\n",
        "\n",
        "g3a = g.umap(engine='cuml',memoize=False,feature_engine='cu_cat')\n",
        "\n",
        "# g3a = g.umap(kind='edges',\n",
        "#             # X=good_cols_with_edges,\n",
        "#             # y = ['bot'],\n",
        "#             use_scaler='quantile',\n",
        "#             use_scaler_target=None,\n",
        "#             cardinality_threshold=20,\n",
        "#             cardinality_threshold_target=2,\n",
        "#             n_topics=n_topics,\n",
        "#             feature_engine='cu_cat',\n",
        "#             engine='cuml',\n",
        "#             memoize=False,\n",
        "#             n_topics_target=n_topics_target,\n",
        "#             n_bins=n_topics_target,\n",
        "#             metric='euclidean',\n",
        "#             n_neighbors=12)\n",
        "pr.disable()\n",
        "stats = Stats(pr)\n",
        "stats.sort_stats('tottime').print_stats(20)\n",
        "\n",
        "with open('ctu13_umap_cucat.txt', 'w') as stream:\n",
        "    stats = Stats(pr,stream=stream)\n",
        "    stats.sort_stats('tottime').print_stats(20)\n"
      ]
    },
    {
      "cell_type": "code",
      "source": [
        "g3a.plot()"
      ],
      "metadata": {
        "id": "tq8KO87MqA52",
        "outputId": "d1d0151f-4c5d-48a5-8fd4-a68dd526e91e",
        "colab": {
          "base_uri": "https://localhost:8080/",
          "height": 543
        }
      },
      "id": "tq8KO87MqA52",
      "execution_count": 39,
      "outputs": [
        {
          "output_type": "execute_result",
          "data": {
            "text/plain": [
              "<IPython.core.display.HTML object>"
            ],
            "text/html": [
              "\n",
              "            <iframe id=\"2ab27127-b24d-48ee-8ace-26c3d80e945c\" src=\"https://hub.graphistry.com/graph/graph.html?dataset=283e740c7b6d424e902fea7c289dd853&type=arrow&viztoken=6bcf51d2-e505-4b91-ab37-3c85a4487080&usertag=095e53d4-pygraphistry-0.33.0+96.ga654f9f&splashAfter=1704359453&info=true&play=0\"\n",
              "                    allowfullscreen=\"true\" webkitallowfullscreen=\"true\" mozallowfullscreen=\"true\"\n",
              "                    oallowfullscreen=\"true\" msallowfullscreen=\"true\"\n",
              "                    style=\"width:100%; height:500px; border: 1px solid #DDD; overflow: hidden\"\n",
              "                    \n",
              "            >\n",
              "            </iframe>\n",
              "        \n",
              "            <script>\n",
              "                try {\n",
              "                  $(\"#2ab27127-b24d-48ee-8ace-26c3d80e945c\").bind('mousewheel', function(e) { e.preventDefault(); });\n",
              "                } catch (e) { console.error('exn catching scroll', e); }\n",
              "            </script>\n",
              "        "
            ]
          },
          "metadata": {},
          "execution_count": 39
        }
      ]
    },
    {
      "cell_type": "code",
      "execution_count": 40,
      "id": "1b0f3bd8-6545-4ac4-b325-d8a695fdd97e",
      "metadata": {
        "tags": [],
        "id": "1b0f3bd8-6545-4ac4-b325-d8a695fdd97e",
        "colab": {
          "base_uri": "https://localhost:8080/"
        },
        "outputId": "23856987-77a6-41e2-b562-413c366fa8b4"
      },
      "outputs": [
        {
          "output_type": "stream",
          "name": "stderr",
          "text": [
            "WARNING:graphistry.umap_utils:* Ignoring target column of shape (9911, 0) in UMAP fit, as it is not one dimensional"
          ]
        },
        {
          "output_type": "stream",
          "name": "stdout",
          "text": [
            "         9593286 function calls (9485452 primitive calls) in 38.653 seconds\n",
            "\n",
            "   Ordered by: internal time\n",
            "   List reduced from 2277 to 20 due to restriction <20>\n",
            "\n",
            "   ncalls  tottime  percall  cumtime  percall filename:lineno(function)\n",
            "      823    9.704    0.012   27.353    0.033 /usr/local/lib/python3.10/dist-packages/dirty_cat/_gap_encoder.py:1006(_multiplicative_update_h)\n",
            "1345059/1344539    7.436    0.000    8.261    0.000 {built-in method numpy.core._multiarray_umath.implement_array_function}\n",
            "    97066    2.082    0.000    4.498    0.000 /usr/local/lib/python3.10/dist-packages/scipy/sparse/_sputils.py:147(get_index_dtype)\n",
            "  1140512    1.748    0.000    9.026    0.000 <__array_function__ internals>:177(dot)\n",
            "    46888    1.747    0.000    5.449    0.000 /usr/local/lib/python3.10/dist-packages/scipy/sparse/_compressed.py:135(check_format)\n",
            "      780    1.539    0.002    6.661    0.009 /usr/local/lib/python3.10/dist-packages/dirty_cat/_gap_encoder.py:974(_multiplicative_update_w)\n",
            "   194151    0.901    0.000    0.901    0.000 /usr/local/lib/python3.10/dist-packages/numpy/core/getlimits.py:648(__init__)\n",
            "    97066    0.900    0.000    5.720    0.000 /usr/local/lib/python3.10/dist-packages/scipy/sparse/_base.py:1269(_get_index_dtype)\n",
            "46888/46806    0.888    0.000   11.649    0.000 /usr/local/lib/python3.10/dist-packages/scipy/sparse/_compressed.py:25(__init__)\n",
            "    32760    0.604    0.000    0.604    0.000 {built-in method scipy.sparse._sparsetools.coo_matvec}\n",
            "        6    0.528    0.088    0.528    0.088 /usr/local/lib/python3.10/dist-packages/numpy/lib/arraysetops.py:523(in1d)\n",
            "    46888    0.518    0.000    1.166    0.000 /usr/local/lib/python3.10/dist-packages/scipy/sparse/_compressed.py:1167(prune)\n",
            "  1140512    0.493    0.000    0.493    0.000 /usr/local/lib/python3.10/dist-packages/numpy/core/multiarray.py:736(dot)\n",
            "      780    0.485    0.001    0.615    0.001 /usr/local/lib/python3.10/dist-packages/dirty_cat/_gap_encoder.py:964(_rescale_W)\n",
            "    45586    0.479    0.000   11.240    0.000 /usr/local/lib/python3.10/dist-packages/scipy/sparse/_csr.py:241(__iter__)\n",
            "    48451    0.454    0.000    0.918    0.000 /usr/local/lib/python3.10/dist-packages/scipy/sparse/_sputils.py:294(check_shape)\n",
            "   145240    0.434    0.000    0.434    0.000 {built-in method numpy.array}\n",
            "   194474    0.381    0.000    1.071    0.000 <__array_function__ internals>:177(can_cast)\n",
            "       16    0.339    0.021    0.890    0.056 /usr/local/lib/python3.10/dist-packages/sklearn/feature_extraction/text.py:1258(_count_vocab)\n",
            "814936/814036    0.271    0.000    0.273    0.000 {built-in method builtins.len}\n",
            "\n",
            "\n"
          ]
        }
      ],
      "source": [
        "# lets umap the data\n",
        "g = graphistry.nodes(edf[['SrcAddr','DstAddr']])#.apply(lambda x: str(x).zfill(4)))#, src, dst)\n",
        "pr = cProfile.Profile()\n",
        "pr.enable()\n",
        "\n",
        "# !pip install dirty_cat\n",
        "g3b = g.umap(engine='cuml',memoize=False,feature_engine='dirty_cat')\n",
        "\n",
        "# g3b = g.umap(kind='edges',\n",
        "#             X=good_cols_with_edges,\n",
        "#             y = ['bot'],\n",
        "#             use_scaler='quantile',\n",
        "#             use_scaler_target=None,\n",
        "#             cardinality_threshold=20,\n",
        "#             cardinality_threshold_target=2,\n",
        "#             n_topics=n_topics,\n",
        "#             feature_engine='dirty_cat',\n",
        "#             engine='cuml',\n",
        "#             memoize=False,\n",
        "#             n_topics_target=n_topics_target,\n",
        "#             n_bins=n_topics_target,\n",
        "#             metric='euclidean',\n",
        "#             n_neighbors=12)\n",
        "pr.disable()\n",
        "stats = Stats(pr)\n",
        "stats.sort_stats('tottime').print_stats(20)\n",
        "\n",
        "with open('ctu13_umap_dirtycat.txt', 'w') as stream:\n",
        "    stats = Stats(pr,stream=stream)\n",
        "    stats.sort_stats('tottime').print_stats(20)\n"
      ]
    },
    {
      "cell_type": "code",
      "source": [
        "g3b.plot()"
      ],
      "metadata": {
        "id": "nUMeiZatqClr",
        "outputId": "b4cd4357-7144-4f8f-e478-b37fbf70315f",
        "colab": {
          "base_uri": "https://localhost:8080/",
          "height": 543
        }
      },
      "id": "nUMeiZatqClr",
      "execution_count": 41,
      "outputs": [
        {
          "output_type": "execute_result",
          "data": {
            "text/plain": [
              "<IPython.core.display.HTML object>"
            ],
            "text/html": [
              "\n",
              "            <iframe id=\"4fb21971-5415-40ac-abb9-b71787379f14\" src=\"https://hub.graphistry.com/graph/graph.html?dataset=6caff149c60a46ea89a756b49407b728&type=arrow&viztoken=d9eb4e61-6dad-4f1e-9d5b-28f3eabd8a38&usertag=095e53d4-pygraphistry-0.33.0+96.ga654f9f&splashAfter=1704359496&info=true&play=0\"\n",
              "                    allowfullscreen=\"true\" webkitallowfullscreen=\"true\" mozallowfullscreen=\"true\"\n",
              "                    oallowfullscreen=\"true\" msallowfullscreen=\"true\"\n",
              "                    style=\"width:100%; height:500px; border: 1px solid #DDD; overflow: hidden\"\n",
              "                    \n",
              "            >\n",
              "            </iframe>\n",
              "        \n",
              "            <script>\n",
              "                try {\n",
              "                  $(\"#4fb21971-5415-40ac-abb9-b71787379f14\").bind('mousewheel', function(e) { e.preventDefault(); });\n",
              "                } catch (e) { console.error('exn catching scroll', e); }\n",
              "            </script>\n",
              "        "
            ]
          },
          "metadata": {},
          "execution_count": 41
        }
      ]
    },
    {
      "cell_type": "markdown",
      "id": "f2eafa7a-9b51-492a-ab0e-ed7ec89a2a6f",
      "metadata": {
        "tags": [],
        "id": "f2eafa7a-9b51-492a-ab0e-ed7ec89a2a6f"
      },
      "source": [
        "## winlogs"
      ]
    },
    {
      "cell_type": "code",
      "execution_count": 42,
      "id": "80d63f55-ebfc-4963-813e-ed96f4f7799e",
      "metadata": {
        "tags": [],
        "id": "80d63f55-ebfc-4963-813e-ed96f4f7799e",
        "colab": {
          "base_uri": "https://localhost:8080/"
        },
        "outputId": "ed06cbc2-d6b0-49d0-b768-2e80d752170e"
      },
      "outputs": [
        {
          "output_type": "stream",
          "name": "stdout",
          "text": [
            "--2024-01-04 09:11:21--  https://www.dropbox.com/s/31dx1g6g59exoc3/part.88.parquet\n",
            "Resolving www.dropbox.com (www.dropbox.com)... 162.125.70.18, 2620:100:6057:18::a27d:d12\n",
            "Connecting to www.dropbox.com (www.dropbox.com)|162.125.70.18|:443... connected.\n",
            "HTTP request sent, awaiting response... 302 Found\n",
            "Location: /s/raw/31dx1g6g59exoc3/part.88.parquet [following]\n",
            "--2024-01-04 09:11:21--  https://www.dropbox.com/s/raw/31dx1g6g59exoc3/part.88.parquet\n",
            "Reusing existing connection to www.dropbox.com:443.\n",
            "HTTP request sent, awaiting response... 302 Found\n",
            "Location: https://uc78e5a2f6077658556ac136b6e9.dl.dropboxusercontent.com/cd/0/inline/CKsNFkozHodCAdfomOBAIFwaheTTnACRb78btmUVMM9NLRi434-7BYzkIu7M0Tuwrt8VcK296_MKgg2GIjJtCaHX2h0_b1EufsEns5QNgJ-0SEjZQH0LMBhuwolCTW3ToeY/file# [following]\n",
            "--2024-01-04 09:11:22--  https://uc78e5a2f6077658556ac136b6e9.dl.dropboxusercontent.com/cd/0/inline/CKsNFkozHodCAdfomOBAIFwaheTTnACRb78btmUVMM9NLRi434-7BYzkIu7M0Tuwrt8VcK296_MKgg2GIjJtCaHX2h0_b1EufsEns5QNgJ-0SEjZQH0LMBhuwolCTW3ToeY/file\n",
            "Resolving uc78e5a2f6077658556ac136b6e9.dl.dropboxusercontent.com (uc78e5a2f6077658556ac136b6e9.dl.dropboxusercontent.com)... 162.125.2.15, 2620:100:6021:15::a27d:410f\n",
            "Connecting to uc78e5a2f6077658556ac136b6e9.dl.dropboxusercontent.com (uc78e5a2f6077658556ac136b6e9.dl.dropboxusercontent.com)|162.125.2.15|:443... connected.\n",
            "HTTP request sent, awaiting response... 302 Found\n",
            "Location: /cd/0/inline2/CKvgy9tZLbEtauliKKFBbcxnA2LvgioCjNlIsuBC3PzQjCS2nk0duqmoQ6S29GFUe-0loeOuk-uSWjbwSBLMOjCpjtmpNnKoR8OYwL9q6Bf7ypaKve1KPR34J1-kkIIM5LtAkxGq0q5omhowFPC1Lgzbl7qiZ9fbBph8aadH1kgBcp5Do_XXbscbSTBBs7YpuWAh81DsNDuLRl1Vzlmn_Ipgxvws1wTV82ttXAp184urw93HZXmaQ_sqZoPvRjJ2YRdMV-wtSJv8-P-IC6FeZCNMJNmx_Q4a3F2XwOzkYZGBkZZcXxvSNAhwi9Bv145MvDjpFigb_4aZ34t574RfbqmIegmEftUX8TpKHU-Y4Ppwqg/file [following]\n",
            "--2024-01-04 09:11:23--  https://uc78e5a2f6077658556ac136b6e9.dl.dropboxusercontent.com/cd/0/inline2/CKvgy9tZLbEtauliKKFBbcxnA2LvgioCjNlIsuBC3PzQjCS2nk0duqmoQ6S29GFUe-0loeOuk-uSWjbwSBLMOjCpjtmpNnKoR8OYwL9q6Bf7ypaKve1KPR34J1-kkIIM5LtAkxGq0q5omhowFPC1Lgzbl7qiZ9fbBph8aadH1kgBcp5Do_XXbscbSTBBs7YpuWAh81DsNDuLRl1Vzlmn_Ipgxvws1wTV82ttXAp184urw93HZXmaQ_sqZoPvRjJ2YRdMV-wtSJv8-P-IC6FeZCNMJNmx_Q4a3F2XwOzkYZGBkZZcXxvSNAhwi9Bv145MvDjpFigb_4aZ34t574RfbqmIegmEftUX8TpKHU-Y4Ppwqg/file\n",
            "Reusing existing connection to uc78e5a2f6077658556ac136b6e9.dl.dropboxusercontent.com:443.\n",
            "HTTP request sent, awaiting response... 200 OK\n",
            "Length: 65059273 (62M) [application/octet-stream]\n",
            "Saving to: ‘part.88.parquet’\n",
            "\n",
            "part.88.parquet     100%[===================>]  62.04M  19.2MB/s    in 4.1s    \n",
            "\n",
            "2024-01-04 09:11:28 (15.2 MB/s) - ‘part.88.parquet’ saved [65059273/65059273]\n",
            "\n"
          ]
        }
      ],
      "source": [
        "!wget -nc https://www.dropbox.com/s/31dx1g6g59exoc3/part.88.parquet\n",
        "winlogs=pd.read_parquet('part.88.parquet')\n",
        "winlogsA=winlogs.sample(10000,replace=False)#.iloc[:,:10]\n",
        "# winlogsA=winlogsA#[['LogonID','UserName','LogHost']]#,'DomainName','LogonType','SubjectLogonID','Status','Destination','ServiceName']]#,'EventID']]#.convert_dtypes() #.replace('nan',np.nan).fillna('0o0o0')\n"
      ]
    },
    {
      "cell_type": "code",
      "execution_count": 43,
      "id": "cb4118a6-f1fe-4893-a767-c45ee96633a8",
      "metadata": {
        "tags": [],
        "id": "cb4118a6-f1fe-4893-a767-c45ee96633a8"
      },
      "outputs": [],
      "source": [
        "# import cupy as cp\n",
        "# del g,g2,g3\n",
        "# cp._default_memory_pool.free_all_blocks()"
      ]
    },
    {
      "cell_type": "code",
      "source": [
        "def prepro(X):\n",
        "  obj_col=X.select_dtypes(include=['object']).columns\n",
        "  for i in obj_col:\n",
        "      X[i]=X[i].replace('nan',np.nan).fillna('0o0o0')\n",
        "      X[i]=X[i].str.rjust(4,'0')\n",
        "      X[i]=X[i].str.replace('.', 'dot', regex=False) #for IP addresses\n",
        "  num_col=X.select_dtypes(include=['int64','float64']).columns\n",
        "  for i in num_col:\n",
        "      X[i]=X[i].fillna(0)\n",
        "  return X"
      ],
      "metadata": {
        "id": "lJpPbxiRqw-v"
      },
      "id": "lJpPbxiRqw-v",
      "execution_count": 44,
      "outputs": []
    },
    {
      "cell_type": "code",
      "execution_count": 45,
      "id": "ea9e2fb1-fe96-4b4a-bd5e-09184bd37426",
      "metadata": {
        "tags": [],
        "id": "ea9e2fb1-fe96-4b4a-bd5e-09184bd37426",
        "colab": {
          "base_uri": "https://localhost:8080/"
        },
        "outputId": "40b422f9-9d5e-48c3-d775-236096f49b3c"
      },
      "outputs": [
        {
          "output_type": "stream",
          "name": "stderr",
          "text": [
            "WARNING:graphistry.umap_utils:* Ignoring target column of shape (10000, 0) in UMAP fit, as it is not one dimensional"
          ]
        },
        {
          "output_type": "stream",
          "name": "stdout",
          "text": [
            "         6680449 function calls (6521880 primitive calls) in 73.071 seconds\n",
            "\n",
            "   Ordered by: internal time\n",
            "   List reduced from 2733 to 20 due to restriction <20>\n",
            "\n",
            "   ncalls  tottime  percall  cumtime  percall filename:lineno(function)\n",
            "       63   26.853    0.426   32.724    0.519 /usr/local/lib/python3.10/dist-packages/cu_cat/_gap_encoder.py:1242(_multiplicative_update_h_smallfast)\n",
            "       28   12.253    0.438   12.254    0.438 /usr/local/lib/python3.10/dist-packages/numpy/lib/arraysetops.py:523(in1d)\n",
            "       35    7.296    0.208    7.296    0.208 {built-in method gc.collect}\n",
            "       63    4.480    0.071    5.204    0.083 /usr/local/lib/python3.10/dist-packages/cu_cat/_gap_encoder.py:273(_get_H)\n",
            "    24227    3.899    0.000    4.246    0.000 /usr/local/lib/python3.10/dist-packages/rmm/allocators/cupy.py:23(rmm_cupy_allocator)\n",
            "11031/10914    2.351    0.000    4.139    0.000 /usr/lib/python3.10/contextlib.py:76(inner)\n",
            "        6    1.839    0.307    1.839    0.307 {built-in method cupy_backends.cuda.libs.nvrtc.compileProgram}\n",
            "        4    1.267    0.317    1.267    0.317 {built-in method cupy.cuda.jitify.jitify}\n",
            "       35    0.870    0.025    8.393    0.240 /usr/local/lib/python3.10/dist-packages/cu_cat/_gap_encoder.py:1111(_multiplicative_update_w_smallfast)\n",
            "     2323    0.603    0.000    0.681    0.000 {method 'update' of 'dict' objects}\n",
            "   235613    0.528    0.000    0.612    0.000 {built-in method cupy._core.core.array}\n",
            "    122/6    0.404    0.003   71.546   11.924 /usr/local/lib/python3.10/dist-packages/cuml/internals/api_decorators.py:138(wrapper)\n",
            "1301556/1296517    0.378    0.000    0.594    0.000 {built-in method builtins.isinstance}\n",
            "      893    0.234    0.000    0.234    0.000 {method 'argsort' of 'numpy.ndarray' objects}\n",
            "115677/11791    0.230    0.000    7.798    0.001 /usr/local/lib/python3.10/dist-packages/nvtx/nvtx.py:112(inner)\n",
            "     1024    0.221    0.000    2.478    0.002 /usr/local/lib/python3.10/dist-packages/cupyx/scipy/sparse/_csr.py:148(__mul__)\n",
            "     3237    0.217    0.000    1.746    0.001 /usr/local/lib/python3.10/dist-packages/cupyx/scipy/sparse/_compressed.py:648(__get_has_canonical_format)\n",
            "   370902    0.199    0.000    0.297    0.000 /usr/local/lib/python3.10/dist-packages/numpy/core/numeric.py:1873(isscalar)\n",
            "       11    0.197    0.018    0.197    0.018 {method 'read' of '_io.BufferedReader' objects}\n",
            "        7    0.181    0.026    0.181    0.026 {method 'gamma' of 'numpy.random.mtrand.RandomState' objects}\n",
            "\n",
            "\n"
          ]
        }
      ],
      "source": [
        "g = graphistry.nodes(prepro(winlogsA))#.replace('nan',np.nan).fillna('0o0o0'))\n",
        "pr = cProfile.Profile()\n",
        "pr.enable()\n",
        "\n",
        "# g5a = g.featurize(feature_engine='cu_cat',memoize=False)\n",
        "g5aa = g.umap(engine='cuml',feature_engine='cu_cat',memoize=False)\n",
        "\n",
        "pr.disable()\n",
        "stats = Stats(pr)\n",
        "stats.sort_stats('tottime').print_stats(20)\n",
        "\n",
        "with open('winlogs_featurize_cucat_20k.txt', 'w') as stream:\n",
        "    stats = Stats(pr,stream=stream)\n",
        "    stats.sort_stats('tottime').print_stats(20)"
      ]
    },
    {
      "cell_type": "code",
      "source": [
        "g5aa.plot()"
      ],
      "metadata": {
        "id": "0Z1ZoXEkvb0Q",
        "outputId": "e83aaf72-d3a2-468d-a293-ba3e3292717e",
        "colab": {
          "base_uri": "https://localhost:8080/",
          "height": 543
        }
      },
      "id": "0Z1ZoXEkvb0Q",
      "execution_count": 49,
      "outputs": [
        {
          "output_type": "execute_result",
          "data": {
            "text/plain": [
              "<IPython.core.display.HTML object>"
            ],
            "text/html": [
              "\n",
              "            <iframe id=\"2610f3eb-152e-4bb5-8c13-0417e5222b85\" src=\"https://hub.graphistry.com/graph/graph.html?dataset=d4d643ed256e4244be2fb74e71d68d5c&type=arrow&viztoken=291d7701-7f6b-48c7-8f75-be88493ac457&usertag=095e53d4-pygraphistry-0.33.0+96.ga654f9f&splashAfter=1704359768&info=true&play=0\"\n",
              "                    allowfullscreen=\"true\" webkitallowfullscreen=\"true\" mozallowfullscreen=\"true\"\n",
              "                    oallowfullscreen=\"true\" msallowfullscreen=\"true\"\n",
              "                    style=\"width:100%; height:500px; border: 1px solid #DDD; overflow: hidden\"\n",
              "                    \n",
              "            >\n",
              "            </iframe>\n",
              "        \n",
              "            <script>\n",
              "                try {\n",
              "                  $(\"#2610f3eb-152e-4bb5-8c13-0417e5222b85\").bind('mousewheel', function(e) { e.preventDefault(); });\n",
              "                } catch (e) { console.error('exn catching scroll', e); }\n",
              "            </script>\n",
              "        "
            ]
          },
          "metadata": {},
          "execution_count": 49
        }
      ]
    },
    {
      "cell_type": "code",
      "execution_count": 46,
      "id": "10526794-559b-407d-865a-84fd94e560e5",
      "metadata": {
        "tags": [],
        "id": "10526794-559b-407d-865a-84fd94e560e5",
        "colab": {
          "base_uri": "https://localhost:8080/"
        },
        "outputId": "dcbe0646-e9c1-40c1-ede1-6a9e1271b216"
      },
      "outputs": [
        {
          "output_type": "stream",
          "name": "stderr",
          "text": [
            "WARNING:graphistry.umap_utils:* Ignoring target column of shape (10000, 0) in UMAP fit, as it is not one dimensional"
          ]
        },
        {
          "output_type": "stream",
          "name": "stdout",
          "text": [
            "         38531295 function calls (37713709 primitive calls) in 141.697 seconds\n",
            "\n",
            "   Ordered by: internal time\n",
            "   List reduced from 2331 to 20 due to restriction <20>\n",
            "\n",
            "   ncalls  tottime  percall  cumtime  percall filename:lineno(function)\n",
            "4487201/4485112   28.655    0.000   35.024    0.000 {built-in method numpy.core._multiarray_umath.implement_array_function}\n",
            "     3918   26.651    0.007   75.753    0.019 /usr/local/lib/python3.10/dist-packages/dirty_cat/_gap_encoder.py:1006(_multiplicative_update_h)\n",
            "     3555   17.429    0.005   45.847    0.013 /usr/local/lib/python3.10/dist-packages/dirty_cat/_gap_encoder.py:974(_multiplicative_update_w)\n",
            "   384302    6.259    0.000   13.481    0.000 /usr/local/lib/python3.10/dist-packages/scipy/sparse/_sputils.py:147(get_index_dtype)\n",
            "       27    5.238    0.194    5.238    0.194 /usr/local/lib/python3.10/dist-packages/numpy/lib/arraysetops.py:523(in1d)\n",
            "   184669    5.099    0.000   16.633    0.000 /usr/local/lib/python3.10/dist-packages/scipy/sparse/_compressed.py:135(check_format)\n",
            "  3672135    4.444    0.000   32.168    0.000 <__array_function__ internals>:177(dot)\n",
            "     3555    2.845    0.001    4.055    0.001 /usr/local/lib/python3.10/dist-packages/dirty_cat/_gap_encoder.py:964(_rescale_W)\n",
            "   384302    2.713    0.000   17.131    0.000 /usr/local/lib/python3.10/dist-packages/scipy/sparse/_base.py:1269(_get_index_dtype)\n",
            "184669/184300    2.699    0.000   34.905    0.000 /usr/local/lib/python3.10/dist-packages/scipy/sparse/_compressed.py:25(__init__)\n",
            "   768673    2.676    0.000    2.676    0.000 /usr/local/lib/python3.10/dist-packages/numpy/core/getlimits.py:648(__init__)\n",
            "    52870    1.818    0.000    1.818    0.000 {method 'reduce' of 'numpy.ufunc' objects}\n",
            "   149310    1.812    0.000    1.812    0.000 {built-in method scipy.sparse._sparsetools.coo_matvec}\n",
            "   184669    1.705    0.000    3.865    0.000 /usr/local/lib/python3.10/dist-packages/scipy/sparse/_compressed.py:1167(prune)\n",
            "   191782    1.527    0.000    2.910    0.000 /usr/local/lib/python3.10/dist-packages/scipy/sparse/_sputils.py:294(check_shape)\n",
            "   178770    1.467    0.000   33.635    0.000 /usr/local/lib/python3.10/dist-packages/scipy/sparse/_csr.py:241(__iter__)\n",
            "   574473    1.308    0.000    1.308    0.000 {built-in method numpy.array}\n",
            "    15810    1.197    0.000    1.197    0.000 {built-in method numpy.zeros}\n",
            "  3672135    1.145    0.000    1.145    0.000 /usr/local/lib/python3.10/dist-packages/numpy/core/multiarray.py:736(dot)\n",
            "   770109    1.087    0.000    3.276    0.000 <__array_function__ internals>:177(can_cast)\n",
            "\n",
            "\n"
          ]
        }
      ],
      "source": [
        "g = graphistry.nodes(prepro(winlogsA))\n",
        "pr = cProfile.Profile()\n",
        "pr.enable()\n",
        "\n",
        "# g5b = g.featurize(feature_engine='dirty_cat',memoize=False)\n",
        "g5bb = g.umap(engine='cuml',feature_engine='dirty_cat',memoize=False)\n",
        "\n",
        "pr.disable()\n",
        "stats = Stats(pr)\n",
        "stats.sort_stats('tottime').print_stats(20)\n",
        "\n",
        "with open('winlogs_featurize_dirtycat_20k.txt', 'w') as stream:\n",
        "    stats = Stats(pr,stream=stream)\n",
        "    stats.sort_stats('tottime').print_stats(20)"
      ]
    },
    {
      "cell_type": "code",
      "source": [
        "g5bb.plot()"
      ],
      "metadata": {
        "colab": {
          "base_uri": "https://localhost:8080/",
          "height": 543
        },
        "id": "yqCa9iGjJfNl",
        "outputId": "ab4d6ace-a74a-479f-e1f3-6eff99ac8159"
      },
      "id": "yqCa9iGjJfNl",
      "execution_count": 50,
      "outputs": [
        {
          "output_type": "execute_result",
          "data": {
            "text/plain": [
              "<IPython.core.display.HTML object>"
            ],
            "text/html": [
              "\n",
              "            <iframe id=\"4ab0d074-b4f6-45e4-9bac-62a594450507\" src=\"https://hub.graphistry.com/graph/graph.html?dataset=4d9924ae76f64c74ad0537262f72bc01&type=arrow&viztoken=5c056ac4-1aee-47e6-85e9-86d0e1c24f5d&usertag=095e53d4-pygraphistry-0.33.0+96.ga654f9f&splashAfter=1704359772&info=true&play=0\"\n",
              "                    allowfullscreen=\"true\" webkitallowfullscreen=\"true\" mozallowfullscreen=\"true\"\n",
              "                    oallowfullscreen=\"true\" msallowfullscreen=\"true\"\n",
              "                    style=\"width:100%; height:500px; border: 1px solid #DDD; overflow: hidden\"\n",
              "                    \n",
              "            >\n",
              "            </iframe>\n",
              "        \n",
              "            <script>\n",
              "                try {\n",
              "                  $(\"#4ab0d074-b4f6-45e4-9bac-62a594450507\").bind('mousewheel', function(e) { e.preventDefault(); });\n",
              "                } catch (e) { console.error('exn catching scroll', e); }\n",
              "            </script>\n",
              "        "
            ]
          },
          "metadata": {},
          "execution_count": 50
        }
      ]
    },
    {
      "cell_type": "code",
      "source": [],
      "metadata": {
        "id": "zUgmY0FowfEc"
      },
      "id": "zUgmY0FowfEc",
      "execution_count": null,
      "outputs": []
    }
  ],
  "metadata": {
    "kernelspec": {
      "display_name": "Python 3 (ipykernel)",
      "language": "python",
      "name": "python3"
    },
    "language_info": {
      "codemirror_mode": {
        "name": "ipython",
        "version": 3
      },
      "file_extension": ".py",
      "mimetype": "text/x-python",
      "name": "python",
      "nbconvert_exporter": "python",
      "pygments_lexer": "ipython3",
      "version": "3.8.13"
    },
    "colab": {
      "provenance": [],
      "toc_visible": true,
      "include_colab_link": true
    },
    "accelerator": "GPU",
    "gpuClass": "standard"
  },
  "nbformat": 4,
  "nbformat_minor": 5
}