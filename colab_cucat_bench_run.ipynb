{
  "cells": [
    {
      "cell_type": "markdown",
      "metadata": {
        "id": "view-in-github",
        "colab_type": "text"
      },
      "source": [
        "<a href=\"https://colab.research.google.com/github/dcolinmorgan/grph/blob/main/colab_cucat_bench_run.ipynb\" target=\"_parent\"><img src=\"https://colab.research.google.com/assets/colab-badge.svg\" alt=\"Open In Colab\"/></a>"
      ]
    },
    {
      "cell_type": "markdown",
      "metadata": {
        "id": "hQinzuiQscjc"
      },
      "source": [
        "# cu_cat demo-datasets benchmark"
      ],
      "id": "hQinzuiQscjc"
    },
    {
      "cell_type": "code",
      "execution_count": 1,
      "metadata": {
        "id": "UC_w5EhksYyX"
      },
      "outputs": [],
      "source": [
        "!pip install --extra-index-url=https://pypi.nvidia.com cuml-cu12==23.12.00 cudf-cu12==23.12.00 #cugraph-cu11 pylibraft_cu11 raft_dask_cu11 dask_cudf_cu11 pylibcugraph_cu11 pylibraft_cu11\n",
        "# # !pip install git+https://github.com/graphistry/pygraphistry.git@feat/gpu-featurization\n",
        "!pip install git+https://github.com/graphistry/pygraphistry.git@dev/depman_gpufeat\n",
        "# # !pip install --upgrade git+https://github.com/graphistry/cu-cat.git@master\n",
        "# # !git clone https://github.com/graphistry/cu-cat.git\n",
        "\n",
        "!pip3 install --upgrade cu_cat"
      ],
      "id": "UC_w5EhksYyX"
    },
    {
      "cell_type": "code",
      "execution_count": 2,
      "metadata": {
        "colab": {
          "base_uri": "https://localhost:8080/",
          "height": 35
        },
        "id": "zl_CEY3RsZsp",
        "outputId": "849757d3-436c-465d-bba2-fe94b12793dd"
      },
      "outputs": [
        {
          "output_type": "execute_result",
          "data": {
            "text/plain": [
              "'23.12.00'"
            ],
            "application/vnd.google.colaboratory.intrinsic+json": {
              "type": "string"
            }
          },
          "metadata": {},
          "execution_count": 2
        }
      ],
      "source": [
        "import cuml\n",
        "cuml.__version__"
      ],
      "id": "zl_CEY3RsZsp"
    },
    {
      "cell_type": "code",
      "execution_count": 3,
      "metadata": {
        "id": "yGjC6ysZsZvN"
      },
      "outputs": [],
      "source": [
        "!echo \"0.01.0\" > VERSION.txt\n",
        "!cp VERSION.txt /usr/local/lib/python3.10/dist-packages/cu_cat/"
      ],
      "id": "yGjC6ysZsZvN"
    },
    {
      "cell_type": "code",
      "execution_count": 4,
      "metadata": {
        "id": "DDkaXicVsbVE"
      },
      "outputs": [],
      "source": [
        "import os\n",
        "from collections import Counter\n",
        "import cProfile\n",
        "import pandas as pd\n",
        "import numpy as np\n",
        "import matplotlib.pyplot as plt\n",
        "from pstats import Stats\n",
        "import warnings\n",
        "warnings.filterwarnings('ignore')\n",
        "pd.set_option('display.max_colwidth', 200)\n",
        "import cudf,cuml,cupy"
      ],
      "id": "DDkaXicVsbVE"
    },
    {
      "cell_type": "code",
      "execution_count": 5,
      "metadata": {
        "colab": {
          "base_uri": "https://localhost:8080/"
        },
        "id": "U4xWbmFMsbSu",
        "outputId": "430bdbf2-5051-4c6a-a663-edcc3fb4fda7"
      },
      "outputs": [
        {
          "output_type": "stream",
          "name": "stdout",
          "text": [
            "0.01.0\n"
          ]
        }
      ],
      "source": [
        "  # from importlib import reload\n",
        "# reload(cu_cat)\n",
        "# os.chdir('cu-cat')\n",
        "import cu_cat\n",
        "# os.chdir('..')\n",
        "print(cu_cat.__version__)"
      ],
      "id": "U4xWbmFMsbSu"
    },
    {
      "cell_type": "code",
      "execution_count": 6,
      "metadata": {
        "colab": {
          "base_uri": "https://localhost:8080/",
          "height": 35
        },
        "id": "OpgmDTmwsbXX",
        "outputId": "a229c3c9-1bed-4319-af8b-97a17232fdf1"
      },
      "outputs": [
        {
          "output_type": "execute_result",
          "data": {
            "text/plain": [
              "'0.31.1+304.g8241a1a'"
            ],
            "application/vnd.google.colaboratory.intrinsic+json": {
              "type": "string"
            }
          },
          "metadata": {},
          "execution_count": 6
        }
      ],
      "source": [
        "import graphistry\n",
        "graphistry.register(api=3,protocol=\"https\", server=\"hub.graphistry.com\", username='dcolinmorgan', password='fXjJnkE3Gik6BWy') ## key id, secret key\n",
        "graphistry.__version__"
      ],
      "id": "OpgmDTmwsbXX"
    },
    {
      "cell_type": "code",
      "execution_count": 7,
      "metadata": {
        "id": "2wziX0tHsbZu"
      },
      "outputs": [],
      "source": [
        "import locale\n",
        "def getpreferredencoding(do_setlocale = True):\n",
        "    return \"UTF-8\"\n",
        "locale.getpreferredencoding = getpreferredencoding"
      ],
      "id": "2wziX0tHsbZu"
    },
    {
      "cell_type": "code",
      "execution_count": 8,
      "metadata": {
        "id": "QvcZ0QCOsg6o"
      },
      "outputs": [],
      "source": [
        "import logging\n",
        "logger = logging.getLogger()\n",
        "logging.basicConfig(level=logging.ERROR, force=True, format='%(asctime)s %(levelname)s %(message)s', datefmt='%H:%M:%S')\n",
        "\n",
        "# logging.basicConfig(filename='app.log',\n",
        "                    # level=logging.DEBUG,\n",
        "                    # force=True, # Resets any previous configuration\n",
        "                    # )"
      ],
      "id": "QvcZ0QCOsg6o"
    },
    {
      "cell_type": "code",
      "execution_count": 9,
      "metadata": {
        "id": "JQC5kLv_76sy"
      },
      "outputs": [],
      "source": [
        "import cupy as cp\n",
        "cp._default_memory_pool.free_all_blocks()\n"
      ],
      "id": "JQC5kLv_76sy"
    },
    {
      "cell_type": "markdown",
      "source": [
        "## ndf_reddit"
      ],
      "metadata": {
        "id": "afecq0U6FaDP"
      },
      "id": "afecq0U6FaDP"
    },
    {
      "cell_type": "code",
      "source": [
        "import pandas as pd\n",
        "import graphistry\n",
        "from graphistry.features import topic_model\n",
        "\n",
        "ndf_reddit = pd.read_csv('https://raw.githubusercontent.com/graphistry/pygraphistry/master/graphistry/tests/data/reddit.csv')#'pygraphistry/graphistry/tests/data/reddit.csv')\n",
        "g = graphistry.nodes(ndf_reddit)\n",
        "g2 = g.featurize(**topic_model, feature_engine=\"cu_cat\")"
      ],
      "metadata": {
        "id": "hR4O_7s2FaLf"
      },
      "id": "hR4O_7s2FaLf",
      "execution_count": 10,
      "outputs": []
    },
    {
      "cell_type": "code",
      "source": [
        "# g.umap(feature_engine=\"cu_cat\")\n",
        "g11a = g.umap(engine='cuml',memoize=False,feature_engine='cu_cat', cardinality_threshold=10,cardinality_threshold_target=10)\n"
      ],
      "metadata": {
        "id": "MEyVZCcoFaOE"
      },
      "id": "MEyVZCcoFaOE",
      "execution_count": null,
      "outputs": []
    },
    {
      "cell_type": "code",
      "source": [
        "g11a.plot()"
      ],
      "metadata": {
        "id": "uSCtITFaFaQz"
      },
      "id": "uSCtITFaFaQz",
      "execution_count": 11,
      "outputs": []
    },
    {
      "cell_type": "markdown",
      "metadata": {
        "id": "b9fa2d4e-53e8-4eb5-bdbf-c5c1908159ad"
      },
      "source": [
        "## redteam"
      ],
      "id": "b9fa2d4e-53e8-4eb5-bdbf-c5c1908159ad"
    },
    {
      "cell_type": "code",
      "execution_count": 12,
      "metadata": {
        "id": "3fe52faa-c35c-492e-98c1-7cfc46888a5f"
      },
      "outputs": [],
      "source": [
        "df = pd.read_csv('https://gist.githubusercontent.com/silkspace/c7b50d0c03dc59f63c48d68d696958ff/raw/31d918267f86f8252d42d2e9597ba6fc03fcdac2/redteam_50k.csv', index_col=0)\n",
        "red_team = pd.read_csv('https://gist.githubusercontent.com/silkspace/5cf5a94b9ac4b4ffe38904f20d93edb1/raw/888dabd86f88ea747cf9ff5f6c44725e21536465/redteam_labels.csv', index_col=0)\n",
        "df['feats'] = df.src_computer + ' ' + df.dst_computer + ' ' + df.auth_type + ' ' + df.logontype\n",
        "df['feats2'] = df.src_computer + ' ' + df.dst_computer\n",
        "ndf = df.drop_duplicates(subset=['feats'])\n",
        "tdf = pd.concat([red_team.reset_index(), ndf.reset_index()])\n",
        "tdf['node'] = range(len(tdf))"
      ],
      "id": "3fe52faa-c35c-492e-98c1-7cfc46888a5f"
    },
    {
      "cell_type": "code",
      "execution_count": 13,
      "metadata": {
        "id": "68bPXeQYGqUJ"
      },
      "outputs": [],
      "source": [
        "# from cu_cat import GapEncoder, TableVectorizer\n",
        "# tv = TableVectorizer()\n",
        "# tv.fit_transform(tdf)"
      ],
      "id": "68bPXeQYGqUJ"
    },
    {
      "cell_type": "code",
      "execution_count": 14,
      "metadata": {
        "colab": {
          "base_uri": "https://localhost:8080/"
        },
        "id": "50a61cf4-316f-4a78-854d-72c73f89e4ce",
        "outputId": "a4ed4942-0285-48ff-d5f5-c47e7594cb99"
      },
      "outputs": [
        {
          "output_type": "stream",
          "name": "stdout",
          "text": [
            "         1621869 function calls (1598405 primitive calls) in 59.017 seconds\n",
            "\n",
            "   Ordered by: internal time\n",
            "   List reduced from 2562 to 20 due to restriction <20>\n",
            "\n",
            "   ncalls  tottime  percall  cumtime  percall filename:lineno(function)\n",
            "       13   27.602    2.123   31.721    2.440 /usr/local/lib/python3.10/dist-packages/cu_cat/_gap_encoder.py:1283(_multiplicative_update_h_smallfast)\n",
            "        3   17.810    5.937   17.810    5.937 /usr/local/lib/python3.10/dist-packages/numpy/lib/arraysetops.py:523(in1d)\n",
            "     5928    3.140    0.001    3.230    0.001 /usr/local/lib/python3.10/dist-packages/rmm/allocators/cupy.py:23(rmm_cupy_allocator)\n",
            "        8    2.629    0.329    3.011    0.376 /usr/local/lib/python3.10/dist-packages/cu_cat/_gap_encoder.py:275(_get_H)\n",
            "       10    1.638    0.164    1.638    0.164 {built-in method gc.collect}\n",
            "       10    0.969    0.097    2.799    0.280 /usr/local/lib/python3.10/dist-packages/cu_cat/_gap_encoder.py:1142(_multiplicative_update_w_smallfast)\n",
            "      263    0.599    0.002    2.086    0.008 /usr/local/lib/python3.10/dist-packages/cupyx/scipy/sparse/_csr.py:148(__mul__)\n",
            "        2    0.564    0.282    0.564    0.282 {built-in method cupy.cuda.jitify.jitify}\n",
            "        2    0.540    0.270    0.540    0.270 {built-in method cupy_backends.cuda.libs.nvrtc.compileProgram}\n",
            "      599    0.503    0.001    0.563    0.001 {method 'update' of 'dict' objects}\n",
            "1168/1150    0.343    0.000    0.522    0.000 /usr/lib/python3.10/contextlib.py:76(inner)\n",
            "   133794    0.239    0.000    0.282    0.000 {built-in method cupy._core.core.array}\n",
            "       12    0.215    0.018    0.215    0.018 {method 'read' of '_io.BufferedReader' objects}\n",
            "        2    0.147    0.074   30.887   15.443 /usr/local/lib/python3.10/dist-packages/cu_cat/_gap_encoder.py:329(fit)\n",
            "   266762    0.117    0.000    0.171    0.000 /usr/local/lib/python3.10/dist-packages/numpy/core/numeric.py:1873(isscalar)\n",
            "     24/7    0.109    0.005   58.787    8.398 /usr/local/lib/python3.10/dist-packages/cuml/internals/api_decorators.py:138(wrapper)\n",
            "399494/398781    0.086    0.000    0.113    0.000 {built-in method builtins.isinstance}\n",
            "   133722    0.060    0.000    0.286    0.000 /usr/local/lib/python3.10/dist-packages/cupy/_creation/from_data.py:49(asarray)\n",
            "      836    0.051    0.000    1.262    0.002 /usr/local/lib/python3.10/dist-packages/cupyx/scipy/sparse/_compressed.py:648(__get_has_canonical_format)\n",
            "       36    0.051    0.001    0.051    0.001 {method 'argsort' of 'numpy.ndarray' objects}\n",
            "\n",
            "\n",
            "CPU times: user 50.5 s, sys: 7.31 s, total: 57.8 s\n",
            "Wall time: 59.1 s\n"
          ]
        }
      ],
      "source": [
        "%%time\n",
        "# process = True  # set to false after it's run for ease of speed\n",
        "pr = cProfile.Profile()\n",
        "pr.enable()\n",
        "g = graphistry.nodes(tdf, 'node')\n",
        "g3a = g.umap(X=['feats'],\n",
        "            min_words=1000000, # force high so that we don't use Sentence Transformers\n",
        "            cardinality_threshold=4, # set low so we force topic model\n",
        "            n_topics=32, # number of topics\n",
        "            use_scaler=None,\n",
        "            feature_engine='cu_cat',\n",
        "            memoize=False,\n",
        "            engine='cuml',\n",
        "            use_scaler_target=None\n",
        "           )\n",
        "\n",
        "pr.disable()\n",
        "stats = Stats(pr)\n",
        "stats.sort_stats('tottime').print_stats(20)\n",
        "\n",
        "with open('redteam_umap_cucat.txt', 'w') as stream:\n",
        "    stats = Stats(pr,stream=stream)\n",
        "    stats.sort_stats('tottime').print_stats(20)"
      ],
      "id": "50a61cf4-316f-4a78-854d-72c73f89e4ce"
    },
    {
      "cell_type": "code",
      "execution_count": null,
      "metadata": {
        "id": "iUEZYsf3i-oJ"
      },
      "outputs": [],
      "source": [
        "g3a.plot()"
      ],
      "id": "iUEZYsf3i-oJ"
    },
    {
      "cell_type": "code",
      "execution_count": 16,
      "metadata": {
        "id": "65589ec6-7112-43eb-895c-8f0e3610f0cf"
      },
      "outputs": [],
      "source": [
        "# %%time\n",
        "# pr = cProfile.Profile()\n",
        "# pr.enable()\n",
        "# g = graphistry.nodes(tdf, 'node')\n",
        "# g3b = g.umap(X=['feats'],\n",
        "#             min_words=1000000, # force high so that we don't use Sentence Transformers\n",
        "#             cardinality_threshold=4, # set low so we force topic model\n",
        "#             n_topics=32, # number of topics\n",
        "#             use_scaler=None,\n",
        "#             feature_engine='dirty_cat',\n",
        "#             memoize=False,\n",
        "#             engine='cuml',\n",
        "#             use_scaler_target=None\n",
        "#            )\n",
        "\n",
        "# pr.disable()\n",
        "# stats = Stats(pr)\n",
        "# stats.sort_stats('tottime').print_stats(20)\n",
        "\n",
        "# with open('redteam_umap_dirtycat.txt', 'w') as stream:\n",
        "#     stats = Stats(pr,stream=stream)\n",
        "#     stats.sort_stats('tottime').print_stats(20)"
      ],
      "id": "65589ec6-7112-43eb-895c-8f0e3610f0cf"
    },
    {
      "cell_type": "code",
      "execution_count": 17,
      "metadata": {
        "id": "sIQfQKInjAy8"
      },
      "outputs": [],
      "source": [
        "# g3b.plot()"
      ],
      "id": "sIQfQKInjAy8"
    },
    {
      "cell_type": "code",
      "execution_count": 17,
      "metadata": {
        "id": "CSaGds4TdWkD"
      },
      "outputs": [],
      "source": [],
      "id": "CSaGds4TdWkD"
    },
    {
      "cell_type": "markdown",
      "metadata": {
        "id": "6657b008-5094-42fd-96a8-177edf7e5ebd"
      },
      "source": [
        "## 20newsgroups"
      ],
      "id": "6657b008-5094-42fd-96a8-177edf7e5ebd"
    },
    {
      "cell_type": "code",
      "execution_count": 18,
      "metadata": {
        "id": "bJEzShGthyeS"
      },
      "outputs": [],
      "source": [
        "from sklearn.datasets import fetch_20newsgroups\n",
        "# newsgroups = fetch_20newsgroups()#categories=categories)\n",
        "n_samples = 2000\n",
        "# n_features = 1000\n",
        "# n_components = 10\n",
        "# n_top_words = 20\n",
        "# batch_size = 128\n",
        "# init = \"nndsvda\"\n",
        "\n",
        "news, _ = fetch_20newsgroups(\n",
        "    shuffle=True,\n",
        "    random_state=1,\n",
        "    remove=(\"headers\", \"footers\", \"quotes\"),\n",
        "    return_X_y=True,\n",
        ")\n",
        "\n",
        "news = news[:n_samples]\n",
        "news=pd.DataFrame(news)"
      ],
      "id": "bJEzShGthyeS"
    },
    {
      "cell_type": "code",
      "execution_count": 19,
      "metadata": {
        "colab": {
          "base_uri": "https://localhost:8080/"
        },
        "id": "9683c33e-aa71-47a2-87f2-16b69d482a85",
        "outputId": "dde034bd-6ca5-4e53-ef71-a1319b2ab955"
      },
      "outputs": [
        {
          "output_type": "stream",
          "name": "stdout",
          "text": [
            "         998624 function calls (975874 primitive calls) in 73.881 seconds\n",
            "\n",
            "   Ordered by: internal time\n",
            "   List reduced from 2582 to 20 due to restriction <20>\n",
            "\n",
            "   ncalls  tottime  percall  cumtime  percall filename:lineno(function)\n",
            "       13   43.183    3.322   62.618    4.817 /usr/local/lib/python3.10/dist-packages/cu_cat/_gap_encoder.py:1283(_multiplicative_update_h_smallfast)\n",
            "     5983   16.705    0.003   16.791    0.003 /usr/local/lib/python3.10/dist-packages/rmm/allocators/cupy.py:23(rmm_cupy_allocator)\n",
            "      263    2.376    0.009    2.944    0.011 /usr/local/lib/python3.10/dist-packages/cupyx/scipy/sparse/_csr.py:148(__mul__)\n",
            "        8    1.748    0.219    1.748    0.219 {built-in method cupy_backends.cuda.libs.nvrtc.compileProgram}\n",
            "       10    1.508    0.151    1.508    0.151 {built-in method gc.collect}\n",
            "1160/1142    1.395    0.001    1.606    0.001 /usr/lib/python3.10/contextlib.py:76(inner)\n",
            "       10    1.210    0.121    4.161    0.416 /usr/local/lib/python3.10/dist-packages/cu_cat/_gap_encoder.py:1142(_multiplicative_update_w_smallfast)\n",
            "        2    0.947    0.473    0.947    0.473 {method 'gamma' of 'numpy.random.mtrand.RandomState' objects}\n",
            "        3    0.908    0.303    0.908    0.303 /usr/local/lib/python3.10/dist-packages/numpy/lib/arraysetops.py:523(in1d)\n",
            "        8    0.517    0.065    0.598    0.075 /usr/local/lib/python3.10/dist-packages/cu_cat/_gap_encoder.py:275(_get_H)\n",
            "      288    0.411    0.001    0.440    0.002 {method 'all' of 'cupy._core.core._ndarray_base' objects}\n",
            "       10    0.335    0.034    0.343    0.034 /usr/local/lib/python3.10/dist-packages/cupyx/scipy/sparse/_csc.py:81(__mul__)\n",
            "      690    0.303    0.000    0.303    0.000 {built-in method numpy.array}\n",
            "       12    0.229    0.019    0.229    0.019 {method 'read' of '_io.BufferedReader' objects}\n",
            "    27809    0.197    0.000    0.242    0.000 {built-in method cupy._core.core.array}\n",
            "      604    0.108    0.000    0.120    0.000 {method 'update' of 'dict' objects}\n",
            "        2    0.104    0.052   55.237   27.618 /usr/local/lib/python3.10/dist-packages/cu_cat/_gap_encoder.py:329(fit)\n",
            "      305    0.057    0.000    0.085    0.000 {method 'sum' of 'cupy._core.core._ndarray_base' objects}\n",
            "       17    0.056    0.003    0.240    0.014 /usr/local/lib/python3.10/dist-packages/cudf/core/groupby/groupby.py:468(agg)\n",
            "      836    0.050    0.000    0.519    0.001 /usr/local/lib/python3.10/dist-packages/cupyx/scipy/sparse/_compressed.py:648(__get_has_canonical_format)\n",
            "\n",
            "\n"
          ]
        }
      ],
      "source": [
        "g = graphistry.nodes(news)#.replace('nan',np.nan).fillna('0o0o0'))\n",
        "pr = cProfile.Profile()\n",
        "pr.enable()\n",
        "\n",
        "\n",
        "# g2 = g.featurize(feature_engine='cu_cat',memoize=False)\n",
        "g4a = g.umap(engine='cuml',feature_engine='cu_cat',memoize=False,cardinality_threshold_target=100)\n",
        "\n",
        "pr.disable()\n",
        "stats = Stats(pr)\n",
        "stats.sort_stats('tottime').print_stats(20)\n",
        "\n",
        "with open('20news_umap_cucat.txt', 'w') as stream:\n",
        "    stats = Stats(pr,stream=stream)\n",
        "    stats.sort_stats('tottime').print_stats(20)"
      ],
      "id": "9683c33e-aa71-47a2-87f2-16b69d482a85"
    },
    {
      "cell_type": "code",
      "execution_count": null,
      "metadata": {
        "id": "W_247GCslrZT"
      },
      "outputs": [],
      "source": [
        "g4a.plot()"
      ],
      "id": "W_247GCslrZT"
    },
    {
      "cell_type": "code",
      "execution_count": null,
      "metadata": {
        "id": "b88c5fba-32d3-4140-9a9e-8fd6a652f07c"
      },
      "outputs": [],
      "source": [
        "# # !pip install dirty_cat\n",
        "# g = graphistry.nodes(news)\n",
        "# pr = cProfile.Profile()\n",
        "# pr.enable()\n",
        "\n",
        "\n",
        "# # g2 = g.featurize(feature_engine='dirty_cat',memoize=False)\n",
        "# g4b = g.umap(engine='cuml',feature_engine='dirty_cat',memoize=False, cardinality_threshold_target=100)\n",
        "\n",
        "# pr.disable()\n",
        "# stats = Stats(pr)\n",
        "# stats.sort_stats('tottime').print_stats(20)\n",
        "\n",
        "# with open('20news_umap_dirtycat.txt', 'w') as stream:\n",
        "#     stats = Stats(pr,stream=stream)\n",
        "#     stats.sort_stats('tottime').print_stats(20)"
      ],
      "id": "b88c5fba-32d3-4140-9a9e-8fd6a652f07c"
    },
    {
      "cell_type": "code",
      "execution_count": null,
      "metadata": {
        "id": "MDWGNtj5lvIF"
      },
      "outputs": [],
      "source": [
        "# g4b.plot()"
      ],
      "id": "MDWGNtj5lvIF"
    },
    {
      "cell_type": "markdown",
      "metadata": {
        "id": "a1f6bcea-42c9-4f00-baf1-86e4c4349434"
      },
      "source": [
        "## ask HN"
      ],
      "id": "a1f6bcea-42c9-4f00-baf1-86e4c4349434"
    },
    {
      "cell_type": "code",
      "execution_count": 22,
      "metadata": {
        "id": "44bbd703-0c8c-48cc-be2c-f4bbe53879d4"
      },
      "outputs": [],
      "source": [
        "# # get the data top 3000 posts on Hacker News\n",
        "askHN = pd.read_csv('https://storage.googleapis.com/cohere-assets/blog/text-clustering/data/askhn3k_df.csv', index_col=0)\n",
        "\n",
        "askHN = askHN.sample(1000,replace=False) # set smaller if you want to test a minibatch\n",
        "# df = df[['text','title']]\n",
        "# df['title'] = df['title'].sample(frac=1).values"
      ],
      "id": "44bbd703-0c8c-48cc-be2c-f4bbe53879d4"
    },
    {
      "cell_type": "code",
      "execution_count": 23,
      "metadata": {
        "colab": {
          "base_uri": "https://localhost:8080/"
        },
        "id": "353f72e4-2119-4546-9dcb-45647881ab2d",
        "outputId": "3a0a994f-f683-4fc2-b84a-e5549dbd5e1f"
      },
      "outputs": [
        {
          "output_type": "stream",
          "name": "stdout",
          "text": [
            "         1682195 function calls (1639163 primitive calls) in 21.582 seconds\n",
            "\n",
            "   Ordered by: internal time\n",
            "   List reduced from 2468 to 20 due to restriction <20>\n",
            "\n",
            "   ncalls  tottime  percall  cumtime  percall filename:lineno(function)\n",
            "       26   10.024    0.386   13.023    0.501 /usr/local/lib/python3.10/dist-packages/cu_cat/_gap_encoder.py:1283(_multiplicative_update_h_smallfast)\n",
            "       20    3.244    0.162    3.244    0.162 {built-in method gc.collect}\n",
            "    11896    1.679    0.000    1.835    0.000 /usr/local/lib/python3.10/dist-packages/rmm/allocators/cupy.py:23(rmm_cupy_allocator)\n",
            "2398/2362    0.823    0.000    1.232    0.001 /usr/lib/python3.10/contextlib.py:76(inner)\n",
            "       16    0.600    0.037    0.680    0.043 /usr/local/lib/python3.10/dist-packages/cu_cat/_gap_encoder.py:275(_get_H)\n",
            "      526    0.547    0.001    0.983    0.002 /usr/local/lib/python3.10/dist-packages/cupyx/scipy/sparse/_csr.py:148(__mul__)\n",
            "        6    0.435    0.073    0.435    0.073 /usr/local/lib/python3.10/dist-packages/numpy/lib/arraysetops.py:523(in1d)\n",
            "       19    0.358    0.019    0.358    0.019 {method 'read' of '_io.BufferedReader' objects}\n",
            "       20    0.338    0.017    3.774    0.189 /usr/local/lib/python3.10/dist-packages/cu_cat/_gap_encoder.py:1142(_multiplicative_update_w_smallfast)\n",
            "        4    0.270    0.068    0.270    0.068 {method 'gamma' of 'numpy.random.mtrand.RandomState' objects}\n",
            "        4    0.125    0.031   13.981    3.495 /usr/local/lib/python3.10/dist-packages/cu_cat/_gap_encoder.py:329(fit)\n",
            "     1153    0.108    0.000    0.120    0.000 {method 'update' of 'dict' objects}\n",
            "    23481    0.105    0.000    0.145    0.000 {built-in method cupy._core.core.array}\n",
            "     1672    0.098    0.000    0.271    0.000 /usr/local/lib/python3.10/dist-packages/cupyx/scipy/sparse/_compressed.py:648(__get_has_canonical_format)\n",
            "292581/291278    0.088    0.000    0.139    0.000 {built-in method builtins.isinstance}\n",
            "      540    0.087    0.000    0.092    0.000 {built-in method cupy._core._routines_linalg.matmul}\n",
            "      610    0.083    0.000    0.141    0.000 {method 'sum' of 'cupy._core.core._ndarray_base' objects}\n",
            "      576    0.066    0.000    0.128    0.000 {method 'all' of 'cupy._core.core._ndarray_base' objects}\n",
            "       20    0.063    0.003    0.076    0.004 /usr/local/lib/python3.10/dist-packages/cupyx/scipy/sparse/_csc.py:81(__mul__)\n",
            "       34    0.060    0.002    0.317    0.009 /usr/local/lib/python3.10/dist-packages/cudf/core/groupby/groupby.py:468(agg)\n",
            "\n",
            "\n"
          ]
        }
      ],
      "source": [
        "g = graphistry.nodes((askHN[['text','title']]))# 'id','parent']]))#, \\\n",
        "        # 'id', 'parent']]))#, 'descendants', 'ranking', 'deleted']]))\n",
        "\n",
        "pr = cProfile.Profile()\n",
        "pr.enable()\n",
        "\n",
        "\n",
        "# g1a = g.featurize(feature_engine='cu_cat',memoize=False)\n",
        "g5a = g.umap(engine='cuml',memoize=False,feature_engine='cu_cat', cardinality_threshold=10,cardinality_threshold_target=10)\n",
        "\n",
        "pr.disable()\n",
        "stats = Stats(pr)\n",
        "stats.sort_stats('tottime').print_stats(20)\n",
        "\n",
        "with open('aHN_umap_cucat_3k.txt', 'w') as stream:\n",
        "    stats = Stats(pr,stream=stream)\n",
        "    stats.sort_stats('tottime').print_stats(20)"
      ],
      "id": "353f72e4-2119-4546-9dcb-45647881ab2d"
    },
    {
      "cell_type": "code",
      "execution_count": null,
      "metadata": {
        "id": "EbCr6d0xXaTx"
      },
      "outputs": [],
      "source": [
        "g5a.plot()"
      ],
      "id": "EbCr6d0xXaTx"
    },
    {
      "cell_type": "code",
      "execution_count": 25,
      "metadata": {
        "id": "505ed578-f056-4d53-9feb-514f07aa0ca3"
      },
      "outputs": [],
      "source": [
        "# # !pip install dirty_cat\n",
        "# g = graphistry.nodes(askHN[['text','title']])\n",
        "# pr = cProfile.Profile()\n",
        "# pr.enable()\n",
        "\n",
        "\n",
        "# # g5b = g.featurize(feature_engine='dirty_cat',memoize=False)\n",
        "# g5b = g.umap(engine='cuml',memoize=False,feature_engine='dirty_cat', cardinality_threshold=10,cardinality_threshold_target=10)\n",
        "\n",
        "# pr.disable()\n",
        "# stats = Stats(pr)\n",
        "# stats.sort_stats('tottime').print_stats(20)\n",
        "\n",
        "# with open('aHN_umap_dirtycat_3k.txt', 'w') as stream:\n",
        "#     stats = Stats(pr,stream=stream)\n",
        "#     stats.sort_stats('tottime').print_stats(20)"
      ],
      "id": "505ed578-f056-4d53-9feb-514f07aa0ca3"
    },
    {
      "cell_type": "code",
      "execution_count": 26,
      "metadata": {
        "id": "Y9HymFDmXkcl"
      },
      "outputs": [],
      "source": [
        "# g5b.plot()"
      ],
      "id": "Y9HymFDmXkcl"
    },
    {
      "cell_type": "markdown",
      "metadata": {
        "id": "f2eafa7a-9b51-492a-ab0e-ed7ec89a2a6f"
      },
      "source": [
        "## winlogs"
      ],
      "id": "f2eafa7a-9b51-492a-ab0e-ed7ec89a2a6f"
    },
    {
      "cell_type": "code",
      "execution_count": null,
      "metadata": {
        "id": "80d63f55-ebfc-4963-813e-ed96f4f7799e"
      },
      "outputs": [],
      "source": [
        "!wget -nc https://www.dropbox.com/s/31dx1g6g59exoc3/part.88.parquet\n",
        "winlogs=pd.read_parquet('part.88.parquet')\n",
        "winlogsA=winlogs.sample(10000,replace=False)#.iloc[:,:10]\n",
        "# winlogsA=winlogsA#[['LogonID','UserName','LogHost']]#,'DomainName','LogonType','SubjectLogonID','Status','Destination','ServiceName']]#,'EventID']]#.convert_dtypes() #.replace('nan',np.nan).fillna('0o0o0')\n"
      ],
      "id": "80d63f55-ebfc-4963-813e-ed96f4f7799e"
    },
    {
      "cell_type": "code",
      "execution_count": 28,
      "metadata": {
        "id": "cb4118a6-f1fe-4893-a767-c45ee96633a8"
      },
      "outputs": [],
      "source": [
        "# import cupy as cp\n",
        "# del g,g2,g3\n",
        "# cp._default_memory_pool.free_all_blocks()"
      ],
      "id": "cb4118a6-f1fe-4893-a767-c45ee96633a8"
    },
    {
      "cell_type": "code",
      "execution_count": 29,
      "metadata": {
        "colab": {
          "base_uri": "https://localhost:8080/"
        },
        "id": "ea9e2fb1-fe96-4b4a-bd5e-09184bd37426",
        "outputId": "aba73bb2-7da0-442e-966d-1eddd653a4e5"
      },
      "outputs": [
        {
          "output_type": "stream",
          "name": "stdout",
          "text": [
            "         7892849 function calls (7726083 primitive calls) in 102.804 seconds\n",
            "\n",
            "   Ordered by: internal time\n",
            "   List reduced from 2747 to 20 due to restriction <20>\n",
            "\n",
            "   ncalls  tottime  percall  cumtime  percall filename:lineno(function)\n",
            "       91   46.473    0.511   54.827    0.602 /usr/local/lib/python3.10/dist-packages/cu_cat/_gap_encoder.py:1283(_multiplicative_update_h_smallfast)\n",
            "       70   11.930    0.170   11.930    0.170 {built-in method gc.collect}\n",
            "       21    8.741    0.416    8.741    0.416 /usr/local/lib/python3.10/dist-packages/numpy/lib/arraysetops.py:523(in1d)\n",
            "       28    6.234    0.223    6.234    0.223 {built-in method cupy_backends.cuda.libs.nvrtc.compileProgram}\n",
            "    41494    5.990    0.000    6.472    0.000 /usr/local/lib/python3.10/dist-packages/rmm/allocators/cupy.py:23(rmm_cupy_allocator)\n",
            "       56    4.624    0.083    5.322    0.095 /usr/local/lib/python3.10/dist-packages/cu_cat/_gap_encoder.py:275(_get_H)\n",
            "12158/12041    2.363    0.000    4.263    0.000 /usr/lib/python3.10/contextlib.py:76(inner)\n",
            "       70    1.602    0.023   14.022    0.200 /usr/local/lib/python3.10/dist-packages/cu_cat/_gap_encoder.py:1142(_multiplicative_update_w_smallfast)\n",
            "        5    1.385    0.277    1.385    0.277 {built-in method cupy.cuda.jitify.jitify}\n",
            "       55    0.952    0.017    0.952    0.017 {method 'read' of '_io.BufferedReader' objects}\n",
            "     4017    0.640    0.000    0.714    0.000 {method 'update' of 'dict' objects}\n",
            "   266835    0.509    0.000    0.659    0.000 {built-in method cupy._core.core.array}\n",
            "1510330/1505290    0.387    0.000    0.596    0.000 {built-in method builtins.isinstance}\n",
            "       14    0.376    0.027   61.373    4.384 /usr/local/lib/python3.10/dist-packages/cu_cat/_gap_encoder.py:329(fit)\n",
            "     1795    0.369    0.000    1.751    0.001 /usr/local/lib/python3.10/dist-packages/cupyx/scipy/sparse/_csr.py:148(__mul__)\n",
            "       14    0.320    0.023    0.320    0.023 {method 'gamma' of 'numpy.random.mtrand.RandomState' objects}\n",
            "    154/7    0.271    0.002  101.684   14.526 /usr/local/lib/python3.10/dist-packages/cuml/internals/api_decorators.py:138(wrapper)\n",
            "     5719    0.243    0.000    0.757    0.000 /usr/local/lib/python3.10/dist-packages/cupyx/scipy/sparse/_compressed.py:648(__get_has_canonical_format)\n",
            "    83479    0.209    0.000    0.402    0.000 cuda/cudart.pyx:13832(cudaGetDevice)\n",
            "     1978    0.201    0.000    1.337    0.001 {method 'all' of 'cupy._core.core._ndarray_base' objects}\n",
            "\n",
            "\n"
          ]
        }
      ],
      "source": [
        "g = graphistry.nodes((winlogsA)) #.replace('nan',np.nan).fillna('0o0o0'))\n",
        "pr = cProfile.Profile()\n",
        "pr.enable()\n",
        "\n",
        "# g1a = g.featurize(feature_engine='cu_cat',memoize=False)\n",
        "g1a = g.umap(engine='cuml',feature_engine='cu_cat',memoize=False)\n",
        "\n",
        "pr.disable()\n",
        "stats = Stats(pr)\n",
        "stats.sort_stats('tottime').print_stats(20)\n",
        "\n",
        "with open('winlogs_featurize_cucat_20k.txt', 'w') as stream:\n",
        "    stats = Stats(pr,stream=stream)\n",
        "    stats.sort_stats('tottime').print_stats(20)"
      ],
      "id": "ea9e2fb1-fe96-4b4a-bd5e-09184bd37426"
    },
    {
      "cell_type": "code",
      "execution_count": 30,
      "metadata": {
        "colab": {
          "base_uri": "https://localhost:8080/",
          "height": 543
        },
        "id": "uJzabVxKgPH5",
        "outputId": "1fd74b41-bf31-4d98-b1a4-3c87f7e8084d"
      },
      "outputs": [
        {
          "output_type": "execute_result",
          "data": {
            "text/plain": [
              "<IPython.core.display.HTML object>"
            ],
            "text/html": [
              "\n",
              "            <iframe id=\"9a800652-3ad5-49a9-a6df-430d8fa10eeb\" src=\"https://hub.graphistry.com/graph/graph.html?dataset=3d3bf81c4a71437dae72874476081612&type=arrow&viztoken=d9a4ebd1-badc-4780-b14e-e1cedabad55e&usertag=ffca0aa8-pygraphistry-0.31.1+304.g8241a1a&splashAfter=1705624380&info=true&play=0\"\n",
              "                    allowfullscreen=\"true\" webkitallowfullscreen=\"true\" mozallowfullscreen=\"true\"\n",
              "                    oallowfullscreen=\"true\" msallowfullscreen=\"true\"\n",
              "                    style=\"width:100%; height:500px; border: 1px solid #DDD; overflow: hidden\"\n",
              "                    \n",
              "            >\n",
              "            </iframe>\n",
              "        \n",
              "            <script>\n",
              "                try {\n",
              "                  $(\"#9a800652-3ad5-49a9-a6df-430d8fa10eeb\").bind('mousewheel', function(e) { e.preventDefault(); });\n",
              "                } catch (e) { console.error('exn catching scroll', e); }\n",
              "            </script>\n",
              "        "
            ]
          },
          "metadata": {},
          "execution_count": 30
        }
      ],
      "source": [
        "g1a.plot()"
      ],
      "id": "uJzabVxKgPH5"
    },
    {
      "cell_type": "code",
      "execution_count": 31,
      "metadata": {
        "id": "10526794-559b-407d-865a-84fd94e560e5"
      },
      "outputs": [],
      "source": [
        "# g = graphistry.nodes(winlogs)\n",
        "# pr = cProfile.Profile()\n",
        "# pr.enable()\n",
        "\n",
        "# # g1b = g.featurize(feature_engine='dirty_cat',memoize=False)\n",
        "# g1b = g.umap(engine='cuml',feature_engine='dirty_cat',memoize=False)\n",
        "\n",
        "# pr.disable()\n",
        "# stats = Stats(pr)\n",
        "# stats.sort_stats('tottime').print_stats(20)\n",
        "\n",
        "# with open('winlogs_featurize_dirtycat_20k.txt', 'w') as stream:\n",
        "#     stats = Stats(pr,stream=stream)\n",
        "#     stats.sort_stats('tottime').print_stats(20)"
      ],
      "id": "10526794-559b-407d-865a-84fd94e560e5"
    },
    {
      "cell_type": "code",
      "execution_count": 32,
      "metadata": {
        "id": "yqCa9iGjJfNl"
      },
      "outputs": [],
      "source": [
        "# g1b.plot()"
      ],
      "id": "yqCa9iGjJfNl"
    },
    {
      "cell_type": "markdown",
      "metadata": {
        "id": "3eb4ae8b-2a14-43fe-ac7f-1714e38272aa"
      },
      "source": [
        "## CTU-13 malware dataset"
      ],
      "id": "3eb4ae8b-2a14-43fe-ac7f-1714e38272aa"
    },
    {
      "cell_type": "code",
      "execution_count": 35,
      "metadata": {
        "colab": {
          "base_uri": "https://localhost:8080/"
        },
        "id": "3b2f1b00-6984-44c2-9148-6f38282bc0de",
        "outputId": "121b902a-abba-4569-ec2a-d01f1d77222b"
      },
      "outputs": [
        {
          "output_type": "stream",
          "name": "stdout",
          "text": [
            "Botnet abundance: 0.69%\n"
          ]
        }
      ],
      "source": [
        "edf = pd.read_csv('https://gist.githubusercontent.com/silkspace/33bde3e69ae24fee1298a66d1e00b467/raw/dc66bd6f1687270be7098f94b3929d6a055b4438/malware_bots.csv', index_col=0)\n",
        "T = edf.Label.apply(lambda x: True if 'Botnet' in x else False)\n",
        "bot = edf[T]\n",
        "nbot = edf[~T]\n",
        "print(f'Botnet abundance: {100*len(bot)/len(edf):0.2f}%')# so botnet traffic makes up a tiny fraction of total\n",
        "\n",
        "# let's balance the dataset in a 10-1 ratio, for speed and demonstrative purposes\n",
        "negs = nbot.sample(10*len(bot))\n",
        "edf = pd.concat([bot, negs])  # top part of arrays are bot traffic, then all non-bot traffic\n",
        "edf = edf.drop_duplicates()\n",
        "\n",
        "# some useful indicators for later that predict Botnet as Bool and Int\n",
        "Y = edf.Label.apply(lambda x: 1 if 'Botnet' in x else 0)  # np.array(T)\n",
        "\n",
        "# Later we will use and exploit any meaning shared between the labels in a latent distribution\n",
        "\n",
        "# add it to the dataframe\n",
        "edf['bot'] = Y\n",
        "\n",
        "# name some columns for edges and features\n",
        "src = 'SrcAddr'\n",
        "dst = 'DstAddr'\n",
        "good_cols_with_edges = ['Dur', 'Proto', 'Sport',\n",
        "       'Dport', 'State', 'TotPkts', 'TotBytes', 'SrcBytes', src, dst]\n",
        "\n",
        "good_cols_without_edges = ['Dur', 'Proto', 'Sport',\n",
        "       'Dport', 'State', 'TotPkts', 'TotBytes', 'SrcBytes']\n",
        "\n",
        "## some encoding parameters\n",
        "n_topics = 20\n",
        "n_topics_target = 7\n",
        "\n"
      ],
      "id": "3b2f1b00-6984-44c2-9148-6f38282bc0de"
    },
    {
      "cell_type": "code",
      "source": [
        "import cupy as cp\n",
        "cp._default_memory_pool.free_all_blocks()\n"
      ],
      "metadata": {
        "id": "oODfieu8I2Fs"
      },
      "id": "oODfieu8I2Fs",
      "execution_count": 37,
      "outputs": []
    },
    {
      "cell_type": "code",
      "execution_count": null,
      "metadata": {
        "id": "b0947964-efba-43be-acdc-39e52d7e2261"
      },
      "outputs": [],
      "source": [
        "# lets umap the data\n",
        "g = graphistry.nodes(edf[['SrcAddr','DstAddr']])#.apply(lambda x: str(x).zfill(4)))#, src, dst)\n",
        "pr = cProfile.Profile()\n",
        "pr.enable()\n",
        "\n",
        "g2a = g.umap(engine='cuml',memoize=False,feature_engine='cu_cat')\n",
        "\n",
        "# g2a = g.umap(kind='edges',\n",
        "#             # X=good_cols_with_edges,\n",
        "#             # y = ['bot'],\n",
        "#             use_scaler='quantile',\n",
        "#             use_scaler_target=None,\n",
        "#             cardinality_threshold=20,\n",
        "#             cardinality_threshold_target=2,\n",
        "#             n_topics=n_topics,\n",
        "#             feature_engine='cu_cat',\n",
        "#             engine='cuml',\n",
        "#             memoize=False,\n",
        "#             n_topics_target=n_topics_target,\n",
        "#             n_bins=n_topics_target,\n",
        "#             metric='euclidean',\n",
        "#             n_neighbors=12)\n",
        "pr.disable()\n",
        "stats = Stats(pr)\n",
        "stats.sort_stats('tottime').print_stats(20)\n",
        "\n",
        "with open('ctu13_umap_cucat.txt', 'w') as stream:\n",
        "    stats = Stats(pr,stream=stream)\n",
        "    stats.sort_stats('tottime').print_stats(20)\n"
      ],
      "id": "b0947964-efba-43be-acdc-39e52d7e2261"
    },
    {
      "cell_type": "code",
      "execution_count": null,
      "metadata": {
        "id": "M1Y106M7gTNo"
      },
      "outputs": [],
      "source": [
        "g2a.plot()"
      ],
      "id": "M1Y106M7gTNo"
    },
    {
      "cell_type": "code",
      "execution_count": null,
      "metadata": {
        "id": "1b0f3bd8-6545-4ac4-b325-d8a695fdd97e"
      },
      "outputs": [],
      "source": [
        "# # lets umap the data\n",
        "# g = graphistry.nodes(edf[['SrcAddr','DstAddr']])#.apply(lambda x: str(x).zfill(4)))#, src, dst)\n",
        "# pr = cProfile.Profile()\n",
        "# pr.enable()\n",
        "\n",
        "# # !pip install dirty_cat\n",
        "# g2b = g.umap(engine='cuml',memoize=False,feature_engine='dirty_cat')\n",
        "\n",
        "# # g2b = g.umap(kind='edges',\n",
        "# #             X=good_cols_with_edges,\n",
        "# #             y = ['bot'],\n",
        "# #             use_scaler='quantile',\n",
        "# #             use_scaler_target=None,\n",
        "# #             cardinality_threshold=20,\n",
        "# #             cardinality_threshold_target=2,\n",
        "# #             n_topics=n_topics,\n",
        "# #             feature_engine='dirty_cat',\n",
        "# #             engine='cuml',\n",
        "# #             memoize=False,\n",
        "# #             n_topics_target=n_topics_target,\n",
        "# #             n_bins=n_topics_target,\n",
        "# #             metric='euclidean',\n",
        "# #             n_neighbors=12)\n",
        "# pr.disable()\n",
        "# stats = Stats(pr)\n",
        "# stats.sort_stats('tottime').print_stats(20)\n",
        "\n",
        "# with open('ctu13_umap_dirtycat.txt', 'w') as stream:\n",
        "#     stats = Stats(pr,stream=stream)\n",
        "#     stats.sort_stats('tottime').print_stats(20)\n"
      ],
      "id": "1b0f3bd8-6545-4ac4-b325-d8a695fdd97e"
    },
    {
      "cell_type": "code",
      "execution_count": null,
      "metadata": {
        "id": "c60JSNVigUhR"
      },
      "outputs": [],
      "source": [
        "# g2b.plot()"
      ],
      "id": "c60JSNVigUhR"
    },
    {
      "cell_type": "code",
      "source": [],
      "metadata": {
        "id": "qaZKfqcguV2_"
      },
      "id": "qaZKfqcguV2_",
      "execution_count": null,
      "outputs": []
    }
  ],
  "metadata": {
    "accelerator": "GPU",
    "colab": {
      "provenance": [],
      "toc_visible": true,
      "include_colab_link": true
    },
    "gpuClass": "standard",
    "kernelspec": {
      "display_name": "Python 3 (ipykernel)",
      "language": "python",
      "name": "python3"
    },
    "language_info": {
      "codemirror_mode": {
        "name": "ipython",
        "version": 3
      },
      "file_extension": ".py",
      "mimetype": "text/x-python",
      "name": "python",
      "nbconvert_exporter": "python",
      "pygments_lexer": "ipython3",
      "version": "3.8.13"
    }
  },
  "nbformat": 4,
  "nbformat_minor": 5
}