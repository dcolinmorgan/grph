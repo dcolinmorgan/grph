{
  "cells": [
    {
      "cell_type": "markdown",
      "metadata": {
        "id": "view-in-github",
        "colab_type": "text"
      },
      "source": [
        "<a href=\"https://colab.research.google.com/github/dcolinmorgan/grph/blob/main/colab_cucat_bench_run.ipynb\" target=\"_parent\"><img src=\"https://colab.research.google.com/assets/colab-badge.svg\" alt=\"Open In Colab\"/></a>"
      ]
    },
    {
      "cell_type": "markdown",
      "source": [
        "# cu_cat demo\n",
        "\n",
        "(not so risky)"
      ],
      "metadata": {
        "id": "hQinzuiQscjc"
      },
      "id": "hQinzuiQscjc"
    },
    {
      "cell_type": "code",
      "source": [
        "!pip install --extra-index-url=https://pypi.nvidia.com cuml-cu11==22.10.0 cudf-cu11==22.10.0 cugraph-cu11==22.10.0 pylibraft_cu11==22.10.0 raft_dask_cu11==22.10.0 dask_cudf_cu11==22.10.0 pylibcugraph_cu11==22.10.0 pylibraft_cu11==22.10.0\n",
        "!pip install git+https://github.com/graphistry/pygraphistry.git@cuCat\n",
        "!pip install -U git+https://github.com/graphistry/cu-cat.git@cu-cat #@0.01.0"
      ],
      "metadata": {
        "id": "UC_w5EhksYyX"
      },
      "id": "UC_w5EhksYyX",
      "execution_count": null,
      "outputs": []
    },
    {
      "cell_type": "code",
      "source": [
        "import cuml\n",
        "cuml.__version__"
      ],
      "metadata": {
        "colab": {
          "base_uri": "https://localhost:8080/",
          "height": 35
        },
        "id": "zl_CEY3RsZsp",
        "outputId": "945a8a63-c52f-4744-9cd9-5d3166b55e33"
      },
      "id": "zl_CEY3RsZsp",
      "execution_count": null,
      "outputs": [
        {
          "output_type": "execute_result",
          "data": {
            "text/plain": [
              "'22.10.00a+119.gb30ef85c1'"
            ],
            "application/vnd.google.colaboratory.intrinsic+json": {
              "type": "string"
            }
          },
          "metadata": {},
          "execution_count": 2
        }
      ]
    },
    {
      "cell_type": "code",
      "source": [
        "!echo \"0.01.0\" > VERSION.txt\n",
        "!cp VERSION.txt /usr/local/lib/python3.8/dist-packages/cu_cat/"
      ],
      "metadata": {
        "id": "yGjC6ysZsZvN"
      },
      "id": "yGjC6ysZsZvN",
      "execution_count": null,
      "outputs": []
    },
    {
      "cell_type": "code",
      "source": [
        "from importlib import reload\n",
        "# reload(cu_cat)\n",
        "import cu_cat\n",
        "print(cu_cat.__file__)"
      ],
      "metadata": {
        "colab": {
          "base_uri": "https://localhost:8080/"
        },
        "id": "U4xWbmFMsbSu",
        "outputId": "7531d626-ddb3-4354-f6dd-57175db81fbe"
      },
      "id": "U4xWbmFMsbSu",
      "execution_count": null,
      "outputs": [
        {
          "output_type": "stream",
          "name": "stdout",
          "text": [
            "/usr/local/lib/python3.8/dist-packages/cu_cat/__init__.py\n"
          ]
        }
      ]
    },
    {
      "cell_type": "code",
      "source": [
        "import os\n",
        "from collections import Counter\n",
        "import cProfile\n",
        "import pandas as pd\n",
        "import numpy as np\n",
        "import matplotlib.pyplot as plt\n",
        "from pstats import Stats\n",
        "import warnings\n",
        "warnings.filterwarnings('ignore')\n",
        "pd.set_option('display.max_colwidth', 200)\n"
      ],
      "metadata": {
        "id": "DDkaXicVsbVE"
      },
      "id": "DDkaXicVsbVE",
      "execution_count": null,
      "outputs": []
    },
    {
      "cell_type": "code",
      "source": [
        "import graphistry\n",
        "graphistry.register(api=3,protocol=\"https\", server=\"hub.graphistry.com\", username='dcolinmorgan', password='***') ## key id, secret key\n",
        "graphistry.__version__\n"
      ],
      "metadata": {
        "colab": {
          "base_uri": "https://localhost:8080/",
          "height": 35
        },
        "id": "OpgmDTmwsbXX",
        "outputId": "d3dcc0fe-3f54-4479-ea42-96706d4e7d9a"
      },
      "id": "OpgmDTmwsbXX",
      "execution_count": null,
      "outputs": [
        {
          "output_type": "execute_result",
          "data": {
            "text/plain": [
              "'0.28.6+17.g21dac04'"
            ],
            "application/vnd.google.colaboratory.intrinsic+json": {
              "type": "string"
            }
          },
          "metadata": {},
          "execution_count": 6
        }
      ]
    },
    {
      "cell_type": "code",
      "source": [
        "import locale\n",
        "def getpreferredencoding(do_setlocale = True):\n",
        "    return \"UTF-8\"\n",
        "locale.getpreferredencoding = getpreferredencoding\n",
        "!pip install dirty_cat\n",
        "import dirty_cat"
      ],
      "metadata": {
        "id": "2wziX0tHsbZu"
      },
      "id": "2wziX0tHsbZu",
      "execution_count": null,
      "outputs": []
    },
    {
      "cell_type": "code",
      "source": [
        "import logging\n",
        "logger = logging.getLogger()\n"
      ],
      "metadata": {
        "id": "QvcZ0QCOsg6o"
      },
      "id": "QvcZ0QCOsg6o",
      "execution_count": null,
      "outputs": []
    },
    {
      "cell_type": "markdown",
      "id": "a1f6bcea-42c9-4f00-baf1-86e4c4349434",
      "metadata": {
        "jp-MarkdownHeadingCollapsed": true,
        "tags": [],
        "id": "a1f6bcea-42c9-4f00-baf1-86e4c4349434"
      },
      "source": [
        "## ask HN"
      ]
    },
    {
      "cell_type": "code",
      "execution_count": null,
      "id": "44bbd703-0c8c-48cc-be2c-f4bbe53879d4",
      "metadata": {
        "tags": [],
        "id": "44bbd703-0c8c-48cc-be2c-f4bbe53879d4"
      },
      "outputs": [],
      "source": [
        "# # get the data top 3000 posts on Hacker News\n",
        "askHN = pd.read_csv('https://storage.googleapis.com/cohere-assets/blog/text-clustering/data/askhn3k_df.csv', index_col=0)\n",
        "\n",
        "# df = df.sample(10000,replace=True) # set smaller if you want to test a minibatch \n",
        "# df = df[['text','title']]\n",
        "# df['title'] = df['title'].sample(frac=1).values"
      ]
    },
    {
      "cell_type": "code",
      "execution_count": null,
      "id": "353f72e4-2119-4546-9dcb-45647881ab2d",
      "metadata": {
        "tags": [],
        "colab": {
          "base_uri": "https://localhost:8080/"
        },
        "id": "353f72e4-2119-4546-9dcb-45647881ab2d",
        "outputId": "ebf44cc3-8461-4d2f-f04b-c4a546216394"
      },
      "outputs": [
        {
          "output_type": "stream",
          "name": "stderr",
          "text": [
            "WARNING:root:* Ignoring target column of shape (3000, 0) in UMAP fit, as it is not one dimensional"
          ]
        },
        {
          "output_type": "stream",
          "name": "stdout",
          "text": [
            "         24507879 function calls (24451692 primitive calls) in 105.511 seconds\n",
            "\n",
            "   Ordered by: internal time\n",
            "   List reduced from 2314 to 20 due to restriction <20>\n",
            "\n",
            "   ncalls  tottime  percall  cumtime  percall filename:lineno(function)\n",
            "       13   35.673    2.744   51.472    3.959 /usr/local/lib/python3.8/dist-packages/cu_cat/_gap_encoder.py:987(_multiplicative_update_h_smallfast)\n",
            "      242    9.948    0.041   17.904    0.074 /usr/local/lib/python3.8/dist-packages/cu_cat/_gap_encoder.py:935(_multiplicative_update_h)\n",
            "        9    9.291    1.032    9.292    1.032 /usr/local/lib/python3.8/dist-packages/numpy/lib/arraysetops.py:519(in1d)\n",
            "       30    7.924    0.264    7.924    0.264 {built-in method cupy_backends.cuda.libs.nvrtc.compileProgram}\n",
            "       21    4.783    0.228   11.469    0.546 /usr/local/lib/python3.8/dist-packages/sklearn/feature_extraction/text.py:1184(_count_vocab)\n",
            "      123    3.663    0.030    3.663    0.030 {built-in method scipy.sparse._sparsetools.csc_tocsr}\n",
            "     9458    3.606    0.000    3.717    0.000 /usr/local/lib/python3.8/dist-packages/rmm/rmm.py:216(rmm_cupy_allocator)\n",
            "      460    3.327    0.007    3.331    0.007 {built-in method cupy._core._routines_linalg.matmul}\n",
            "    78473    3.190    0.000    4.302    0.000 /usr/local/lib/python3.8/dist-packages/sklearn/feature_extraction/text.py:262(_char_ngrams)\n",
            "2000345/1999590    3.130    0.000   13.494    0.000 {built-in method numpy.core._multiarray_umath.implement_array_function}\n",
            "      454    1.910    0.004    2.269    0.005 /usr/local/lib/python3.8/dist-packages/cupyx/scipy/sparse/csr.py:148(__mul__)\n",
            "  1859778    1.734    0.000    4.726    0.000 <__array_function__ internals>:177(dot)\n",
            "      496    1.328    0.003    1.328    0.003 {built-in method cupy.cuda.device.get_cusparse_handle}\n",
            " 12693127    0.973    0.000    0.973    0.000 {method 'append' of 'list' objects}\n",
            "   113976    0.663    0.000    0.663    0.000 {method 'extend' of 'array.array' objects}\n",
            "      123    0.607    0.005    0.607    0.005 {built-in method scipy.sparse._sparsetools.csr_matmat}\n",
            "    31831    0.582    0.000    1.674    0.000 /usr/local/lib/python3.8/dist-packages/scipy/sparse/compressed.py:136(check_format)\n",
            "    63914    0.476    0.000    1.114    0.000 /usr/local/lib/python3.8/dist-packages/scipy/sparse/sputils.py:131(get_index_dtype)\n",
            "232780/232757    0.471    0.000    1.067    0.000 {built-in method numpy.asarray}\n",
            "120234/114234    0.453    0.000    0.905    0.000 {built-in method numpy.array}\n",
            "\n",
            "\n"
          ]
        }
      ],
      "source": [
        "g = graphistry.nodes(askHN)\n",
        "pr = cProfile.Profile()\n",
        "pr.enable()\n",
        "\n",
        "\n",
        "# g1a = g.featurize(feature_engine='cuCat',memoize=False)\n",
        "g1aa = g.umap(engine='cuml',memoize=False,feature_engine='cu_cat')\n",
        "\n",
        "pr.disable()\n",
        "stats = Stats(pr)\n",
        "stats.sort_stats('tottime').print_stats(20)\n",
        "\n",
        "with open('aHN_umap_cucat_3k.txt', 'w') as stream:\n",
        "    stats = Stats(pr,stream=stream)\n",
        "    stats.sort_stats('tottime').print_stats(20)"
      ]
    },
    {
      "cell_type": "code",
      "execution_count": null,
      "id": "505ed578-f056-4d53-9feb-514f07aa0ca3",
      "metadata": {
        "tags": [],
        "colab": {
          "base_uri": "https://localhost:8080/"
        },
        "id": "505ed578-f056-4d53-9feb-514f07aa0ca3",
        "outputId": "3f67dbcf-7111-4fff-9e8c-948841e91b0f"
      },
      "outputs": [
        {
          "output_type": "stream",
          "name": "stderr",
          "text": [
            "WARNING:root:* Ignoring target column of shape (3000, 0) in UMAP fit, as it is not one dimensional"
          ]
        },
        {
          "output_type": "stream",
          "name": "stdout",
          "text": [
            "         35574969 function calls (35518798 primitive calls) in 152.723 seconds\n",
            "\n",
            "   Ordered by: internal time\n",
            "   List reduced from 2111 to 20 due to restriction <20>\n",
            "\n",
            "   ncalls  tottime  percall  cumtime  percall filename:lineno(function)\n",
            "      764   41.615    0.054   87.567    0.115 /usr/local/lib/python3.8/dist-packages/dirty_cat/_gap_encoder.py:1003(_multiplicative_update_h)\n",
            "4218044/4217259   40.498    0.000   50.343    0.000 {built-in method numpy.core._multiarray_umath.implement_array_function}\n",
            "      360   13.848    0.038   33.832    0.094 /usr/local/lib/python3.8/dist-packages/dirty_cat/_gap_encoder.py:971(_multiplicative_update_w)\n",
            "        9    8.602    0.956    8.603    0.956 /usr/local/lib/python3.8/dist-packages/numpy/lib/arraysetops.py:519(in1d)\n",
            "       21    5.399    0.257   12.731    0.606 /usr/local/lib/python3.8/dist-packages/sklearn/feature_extraction/text.py:1184(_count_vocab)\n",
            "  3821176    4.685    0.000   44.981    0.000 <__array_function__ internals>:177(dot)\n",
            "    15120    3.770    0.000    3.770    0.000 {built-in method scipy.sparse._sparsetools.coo_matvec}\n",
            "    78473    3.536    0.000    4.666    0.000 /usr/local/lib/python3.8/dist-packages/sklearn/feature_extraction/text.py:262(_char_ngrams)\n",
            "      123    3.018    0.025    3.018    0.025 {built-in method scipy.sparse._sparsetools.csc_tocsr}\n",
            "    95607    2.334    0.000    6.577    0.000 /usr/local/lib/python3.8/dist-packages/scipy/sparse/compressed.py:136(check_format)\n",
            "   192906    1.912    0.000    4.519    0.000 /usr/local/lib/python3.8/dist-packages/scipy/sparse/sputils.py:131(get_index_dtype)\n",
            "95607/95484    1.244    0.000   15.910    0.000 /usr/local/lib/python3.8/dist-packages/scipy/sparse/compressed.py:27(__init__)\n",
            "      360    1.188    0.003    1.749    0.005 /usr/local/lib/python3.8/dist-packages/dirty_cat/_gap_encoder.py:961(_rescale_W)\n",
            " 12689680    1.002    0.000    1.002    0.000 {method 'append' of 'list' objects}\n",
            "    95607    0.989    0.000    1.940    0.000 /usr/local/lib/python3.8/dist-packages/scipy/sparse/compressed.py:1156(prune)\n",
            "   385834    0.939    0.000    0.939    0.000 /usr/local/lib/python3.8/dist-packages/numpy/core/getlimits.py:647(__init__)\n",
            "312802/306802    0.930    0.000    1.247    0.000 {built-in method numpy.array}\n",
            "    18251    0.872    0.000    0.872    0.000 {method 'reduce' of 'numpy.ufunc' objects}\n",
            "      360    0.856    0.002    1.167    0.003 /usr/local/lib/python3.8/dist-packages/scipy/sparse/compressed.py:365(multiply)\n",
            "     8290    0.854    0.000    0.854    0.000 {built-in method numpy.zeros}\n",
            "\n",
            "\n"
          ]
        }
      ],
      "source": [
        "g = graphistry.nodes(askHN)\n",
        "pr = cProfile.Profile()\n",
        "pr.enable()\n",
        "\n",
        "\n",
        "# g1b = g.featurize(feature_engine='dirty_cat',memoize=False)\n",
        "g1bb = g.umap(engine='cuml',memoize=False,feature_engine='dirty_cat')\n",
        "\n",
        "pr.disable()\n",
        "stats = Stats(pr)\n",
        "stats.sort_stats('tottime').print_stats(20)\n",
        "\n",
        "with open('aHN_umap_dirtycat_3k.txt', 'w') as stream:\n",
        "    stats = Stats(pr,stream=stream)\n",
        "    stats.sort_stats('tottime').print_stats(20)"
      ]
    },
    {
      "cell_type": "markdown",
      "id": "b9fa2d4e-53e8-4eb5-bdbf-c5c1908159ad",
      "metadata": {
        "jp-MarkdownHeadingCollapsed": true,
        "tags": [],
        "id": "b9fa2d4e-53e8-4eb5-bdbf-c5c1908159ad"
      },
      "source": [
        "## redteam"
      ]
    },
    {
      "cell_type": "code",
      "execution_count": null,
      "id": "3fe52faa-c35c-492e-98c1-7cfc46888a5f",
      "metadata": {
        "tags": [],
        "id": "3fe52faa-c35c-492e-98c1-7cfc46888a5f"
      },
      "outputs": [],
      "source": [
        "df = pd.read_csv('https://gist.githubusercontent.com/silkspace/c7b50d0c03dc59f63c48d68d696958ff/raw/31d918267f86f8252d42d2e9597ba6fc03fcdac2/redteam_50k.csv', index_col=0)\n",
        "red_team = pd.read_csv('https://gist.githubusercontent.com/silkspace/5cf5a94b9ac4b4ffe38904f20d93edb1/raw/888dabd86f88ea747cf9ff5f6c44725e21536465/redteam_labels.csv', index_col=0)\n",
        "df['feats'] = df.src_computer + ' ' + df.dst_computer + ' ' + df.auth_type + ' ' + df.logontype\n",
        "df['feats2'] = df.src_computer + ' ' + df.dst_computer\n",
        "ndf = df.drop_duplicates(subset=['feats'])\n",
        "tdf = pd.concat([red_team.reset_index(), ndf.reset_index()])\n",
        "tdf['node'] = range(len(tdf))"
      ]
    },
    {
      "cell_type": "code",
      "execution_count": null,
      "id": "50a61cf4-316f-4a78-854d-72c73f89e4ce",
      "metadata": {
        "tags": [],
        "colab": {
          "base_uri": "https://localhost:8080/"
        },
        "id": "50a61cf4-316f-4a78-854d-72c73f89e4ce",
        "outputId": "a5b2040f-f029-449f-c0cc-f030593a391b"
      },
      "outputs": [
        {
          "output_type": "stream",
          "name": "stderr",
          "text": [
            "WARNING:root:* Ignoring target column of shape (19762, 0) in UMAP fit, as it is not one dimensional"
          ]
        },
        {
          "output_type": "stream",
          "name": "stdout",
          "text": [
            "         12139718 function calls (12099306 primitive calls) in 68.897 seconds\n",
            "\n",
            "   Ordered by: internal time\n",
            "   List reduced from 1889 to 20 due to restriction <20>\n",
            "\n",
            "   ncalls  tottime  percall  cumtime  percall filename:lineno(function)\n",
            "        5   18.967    3.793   21.693    4.339 /usr/local/lib/python3.8/dist-packages/cu_cat/_gap_encoder.py:987(_multiplicative_update_h_smallfast)\n",
            "        3   17.173    5.724   17.173    5.724 /usr/local/lib/python3.8/dist-packages/numpy/lib/arraysetops.py:519(in1d)\n",
            "    39524    7.701    0.000    9.616    0.000 /usr/local/lib/python3.8/dist-packages/pandas/core/missing.py:60(mask_missing)\n",
            "42595/42360    7.611    0.000   24.918    0.001 {built-in method numpy.core._multiarray_umath.implement_array_function}\n",
            "    79468    1.920    0.000    1.920    0.000 {method 'reduce' of 'numpy.ufunc' objects}\n",
            "     4244    1.872    0.000    1.932    0.000 /usr/local/lib/python3.8/dist-packages/rmm/rmm.py:216(rmm_cupy_allocator)\n",
            "        7    1.180    0.169    3.414    0.488 /usr/local/lib/python3.8/dist-packages/sklearn/feature_extraction/text.py:1184(_count_vocab)\n",
            "2617374/2577847    0.835    0.000    1.174    0.000 {built-in method builtins.isinstance}\n",
            "    63053    0.826    0.000    1.126    0.000 /usr/local/lib/python3.8/dist-packages/sklearn/feature_extraction/text.py:262(_char_ngrams)\n",
            "      8/5    0.674    0.084   24.768    4.954 /usr/local/lib/python3.8/dist-packages/pandas/core/generic.py:6440(replace)\n",
            "       31    0.436    0.014    0.436    0.014 {built-in method scipy.sparse._sparsetools.csc_tocsr}\n",
            "    79048    0.374    0.000    0.570    0.000 /usr/local/lib/python3.8/dist-packages/pandas/core/dtypes/cast.py:689(infer_dtype_from_scalar)\n",
            "    39668    0.357    0.000    0.357    0.000 {built-in method numpy.zeros}\n",
            "      208    0.346    0.002    0.619    0.003 /usr/local/lib/python3.8/dist-packages/cupyx/scipy/sparse/csr.py:148(__mul__)\n",
            "   109832    0.322    0.000    1.712    0.000 /usr/local/lib/python3.8/dist-packages/sklearn/feature_extraction/text.py:77(_analyze)\n",
            "    39524    0.255    0.000    3.510    0.000 /usr/local/lib/python3.8/dist-packages/pandas/core/internals/blocks.py:1055(coerce_to_target_dtype)\n",
            "   109832    0.249    0.000    0.249    0.000 {method 'extend' of 'array.array' objects}\n",
            "  2855383    0.234    0.000    0.234    0.000 {method 'append' of 'list' objects}\n",
            "        4    0.222    0.055   23.774    5.943 /usr/local/lib/python3.8/dist-packages/pandas/core/internals/blocks.py:764(_replace_list)\n",
            "    79139    0.216    0.000    0.651    0.000 /usr/local/lib/python3.8/dist-packages/pandas/core/internals/blocks.py:1858(maybe_coerce_values)\n",
            "\n",
            "\n",
            "CPU times: user 1min, sys: 9.15 s, total: 1min 9s\n",
            "Wall time: 1min 9s\n"
          ]
        }
      ],
      "source": [
        "%%time\n",
        "# process = True  # set to false after it's run for ease of speed\n",
        "pr = cProfile.Profile()\n",
        "pr.enable()\n",
        "g = graphistry.nodes(tdf, 'node')\n",
        "g2a = g.umap(X=['feats'], \n",
        "            min_words=1000000, # force high so that we don't use Sentence Transformers\n",
        "            cardinality_threshold=4, # set low so we force topic model\n",
        "            n_topics=32, # number of topics\n",
        "            use_scaler=None,\n",
        "            feature_engine='cu_cat',\n",
        "            memoize=False,\n",
        "            # engine='cuml',\n",
        "            use_scaler_target=None\n",
        "           )\n",
        "\n",
        "pr.disable()\n",
        "stats = Stats(pr)\n",
        "stats.sort_stats('tottime').print_stats(20)\n",
        "\n",
        "with open('redteam_umap_cucat.txt', 'w') as stream:\n",
        "    stats = Stats(pr,stream=stream)\n",
        "    stats.sort_stats('tottime').print_stats(20)"
      ]
    },
    {
      "cell_type": "code",
      "execution_count": null,
      "id": "65589ec6-7112-43eb-895c-8f0e3610f0cf",
      "metadata": {
        "tags": [],
        "colab": {
          "base_uri": "https://localhost:8080/"
        },
        "id": "65589ec6-7112-43eb-895c-8f0e3610f0cf",
        "outputId": "7966c4b0-77cd-440a-cb2b-165869f978d6"
      },
      "outputs": [
        {
          "output_type": "stream",
          "name": "stderr",
          "text": [
            "WARNING:root:* Ignoring target column of shape (19762, 0) in UMAP fit, as it is not one dimensional"
          ]
        },
        {
          "output_type": "stream",
          "name": "stdout",
          "text": [
            "         30354021 function calls (30313610 primitive calls) in 100.076 seconds\n",
            "\n",
            "   Ordered by: internal time\n",
            "   List reduced from 1783 to 20 due to restriction <20>\n",
            "\n",
            "   ncalls  tottime  percall  cumtime  percall filename:lineno(function)\n",
            "2899279/2899038   18.149    0.000   35.065    0.000 {built-in method numpy.core._multiarray_umath.implement_array_function}\n",
            "        3   16.697    5.566   16.697    5.566 /usr/local/lib/python3.8/dist-packages/numpy/lib/arraysetops.py:519(in1d)\n",
            "     1054   14.508    0.014   44.162    0.042 /usr/local/lib/python3.8/dist-packages/dirty_cat/_gap_encoder.py:1003(_multiplicative_update_h)\n",
            "    39524    7.975    0.000   10.027    0.000 /usr/local/lib/python3.8/dist-packages/pandas/core/missing.py:60(mask_missing)\n",
            "   134889    3.527    0.000   10.602    0.000 /usr/local/lib/python3.8/dist-packages/scipy/sparse/compressed.py:136(check_format)\n",
            "  2310751    3.488    0.000   13.876    0.000 <__array_function__ internals>:177(dot)\n",
            "      775    3.329    0.004    9.846    0.013 /usr/local/lib/python3.8/dist-packages/dirty_cat/_gap_encoder.py:971(_multiplicative_update_w)\n",
            "   272946    3.014    0.000    7.020    0.000 /usr/local/lib/python3.8/dist-packages/scipy/sparse/sputils.py:131(get_index_dtype)\n",
            "    90317    2.164    0.000    2.164    0.000 {method 'reduce' of 'numpy.ufunc' objects}\n",
            "134889/134858    1.860    0.000   19.824    0.000 /usr/local/lib/python3.8/dist-packages/scipy/sparse/compressed.py:27(__init__)\n",
            "   134889    1.657    0.000    3.197    0.000 /usr/local/lib/python3.8/dist-packages/scipy/sparse/compressed.py:1156(prune)\n",
            "   545900    1.374    0.000    1.374    0.000 /usr/local/lib/python3.8/dist-packages/numpy/core/getlimits.py:647(__init__)\n",
            "3184930/3145403    0.994    0.000    1.327    0.000 {built-in method builtins.isinstance}\n",
            "   136442    0.943    0.000    1.328    0.000 /usr/local/lib/python3.8/dist-packages/scipy/sparse/sputils.py:277(check_shape)\n",
            "        7    0.891    0.127    2.684    0.383 /usr/local/lib/python3.8/dist-packages/sklearn/feature_extraction/text.py:1184(_count_vocab)\n",
            "   539810    0.876    0.000    1.993    0.000 <__array_function__ internals>:177(can_cast)\n",
            "   133914    0.822    0.000   20.061    0.000 /usr/local/lib/python3.8/dist-packages/scipy/sparse/csr.py:240(__iter__)\n",
            "   527869    0.807    0.000    0.807    0.000 {built-in method numpy.array}\n",
            "   566002    0.752    0.000    1.274    0.000 /usr/local/lib/python3.8/dist-packages/scipy/sparse/base.py:238(nnz)\n",
            "    63053    0.675    0.000    0.923    0.000 /usr/local/lib/python3.8/dist-packages/sklearn/feature_extraction/text.py:262(_char_ngrams)\n",
            "\n",
            "\n",
            "CPU times: user 1min 37s, sys: 36.9 s, total: 2min 14s\n",
            "Wall time: 1min 40s\n"
          ]
        }
      ],
      "source": [
        "%%time\n",
        "pr = cProfile.Profile()\n",
        "pr.enable()\n",
        "g = graphistry.nodes(tdf, 'node')\n",
        "g2b = g.umap(X=['feats'], \n",
        "            min_words=1000000, # force high so that we don't use Sentence Transformers\n",
        "            cardinality_threshold=4, # set low so we force topic model\n",
        "            n_topics=32, # number of topics\n",
        "            use_scaler=None,\n",
        "            feature_engine='dirty_cat',\n",
        "            memoize=False,\n",
        "            # engine='cuml',\n",
        "            use_scaler_target=None\n",
        "           )\n",
        "\n",
        "pr.disable()\n",
        "stats = Stats(pr)\n",
        "stats.sort_stats('tottime').print_stats(20)\n",
        "\n",
        "with open('redteam_umap_dirtycat.txt', 'w') as stream:\n",
        "    stats = Stats(pr,stream=stream)\n",
        "    stats.sort_stats('tottime').print_stats(20)"
      ]
    },
    {
      "cell_type": "markdown",
      "id": "3eb4ae8b-2a14-43fe-ac7f-1714e38272aa",
      "metadata": {
        "jp-MarkdownHeadingCollapsed": true,
        "tags": [],
        "id": "3eb4ae8b-2a14-43fe-ac7f-1714e38272aa"
      },
      "source": [
        "## CTU-13 malware dataset"
      ]
    },
    {
      "cell_type": "code",
      "execution_count": null,
      "id": "3b2f1b00-6984-44c2-9148-6f38282bc0de",
      "metadata": {
        "tags": [],
        "colab": {
          "base_uri": "https://localhost:8080/"
        },
        "id": "3b2f1b00-6984-44c2-9148-6f38282bc0de",
        "outputId": "8842e84e-f65c-4de9-a6f1-86a7b74be333"
      },
      "outputs": [
        {
          "output_type": "stream",
          "name": "stdout",
          "text": [
            "Botnet abundance: 0.69%\n"
          ]
        }
      ],
      "source": [
        "edf = pd.read_csv('https://gist.githubusercontent.com/silkspace/33bde3e69ae24fee1298a66d1e00b467/raw/dc66bd6f1687270be7098f94b3929d6a055b4438/malware_bots.csv', index_col=0)\n",
        "T = edf.Label.apply(lambda x: True if 'Botnet' in x else False)\n",
        "bot = edf[T]\n",
        "nbot = edf[~T]\n",
        "print(f'Botnet abundance: {100*len(bot)/len(edf):0.2f}%')# so botnet traffic makes up a tiny fraction of total\n",
        "\n",
        "# let's balance the dataset in a 10-1 ratio, for speed and demonstrative purposes\n",
        "negs = nbot.sample(10*len(bot))\n",
        "edf = pd.concat([bot, negs])  # top part of arrays are bot traffic, then all non-bot traffic\n",
        "edf = edf.drop_duplicates()\n",
        "\n",
        "# some useful indicators for later that predict Botnet as Bool and Int\n",
        "Y = edf.Label.apply(lambda x: 1 if 'Botnet' in x else 0)  # np.array(T)\n",
        "\n",
        "# Later we will use and exploit any meaning shared between the labels in a latent distribution\n",
        "\n",
        "# add it to the dataframe\n",
        "edf['bot'] = Y\n",
        "\n",
        "# name some columns for edges and features\n",
        "src = 'SrcAddr'\n",
        "dst = 'DstAddr'\n",
        "good_cols_with_edges = ['Dur', 'Proto', 'Sport',\n",
        "       'Dport', 'State', 'TotPkts', 'TotBytes', 'SrcBytes', src, dst]\n",
        "\n",
        "good_cols_without_edges = ['Dur', 'Proto', 'Sport',\n",
        "       'Dport', 'State', 'TotPkts', 'TotBytes', 'SrcBytes']\n",
        "\n",
        "## some encoding parameters\n",
        "n_topics = 20\n",
        "n_topics_target = 7\n",
        "\n"
      ]
    },
    {
      "cell_type": "code",
      "execution_count": null,
      "id": "b0947964-efba-43be-acdc-39e52d7e2261",
      "metadata": {
        "tags": [],
        "colab": {
          "base_uri": "https://localhost:8080/"
        },
        "id": "b0947964-efba-43be-acdc-39e52d7e2261",
        "outputId": "b8db7cd3-122d-4ca2-a17b-6720aed0f282"
      },
      "outputs": [
        {
          "output_type": "stream",
          "name": "stdout",
          "text": [
            "         4639229 function calls (4496707 primitive calls) in 27.471 seconds\n",
            "\n",
            "   Ordered by: internal time\n",
            "   List reduced from 2074 to 20 due to restriction <20>\n",
            "\n",
            "   ncalls  tottime  percall  cumtime  percall filename:lineno(function)\n",
            "        9    5.216    0.580    5.216    0.580 /usr/local/lib/python3.8/dist-packages/numpy/lib/arraysetops.py:519(in1d)\n",
            "        3    1.801    0.600    1.801    0.600 /usr/local/lib/python3.8/dist-packages/numpy/ma/core.py:3211(__getitem__)\n",
            "      138    1.636    0.012    1.636    0.012 {method 'argsort' of 'numpy.ndarray' objects}\n",
            "       15    1.583    0.106    2.070    0.138 /usr/local/lib/python3.8/dist-packages/cu_cat/_gap_encoder.py:987(_multiplicative_update_h_smallfast)\n",
            "    13182    1.163    0.000    3.666    0.000 /usr/local/lib/python3.8/dist-packages/scipy/stats/_distn_infrastructure.py:2096(ppf)\n",
            "251588/193809    1.092    0.000   12.425    0.000 {built-in method numpy.core._multiarray_umath.implement_array_function}\n",
            "      319    0.973    0.003    0.986    0.003 {built-in method cupy._core.core.array}\n",
            "       46    0.904    0.020    0.904    0.020 {method 'copy' of 'numpy.ndarray' objects}\n",
            "        1    0.844    0.844    1.570    1.570 /usr/local/lib/python3.8/dist-packages/cuml/internals/api_decorators.py:397(inner_with_setters)\n",
            "     4394    0.779    0.000    5.793    0.001 /usr/local/lib/python3.8/dist-packages/sklearn/preprocessing/_data.py:2608(_transform_col)\n",
            "        1    0.777    0.777    0.777    0.777 /usr/local/lib/python3.8/dist-packages/numpy/ma/core.py:3337(__setitem__)\n",
            "     8788    0.737    0.000    0.737    0.000 {built-in method numpy.core._multiarray_umath.interp}\n",
            "        1    0.707    0.707    1.293    1.293 /usr/local/lib/python3.8/dist-packages/cuml/internals/api_decorators.py:571(inner_get)\n",
            "    13375    0.653    0.000    0.653    0.000 {method 'take' of 'numpy.ndarray' objects}\n",
            "    75443    0.636    0.000    0.636    0.000 {method 'reduce' of 'numpy.ufunc' objects}\n",
            "     1533    0.573    0.000    0.588    0.000 {built-in method numpy.array}\n",
            "     4397    0.486    0.000    0.486    0.000 {method 'partition' of 'numpy.ndarray' objects}\n",
            "    35216    0.372    0.000    0.372    0.000 {built-in method numpy.core._multiarray_umath._insert}\n",
            "       10    0.319    0.032    0.827    0.083 /usr/local/lib/python3.8/dist-packages/pandas/core/internals/managers.py:1981(_merge_blocks)\n",
            "     4179    0.277    0.000    0.309    0.000 /usr/local/lib/python3.8/dist-packages/rmm/rmm.py:216(rmm_cupy_allocator)\n",
            "\n",
            "\n"
          ]
        }
      ],
      "source": [
        "# lets umap the data\n",
        "g = graphistry.edges(edf, src, dst)\n",
        "\n",
        "pr = cProfile.Profile()\n",
        "pr.enable()\n",
        "g3a = g.umap(kind='edges', \n",
        "            X=good_cols_with_edges, \n",
        "            y = ['bot'], \n",
        "            use_scaler='quantile',\n",
        "            use_scaler_target=None,\n",
        "            cardinality_threshold=20,\n",
        "            cardinality_threshold_target=2, \n",
        "            n_topics=n_topics,\n",
        "            feature_engine='cu_cat',\n",
        "            engine='cuml',\n",
        "            memoize=False,\n",
        "            n_topics_target=n_topics_target,\n",
        "            n_bins=n_topics_target,\n",
        "            metric='euclidean', \n",
        "            n_neighbors=12)\n",
        "pr.disable()\n",
        "stats = Stats(pr)\n",
        "stats.sort_stats('tottime').print_stats(20)\n",
        "\n",
        "with open('ctu13_umap_cucat.txt', 'w') as stream:\n",
        "    stats = Stats(pr,stream=stream)\n",
        "    stats.sort_stats('tottime').print_stats(20)\n"
      ]
    },
    {
      "cell_type": "code",
      "execution_count": null,
      "id": "1b0f3bd8-6545-4ac4-b325-d8a695fdd97e",
      "metadata": {
        "tags": [],
        "colab": {
          "base_uri": "https://localhost:8080/"
        },
        "id": "1b0f3bd8-6545-4ac4-b325-d8a695fdd97e",
        "outputId": "f9b0aec9-3c3f-4e05-b46d-fb96dad3b9e2"
      },
      "outputs": [
        {
          "output_type": "stream",
          "name": "stdout",
          "text": [
            "         15716281 function calls (15573737 primitive calls) in 68.222 seconds\n",
            "\n",
            "   Ordered by: internal time\n",
            "   List reduced from 1950 to 20 due to restriction <20>\n",
            "\n",
            "   ncalls  tottime  percall  cumtime  percall filename:lineno(function)\n",
            "      137    9.182    0.067    9.182    0.067 {method 'argsort' of 'numpy.ndarray' objects}\n",
            "     1389    6.867    0.005   23.653    0.017 /usr/local/lib/python3.8/dist-packages/dirty_cat/_gap_encoder.py:1003(_multiplicative_update_h)\n",
            "1699910/1642103    5.898    0.000   20.008    0.000 {built-in method numpy.core._multiarray_umath.implement_array_function}\n",
            "        3    5.209    1.736    5.209    1.736 /usr/local/lib/python3.8/dist-packages/numpy/ma/core.py:3211(__getitem__)\n",
            "        9    4.484    0.498    4.484    0.498 /usr/local/lib/python3.8/dist-packages/numpy/lib/arraysetops.py:519(in1d)\n",
            "    13375    3.468    0.000    3.468    0.000 {method 'take' of 'numpy.ndarray' objects}\n",
            "    90921    2.257    0.000    6.908    0.000 /usr/local/lib/python3.8/dist-packages/scipy/sparse/compressed.py:136(check_format)\n",
            "   186642    1.958    0.000    4.530    0.000 /usr/local/lib/python3.8/dist-packages/scipy/sparse/sputils.py:131(get_index_dtype)\n",
            "   279801    1.879    0.000    1.898    0.000 {built-in method numpy.array}\n",
            "  1075174    1.621    0.000    6.421    0.000 <__array_function__ internals>:177(dot)\n",
            "     1170    1.462    0.001    5.035    0.004 /usr/local/lib/python3.8/dist-packages/dirty_cat/_gap_encoder.py:971(_multiplicative_update_w)\n",
            "        1    1.453    1.453    1.454    1.454 /usr/local/lib/python3.8/dist-packages/numpy/ma/core.py:3337(__setitem__)\n",
            "90921/90864    1.242    0.000   12.575    0.000 /usr/local/lib/python3.8/dist-packages/scipy/sparse/compressed.py:27(__init__)\n",
            "    13182    1.149    0.000    3.636    0.000 /usr/local/lib/python3.8/dist-packages/scipy/stats/_distn_infrastructure.py:2096(ppf)\n",
            "    90921    1.089    0.000    2.150    0.000 /usr/local/lib/python3.8/dist-packages/scipy/sparse/compressed.py:1156(prune)\n",
            "   373304    0.866    0.000    0.866    0.000 /usr/local/lib/python3.8/dist-packages/numpy/core/getlimits.py:647(__init__)\n",
            "        1    0.866    0.866    1.303    1.303 /usr/local/lib/python3.8/dist-packages/cuml/internals/api_decorators.py:397(inner_with_setters)\n",
            "    91822    0.805    0.000    0.805    0.000 {method 'reduce' of 'numpy.ufunc' objects}\n",
            "     4394    0.770    0.000    5.763    0.001 /usr/local/lib/python3.8/dist-packages/sklearn/preprocessing/_data.py:2608(_transform_col)\n",
            "     8788    0.744    0.000    0.744    0.000 {built-in method numpy.core._multiarray_umath.interp}\n",
            "\n",
            "\n"
          ]
        }
      ],
      "source": [
        "# lets umap the data\n",
        "g = graphistry.edges(edf, src, dst)\n",
        "pr = cProfile.Profile()\n",
        "pr.enable()\n",
        "g3b = g.umap(kind='edges', \n",
        "            X=good_cols_with_edges, \n",
        "            y = ['bot'], \n",
        "            use_scaler='quantile',\n",
        "            use_scaler_target=None,\n",
        "            cardinality_threshold=20,\n",
        "            cardinality_threshold_target=2, \n",
        "            n_topics=n_topics,\n",
        "            feature_engine='dirty_cat',\n",
        "            engine='cuml',\n",
        "            memoize=False,\n",
        "            n_topics_target=n_topics_target,\n",
        "            n_bins=n_topics_target,\n",
        "            metric='euclidean', \n",
        "            n_neighbors=12)\n",
        "pr.disable()\n",
        "stats = Stats(pr)\n",
        "stats.sort_stats('tottime').print_stats(20)\n",
        "\n",
        "with open('ctu13_umap_dirtycat.txt', 'w') as stream:\n",
        "    stats = Stats(pr,stream=stream)\n",
        "    stats.sort_stats('tottime').print_stats(20)\n"
      ]
    },
    {
      "cell_type": "markdown",
      "id": "6657b008-5094-42fd-96a8-177edf7e5ebd",
      "metadata": {
        "jp-MarkdownHeadingCollapsed": true,
        "tags": [],
        "id": "6657b008-5094-42fd-96a8-177edf7e5ebd"
      },
      "source": [
        "## 20newsgroups"
      ]
    },
    {
      "cell_type": "code",
      "execution_count": null,
      "id": "625c5db9-bd1e-40df-9cce-604a675de2aa",
      "metadata": {
        "id": "625c5db9-bd1e-40df-9cce-604a675de2aa"
      },
      "outputs": [],
      "source": [
        "from sklearn.datasets import fetch_20newsgroups\n",
        "# newsgroups = fetch_20newsgroups()#categories=categories)\n",
        "n_samples = 1000\n",
        "# n_features = 1000\n",
        "# n_components = 10\n",
        "# n_top_words = 20\n",
        "# batch_size = 128\n",
        "# init = \"nndsvda\"\n",
        "\n",
        "news, _ = fetch_20newsgroups(\n",
        "    shuffle=True,\n",
        "    random_state=1,\n",
        "    remove=(\"headers\", \"footers\", \"quotes\"),\n",
        "    return_X_y=True,\n",
        ")\n",
        "\n",
        "news = news[:n_samples]\n",
        "news=pd.DataFrame(news)"
      ]
    },
    {
      "cell_type": "code",
      "execution_count": null,
      "id": "9683c33e-aa71-47a2-87f2-16b69d482a85",
      "metadata": {
        "id": "9683c33e-aa71-47a2-87f2-16b69d482a85"
      },
      "outputs": [],
      "source": [
        "g = graphistry.nodes(news)\n",
        "pr = cProfile.Profile()\n",
        "pr.enable()\n",
        "\n",
        "\n",
        "# g2 = g.featurize(feature_engine='dirty_cat',memoize=False)\n",
        "g4a = g.umap(engine='cuml',feature_engine='cu_cat',memoize=False)\n",
        "\n",
        "pr.disable()\n",
        "stats = Stats(pr)\n",
        "stats.sort_stats('tottime').print_stats(20)\n",
        "\n",
        "with open('20news_umap_cucat.txt', 'w') as stream:\n",
        "    stats = Stats(pr,stream=stream)\n",
        "    stats.sort_stats('tottime').print_stats(20)"
      ]
    },
    {
      "cell_type": "code",
      "execution_count": null,
      "id": "b88c5fba-32d3-4140-9a9e-8fd6a652f07c",
      "metadata": {
        "id": "b88c5fba-32d3-4140-9a9e-8fd6a652f07c"
      },
      "outputs": [],
      "source": [
        "g = graphistry.nodes(news)\n",
        "pr = cProfile.Profile()\n",
        "pr.enable()\n",
        "\n",
        "\n",
        "# g2 = g.featurize(feature_engine='dirty_cat',memoize=False)\n",
        "g4b = g.umap(engine='cuml',feature_engine='dirty_cat',memoize=False)\n",
        "\n",
        "pr.disable()\n",
        "stats = Stats(pr)\n",
        "stats.sort_stats('tottime').print_stats(20)\n",
        "\n",
        "with open('20news_umap_dirtycat.txt', 'w') as stream:\n",
        "    stats = Stats(pr,stream=stream)\n",
        "    stats.sort_stats('tottime').print_stats(20)"
      ]
    },
    {
      "cell_type": "markdown",
      "id": "f2eafa7a-9b51-492a-ab0e-ed7ec89a2a6f",
      "metadata": {
        "tags": [],
        "id": "f2eafa7a-9b51-492a-ab0e-ed7ec89a2a6f"
      },
      "source": [
        "## winlogs"
      ]
    },
    {
      "cell_type": "markdown",
      "source": [
        "### this example finds the middle ground (1e9 > samples * features > 2e9) where cpu is faster"
      ],
      "metadata": {
        "id": "4aGUBjbas29m"
      },
      "id": "4aGUBjbas29m"
    },
    {
      "cell_type": "code",
      "execution_count": null,
      "id": "80d63f55-ebfc-4963-813e-ed96f4f7799e",
      "metadata": {
        "tags": [],
        "id": "80d63f55-ebfc-4963-813e-ed96f4f7799e"
      },
      "outputs": [],
      "source": [
        "winlogs=pd.read_parquet('../part.88 (1).parquet')\n",
        "winlogs=winlogs.sample(50000,replace=False).iloc[:,:10]"
      ]
    },
    {
      "cell_type": "code",
      "execution_count": null,
      "id": "cb4118a6-f1fe-4893-a767-c45ee96633a8",
      "metadata": {
        "tags": [],
        "id": "cb4118a6-f1fe-4893-a767-c45ee96633a8"
      },
      "outputs": [],
      "source": [
        "# import cupy as cp\n",
        "# del g,g2,g3\n",
        "# cp._default_memory_pool.free_all_blocks()"
      ]
    },
    {
      "cell_type": "code",
      "execution_count": null,
      "id": "ea9e2fb1-fe96-4b4a-bd5e-09184bd37426",
      "metadata": {
        "tags": [],
        "id": "ea9e2fb1-fe96-4b4a-bd5e-09184bd37426"
      },
      "outputs": [],
      "source": [
        "g = graphistry.nodes(winlogs)\n",
        "pr = cProfile.Profile()\n",
        "pr.enable()\n",
        "\n",
        "g5a = g.featurize(feature_engine='cu_cat',memoize=False)\n",
        "# g5aa = g.umap(engine='cuml',feature_engine='cuCat',memoize=False)\n",
        "\n",
        "pr.disable()\n",
        "stats = Stats(pr)\n",
        "stats.sort_stats('tottime').print_stats(20)\n",
        "\n",
        "with open('winlogs_featurize_cucat_20k.txt', 'w') as stream:\n",
        "    stats = Stats(pr,stream=stream)\n",
        "    stats.sort_stats('tottime').print_stats(20)"
      ]
    },
    {
      "cell_type": "code",
      "execution_count": null,
      "id": "10526794-559b-407d-865a-84fd94e560e5",
      "metadata": {
        "tags": [],
        "id": "10526794-559b-407d-865a-84fd94e560e5"
      },
      "outputs": [],
      "source": [
        "g = graphistry.nodes(winlogs)\n",
        "pr = cProfile.Profile()\n",
        "pr.enable()\n",
        "\n",
        "g5b = g.featurize(feature_engine='dirty_cat',memoize=False)\n",
        "# g5bb = g.umap(engine='cuml',feature_engine='dirty_cat',memoize=False)\n",
        "\n",
        "pr.disable()\n",
        "stats = Stats(pr)\n",
        "stats.sort_stats('tottime').print_stats(20)\n",
        "\n",
        "with open('winlogs_featurize_dirtycat_20k.txt', 'w') as stream:\n",
        "    stats = Stats(pr,stream=stream)\n",
        "    stats.sort_stats('tottime').print_stats(20)"
      ]
    },
    {
      "cell_type": "code",
      "source": [
        "### stopppp"
      ],
      "metadata": {
        "id": "wOWViZVcsw1r"
      },
      "id": "wOWViZVcsw1r",
      "execution_count": null,
      "outputs": []
    },
    {
      "cell_type": "markdown",
      "source": [
        "### this large dataset uses same dirty_cat loop just passing to gpu\n",
        "\n",
        "*   smaller examples process everything at once on gpu for speedup\n",
        "\n"
      ],
      "metadata": {
        "id": "NIXSjjC_s5Xw"
      },
      "id": "NIXSjjC_s5Xw"
    },
    {
      "cell_type": "code",
      "execution_count": null,
      "id": "70f2555c-1313-4583-9700-0e931b8de278",
      "metadata": {
        "id": "70f2555c-1313-4583-9700-0e931b8de278"
      },
      "outputs": [],
      "source": [
        "winlogs=pd.read_parquet('../part.88 (1).parquet') #### run on EKS (>time limit on colab)\n",
        "winlogs=winlogs.sample(100000,replace=False).iloc[:,:10]"
      ]
    },
    {
      "cell_type": "code",
      "execution_count": null,
      "id": "48a12f61-c421-4e7d-860d-b2a79953ba48",
      "metadata": {
        "id": "48a12f61-c421-4e7d-860d-b2a79953ba48",
        "outputId": "00afaddf-4fbe-46d8-a06e-3bf30009a9d6"
      },
      "outputs": [
        {
          "name": "stdout",
          "output_type": "stream",
          "text": [
            "         126150727 function calls (124547064 primitive calls) in 1731.649 seconds\n",
            "\n",
            "   Ordered by: internal time\n",
            "   List reduced from 1590 to 20 due to restriction <20>\n",
            "\n",
            "   ncalls  tottime  percall  cumtime  percall filename:lineno(function)\n",
            "     1328  728.858    0.549 1282.678    0.966 /notebooks/cuCat/cuCat/_gap_encoder.py:935(_multiplicative_update_h)\n",
            "       21  348.883   16.613  348.902   16.614 /opt/conda/envs/rapids/lib/python3.8/site-packages/numpy/lib/arraysetops.py:519(in1d)\n",
            "  7424650  293.035    0.000  293.311    0.000 {method 'dot' of 'cupy._core.core.ndarray' objects}\n",
            "13700193/13698616   81.387    0.000  739.918    0.000 {built-in method numpy.core._multiarray_umath.implement_array_function}\n",
            "   170995   25.538    0.000   30.131    0.000 /opt/conda/envs/rapids/lib/python3.8/site-packages/cupyx/scipy/sparse/_index.py:43(_get_csr_submatrix_major_axis)\n",
            "     1888   25.283    0.013   25.322    0.013 /opt/conda/envs/rapids/lib/python3.8/site-packages/cupyx/scipy/sparse/compressed.py:649(__get_has_canonical_format)\n",
            "  7424650   19.641    0.000  383.511    0.000 <__array_function__ internals>:2(dot)\n",
            "  5742894   16.849    0.000   47.210    0.000 <__array_function__ internals>:2(min_scalar_type)\n",
            "   513723   14.443    0.000   18.482    0.000 {method 'copy' of 'cupy._core.core.ndarray' objects}\n",
            "  7424650   13.721    0.000  307.032    0.000 /opt/conda/envs/rapids/lib/python3.8/site-packages/cupy/linalg/_product.py:45(dot)\n",
            "      287   12.834    0.045   12.834    0.045 {built-in method scipy.sparse._sparsetools.csc_tocsr}\n",
            "13091385/11491313    9.048    0.000   15.531    0.000 {built-in method builtins.isinstance}\n",
            "   342746    8.567    0.000   20.704    0.000 /opt/conda/envs/rapids/lib/python3.8/site-packages/cupyx/scipy/sparse/compressed.py:195(__init__)\n",
            "  2201003    7.561    0.000    7.561    0.000 /opt/conda/envs/rapids/lib/python3.8/site-packages/numpy/core/_internal.py:250(__init__)\n",
            "       46    6.771    0.147   25.932    0.564 /opt/conda/envs/rapids/lib/python3.8/site-packages/sklearn/feature_extraction/text.py:1096(_count_vocab)\n",
            "   360127    6.386    0.000   10.931    0.000 /opt/conda/envs/rapids/lib/python3.8/site-packages/sklearn/feature_extraction/text.py:253(_char_ngrams)\n",
            "  7424650    5.341    0.000    5.341    0.000 /opt/conda/envs/rapids/lib/python3.8/site-packages/numpy/core/multiarray.py:736(dot)\n",
            "  5742894    4.313    0.000    4.313    0.000 /opt/conda/envs/rapids/lib/python3.8/site-packages/numpy/core/multiarray.py:613(min_scalar_type)\n",
            "  2199735    4.222    0.000    6.524    0.000 /opt/conda/envs/rapids/lib/python3.8/site-packages/cupy/_core/syncdetect.py:32(_declare_synchronize)\n",
            "  8680734    4.016    0.000    4.016    0.000 {method 'append' of 'list' objects}\n",
            "\n",
            "\n"
          ]
        }
      ],
      "source": [
        "g = graphistry.nodes(winlogs)\n",
        "pr = cProfile.Profile()\n",
        "pr.enable()\n",
        "\n",
        "g2 = g.featurize(feature_engine='cu_cat',memoize=False)\n",
        "# g3 = g.umap(engine='cuml',feature_engine='cuCat',memoize=False)\n",
        "\n",
        "pr.disable()\n",
        "stats = Stats(pr)\n",
        "stats.sort_stats('tottime').print_stats(20)\n",
        "\n",
        "with open('winlogs_featurize_cucat_100k.txt', 'w') as stream:\n",
        "    stats = Stats(pr,stream=stream)\n",
        "    stats.sort_stats('tottime').print_stats(20)"
      ]
    },
    {
      "cell_type": "code",
      "execution_count": null,
      "id": "68a996a4-dfe8-4025-bf17-ac5eb1d2a4f1",
      "metadata": {
        "id": "68a996a4-dfe8-4025-bf17-ac5eb1d2a4f1",
        "outputId": "1d22d20a-20f5-4e8f-98ac-f74e1f1b8327"
      },
      "outputs": [
        {
          "name": "stdout",
          "output_type": "stream",
          "text": [
            "         229334878 function calls (227731084 primitive calls) in 4362.954 seconds\n",
            "\n",
            "   Ordered by: internal time\n",
            "   List reduced from 1382 to 20 due to restriction <20>\n",
            "\n",
            "   ncalls  tottime  percall  cumtime  percall filename:lineno(function)\n",
            "26444345/26442694 2848.058    0.000 3196.088    0.000 {built-in method numpy.core._multiarray_umath.implement_array_function}\n",
            "    27370  482.535    0.018 3428.776    0.125 /notebooks/dirty_cat/dirty_cat/_gap_encoder.py:953(_multiplicative_update_w)\n",
            "       21  338.738   16.130  338.757   16.131 /opt/conda/envs/rapids/lib/python3.8/site-packages/numpy/lib/arraysetops.py:519(in1d)\n",
            "    29380  157.298    0.005  488.620    0.017 /notebooks/dirty_cat/dirty_cat/_gap_encoder.py:985(_multiplicative_update_h)\n",
            "    27370   62.879    0.002   80.106    0.003 /notebooks/dirty_cat/dirty_cat/_gap_encoder.py:943(_rescale_W)\n",
            " 20130688   37.406    0.000 2881.503    0.000 <__array_function__ internals>:2(dot)\n",
            "  1492801   36.721    0.000  126.308    0.000 /opt/conda/envs/rapids/lib/python3.8/site-packages/scipy/sparse/compressed.py:135(check_format)\n",
            "   112448   34.304    0.000   34.304    0.000 {built-in method numpy.zeros}\n",
            "  3095656   31.463    0.000   86.635    0.000 /opt/conda/envs/rapids/lib/python3.8/site-packages/scipy/sparse/sputils.py:119(get_index_dtype)\n",
            "   386031   21.406    0.000   21.406    0.000 {method 'reduce' of 'numpy.ufunc' objects}\n",
            "1492801/1492514   21.025    0.000  253.333    0.000 /opt/conda/envs/rapids/lib/python3.8/site-packages/scipy/sparse/compressed.py:27(__init__)\n",
            "  1492801   16.001    0.000   37.006    0.000 /opt/conda/envs/rapids/lib/python3.8/site-packages/scipy/sparse/compressed.py:1145(prune)\n",
            "  6191358   15.732    0.000   15.732    0.000 /opt/conda/envs/rapids/lib/python3.8/site-packages/numpy/core/getlimits.py:514(__init__)\n",
            "24401588/24401233   12.894    0.000   12.894    0.000 {built-in method builtins.len}\n",
            "      287   12.483    0.043   12.483    0.043 {built-in method scipy.sparse._sparsetools.csc_tocsr}\n",
            "  1547541   11.982    0.000   22.081    0.000 /opt/conda/envs/rapids/lib/python3.8/site-packages/scipy/sparse/sputils.py:265(check_shape)\n",
            "  5973511   11.616    0.000   27.123    0.000 <__array_function__ internals>:2(can_cast)\n",
            " 20130688   10.516    0.000   10.516    0.000 /opt/conda/envs/rapids/lib/python3.8/site-packages/numpy/core/multiarray.py:736(dot)\n",
            "  7176346    9.760    0.000   21.036    0.000 /opt/conda/envs/rapids/lib/python3.8/site-packages/scipy/sparse/base.py:238(nnz)\n",
            "  1149540    9.687    0.000    9.687    0.000 {built-in method scipy.sparse._sparsetools.coo_matvec}\n",
            "\n",
            "\n"
          ]
        }
      ],
      "source": [
        "g = graphistry.nodes(winlogs)\n",
        "pr = cProfile.Profile()\n",
        "pr.enable()\n",
        "\n",
        "g2a = g.featurize(feature_engine='dirty_cat')#,memoize=False)\n",
        "# g3 = g.umap(engine='cuml',feature_engine='dirty_cat',memoize=False)\n",
        "\n",
        "pr.disable()\n",
        "stats = Stats(pr)\n",
        "stats.sort_stats('tottime').print_stats(20)\n",
        "\n",
        "with open('winlogs_featurize_dirtycat_100k.txt', 'w') as stream:\n",
        "    stats = Stats(pr,stream=stream)\n",
        "    stats.sort_stats('tottime').print_stats(20)"
      ]
    }
  ],
  "metadata": {
    "kernelspec": {
      "display_name": "Python 3 (ipykernel)",
      "language": "python",
      "name": "python3"
    },
    "language_info": {
      "codemirror_mode": {
        "name": "ipython",
        "version": 3
      },
      "file_extension": ".py",
      "mimetype": "text/x-python",
      "name": "python",
      "nbconvert_exporter": "python",
      "pygments_lexer": "ipython3",
      "version": "3.8.13"
    },
    "colab": {
      "provenance": [],
      "toc_visible": true,
      "include_colab_link": true
    },
    "accelerator": "GPU",
    "gpuClass": "standard"
  },
  "nbformat": 4,
  "nbformat_minor": 5
}
