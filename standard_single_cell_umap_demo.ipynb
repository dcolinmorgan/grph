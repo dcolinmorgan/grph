{
  "cells": [
    {
      "cell_type": "markdown",
      "metadata": {
        "id": "view-in-github",
        "colab_type": "text"
      },
      "source": [
        "<a href=\"https://colab.research.google.com/github/dcolinmorgan/grph/blob/main/standard_single_cell_umap_demo.ipynb\" target=\"_parent\"><img src=\"https://colab.research.google.com/assets/colab-badge.svg\" alt=\"Open In Colab\"/></a>"
      ]
    },
    {
      "cell_type": "markdown",
      "id": "0f3a459c-fa15-445b-8d65-cb701c063ac9",
      "metadata": {
        "id": "0f3a459c-fa15-445b-8d65-cb701c063ac9"
      },
      "source": [
        "### [Computational challenges of cell cycle analysis using single cell transcriptomics](https://arxiv.org/pdf/2208.05229.pdf)\n",
        "\n",
        "#### [data from stanford cytotrace](https://cytotrace.stanford.edu/#shiny-tab-dataset_downloadhttps://cytotrace.stanford.edu/#shiny-tab-dataset_download)\n",
        "#### [and here](https://www.kaggle.com/code/dcolin/scanpy-scrnaseq/datahttps://www.kaggle.com/code/dcolin/scanpy-scrnaseq/data)"
      ]
    },
    {
      "cell_type": "markdown",
      "source": [
        "## [GPU version here](https://colab.research.google.com/drive/1Vr4CbnUS6Gj0wZi6c9MEKiSvvOMz5kiQ#scrollTo=cc6f3beb-13c9-4d11-b8b2-35676f711f50) for benchmark comparison"
      ],
      "metadata": {
        "id": "eOonkNE3GSeo"
      },
      "id": "eOonkNE3GSeo"
    },
    {
      "cell_type": "code",
      "execution_count": null,
      "id": "99b24fdc-eb28-447f-9323-61767ae4d1a3",
      "metadata": {
        "tags": [],
        "id": "99b24fdc-eb28-447f-9323-61767ae4d1a3"
      },
      "outputs": [],
      "source": [
        "# !pip install squarify\n",
        "!pip install scanpy\n",
        "# !git clone https://github.com/dcolinmorgan/cuCat.git\n",
        "# !git clone https://github.com/graphistry/pygraphistry.git\n",
        "# !git clone https://github.com/dirty-cat/dirty_cat.git\n",
        "\n",
        "import scanpy as sc\n",
        "import anndata"
      ]
    },
    {
      "cell_type": "code",
      "source": [
        "#download 5 single cell datasets\n",
        "%%bash\n",
        "wget https://www.dropbox.com/s/xza477kxj7vgdlr/GSE67123_6.h5ad.zip\n",
        "wget https://www.dropbox.com/s/9r2f3bz4jss9vvr/GSE74767_2.h5ad.zip\n",
        "wget https://www.dropbox.com/s/thhiv9va2415x6d/GSE97391_27.h5ad.zip\n",
        "wget https://www.dropbox.com/s/sl76p7hydt40wnv/GSE98664_20.h5ad.zip\n",
        "wget https://www.dropbox.com/s/i7lyxxa9td2gpmv/GSE97391_22.h5ad.zip\n",
        "unzip GSE67123_6.h5ad.zip\n",
        "unzip GSE74767_2.h5ad.zip\n",
        "unzip GSE97391_27.h5ad.zip\n",
        "unzip GSE98664_20.h5ad.zip\n",
        "unzip GSE97391_22.h5ad.zip"
      ],
      "metadata": {
        "id": "EJqxQGhpHhWb"
      },
      "id": "EJqxQGhpHhWb",
      "execution_count": null,
      "outputs": []
    },
    {
      "cell_type": "code",
      "source": [
        "!mkdir single_cell\n",
        "!mv *.h5ad single_cell"
      ],
      "metadata": {
        "id": "tKbH3qvlrBWq"
      },
      "id": "tKbH3qvlrBWq",
      "execution_count": null,
      "outputs": []
    },
    {
      "cell_type": "code",
      "execution_count": null,
      "id": "33ae99ce-e386-4e97-b5a0-99b86fb6f68a",
      "metadata": {
        "tags": [],
        "id": "33ae99ce-e386-4e97-b5a0-99b86fb6f68a"
      },
      "outputs": [],
      "source": [
        "import os, time\n",
        "from collections import Counter\n",
        "import cProfile\n",
        "import pandas as pd\n",
        "import numpy as np\n",
        "import seaborn as sns\n",
        "import matplotlib.pyplot as plt\n",
        "from pstats import Stats\n",
        "import warnings\n",
        "warnings.filterwarnings('ignore')\n",
        "pd.set_option('display.max_colwidth', 200)\n"
      ]
    },
    {
      "cell_type": "markdown",
      "source": [
        "### dataset descriptions (last one is largest)"
      ],
      "metadata": {
        "id": "pxPONPkssNIv"
      },
      "id": "pxPONPkssNIv"
    },
    {
      "cell_type": "code",
      "execution_count": null,
      "id": "ff46a8c8-5882-41a6-83ce-eb8c00c2fc70",
      "metadata": {
        "tags": [],
        "colab": {
          "base_uri": "https://localhost:8080/"
        },
        "id": "ff46a8c8-5882-41a6-83ce-eb8c00c2fc70",
        "outputId": "d2e7cacb-b852-4f47-9bb5-82408603c4b7"
      },
      "outputs": [
        {
          "output_type": "stream",
          "name": "stdout",
          "text": [
            "['Direct in vitro neuron (inDrop)' 'Validation' '2684' 'nan' 'nan' '2366'\n",
            " '28205' '4' '4' 'UMI' 'Mouse' '1' 'Brain' 'inDrop' 'Phenotypes'\n",
            " 'in vitro' '28990928' '20171009' 'GSE97391' 'Elife'\n",
            " 'Cell types involved in neuronal differentiation as highlighted with dashed boundaries in Figure 2 of the original study were assigned ranks based on known differentiation status. ']\n",
            "\n",
            "['Embryonic HSCs (Tang et al.)' 'Validation' '143' 'nan' 'nan' '143'\n",
            " '24028' '5' '5' 'TPM/FPKM' 'Mouse' '1' 'Embryo' 'Tang et al.'\n",
            " 'Timepoints' 'in vivo' '27225119' '20160526' 'GSE67123' 'Nature' 'nan']\n",
            "\n",
            "['Standard in vitro neuron (inDrop)' 'Validation' '2996' 'nan' 'nan'\n",
            " '2411' '28205' '7' '7' 'UMI' 'Mouse' '1' 'Brain' 'inDrop' 'Phenotypes'\n",
            " 'in vitro' '28990928' '20171009' 'GSE97391' 'Elife'\n",
            " 'Cell types involved in neuronal differentiation as highlighted with dashed boundaries in Figure 2 of the original study were assigned ranks based on known differentiation status. ']\n",
            "\n",
            "['Blastocyst timepoints (SC3-seq)' 'Validation' '421' 'nan' 'nan' '421'\n",
            " '28796' '13' '13' 'TPM/FPKM' 'Macaque' '1' 'Embryo' 'SC3-seq'\n",
            " 'Timepoints' 'in vivo' '27556940' '20160901' 'GSE74767' 'Nature' 'nan']\n",
            "\n",
            "['mESC in vitro (RamDA-seq)' 'Validation' '456' 'nan' 'nan' '456' '47515'\n",
            " '5' '5' 'TPM/FPKM' 'Mouse' '1' 'Embryo' 'RamDA-seq' 'Timepoints'\n",
            " 'in vitro' '29434199' '20180212' 'GSE98664' 'Nature Communications' 'nan']\n",
            "\n"
          ]
        }
      ],
      "source": [
        "\n",
        "list_files = []\n",
        "for dirname, _, filenames in os.walk('single_cell'):\n",
        "    for filename in filenames:\n",
        "        #print(os.path.join(dirname, filename))\n",
        "        list_files.append(os.path.join(dirname, filename))\n",
        "\n",
        "for fn in list_files:\n",
        "    adata = sc.read(fn) # sc.read_h5ad\n",
        "    print( adata.uns['info'] )\n",
        "    print()"
      ]
    },
    {
      "cell_type": "code",
      "execution_count": null,
      "id": "f3e8c134-43d3-44f1-910f-5efef93ee402",
      "metadata": {
        "id": "f3e8c134-43d3-44f1-910f-5efef93ee402"
      },
      "outputs": [],
      "source": [
        "import time, umap\n",
        "t0 = time.time()\n",
        "fn='single_cell/GSE67123_6.h5ad'\n",
        "adata1 = sc.read(fn) # sc.read_h5ad\n",
        "str_data_inf_1 = fn.split('/')[1].split('.')[0] + ' ' + str(adata1.X.shape)+'\\n' + adata1.uns['info'][0]\n",
        "\n",
        "reducer = umap.UMAP()\n",
        "r1 = reducer.fit_transform(adata1.X)\n",
        "\n",
        "fig = plt.figure(figsize = (20,10)); c = 0\n",
        "plt.suptitle('UMAP from all genes ' +str_data_inf_1 + ' Shape: ' + str(adata1.X.shape) , fontsize = 20  )\n",
        "sns.scatterplot(x = r1[:,0], y = r1[:,1]  , hue = adata1.uns['Phenotype'])\n",
        "plt.show()\n",
        "\n",
        "fn='single_cell/GSE74767_2.h5ad'\n",
        "adata2 = sc.read(fn) # sc.read_h5ad\n",
        "str_data_inf_2 = fn.split('/')[1].split('.')[0] + ' ' + str(adata2.X.shape)+'\\n' + adata2.uns['info'][0]\n",
        "\n",
        "reducer = umap.UMAP(n_components=2)\n",
        "r2 = reducer.fit_transform(adata2.X)\n",
        "\n",
        "fig = plt.figure(figsize = (20,10)); c = 0\n",
        "plt.suptitle('UMAP from all genes ' +str_data_inf_2 + ' Shape: ' + str(adata2.X.shape) , fontsize = 20  )\n",
        "sns.scatterplot(x = r2[:,0], y = r2[:,1]  , hue = adata2.uns['Phenotype'])\n",
        "plt.show()\n",
        "\n",
        "fn='single_cell/GSE97391_27.h5ad'\n",
        "adata3 = sc.read(fn) # sc.read_h5ad\n",
        "str_data_inf_3 = fn.split('/')[1].split('.')[0] + ' ' + str(adata3.X.shape)+'\\n' + adata3.uns['info'][0]\n",
        "\n",
        "reducer = umap.UMAP(n_components=2)\n",
        "r3 = reducer.fit_transform(adata3.X)\n",
        "\n",
        "fig = plt.figure(figsize = (20,10)); c = 0\n",
        "plt.suptitle('UMAP from all genes ' +str_data_inf_3 + ' Shape: ' + str(adata3.X.shape) , fontsize = 20  )\n",
        "sns.scatterplot(x = r3[:,0], y = r3[:,1] )# , hue = adata3.uns['Phenotype'])\n",
        "plt.show()\n",
        "\n",
        "fn='single_cell/GSE98664_20.h5ad'\n",
        "adata4 = sc.read(fn) # sc.read_h5ad\n",
        "str_data_inf_4 = fn.split('/')[1].split('.')[0] + ' ' + str(adata4.X.shape)+'\\n' + adata4.uns['info'][0]\n",
        "\n",
        "reducer = umap.UMAP(n_components=2)\n",
        "r4 = reducer.fit_transform(adata4.X)\n",
        "\n",
        "fig = plt.figure(figsize = (20,10)); c = 0\n",
        "plt.suptitle('UMAP from all genes ' +str_data_inf_4 + ' Shape: ' + str(adata4.X.shape) , fontsize = 20  )\n",
        "sns.scatterplot(x = r4[:,0], y = r4[:,1]  , hue = adata4.uns['Phenotype'])\n",
        "plt.show()\n",
        "\n",
        "fn='single_cell/GSE97391_22.h5ad'\n",
        "adata5 = sc.read(fn) # sc.read_h5ad\n",
        "str_data_inf_5 = fn.split('/')[1].split('.')[0] + ' ' + str(adata5.X.shape)+'\\n' + adata5.uns['info'][0]\n",
        "\n",
        "reducer = umap.UMAP(n_components=2)\n",
        "r5 = reducer.fit_transform(adata5.X)\n",
        "\n",
        "fig = plt.figure(figsize = (20,10)); c = 0\n",
        "plt.suptitle('UMAP from all genes ' +str_data_inf_5 + ' Shape: ' + str(adata5.X.shape) , fontsize = 20  )\n",
        "sns.scatterplot(x = r5[:,0], y = r5[:,1] )#  , hue = adata5.uns['Phenotype'])\n",
        "plt.show()\n",
        "\n",
        "\n",
        "print('Total ', np.round(time.time() - t0,1), 'seconds passed')\n"
      ]
    },
    {
      "cell_type": "code",
      "source": [
        "\n",
        "\n",
        "fig = plt.figure(figsize = (20,10)); c = 0\n",
        "plt.suptitle('UMAP from all genes ' +str_data_inf_5 + ' Shape: ' + str(adata5.X.shape) , fontsize = 20  )\n",
        "sns.scatterplot(x = adata5.uns['X_umap'][:,0], y = adata5.uns['X_umap'][:,1]  , hue = adata5.uns['Phenotype'])\n",
        "plt.show()"
      ],
      "metadata": {
        "id": "yn8Ir_xPxbIW"
      },
      "id": "yn8Ir_xPxbIW",
      "execution_count": null,
      "outputs": []
    },
    {
      "cell_type": "code",
      "source": [
        "\n",
        "\n",
        "fig = plt.figure(figsize = (20,10)); c = 0\n",
        "plt.suptitle('TSNE from all genes ' +str_data_inf_5 + ' Shape: ' + str(adata5.X.shape) , fontsize = 20  )\n",
        "sns.scatterplot(x = adata5.uns['X_tsne'][:,0], y = adata5.uns['X_tsne'][:,1]  , hue = adata5.uns['Phenotype'])\n",
        "plt.show()"
      ],
      "metadata": {
        "id": "16RUCKWcyMFy"
      },
      "id": "16RUCKWcyMFy",
      "execution_count": null,
      "outputs": []
    },
    {
      "cell_type": "code",
      "source": [],
      "metadata": {
        "id": "roHQD8uWyPdY"
      },
      "id": "roHQD8uWyPdY",
      "execution_count": null,
      "outputs": []
    }
  ],
  "metadata": {
    "kernelspec": {
      "display_name": "Python 3 (ipykernel)",
      "language": "python",
      "name": "python3"
    },
    "language_info": {
      "codemirror_mode": {
        "name": "ipython",
        "version": 3
      },
      "file_extension": ".py",
      "mimetype": "text/x-python",
      "name": "python",
      "nbconvert_exporter": "python",
      "pygments_lexer": "ipython3",
      "version": "3.8.13"
    },
    "colab": {
      "provenance": [],
      "include_colab_link": true
    },
    "accelerator": "GPU",
    "gpuClass": "standard"
  },
  "nbformat": 4,
  "nbformat_minor": 5
}