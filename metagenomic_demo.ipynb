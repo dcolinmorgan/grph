{
  "cells": [
    {
      "cell_type": "markdown",
      "metadata": {
        "id": "view-in-github",
        "colab_type": "text"
      },
      "source": [
        "<a href=\"https://colab.research.google.com/github/dcolinmorgan/grph/blob/main/metagenomic_demo.ipynb\" target=\"_parent\"><img src=\"https://colab.research.google.com/assets/colab-badge.svg\" alt=\"Open In Colab\"/></a>"
      ]
    },
    {
      "cell_type": "markdown",
      "source": [
        "# Tutorial: Quick metagenomic analysis using GPU UMAP analysis & visualization"
      ],
      "metadata": {
        "id": "ozrca88hza85"
      }
    },
    {
      "cell_type": "markdown",
      "source": [
        "Using GPU-accelerated UMAP analysis & visualization, metagenomic samples can be compared faster and much more easily explored.\n",
        "\n",
        "*   Task: Analyze metagenomic samples for similarity\n",
        "*   Data: 10 samples\n",
        "*   [data]((https://figshare.scilifelab.se/articles/dataset/Metagenomic_dataset_from_Swedish_urban_lakes/22270225?file=39602290))\n",
        "*   [paper](https://pubmed.ncbi.nlm.nih.gov/15560821/)\n",
        "\n",
        "**Insight/ Result:**\n",
        "\n",
        "over XXx faster for entire ~10000 cell samples (102s vs 18s)\n",
        "Offers more insight when static plot would otherwise fail\n",
        "(See also: CPU baseline)"
      ],
      "metadata": {
        "id": "tLRHg2VEzoYy"
      }
    },
    {
      "cell_type": "markdown",
      "metadata": {
        "id": "PjnS_PCWaClg"
      },
      "source": [
        "# Setup\n",
        "\n",
        "(install cuda packages first)"
      ]
    },
    {
      "cell_type": "code",
      "execution_count": null,
      "metadata": {
        "colab": {
          "background_save": true
        },
        "id": "JTzHVRgEcDUV"
      },
      "outputs": [],
      "source": [
        "!pip install --extra-index-url=https://pypi.nvidia.com cuml-cu11 cudf-cu11 cugraph-cu11 pylibraft_cu11 raft_dask_cu11 dask_cudf_cu11 pylibcugraph_cu11 pylibraft_cu11\n",
        "\n",
        "!pip install biopython\n",
        "\n",
        "!pip install -U --force git+https://github.com/graphistry/pygraphistry.git@cudf\n",
        "!pip install -U git+https://github.com/graphistry/cu-cat.git@DT\n"
      ]
    },
    {
      "cell_type": "markdown",
      "source": [
        "# import /configure\n",
        "\n",
        "get a free api-key at https://www.graphistry.com/\n"
      ],
      "metadata": {
        "id": "HK_8_7UB0mhx"
      }
    },
    {
      "cell_type": "code",
      "source": [
        "import pandas as pd\n",
        "import cuml,cudf\n",
        "print(cuml.__version__)\n",
        "\n",
        "import graphistry\n",
        "\n",
        "graphistry.register(api=3,protocol=\"https\", server=\"hub.graphistry.com\", username='dcolinmorgan', password='fXjJnkE3Gik6BWy') ## key id, secret key\n",
        "\n",
        "# graphistry.register(api=3,protocol=\"https\", server=\"hub.graphistry.com\", username='dcolinmorgan', password='***') ## key id, secret key\n",
        "graphistry.__version__"
      ],
      "metadata": {
        "id": "i42QrQ_ejC4h"
      },
      "execution_count": null,
      "outputs": []
    },
    {
      "cell_type": "code",
      "source": [
        "!nvidia-smi\n"
      ],
      "metadata": {
        "id": "x4Jw57cQ0wiF"
      },
      "execution_count": null,
      "outputs": []
    },
    {
      "cell_type": "markdown",
      "source": [
        "# Data Download & Description"
      ],
      "metadata": {
        "id": "Dd_4UZYz0zGr"
      }
    },
    {
      "cell_type": "code",
      "execution_count": null,
      "metadata": {
        "id": "yHjo7u1OUeqQ"
      },
      "outputs": [],
      "source": [
        "!wget https://figshare.scilifelab.se/ndownloader/files/39602290\n",
        "!unzip 39602290\n",
        "!wget https://figshare.scilifelab.se/ndownloader/files/39602299"
      ]
    },
    {
      "cell_type": "code",
      "execution_count": null,
      "metadata": {
        "id": "T0fFgMnu97T2",
        "colab": {
          "base_uri": "https://localhost:8080/"
        },
        "outputId": "f0baec9d-af75-4caf-df0b-a20bdc2ec979"
      },
      "outputs": [
        {
          "output_type": "stream",
          "name": "stdout",
          "text": [
            ">Sample_101_S75-bin_1-k141_1338904_length_14014_cov_309.3572\n",
            "AATCACGCGTACGCCCGCACCTTGAACCGCTTTGCCGCTGCCCCCACATCATCCTCACGAAAGGTACCTT\n",
            "TTCATGGAAAAAATTATCAAATCCGATGCGGAATGGCGGGCCGTATTGGACCCCGTTCAATATCATGTCC\n",
            "TACGGGAGTCCGGCACTGAACGCGCCTTTGCCGGCGCGCTGACCGATGAAAAGCGCGAAGGCGAATTTCG\n",
            "CTGCGCCGGCTGTGAGACTGCCCTGTTTGCTTCGGACACGAAATTTGACAGCGGTTCGGGTTGGCCAAGC\n",
            "TTTACCGCGCCCGCAGACAATGATGCTGTTGAAGAGCACCGCGATACATCGCACGGCATGGTCCGCATTG\n",
            "AAGTGCGCTGTGCCGCATGTGAGGGGCATTTGGGCCATGTCTTCCCCGATGGGCCTGGACCGACTGGCCT\n",
            "GCGTTACTGCATCAACAGCGCCGCGCTTGCATTCGATCCTGAATAACAAGGCGCTTGTCGGCGGTTACGG\n",
            "GACTGGGTAACACTCGGGCCATGGCACGCGCGCGCAAGATTTCGAAAGAACGTGGCCCAATGGCAACATG\n",
            "GATACTCCGCATGGTCAAAGCGGGCGTCATCGCGGCGTTGCTGGGCGTCATGGTTCTTGGCATTTTTGTC\n"
          ]
        }
      ],
      "source": [
        "!head /content/All_MAGs/Sample_101_S75_bin_1.fa"
      ]
    },
    {
      "cell_type": "markdown",
      "source": [
        "# Read in 10 fasta to compare"
      ],
      "metadata": {
        "id": "9NuS4qjh04i2"
      }
    },
    {
      "cell_type": "code",
      "execution_count": null,
      "metadata": {
        "id": "fjNxESumcdBq"
      },
      "outputs": [],
      "source": [
        "from Bio import SeqIO\n",
        "import glob,os\n",
        "B=pd.DataFrame()\n",
        "for i in glob.glob('/content/All_MAGs/*.fa')[0:9]:\n",
        "    # j=os.path.basename(i)\n",
        "    fasta_sequences = SeqIO.parse(open(i),'fasta')\n",
        "    identifiers = []\n",
        "    sequences = []\n",
        "    for fasta in fasta_sequences:\n",
        "        name, sequence = fasta.id, str(fasta.seq)\n",
        "        identifiers.append(name)\n",
        "        sequences.append(sequence)\n",
        "\n",
        "    A=pd.DataFrame([identifiers,sequences]).T\n",
        "    A.columns=['ID','seq']\n",
        "    A.dropna(inplace=True)\n",
        "    B=B.append(A)\n",
        "    # A['ID']#=A.ID.str.split('-')[0:1]\n",
        "# B['ID']=B['ID'].str.split('-').str[0]+'_'+B['ID'].str.split('-').str[1]#.cat()\n",
        "B['ID']=B.ID.str.split('_length').str[0]\n",
        "B.index=B.ID"
      ]
    },
    {
      "cell_type": "code",
      "source": [
        "B"
      ],
      "metadata": {
        "colab": {
          "base_uri": "https://localhost:8080/",
          "height": 499
        },
        "id": "g2Inpehm2uVf",
        "outputId": "ce5d5ea9-d6cd-41fa-b06e-06accb1e0bc3"
      },
      "execution_count": null,
      "outputs": [
        {
          "output_type": "execute_result",
          "data": {
            "text/plain": [
              "                                                                      ID  \\\n",
              "ID                                                                         \n",
              "Sample_103_S3-bin_62-k141_110434        Sample_103_S3-bin_62-k141_110434   \n",
              "Sample_103_S3-bin_62-k141_311323        Sample_103_S3-bin_62-k141_311323   \n",
              "Sample_103_S3-bin_62-k141_647860        Sample_103_S3-bin_62-k141_647860   \n",
              "Sample_103_S3-bin_62-k141_133789        Sample_103_S3-bin_62-k141_133789   \n",
              "Sample_103_S3-bin_62-k141_167329        Sample_103_S3-bin_62-k141_167329   \n",
              "...                                                                  ...   \n",
              "Sample_111_S82-bin_162-k141_418176    Sample_111_S82-bin_162-k141_418176   \n",
              "Sample_111_S82-bin_162-k141_649044    Sample_111_S82-bin_162-k141_649044   \n",
              "Sample_111_S82-bin_162-k141_289115    Sample_111_S82-bin_162-k141_289115   \n",
              "Sample_111_S82-bin_162-k141_1633793  Sample_111_S82-bin_162-k141_1633793   \n",
              "Sample_111_S82-bin_162-k141_1160112  Sample_111_S82-bin_162-k141_1160112   \n",
              "\n",
              "                                                                                   seq  \n",
              "ID                                                                                      \n",
              "Sample_103_S3-bin_62-k141_110434     CGCTTTGCGCTTGGACCCTCCCTGGGTCAATGTTGTGGCGGTGTCA...  \n",
              "Sample_103_S3-bin_62-k141_311323     CCTTTCAGATGCAGGATATTCCTGCTGAAGACAGCGATACCTACGA...  \n",
              "Sample_103_S3-bin_62-k141_647860     CCCAGCCTGGTTAAAGTGAGTTGCCGTAAATGAAATTCCGAACTTG...  \n",
              "Sample_103_S3-bin_62-k141_133789     GTTTTAAAAAAGCTTATTTAAATCAATGACTTAGGATTCTTCTAGG...  \n",
              "Sample_103_S3-bin_62-k141_167329     AGCAGGGCCTCGCTCTCATCGACTGGCATATCCAAGATGTAACTAT...  \n",
              "...                                                                                ...  \n",
              "Sample_111_S82-bin_162-k141_418176   GTGTTGTTGACCCGGATCGTCGCGCTCGCGACAGGCAGGCTGCTGG...  \n",
              "Sample_111_S82-bin_162-k141_649044   ACTGCCGGGTGCTTGTAGTCGTTCGCGAACACGAGCGCGCTCACCC...  \n",
              "Sample_111_S82-bin_162-k141_289115   ACAGCGCGAACAGGCCCAGGTTGATGCGCTGGATGATCACCATCGA...  \n",
              "Sample_111_S82-bin_162-k141_1633793  GCCTGCACCGGCTCGCGGTCGGCTCGCTCTCCGGGATCGGCGCACC...  \n",
              "Sample_111_S82-bin_162-k141_1160112  ACCGGTGGCCGCGGGCAGTCCGGCGAACCTGTGCGTGATCGACCCG...  \n",
              "\n",
              "[4679 rows x 2 columns]"
            ],
            "text/html": [
              "\n",
              "  <div id=\"df-f93f8685-8d45-481a-a6f7-64e935065752\">\n",
              "    <div class=\"colab-df-container\">\n",
              "      <div>\n",
              "<style scoped>\n",
              "    .dataframe tbody tr th:only-of-type {\n",
              "        vertical-align: middle;\n",
              "    }\n",
              "\n",
              "    .dataframe tbody tr th {\n",
              "        vertical-align: top;\n",
              "    }\n",
              "\n",
              "    .dataframe thead th {\n",
              "        text-align: right;\n",
              "    }\n",
              "</style>\n",
              "<table border=\"1\" class=\"dataframe\">\n",
              "  <thead>\n",
              "    <tr style=\"text-align: right;\">\n",
              "      <th></th>\n",
              "      <th>ID</th>\n",
              "      <th>seq</th>\n",
              "    </tr>\n",
              "    <tr>\n",
              "      <th>ID</th>\n",
              "      <th></th>\n",
              "      <th></th>\n",
              "    </tr>\n",
              "  </thead>\n",
              "  <tbody>\n",
              "    <tr>\n",
              "      <th>Sample_103_S3-bin_62-k141_110434</th>\n",
              "      <td>Sample_103_S3-bin_62-k141_110434</td>\n",
              "      <td>CGCTTTGCGCTTGGACCCTCCCTGGGTCAATGTTGTGGCGGTGTCA...</td>\n",
              "    </tr>\n",
              "    <tr>\n",
              "      <th>Sample_103_S3-bin_62-k141_311323</th>\n",
              "      <td>Sample_103_S3-bin_62-k141_311323</td>\n",
              "      <td>CCTTTCAGATGCAGGATATTCCTGCTGAAGACAGCGATACCTACGA...</td>\n",
              "    </tr>\n",
              "    <tr>\n",
              "      <th>Sample_103_S3-bin_62-k141_647860</th>\n",
              "      <td>Sample_103_S3-bin_62-k141_647860</td>\n",
              "      <td>CCCAGCCTGGTTAAAGTGAGTTGCCGTAAATGAAATTCCGAACTTG...</td>\n",
              "    </tr>\n",
              "    <tr>\n",
              "      <th>Sample_103_S3-bin_62-k141_133789</th>\n",
              "      <td>Sample_103_S3-bin_62-k141_133789</td>\n",
              "      <td>GTTTTAAAAAAGCTTATTTAAATCAATGACTTAGGATTCTTCTAGG...</td>\n",
              "    </tr>\n",
              "    <tr>\n",
              "      <th>Sample_103_S3-bin_62-k141_167329</th>\n",
              "      <td>Sample_103_S3-bin_62-k141_167329</td>\n",
              "      <td>AGCAGGGCCTCGCTCTCATCGACTGGCATATCCAAGATGTAACTAT...</td>\n",
              "    </tr>\n",
              "    <tr>\n",
              "      <th>...</th>\n",
              "      <td>...</td>\n",
              "      <td>...</td>\n",
              "    </tr>\n",
              "    <tr>\n",
              "      <th>Sample_111_S82-bin_162-k141_418176</th>\n",
              "      <td>Sample_111_S82-bin_162-k141_418176</td>\n",
              "      <td>GTGTTGTTGACCCGGATCGTCGCGCTCGCGACAGGCAGGCTGCTGG...</td>\n",
              "    </tr>\n",
              "    <tr>\n",
              "      <th>Sample_111_S82-bin_162-k141_649044</th>\n",
              "      <td>Sample_111_S82-bin_162-k141_649044</td>\n",
              "      <td>ACTGCCGGGTGCTTGTAGTCGTTCGCGAACACGAGCGCGCTCACCC...</td>\n",
              "    </tr>\n",
              "    <tr>\n",
              "      <th>Sample_111_S82-bin_162-k141_289115</th>\n",
              "      <td>Sample_111_S82-bin_162-k141_289115</td>\n",
              "      <td>ACAGCGCGAACAGGCCCAGGTTGATGCGCTGGATGATCACCATCGA...</td>\n",
              "    </tr>\n",
              "    <tr>\n",
              "      <th>Sample_111_S82-bin_162-k141_1633793</th>\n",
              "      <td>Sample_111_S82-bin_162-k141_1633793</td>\n",
              "      <td>GCCTGCACCGGCTCGCGGTCGGCTCGCTCTCCGGGATCGGCGCACC...</td>\n",
              "    </tr>\n",
              "    <tr>\n",
              "      <th>Sample_111_S82-bin_162-k141_1160112</th>\n",
              "      <td>Sample_111_S82-bin_162-k141_1160112</td>\n",
              "      <td>ACCGGTGGCCGCGGGCAGTCCGGCGAACCTGTGCGTGATCGACCCG...</td>\n",
              "    </tr>\n",
              "  </tbody>\n",
              "</table>\n",
              "<p>4679 rows × 2 columns</p>\n",
              "</div>\n",
              "      <button class=\"colab-df-convert\" onclick=\"convertToInteractive('df-f93f8685-8d45-481a-a6f7-64e935065752')\"\n",
              "              title=\"Convert this dataframe to an interactive table.\"\n",
              "              style=\"display:none;\">\n",
              "        \n",
              "  <svg xmlns=\"http://www.w3.org/2000/svg\" height=\"24px\"viewBox=\"0 0 24 24\"\n",
              "       width=\"24px\">\n",
              "    <path d=\"M0 0h24v24H0V0z\" fill=\"none\"/>\n",
              "    <path d=\"M18.56 5.44l.94 2.06.94-2.06 2.06-.94-2.06-.94-.94-2.06-.94 2.06-2.06.94zm-11 1L8.5 8.5l.94-2.06 2.06-.94-2.06-.94L8.5 2.5l-.94 2.06-2.06.94zm10 10l.94 2.06.94-2.06 2.06-.94-2.06-.94-.94-2.06-.94 2.06-2.06.94z\"/><path d=\"M17.41 7.96l-1.37-1.37c-.4-.4-.92-.59-1.43-.59-.52 0-1.04.2-1.43.59L10.3 9.45l-7.72 7.72c-.78.78-.78 2.05 0 2.83L4 21.41c.39.39.9.59 1.41.59.51 0 1.02-.2 1.41-.59l7.78-7.78 2.81-2.81c.8-.78.8-2.07 0-2.86zM5.41 20L4 18.59l7.72-7.72 1.47 1.35L5.41 20z\"/>\n",
              "  </svg>\n",
              "      </button>\n",
              "      \n",
              "  <style>\n",
              "    .colab-df-container {\n",
              "      display:flex;\n",
              "      flex-wrap:wrap;\n",
              "      gap: 12px;\n",
              "    }\n",
              "\n",
              "    .colab-df-convert {\n",
              "      background-color: #E8F0FE;\n",
              "      border: none;\n",
              "      border-radius: 50%;\n",
              "      cursor: pointer;\n",
              "      display: none;\n",
              "      fill: #1967D2;\n",
              "      height: 32px;\n",
              "      padding: 0 0 0 0;\n",
              "      width: 32px;\n",
              "    }\n",
              "\n",
              "    .colab-df-convert:hover {\n",
              "      background-color: #E2EBFA;\n",
              "      box-shadow: 0px 1px 2px rgba(60, 64, 67, 0.3), 0px 1px 3px 1px rgba(60, 64, 67, 0.15);\n",
              "      fill: #174EA6;\n",
              "    }\n",
              "\n",
              "    [theme=dark] .colab-df-convert {\n",
              "      background-color: #3B4455;\n",
              "      fill: #D2E3FC;\n",
              "    }\n",
              "\n",
              "    [theme=dark] .colab-df-convert:hover {\n",
              "      background-color: #434B5C;\n",
              "      box-shadow: 0px 1px 3px 1px rgba(0, 0, 0, 0.15);\n",
              "      filter: drop-shadow(0px 1px 2px rgba(0, 0, 0, 0.3));\n",
              "      fill: #FFFFFF;\n",
              "    }\n",
              "  </style>\n",
              "\n",
              "      <script>\n",
              "        const buttonEl =\n",
              "          document.querySelector('#df-f93f8685-8d45-481a-a6f7-64e935065752 button.colab-df-convert');\n",
              "        buttonEl.style.display =\n",
              "          google.colab.kernel.accessAllowed ? 'block' : 'none';\n",
              "\n",
              "        async function convertToInteractive(key) {\n",
              "          const element = document.querySelector('#df-f93f8685-8d45-481a-a6f7-64e935065752');\n",
              "          const dataTable =\n",
              "            await google.colab.kernel.invokeFunction('convertToInteractive',\n",
              "                                                     [key], {});\n",
              "          if (!dataTable) return;\n",
              "\n",
              "          const docLinkHtml = 'Like what you see? Visit the ' +\n",
              "            '<a target=\"_blank\" href=https://colab.research.google.com/notebooks/data_table.ipynb>data table notebook</a>'\n",
              "            + ' to learn more about interactive tables.';\n",
              "          element.innerHTML = '';\n",
              "          dataTable['output_type'] = 'display_data';\n",
              "          await google.colab.output.renderOutput(dataTable, element);\n",
              "          const docLink = document.createElement('div');\n",
              "          docLink.innerHTML = docLinkHtml;\n",
              "          element.appendChild(docLink);\n",
              "        }\n",
              "      </script>\n",
              "    </div>\n",
              "  </div>\n",
              "  "
            ]
          },
          "metadata": {},
          "execution_count": 121
        }
      ]
    },
    {
      "cell_type": "code",
      "execution_count": null,
      "metadata": {
        "id": "6Zoo17Ui9zxh",
        "colab": {
          "base_uri": "https://localhost:8080/",
          "height": 543
        },
        "outputId": "795cb33c-95a5-4790-ded3-fb0c21a7978d"
      },
      "outputs": [
        {
          "output_type": "execute_result",
          "data": {
            "text/plain": [
              "<IPython.core.display.HTML object>"
            ],
            "text/html": [
              "\n",
              "            <iframe id=\"c1b43bef-2374-4436-9bc4-f26ff5f92871\" src=\"https://hub.graphistry.com/graph/graph.html?dataset=6693b571c92e4b04bd28d97c8e7be3a7&type=arrow&viztoken=fa4eecab-7d9f-4f85-9f5d-bf16fd242b19&usertag=5a9693e9-pygraphistry-0.28.7+463.gfb96400&splashAfter=1685520541&info=true&play=0\"\n",
              "                    allowfullscreen=\"true\" webkitallowfullscreen=\"true\" mozallowfullscreen=\"true\"\n",
              "                    oallowfullscreen=\"true\" msallowfullscreen=\"true\"\n",
              "                    style=\"width:100%; height:500px; border: 1px solid #DDD; overflow: hidden\"\n",
              "                    \n",
              "            >\n",
              "            </iframe>\n",
              "        \n",
              "            <script>\n",
              "                try {\n",
              "                  $(\"#c1b43bef-2374-4436-9bc4-f26ff5f92871\").bind('mousewheel', function(e) { e.preventDefault(); });\n",
              "                } catch (e) { console.error('exn catching scroll', e); }\n",
              "            </script>\n",
              "        "
            ]
          },
          "metadata": {},
          "execution_count": 120
        }
      ],
      "source": [
        "\n",
        "# B.drop(columns=['ID'],inplace=True)\n",
        "g = graphistry.nodes(B)\n",
        "g2=g.umap()\n",
        "\n",
        "emb2=g2._node_embedding\n",
        "g222=graphistry.nodes(emb2.reset_index(),'ID').edges(g2._edges,'_src_implicit','_dst_implicit').bind(point_x=\"x\",point_y=\"y\").settings(url_params={\"play\":0})\n",
        "g222.plot()"
      ]
    },
    {
      "cell_type": "markdown",
      "source": [
        "# Compare clustering distances to family/genus labels (gold standards)"
      ],
      "metadata": {
        "id": "KGzGwBre0-Ic"
      }
    },
    {
      "cell_type": "code",
      "source": [
        "meta=pd.read_excel('/content/39602299')\n",
        "A=meta.pplacer_taxonomy.str.split(';', expand=True)\n",
        "A.index=meta.Bin_name\n",
        "A"
      ],
      "metadata": {
        "colab": {
          "base_uri": "https://localhost:8080/",
          "height": 519
        },
        "id": "l0cG1is6kt77",
        "outputId": "cd5d20b9-46ef-484c-b167-b7fc4cb72af7"
      },
      "execution_count": null,
      "outputs": [
        {
          "output_type": "execute_result",
          "data": {
            "text/plain": [
              "                                  0                    1  \\\n",
              "Bin_name                                                   \n",
              "Sample_101_S75_bin_1    d__Bacteria    p__Proteobacteria   \n",
              "Sample_101_S75_bin_10   d__Bacteria      p__Bacteroidota   \n",
              "Sample_101_S75_bin_101  d__Bacteria  p__Actinobacteriota   \n",
              "Sample_101_S75_bin_102  d__Bacteria     p__Cyanobacteria   \n",
              "Sample_101_S75_bin_103  d__Bacteria    p__Proteobacteria   \n",
              "...                             ...                  ...   \n",
              "Sample_113_S84_bin_95   d__Bacteria    p__Proteobacteria   \n",
              "Sample_113_S84_bin_96   d__Bacteria    p__Proteobacteria   \n",
              "Sample_113_S84_bin_97   d__Bacteria     p__Cyanobacteria   \n",
              "Sample_113_S84_bin_98   d__Bacteria    p__Proteobacteria   \n",
              "Sample_113_S84_bin_99   d__Bacteria      p__Bacteroidota   \n",
              "\n",
              "                                             2                    3  \\\n",
              "Bin_name                                                              \n",
              "Sample_101_S75_bin_1    c__Alphaproteobacteria  o__Sphingomonadales   \n",
              "Sample_101_S75_bin_10           c__Bacteroidia  o__Flavobacteriales   \n",
              "Sample_101_S75_bin_101        c__Actinomycetia   o__Nanopelagicales   \n",
              "Sample_101_S75_bin_102       c__Cyanobacteriia  o__Cyanobacteriales   \n",
              "Sample_101_S75_bin_103  c__Alphaproteobacteria     o__Rickettsiales   \n",
              "...                                        ...                  ...   \n",
              "Sample_113_S84_bin_95   c__Alphaproteobacteria       o__CACIAM-22H2   \n",
              "Sample_113_S84_bin_96   c__Gammaproteobacteria   o__Burkholderiales   \n",
              "Sample_113_S84_bin_97        c__Cyanobacteriia          o__PCC-6307   \n",
              "Sample_113_S84_bin_98   c__Gammaproteobacteria   o__Burkholderiales   \n",
              "Sample_113_S84_bin_99           c__Bacteroidia         o__AKYH767-A   \n",
              "\n",
              "                                           4                    5    6  \n",
              "Bin_name                                                                \n",
              "Sample_101_S75_bin_1    f__Sphingomonadaceae  g__Sphingorhabdus_B  s__  \n",
              "Sample_101_S75_bin_10   f__Crocinitomicaceae             g__40-80  s__  \n",
              "Sample_101_S75_bin_101            f__S36-B12            g__Mxb001  s__  \n",
              "Sample_101_S75_bin_102     f__Microcystaceae                  g__  s__  \n",
              "Sample_101_S75_bin_103            f__UBA1997            g__SYAR01  s__  \n",
              "...                                      ...                  ...  ...  \n",
              "Sample_113_S84_bin_95         f__CACIAM-22H2                  g__  s__  \n",
              "Sample_113_S84_bin_96    f__Burkholderiaceae   g__Limnohabitans_A  s__  \n",
              "Sample_113_S84_bin_97        f__Cyanobiaceae                  g__  s__  \n",
              "Sample_113_S84_bin_98    f__Burkholderiaceae  g__Polynucleobacter  s__  \n",
              "Sample_113_S84_bin_99     f__2013-40CM-41-45                  g__  s__  \n",
              "\n",
              "[2378 rows x 7 columns]"
            ],
            "text/html": [
              "\n",
              "  <div id=\"df-6ff4b80f-95f1-45c5-ae0b-0b8cc710d862\">\n",
              "    <div class=\"colab-df-container\">\n",
              "      <div>\n",
              "<style scoped>\n",
              "    .dataframe tbody tr th:only-of-type {\n",
              "        vertical-align: middle;\n",
              "    }\n",
              "\n",
              "    .dataframe tbody tr th {\n",
              "        vertical-align: top;\n",
              "    }\n",
              "\n",
              "    .dataframe thead th {\n",
              "        text-align: right;\n",
              "    }\n",
              "</style>\n",
              "<table border=\"1\" class=\"dataframe\">\n",
              "  <thead>\n",
              "    <tr style=\"text-align: right;\">\n",
              "      <th></th>\n",
              "      <th>0</th>\n",
              "      <th>1</th>\n",
              "      <th>2</th>\n",
              "      <th>3</th>\n",
              "      <th>4</th>\n",
              "      <th>5</th>\n",
              "      <th>6</th>\n",
              "    </tr>\n",
              "    <tr>\n",
              "      <th>Bin_name</th>\n",
              "      <th></th>\n",
              "      <th></th>\n",
              "      <th></th>\n",
              "      <th></th>\n",
              "      <th></th>\n",
              "      <th></th>\n",
              "      <th></th>\n",
              "    </tr>\n",
              "  </thead>\n",
              "  <tbody>\n",
              "    <tr>\n",
              "      <th>Sample_101_S75_bin_1</th>\n",
              "      <td>d__Bacteria</td>\n",
              "      <td>p__Proteobacteria</td>\n",
              "      <td>c__Alphaproteobacteria</td>\n",
              "      <td>o__Sphingomonadales</td>\n",
              "      <td>f__Sphingomonadaceae</td>\n",
              "      <td>g__Sphingorhabdus_B</td>\n",
              "      <td>s__</td>\n",
              "    </tr>\n",
              "    <tr>\n",
              "      <th>Sample_101_S75_bin_10</th>\n",
              "      <td>d__Bacteria</td>\n",
              "      <td>p__Bacteroidota</td>\n",
              "      <td>c__Bacteroidia</td>\n",
              "      <td>o__Flavobacteriales</td>\n",
              "      <td>f__Crocinitomicaceae</td>\n",
              "      <td>g__40-80</td>\n",
              "      <td>s__</td>\n",
              "    </tr>\n",
              "    <tr>\n",
              "      <th>Sample_101_S75_bin_101</th>\n",
              "      <td>d__Bacteria</td>\n",
              "      <td>p__Actinobacteriota</td>\n",
              "      <td>c__Actinomycetia</td>\n",
              "      <td>o__Nanopelagicales</td>\n",
              "      <td>f__S36-B12</td>\n",
              "      <td>g__Mxb001</td>\n",
              "      <td>s__</td>\n",
              "    </tr>\n",
              "    <tr>\n",
              "      <th>Sample_101_S75_bin_102</th>\n",
              "      <td>d__Bacteria</td>\n",
              "      <td>p__Cyanobacteria</td>\n",
              "      <td>c__Cyanobacteriia</td>\n",
              "      <td>o__Cyanobacteriales</td>\n",
              "      <td>f__Microcystaceae</td>\n",
              "      <td>g__</td>\n",
              "      <td>s__</td>\n",
              "    </tr>\n",
              "    <tr>\n",
              "      <th>Sample_101_S75_bin_103</th>\n",
              "      <td>d__Bacteria</td>\n",
              "      <td>p__Proteobacteria</td>\n",
              "      <td>c__Alphaproteobacteria</td>\n",
              "      <td>o__Rickettsiales</td>\n",
              "      <td>f__UBA1997</td>\n",
              "      <td>g__SYAR01</td>\n",
              "      <td>s__</td>\n",
              "    </tr>\n",
              "    <tr>\n",
              "      <th>...</th>\n",
              "      <td>...</td>\n",
              "      <td>...</td>\n",
              "      <td>...</td>\n",
              "      <td>...</td>\n",
              "      <td>...</td>\n",
              "      <td>...</td>\n",
              "      <td>...</td>\n",
              "    </tr>\n",
              "    <tr>\n",
              "      <th>Sample_113_S84_bin_95</th>\n",
              "      <td>d__Bacteria</td>\n",
              "      <td>p__Proteobacteria</td>\n",
              "      <td>c__Alphaproteobacteria</td>\n",
              "      <td>o__CACIAM-22H2</td>\n",
              "      <td>f__CACIAM-22H2</td>\n",
              "      <td>g__</td>\n",
              "      <td>s__</td>\n",
              "    </tr>\n",
              "    <tr>\n",
              "      <th>Sample_113_S84_bin_96</th>\n",
              "      <td>d__Bacteria</td>\n",
              "      <td>p__Proteobacteria</td>\n",
              "      <td>c__Gammaproteobacteria</td>\n",
              "      <td>o__Burkholderiales</td>\n",
              "      <td>f__Burkholderiaceae</td>\n",
              "      <td>g__Limnohabitans_A</td>\n",
              "      <td>s__</td>\n",
              "    </tr>\n",
              "    <tr>\n",
              "      <th>Sample_113_S84_bin_97</th>\n",
              "      <td>d__Bacteria</td>\n",
              "      <td>p__Cyanobacteria</td>\n",
              "      <td>c__Cyanobacteriia</td>\n",
              "      <td>o__PCC-6307</td>\n",
              "      <td>f__Cyanobiaceae</td>\n",
              "      <td>g__</td>\n",
              "      <td>s__</td>\n",
              "    </tr>\n",
              "    <tr>\n",
              "      <th>Sample_113_S84_bin_98</th>\n",
              "      <td>d__Bacteria</td>\n",
              "      <td>p__Proteobacteria</td>\n",
              "      <td>c__Gammaproteobacteria</td>\n",
              "      <td>o__Burkholderiales</td>\n",
              "      <td>f__Burkholderiaceae</td>\n",
              "      <td>g__Polynucleobacter</td>\n",
              "      <td>s__</td>\n",
              "    </tr>\n",
              "    <tr>\n",
              "      <th>Sample_113_S84_bin_99</th>\n",
              "      <td>d__Bacteria</td>\n",
              "      <td>p__Bacteroidota</td>\n",
              "      <td>c__Bacteroidia</td>\n",
              "      <td>o__AKYH767-A</td>\n",
              "      <td>f__2013-40CM-41-45</td>\n",
              "      <td>g__</td>\n",
              "      <td>s__</td>\n",
              "    </tr>\n",
              "  </tbody>\n",
              "</table>\n",
              "<p>2378 rows × 7 columns</p>\n",
              "</div>\n",
              "      <button class=\"colab-df-convert\" onclick=\"convertToInteractive('df-6ff4b80f-95f1-45c5-ae0b-0b8cc710d862')\"\n",
              "              title=\"Convert this dataframe to an interactive table.\"\n",
              "              style=\"display:none;\">\n",
              "        \n",
              "  <svg xmlns=\"http://www.w3.org/2000/svg\" height=\"24px\"viewBox=\"0 0 24 24\"\n",
              "       width=\"24px\">\n",
              "    <path d=\"M0 0h24v24H0V0z\" fill=\"none\"/>\n",
              "    <path d=\"M18.56 5.44l.94 2.06.94-2.06 2.06-.94-2.06-.94-.94-2.06-.94 2.06-2.06.94zm-11 1L8.5 8.5l.94-2.06 2.06-.94-2.06-.94L8.5 2.5l-.94 2.06-2.06.94zm10 10l.94 2.06.94-2.06 2.06-.94-2.06-.94-.94-2.06-.94 2.06-2.06.94z\"/><path d=\"M17.41 7.96l-1.37-1.37c-.4-.4-.92-.59-1.43-.59-.52 0-1.04.2-1.43.59L10.3 9.45l-7.72 7.72c-.78.78-.78 2.05 0 2.83L4 21.41c.39.39.9.59 1.41.59.51 0 1.02-.2 1.41-.59l7.78-7.78 2.81-2.81c.8-.78.8-2.07 0-2.86zM5.41 20L4 18.59l7.72-7.72 1.47 1.35L5.41 20z\"/>\n",
              "  </svg>\n",
              "      </button>\n",
              "      \n",
              "  <style>\n",
              "    .colab-df-container {\n",
              "      display:flex;\n",
              "      flex-wrap:wrap;\n",
              "      gap: 12px;\n",
              "    }\n",
              "\n",
              "    .colab-df-convert {\n",
              "      background-color: #E8F0FE;\n",
              "      border: none;\n",
              "      border-radius: 50%;\n",
              "      cursor: pointer;\n",
              "      display: none;\n",
              "      fill: #1967D2;\n",
              "      height: 32px;\n",
              "      padding: 0 0 0 0;\n",
              "      width: 32px;\n",
              "    }\n",
              "\n",
              "    .colab-df-convert:hover {\n",
              "      background-color: #E2EBFA;\n",
              "      box-shadow: 0px 1px 2px rgba(60, 64, 67, 0.3), 0px 1px 3px 1px rgba(60, 64, 67, 0.15);\n",
              "      fill: #174EA6;\n",
              "    }\n",
              "\n",
              "    [theme=dark] .colab-df-convert {\n",
              "      background-color: #3B4455;\n",
              "      fill: #D2E3FC;\n",
              "    }\n",
              "\n",
              "    [theme=dark] .colab-df-convert:hover {\n",
              "      background-color: #434B5C;\n",
              "      box-shadow: 0px 1px 3px 1px rgba(0, 0, 0, 0.15);\n",
              "      filter: drop-shadow(0px 1px 2px rgba(0, 0, 0, 0.3));\n",
              "      fill: #FFFFFF;\n",
              "    }\n",
              "  </style>\n",
              "\n",
              "      <script>\n",
              "        const buttonEl =\n",
              "          document.querySelector('#df-6ff4b80f-95f1-45c5-ae0b-0b8cc710d862 button.colab-df-convert');\n",
              "        buttonEl.style.display =\n",
              "          google.colab.kernel.accessAllowed ? 'block' : 'none';\n",
              "\n",
              "        async function convertToInteractive(key) {\n",
              "          const element = document.querySelector('#df-6ff4b80f-95f1-45c5-ae0b-0b8cc710d862');\n",
              "          const dataTable =\n",
              "            await google.colab.kernel.invokeFunction('convertToInteractive',\n",
              "                                                     [key], {});\n",
              "          if (!dataTable) return;\n",
              "\n",
              "          const docLinkHtml = 'Like what you see? Visit the ' +\n",
              "            '<a target=\"_blank\" href=https://colab.research.google.com/notebooks/data_table.ipynb>data table notebook</a>'\n",
              "            + ' to learn more about interactive tables.';\n",
              "          element.innerHTML = '';\n",
              "          dataTable['output_type'] = 'display_data';\n",
              "          await google.colab.output.renderOutput(dataTable, element);\n",
              "          const docLink = document.createElement('div');\n",
              "          docLink.innerHTML = docLinkHtml;\n",
              "          element.appendChild(docLink);\n",
              "        }\n",
              "      </script>\n",
              "    </div>\n",
              "  </div>\n",
              "  "
            ]
          },
          "metadata": {},
          "execution_count": 37
        }
      ]
    },
    {
      "cell_type": "code",
      "execution_count": null,
      "metadata": {
        "id": "hKMX5p6P9z0H"
      },
      "outputs": [],
      "source": [
        "stopppp"
      ]
    },
    {
      "cell_type": "code",
      "execution_count": null,
      "metadata": {
        "id": "_8luTkhLg1N3"
      },
      "outputs": [],
      "source": []
    },
    {
      "cell_type": "code",
      "execution_count": null,
      "metadata": {
        "id": "rBDnF-Rwg1P7"
      },
      "outputs": [],
      "source": []
    },
    {
      "cell_type": "code",
      "execution_count": null,
      "metadata": {
        "id": "rmh8spJ-g1SS"
      },
      "outputs": [],
      "source": []
    },
    {
      "cell_type": "markdown",
      "metadata": {
        "id": "eRvdJItA9wFm"
      },
      "source": [
        "#try #2"
      ]
    },
    {
      "cell_type": "markdown",
      "metadata": {
        "id": "Tp9kmly99uIU"
      },
      "source": [
        "[pull data](https://trace.ncbi.nlm.nih.gov/Traces/index.html?view=run_browser&acc=SRR6747711&display=data-access)\n",
        "from [papers](https://www.sciencedirect.com/science/article/pii/S0160412019321774#ec-research-data) [and 2](https://pubs.acs.org/doi/10.1021/acs.est.8b03446)"
      ]
    },
    {
      "cell_type": "code",
      "execution_count": null,
      "metadata": {
        "id": "60QChNEeaBxr"
      },
      "outputs": [],
      "source": []
    },
    {
      "cell_type": "code",
      "execution_count": null,
      "metadata": {
        "id": "no-joCMW9zCr"
      },
      "outputs": [],
      "source": [
        "# !wget https://sra-pub-run-odp.s3.amazonaws.com/sra/SRR6747711/SRR6747711\n",
        "# !wget AWS\ts3://sra-pub-src-5/SRR6747711/161002_I137_FCH7YT3BBXX_L1_wHAXPI035554-18_1.fq.gz\n",
        "\n",
        "import locale\n",
        "def getpreferredencoding(do_setlocale = True):\n",
        "    return \"UTF-8\"\n",
        "locale.getpreferredencoding = getpreferredencoding\n",
        "\n",
        "# with open(path, 'rb') as f:\n",
        "#   contents = f.read()\n",
        "\n",
        "from Bio import SeqIO\n",
        "import gzip\n",
        "\n",
        "reads = []\n",
        "count = 0\n",
        "    # for record in SeqIO.parse(handle, \"fasta\"):\n",
        "    #     print(record.id)\n",
        "# with gzip.open(\"39602290\", \"rt\") as handle:\n",
        "for rec in SeqIO.parse('39602290', \"fastq\"):\n",
        "    if count <500: # only read in the first 500 reads to avoid running out of memory\n",
        "        reads.append(rec.seq)\n",
        "    count = count+1\n",
        "\n",
        "# take a look at some of the reads\n",
        "reads[0:20]"
      ]
    },
    {
      "cell_type": "markdown",
      "metadata": {
        "id": "lm3WKQ_O90Pw"
      },
      "source": [
        "#try #1"
      ]
    },
    {
      "cell_type": "markdown",
      "metadata": {
        "id": "amHLdnyWPb2I"
      },
      "source": [
        "[pull metagenomic data](https://www.ncbi.nlm.nih.gov/nuccore/2496718099)\n"
      ]
    },
    {
      "cell_type": "code",
      "execution_count": null,
      "metadata": {
        "id": "Uf7PegozP_Nf"
      },
      "outputs": [],
      "source": [
        "# !get https://sra-download.ncbi.nlm.nih.gov/traces/wgs01/wgs_aux/KH/UX/KHUX01/KHUX01.1.fsa_nt.gz\n",
        "# !gunzip KHUX01.1.fsa_nt.gz\n",
        "\n"
      ]
    },
    {
      "cell_type": "code",
      "execution_count": null,
      "metadata": {
        "id": "O9B5mwxUKyd5"
      },
      "outputs": [],
      "source": [
        "from Bio import SeqIO\n",
        "\n",
        "fasta_sequences = SeqIO.parse(open('KHUX01.1.fsa_nt'),'fasta')\n",
        "    name = []\n",
        "    sequences = []\n",
        "    for fasta in fasta_sequences:\n",
        "        name, sequence = fasta.id, str(fasta.seq)\n",
        "        identifiers.append(name)\n",
        "        sequences.append(sequence)"
      ]
    },
    {
      "cell_type": "code",
      "execution_count": null,
      "metadata": {
        "id": "jpJ05iBnOkyn"
      },
      "outputs": [],
      "source": [
        "A=pd.DataFrame([identifiers,sequences]).T\n",
        "A.columns=['ID','seq']\n",
        "A.dropna(inplace=True)"
      ]
    },
    {
      "cell_type": "code",
      "execution_count": null,
      "metadata": {
        "id": "yrC3L_dsOra3"
      },
      "outputs": [],
      "source": [
        "# !pip install -U --force git+https://github.com/graphistry/pygraphistry.git@cudf\n",
        "!pip install graphistry[ai] --quiet"
      ]
    },
    {
      "cell_type": "code",
      "execution_count": null,
      "metadata": {
        "id": "MBfyD0iRPH8Y"
      },
      "outputs": [],
      "source": [
        "import graphistry\n",
        "\n",
        "graphistry.register(api=3,protocol=\"https\", server=\"hub.graphistry.com\", username='dcolinmorgan', password='fXjJnkE3Gik6BWy') ## key id, secret key\n",
        "\n",
        "# graphistry.register(api=3,protocol=\"https\", server=\"hub.graphistry.com\", username='dcolinmorgan', password='***') ## key id, secret key\n",
        "graphistry.__version__"
      ]
    },
    {
      "cell_type": "code",
      "execution_count": null,
      "metadata": {
        "id": "Sem5gsEuQF2p"
      },
      "outputs": [],
      "source": [
        "g = graphistry.nodes(A)\n",
        "g.umap(engine='umap_learn').plot()"
      ]
    },
    {
      "cell_type": "code",
      "execution_count": null,
      "metadata": {
        "id": "HQ2i-gndX94E"
      },
      "outputs": [],
      "source": []
    }
  ],
  "metadata": {
    "accelerator": "GPU",
    "colab": {
      "provenance": [],
      "collapsed_sections": [
        "eRvdJItA9wFm",
        "lm3WKQ_O90Pw"
      ],
      "include_colab_link": true
    },
    "kernelspec": {
      "display_name": "Python 3",
      "name": "python3"
    },
    "language_info": {
      "name": "python"
    }
  },
  "nbformat": 4,
  "nbformat_minor": 0
}