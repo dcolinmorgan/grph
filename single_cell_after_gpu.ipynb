{
  "cells": [
    {
      "cell_type": "markdown",
      "metadata": {
        "id": "view-in-github",
        "colab_type": "text"
      },
      "source": [
        "<a href=\"https://colab.research.google.com/github/dcolinmorgan/grph/blob/main/single_cell_after_gpu.ipynb\" target=\"_parent\"><img src=\"https://colab.research.google.com/assets/colab-badge.svg\" alt=\"Open In Colab\"/></a>"
      ]
    },
    {
      "cell_type": "markdown",
      "metadata": {
        "id": "5n26EioarG4C"
      },
      "source": [
        "## Tutorial: Quick single-cell transcriptomics using GPU UMAP analysis & visualization"
      ],
      "id": "5n26EioarG4C"
    },
    {
      "cell_type": "markdown",
      "metadata": {
        "id": "0f3a459c-fa15-445b-8d65-cb701c063ac9"
      },
      "source": [
        "Using GPU-accelerated UMAP analysis & visualization, single cell data can be analyzed faster and much more easily explored.\n",
        "\n",
        "* Task: Analyze single cell's gene expression for clustering\n",
        "* Data: 5 independent datasets of roughly 30K rows of 200 columns of single cell\n",
        "* [data](https://cytotrace.stanford.edu/#shiny-tab-dataset_download)\n",
        "* [paper](https://arxiv.org/pdf/2208.05229.pdf)\n",
        "\n",
        "**Insight/ Result:**\n",
        "\n",
        "1.   over 5x faster for entire ~10000 cell samples (102s vs 18s)\n",
        "3.   Offers more insight when static plot would otherwise fail\n",
        "\n",
        "\n",
        "(See also: [CPU baseline](https://github.com/dcolinmorgan/grph/blob/main/standard_single_cell_umap_demo.ipynb))"
      ],
      "id": "0f3a459c-fa15-445b-8d65-cb701c063ac9"
    },
    {
      "cell_type": "markdown",
      "metadata": {
        "id": "JAgYkgAsvbnG"
      },
      "source": [
        "## Setup\n",
        "\n",
        "(install cuda packages first)"
      ],
      "id": "JAgYkgAsvbnG"
    },
    {
      "cell_type": "markdown",
      "metadata": {
        "id": "0ZwLVW8c52oZ"
      },
      "source": [
        "### install"
      ],
      "id": "0ZwLVW8c52oZ"
    },
    {
      "cell_type": "code",
      "execution_count": null,
      "metadata": {
        "id": "UYVtE57QBy92"
      },
      "outputs": [],
      "source": [
        "!pip install --extra-index-url=https://pypi.nvidia.com cuml-cu11 cudf-cu11 cugraph-cu11 pylibraft_cu11 raft_dask_cu11 dask_cudf_cu11 pylibcugraph_cu11 pylibraft_cu11\n",
        "import cuml,cudf\n",
        "print(cuml.__version__)\n",
        "\n",
        "!pip install -U --force git+https://github.com/graphistry/pygraphistry.git@feat/gpu-featurization\n",
        "!pip install -U git+https://github.com/graphistry/cu-cat.git@DT4\n",
        "# !pip install dirty_cat\n",
        "\n",
        "!pip install Biopython\n",
        "\n",
        "!nvidia-smi\n",
        "\n",
        "!pip install scanpy"
      ],
      "id": "UYVtE57QBy92"
    },
    {
      "cell_type": "markdown",
      "metadata": {
        "id": "SIRImWXW58uI"
      },
      "source": [
        "### import / configure"
      ],
      "id": "SIRImWXW58uI"
    },
    {
      "cell_type": "markdown",
      "metadata": {
        "id": "6lK_VrzZT1n7"
      },
      "source": [
        "#### get a free api-key at https://www.graphistry.com/"
      ],
      "id": "6lK_VrzZT1n7"
    },
    {
      "cell_type": "code",
      "execution_count": 2,
      "metadata": {
        "id": "FQUmN0NcTy8z",
        "colab": {
          "base_uri": "https://localhost:8080/",
          "height": 35
        },
        "outputId": "1693de3b-bfe5-43f3-8bde-ff775255c87e"
      },
      "outputs": [
        {
          "output_type": "execute_result",
          "data": {
            "text/plain": [
              "'0.29.1+6.gc1bc6f1'"
            ],
            "application/vnd.google.colaboratory.intrinsic+json": {
              "type": "string"
            }
          },
          "metadata": {},
          "execution_count": 2
        }
      ],
      "source": [
        "import scanpy as sc\n",
        "import anndata\n",
        "\n",
        "import graphistry\n",
        "graphistry.register(api=3,protocol=\"https\", server=\"hub.graphistry.com\", username='dcolinmorgan', password='fXjJnkE3Gik6BWy') ## key id, secret key\n",
        "\n",
        "# graphistry.register(api=3,protocol=\"https\", server=\"hub.graphistry.com\", username='dcolinmorgan', password='***') ## key id, secret key\n",
        "graphistry.__version__\n"
      ],
      "id": "FQUmN0NcTy8z"
    },
    {
      "cell_type": "code",
      "execution_count": null,
      "metadata": {
        "id": "0i3vYvSw-OyK"
      },
      "outputs": [],
      "source": [
        "!nvidia-smi"
      ],
      "id": "0i3vYvSw-OyK"
    },
    {
      "cell_type": "code",
      "execution_count": 4,
      "metadata": {
        "id": "y_CdnuiH-Ras",
        "colab": {
          "base_uri": "https://localhost:8080/",
          "height": 35
        },
        "outputId": "9ccf812e-8e3d-45b7-8a07-df9122f1a4ae"
      },
      "outputs": [
        {
          "output_type": "execute_result",
          "data": {
            "text/plain": [
              "'23.06.00'"
            ],
            "application/vnd.google.colaboratory.intrinsic+json": {
              "type": "string"
            }
          },
          "metadata": {},
          "execution_count": 4
        }
      ],
      "source": [
        "# This get the RAPIDS-Colab install files and test check your GPU.  Run this and the next cell only.\n",
        "# Please read the output of this cell.  If your Colab Instance is not RAPIDS compatible, it will warn you and give you remediation steps.\n",
        "# !git clone https://github.com/rapidsai/rapidsai-csp-utils.git\n",
        "# !git clone https://github.com/dcolinmorgan/rapidsai-csp-utils/tree/patch-1\n",
        "# !python rapidsai-csp-utils/colab/pip-install.py\n",
        "\n",
        "import cuml\n",
        "cuml.__version__\n",
        "\n",
        "# import cupy\n",
        "# cudf.__version__"
      ],
      "id": "y_CdnuiH-Ras"
    },
    {
      "cell_type": "code",
      "execution_count": 5,
      "metadata": {
        "id": "33ae99ce-e386-4e97-b5a0-99b86fb6f68a"
      },
      "outputs": [],
      "source": [
        "import os, time\n",
        "from collections import Counter\n",
        "import cProfile\n",
        "import pandas as pd\n",
        "import numpy as np\n",
        "import seaborn as sns\n",
        "import matplotlib.pyplot as plt\n",
        "from pstats import Stats\n",
        "import warnings\n",
        "warnings.filterwarnings('ignore')\n",
        "pd.set_option('display.max_colwidth', 200)"
      ],
      "id": "33ae99ce-e386-4e97-b5a0-99b86fb6f68a"
    },
    {
      "cell_type": "markdown",
      "metadata": {
        "id": "lqWE36v0vU6l"
      },
      "source": [
        "## Data Download & Description"
      ],
      "id": "lqWE36v0vU6l"
    },
    {
      "cell_type": "code",
      "execution_count": 6,
      "metadata": {
        "id": "EJqxQGhpHhWb",
        "colab": {
          "base_uri": "https://localhost:8080/"
        },
        "outputId": "4a358232-b902-4c7c-e3c9-6c3e95a063c4"
      },
      "outputs": [
        {
          "output_type": "stream",
          "name": "stdout",
          "text": [
            "Archive:  GSE107910_40.h5ad.zip\n",
            "  inflating: GSE107910_40.h5ad       \n",
            "Archive:  GSE67123_6.h5ad.zip\n",
            "  inflating: GSE67123_6.h5ad         \n"
          ]
        }
      ],
      "source": [
        "#download 6 single cell datasets\n",
        "%%bash\n",
        "wget -nc -q https://www.dropbox.com/s/h1k7jy0kad6fguu/GSE107910_40.h5ad.zip\n",
        "wget -nc -q https://www.dropbox.com/s/xza477kxj7vgdlr/GSE67123_6.h5ad.zip\n",
        "\n",
        "unzip -o GSE107910_40.h5ad.zip\n",
        "unzip -o GSE67123_6.h5ad.zip\n",
        "\n",
        "mkdir -p single_cell\n",
        "mv *.h5ad single_cell"
      ],
      "id": "EJqxQGhpHhWb"
    },
    {
      "cell_type": "code",
      "execution_count": 7,
      "metadata": {
        "id": "ff46a8c8-5882-41a6-83ce-eb8c00c2fc70",
        "colab": {
          "base_uri": "https://localhost:8080/"
        },
        "outputId": "cf2016d9-111a-4d5f-9b75-e31ef70d1ecb"
      },
      "outputs": [
        {
          "output_type": "stream",
          "name": "stdout",
          "text": [
            "['Thymus (Drop-seq)' 'Validation' '15429' '9307.0' 'nan' '9307' '19530'\n",
            " '8' '8' 'UMI' 'Mouse' '1' 'Thymus' 'Drop-seq' 'Timepoints' 'in vivo'\n",
            " '29884461' '20180619' 'GSE107910' 'Immunity'\n",
            " 'Only hematopoietic cells, selected based on detectable Ptprc expression, were considered in this dataset. ']\n",
            "\n",
            "['Embryonic HSCs (Tang et al.)' 'Validation' '143' 'nan' 'nan' '143'\n",
            " '24028' '5' '5' 'TPM/FPKM' 'Mouse' '1' 'Embryo' 'Tang et al.'\n",
            " 'Timepoints' 'in vivo' '27225119' '20160526' 'GSE67123' 'Nature' 'nan']\n",
            "\n"
          ]
        }
      ],
      "source": [
        "\n",
        "list_files = []\n",
        "for dirname, _, filenames in os.walk('single_cell'):\n",
        "    for filename in filenames:\n",
        "        #print(os.path.join(dirname, filename))\n",
        "        list_files.append(os.path.join(dirname, filename))\n",
        "\n",
        "for fn in list_files:\n",
        "    adata = sc.read(fn) # sc.read_h5ad\n",
        "    print( adata.uns['info'] )\n",
        "    print()"
      ],
      "id": "ff46a8c8-5882-41a6-83ce-eb8c00c2fc70"
    },
    {
      "cell_type": "markdown",
      "metadata": {
        "id": "dQaaHeHu7X54"
      },
      "source": [
        "# scanpy read and compute UMAP for GSE107910_40 Murine Thymus cells\n",
        "\n",
        "\n"
      ],
      "id": "dQaaHeHu7X54"
    },
    {
      "cell_type": "code",
      "execution_count": 19,
      "metadata": {
        "id": "cc6f3beb-13c9-4d11-b8b2-35676f711f50",
        "colab": {
          "base_uri": "https://localhost:8080/"
        },
        "outputId": "6fd87617-1035-4d8a-9c7f-f670de66f039"
      },
      "outputs": [
        {
          "output_type": "stream",
          "name": "stderr",
          "text": [
            "WARNING:root:! Failed featurize speedup attempt. Continuing without memoization speedups.WARNING:root:! Failed umap speedup attempt. Continuing without memoization speedups.WARNING:graphistry.umap_utils:* Ignoring target column of shape (18335, 0) in UMAP fit, as it is not one dimensional"
          ]
        },
        {
          "output_type": "stream",
          "name": "stdout",
          "text": [
            "Total  27.5 seconds passed\n"
          ]
        }
      ],
      "source": [
        "fn='single_cell/GSE107910_40.h5ad'\n",
        "adata = sc.read(fn) # sc.read_h5ad\n",
        "str_data_inf = fn.split('/')[1].split('.')[0] + ' ' + str(adata.X.shape)+'\\n' + adata.uns['info'][0]\n",
        "\n",
        "EE=pd.DataFrame(adata.X,columns=adata.uns['gcsGenesNames'],index=adata.uns['allcellnames'])\n",
        "g1=graphistry.nodes(cudf.from_pandas(EE.T))#.reset_index(),\"index\") #,columns=adata1.uns['gcsGenesNames']))\n",
        "\n",
        "t0 = time.time()\n",
        "\n",
        "g11 = g1.umap(\n",
        "            use_scaler='robust', ## zscale, minmax, standard, normal,\n",
        "            n_components=2,\n",
        "            n_neighbors=12,\n",
        "            engine='cuml'\n",
        "    )\n",
        "\n",
        "print('Total ', np.round(time.time() - t0,1), 'seconds passed')\n"
      ],
      "id": "cc6f3beb-13c9-4d11-b8b2-35676f711f50"
    },
    {
      "cell_type": "code",
      "execution_count": 21,
      "metadata": {
        "id": "8USJgBC34bEt",
        "colab": {
          "base_uri": "https://localhost:8080/",
          "height": 543
        },
        "outputId": "a400005e-e67f-41e6-c7db-7c8a4965b8eb"
      },
      "outputs": [
        {
          "output_type": "execute_result",
          "data": {
            "text/plain": [
              "<IPython.core.display.HTML object>"
            ],
            "text/html": [
              "\n",
              "            <iframe id=\"d52df18d-6ac9-426d-8c43-255dceff7850\" src=\"https://hub.graphistry.com/graph/graph.html?dataset=c02afaa3791346b5af2ebf7f2345064f&type=arrow&viztoken=51e74652-f88a-4484-add7-9a4889cf26d1&usertag=7f23e3b2-pygraphistry-0.29.1+6.gc1bc6f1&splashAfter=1690423644&info=true&play=0\"\n",
              "                    allowfullscreen=\"true\" webkitallowfullscreen=\"true\" mozallowfullscreen=\"true\"\n",
              "                    oallowfullscreen=\"true\" msallowfullscreen=\"true\"\n",
              "                    style=\"width:100%; height:500px; border: 1px solid #DDD; overflow: hidden\"\n",
              "                    \n",
              "            >\n",
              "            </iframe>\n",
              "        \n",
              "            <script>\n",
              "                try {\n",
              "                  $(\"#d52df18d-6ac9-426d-8c43-255dceff7850\").bind('mousewheel', function(e) { e.preventDefault(); });\n",
              "                } catch (e) { console.error('exn catching scroll', e); }\n",
              "            </script>\n",
              "        "
            ]
          },
          "metadata": {},
          "execution_count": 21
        }
      ],
      "source": [
        "emb2=g11._node_embedding\n",
        "\n",
        "A=emb2.reset_index()['index'].to_pandas()#.str.split('|').str[6]#.str.split('|').str[0]#+'_'+data2.Donor\n",
        "emb2.index=A\n",
        "\n",
        "B=g11._edges\n",
        "B['_src_implicit'] = B['_src_implicit'].replace(A, regex=True)#apply(lambda x: [A[i] for i in x])\n",
        "B['_dst_implicit'] = B['_dst_implicit'].replace(A, regex=True)\n",
        "\n",
        "# g3._edges[g3._edges['_src_implicit']!=g3._edges['_dst_implicit']]\n",
        "g22=graphistry.nodes(emb2.reset_index(),'index').edges(g11._edges.dropna(),'_src_implicit','_dst_implicit').bind(point_x=\"x\",point_y=\"y\").settings(url_params={\"play\":0})\n",
        "\n",
        "g22.plot()"
      ],
      "id": "8USJgBC34bEt"
    },
    {
      "cell_type": "markdown",
      "source": [
        "## this paper was specifically interested in peak mitosis genes, ie [\"Tirosh\" genes](https://genome.cshlp.org/content/25/12/1860.short), so lets zoom in on those"
      ],
      "metadata": {
        "id": "ToIOD-XzO7JD"
      },
      "id": "ToIOD-XzO7JD"
    },
    {
      "cell_type": "code",
      "source": [
        "S_phase_genes_Tirosh = ['MCM5', 'PCNA', 'TYMS', 'FEN1', 'MCM2', 'MCM4', 'RRM1', 'UNG', 'GINS2', 'MCM6', 'CDCA7', 'DTL', 'PRIM1', 'UHRF1', 'MLF1IP', 'HELLS', 'RFC2', 'RPA2', 'NASP', 'RAD51AP1', 'GMNN', 'WDR76', 'SLBP', 'CCNE2', 'UBR7', 'POLD3', 'MSH2', 'ATAD2', 'RAD51', 'RRM2', 'CDC45', 'CDC6', 'EXO1', 'TIPIN', 'DSCC1', 'BLM', 'CASP8AP2', 'USP1', 'CLSPN', 'POLA1', 'CHAF1B', 'BRIP1', 'E2F8']\n",
        "G2_M_genes_Tirosh = ['HMGB2', 'CDK1', 'NUSAP1', 'UBE2C', 'BIRC5', 'TPX2', 'TOP2A', 'NDC80', 'CKS2', 'NUF2', 'CKS1B', 'MKI67', 'TMPO', 'CENPF', 'TACC3', 'FAM64A', 'SMC4', 'CCNB2', 'CKAP2L', 'CKAP2', 'AURKB', 'BUB1', 'KIF11', 'ANP32E', 'TUBB4B', 'GTSE1', 'KIF20B', 'HJURP', 'CDCA3', 'HN1', 'CDC20', 'TTK', 'CDC25C', 'KIF2C', 'RANGAP1', 'NCAPD2', 'DLGAP5', 'CDCA2', 'CDCA8', 'ECT2', 'KIF23', 'HMMR', 'AURKA', 'PSRC1', 'ANLN', 'LBR', 'CKAP5', 'CENPE', 'CTCF', 'NEK2', 'G2E3', 'GAS2L3', 'CBX5', 'CENPA']\n",
        "u = 'allgenenames'\n",
        "list_genes_upper = [t.upper() for t in adata.uns[u] ]\n",
        "I = np.where( pd.Series(list_genes_upper).isin( S_phase_genes_Tirosh + G2_M_genes_Tirosh ) )[0]\n"
      ],
      "metadata": {
        "id": "XW2PejpWO4Ta"
      },
      "id": "XW2PejpWO4Ta",
      "execution_count": 23,
      "outputs": []
    },
    {
      "cell_type": "code",
      "source": [
        "EE=pd.DataFrame(adata.X[:,I],columns=adata.uns['gcsGenesNames'][I],index=adata.uns['allcellnames'])\n",
        "g1=graphistry.nodes(cudf.from_pandas(EE.T)) #,columns=adata1.uns['gcsGenesNames']))\n",
        "\n",
        "t0 = time.time()\n",
        "\n",
        "g11 = g1.umap(\n",
        "            use_scaler='robust', ## zscale, minmax, standard, normal,\n",
        "            n_components=2,\n",
        "            n_neighbors=12,\n",
        "            engine='cuml'\n",
        "    )\n",
        "\n",
        "\n",
        "print('Total ', np.round(time.time() - t0,1), 'seconds passed')\n"
      ],
      "metadata": {
        "colab": {
          "base_uri": "https://localhost:8080/"
        },
        "id": "0X3aqsRCO9gR",
        "outputId": "7c1e6d57-ece9-4819-fe9f-34ead3aa7496"
      },
      "id": "0X3aqsRCO9gR",
      "execution_count": 28,
      "outputs": [
        {
          "output_type": "stream",
          "name": "stderr",
          "text": [
            "WARNING:root:! Failed featurize speedup attempt. Continuing without memoization speedups.WARNING:root:! Failed umap speedup attempt. Continuing without memoization speedups.WARNING:graphistry.umap_utils:* Ignoring target column of shape (96, 0) in UMAP fit, as it is not one dimensional"
          ]
        },
        {
          "output_type": "stream",
          "name": "stdout",
          "text": [
            "Total  12.5 seconds passed\n"
          ]
        }
      ]
    },
    {
      "cell_type": "code",
      "source": [
        "emb2=g11._node_embedding\n",
        "\n",
        "A=emb2.reset_index()['index'].to_pandas()#.str.split('|').str[6]#.str.split('|').str[0]#+'_'+data2.Donor\n",
        "emb2.index=A\n",
        "\n",
        "B=g11._edges\n",
        "B['_src_implicit'] = B['_src_implicit'].replace(A, regex=True)#apply(lambda x: [A[i] for i in x])\n",
        "B['_dst_implicit'] = B['_dst_implicit'].replace(A, regex=True)\n",
        "\n",
        "# g3._edges[g3._edges['_src_implicit']!=g3._edges['_dst_implicit']]\n",
        "g22=graphistry.nodes(emb2.reset_index(),'index').edges(g11._edges.dropna(),'_src_implicit','_dst_implicit').bind(point_x=\"x\",point_y=\"y\").settings(url_params={\"play\":0})\n",
        "\n",
        "g22.plot()"
      ],
      "metadata": {
        "colab": {
          "base_uri": "https://localhost:8080/",
          "height": 543
        },
        "id": "OIxdQw4DO9jF",
        "outputId": "57ce66c5-59d9-4287-ae3c-0f6def90b543"
      },
      "id": "OIxdQw4DO9jF",
      "execution_count": 29,
      "outputs": [
        {
          "output_type": "execute_result",
          "data": {
            "text/plain": [
              "<IPython.core.display.HTML object>"
            ],
            "text/html": [
              "\n",
              "            <iframe id=\"03fc86a6-8066-4581-b138-d5729f9b2f98\" src=\"https://hub.graphistry.com/graph/graph.html?dataset=3526faace57a4389b286833dd8c383ef&type=arrow&viztoken=1c1b75fa-ec92-4c43-876f-8e0c76332a77&usertag=7f23e3b2-pygraphistry-0.29.1+6.gc1bc6f1&splashAfter=1690423807&info=true&play=0\"\n",
              "                    allowfullscreen=\"true\" webkitallowfullscreen=\"true\" mozallowfullscreen=\"true\"\n",
              "                    oallowfullscreen=\"true\" msallowfullscreen=\"true\"\n",
              "                    style=\"width:100%; height:500px; border: 1px solid #DDD; overflow: hidden\"\n",
              "                    \n",
              "            >\n",
              "            </iframe>\n",
              "        \n",
              "            <script>\n",
              "                try {\n",
              "                  $(\"#03fc86a6-8066-4581-b138-d5729f9b2f98\").bind('mousewheel', function(e) { e.preventDefault(); });\n",
              "                } catch (e) { console.error('exn catching scroll', e); }\n",
              "            </script>\n",
              "        "
            ]
          },
          "metadata": {},
          "execution_count": 29
        }
      ]
    },
    {
      "cell_type": "markdown",
      "metadata": {
        "id": "v3L0TeFs7efg"
      },
      "source": [
        "# bonus round: GSE67123_6 Embryonic HSCs\n",
        "\n",
        "\n",
        "\n",
        "*   static, pre-computed phenotype t-SNE and UMAP are not so telling...\n",
        "\n"
      ],
      "id": "v3L0TeFs7efg"
    },
    {
      "cell_type": "code",
      "execution_count": 33,
      "metadata": {
        "id": "R_6Gx8p8Hx6b",
        "colab": {
          "base_uri": "https://localhost:8080/",
          "height": 873
        },
        "outputId": "8b848b30-1204-452a-c5cd-b90d6c36ad6f"
      },
      "outputs": [
        {
          "output_type": "display_data",
          "data": {
            "text/plain": [
              "<Figure size 2000x1000 with 2 Axes>"
            ],
            "image/png": "[encoded data removed]"
          },
          "metadata": {}
        }
      ],
      "source": [
        "fig,ax = plt.subplots(1,2, figsize = (20,10)); c = 0\n",
        "ax[0].set_title('TSNE')\n",
        "ax[1].set_title('UMAP')\n",
        "# plt.suptitle(' all genes ' +str_data_inf_2 + ' Shape: ' + str(adata2.X.shape) , fontsize = 20  )\n",
        "fn='single_cell/GSE67123_6.h5ad'\n",
        "adata2 = sc.read(fn) # sc.read_h5ad\n",
        "\n",
        "sns.scatterplot(x = adata2.uns['X_tsne'][:,0], y = adata2.uns['X_tsne'][:,1]  , hue = adata2.uns['Phenotype'],ax=ax[0])\n",
        "\n",
        "sns.scatterplot(x = adata2.uns['X_umap'][:,0], y = adata2.uns['X_umap'][:,1]  , hue = adata2.uns['Phenotype'],ax=ax[1])\n",
        "\n",
        "plt.show()"
      ],
      "id": "R_6Gx8p8Hx6b"
    },
    {
      "cell_type": "markdown",
      "source": [
        "*   interactive plot of genes allows more thorough investigations -- defining clusters of genes with similar expression\n",
        "\n"
      ],
      "metadata": {
        "id": "sgAmwUxjKTXB"
      },
      "id": "sgAmwUxjKTXB"
    },
    {
      "cell_type": "code",
      "execution_count": 42,
      "metadata": {
        "id": "iiDCdRF7wGHX",
        "colab": {
          "base_uri": "https://localhost:8080/"
        },
        "outputId": "fc8ebcf7-cfe8-4523-acd8-7fdb7937a4b5"
      },
      "outputs": [
        {
          "output_type": "stream",
          "name": "stderr",
          "text": [
            "WARNING:root:! Failed featurize speedup attempt. Continuing without memoization speedups.WARNING:root:! Failed umap speedup attempt. Continuing without memoization speedups.WARNING:graphistry.umap_utils:* Ignoring target column of shape (23548, 0) in UMAP fit, as it is not one dimensional"
          ]
        },
        {
          "output_type": "stream",
          "name": "stdout",
          "text": [
            "Total  0.9 seconds passed\n"
          ]
        }
      ],
      "source": [
        "t0 = time.time()\n",
        "\n",
        "fn='single_cell/GSE67123_6.h5ad'\n",
        "adata2 = sc.read(fn) # sc.read_h5ad\n",
        "str_data_inf_2 = fn.split('/')[1].split('.')[0] + ' ' + str(adata2.X.shape)+'\\n' + adata2.uns['info'][0]\n",
        "\n",
        "EE=pd.DataFrame(adata2.X,columns=adata2.uns['gcsGenesNames'],index=adata2.uns['allcellnames'])\n",
        "g2=graphistry.nodes(cudf.from_pandas(EE.T))#,columns=adata1.uns['gcsGenesNames']))\n",
        "\n",
        "g22 = g2.umap(\n",
        "            use_scaler='robust', ## zscale, minmax, standard, normal,\n",
        "            n_components=2,\n",
        "            n_neighbors=12,\n",
        "            engine='cuml'\n",
        "    )\n",
        "\n",
        "print('Total ', np.round(time.time() - t0,1), 'seconds passed')\n",
        "\n",
        "emb2=g22._node_embedding\n",
        "\n",
        "A=emb2.reset_index()['index'].to_pandas()#.str.split('|').str[6]#.str.split('|').str[0]#+'_'+data2.Donor\n",
        "emb2.index=A\n",
        "emb2=emb2[~emb2.index.str.contains('Rik')]\n",
        "\n",
        "B=g22._edges\n",
        "B['_src_implicit'] = B['_src_implicit'].replace(A, regex=True)#apply(lambda x: [A[i] for i in x])\n",
        "B['_dst_implicit'] = B['_dst_implicit'].replace(A, regex=True)\n",
        "\n",
        "# g3._edges[g3._edges['_src_implicit']!=g3._edges['_dst_implicit']]\n",
        "g22=graphistry.nodes(emb2.reset_index(),'index').edges(g22._edges.dropna(),'_src_implicit','_dst_implicit').bind(point_x=\"x\",point_y=\"y\").settings(url_params={\"play\":0})\n",
        "\n",
        "g22.plot()"
      ],
      "id": "iiDCdRF7wGHX"
    },
    {
      "cell_type": "code",
      "execution_count": 43,
      "metadata": {
        "id": "6399723c-cc4a-4c7e-9ffa-ccdbe830a47a",
        "colab": {
          "base_uri": "https://localhost:8080/",
          "height": 543
        },
        "outputId": "f6f2b579-c2a6-43c1-dbb3-28c9fc92f069"
      },
      "outputs": [
        {
          "output_type": "execute_result",
          "data": {
            "text/plain": [
              "<IPython.core.display.HTML object>"
            ],
            "text/html": [
              "\n",
              "            <iframe id=\"e4b37031-b0f0-4992-a9a1-5c03ed721fdb\" src=\"https://hub.graphistry.com/graph/graph.html?dataset=45de43bd81394c15b41796f46f4c23a8&type=arrow&viztoken=e71537d0-f2ab-413a-bef4-6b30dc6e5328&usertag=7f23e3b2-pygraphistry-0.29.1+6.gc1bc6f1&splashAfter=1690424859&info=true&play=0\"\n",
              "                    allowfullscreen=\"true\" webkitallowfullscreen=\"true\" mozallowfullscreen=\"true\"\n",
              "                    oallowfullscreen=\"true\" msallowfullscreen=\"true\"\n",
              "                    style=\"width:100%; height:500px; border: 1px solid #DDD; overflow: hidden\"\n",
              "                    \n",
              "            >\n",
              "            </iframe>\n",
              "        \n",
              "            <script>\n",
              "                try {\n",
              "                  $(\"#e4b37031-b0f0-4992-a9a1-5c03ed721fdb\").bind('mousewheel', function(e) { e.preventDefault(); });\n",
              "                } catch (e) { console.error('exn catching scroll', e); }\n",
              "            </script>\n",
              "        "
            ]
          },
          "metadata": {},
          "execution_count": 43
        }
      ],
      "source": [],
      "id": "6399723c-cc4a-4c7e-9ffa-ccdbe830a47a"
    },
    {
      "cell_type": "markdown",
      "source": [
        "*   interactive plot of patients can define clusters of patients where obvious groupings might not be available, ie no disease v heealthy, female v male -- and so enabling comparative genomic analysis.\n",
        "\n"
      ],
      "metadata": {
        "id": "xNbyYBQlKe-5"
      },
      "id": "xNbyYBQlKe-5"
    },
    {
      "cell_type": "markdown",
      "source": [
        "## metadata would help us distinguish patient umap"
      ],
      "metadata": {
        "id": "qI5w0ULmMRGz"
      },
      "id": "qI5w0ULmMRGz"
    },
    {
      "cell_type": "code",
      "source": [
        "len(adata2.uns['allcellnames'])"
      ],
      "metadata": {
        "colab": {
          "base_uri": "https://localhost:8080/"
        },
        "id": "OpfFH8Q-M22w",
        "outputId": "f6de8127-2941-4055-a5f6-b8d58f9370c1"
      },
      "id": "OpfFH8Q-M22w",
      "execution_count": 60,
      "outputs": [
        {
          "output_type": "execute_result",
          "data": {
            "text/plain": [
              "143"
            ]
          },
          "metadata": {},
          "execution_count": 60
        }
      ]
    },
    {
      "cell_type": "code",
      "source": [
        "len(adata2.uns['Order'])"
      ],
      "metadata": {
        "colab": {
          "base_uri": "https://localhost:8080/"
        },
        "id": "V_i06bAjMk6g",
        "outputId": "1fbddc09-694e-4bd1-df3d-a08596b2715b"
      },
      "id": "V_i06bAjMk6g",
      "execution_count": 61,
      "outputs": [
        {
          "output_type": "execute_result",
          "data": {
            "text/plain": [
              "143"
            ]
          },
          "metadata": {},
          "execution_count": 61
        }
      ]
    },
    {
      "cell_type": "code",
      "source": [
        "t0 = time.time()\n",
        "\n",
        "# fn='single_cell/GSE67123_6.h5ad'\n",
        "adata2 = sc.read(fn) # sc.read_h5ad\n",
        "str_data_inf_2 = fn.split('/')[1].split('.')[0] + ' ' + str(adata2.X.shape)+'\\n' + adata2.uns['info'][0]\n",
        "\n",
        "EE=pd.DataFrame(adata2.X,columns=adata2.uns['gcsGenesNames'],index=adata2.uns['allcellnames'])\n",
        "g2=graphistry.nodes(cudf.from_pandas(EE))#,columns=adata1.uns['gcsGenesNames']))\n",
        "\n",
        "g22 = g2.umap(\n",
        "            use_scaler='robust', ## zscale, minmax, standard, normal,\n",
        "            n_components=2,\n",
        "            n_neighbors=12,\n",
        "            engine='cuml'\n",
        "    )\n",
        "\n",
        "print('Total ', np.round(time.time() - t0,1), 'seconds passed')\n",
        "\n",
        "\n",
        "emb2=g22._node_embedding\n",
        "\n",
        "A=emb2.reset_index()['index'].to_pandas()#.str.split('|').str[6]#.str.split('|').str[0]#+'_'+data2.Donor\n",
        "emb2.index=A\n",
        "emb2=emb2[~emb2.index.str.contains('Rik')]\n",
        "\n",
        "B=g22._edges\n",
        "B['_src_implicit'] = B['_src_implicit'].replace(A, regex=True)#apply(lambda x: [A[i] for i in x])\n",
        "B['_dst_implicit'] = B['_dst_implicit'].replace(A, regex=True)\n",
        "\n",
        "# g3._edges[g3._edges['_src_implicit']!=g3._edges['_dst_implicit']]\n",
        "g22=graphistry.nodes(emb2.reset_index(),'index').edges(g22._edges.dropna(),'_src_implicit','_dst_implicit').bind(point_x=\"x\",point_y=\"y\").settings(url_params={\"play\":0})\n",
        "\n",
        "g22.plot()"
      ],
      "metadata": {
        "id": "hL7l6hIsJWQE"
      },
      "id": "hL7l6hIsJWQE",
      "execution_count": null,
      "outputs": []
    },
    {
      "cell_type": "markdown",
      "source": [],
      "metadata": {
        "id": "yN1-Fx2wMP82"
      },
      "id": "yN1-Fx2wMP82"
    },
    {
      "cell_type": "code",
      "source": [],
      "metadata": {
        "id": "5bIY0Zg3MBNb"
      },
      "id": "5bIY0Zg3MBNb",
      "execution_count": null,
      "outputs": []
    }
  ],
  "metadata": {
    "accelerator": "GPU",
    "colab": {
      "provenance": [],
      "machine_shape": "hm",
      "gpuType": "T4",
      "include_colab_link": true
    },
    "kernelspec": {
      "display_name": "Python 3",
      "name": "python3"
    },
    "language_info": {
      "codemirror_mode": {
        "name": "ipython",
        "version": 3
      },
      "file_extension": ".py",
      "mimetype": "text/x-python",
      "name": "python",
      "nbconvert_exporter": "python",
      "pygments_lexer": "ipython3",
      "version": "3.8.13"
    }
  },
  "nbformat": 4,
  "nbformat_minor": 5
}