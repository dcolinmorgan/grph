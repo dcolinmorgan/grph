{
  "cells": [
    {
      "cell_type": "markdown",
      "metadata": {
        "id": "view-in-github",
        "colab_type": "text"
      },
      "source": [
        "<a href=\"https://colab.research.google.com/github/dcolinmorgan/grph/blob/main/single_cell_after_gpu.ipynb\" target=\"_parent\"><img src=\"https://colab.research.google.com/assets/colab-badge.svg\" alt=\"Open In Colab\"/></a>"
      ]
    },
    {
      "cell_type": "markdown",
      "metadata": {
        "id": "5n26EioarG4C"
      },
      "source": [
        "## Tutorial: Quick single-cell transcriptomics using GPU UMAP analysis & visualization"
      ],
      "id": "5n26EioarG4C"
    },
    {
      "cell_type": "markdown",
      "metadata": {
        "id": "0f3a459c-fa15-445b-8d65-cb701c063ac9"
      },
      "source": [
        "Using GPU-accelerated UMAP analysis & visualization, single cell data can be analyzed faster and much more easily explored.\n",
        "\n",
        "* Task: Analyze single cell's gene expression for clustering\n",
        "* Data: 5 independent datasets of roughly 30K rows of 200 columns of single cell \n",
        "* [data](https://cytotrace.stanford.edu/#shiny-tab-dataset_download) \n",
        "* [paper](https://arxiv.org/pdf/2208.05229.pdf)\n",
        "\n",
        "**Insight/ Result:**\n",
        "\n",
        "1.   over 5x faster for entire ~10000 cell samples (102s vs 18s)\n",
        "3.   Offers more insight when static plot would otherwise fail\n",
        "\n",
        "\n",
        "(See also: [CPU baseline](https://github.com/dcolinmorgan/grph/blob/main/standard_single_cell_umap_demo.ipynb))"
      ],
      "id": "0f3a459c-fa15-445b-8d65-cb701c063ac9"
    },
    {
      "cell_type": "markdown",
      "metadata": {
        "id": "JAgYkgAsvbnG"
      },
      "source": [
        "## Setup\n",
        "\n",
        "(install cuda packages first)"
      ],
      "id": "JAgYkgAsvbnG"
    },
    {
      "cell_type": "markdown",
      "metadata": {
        "id": "0ZwLVW8c52oZ"
      },
      "source": [
        "### install"
      ],
      "id": "0ZwLVW8c52oZ"
    },
    {
      "cell_type": "code",
      "execution_count": null,
      "metadata": {
        "id": "UYVtE57QBy92"
      },
      "outputs": [],
      "source": [
        "# !pip install --extra-index-url=https://pypi.nvidia.com cuml-cu11==22.10.0 cudf-cu11==22.10.0 cugraph-cu11==22.10.0 pylibraft_cu11==22.10.0 raft_dask_cu11==22.10.0 dask_cudf_cu11==22.10.0 pylibcugraph_cu11==22.10.0 pylibraft_cu11==22.10.0\n",
        "# !pip install graphistry\n",
        "# !pip install scanpy"
      ],
      "id": "UYVtE57QBy92"
    },
    {
      "cell_type": "markdown",
      "metadata": {
        "id": "SIRImWXW58uI"
      },
      "source": [
        "### import / configure"
      ],
      "id": "SIRImWXW58uI"
    },
    {
      "cell_type": "markdown",
      "metadata": {
        "id": "6lK_VrzZT1n7"
      },
      "source": [
        "#### get a free api-key at https://www.graphistry.com/"
      ],
      "id": "6lK_VrzZT1n7"
    },
    {
      "cell_type": "code",
      "execution_count": 10,
      "metadata": {
        "id": "FQUmN0NcTy8z",
        "colab": {
          "base_uri": "https://localhost:8080/",
          "height": 35
        },
        "outputId": "1df92afa-c2d9-4a58-d7c3-8dcf91b4b33e"
      },
      "outputs": [
        {
          "output_type": "execute_result",
          "data": {
            "text/plain": [
              "'0.28.7'"
            ],
            "application/vnd.google.colaboratory.intrinsic+json": {
              "type": "string"
            }
          },
          "metadata": {},
          "execution_count": 10
        }
      ],
      "source": [
        "import scanpy as sc\n",
        "import anndata\n",
        "\n",
        "import graphistry\n",
        "\n",
        "# graphistry.register(api=3,protocol=\"https\", server=\"hub.graphistry.com\", username='dcolinmorgan', password='***') ## key id, secret key\n",
        "graphistry.__version__\n"
      ],
      "id": "FQUmN0NcTy8z"
    },
    {
      "cell_type": "code",
      "execution_count": 2,
      "metadata": {
        "id": "0i3vYvSw-OyK",
        "colab": {
          "base_uri": "https://localhost:8080/"
        },
        "outputId": "59be7ad0-daf2-461b-ba39-621f82babcb6"
      },
      "outputs": [
        {
          "output_type": "stream",
          "name": "stdout",
          "text": [
            "Thu Mar  2 07:24:39 2023       \n",
            "+-----------------------------------------------------------------------------+\n",
            "| NVIDIA-SMI 525.85.12    Driver Version: 525.85.12    CUDA Version: 12.0     |\n",
            "|-------------------------------+----------------------+----------------------+\n",
            "| GPU  Name        Persistence-M| Bus-Id        Disp.A | Volatile Uncorr. ECC |\n",
            "| Fan  Temp  Perf  Pwr:Usage/Cap|         Memory-Usage | GPU-Util  Compute M. |\n",
            "|                               |                      |               MIG M. |\n",
            "|===============================+======================+======================|\n",
            "|   0  Tesla T4            Off  | 00000000:00:04.0 Off |                    0 |\n",
            "| N/A   45C    P0    23W /  70W |      0MiB / 15360MiB |      0%      Default |\n",
            "|                               |                      |                  N/A |\n",
            "+-------------------------------+----------------------+----------------------+\n",
            "                                                                               \n",
            "+-----------------------------------------------------------------------------+\n",
            "| Processes:                                                                  |\n",
            "|  GPU   GI   CI        PID   Type   Process name                  GPU Memory |\n",
            "|        ID   ID                                                   Usage      |\n",
            "|=============================================================================|\n",
            "|  No running processes found                                                 |\n",
            "+-----------------------------------------------------------------------------+\n"
          ]
        }
      ],
      "source": [
        "!nvidia-smi"
      ],
      "id": "0i3vYvSw-OyK"
    },
    {
      "cell_type": "code",
      "execution_count": 3,
      "metadata": {
        "id": "y_CdnuiH-Ras",
        "colab": {
          "base_uri": "https://localhost:8080/",
          "height": 35
        },
        "outputId": "0d9259dd-055b-4c02-f914-02ac99556d07"
      },
      "outputs": [
        {
          "output_type": "execute_result",
          "data": {
            "text/plain": [
              "'22.10.00a+119.gb30ef85c1'"
            ],
            "application/vnd.google.colaboratory.intrinsic+json": {
              "type": "string"
            }
          },
          "metadata": {},
          "execution_count": 3
        }
      ],
      "source": [
        "# This get the RAPIDS-Colab install files and test check your GPU.  Run this and the next cell only.\n",
        "# Please read the output of this cell.  If your Colab Instance is not RAPIDS compatible, it will warn you and give you remediation steps.\n",
        "# !git clone https://github.com/rapidsai/rapidsai-csp-utils.git\n",
        "# !git clone https://github.com/dcolinmorgan/rapidsai-csp-utils/tree/patch-1 \n",
        "# !python rapidsai-csp-utils/colab/pip-install.py\n",
        "\n",
        "import cuml\n",
        "cuml.__version__\n",
        "\n",
        "# import cupy\n",
        "# cudf.__version__"
      ],
      "id": "y_CdnuiH-Ras"
    },
    {
      "cell_type": "code",
      "execution_count": 4,
      "metadata": {
        "id": "33ae99ce-e386-4e97-b5a0-99b86fb6f68a"
      },
      "outputs": [],
      "source": [
        "import os, time\n",
        "from collections import Counter\n",
        "import cProfile\n",
        "import pandas as pd\n",
        "import numpy as np\n",
        "import seaborn as sns\n",
        "import matplotlib.pyplot as plt\n",
        "from pstats import Stats\n",
        "import warnings\n",
        "warnings.filterwarnings('ignore')\n",
        "pd.set_option('display.max_colwidth', 200)"
      ],
      "id": "33ae99ce-e386-4e97-b5a0-99b86fb6f68a"
    },
    {
      "cell_type": "markdown",
      "metadata": {
        "id": "lqWE36v0vU6l"
      },
      "source": [
        "## Data Download & Description"
      ],
      "id": "lqWE36v0vU6l"
    },
    {
      "cell_type": "code",
      "execution_count": null,
      "metadata": {
        "id": "EJqxQGhpHhWb"
      },
      "outputs": [],
      "source": [
        "#download 6 single cell datasets\n",
        "%%bash\n",
        "wget -nc -q https://www.dropbox.com/s/h1k7jy0kad6fguu/GSE107910_40.h5ad.zip\n",
        "wget -nc -q https://www.dropbox.com/s/xza477kxj7vgdlr/GSE67123_6.h5ad.zip\n",
        "\n",
        "unzip -o GSE107910_40.h5ad.zip\n",
        "unzip -o GSE67123_6.h5ad.zip\n",
        "\n",
        "mkdir -p single_cell\n",
        "mv *.h5ad single_cell"
      ],
      "id": "EJqxQGhpHhWb"
    },
    {
      "cell_type": "code",
      "execution_count": 5,
      "metadata": {
        "id": "ff46a8c8-5882-41a6-83ce-eb8c00c2fc70",
        "colab": {
          "base_uri": "https://localhost:8080/"
        },
        "outputId": "076fb8f8-677b-422a-d662-5cfce135d1e6"
      },
      "outputs": [
        {
          "output_type": "stream",
          "name": "stdout",
          "text": [
            "['Thymus (Drop-seq)' 'Validation' '15429' '9307.0' 'nan' '9307' '19530'\n",
            " '8' '8' 'UMI' 'Mouse' '1' 'Thymus' 'Drop-seq' 'Timepoints' 'in vivo'\n",
            " '29884461' '20180619' 'GSE107910' 'Immunity'\n",
            " 'Only hematopoietic cells, selected based on detectable Ptprc expression, were considered in this dataset. ']\n",
            "\n",
            "['Embryonic HSCs (Tang et al.)' 'Validation' '143' 'nan' 'nan' '143'\n",
            " '24028' '5' '5' 'TPM/FPKM' 'Mouse' '1' 'Embryo' 'Tang et al.'\n",
            " 'Timepoints' 'in vivo' '27225119' '20160526' 'GSE67123' 'Nature' 'nan']\n",
            "\n"
          ]
        }
      ],
      "source": [
        "\n",
        "list_files = []\n",
        "for dirname, _, filenames in os.walk('single_cell'):\n",
        "    for filename in filenames:\n",
        "        #print(os.path.join(dirname, filename))\n",
        "        list_files.append(os.path.join(dirname, filename))\n",
        "\n",
        "for fn in list_files:\n",
        "    adata = sc.read(fn) # sc.read_h5ad\n",
        "    print( adata.uns['info'] )\n",
        "    print()"
      ],
      "id": "ff46a8c8-5882-41a6-83ce-eb8c00c2fc70"
    },
    {
      "cell_type": "markdown",
      "metadata": {
        "id": "dQaaHeHu7X54"
      },
      "source": [
        "# scanpy read and compute UMAP for GSE107910_40 Murine Thymus cells\n",
        "\n",
        "\n"
      ],
      "id": "dQaaHeHu7X54"
    },
    {
      "cell_type": "code",
      "execution_count": 39,
      "metadata": {
        "id": "cc6f3beb-13c9-4d11-b8b2-35676f711f50",
        "colab": {
          "base_uri": "https://localhost:8080/"
        },
        "outputId": "da9ace31-21c5-488c-9177-c72db684d803"
      },
      "outputs": [
        {
          "output_type": "stream",
          "name": "stdout",
          "text": [
            "Total  18.7 seconds passed\n"
          ]
        }
      ],
      "source": [
        "fn='single_cell/GSE107910_40.h5ad'\n",
        "adata = sc.read(fn) # sc.read_h5ad\n",
        "str_data_inf = fn.split('/')[1].split('.')[0] + ' ' + str(adata.X.shape)+'\\n' + adata.uns['info'][0]\n",
        "\n",
        "EE=pd.DataFrame(adata.X,columns=adata.uns['gcsGenesNames'],index=adata.uns['allcellnames'])\n",
        "g1=graphistry.nodes(EE.reset_index(),\"index\") #,columns=adata1.uns['gcsGenesNames']))\n",
        "\n",
        "t0 = time.time()\n",
        "\n",
        "g11 = g1.umap(\n",
        "            use_scaler='robust', ## zscale, minmax, standard, normal,\n",
        "            n_components=2,\n",
        "            n_neighbors=12,\n",
        "            engine='cuml'\n",
        "    )\n",
        "\n",
        "print('Total ', np.round(time.time() - t0,1), 'seconds passed')\n"
      ],
      "id": "cc6f3beb-13c9-4d11-b8b2-35676f711f50"
    },
    {
      "cell_type": "code",
      "source": [
        "EE.head()\n",
        "print(EE.shape)"
      ],
      "metadata": {
        "colab": {
          "base_uri": "https://localhost:8080/"
        },
        "id": "Q6rNBYcFQnbe",
        "outputId": "9cad7594-9295-47fe-8599-3e7da33ba5a0"
      },
      "id": "Q6rNBYcFQnbe",
      "execution_count": 38,
      "outputs": [
        {
          "output_type": "stream",
          "name": "stdout",
          "text": [
            "(9307, 18335)\n"
          ]
        }
      ]
    },
    {
      "cell_type": "code",
      "execution_count": 11,
      "metadata": {
        "id": "8USJgBC34bEt",
        "colab": {
          "base_uri": "https://localhost:8080/",
          "height": 543
        },
        "outputId": "2ef3f84f-1ef7-4a14-9dad-6af719dee511"
      },
      "outputs": [
        {
          "output_type": "execute_result",
          "data": {
            "text/plain": [
              "<IPython.core.display.HTML object>"
            ],
            "text/html": [
              "\n",
              "            <iframe id=\"2fe4baee-d3d3-4a33-9161-14805ad7a242\" src=\"https://hub.graphistry.com/graph/graph.html?dataset=8817f86d36d744e2b16efbcf85735461&type=arrow&viztoken=994f3664-cc91-4af5-ac2b-38b4652f277c&usertag=e74b07df-pygraphistry-0.28.7&splashAfter=1677742095&info=true&play=0\"\n",
              "                    allowfullscreen=\"true\" webkitallowfullscreen=\"true\" mozallowfullscreen=\"true\"\n",
              "                    oallowfullscreen=\"true\" msallowfullscreen=\"true\"\n",
              "                    style=\"width:100%; height:500px; border: 1px solid #DDD; overflow: hidden\"\n",
              "                    \n",
              "            >\n",
              "            </iframe>\n",
              "        \n",
              "            <script>\n",
              "                try {\n",
              "                  $(\"#2fe4baee-d3d3-4a33-9161-14805ad7a242\").bind('mousewheel', function(e) { e.preventDefault(); });\n",
              "                } catch (e) { console.error('exn catching scroll', e); }\n",
              "            </script>\n",
              "        "
            ]
          },
          "metadata": {},
          "execution_count": 11
        }
      ],
      "source": [
        "emb1=g11._node_embedding\n",
        "g111=graphistry.nodes(emb1.reset_index(),'index').edges(g11._edges,'_src_implicit','_dst_implicit').bind(point_x=\"x\",point_y=\"y\").settings(url_params={\"play\":0})\n",
        "g111.plot()"
      ],
      "id": "8USJgBC34bEt"
    },
    {
      "cell_type": "markdown",
      "source": [
        "## this paper was specifically interested in peak mitosis genes, ie [\"Tirosh\" genes](https://genome.cshlp.org/content/25/12/1860.short), so lets zoom in on those"
      ],
      "metadata": {
        "id": "ToIOD-XzO7JD"
      },
      "id": "ToIOD-XzO7JD"
    },
    {
      "cell_type": "code",
      "source": [
        "S_phase_genes_Tirosh = ['MCM5', 'PCNA', 'TYMS', 'FEN1', 'MCM2', 'MCM4', 'RRM1', 'UNG', 'GINS2', 'MCM6', 'CDCA7', 'DTL', 'PRIM1', 'UHRF1', 'MLF1IP', 'HELLS', 'RFC2', 'RPA2', 'NASP', 'RAD51AP1', 'GMNN', 'WDR76', 'SLBP', 'CCNE2', 'UBR7', 'POLD3', 'MSH2', 'ATAD2', 'RAD51', 'RRM2', 'CDC45', 'CDC6', 'EXO1', 'TIPIN', 'DSCC1', 'BLM', 'CASP8AP2', 'USP1', 'CLSPN', 'POLA1', 'CHAF1B', 'BRIP1', 'E2F8']\n",
        "G2_M_genes_Tirosh = ['HMGB2', 'CDK1', 'NUSAP1', 'UBE2C', 'BIRC5', 'TPX2', 'TOP2A', 'NDC80', 'CKS2', 'NUF2', 'CKS1B', 'MKI67', 'TMPO', 'CENPF', 'TACC3', 'FAM64A', 'SMC4', 'CCNB2', 'CKAP2L', 'CKAP2', 'AURKB', 'BUB1', 'KIF11', 'ANP32E', 'TUBB4B', 'GTSE1', 'KIF20B', 'HJURP', 'CDCA3', 'HN1', 'CDC20', 'TTK', 'CDC25C', 'KIF2C', 'RANGAP1', 'NCAPD2', 'DLGAP5', 'CDCA2', 'CDCA8', 'ECT2', 'KIF23', 'HMMR', 'AURKA', 'PSRC1', 'ANLN', 'LBR', 'CKAP5', 'CENPE', 'CTCF', 'NEK2', 'G2E3', 'GAS2L3', 'CBX5', 'CENPA']\n",
        "u = 'allgenenames'\n",
        "list_genes_upper = [t.upper() for t in adata.uns[u] ]\n",
        "I = np.where( pd.Series(list_genes_upper).isin( S_phase_genes_Tirosh + G2_M_genes_Tirosh ) )[0]\n"
      ],
      "metadata": {
        "id": "XW2PejpWO4Ta"
      },
      "id": "XW2PejpWO4Ta",
      "execution_count": 40,
      "outputs": []
    },
    {
      "cell_type": "code",
      "source": [
        "EE=pd.DataFrame(adata.X[:,I],columns=adata.uns['gcsGenesNames'][I],index=adata.uns['allcellnames'])\n",
        "g1=graphistry.nodes(EE.reset_index(),\"index\") #,columns=adata1.uns['gcsGenesNames']))\n",
        "\n",
        "t0 = time.time()\n",
        "\n",
        "g11 = g1.umap(\n",
        "            use_scaler='robust', ## zscale, minmax, standard, normal,\n",
        "            n_components=2,\n",
        "            n_neighbors=12,\n",
        "            engine='cuml'\n",
        "    )\n",
        "\n",
        "\n",
        "print('Total ', np.round(time.time() - t0,1), 'seconds passed')\n"
      ],
      "metadata": {
        "colab": {
          "base_uri": "https://localhost:8080/"
        },
        "id": "0X3aqsRCO9gR",
        "outputId": "5ffa0ec7-2546-4219-c544-2e91c85c8063"
      },
      "id": "0X3aqsRCO9gR",
      "execution_count": 42,
      "outputs": [
        {
          "output_type": "stream",
          "name": "stdout",
          "text": [
            "Total  9.6 seconds passed\n"
          ]
        }
      ]
    },
    {
      "cell_type": "code",
      "source": [
        "print(EE.shape)"
      ],
      "metadata": {
        "colab": {
          "base_uri": "https://localhost:8080/"
        },
        "id": "M2Ya-WsBRVx2",
        "outputId": "032305c6-f27a-4ab0-9f76-50241f0a4d74"
      },
      "id": "M2Ya-WsBRVx2",
      "execution_count": 45,
      "outputs": [
        {
          "output_type": "stream",
          "name": "stdout",
          "text": [
            "(9307, 96)\n"
          ]
        }
      ]
    },
    {
      "cell_type": "code",
      "source": [
        "emb1=g11._node_embedding\n",
        "g111=graphistry.nodes(emb1.reset_index(),'index').edges(g11._edges,'_src_implicit','_dst_implicit').bind(point_x=\"x\",point_y=\"y\").settings(url_params={\"play\":0})\n",
        "g111.plot()"
      ],
      "metadata": {
        "colab": {
          "base_uri": "https://localhost:8080/",
          "height": 543
        },
        "id": "OIxdQw4DO9jF",
        "outputId": "3eaaa4ac-bbf0-42e3-af65-82d6561cb47a"
      },
      "id": "OIxdQw4DO9jF",
      "execution_count": 33,
      "outputs": [
        {
          "output_type": "execute_result",
          "data": {
            "text/plain": [
              "<IPython.core.display.HTML object>"
            ],
            "text/html": [
              "\n",
              "            <iframe id=\"a20ce74b-43f6-49c9-b6cf-61b03bcea726\" src=\"https://hub.graphistry.com/graph/graph.html?dataset=8db4cadbbfe347f596f4b1712c4259a7&type=arrow&viztoken=288e53a1-00be-44cd-8c88-fcd477d40def&usertag=e74b07df-pygraphistry-0.28.7&splashAfter=1677742557&info=true&play=0\"\n",
              "                    allowfullscreen=\"true\" webkitallowfullscreen=\"true\" mozallowfullscreen=\"true\"\n",
              "                    oallowfullscreen=\"true\" msallowfullscreen=\"true\"\n",
              "                    style=\"width:100%; height:500px; border: 1px solid #DDD; overflow: hidden\"\n",
              "                    \n",
              "            >\n",
              "            </iframe>\n",
              "        \n",
              "            <script>\n",
              "                try {\n",
              "                  $(\"#a20ce74b-43f6-49c9-b6cf-61b03bcea726\").bind('mousewheel', function(e) { e.preventDefault(); });\n",
              "                } catch (e) { console.error('exn catching scroll', e); }\n",
              "            </script>\n",
              "        "
            ]
          },
          "metadata": {},
          "execution_count": 33
        }
      ]
    },
    {
      "cell_type": "markdown",
      "metadata": {
        "id": "v3L0TeFs7efg"
      },
      "source": [
        "# GSE67123_6 Embryonic HSCs\n",
        "\n",
        "\n",
        "\n",
        "*   static t-SNE and UMAP are not so telling...\n",
        "*   interactive plot allows more thorough investigations\n",
        "\n"
      ],
      "id": "v3L0TeFs7efg"
    },
    {
      "cell_type": "code",
      "execution_count": 19,
      "metadata": {
        "id": "R_6Gx8p8Hx6b",
        "colab": {
          "base_uri": "https://localhost:8080/",
          "height": 663
        },
        "outputId": "f95165e6-7862-45b9-9f2c-478dfaa0790f"
      },
      "outputs": [
        {
          "output_type": "display_data",
          "data": {
            "text/plain": [
              "<Figure size 1440x720 with 2 Axes>"
            ],
            "image/png": "[encoded data removed]"
          },
          "metadata": {
            "needs_background": "light"
          }
        }
      ],
      "source": [
        "fig,ax = plt.subplots(1,2, figsize = (20,10)); c = 0\n",
        "ax[0].set_title('TSNE')\n",
        "ax[1].set_title('UMAP')\n",
        "plt.suptitle(' all genes ' +str_data_inf_2 + ' Shape: ' + str(adata2.X.shape) , fontsize = 20  )\n",
        "\n",
        "sns.scatterplot(x = adata2.uns['X_tsne'][:,0], y = adata2.uns['X_tsne'][:,1]  , hue = adata2.uns['Phenotype'],ax=ax[0])\n",
        "\n",
        "sns.scatterplot(x = adata2.uns['X_umap'][:,0], y = adata2.uns['X_umap'][:,1]  , hue = adata2.uns['Phenotype'],ax=ax[1])\n",
        "\n",
        "plt.show()"
      ],
      "id": "R_6Gx8p8Hx6b"
    },
    {
      "cell_type": "code",
      "execution_count": 17,
      "metadata": {
        "id": "iiDCdRF7wGHX",
        "colab": {
          "base_uri": "https://localhost:8080/"
        },
        "outputId": "f00a1e6d-3a97-40d7-9150-80e763071106"
      },
      "outputs": [
        {
          "output_type": "stream",
          "name": "stdout",
          "text": [
            "Total  6.8 seconds passed\n"
          ]
        }
      ],
      "source": [
        "t0 = time.time()\n",
        "\n",
        "fn='single_cell/GSE67123_6.h5ad'\n",
        "adata2 = sc.read(fn) # sc.read_h5ad\n",
        "str_data_inf_2 = fn.split('/')[1].split('.')[0] + ' ' + str(adata2.X.shape)+'\\n' + adata2.uns['info'][0]\n",
        "\n",
        "EE=pd.DataFrame(adata2.X,columns=adata2.uns['gcsGenesNames'],index=adata2.uns['allcellnames'])\n",
        "g2=graphistry.nodes(EE.reset_index(),\"index\")#,columns=adata1.uns['gcsGenesNames']))\n",
        "\n",
        "g22 = g2.umap(\n",
        "            use_scaler='robust', ## zscale, minmax, standard, normal,\n",
        "            n_components=2,\n",
        "            n_neighbors=12,\n",
        "            engine='cuml'\n",
        "    )\n",
        "\n",
        "print('Total ', np.round(time.time() - t0,1), 'seconds passed')\n"
      ],
      "id": "iiDCdRF7wGHX"
    },
    {
      "cell_type": "code",
      "execution_count": 18,
      "metadata": {
        "id": "6399723c-cc4a-4c7e-9ffa-ccdbe830a47a",
        "colab": {
          "base_uri": "https://localhost:8080/",
          "height": 543
        },
        "outputId": "314daa0c-9c49-4b00-dbf4-066ad5e7a271"
      },
      "outputs": [
        {
          "output_type": "execute_result",
          "data": {
            "text/plain": [
              "<IPython.core.display.HTML object>"
            ],
            "text/html": [
              "\n",
              "            <iframe id=\"6ccc4b8d-f0b3-4bec-8ccc-c4911e4cdfd5\" src=\"https://hub.graphistry.com/graph/graph.html?dataset=a8149ea94eab4c27b41fbd566ab2ad0c&type=arrow&viztoken=d9329f1f-a3da-4f5f-9c1d-731d5d8258d2&usertag=e74b07df-pygraphistry-0.28.7&splashAfter=1677742234&info=true&play=0\"\n",
              "                    allowfullscreen=\"true\" webkitallowfullscreen=\"true\" mozallowfullscreen=\"true\"\n",
              "                    oallowfullscreen=\"true\" msallowfullscreen=\"true\"\n",
              "                    style=\"width:100%; height:500px; border: 1px solid #DDD; overflow: hidden\"\n",
              "                    \n",
              "            >\n",
              "            </iframe>\n",
              "        \n",
              "            <script>\n",
              "                try {\n",
              "                  $(\"#6ccc4b8d-f0b3-4bec-8ccc-c4911e4cdfd5\").bind('mousewheel', function(e) { e.preventDefault(); });\n",
              "                } catch (e) { console.error('exn catching scroll', e); }\n",
              "            </script>\n",
              "        "
            ]
          },
          "metadata": {},
          "execution_count": 18
        }
      ],
      "source": [
        "emb2=g22._node_embedding\n",
        "g222=graphistry.nodes(emb2.reset_index(),'index').edges(g22._edges,'_src_implicit','_dst_implicit').bind(point_x=\"x\",point_y=\"y\").settings(url_params={\"play\":0})\n",
        "g222.plot()"
      ],
      "id": "6399723c-cc4a-4c7e-9ffa-ccdbe830a47a"
    },
    {
      "cell_type": "code",
      "execution_count": null,
      "metadata": {
        "id": "py-VsYy7w65j"
      },
      "outputs": [],
      "source": [],
      "id": "py-VsYy7w65j"
    }
  ],
  "metadata": {
    "accelerator": "GPU",
    "colab": {
      "provenance": [],
      "include_colab_link": true
    },
    "gpuClass": "standard",
    "kernelspec": {
      "display_name": "Python 3 (ipykernel)",
      "language": "python",
      "name": "python3"
    },
    "language_info": {
      "codemirror_mode": {
        "name": "ipython",
        "version": 3
      },
      "file_extension": ".py",
      "mimetype": "text/x-python",
      "name": "python",
      "nbconvert_exporter": "python",
      "pygments_lexer": "ipython3",
      "version": "3.8.13"
    }
  },
  "nbformat": 4,
  "nbformat_minor": 5
}