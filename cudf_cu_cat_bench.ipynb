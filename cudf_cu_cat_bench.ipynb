{
  "cells": [
    {
      "cell_type": "markdown",
      "metadata": {
        "id": "view-in-github",
        "colab_type": "text"
      },
      "source": [
        "<a href=\"https://colab.research.google.com/github/dcolinmorgan/grph/blob/main/cudf_cu_cat_bench.ipynb\" target=\"_parent\"><img src=\"https://colab.research.google.com/assets/colab-badge.svg\" alt=\"Open In Colab\"/></a>"
      ]
    },
    {
      "cell_type": "code",
      "execution_count": 1,
      "metadata": {
        "id": "3398dccc-fc11-4fcd-a6b8-7e3baf0c108d"
      },
      "outputs": [],
      "source": [
        "import locale\n",
        "def getpreferredencoding(do_setlocale = True):\n",
        "    return \"UTF-8\"\n",
        "locale.getpreferredencoding = getpreferredencoding"
      ],
      "id": "3398dccc-fc11-4fcd-a6b8-7e3baf0c108d"
    },
    {
      "cell_type": "code",
      "execution_count": null,
      "metadata": {
        "id": "515b40ff-6af7-4160-a0d0-4b6dddb88485",
        "colab": {
          "base_uri": "https://localhost:8080/"
        },
        "outputId": "7da9b939-9b1d-48be-ad6b-bcaae502e73d"
      },
      "outputs": [
        {
          "output_type": "stream",
          "name": "stdout",
          "text": [
            "Looking in indexes: https://pypi.org/simple, https://us-python.pkg.dev/colab-wheels/public/simple/, https://pypi.nvidia.com\n",
            "Collecting cuml-cu11==22.10.0\n",
            "  Downloading https://pypi.nvidia.com/cuml-cu11/cuml_cu11-22.10.0-cp39-cp39-manylinux_2_17_x86_64.manylinux2014_x86_64.whl (1262.9 MB)\n",
            "\u001b[2K     \u001b[90m━━━━━━━━━━━━━━━━━━━━━━━━━━━━━━━━━━━━━━━━\u001b[0m \u001b[32m1.3/1.3 GB\u001b[0m \u001b[31m1.3 MB/s\u001b[0m eta \u001b[36m0:00:00\u001b[0m\n",
            "\u001b[?25hCollecting cudf-cu11==22.10.0\n",
            "  Downloading https://pypi.nvidia.com/cudf-cu11/cudf_cu11-22.10.0-cp39-cp39-manylinux_2_17_x86_64.manylinux2014_x86_64.whl (435.2 MB)\n",
            "\u001b[2K     \u001b[90m━━━━━━━━━━━━━━━━━━━━━━━━━━━━━━━━━━━━━━━\u001b[0m \u001b[32m435.2/435.2 MB\u001b[0m \u001b[31m3.6 MB/s\u001b[0m eta \u001b[36m0:00:00\u001b[0m\n",
            "\u001b[?25hCollecting cugraph-cu11==22.10.0\n",
            "  Downloading https://pypi.nvidia.com/cugraph-cu11/cugraph_cu11-22.10.0-cp39-cp39-manylinux_2_17_x86_64.manylinux2014_x86_64.whl (1427.0 MB)\n",
            "\u001b[2K     \u001b[90m━━━━━━━━━━━━━━━━━━━━━━━━━━━━━━━━━━━━━━━━\u001b[0m \u001b[32m1.4/1.4 GB\u001b[0m \u001b[31m1.2 MB/s\u001b[0m eta \u001b[36m0:00:00\u001b[0m\n",
            "\u001b[?25hCollecting pylibraft_cu11==22.10.0\n",
            "  Downloading https://pypi.nvidia.com/pylibraft-cu11/pylibraft_cu11-22.10.0-cp39-cp39-manylinux_2_17_x86_64.manylinux2014_x86_64.whl (138.5 MB)\n",
            "\u001b[2K     \u001b[90m━━━━━━━━━━━━━━━━━━━━━━━━━━━━━━━━━━━━━━━\u001b[0m \u001b[32m138.5/138.5 MB\u001b[0m \u001b[31m8.8 MB/s\u001b[0m eta \u001b[36m0:00:00\u001b[0m\n",
            "\u001b[?25hCollecting raft_dask_cu11==22.10.0\n",
            "  Downloading https://pypi.nvidia.com/raft-dask-cu11/raft_dask_cu11-22.10.0-cp39-cp39-manylinux_2_17_x86_64.manylinux2014_x86_64.whl (210.5 MB)\n",
            "\u001b[2K     \u001b[90m━━━━━━━━━━━━━━━━━━━━━━━━━━━━━━━━━━━━━━━\u001b[0m \u001b[32m210.5/210.5 MB\u001b[0m \u001b[31m6.8 MB/s\u001b[0m eta \u001b[36m0:00:00\u001b[0m\n",
            "\u001b[?25hCollecting dask_cudf_cu11==22.10.0\n",
            "  Downloading https://pypi.nvidia.com/dask-cudf-cu11/dask_cudf_cu11-22.10.0-py3-none-any.whl (73 kB)\n",
            "\u001b[2K     \u001b[90m━━━━━━━━━━━━━━━━━━━━━━━━━━━━━━━━━━━━━━━━\u001b[0m \u001b[32m73.1/73.1 kB\u001b[0m \u001b[31m9.9 MB/s\u001b[0m eta \u001b[36m0:00:00\u001b[0m\n",
            "\u001b[?25hCollecting pylibcugraph_cu11==22.10.0\n",
            "  Downloading https://pypi.nvidia.com/pylibcugraph-cu11/pylibcugraph_cu11-22.10.0-cp39-cp39-manylinux_2_17_x86_64.manylinux2014_x86_64.whl (1422.3 MB)\n",
            "\u001b[2K     \u001b[91m━━━━━━━━━━━━━━━━━━━━━━━━━━━━━━━\u001b[0m\u001b[90m╺\u001b[0m\u001b[90m━━━━━━━━\u001b[0m \u001b[32m1.1/1.4 GB\u001b[0m \u001b[31m179.9 MB/s\u001b[0m eta \u001b[36m0:00:02\u001b[0m"
          ]
        }
      ],
      "source": [
        "!pip install --extra-index-url=https://pypi.nvidia.com cuml-cu11==22.10.0 cudf-cu11==22.10.0 cugraph-cu11==22.10.0 pylibraft_cu11==22.10.0 raft_dask_cu11==22.10.0 dask_cudf_cu11==22.10.0 pylibcugraph_cu11==22.10.0 pylibraft_cu11==22.10.0\n",
        "!pip install -U git+https://github.com/graphistry/pygraphistry.git@cudf-final #_cat_alex\n",
        "!pip install -U git+https://github.com/graphistry/cu-cat.git@cudf_cat_regpt #-dc #@0.01.0"
      ],
      "id": "515b40ff-6af7-4160-a0d0-4b6dddb88485"
    },
    {
      "cell_type": "code",
      "execution_count": null,
      "metadata": {
        "id": "f61ad51b-f4fa-4706-a91b-b72a92ecf39c"
      },
      "outputs": [],
      "source": [
        "import cuml,cudf\n",
        "cuml.__version__"
      ],
      "id": "f61ad51b-f4fa-4706-a91b-b72a92ecf39c"
    },
    {
      "cell_type": "code",
      "execution_count": null,
      "metadata": {
        "id": "acaa3721-5277-40f5-bddc-652d82d021d3"
      },
      "outputs": [],
      "source": [
        "!echo \"0.01.0\" > VERSION.txt\n",
        "# !cp VERSION.txt /root/.local/lib/python3.9/site-packages/cu_cat/\n",
        "!cp VERSION.txt /usr/local/lib/python3.9/dist-packages/cu_cat/"
      ],
      "id": "acaa3721-5277-40f5-bddc-652d82d021d3"
    },
    {
      "cell_type": "code",
      "execution_count": null,
      "metadata": {
        "id": "65e8dccf-5b22-469b-b1db-1dcccaea2517"
      },
      "outputs": [],
      "source": [
        "# from importlib import reload\n",
        "# reload(cu_cat)\n",
        "import cu_cat\n",
        "print(cu_cat.__file__)"
      ],
      "id": "65e8dccf-5b22-469b-b1db-1dcccaea2517"
    },
    {
      "cell_type": "code",
      "execution_count": null,
      "metadata": {
        "id": "a32fccec-327d-4328-9672-86baf42e11ca"
      },
      "outputs": [],
      "source": [
        "import os\n",
        "from collections import Counter\n",
        "import cProfile\n",
        "import pandas as pd\n",
        "import numpy as np\n",
        "import matplotlib.pyplot as plt\n",
        "from pstats import Stats\n",
        "import warnings\n",
        "warnings.filterwarnings('ignore')\n",
        "pd.set_option('display.max_colwidth', 200)\n"
      ],
      "id": "a32fccec-327d-4328-9672-86baf42e11ca"
    },
    {
      "cell_type": "code",
      "execution_count": null,
      "metadata": {
        "id": "fb4ef11c-5e1d-4f36-a8a0-ae58fc0f0317"
      },
      "outputs": [],
      "source": [
        "import graphistry\n",
        "graphistry.register(api=3,protocol=\"https\", server=\"hub.graphistry.com\", username='dcolinmorgan', password='***') ## key id, secret key\n",
        "graphistry.__version__\n"
      ],
      "id": "fb4ef11c-5e1d-4f36-a8a0-ae58fc0f0317"
    },
    {
      "cell_type": "code",
      "execution_count": null,
      "metadata": {
        "id": "xOXv_NNaCe_t"
      },
      "outputs": [],
      "source": [
        "import logging\n",
        "logger = logging.getLogger()\n"
      ],
      "id": "xOXv_NNaCe_t"
    },
    {
      "cell_type": "markdown",
      "metadata": {
        "id": "b9fa2d4e-53e8-4eb5-bdbf-c5c1908159ad"
      },
      "source": [
        "### redteam"
      ],
      "id": "b9fa2d4e-53e8-4eb5-bdbf-c5c1908159ad"
    },
    {
      "cell_type": "code",
      "execution_count": null,
      "metadata": {
        "colab": {
          "base_uri": "https://localhost:8080/"
        },
        "id": "3fe52faa-c35c-492e-98c1-7cfc46888a5f",
        "outputId": "b10482b4-32e2-4fa6-edd0-ad3b6746e749"
      },
      "outputs": [
        {
          "data": {
            "text/plain": [
              "749.0"
            ]
          },
          "execution_count": 11,
          "metadata": {},
          "output_type": "execute_result"
        }
      ],
      "source": [
        "df = pd.read_csv('https://gist.githubusercontent.com/silkspace/c7b50d0c03dc59f63c48d68d696958ff/raw/31d918267f86f8252d42d2e9597ba6fc03fcdac2/redteam_50k.csv', index_col=0)\n",
        "red_team = pd.read_csv('https://gist.githubusercontent.com/silkspace/5cf5a94b9ac4b4ffe38904f20d93edb1/raw/888dabd86f88ea747cf9ff5f6c44725e21536465/redteam_labels.csv', index_col=0)\n",
        "df['feats'] = df.src_computer + ' ' + df.dst_computer + ' ' + df.auth_type + ' ' + df.logontype\n",
        "df['feats2'] = df.src_computer + ' ' + df.dst_computer\n",
        "ndf = df.drop_duplicates(subset=['feats'])\n",
        "tdf = pd.concat([red_team.reset_index(), ndf.reset_index()])\n",
        "tdf['node'] = range(len(tdf))\n",
        "tdf.RED.sum()"
      ],
      "id": "3fe52faa-c35c-492e-98c1-7cfc46888a5f"
    },
    {
      "cell_type": "code",
      "execution_count": null,
      "metadata": {
        "colab": {
          "base_uri": "https://localhost:8080/"
        },
        "id": "28017a3b-6a39-4c33-8d6d-78cecb73ecf2",
        "outputId": "6fbc8279-2a82-4816-e39b-940bffebf263"
      },
      "outputs": [
        {
          "name": "stderr",
          "output_type": "stream",
          "text": [
            "WARNING:graphistry.umap_utils:* Ignoring target column of shape (19762, 0) in UMAP fit, as it is not one dimensional"
          ]
        },
        {
          "name": "stdout",
          "output_type": "stream",
          "text": [
            "         10092281 function calls (9932164 primitive calls) in 98.313 seconds\n",
            "\n",
            "   Ordered by: internal time\n",
            "   List reduced from 2564 to 20 due to restriction <20>\n",
            "\n",
            "   ncalls  tottime  percall  cumtime  percall filename:lineno(function)\n",
            "        8   23.027    2.878   37.824    4.728 /usr/local/lib/python3.9/dist-packages/cu_cat/_gap_encoder.py:1015(_multiplicative_update_h_smallfast)\n",
            "        3   13.850    4.617   13.850    4.617 /usr/local/lib/python3.9/dist-packages/numpy/lib/arraysetops.py:519(in1d)\n",
            "       42    9.903    0.236    9.903    0.236 {built-in method cupy_backends.cuda.libs.nvrtc.compileProgram}\n",
            "43132/42900    7.746    0.000   21.748    0.001 {built-in method numpy.core._multiarray_umath.implement_array_function}\n",
            "    39524    7.580    0.000    9.068    0.000 /usr/local/lib/python3.9/dist-packages/pandas/core/missing.py:61(mask_missing)\n",
            "        1    7.358    7.358    8.647    8.647 /usr/local/lib/python3.9/dist-packages/cuml/internals/api_decorators.py:397(inner_with_setters)\n",
            "     4855    4.832    0.001    4.889    0.001 /usr/local/lib/python3.9/dist-packages/rmm/rmm.py:216(rmm_cupy_allocator)\n",
            "    39569    3.499    0.000    3.499    0.000 {method 'copy' of 'numpy.ndarray' objects}\n",
            "      244    3.276    0.013    3.278    0.013 {built-in method cupy._core._routines_linalg.matmul}\n",
            "       34    3.021    0.089    3.028    0.089 /usr/local/lib/python3.9/dist-packages/cudf/core/column/column.py:246(from_arrow)\n",
            "    79499    1.932    0.000    1.932    0.000 {method 'reduce' of 'numpy.ufunc' objects}\n",
            "      250    1.336    0.005    1.336    0.005 {built-in method cupy.cuda.device.get_cusparse_handle}\n",
            "        7    1.142    0.163    3.517    0.502 /usr/local/lib/python3.9/dist-packages/sklearn/feature_extraction/text.py:1258(_count_vocab)\n",
            "    63053    0.953    0.000    1.326    0.000 /usr/local/lib/python3.9/dist-packages/sklearn/feature_extraction/text.py:275(_char_ngrams)\n",
            "      239    0.539    0.002    0.738    0.003 /usr/local/lib/python3.9/dist-packages/cupyx/scipy/sparse/csr.py:148(__mul__)\n",
            "1680277/1521995    0.499    0.000    0.904    0.000 {built-in method builtins.isinstance}\n",
            "       31    0.371    0.012    0.371    0.012 {built-in method scipy.sparse._sparsetools.csc_tocsr}\n",
            "   118661    0.340    0.000    0.755    0.000 /usr/local/lib/python3.9/dist-packages/pandas/core/dtypes/cast.py:2187(np_can_hold_element)\n",
            "    39666    0.330    0.000    0.330    0.000 {built-in method numpy.zeros}\n",
            "        5    0.303    0.061    2.795    0.559 /usr/local/lib/python3.9/dist-packages/cu_cat/_gap_encoder.py:918(_multiplicative_update_w_smallfast)\n",
            "\n",
            "\n",
            "CPU times: user 1min 13s, sys: 11.4 s, total: 1min 25s\n",
            "Wall time: 1min 38s\n"
          ]
        }
      ],
      "source": [
        "%%time\n",
        "# process = True  # set to false after it's run for ease of speed\n",
        "pr = cProfile.Profile()\n",
        "pr.enable()\n",
        "\n",
        "g = graphistry.nodes(tdf, 'node')\n",
        "\n",
        "g5a = g.umap(X=['feats'], \n",
        "            min_words=1000000, # force high so that we don't use Sentence Transformers\n",
        "            cardinality_threshold=4, # set low so we force topic model\n",
        "            n_topics=32, # number of topics\n",
        "            use_scaler=None,\n",
        "            feature_engine='cu_cat',\n",
        "            memoize=False,\n",
        "             remove_node_column=False,\n",
        "            engine='cuml',\n",
        "            use_scaler_target=None\n",
        "           )\n",
        "\n",
        "pr.disable()\n",
        "stats = Stats(pr)\n",
        "stats.sort_stats('tottime').print_stats(20)\n",
        "\n",
        "with open('redteam_umap_cu_cat.txt', 'w') as stream:\n",
        "    stats = Stats(pr,stream=stream)\n",
        "    stats.sort_stats('tottime').print_stats(20)"
      ],
      "id": "28017a3b-6a39-4c33-8d6d-78cecb73ecf2"
    },
    {
      "cell_type": "code",
      "execution_count": null,
      "metadata": {
        "colab": {
          "base_uri": "https://localhost:8080/"
        },
        "id": "df94cfc1-ef21-4ff8-b81f-8f5b08968129",
        "outputId": "95b13d9f-a272-4547-ab6e-93c9f30de182"
      },
      "outputs": [
        {
          "name": "stderr",
          "output_type": "stream",
          "text": [
            "WARNING:root:Target is not of type(DataFrame) and has no columnsWARNING:graphistry.umap_utils:* Ignoring target column of shape (19762, 0) in UMAP fit, as it is not one dimensional"
          ]
        },
        {
          "name": "stdout",
          "output_type": "stream",
          "text": [
            "         5077691 function calls (4995804 primitive calls) in 47.269 seconds\n",
            "\n",
            "   Ordered by: internal time\n",
            "   List reduced from 2434 to 20 due to restriction <20>\n",
            "\n",
            "   ncalls  tottime  percall  cumtime  percall filename:lineno(function)\n",
            "        8   22.658    2.832   28.505    3.563 /usr/local/lib/python3.9/dist-packages/cu_cat/_gap_encoder.py:1015(_multiplicative_update_h_smallfast)\n",
            "        3   13.874    4.625   13.874    4.625 /usr/local/lib/python3.9/dist-packages/numpy/lib/arraysetops.py:519(in1d)\n",
            "     5061    5.423    0.001    5.478    0.001 /usr/local/lib/python3.9/dist-packages/rmm/rmm.py:216(rmm_cupy_allocator)\n",
            "        7    0.753    0.108    2.358    0.337 /usr/local/lib/python3.9/dist-packages/sklearn/feature_extraction/text.py:1258(_count_vocab)\n",
            "    63053    0.603    0.000    0.862    0.000 /usr/local/lib/python3.9/dist-packages/sklearn/feature_extraction/text.py:275(_char_ngrams)\n",
            "      248    0.525    0.002    0.701    0.003 /usr/local/lib/python3.9/dist-packages/cupyx/scipy/sparse/csr.py:148(__mul__)\n",
            "       31    0.288    0.009    0.288    0.009 {built-in method scipy.sparse._sparsetools.csc_tocsr}\n",
            "  2856411    0.210    0.000    0.210    0.000 {method 'append' of 'list' objects}\n",
            "        1    0.206    0.206    0.206    0.206 {built-in method cupy_backends.cuda.libs.nvrtc.compileProgram}\n",
            "        5    0.197    0.039    0.751    0.150 /usr/local/lib/python3.9/dist-packages/cu_cat/_gap_encoder.py:918(_multiplicative_update_w_smallfast)\n",
            "   109832    0.177    0.000    0.177    0.000 {method 'extend' of 'array.array' objects}\n",
            "   109832    0.125    0.000    1.165    0.000 /usr/local/lib/python3.9/dist-packages/sklearn/feature_extraction/text.py:75(_analyze)\n",
            "        1    0.095    0.095    0.125    0.125 /usr/local/lib/python3.9/dist-packages/cuml/internals/api_decorators.py:397(inner_with_setters)\n",
            "2368/2358    0.090    0.000    0.090    0.000 {built-in method numpy.asarray}\n",
            "       31    0.085    0.003    0.085    0.003 {built-in method scipy.sparse._sparsetools.csr_matmat}\n",
            "        7    0.077    0.011    0.077    0.011 /usr/local/lib/python3.9/dist-packages/cu_cat/_gap_encoder.py:169(_get_H)\n",
            "        7    0.071    0.010    0.071    0.010 {built-in method scipy.sparse._sparsetools.csr_sort_indices}\n",
            "   102578    0.058    0.000    0.058    0.000 {method 'sub' of 're.Pattern' objects}\n",
            "        1    0.053    0.053   14.933   14.933 /usr/local/lib/python3.9/dist-packages/cu_cat/_gap_encoder.py:256(fit)\n",
            "   109832    0.050    0.000    0.066    0.000 /usr/local/lib/python3.9/dist-packages/sklearn/feature_extraction/text.py:213(decode)\n",
            "\n",
            "\n",
            "CPU times: user 38.3 s, sys: 6.5 s, total: 44.8 s\n",
            "Wall time: 47.5 s\n"
          ]
        }
      ],
      "source": [
        "%%time\n",
        "# process = True  # set to false after it's run for ease of speed\n",
        "pr = cProfile.Profile()\n",
        "pr.enable()\n",
        "\n",
        "g = graphistry.nodes(cudf.from_pandas(tdf), 'node')\n",
        "\n",
        "g5b = g.umap(X=['feats'], \n",
        "            min_words=1000000, # force high so that we don't use Sentence Transformers\n",
        "            cardinality_threshold=4, # set low so we force topic model\n",
        "            n_topics=32, # number of topics\n",
        "            use_scaler=None,\n",
        "            feature_engine='cu_cat',\n",
        "            memoize=False,\n",
        "             remove_node_column=False,\n",
        "            engine='cuml',\n",
        "            use_scaler_target=None\n",
        "           )\n",
        "\n",
        "pr.disable()\n",
        "stats = Stats(pr)\n",
        "stats.sort_stats('tottime').print_stats(20)\n",
        "\n",
        "with open('redteam_umap_cudf_cu_cat.txt', 'w') as stream:\n",
        "    stats = Stats(pr,stream=stream)\n",
        "    stats.sort_stats('tottime').print_stats(20)"
      ],
      "id": "df94cfc1-ef21-4ff8-b81f-8f5b08968129"
    },
    {
      "cell_type": "code",
      "execution_count": null,
      "metadata": {
        "id": "33gBHa-nGv_k"
      },
      "outputs": [],
      "source": [
        "!pip install dirty_cat"
      ],
      "id": "33gBHa-nGv_k"
    },
    {
      "cell_type": "code",
      "execution_count": null,
      "metadata": {
        "colab": {
          "base_uri": "https://localhost:8080/"
        },
        "id": "343d14cc-e1e4-4f6c-aa0d-ff4e6f0dcefa",
        "outputId": "7418dd64-9d13-428e-cf21-029f0eb1ce4c"
      },
      "outputs": [
        {
          "name": "stderr",
          "output_type": "stream",
          "text": [
            "WARNING:graphistry.umap_utils:* Ignoring target column of shape (19762, 0) in UMAP fit, as it is not one dimensional"
          ]
        },
        {
          "name": "stdout",
          "output_type": "stream",
          "text": [
            "         28575026 function calls (28415304 primitive calls) in 103.171 seconds\n",
            "\n",
            "   Ordered by: internal time\n",
            "   List reduced from 2520 to 20 due to restriction <20>\n",
            "\n",
            "   ncalls  tottime  percall  cumtime  percall filename:lineno(function)\n",
            "2872739/2872500   20.671    0.000   36.063    0.000 {built-in method numpy.core._multiarray_umath.implement_array_function}\n",
            "     1054   16.788    0.016   45.640    0.043 /usr/local/lib/python3.9/dist-packages/dirty_cat/_gap_encoder.py:1003(_multiplicative_update_h)\n",
            "        3   15.163    5.054   15.163    5.054 /usr/local/lib/python3.9/dist-packages/numpy/lib/arraysetops.py:519(in1d)\n",
            "    39524    6.915    0.000    8.488    0.000 /usr/local/lib/python3.9/dist-packages/pandas/core/missing.py:61(mask_missing)\n",
            "      775    4.224    0.005   12.491    0.016 /usr/local/lib/python3.9/dist-packages/dirty_cat/_gap_encoder.py:971(_multiplicative_update_w)\n",
            "   272946    3.572    0.000    7.499    0.000 /usr/local/lib/python3.9/dist-packages/scipy/sparse/_sputils.py:147(get_index_dtype)\n",
            "    39616    3.334    0.000    3.334    0.000 {method 'copy' of 'numpy.ndarray' objects}\n",
            "   134889    3.173    0.000    8.847    0.000 /usr/local/lib/python3.9/dist-packages/scipy/sparse/_compressed.py:136(check_format)\n",
            "  2284157    2.494    0.000   15.329    0.000 <__array_function__ internals>:177(dot)\n",
            "    90353    2.272    0.000    2.272    0.000 {method 'reduce' of 'numpy.ufunc' objects}\n",
            "   585424    1.689    0.000    1.689    0.000 /usr/local/lib/python3.9/dist-packages/numpy/core/getlimits.py:647(__init__)\n",
            "134889/134858    1.612    0.000   18.884    0.000 /usr/local/lib/python3.9/dist-packages/scipy/sparse/_compressed.py:26(__init__)\n",
            "        7    1.003    0.143    3.047    0.435 /usr/local/lib/python3.9/dist-packages/sklearn/feature_extraction/text.py:1258(_count_vocab)\n",
            "   134889    1.001    0.000    2.200    0.000 /usr/local/lib/python3.9/dist-packages/scipy/sparse/_compressed.py:1168(prune)\n",
            "   133914    0.890    0.000   19.080    0.000 /usr/local/lib/python3.9/dist-packages/scipy/sparse/_csr.py:236(__iter__)\n",
            "   488367    0.849    0.000    0.849    0.000 {built-in method numpy.array}\n",
            "    63053    0.785    0.000    1.092    0.000 /usr/local/lib/python3.9/dist-packages/sklearn/feature_extraction/text.py:275(_char_ngrams)\n",
            "   136442    0.782    0.000    1.547    0.000 /usr/local/lib/python3.9/dist-packages/scipy/sparse/_sputils.py:295(check_shape)\n",
            "2252418/2094136    0.670    0.000    1.086    0.000 {built-in method builtins.isinstance}\n",
            "   136411    0.653    0.000    0.665    0.000 /usr/local/lib/python3.9/dist-packages/scipy/sparse/_sputils.py:238(isshape)\n",
            "\n",
            "\n",
            "CPU times: user 1min 32s, sys: 29.1 s, total: 2min 1s\n",
            "Wall time: 1min 43s\n"
          ]
        }
      ],
      "source": [
        "%%time\n",
        "# process = True  # set to false after it's run for ease of speed\n",
        "pr = cProfile.Profile()\n",
        "pr.enable()\n",
        "\n",
        "g = graphistry.nodes((tdf), 'node')\n",
        "\n",
        "g5c = g.umap(X=['feats'], \n",
        "            min_words=1000000, # force high so that we don't use Sentence Transformers\n",
        "            cardinality_threshold=4, # set low so we force topic model\n",
        "            n_topics=32, # number of topics\n",
        "            use_scaler=None,\n",
        "            feature_engine='dirty_cat',\n",
        "            memoize=False,\n",
        "            #  remove_node_column=False,\n",
        "            engine='cuml',\n",
        "            use_scaler_target=None\n",
        "           )\n",
        "\n",
        "pr.disable()\n",
        "stats = Stats(pr)\n",
        "stats.sort_stats('tottime').print_stats(20)\n",
        "\n",
        "with open('redteam_umap_dirty_cat.txt', 'w') as stream:\n",
        "    stats = Stats(pr,stream=stream)\n",
        "    stats.sort_stats('tottime').print_stats(20)"
      ],
      "id": "343d14cc-e1e4-4f6c-aa0d-ff4e6f0dcefa"
    },
    {
      "cell_type": "markdown",
      "metadata": {
        "id": "a1f6bcea-42c9-4f00-baf1-86e4c4349434"
      },
      "source": [
        "### ask HN"
      ],
      "id": "a1f6bcea-42c9-4f00-baf1-86e4c4349434"
    },
    {
      "cell_type": "code",
      "execution_count": null,
      "metadata": {
        "id": "44bbd703-0c8c-48cc-be2c-f4bbe53879d4"
      },
      "outputs": [],
      "source": [
        "# # get the data top 3000 posts on Hacker News\n",
        "askHN = pd.read_csv('https://storage.googleapis.com/cohere-assets/blog/text-clustering/data/askhn3k_df.csv', index_col=0)\n",
        "\n",
        "# df = askHN.sample(1000,replace=True) # set smaller if you want to test a minibatch \n",
        "# df = df[['text','title']]\n",
        "# df['title'] = df['title'].sample(frac=1).values"
      ],
      "id": "44bbd703-0c8c-48cc-be2c-f4bbe53879d4"
    },
    {
      "cell_type": "code",
      "execution_count": null,
      "metadata": {
        "colab": {
          "base_uri": "https://localhost:8080/"
        },
        "id": "cab7e1db-329c-4be7-9760-471d0e9916a6",
        "outputId": "285d8c06-de3c-48b6-c853-2341c6d9122d"
      },
      "outputs": [
        {
          "name": "stderr",
          "output_type": "stream",
          "text": [
            "WARNING:root:Target is not of type(DataFrame) and has no columns"
          ]
        },
        {
          "name": "stdout",
          "output_type": "stream",
          "text": [
            "Featurizing nodes with feature_engine=cu_cat\n",
            "         60952076 function calls (60762449 primitive calls) in 452.703 seconds\n",
            "\n",
            "   Ordered by: internal time\n",
            "   List reduced from 2408 to 20 due to restriction <20>\n",
            "\n",
            "   ncalls  tottime  percall  cumtime  percall filename:lineno(function)\n",
            "      242  169.173    0.699  372.012    1.537 /usr/local/lib/python3.9/dist-packages/cu_cat/_gap_encoder.py:960(_multiplicative_update_h)\n",
            "  5191507   96.734    0.000  122.449    0.000 /usr/local/lib/python3.9/dist-packages/rmm/rmm.py:216(rmm_cupy_allocator)\n",
            "  1426780   59.323    0.000   92.354    0.000 {method 'dot' of 'cupy._core.core.ndarray' objects}\n",
            "       22   47.089    2.140   54.028    2.456 /usr/local/lib/python3.9/dist-packages/cu_cat/_gap_encoder.py:1015(_multiplicative_update_h_smallfast)\n",
            "  5192145    7.938    0.000   16.571    0.000 cuda/cudart.pyx:10521(cudaGetDevice)\n",
            "        9    7.357    0.817    7.357    0.817 /usr/local/lib/python3.9/dist-packages/numpy/lib/arraysetops.py:519(in1d)\n",
            "1205039/1204310    6.357    0.000   14.409    0.000 {built-in method numpy.core._multiarray_umath.implement_array_function}\n",
            "  5192145    6.319    0.000   22.890    0.000 /usr/local/lib/python3.9/dist-packages/rmm/_cuda/gpu.py:53(getDevice)\n",
            "  5192651    5.476    0.000    8.633    0.000 /usr/lib/python3.9/enum.py:358(__call__)\n",
            "    31050    4.406    0.000    6.357    0.000 /usr/local/lib/python3.9/dist-packages/cupyx/scipy/sparse/_index.py:44(_get_csr_submatrix_major_axis)\n",
            "      123    3.712    0.030    3.712    0.030 {built-in method scipy.sparse._sparsetools.csc_tocsr}\n",
            "       21    3.650    0.174    9.473    0.451 /usr/local/lib/python3.9/dist-packages/sklearn/feature_extraction/text.py:1258(_count_vocab)\n",
            "  5192651    3.156    0.000    3.156    0.000 /usr/lib/python3.9/enum.py:670(__new__)\n",
            "  5191507    2.832    0.000    2.832    0.000 {built-in method cupy.cuda.stream.get_current_stream}\n",
            "    78473    2.673    0.000    3.681    0.000 /usr/local/lib/python3.9/dist-packages/sklearn/feature_extraction/text.py:275(_char_ngrams)\n",
            "      563    2.606    0.005    2.945    0.005 /usr/local/lib/python3.9/dist-packages/cupyx/scipy/sparse/csr.py:148(__mul__)\n",
            "    93767    2.239    0.000    5.477    0.000 {method 'copy' of 'cupy._core.core.ndarray' objects}\n",
            "  1103195    1.997    0.000    8.325    0.000 <__array_function__ internals>:177(min_scalar_type)\n",
            "  1426780    1.305    0.000   93.659    0.000 /usr/local/lib/python3.9/dist-packages/cupy/linalg/_product.py:45(dot)\n",
            "   421257    1.170    0.000    1.170    0.000 /usr/local/lib/python3.9/dist-packages/numpy/core/_internal.py:250(__init__)\n",
            "\n",
            "\n"
          ]
        }
      ],
      "source": [
        "g = graphistry.nodes(cudf.from_pandas(askHN))\n",
        "pr = cProfile.Profile()\n",
        "pr.enable()\n",
        "\n",
        "g1 = g.featurize(feature_engine='cu_cat',memoize=False,remove_node_column=False)\n",
        "# g1a = g1.umap(engine='cuml')#,feature_engine='cu_cat',memoize=False)\n",
        "\n",
        "pr.disable()\n",
        "stats = Stats(pr)\n",
        "stats.sort_stats('tottime').print_stats(20)\n",
        "\n",
        "with open('aHN_umap_cudf-cu_cat_3k.txt', 'w') as stream:\n",
        "    stats = Stats(pr,stream=stream)\n",
        "    stats.sort_stats('tottime').print_stats(20)"
      ],
      "id": "cab7e1db-329c-4be7-9760-471d0e9916a6"
    },
    {
      "cell_type": "code",
      "execution_count": null,
      "metadata": {
        "id": "ef216a0b-2074-42cf-a70d-b3cb40fafd5d"
      },
      "outputs": [],
      "source": [
        "# g1a = g1.umap(engine='cuml')"
      ],
      "id": "ef216a0b-2074-42cf-a70d-b3cb40fafd5d"
    },
    {
      "cell_type": "code",
      "execution_count": null,
      "metadata": {
        "colab": {
          "base_uri": "https://localhost:8080/"
        },
        "id": "353f72e4-2119-4546-9dcb-45647881ab2d",
        "outputId": "52ee595b-b4b7-4560-9375-09b9be2e03fe"
      },
      "outputs": [
        {
          "name": "stdout",
          "output_type": "stream",
          "text": [
            "Featurizing nodes with feature_engine=cu_cat\n",
            "         61299567 function calls (61111505 primitive calls) in 458.337 seconds\n",
            "\n",
            "   Ordered by: internal time\n",
            "   List reduced from 1937 to 20 due to restriction <20>\n",
            "\n",
            "   ncalls  tottime  percall  cumtime  percall filename:lineno(function)\n",
            "      242  172.102    0.711  376.939    1.558 /usr/local/lib/python3.9/dist-packages/cu_cat/_gap_encoder.py:960(_multiplicative_update_h)\n",
            "  5289231   98.242    0.000  124.480    0.000 /usr/local/lib/python3.9/dist-packages/rmm/rmm.py:216(rmm_cupy_allocator)\n",
            "  1454728   59.521    0.000   93.157    0.000 {method 'dot' of 'cupy._core.core.ndarray' objects}\n",
            "       22   47.610    2.164   54.361    2.471 /usr/local/lib/python3.9/dist-packages/cu_cat/_gap_encoder.py:1015(_multiplicative_update_h_smallfast)\n",
            "        9    8.590    0.954    8.591    0.955 /usr/local/lib/python3.9/dist-packages/numpy/lib/arraysetops.py:519(in1d)\n",
            "  5289231    8.238    0.000   17.140    0.000 cuda/cudart.pyx:10521(cudaGetDevice)\n",
            "1225762/1225035    6.489    0.000   15.766    0.000 {built-in method numpy.core._multiarray_umath.implement_array_function}\n",
            "  5289231    6.251    0.000   23.390    0.000 /usr/local/lib/python3.9/dist-packages/rmm/_cuda/gpu.py:53(getDevice)\n",
            "  5289735    5.674    0.000    8.902    0.000 /usr/lib/python3.9/enum.py:358(__call__)\n",
            "    31050    4.354    0.000    6.094    0.000 /usr/local/lib/python3.9/dist-packages/cupyx/scipy/sparse/_index.py:44(_get_csr_submatrix_major_axis)\n",
            "      123    3.572    0.029    3.572    0.029 {built-in method scipy.sparse._sparsetools.csc_tocsr}\n",
            "       21    3.570    0.170    9.133    0.435 /usr/local/lib/python3.9/dist-packages/sklearn/feature_extraction/text.py:1258(_count_vocab)\n",
            "  5289735    3.228    0.000    3.228    0.000 /usr/lib/python3.9/enum.py:670(__new__)\n",
            "  5289231    2.848    0.000    2.848    0.000 {built-in method cupy.cuda.stream.get_current_stream}\n",
            "      567    2.616    0.005    2.961    0.005 /usr/local/lib/python3.9/dist-packages/cupyx/scipy/sparse/csr.py:148(__mul__)\n",
            "    78473    2.585    0.000    3.596    0.000 /usr/local/lib/python3.9/dist-packages/sklearn/feature_extraction/text.py:275(_char_ngrams)\n",
            "    93771    2.202    0.000    5.433    0.000 {method 'copy' of 'cupy._core.core.ndarray' objects}\n",
            "  1124168    2.043    0.000    8.509    0.000 <__array_function__ internals>:177(min_scalar_type)\n",
            "  1454728    1.298    0.000   94.454    0.000 /usr/local/lib/python3.9/dist-packages/cupy/linalg/_product.py:45(dot)\n",
            "   428233    1.187    0.000    1.187    0.000 /usr/local/lib/python3.9/dist-packages/numpy/core/_internal.py:250(__init__)\n",
            "\n",
            "\n"
          ]
        }
      ],
      "source": [
        "g = graphistry.nodes(askHN)\n",
        "pr = cProfile.Profile()\n",
        "pr.enable()\n",
        "\n",
        "g2 = g.featurize(feature_engine='cu_cat',memoize=False,remove_node_column=False)\n",
        "# g2a = g2.umap(engine='cuml')#,feature_engine='cu_cat',memoize=False)\n",
        "\n",
        "pr.disable()\n",
        "stats = Stats(pr)\n",
        "stats.sort_stats('tottime').print_stats(20)\n",
        "\n",
        "with open('aHN_umap_cu_cat_3k.txt', 'w') as stream:\n",
        "    stats = Stats(pr,stream=stream)\n",
        "    stats.sort_stats('tottime').print_stats(20)"
      ],
      "id": "353f72e4-2119-4546-9dcb-45647881ab2d"
    },
    {
      "cell_type": "code",
      "execution_count": null,
      "metadata": {
        "id": "aHaet8UvIYlu"
      },
      "outputs": [],
      "source": [
        "# g2a = g2.umap(engine='cuml')"
      ],
      "id": "aHaet8UvIYlu"
    },
    {
      "cell_type": "code",
      "execution_count": null,
      "metadata": {
        "colab": {
          "base_uri": "https://localhost:8080/"
        },
        "id": "505ed578-f056-4d53-9feb-514f07aa0ca3",
        "outputId": "f764444e-a3be-40dd-deca-2b26123b59ef"
      },
      "outputs": [
        {
          "name": "stdout",
          "output_type": "stream",
          "text": [
            "Featurizing nodes with feature_engine=dirty_cat\n",
            "         34692512 function calls (34600508 primitive calls) in 126.143 seconds\n",
            "\n",
            "   Ordered by: internal time\n",
            "   List reduced from 1797 to 20 due to restriction <20>\n",
            "\n",
            "   ncalls  tottime  percall  cumtime  percall filename:lineno(function)\n",
            "      764   36.066    0.047   73.129    0.096 /usr/local/lib/python3.9/dist-packages/dirty_cat/_gap_encoder.py:1003(_multiplicative_update_h)\n",
            "4235385/4234640   33.674    0.000   43.014    0.000 {built-in method numpy.core._multiarray_umath.implement_array_function}\n",
            "      360   10.023    0.028   27.910    0.078 /usr/local/lib/python3.9/dist-packages/dirty_cat/_gap_encoder.py:971(_multiplicative_update_w)\n",
            "        9    8.605    0.956    8.606    0.956 /usr/local/lib/python3.9/dist-packages/numpy/lib/arraysetops.py:519(in1d)\n",
            "    15120    3.648    0.000    3.648    0.000 {built-in method scipy.sparse._sparsetools.coo_matvec}\n",
            "       21    3.588    0.171    9.318    0.444 /usr/local/lib/python3.9/dist-packages/sklearn/feature_extraction/text.py:1258(_count_vocab)\n",
            "      123    3.455    0.028    3.455    0.028 {built-in method scipy.sparse._sparsetools.csc_tocsr}\n",
            "  3844578    2.797    0.000   36.537    0.000 <__array_function__ internals>:177(dot)\n",
            "    78473    2.632    0.000    3.624    0.000 /usr/local/lib/python3.9/dist-packages/sklearn/feature_extraction/text.py:275(_char_ngrams)\n",
            "   192900    1.935    0.000    4.163    0.000 /usr/local/lib/python3.9/dist-packages/scipy/sparse/_sputils.py:147(get_index_dtype)\n",
            "    95607    1.787    0.000    4.822    0.000 /usr/local/lib/python3.9/dist-packages/scipy/sparse/_compressed.py:136(check_format)\n",
            "      360    1.208    0.003    1.791    0.005 /usr/local/lib/python3.9/dist-packages/dirty_cat/_gap_encoder.py:961(_rescale_W)\n",
            "      360    0.922    0.003    1.248    0.003 /usr/local/lib/python3.9/dist-packages/scipy/sparse/_compressed.py:365(multiply)\n",
            "   385821    0.882    0.000    0.882    0.000 /usr/local/lib/python3.9/dist-packages/numpy/core/getlimits.py:647(__init__)\n",
            " 12689936    0.876    0.000    0.876    0.000 {method 'append' of 'list' objects}\n",
            "95607/95484    0.836    0.000   13.881    0.000 /usr/local/lib/python3.9/dist-packages/scipy/sparse/_compressed.py:26(__init__)\n",
            "     2284    0.826    0.000    0.826    0.000 {built-in method numpy.zeros}\n",
            "     6186    0.810    0.000    0.810    0.000 {method 'reduce' of 'numpy.ufunc' objects}\n",
            "294757/288757    0.700    0.000    0.776    0.000 {built-in method numpy.array}\n",
            "  3844578    0.654    0.000    0.654    0.000 /usr/local/lib/python3.9/dist-packages/numpy/core/multiarray.py:736(dot)\n",
            "\n",
            "\n"
          ]
        }
      ],
      "source": [
        "g = graphistry.nodes(askHN)\n",
        "pr = cProfile.Profile()\n",
        "pr.enable()\n",
        "\n",
        "\n",
        "g3 = g.featurize(feature_engine='dirty_cat',memoize=False,remove_node_column=False)\n",
        "# g3a = g3.umap(engine='cuml')#,feature_engine='cu_cat',memoize=False)\n",
        "\n",
        "pr.disable()\n",
        "stats = Stats(pr)\n",
        "stats.sort_stats('tottime').print_stats(20)\n",
        "\n",
        "with open('aHN_umap_dirtycat_3k.txt', 'w') as stream:\n",
        "    stats = Stats(pr,stream=stream)\n",
        "    stats.sort_stats('tottime').print_stats(20)"
      ],
      "id": "505ed578-f056-4d53-9feb-514f07aa0ca3"
    },
    {
      "cell_type": "code",
      "execution_count": null,
      "metadata": {
        "id": "hX157ptIIaXK"
      },
      "outputs": [],
      "source": [],
      "id": "hX157ptIIaXK"
    },
    {
      "cell_type": "code",
      "execution_count": null,
      "metadata": {
        "colab": {
          "background_save": true
        },
        "id": "a5599817-e773-4369-9049-ea7fc4d7cfa6"
      },
      "outputs": [],
      "source": [
        "# g1a.plot()"
      ],
      "id": "a5599817-e773-4369-9049-ea7fc4d7cfa6"
    },
    {
      "cell_type": "code",
      "execution_count": null,
      "metadata": {
        "colab": {
          "background_save": true
        },
        "id": "e6d6b656-ef14-4e9c-8032-d8f551e04438"
      },
      "outputs": [],
      "source": [
        "# g1b.plot()"
      ],
      "id": "e6d6b656-ef14-4e9c-8032-d8f551e04438"
    },
    {
      "cell_type": "markdown",
      "metadata": {
        "id": "3eb4ae8b-2a14-43fe-ac7f-1714e38272aa"
      },
      "source": [
        "### CTU-13 malware dataset"
      ],
      "id": "3eb4ae8b-2a14-43fe-ac7f-1714e38272aa"
    },
    {
      "cell_type": "code",
      "execution_count": null,
      "metadata": {
        "colab": {
          "base_uri": "https://localhost:8080/"
        },
        "id": "3b2f1b00-6984-44c2-9148-6f38282bc0de",
        "outputId": "3b1ef937-75f5-45ea-aa8a-5b11e4818f23"
      },
      "outputs": [
        {
          "name": "stdout",
          "output_type": "stream",
          "text": [
            "Botnet abundance: 0.69%\n"
          ]
        }
      ],
      "source": [
        "edf = pd.read_csv('https://gist.githubusercontent.com/silkspace/33bde3e69ae24fee1298a66d1e00b467/raw/dc66bd6f1687270be7098f94b3929d6a055b4438/malware_bots.csv', index_col=0)\n",
        "T = edf.Label.apply(lambda x: True if 'Botnet' in x else False)\n",
        "bot = edf[T]\n",
        "nbot = edf[~T]\n",
        "print(f'Botnet abundance: {100*len(bot)/len(edf):0.2f}%')# so botnet traffic makes up a tiny fraction of total\n",
        "\n",
        "# let's balance the dataset in a 10-1 ratio, for speed and demonstrative purposes\n",
        "negs = nbot.sample(10*len(bot))\n",
        "edf = pd.concat([bot, negs])  # top part of arrays are bot traffic, then all non-bot traffic\n",
        "edf = edf.drop_duplicates()\n",
        "\n",
        "# some useful indicators for later that predict Botnet as Bool and Int\n",
        "Y = edf.Label.apply(lambda x: 1 if 'Botnet' in x else 0)  # np.array(T)\n",
        "\n",
        "# Later we will use and exploit any meaning shared between the labels in a latent distribution\n",
        "\n",
        "# add it to the dataframe\n",
        "edf['bot'] = Y\n",
        "\n",
        "# name some columns for edges and features\n",
        "src = 'SrcAddr'\n",
        "dst = 'DstAddr'\n",
        "good_cols_with_edges = ['Dur', 'Proto', 'Sport',\n",
        "       'Dport', 'State', 'TotPkts', 'TotBytes', 'SrcBytes', src, dst]\n",
        "\n",
        "good_cols_without_edges = ['Dur', 'Proto', 'Sport',\n",
        "       'Dport', 'State', 'TotPkts', 'TotBytes', 'SrcBytes']\n",
        "\n",
        "## some encoding parameters\n",
        "n_topics = 20\n",
        "n_topics_target = 7\n",
        "\n"
      ],
      "id": "3b2f1b00-6984-44c2-9148-6f38282bc0de"
    },
    {
      "cell_type": "code",
      "execution_count": null,
      "metadata": {
        "colab": {
          "base_uri": "https://localhost:8080/"
        },
        "id": "294da65b-8116-41a9-93e7-6c6c5b7accdb",
        "outputId": "10852d97-801c-4a94-b59c-afb6f81f004b"
      },
      "outputs": [
        {
          "name": "stderr",
          "output_type": "stream",
          "text": [
            "WARNING:root:Target is not of type(DataFrame) and has no columns"
          ]
        },
        {
          "name": "stdout",
          "output_type": "stream",
          "text": [
            "         20052176 function calls (19606482 primitive calls) in 38.284 seconds\n",
            "\n",
            "   Ordered by: internal time\n",
            "   List reduced from 2729 to 20 due to restriction <20>\n",
            "\n",
            "   ncalls  tottime  percall  cumtime  percall filename:lineno(function)\n",
            "       24    5.078    0.212    6.392    0.266 /usr/local/lib/python3.9/dist-packages/cu_cat/_gap_encoder.py:1015(_multiplicative_update_h_smallfast)\n",
            "        9    3.645    0.405    3.645    0.405 /usr/local/lib/python3.9/dist-packages/numpy/lib/arraysetops.py:519(in1d)\n",
            "      146    1.564    0.011    1.564    0.011 {method 'argsort' of 'numpy.ndarray' objects}\n",
            "        3    1.559    0.520    1.559    0.520 /usr/local/lib/python3.9/dist-packages/numpy/ma/core.py:3211(__getitem__)\n",
            "        1    1.332    1.332    1.332    1.332 /usr/local/lib/python3.9/dist-packages/numpy/ma/core.py:3337(__setitem__)\n",
            "   104188    1.180    0.000    1.640    0.000 /usr/lib/python3.9/typing.py:1065(_get_protocol_attrs)\n",
            "    13055    1.087    0.000    1.087    0.000 {method 'take' of 'numpy.ndarray' objects}\n",
            "    12497    1.055    0.000    1.168    0.000 /usr/local/lib/python3.9/dist-packages/rmm/rmm.py:216(rmm_cupy_allocator)\n",
            "        3    0.922    0.307    0.922    0.307 {built-in method cupy_backends.cuda.libs.nvrtc.compileProgram}\n",
            "        1    0.858    0.858    4.573    4.573 /usr/local/lib/python3.9/dist-packages/cuml/internals/api_decorators.py:397(inner_with_setters)\n",
            "        1    0.815    0.815    4.236    4.236 /usr/local/lib/python3.9/dist-packages/cuml/internals/api_decorators.py:571(inner_get)\n",
            "    26399    0.742    0.000    1.288    0.000 {built-in method cupy._core.core.array}\n",
            "    12891    0.724    0.000    2.650    0.000 /usr/local/lib/python3.9/dist-packages/scipy/stats/_distn_infrastructure.py:2319(ppf)\n",
            "     4300    0.569    0.000    0.569    0.000 {method 'partition' of 'numpy.ndarray' objects}\n",
            "    73824    0.553    0.000    0.553    0.000 {method 'reduce' of 'numpy.ufunc' objects}\n",
            "        9    0.544    0.060    5.007    0.556 /usr/local/lib/python3.9/dist-packages/cudf/core/frame.py:460(_to_array)\n",
            "     4297    0.537    0.000    4.075    0.001 /usr/local/lib/python3.9/dist-packages/sklearn/preprocessing/_data.py:2645(_transform_col)\n",
            "     8651    0.517    0.000    1.814    0.000 /usr/local/lib/python3.9/dist-packages/cudf/core/column/numerical.py:367(as_numerical_column)\n",
            "     8594    0.502    0.000    0.502    0.000 {built-in method numpy.core._multiarray_umath.interp}\n",
            "260356/203828    0.464    0.000    9.737    0.000 {built-in method numpy.core._multiarray_umath.implement_array_function}\n",
            "\n",
            "\n"
          ]
        }
      ],
      "source": [
        "# lets umap the data\n",
        "g = graphistry.edges(cudf.from_pandas(edf), src, dst)\n",
        "\n",
        "pr = cProfile.Profile()\n",
        "pr.enable()\n",
        "g6b = g.umap(kind='edges', \n",
        "            X=good_cols_with_edges, \n",
        "            y = ['bot'], \n",
        "            use_scaler='quantile',\n",
        "            use_scaler_target=None,\n",
        "            cardinality_threshold=20,\n",
        "            cardinality_threshold_target=2, \n",
        "            n_topics=n_topics,\n",
        "            feature_engine='cu_cat',\n",
        "            engine='cuml',\n",
        "            memoize=False,\n",
        "            n_topics_target=n_topics_target,\n",
        "            n_bins=n_topics_target,\n",
        "            metric='euclidean', \n",
        "            n_neighbors=12)\n",
        "pr.disable()\n",
        "stats = Stats(pr)\n",
        "stats.sort_stats('tottime').print_stats(20)\n",
        "\n",
        "with open('ctu13_umap_cudf-cu_cat.txt', 'w') as stream:\n",
        "    stats = Stats(pr,stream=stream)\n",
        "    stats.sort_stats('tottime').print_stats(20)\n"
      ],
      "id": "294da65b-8116-41a9-93e7-6c6c5b7accdb"
    },
    {
      "cell_type": "code",
      "execution_count": null,
      "metadata": {
        "colab": {
          "base_uri": "https://localhost:8080/"
        },
        "id": "b0947964-efba-43be-acdc-39e52d7e2261",
        "outputId": "46f13da0-008f-4950-f475-ee4b408813c5"
      },
      "outputs": [
        {
          "name": "stdout",
          "output_type": "stream",
          "text": [
            "         15329509 function calls (14907191 primitive calls) in 37.984 seconds\n",
            "\n",
            "   Ordered by: internal time\n",
            "   List reduced from 2456 to 20 due to restriction <20>\n",
            "\n",
            "   ncalls  tottime  percall  cumtime  percall filename:lineno(function)\n",
            "       24    4.860    0.202    6.066    0.253 /usr/local/lib/python3.9/dist-packages/cu_cat/_gap_encoder.py:1015(_multiplicative_update_h_smallfast)\n",
            "        9    4.839    0.538    4.839    0.538 /usr/local/lib/python3.9/dist-packages/numpy/lib/arraysetops.py:519(in1d)\n",
            "      146    1.571    0.011    1.571    0.011 {method 'argsort' of 'numpy.ndarray' objects}\n",
            "        3    1.551    0.517    1.551    0.517 /usr/local/lib/python3.9/dist-packages/numpy/ma/core.py:3211(__getitem__)\n",
            "        1    1.360    1.360    1.360    1.360 /usr/local/lib/python3.9/dist-packages/numpy/ma/core.py:3337(__setitem__)\n",
            "    13078    1.052    0.000    1.052    0.000 {method 'take' of 'numpy.ndarray' objects}\n",
            "    12891    0.962    0.000    3.460    0.000 /usr/local/lib/python3.9/dist-packages/scipy/stats/_distn_infrastructure.py:2319(ppf)\n",
            "       54    0.913    0.017    0.913    0.017 {method 'copy' of 'numpy.ndarray' objects}\n",
            "        1    0.888    0.888    3.714    3.714 /usr/local/lib/python3.9/dist-packages/cuml/internals/api_decorators.py:397(inner_with_setters)\n",
            "     8214    0.858    0.000    0.916    0.000 /usr/local/lib/python3.9/dist-packages/rmm/rmm.py:216(rmm_cupy_allocator)\n",
            "        1    0.856    0.856    4.426    4.426 /usr/local/lib/python3.9/dist-packages/cuml/internals/api_decorators.py:571(inner_get)\n",
            "    51588    0.761    0.000    1.034    0.000 /usr/lib/python3.9/typing.py:1065(_get_protocol_attrs)\n",
            "     4297    0.665    0.000    5.251    0.001 /usr/local/lib/python3.9/dist-packages/sklearn/preprocessing/_data.py:2645(_transform_col)\n",
            "     8594    0.645    0.000    0.645    0.000 {built-in method numpy.core._multiarray_umath.interp}\n",
            "    73839    0.579    0.000    0.579    0.000 {method 'reduce' of 'numpy.ufunc' objects}\n",
            "255987/199447    0.547    0.000   11.265    0.000 {built-in method numpy.core._multiarray_umath.implement_array_function}\n",
            "     8595    0.517    0.000    2.081    0.000 /usr/local/lib/python3.9/dist-packages/cudf/core/column/numerical.py:367(as_numerical_column)\n",
            "     4300    0.509    0.000    0.509    0.000 {method 'partition' of 'numpy.ndarray' objects}\n",
            "        8    0.428    0.054    3.769    0.471 /usr/local/lib/python3.9/dist-packages/cudf/core/frame.py:460(_to_array)\n",
            "     4300    0.378    0.000    1.090    0.000 /usr/local/lib/python3.9/dist-packages/cudf/core/column/column.py:246(from_arrow)\n",
            "\n",
            "\n"
          ]
        }
      ],
      "source": [
        "# lets umap the data\n",
        "g = graphistry.edges(edf, src, dst)\n",
        "\n",
        "pr = cProfile.Profile()\n",
        "pr.enable()\n",
        "g6a = g.umap(kind='edges', \n",
        "            X=good_cols_with_edges, \n",
        "            y = ['bot'], \n",
        "            use_scaler='quantile',\n",
        "            use_scaler_target=None,\n",
        "            cardinality_threshold=20,\n",
        "            cardinality_threshold_target=2, \n",
        "            n_topics=n_topics,\n",
        "            feature_engine='cu_cat',\n",
        "            engine='cuml',\n",
        "            memoize=False,\n",
        "            n_topics_target=n_topics_target,\n",
        "            n_bins=n_topics_target,\n",
        "            metric='euclidean', \n",
        "            n_neighbors=12)\n",
        "pr.disable()\n",
        "stats = Stats(pr)\n",
        "stats.sort_stats('tottime').print_stats(20)\n",
        "\n",
        "with open('ctu13_umap_cu_cat.txt', 'w') as stream:\n",
        "    stats = Stats(pr,stream=stream)\n",
        "    stats.sort_stats('tottime').print_stats(20)\n"
      ],
      "id": "b0947964-efba-43be-acdc-39e52d7e2261"
    },
    {
      "cell_type": "code",
      "execution_count": null,
      "metadata": {
        "id": "066c8421-4c91-4e6a-b6de-07a62eecdfb1"
      },
      "outputs": [],
      "source": [
        "### lets umap the data\n",
        "g = graphistry.edges(edf, src, dst)\n",
        "pr = cProfile.Profile()\n",
        "pr.enable()\n",
        "g6c = g.umap(kind='edges', \n",
        "            X=good_cols_with_edges, \n",
        "            y = ['bot'], \n",
        "            use_scaler='quantile',\n",
        "            use_scaler_target=None,\n",
        "            cardinality_threshold=20,\n",
        "            cardinality_threshold_target=2, \n",
        "            n_topics=n_topics,\n",
        "            feature_engine='dirty_cat',\n",
        "            engine='cuml',\n",
        "            memoize=False,\n",
        "            n_topics_target=n_topics_target,\n",
        "            n_bins=n_topics_target,\n",
        "            metric='euclidean', \n",
        "            n_neighbors=12)\n",
        "pr.disable()\n",
        "stats = Stats(pr)\n",
        "stats.sort_stats('tottime').print_stats(20)\n",
        "\n",
        "with open('ctu13_umap_dirtycat.txt', 'w') as stream:\n",
        "    stats = Stats(pr,stream=stream)\n",
        "    stats.sort_stats('tottime').print_stats(20)\n"
      ],
      "id": "066c8421-4c91-4e6a-b6de-07a62eecdfb1"
    },
    {
      "cell_type": "markdown",
      "metadata": {
        "id": "6657b008-5094-42fd-96a8-177edf7e5ebd"
      },
      "source": [
        "### 20newsgroups"
      ],
      "id": "6657b008-5094-42fd-96a8-177edf7e5ebd"
    },
    {
      "cell_type": "code",
      "execution_count": null,
      "metadata": {
        "id": "625c5db9-bd1e-40df-9cce-604a675de2aa"
      },
      "outputs": [],
      "source": [
        "from sklearn.datasets import fetch_20newsgroups\n",
        "# newsgroups = fetch_20newsgroups()#categories=categories)\n",
        "n_samples = 1000\n",
        "# n_features = 1000\n",
        "# n_components = 10\n",
        "# n_top_words = 20\n",
        "# batch_size = 128\n",
        "# init = \"nndsvda\"\n",
        "\n",
        "news, _ = fetch_20newsgroups(\n",
        "    shuffle=True,\n",
        "    random_state=1,\n",
        "    remove=(\"headers\", \"footers\", \"quotes\"),\n",
        "    return_X_y=True,\n",
        ")\n",
        "\n",
        "news = news[:n_samples]\n",
        "news=pd.DataFrame(news)"
      ],
      "id": "625c5db9-bd1e-40df-9cce-604a675de2aa"
    },
    {
      "cell_type": "code",
      "execution_count": null,
      "metadata": {
        "id": "427e3cb3-60fe-4289-9655-fbdecda1a9ca"
      },
      "outputs": [],
      "source": [
        "g = graphistry.nodes(cudf.from_pandas(news))\n",
        "pr = cProfile.Profile()\n",
        "pr.enable()\n",
        "\n",
        "\n",
        "g8 = g.featurize(feature_engine='cu_cat',memoize=False,remove_node_column=False)\n",
        "g8b = g8.umap(engine='cuml')#,feature_engine='cu_cat',memoize=False)\n",
        "\n",
        "pr.disable()\n",
        "stats = Stats(pr)\n",
        "stats.sort_stats('tottime').print_stats(20)\n",
        "\n",
        "with open('20news_umap_cudf-cu_cat.txt', 'w') as stream:\n",
        "    stats = Stats(pr,stream=stream)\n",
        "    stats.sort_stats('tottime').print_stats(20)"
      ],
      "id": "427e3cb3-60fe-4289-9655-fbdecda1a9ca"
    },
    {
      "cell_type": "code",
      "execution_count": null,
      "metadata": {
        "id": "9683c33e-aa71-47a2-87f2-16b69d482a85"
      },
      "outputs": [],
      "source": [
        "g = graphistry.nodes(news)\n",
        "pr = cProfile.Profile()\n",
        "pr.enable()\n",
        "\n",
        "g7 = g.featurize(feature_engine='cu_cat',memoize=False,remove_node_column=False)\n",
        "g7a = g7.umap(engine='cuml')#,feature_engine='cu_cat',memoize=False)\n",
        "\n",
        "pr.disable()\n",
        "stats = Stats(pr)\n",
        "stats.sort_stats('tottime').print_stats(20)\n",
        "\n",
        "with open('20news_umap_cu_cat.txt', 'w') as stream:\n",
        "    stats = Stats(pr,stream=stream)\n",
        "    stats.sort_stats('tottime').print_stats(20)"
      ],
      "id": "9683c33e-aa71-47a2-87f2-16b69d482a85"
    },
    {
      "cell_type": "code",
      "execution_count": null,
      "metadata": {
        "id": "b88c5fba-32d3-4140-9a9e-8fd6a652f07c"
      },
      "outputs": [],
      "source": [
        "g = graphistry.nodes(news)\n",
        "pr = cProfile.Profile()\n",
        "pr.enable()\n",
        "\n",
        "g9 = g.featurize(feature_engine='dirty_cat',memoize=False,remove_node_column=False)\n",
        "g9c = g9.umap(engine='cuml')#,feature_engine='cu_cat',memoize=False)\n",
        "\n",
        "pr.disable()\n",
        "stats = Stats(pr)\n",
        "stats.sort_stats('tottime').print_stats(20)\n",
        "\n",
        "with open('20news_umap_dirtycat.txt', 'w') as stream:\n",
        "    stats = Stats(pr,stream=stream)\n",
        "    stats.sort_stats('tottime').print_stats(20)"
      ],
      "id": "b88c5fba-32d3-4140-9a9e-8fd6a652f07c"
    },
    {
      "cell_type": "code",
      "execution_count": null,
      "metadata": {
        "id": "UqHh0H_68r8y",
        "colab": {
          "base_uri": "https://localhost:8080/"
        },
        "outputId": "e627c867-3408-4a27-e9f2-048142b559cf"
      },
      "outputs": [
        {
          "output_type": "stream",
          "name": "stdout",
          "text": [
            "Mounted at /content/drive\n"
          ]
        }
      ],
      "source": [
        "from google.colab import drive\n",
        "drive.mount('/content/drive')"
      ],
      "id": "UqHh0H_68r8y"
    },
    {
      "cell_type": "code",
      "execution_count": null,
      "metadata": {
        "id": "FNlKXbL48xOe"
      },
      "outputs": [],
      "source": [
        "!cp *.txt /content/drive/MyDrive/graphistry"
      ],
      "id": "FNlKXbL48xOe"
    },
    {
      "cell_type": "markdown",
      "metadata": {
        "id": "f2eafa7a-9b51-492a-ab0e-ed7ec89a2a6f"
      },
      "source": [
        "### winlogs"
      ],
      "id": "f2eafa7a-9b51-492a-ab0e-ed7ec89a2a6f"
    },
    {
      "cell_type": "code",
      "execution_count": null,
      "metadata": {
        "colab": {
          "background_save": true,
          "base_uri": "https://localhost:8080/"
        },
        "id": "216f66ba-18a5-4ac5-bb10-b7aefe086df0",
        "outputId": "27d06ea8-7ed4-4668-9f05-867c8715d85d"
      },
      "outputs": [
        {
          "name": "stdout",
          "output_type": "stream",
          "text": [
            "File ‘part.88.parquet’ already there; not retrieving.\n",
            "\n"
          ]
        },
        {
          "name": "stderr",
          "output_type": "stream",
          "text": [
            "WARNING:root:Target is not of type(DataFrame) and has no columns"
          ]
        },
        {
          "name": "stdout",
          "output_type": "stream",
          "text": [
            "Featurizing nodes with feature_engine=cu_cat\n",
            "         266634181 function calls (262629716 primitive calls) in 2055.556 seconds\n",
            "\n",
            "   Ordered by: internal time\n",
            "   List reduced from 2215 to 20 due to restriction <20>\n",
            "\n",
            "   ncalls  tottime  percall  cumtime  percall filename:lineno(function)\n",
            "     1328  791.614    0.596 1738.558    1.309 /usr/local/lib/python3.9/dist-packages/cu_cat/_gap_encoder.py:960(_multiplicative_update_h)\n",
            " 26310839  431.685    0.000  553.090    0.000 /usr/local/lib/python3.9/dist-packages/rmm/rmm.py:216(rmm_cupy_allocator)\n",
            "  7218934  277.486    0.000  429.702    0.000 {method 'dot' of 'cupy._core.core.ndarray' objects}\n",
            "       21  237.325   11.301  237.325   11.301 /usr/local/lib/python3.9/dist-packages/numpy/lib/arraysetops.py:519(in1d)\n",
            "       48   43.900    0.915   49.313    1.027 /usr/local/lib/python3.9/dist-packages/cu_cat/_gap_encoder.py:1015(_multiplicative_update_h_smallfast)\n",
            " 26311936   36.514    0.000   76.378    0.000 cuda/cudart.pyx:10521(cudaGetDevice)\n",
            " 26311936   31.213    0.000  107.591    0.000 /usr/local/lib/python3.9/dist-packages/rmm/_cuda/gpu.py:53(getDevice)\n",
            "6122488/6120910   30.918    0.000  270.304    0.000 {built-in method numpy.core._multiarray_umath.implement_array_function}\n",
            " 26312676   24.246    0.000   39.865    0.000 /usr/lib/python3.9/enum.py:358(__call__)\n",
            "   170898   22.299    0.000   31.061    0.000 /usr/local/lib/python3.9/dist-packages/cupyx/scipy/sparse/_index.py:44(_get_csr_submatrix_major_axis)\n",
            " 26312676   15.619    0.000   15.619    0.000 /usr/lib/python3.9/enum.py:670(__new__)\n",
            " 26310839   13.820    0.000   13.820    0.000 {built-in method cupy.cuda.stream.get_current_stream}\n",
            "   513778   11.574    0.000   27.533    0.000 {method 'copy' of 'cupy._core.core.ndarray' objects}\n",
            "  5589548    8.839    0.000   39.515    0.000 <__array_function__ internals>:177(min_scalar_type)\n",
            "  2150766    5.860    0.000    5.860    0.000 /usr/local/lib/python3.9/dist-packages/numpy/core/_internal.py:250(__init__)\n",
            "  7218934    5.529    0.000  435.231    0.000 /usr/local/lib/python3.9/dist-packages/cupy/linalg/_product.py:45(dot)\n",
            "   342946    4.384    0.000    9.103    0.000 /usr/local/lib/python3.9/dist-packages/cupyx/scipy/sparse/compressed.py:195(__init__)\n",
            "      287    4.018    0.014    4.018    0.014 {built-in method scipy.sparse._sparsetools.csc_tocsr}\n",
            "       46    3.134    0.068    9.180    0.200 /usr/local/lib/python3.9/dist-packages/sklearn/feature_extraction/text.py:1258(_count_vocab)\n",
            "   169572    2.988    0.000   74.528    0.000 /usr/local/lib/python3.9/dist-packages/cupyx/scipy/sparse/csr.py:548(_get_intXslice)\n",
            "\n",
            "\n"
          ]
        }
      ],
      "source": [
        "!wget -nc https://www.dropbox.com/s/31dx1g6g59exoc3/part.88.parquet\n",
        "winlogs=pd.read_parquet('part.88.parquet')\n",
        "# winlogs=pd.read_parquet('part.88 (1).parquet')\n",
        "winlogs=winlogs.sample(100000,replace=False).iloc[:,:10]\n",
        "\n",
        "# g = graphistry.nodes(winlogs)\n",
        "# pr = cProfile.Profile()\n",
        "# pr.enable()\n",
        "\n",
        "# g10 = g.featurize(feature_engine='cu_cat',memoize=False,remove_node_column=False)\n",
        "# # g10a = g10.umap(engine='cuml')#,feature_engine='cu_cat',memoize=False)\n",
        "\n",
        "# pr.disable()\n",
        "# stats = Stats(pr)\n",
        "# stats.sort_stats('tottime').print_stats(20)\n",
        "\n",
        "# with open('winlogs_featurize+umap_cu_cat_100k.txt', 'w') as stream:\n",
        "#     stats = Stats(pr,stream=stream)\n",
        "#     stats.sort_stats('tottime').print_stats(20)\n",
        "\n",
        "g = graphistry.nodes(cudf.from_pandas(winlogs))\n",
        "pr = cProfile.Profile()\n",
        "pr.enable()\n",
        "\n",
        "g11 = g.featurize(feature_engine='cu_cat',memoize=False,remove_node_column=False)\n",
        "# g11b = g11.umap(engine='cuml')#,feature_engine='cu_cat',memoize=False)\n",
        "\n",
        "pr.disable()\n",
        "stats = Stats(pr)\n",
        "stats.sort_stats('tottime').print_stats(20)\n",
        "\n",
        "with open('winlogs_featurize+umap_cudf-cu_cat_100k.txt', 'w') as stream:\n",
        "    stats = Stats(pr,stream=stream)\n",
        "    stats.sort_stats('tottime').print_stats(20)\n",
        "\n",
        "\n",
        "# g = graphistry.nodes(winlogs)\n",
        "# pr = cProfile.Profile()\n",
        "# pr.enable()\n",
        "\n",
        "\n",
        "# g12 = g.featurize(feature_engine='dirty_cat',memoize=False,remove_node_column=False)\n",
        "# # g12c = g12.umap(engine='cuml')#,feature_engine='cu_cat',memoize=False)\n",
        "\n",
        "# pr.disable()\n",
        "# stats = Stats(pr)\n",
        "# stats.sort_stats('tottime').print_stats(20)\n",
        "\n",
        "# with open('winlogs_featurize+umap_dirtycat_100k.txt', 'w') as stream:\n",
        "#     stats = Stats(pr,stream=stream)\n",
        "#     stats.sort_stats('tottime').print_stats(20)"
      ],
      "id": "216f66ba-18a5-4ac5-bb10-b7aefe086df0"
    },
    {
      "cell_type": "code",
      "execution_count": null,
      "metadata": {
        "colab": {
          "base_uri": "https://localhost:8080/"
        },
        "id": "87452d7b-60b4-4c23-88c3-b60ee8ae06bf",
        "outputId": "dd840eb1-9e7c-4289-c623-31a28f7a4b54"
      },
      "outputs": [
        {
          "name": "stdout",
          "output_type": "stream",
          "text": [
            "cp: target '/content/drive/MyDrive/graphistry' is not a directory\n"
          ]
        }
      ],
      "source": [
        "!cp *.txt /content/drive/MyDrive/graphistry"
      ],
      "id": "87452d7b-60b4-4c23-88c3-b60ee8ae06bf"
    },
    {
      "cell_type": "code",
      "execution_count": null,
      "metadata": {
        "id": "e4d46d21-854b-47d9-8add-f829bc2d083a"
      },
      "outputs": [],
      "source": [
        "winlogs=pd.read_parquet('part.88.parquet')\n",
        "winlogs=winlogs.sample(1000000,replace=False).iloc[:,:10]\n",
        "\n",
        "# g = graphistry.nodes(winlogs)\n",
        "# pr = cProfile.Profile()\n",
        "# pr.enable()\n",
        "\n",
        "# g13 = g.featurize(feature_engine='cu_cat',memoize=False,remove_node_column=False)\n",
        "# g13a = g13.umap(engine='cuml')#,feature_engine='cu_cat',memoize=False)\n",
        "\n",
        "# pr.disable()\n",
        "# stats = Stats(pr)\n",
        "# stats.sort_stats('tottime').print_stats(20)\n",
        "\n",
        "# with open('winlogs_featurize_cu_cat_1m.txt', 'w') as stream:\n",
        "#     stats = Stats(pr,stream=stream)\n",
        "#     stats.sort_stats('tottime').print_stats(20)\n",
        "\n",
        "g = graphistry.nodes(cudf.from_pandas(winlogs))\n",
        "pr = cProfile.Profile()\n",
        "pr.enable()\n",
        "\n",
        "g14 = g.featurize(feature_engine='cu_cat',memoize=False,remove_node_column=False)\n",
        "g14b = g14.umap(engine='cuml')#,feature_engine='cu_cat',memoize=False)\n",
        "\n",
        "pr.disable()\n",
        "stats = Stats(pr)\n",
        "stats.sort_stats('tottime').print_stats(20)\n",
        "\n",
        "with open('winlogs_featurize_cudf-cu_cat_1m.txt', 'w') as stream:\n",
        "    stats = Stats(pr,stream=stream)\n",
        "    stats.sort_stats('tottime').print_stats(20)\n",
        "    \n",
        "\n",
        "# g = graphistry.nodes(winlogs)\n",
        "# pr = cProfile.Profile()\n",
        "# pr.enable()\n",
        "\n",
        "# g15 = g.featurize(feature_engine='cu_cat',memoize=False,remove_node_column=False)\n",
        "# g15b = g15.umap(engine='cuml')#,feature_engine='cu_cat',memoize=False)\n",
        "\n",
        "\n",
        "# pr.disable()\n",
        "# stats = Stats(pr)\n",
        "# stats.sort_stats('tottime').print_stats(20)\n",
        "\n",
        "# with open('winlogs_featurize_dirtycat_1m.txt', 'w') as stream:\n",
        "#     stats = Stats(pr,stream=stream)\n",
        "#     stats.sort_stats('tottime').print_stats(20)"
      ],
      "id": "e4d46d21-854b-47d9-8add-f829bc2d083a"
    },
    {
      "cell_type": "code",
      "execution_count": null,
      "metadata": {
        "id": "a1cd00e1-2b9e-4e08-affe-29a8d52b0dca"
      },
      "outputs": [],
      "source": [
        "stopppp"
      ],
      "id": "a1cd00e1-2b9e-4e08-affe-29a8d52b0dca"
    },
    {
      "cell_type": "code",
      "execution_count": null,
      "metadata": {
        "id": "21c2ce89-b39c-49ee-955e-932b40c2cf31"
      },
      "outputs": [],
      "source": [],
      "id": "21c2ce89-b39c-49ee-955e-932b40c2cf31"
    }
  ],
  "metadata": {
    "accelerator": "GPU",
    "colab": {
      "provenance": [],
      "toc_visible": true,
      "include_colab_link": true
    },
    "gpuClass": "standard",
    "kernelspec": {
      "display_name": "Python 3 (ipykernel)",
      "language": "python",
      "name": "python3"
    },
    "language_info": {
      "codemirror_mode": {
        "name": "ipython",
        "version": 3
      },
      "file_extension": ".py",
      "mimetype": "text/x-python",
      "name": "python",
      "nbconvert_exporter": "python",
      "pygments_lexer": "ipython3",
      "version": "3.8.13"
    }
  },
  "nbformat": 4,
  "nbformat_minor": 5
}
