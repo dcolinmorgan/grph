{
  "cells": [
    {
      "cell_type": "markdown",
      "metadata": {
        "id": "view-in-github",
        "colab_type": "text"
      },
      "source": [
        "<a href=\"https://colab.research.google.com/github/dcolinmorgan/grph/blob/main/cudf_cu_cat_bench.ipynb\" target=\"_parent\"><img src=\"https://colab.research.google.com/assets/colab-badge.svg\" alt=\"Open In Colab\"/></a>"
      ]
    },
    {
      "cell_type": "code",
      "execution_count": 1,
      "id": "3398dccc-fc11-4fcd-a6b8-7e3baf0c108d",
      "metadata": {
        "id": "3398dccc-fc11-4fcd-a6b8-7e3baf0c108d"
      },
      "outputs": [],
      "source": [
        "import locale\n",
        "def getpreferredencoding(do_setlocale = True):\n",
        "    return \"UTF-8\"\n",
        "locale.getpreferredencoding = getpreferredencoding"
      ]
    },
    {
      "cell_type": "code",
      "execution_count": 2,
      "id": "515b40ff-6af7-4160-a0d0-4b6dddb88485",
      "metadata": {
        "tags": [],
        "colab": {
          "base_uri": "https://localhost:8080/"
        },
        "id": "515b40ff-6af7-4160-a0d0-4b6dddb88485",
        "outputId": "c1ff5d46-2e12-44ef-b7b4-ac2f1879a2f0"
      },
      "outputs": [
        {
          "output_type": "stream",
          "name": "stdout",
          "text": [
            "Looking in indexes: https://pypi.org/simple, https://us-python.pkg.dev/colab-wheels/public/simple/\n",
            "Collecting git+https://github.com/graphistry/cu-cat.git@cudf-cat\n",
            "  Cloning https://github.com/graphistry/cu-cat.git (to revision cudf-cat) to /tmp/pip-req-build-rc98w5ip\n",
            "  Running command git clone --filter=blob:none --quiet https://github.com/graphistry/cu-cat.git /tmp/pip-req-build-rc98w5ip\n",
            "  Running command git checkout -b cudf-cat --track origin/cudf-cat\n",
            "  Switched to a new branch 'cudf-cat'\n",
            "  Branch 'cudf-cat' set up to track remote branch 'cudf-cat' from 'origin'.\n",
            "  Resolved https://github.com/graphistry/cu-cat.git to commit 0034eb570b7f6e0a77003c1d89a61bd706282261\n",
            "  Installing build dependencies ... \u001b[?25l\u001b[?25hdone\n",
            "  Getting requirements to build wheel ... \u001b[?25l\u001b[?25hdone\n",
            "  Preparing metadata (pyproject.toml) ... \u001b[?25l\u001b[?25hdone\n"
          ]
        }
      ],
      "source": [
        "# !pip install --extra-index-url=https://pypi.nvidia.com cuml-cu11==22.10.0 cudf-cu11==22.10.0 cugraph-cu11==22.10.0 pylibraft_cu11==22.10.0 raft_dask_cu11==22.10.0 dask_cudf_cu11==22.10.0 pylibcugraph_cu11==22.10.0 pylibraft_cu11==22.10.0\n",
        "# !pip install -U git+https://github.com/graphistry/pygraphistry.git@cudf_cat_alex\n",
        "!pip install --user --no-deps git+https://github.com/graphistry/cu-cat.git@cudf-cat #@0.01.0\n",
        "\n",
        "# cu-cat/tree/cudf-cat/cuCat"
      ]
    },
    {
      "cell_type": "code",
      "execution_count": 15,
      "id": "f61ad51b-f4fa-4706-a91b-b72a92ecf39c",
      "metadata": {
        "tags": [],
        "colab": {
          "base_uri": "https://localhost:8080/",
          "height": 35
        },
        "id": "f61ad51b-f4fa-4706-a91b-b72a92ecf39c",
        "outputId": "52b3f1bb-c87c-44ea-f659-ac4bc9b2cb85"
      },
      "outputs": [
        {
          "output_type": "execute_result",
          "data": {
            "text/plain": [
              "'22.10.00a+119.gb30ef85c1'"
            ],
            "application/vnd.google.colaboratory.intrinsic+json": {
              "type": "string"
            }
          },
          "metadata": {},
          "execution_count": 15
        }
      ],
      "source": [
        "import cuml,cudf\n",
        "cuml.__version__"
      ]
    },
    {
      "cell_type": "code",
      "execution_count": 4,
      "id": "acaa3721-5277-40f5-bddc-652d82d021d3",
      "metadata": {
        "tags": [],
        "id": "acaa3721-5277-40f5-bddc-652d82d021d3"
      },
      "outputs": [],
      "source": [
        "!echo \"0.01.0\" > VERSION.txt\n",
        "!cp VERSION.txt /root/.local/lib/python3.9/site-packages/cu_cat/"
      ]
    },
    {
      "cell_type": "code",
      "execution_count": null,
      "id": "65e8dccf-5b22-469b-b1db-1dcccaea2517",
      "metadata": {
        "tags": [],
        "id": "65e8dccf-5b22-469b-b1db-1dcccaea2517"
      },
      "outputs": [],
      "source": [
        "# from importlib import reload\n",
        "# reload(cu_cat)\n",
        "import cu_cat\n",
        "print(cu_cat.__file__)"
      ]
    },
    {
      "cell_type": "code",
      "execution_count": 6,
      "id": "a32fccec-327d-4328-9672-86baf42e11ca",
      "metadata": {
        "tags": [],
        "id": "a32fccec-327d-4328-9672-86baf42e11ca"
      },
      "outputs": [],
      "source": [
        "import os\n",
        "from collections import Counter\n",
        "import cProfile\n",
        "import pandas as pd\n",
        "import numpy as np\n",
        "import matplotlib.pyplot as plt\n",
        "from pstats import Stats\n",
        "import warnings\n",
        "warnings.filterwarnings('ignore')\n",
        "pd.set_option('display.max_colwidth', 200)\n"
      ]
    },
    {
      "cell_type": "code",
      "execution_count": 7,
      "id": "fb4ef11c-5e1d-4f36-a8a0-ae58fc0f0317",
      "metadata": {
        "colab": {
          "base_uri": "https://localhost:8080/",
          "height": 35
        },
        "id": "fb4ef11c-5e1d-4f36-a8a0-ae58fc0f0317",
        "outputId": "3f508dd3-24db-4e6a-e8ac-30bfc15961cd"
      },
      "outputs": [
        {
          "output_type": "execute_result",
          "data": {
            "text/plain": [
              "'0.28.6+290.gc583814'"
            ],
            "application/vnd.google.colaboratory.intrinsic+json": {
              "type": "string"
            }
          },
          "metadata": {},
          "execution_count": 7
        }
      ],
      "source": [
        "import graphistry\n",
        "graphistry.register(api=3,protocol=\"https\", server=\"hub.graphistry.com\", username='dcolinmorgan', password='fXjJnkE3Gik6BWy') ## key id, secret key\n",
        "graphistry.__version__\n"
      ]
    },
    {
      "cell_type": "code",
      "source": [
        "import logging\n",
        "logger = logging.getLogger()\n"
      ],
      "metadata": {
        "id": "xOXv_NNaCe_t"
      },
      "id": "xOXv_NNaCe_t",
      "execution_count": 8,
      "outputs": []
    },
    {
      "cell_type": "markdown",
      "id": "b9fa2d4e-53e8-4eb5-bdbf-c5c1908159ad",
      "metadata": {
        "jp-MarkdownHeadingCollapsed": true,
        "tags": [],
        "id": "b9fa2d4e-53e8-4eb5-bdbf-c5c1908159ad"
      },
      "source": [
        "### redteam"
      ]
    },
    {
      "cell_type": "code",
      "execution_count": 9,
      "id": "3fe52faa-c35c-492e-98c1-7cfc46888a5f",
      "metadata": {
        "tags": [],
        "colab": {
          "base_uri": "https://localhost:8080/"
        },
        "id": "3fe52faa-c35c-492e-98c1-7cfc46888a5f",
        "outputId": "05f53eaf-f424-44cc-c3ab-0239aa7197e2"
      },
      "outputs": [
        {
          "output_type": "execute_result",
          "data": {
            "text/plain": [
              "749.0"
            ]
          },
          "metadata": {},
          "execution_count": 9
        }
      ],
      "source": [
        "df = pd.read_csv('https://gist.githubusercontent.com/silkspace/c7b50d0c03dc59f63c48d68d696958ff/raw/31d918267f86f8252d42d2e9597ba6fc03fcdac2/redteam_50k.csv', index_col=0)\n",
        "red_team = pd.read_csv('https://gist.githubusercontent.com/silkspace/5cf5a94b9ac4b4ffe38904f20d93edb1/raw/888dabd86f88ea747cf9ff5f6c44725e21536465/redteam_labels.csv', index_col=0)\n",
        "df['feats'] = df.src_computer + ' ' + df.dst_computer + ' ' + df.auth_type + ' ' + df.logontype\n",
        "df['feats2'] = df.src_computer + ' ' + df.dst_computer\n",
        "ndf = df.drop_duplicates(subset=['feats'])\n",
        "tdf = pd.concat([red_team.reset_index(), ndf.reset_index()])\n",
        "tdf['node'] = range(len(tdf))\n",
        "tdf.RED.sum()"
      ]
    },
    {
      "cell_type": "code",
      "execution_count": 19,
      "id": "28017a3b-6a39-4c33-8d6d-78cecb73ecf2",
      "metadata": {
        "tags": [],
        "colab": {
          "base_uri": "https://localhost:8080/"
        },
        "id": "28017a3b-6a39-4c33-8d6d-78cecb73ecf2",
        "outputId": "258409d3-68fd-4c97-8414-322138bac21e"
      },
      "outputs": [
        {
          "output_type": "stream",
          "name": "stderr",
          "text": [
            "WARNING:graphistry.umap_utils:* Ignoring target column of shape (19762, 0) in UMAP fit, as it is not one dimensional"
          ]
        },
        {
          "output_type": "stream",
          "name": "stdout",
          "text": [
            "         10070594 function calls (9911042 primitive calls) in 73.639 seconds\n",
            "\n",
            "   Ordered by: internal time\n",
            "   List reduced from 2272 to 20 due to restriction <20>\n",
            "\n",
            "   ncalls  tottime  percall  cumtime  percall filename:lineno(function)\n",
            "        8   22.379    2.797   28.023    3.503 /root/.local/lib/python3.9/site-packages/cu_cat/_gap_encoder.py:1012(_multiplicative_update_h_smallfast)\n",
            "        3   16.340    5.447   16.340    5.447 /usr/local/lib/python3.9/dist-packages/numpy/lib/arraysetops.py:519(in1d)\n",
            "42818/42590    8.018    0.000   24.475    0.001 {built-in method numpy.core._multiarray_umath.implement_array_function}\n",
            "    39524    6.540    0.000    7.999    0.000 /usr/local/lib/python3.9/dist-packages/pandas/core/missing.py:61(mask_missing)\n",
            "     4931    5.034    0.001    5.091    0.001 /usr/local/lib/python3.9/dist-packages/rmm/rmm.py:216(rmm_cupy_allocator)\n",
            "    39569    3.687    0.000    3.687    0.000 {method 'copy' of 'numpy.ndarray' objects}\n",
            "    79499    2.046    0.000    2.046    0.000 {method 'reduce' of 'numpy.ufunc' objects}\n",
            "        7    0.782    0.112    2.401    0.343 /usr/local/lib/python3.9/dist-packages/sklearn/feature_extraction/text.py:1258(_count_vocab)\n",
            "    63053    0.618    0.000    0.868    0.000 /usr/local/lib/python3.9/dist-packages/sklearn/feature_extraction/text.py:275(_char_ngrams)\n",
            "      243    0.516    0.002    0.691    0.003 /usr/local/lib/python3.9/dist-packages/cupyx/scipy/sparse/csr.py:148(__mul__)\n",
            "1679033/1520751    0.480    0.000    0.880    0.000 {built-in method builtins.isinstance}\n",
            "        5    0.382    0.076    0.755    0.151 /root/.local/lib/python3.9/site-packages/cu_cat/_gap_encoder.py:917(_multiplicative_update_w_smallfast)\n",
            "    39666    0.369    0.000    0.369    0.000 {built-in method numpy.zeros}\n",
            "   118661    0.340    0.000    0.780    0.000 /usr/local/lib/python3.9/dist-packages/pandas/core/dtypes/cast.py:2187(np_can_hold_element)\n",
            "       31    0.265    0.009    0.265    0.009 {built-in method scipy.sparse._sparsetools.csc_tocsr}\n",
            "    39566    0.241    0.000   15.846    0.000 /usr/local/lib/python3.9/dist-packages/pandas/core/internals/blocks.py:649(replace)\n",
            "        4    0.233    0.058   24.761    6.190 /usr/local/lib/python3.9/dist-packages/pandas/core/internals/blocks.py:766(replace_list)\n",
            "  2856258    0.204    0.000    0.204    0.000 {method 'append' of 'list' objects}\n",
            "    39525    0.193    0.000    8.492    0.000 /usr/local/lib/python3.9/dist-packages/pandas/core/array_algos/putmask.py:27(putmask_inplace)\n",
            "   109832    0.180    0.000    0.180    0.000 {method 'extend' of 'array.array' objects}\n",
            "\n",
            "\n",
            "CPU times: user 1min 3s, sys: 7.2 s, total: 1min 11s\n",
            "Wall time: 1min 13s\n"
          ]
        }
      ],
      "source": [
        "%%time\n",
        "# process = True  # set to false after it's run for ease of speed\n",
        "pr = cProfile.Profile()\n",
        "pr.enable()\n",
        "\n",
        "g = graphistry.nodes(tdf, 'node')\n",
        "\n",
        "g5a = g.umap(X=['feats'], \n",
        "            min_words=1000000, # force high so that we don't use Sentence Transformers\n",
        "            cardinality_threshold=4, # set low so we force topic model\n",
        "            n_topics=32, # number of topics\n",
        "            use_scaler=None,\n",
        "            feature_engine='cu_cat',\n",
        "            memoize=False,\n",
        "             remove_node_column=False,\n",
        "            engine='cuml',\n",
        "            use_scaler_target=None\n",
        "           )\n",
        "\n",
        "pr.disable()\n",
        "stats = Stats(pr)\n",
        "stats.sort_stats('tottime').print_stats(20)\n",
        "\n",
        "with open('redteam_umap_cu_cat.txt', 'w') as stream:\n",
        "    stats = Stats(pr,stream=stream)\n",
        "    stats.sort_stats('tottime').print_stats(20)"
      ]
    },
    {
      "cell_type": "code",
      "execution_count": 20,
      "id": "df94cfc1-ef21-4ff8-b81f-8f5b08968129",
      "metadata": {
        "tags": [],
        "colab": {
          "base_uri": "https://localhost:8080/"
        },
        "id": "df94cfc1-ef21-4ff8-b81f-8f5b08968129",
        "outputId": "306d0185-bd89-4bbc-d92a-2f2f70d832e3"
      },
      "outputs": [
        {
          "output_type": "stream",
          "name": "stderr",
          "text": [
            "WARNING:root:Target is not of type(DataFrame) and has no columnsWARNING:graphistry.umap_utils:* Ignoring target column of shape (19762, 0) in UMAP fit, as it is not one dimensional"
          ]
        },
        {
          "output_type": "stream",
          "name": "stdout",
          "text": [
            "         5074395 function calls (4992653 primitive calls) in 48.107 seconds\n",
            "\n",
            "   Ordered by: internal time\n",
            "   List reduced from 2337 to 20 due to restriction <20>\n",
            "\n",
            "   ncalls  tottime  percall  cumtime  percall filename:lineno(function)\n",
            "        8   22.795    2.849   27.980    3.498 /root/.local/lib/python3.9/site-packages/cu_cat/_gap_encoder.py:1012(_multiplicative_update_h_smallfast)\n",
            "        3   14.617    4.872   14.618    4.873 /usr/local/lib/python3.9/dist-packages/numpy/lib/arraysetops.py:519(in1d)\n",
            "     4909    4.685    0.001    4.743    0.001 /usr/local/lib/python3.9/dist-packages/rmm/rmm.py:216(rmm_cupy_allocator)\n",
            "        7    1.017    0.145    3.119    0.446 /usr/local/lib/python3.9/dist-packages/sklearn/feature_extraction/text.py:1258(_count_vocab)\n",
            "    63053    0.842    0.000    1.176    0.000 /usr/local/lib/python3.9/dist-packages/sklearn/feature_extraction/text.py:275(_char_ngrams)\n",
            "      240    0.516    0.002    0.702    0.003 /usr/local/lib/python3.9/dist-packages/cupyx/scipy/sparse/csr.py:148(__mul__)\n",
            "       31    0.277    0.009    0.277    0.009 {built-in method scipy.sparse._sparsetools.csc_tocsr}\n",
            "  2856319    0.268    0.000    0.268    0.000 {method 'append' of 'list' objects}\n",
            "   109832    0.244    0.000    0.244    0.000 {method 'extend' of 'array.array' objects}\n",
            "        5    0.241    0.048    0.740    0.148 /root/.local/lib/python3.9/site-packages/cu_cat/_gap_encoder.py:917(_multiplicative_update_w_smallfast)\n",
            "   109832    0.149    0.000    1.523    0.000 /usr/local/lib/python3.9/dist-packages/sklearn/feature_extraction/text.py:75(_analyze)\n",
            "        1    0.128    0.128    0.156    0.156 /usr/local/lib/python3.9/dist-packages/cuml/internals/api_decorators.py:397(inner_with_setters)\n",
            "2368/2358    0.126    0.000    0.126    0.000 {built-in method numpy.asarray}\n",
            "        7    0.092    0.013    0.092    0.013 /root/.local/lib/python3.9/site-packages/cu_cat/_gap_encoder.py:169(_get_H)\n",
            "   102577    0.089    0.000    0.089    0.000 {method 'sub' of 're.Pattern' objects}\n",
            "       31    0.084    0.003    0.084    0.003 {built-in method scipy.sparse._sparsetools.csr_matmat}\n",
            "   109926    0.076    0.000    0.076    0.000 {method 'extend' of 'list' objects}\n",
            "        7    0.072    0.010    0.072    0.010 {built-in method scipy.sparse._sparsetools.csr_sort_indices}\n",
            "306472/227244    0.062    0.000    0.142    0.000 {built-in method builtins.isinstance}\n",
            "   109832    0.059    0.000    0.076    0.000 /usr/local/lib/python3.9/dist-packages/sklearn/feature_extraction/text.py:213(decode)\n",
            "\n",
            "\n",
            "CPU times: user 40 s, sys: 6.47 s, total: 46.5 s\n",
            "Wall time: 48.2 s\n"
          ]
        }
      ],
      "source": [
        "%%time\n",
        "# process = True  # set to false after it's run for ease of speed\n",
        "pr = cProfile.Profile()\n",
        "pr.enable()\n",
        "\n",
        "g = graphistry.nodes(cudf.from_pandas(tdf), 'node')\n",
        "\n",
        "g5b = g.umap(X=['feats'], \n",
        "            min_words=1000000, # force high so that we don't use Sentence Transformers\n",
        "            cardinality_threshold=4, # set low so we force topic model\n",
        "            n_topics=32, # number of topics\n",
        "            use_scaler=None,\n",
        "            feature_engine='cu_cat',\n",
        "            memoize=False,\n",
        "             remove_node_column=False,\n",
        "            engine='cuml',\n",
        "            use_scaler_target=None\n",
        "           )\n",
        "\n",
        "pr.disable()\n",
        "stats = Stats(pr)\n",
        "stats.sort_stats('tottime').print_stats(20)\n",
        "\n",
        "with open('redteam_umap_cudf_cu_cat.txt', 'w') as stream:\n",
        "    stats = Stats(pr,stream=stream)\n",
        "    stats.sort_stats('tottime').print_stats(20)"
      ]
    },
    {
      "cell_type": "code",
      "source": [
        "# !pip install dirty_cat"
      ],
      "metadata": {
        "id": "33gBHa-nGv_k"
      },
      "id": "33gBHa-nGv_k",
      "execution_count": 21,
      "outputs": []
    },
    {
      "cell_type": "code",
      "execution_count": 22,
      "id": "343d14cc-e1e4-4f6c-aa0d-ff4e6f0dcefa",
      "metadata": {
        "tags": [],
        "colab": {
          "base_uri": "https://localhost:8080/"
        },
        "id": "343d14cc-e1e4-4f6c-aa0d-ff4e6f0dcefa",
        "outputId": "0b5f3972-c9b9-4060-af06-ac09cca9b627"
      },
      "outputs": [
        {
          "output_type": "stream",
          "name": "stderr",
          "text": [
            "WARNING:graphistry.umap_utils:* Ignoring target column of shape (19762, 0) in UMAP fit, as it is not one dimensional"
          ]
        },
        {
          "output_type": "stream",
          "name": "stdout",
          "text": [
            "         28856834 function calls (28697263 primitive calls) in 95.215 seconds\n",
            "\n",
            "   Ordered by: internal time\n",
            "   List reduced from 2174 to 20 due to restriction <20>\n",
            "\n",
            "   ncalls  tottime  percall  cumtime  percall filename:lineno(function)\n",
            "3004535/3004296   18.719    0.000   35.050    0.000 {built-in method numpy.core._multiarray_umath.implement_array_function}\n",
            "        3   16.110    5.370   16.110    5.370 /usr/local/lib/python3.9/dist-packages/numpy/lib/arraysetops.py:519(in1d)\n",
            "     1054   14.352    0.014   40.516    0.038 /usr/local/lib/python3.9/dist-packages/dirty_cat/_gap_encoder.py:1003(_multiplicative_update_h)\n",
            "    39524    5.489    0.000    7.025    0.000 /usr/local/lib/python3.9/dist-packages/pandas/core/missing.py:61(mask_missing)\n",
            "    39616    3.459    0.000    3.459    0.000 {method 'copy' of 'numpy.ndarray' objects}\n",
            "      775    3.441    0.004   10.193    0.013 /usr/local/lib/python3.9/dist-packages/dirty_cat/_gap_encoder.py:971(_multiplicative_update_w)\n",
            "   272946    3.164    0.000    6.766    0.000 /usr/local/lib/python3.9/dist-packages/scipy/sparse/_sputils.py:147(get_index_dtype)\n",
            "   134889    2.902    0.000    8.154    0.000 /usr/local/lib/python3.9/dist-packages/scipy/sparse/_compressed.py:136(check_format)\n",
            "  2415953    2.352    0.000   13.356    0.000 <__array_function__ internals>:177(dot)\n",
            "    90353    2.239    0.000    2.239    0.000 {method 'reduce' of 'numpy.ufunc' objects}\n",
            "   585424    1.515    0.000    1.515    0.000 /usr/local/lib/python3.9/dist-packages/numpy/core/getlimits.py:647(__init__)\n",
            "134889/134858    1.388    0.000   17.023    0.000 /usr/local/lib/python3.9/dist-packages/scipy/sparse/_compressed.py:26(__init__)\n",
            "        7    1.060    0.151    3.286    0.469 /usr/local/lib/python3.9/dist-packages/sklearn/feature_extraction/text.py:1258(_count_vocab)\n",
            "   134889    0.930    0.000    2.100    0.000 /usr/local/lib/python3.9/dist-packages/scipy/sparse/_compressed.py:1168(prune)\n",
            "    63053    0.888    0.000    1.232    0.000 /usr/local/lib/python3.9/dist-packages/sklearn/feature_extraction/text.py:275(_char_ngrams)\n",
            "   133914    0.829    0.000   17.275    0.000 /usr/local/lib/python3.9/dist-packages/scipy/sparse/_csr.py:236(__iter__)\n",
            "   488367    0.770    0.000    0.770    0.000 {built-in method numpy.array}\n",
            "   136442    0.732    0.000    1.447    0.000 /usr/local/lib/python3.9/dist-packages/scipy/sparse/_sputils.py:295(check_shape)\n",
            "2245511/2087229    0.674    0.000    1.090    0.000 {built-in method builtins.isinstance}\n",
            "    24800    0.575    0.000    0.575    0.000 {built-in method scipy.sparse._sparsetools.coo_matvec}\n",
            "\n",
            "\n",
            "CPU times: user 1min 33s, sys: 31.2 s, total: 2min 5s\n",
            "Wall time: 1min 35s\n"
          ]
        }
      ],
      "source": [
        "%%time\n",
        "# process = True  # set to false after it's run for ease of speed\n",
        "pr = cProfile.Profile()\n",
        "pr.enable()\n",
        "\n",
        "g = graphistry.nodes((tdf), 'node')\n",
        "\n",
        "g5c = g.umap(X=['feats'], \n",
        "            min_words=1000000, # force high so that we don't use Sentence Transformers\n",
        "            cardinality_threshold=4, # set low so we force topic model\n",
        "            n_topics=32, # number of topics\n",
        "            use_scaler=None,\n",
        "            feature_engine='dirty_cat',\n",
        "            memoize=False,\n",
        "            #  remove_node_column=False,\n",
        "            engine='cuml',\n",
        "            use_scaler_target=None\n",
        "           )\n",
        "\n",
        "pr.disable()\n",
        "stats = Stats(pr)\n",
        "stats.sort_stats('tottime').print_stats(20)\n",
        "\n",
        "with open('redteam_umap_dirty_cat.txt', 'w') as stream:\n",
        "    stats = Stats(pr,stream=stream)\n",
        "    stats.sort_stats('tottime').print_stats(20)"
      ]
    },
    {
      "cell_type": "markdown",
      "id": "a1f6bcea-42c9-4f00-baf1-86e4c4349434",
      "metadata": {
        "jp-MarkdownHeadingCollapsed": true,
        "tags": [],
        "id": "a1f6bcea-42c9-4f00-baf1-86e4c4349434"
      },
      "source": [
        "### ask HN"
      ]
    },
    {
      "cell_type": "code",
      "execution_count": 23,
      "id": "44bbd703-0c8c-48cc-be2c-f4bbe53879d4",
      "metadata": {
        "tags": [],
        "id": "44bbd703-0c8c-48cc-be2c-f4bbe53879d4"
      },
      "outputs": [],
      "source": [
        "# # get the data top 3000 posts on Hacker News\n",
        "askHN = pd.read_csv('https://storage.googleapis.com/cohere-assets/blog/text-clustering/data/askhn3k_df.csv', index_col=0)\n",
        "\n",
        "# df = askHN.sample(1000,replace=True) # set smaller if you want to test a minibatch \n",
        "# df = df[['text','title']]\n",
        "# df['title'] = df['title'].sample(frac=1).values"
      ]
    },
    {
      "cell_type": "code",
      "execution_count": null,
      "id": "cab7e1db-329c-4be7-9760-471d0e9916a6",
      "metadata": {
        "tags": [],
        "colab": {
          "base_uri": "https://localhost:8080/"
        },
        "id": "cab7e1db-329c-4be7-9760-471d0e9916a6",
        "outputId": "c72cce13-c198-4175-b13d-baa35510e620"
      },
      "outputs": [
        {
          "output_type": "stream",
          "name": "stderr",
          "text": [
            "WARNING:root:Target is not of type(DataFrame) and has no columns"
          ]
        },
        {
          "output_type": "stream",
          "name": "stdout",
          "text": [
            "Featurizing nodes with feature_engine=cu_cat\n"
          ]
        }
      ],
      "source": [
        "g = graphistry.nodes(cudf.from_pandas(askHN))\n",
        "pr = cProfile.Profile()\n",
        "pr.enable()\n",
        "\n",
        "g1 = g.featurize(feature_engine='cu_cat',memoize=False,remove_node_column=False)\n",
        "# g1a = g1.umap(engine='cuml')#,feature_engine='cu_cat',memoize=False)\n",
        "\n",
        "pr.disable()\n",
        "stats = Stats(pr)\n",
        "stats.sort_stats('tottime').print_stats(20)\n",
        "\n",
        "with open('aHN_umap_cudf-cu_cat_3k.txt', 'w') as stream:\n",
        "    stats = Stats(pr,stream=stream)\n",
        "    stats.sort_stats('tottime').print_stats(20)"
      ]
    },
    {
      "cell_type": "code",
      "execution_count": null,
      "id": "ef216a0b-2074-42cf-a70d-b3cb40fafd5d",
      "metadata": {
        "id": "ef216a0b-2074-42cf-a70d-b3cb40fafd5d"
      },
      "outputs": [],
      "source": [
        "g1a = g1.umap(engine='cuml')"
      ]
    },
    {
      "cell_type": "code",
      "execution_count": null,
      "id": "353f72e4-2119-4546-9dcb-45647881ab2d",
      "metadata": {
        "tags": [],
        "id": "353f72e4-2119-4546-9dcb-45647881ab2d"
      },
      "outputs": [],
      "source": [
        "g = graphistry.nodes(askHN)\n",
        "pr = cProfile.Profile()\n",
        "pr.enable()\n",
        "\n",
        "g2 = g.featurize(feature_engine='cu_cat',memoize=False,remove_node_column=False)\n",
        "# g2a = g2.umap(engine='cuml')#,feature_engine='cu_cat',memoize=False)\n",
        "\n",
        "pr.disable()\n",
        "stats = Stats(pr)\n",
        "stats.sort_stats('tottime').print_stats(20)\n",
        "\n",
        "with open('aHN_umap_cu_cat_3k.txt', 'w') as stream:\n",
        "    stats = Stats(pr,stream=stream)\n",
        "    stats.sort_stats('tottime').print_stats(20)"
      ]
    },
    {
      "cell_type": "code",
      "source": [
        "g2a = g2.umap(engine='cuml')"
      ],
      "metadata": {
        "id": "aHaet8UvIYlu"
      },
      "id": "aHaet8UvIYlu",
      "execution_count": null,
      "outputs": []
    },
    {
      "cell_type": "code",
      "execution_count": null,
      "id": "505ed578-f056-4d53-9feb-514f07aa0ca3",
      "metadata": {
        "tags": [],
        "id": "505ed578-f056-4d53-9feb-514f07aa0ca3"
      },
      "outputs": [],
      "source": [
        "g = graphistry.nodes(askHN)\n",
        "pr = cProfile.Profile()\n",
        "pr.enable()\n",
        "\n",
        "\n",
        "g3 = g.featurize(feature_engine='dirty_cat',memoize=False,remove_node_column=False)\n",
        "# g3a = g3.umap(engine='cuml')#,feature_engine='cu_cat',memoize=False)\n",
        "\n",
        "pr.disable()\n",
        "stats = Stats(pr)\n",
        "stats.sort_stats('tottime').print_stats(20)\n",
        "\n",
        "with open('aHN_umap_dirtycat_3k.txt', 'w') as stream:\n",
        "    stats = Stats(pr,stream=stream)\n",
        "    stats.sort_stats('tottime').print_stats(20)"
      ]
    },
    {
      "cell_type": "code",
      "source": [],
      "metadata": {
        "id": "hX157ptIIaXK"
      },
      "id": "hX157ptIIaXK",
      "execution_count": null,
      "outputs": []
    },
    {
      "cell_type": "code",
      "execution_count": null,
      "id": "a5599817-e773-4369-9049-ea7fc4d7cfa6",
      "metadata": {
        "tags": [],
        "id": "a5599817-e773-4369-9049-ea7fc4d7cfa6"
      },
      "outputs": [],
      "source": [
        "# g1a.plot()"
      ]
    },
    {
      "cell_type": "code",
      "execution_count": null,
      "id": "e6d6b656-ef14-4e9c-8032-d8f551e04438",
      "metadata": {
        "tags": [],
        "id": "e6d6b656-ef14-4e9c-8032-d8f551e04438"
      },
      "outputs": [],
      "source": [
        "# g1b.plot()"
      ]
    },
    {
      "cell_type": "markdown",
      "id": "3eb4ae8b-2a14-43fe-ac7f-1714e38272aa",
      "metadata": {
        "jp-MarkdownHeadingCollapsed": true,
        "tags": [],
        "id": "3eb4ae8b-2a14-43fe-ac7f-1714e38272aa"
      },
      "source": [
        "### CTU-13 malware dataset"
      ]
    },
    {
      "cell_type": "code",
      "execution_count": null,
      "id": "3b2f1b00-6984-44c2-9148-6f38282bc0de",
      "metadata": {
        "tags": [],
        "id": "3b2f1b00-6984-44c2-9148-6f38282bc0de"
      },
      "outputs": [],
      "source": [
        "edf = pd.read_csv('https://gist.githubusercontent.com/silkspace/33bde3e69ae24fee1298a66d1e00b467/raw/dc66bd6f1687270be7098f94b3929d6a055b4438/malware_bots.csv', index_col=0)\n",
        "T = edf.Label.apply(lambda x: True if 'Botnet' in x else False)\n",
        "bot = edf[T]\n",
        "nbot = edf[~T]\n",
        "print(f'Botnet abundance: {100*len(bot)/len(edf):0.2f}%')# so botnet traffic makes up a tiny fraction of total\n",
        "\n",
        "# let's balance the dataset in a 10-1 ratio, for speed and demonstrative purposes\n",
        "negs = nbot.sample(10*len(bot))\n",
        "edf = pd.concat([bot, negs])  # top part of arrays are bot traffic, then all non-bot traffic\n",
        "edf = edf.drop_duplicates()\n",
        "\n",
        "# some useful indicators for later that predict Botnet as Bool and Int\n",
        "Y = edf.Label.apply(lambda x: 1 if 'Botnet' in x else 0)  # np.array(T)\n",
        "\n",
        "# Later we will use and exploit any meaning shared between the labels in a latent distribution\n",
        "\n",
        "# add it to the dataframe\n",
        "edf['bot'] = Y\n",
        "\n",
        "# name some columns for edges and features\n",
        "src = 'SrcAddr'\n",
        "dst = 'DstAddr'\n",
        "good_cols_with_edges = ['Dur', 'Proto', 'Sport',\n",
        "       'Dport', 'State', 'TotPkts', 'TotBytes', 'SrcBytes', src, dst]\n",
        "\n",
        "good_cols_without_edges = ['Dur', 'Proto', 'Sport',\n",
        "       'Dport', 'State', 'TotPkts', 'TotBytes', 'SrcBytes']\n",
        "\n",
        "## some encoding parameters\n",
        "n_topics = 20\n",
        "n_topics_target = 7\n",
        "\n"
      ]
    },
    {
      "cell_type": "code",
      "execution_count": null,
      "id": "294da65b-8116-41a9-93e7-6c6c5b7accdb",
      "metadata": {
        "tags": [],
        "id": "294da65b-8116-41a9-93e7-6c6c5b7accdb"
      },
      "outputs": [],
      "source": [
        "# lets umap the data\n",
        "g = graphistry.edges(cudf.from_pandas(edf), src, dst)\n",
        "\n",
        "pr = cProfile.Profile()\n",
        "pr.enable()\n",
        "g6b = g.umap(kind='edges', \n",
        "            X=good_cols_with_edges, \n",
        "            y = ['bot'], \n",
        "            use_scaler='quantile',\n",
        "            use_scaler_target=None,\n",
        "            cardinality_threshold=20,\n",
        "            cardinality_threshold_target=2, \n",
        "            n_topics=n_topics,\n",
        "            feature_engine='cu_cat',\n",
        "            engine='cuml',\n",
        "            memoize=False,\n",
        "            n_topics_target=n_topics_target,\n",
        "            n_bins=n_topics_target,\n",
        "            metric='euclidean', \n",
        "            n_neighbors=12)\n",
        "pr.disable()\n",
        "stats = Stats(pr)\n",
        "stats.sort_stats('tottime').print_stats(20)\n",
        "\n",
        "with open('ctu13_umap_cudf-cu_cat.txt', 'w') as stream:\n",
        "    stats = Stats(pr,stream=stream)\n",
        "    stats.sort_stats('tottime').print_stats(20)\n"
      ]
    },
    {
      "cell_type": "code",
      "execution_count": null,
      "id": "b0947964-efba-43be-acdc-39e52d7e2261",
      "metadata": {
        "tags": [],
        "id": "b0947964-efba-43be-acdc-39e52d7e2261"
      },
      "outputs": [],
      "source": [
        "# lets umap the data\n",
        "g = graphistry.edges(edf, src, dst)\n",
        "\n",
        "pr = cProfile.Profile()\n",
        "pr.enable()\n",
        "g6a = g.umap(kind='edges', \n",
        "            X=good_cols_with_edges, \n",
        "            y = ['bot'], \n",
        "            use_scaler='quantile',\n",
        "            use_scaler_target=None,\n",
        "            cardinality_threshold=20,\n",
        "            cardinality_threshold_target=2, \n",
        "            n_topics=n_topics,\n",
        "            feature_engine='cu_cat',\n",
        "            engine='cuml',\n",
        "            memoize=False,\n",
        "            n_topics_target=n_topics_target,\n",
        "            n_bins=n_topics_target,\n",
        "            metric='euclidean', \n",
        "            n_neighbors=12)\n",
        "pr.disable()\n",
        "stats = Stats(pr)\n",
        "stats.sort_stats('tottime').print_stats(20)\n",
        "\n",
        "with open('ctu13_umap_cu_cat.txt', 'w') as stream:\n",
        "    stats = Stats(pr,stream=stream)\n",
        "    stats.sort_stats('tottime').print_stats(20)\n"
      ]
    },
    {
      "cell_type": "code",
      "execution_count": null,
      "id": "066c8421-4c91-4e6a-b6de-07a62eecdfb1",
      "metadata": {
        "tags": [],
        "id": "066c8421-4c91-4e6a-b6de-07a62eecdfb1"
      },
      "outputs": [],
      "source": [
        "### lets umap the data\n",
        "g = graphistry.edges(edf, src, dst)\n",
        "pr = cProfile.Profile()\n",
        "pr.enable()\n",
        "g6c = g.umap(kind='edges', \n",
        "            X=good_cols_with_edges, \n",
        "            y = ['bot'], \n",
        "            use_scaler='quantile',\n",
        "            use_scaler_target=None,\n",
        "            cardinality_threshold=20,\n",
        "            cardinality_threshold_target=2, \n",
        "            n_topics=n_topics,\n",
        "            feature_engine='dirty_cat',\n",
        "            engine='cuml',\n",
        "            memoize=False,\n",
        "            n_topics_target=n_topics_target,\n",
        "            n_bins=n_topics_target,\n",
        "            metric='euclidean', \n",
        "            n_neighbors=12)\n",
        "pr.disable()\n",
        "stats = Stats(pr)\n",
        "stats.sort_stats('tottime').print_stats(20)\n",
        "\n",
        "with open('ctu13_umap_dirtycat.txt', 'w') as stream:\n",
        "    stats = Stats(pr,stream=stream)\n",
        "    stats.sort_stats('tottime').print_stats(20)\n"
      ]
    },
    {
      "cell_type": "markdown",
      "id": "6657b008-5094-42fd-96a8-177edf7e5ebd",
      "metadata": {
        "tags": [],
        "id": "6657b008-5094-42fd-96a8-177edf7e5ebd"
      },
      "source": [
        "### 20newsgroups"
      ]
    },
    {
      "cell_type": "code",
      "execution_count": null,
      "id": "625c5db9-bd1e-40df-9cce-604a675de2aa",
      "metadata": {
        "tags": [],
        "id": "625c5db9-bd1e-40df-9cce-604a675de2aa"
      },
      "outputs": [],
      "source": [
        "from sklearn.datasets import fetch_20newsgroups\n",
        "# newsgroups = fetch_20newsgroups()#categories=categories)\n",
        "n_samples = 1000\n",
        "# n_features = 1000\n",
        "# n_components = 10\n",
        "# n_top_words = 20\n",
        "# batch_size = 128\n",
        "# init = \"nndsvda\"\n",
        "\n",
        "news, _ = fetch_20newsgroups(\n",
        "    shuffle=True,\n",
        "    random_state=1,\n",
        "    remove=(\"headers\", \"footers\", \"quotes\"),\n",
        "    return_X_y=True,\n",
        ")\n",
        "\n",
        "news = news[:n_samples]\n",
        "news=pd.DataFrame(news)"
      ]
    },
    {
      "cell_type": "code",
      "execution_count": null,
      "id": "427e3cb3-60fe-4289-9655-fbdecda1a9ca",
      "metadata": {
        "tags": [],
        "id": "427e3cb3-60fe-4289-9655-fbdecda1a9ca"
      },
      "outputs": [],
      "source": [
        "g = graphistry.nodes(cudf.from_pandas(news))\n",
        "pr = cProfile.Profile()\n",
        "pr.enable()\n",
        "\n",
        "\n",
        "g8 = g.featurize(feature_engine='cu_cat',memoize=False,remove_node_column=False)\n",
        "g8b = g8.umap(engine='cuml')#,feature_engine='cu_cat',memoize=False)\n",
        "\n",
        "pr.disable()\n",
        "stats = Stats(pr)\n",
        "stats.sort_stats('tottime').print_stats(20)\n",
        "\n",
        "with open('20news_umap_cudf-cu_cat.txt', 'w') as stream:\n",
        "    stats = Stats(pr,stream=stream)\n",
        "    stats.sort_stats('tottime').print_stats(20)"
      ]
    },
    {
      "cell_type": "code",
      "execution_count": null,
      "id": "9683c33e-aa71-47a2-87f2-16b69d482a85",
      "metadata": {
        "tags": [],
        "id": "9683c33e-aa71-47a2-87f2-16b69d482a85"
      },
      "outputs": [],
      "source": [
        "g = graphistry.nodes(news)\n",
        "pr = cProfile.Profile()\n",
        "pr.enable()\n",
        "\n",
        "\n",
        "g7 = g.featurize(feature_engine='cu_cat',memoize=False,remove_node_column=False)\n",
        "g7a = g7.umap(engine='cuml')#,feature_engine='cu_cat',memoize=False)\n",
        "\n",
        "pr.disable()\n",
        "stats = Stats(pr)\n",
        "stats.sort_stats('tottime').print_stats(20)\n",
        "\n",
        "with open('20news_umap_cu_cat.txt', 'w') as stream:\n",
        "    stats = Stats(pr,stream=stream)\n",
        "    stats.sort_stats('tottime').print_stats(20)"
      ]
    },
    {
      "cell_type": "code",
      "execution_count": null,
      "id": "b88c5fba-32d3-4140-9a9e-8fd6a652f07c",
      "metadata": {
        "tags": [],
        "id": "b88c5fba-32d3-4140-9a9e-8fd6a652f07c"
      },
      "outputs": [],
      "source": [
        "g = graphistry.nodes(news)\n",
        "pr = cProfile.Profile()\n",
        "pr.enable()\n",
        "\n",
        "g9 = g.featurize(feature_engine='dirty_cat',memoize=False,remove_node_column=False)\n",
        "g9c = g9.umap(engine='cuml')#,feature_engine='cu_cat',memoize=False)\n",
        "\n",
        "pr.disable()\n",
        "stats = Stats(pr)\n",
        "stats.sort_stats('tottime').print_stats(20)\n",
        "\n",
        "with open('20news_umap_dirtycat.txt', 'w') as stream:\n",
        "    stats = Stats(pr,stream=stream)\n",
        "    stats.sort_stats('tottime').print_stats(20)"
      ]
    },
    {
      "cell_type": "markdown",
      "id": "f2eafa7a-9b51-492a-ab0e-ed7ec89a2a6f",
      "metadata": {
        "tags": [],
        "id": "f2eafa7a-9b51-492a-ab0e-ed7ec89a2a6f"
      },
      "source": [
        "### winlogs"
      ]
    },
    {
      "cell_type": "code",
      "execution_count": null,
      "id": "216f66ba-18a5-4ac5-bb10-b7aefe086df0",
      "metadata": {
        "tags": [],
        "id": "216f66ba-18a5-4ac5-bb10-b7aefe086df0"
      },
      "outputs": [],
      "source": [
        "winlogs=pd.read_parquet('part.88 (1).parquet')\n",
        "winlogs=winlogs.sample(100000,replace=False).iloc[:,:10]\n",
        "\n",
        "g = graphistry.nodes(winlogs)\n",
        "pr = cProfile.Profile()\n",
        "pr.enable()\n",
        "\n",
        "g10 = g.featurize(feature_engine='cu_cat',memoize=False,remove_node_column=False)\n",
        "g10a = g10.umap(engine='cuml')#,feature_engine='cu_cat',memoize=False)\n",
        "\n",
        "pr.disable()\n",
        "stats = Stats(pr)\n",
        "stats.sort_stats('tottime').print_stats(20)\n",
        "\n",
        "with open('winlogs_featurize+umap_cu_cat_100k.txt', 'w') as stream:\n",
        "    stats = Stats(pr,stream=stream)\n",
        "    stats.sort_stats('tottime').print_stats(20)\n",
        "\n",
        "g = graphistry.nodes(cudf.from_pandas(winlogs))\n",
        "pr = cProfile.Profile()\n",
        "pr.enable()\n",
        "\n",
        "g11 = g.featurize(feature_engine='cu_cat',memoize=False,remove_node_column=False)\n",
        "g11b = g11.umap(engine='cuml')#,feature_engine='cu_cat',memoize=False)\n",
        "\n",
        "pr.disable()\n",
        "stats = Stats(pr)\n",
        "stats.sort_stats('tottime').print_stats(20)\n",
        "\n",
        "with open('winlogs_featurize+umap_cudf-cu_cat_100k.txt', 'w') as stream:\n",
        "    stats = Stats(pr,stream=stream)\n",
        "    stats.sort_stats('tottime').print_stats(20)\n",
        "\n",
        "\n",
        "g = graphistry.nodes(winlogs)\n",
        "pr = cProfile.Profile()\n",
        "pr.enable()\n",
        "\n",
        "\n",
        "g12 = g.featurize(feature_engine='cu_cat',memoize=False,remove_node_column=False)\n",
        "g12c = g12.umap(engine='cuml')#,feature_engine='cu_cat',memoize=False)\n",
        "\n",
        "pr.disable()\n",
        "stats = Stats(pr)\n",
        "stats.sort_stats('tottime').print_stats(20)\n",
        "\n",
        "with open('winlogs_featurize+umap_dirtycat_100k.txt', 'w') as stream:\n",
        "    stats = Stats(pr,stream=stream)\n",
        "    stats.sort_stats('tottime').print_stats(20)"
      ]
    },
    {
      "cell_type": "code",
      "execution_count": null,
      "id": "e4d46d21-854b-47d9-8add-f829bc2d083a",
      "metadata": {
        "tags": [],
        "id": "e4d46d21-854b-47d9-8add-f829bc2d083a"
      },
      "outputs": [],
      "source": [
        "winlogs=pd.read_parquet('part.88 (1).parquet')\n",
        "winlogs=winlogs.sample(1000000,replace=False).iloc[:,:10]\n",
        "\n",
        "# g = graphistry.nodes(winlogs)\n",
        "# pr = cProfile.Profile()\n",
        "# pr.enable()\n",
        "\n",
        "# g13 = g.featurize(feature_engine='cu_cat',memoize=False,remove_node_column=False)\n",
        "# g13a = g13.umap(engine='cuml')#,feature_engine='cu_cat',memoize=False)\n",
        "\n",
        "# pr.disable()\n",
        "# stats = Stats(pr)\n",
        "# stats.sort_stats('tottime').print_stats(20)\n",
        "\n",
        "# with open('winlogs_featurize_cu_cat_1m.txt', 'w') as stream:\n",
        "#     stats = Stats(pr,stream=stream)\n",
        "#     stats.sort_stats('tottime').print_stats(20)\n",
        "\n",
        "g = graphistry.nodes(cudf.from_pandas(winlogs))\n",
        "pr = cProfile.Profile()\n",
        "pr.enable()\n",
        "\n",
        "g14 = g.featurize(feature_engine='cu_cat',memoize=False,remove_node_column=False)\n",
        "g14b = g14.umap(engine='cuml')#,feature_engine='cu_cat',memoize=False)\n",
        "\n",
        "pr.disable()\n",
        "stats = Stats(pr)\n",
        "stats.sort_stats('tottime').print_stats(20)\n",
        "\n",
        "with open('winlogs_featurize_cudf-cu_cat_1m.txt', 'w') as stream:\n",
        "    stats = Stats(pr,stream=stream)\n",
        "    stats.sort_stats('tottime').print_stats(20)\n",
        "    \n",
        "\n",
        "# g = graphistry.nodes(winlogs)\n",
        "# pr = cProfile.Profile()\n",
        "# pr.enable()\n",
        "\n",
        "# g15 = g.featurize(feature_engine='cu_cat',memoize=False,remove_node_column=False)\n",
        "# g15b = g15.umap(engine='cuml')#,feature_engine='cu_cat',memoize=False)\n",
        "\n",
        "\n",
        "# pr.disable()\n",
        "# stats = Stats(pr)\n",
        "# stats.sort_stats('tottime').print_stats(20)\n",
        "\n",
        "# with open('winlogs_featurize_dirtycat_1m.txt', 'w') as stream:\n",
        "#     stats = Stats(pr,stream=stream)\n",
        "#     stats.sort_stats('tottime').print_stats(20)"
      ]
    },
    {
      "cell_type": "code",
      "execution_count": null,
      "id": "87452d7b-60b4-4c23-88c3-b60ee8ae06bf",
      "metadata": {
        "id": "87452d7b-60b4-4c23-88c3-b60ee8ae06bf"
      },
      "outputs": [],
      "source": []
    },
    {
      "cell_type": "code",
      "execution_count": null,
      "id": "a1cd00e1-2b9e-4e08-affe-29a8d52b0dca",
      "metadata": {
        "tags": [],
        "id": "a1cd00e1-2b9e-4e08-affe-29a8d52b0dca"
      },
      "outputs": [],
      "source": [
        "stopppp"
      ]
    },
    {
      "cell_type": "code",
      "execution_count": null,
      "id": "21c2ce89-b39c-49ee-955e-932b40c2cf31",
      "metadata": {
        "id": "21c2ce89-b39c-49ee-955e-932b40c2cf31"
      },
      "outputs": [],
      "source": []
    }
  ],
  "metadata": {
    "kernelspec": {
      "display_name": "Python 3 (ipykernel)",
      "language": "python",
      "name": "python3"
    },
    "language_info": {
      "codemirror_mode": {
        "name": "ipython",
        "version": 3
      },
      "file_extension": ".py",
      "mimetype": "text/x-python",
      "name": "python",
      "nbconvert_exporter": "python",
      "pygments_lexer": "ipython3",
      "version": "3.8.13"
    },
    "colab": {
      "provenance": [],
      "include_colab_link": true
    },
    "accelerator": "GPU",
    "gpuClass": "standard"
  },
  "nbformat": 4,
  "nbformat_minor": 5
}