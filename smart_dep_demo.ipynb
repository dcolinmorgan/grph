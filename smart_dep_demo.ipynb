{
  "nbformat": 4,
  "nbformat_minor": 0,
  "metadata": {
    "colab": {
      "provenance": [],
      "gpuType": "T4",
      "authorship_tag": "ABX9TyMh4rTjW9qFtfVTS8bwXsK+",
      "include_colab_link": true
    },
    "kernelspec": {
      "name": "python3",
      "display_name": "Python 3"
    },
    "language_info": {
      "name": "python"
    },
    "accelerator": "GPU"
  },
  "cells": [
    {
      "cell_type": "markdown",
      "metadata": {
        "id": "view-in-github",
        "colab_type": "text"
      },
      "source": [
        "<a href=\"https://colab.research.google.com/github/dcolinmorgan/grph/blob/main/smart_dep_demo.ipynb\" target=\"_parent\"><img src=\"https://colab.research.google.com/assets/colab-badge.svg\" alt=\"Open In Colab\"/></a>"
      ]
    },
    {
      "cell_type": "markdown",
      "source": [
        "- colab out-of-the-box without gpu <= pandas\n",
        "- colab out-of-the-box with gpu <= pandas\n",
        "- colab out-of-the-box with gpu+rapids installed <= pandas + cudf\n",
        "\n",
        "functionality: compute_cugraph(), featurize(), umap()"
      ],
      "metadata": {
        "id": "tYVxY79cJvtl"
      }
    },
    {
      "cell_type": "code",
      "execution_count": 1,
      "metadata": {
        "colab": {
          "base_uri": "https://localhost:8080/"
        },
        "id": "px_DOS-aJKUI",
        "outputId": "4b60d3c5-1f61-42af-b7ca-d98770f5d38c"
      },
      "outputs": [
        {
          "output_type": "stream",
          "name": "stdout",
          "text": [
            "  Preparing metadata (setup.py) ... \u001b[?25l\u001b[?25hdone\n",
            "\u001b[2K   \u001b[90m━━━━━━━━━━━━━━━━━━━━━━━━━━━━━━━━━━━━━━━━\u001b[0m \u001b[32m332.3/332.3 kB\u001b[0m \u001b[31m10.3 MB/s\u001b[0m eta \u001b[36m0:00:00\u001b[0m\n",
            "\u001b[?25h  Building wheel for graphistry (setup.py) ... \u001b[?25l\u001b[?25hdone\n"
          ]
        }
      ],
      "source": [
        "!pip install -U -q git+https://github.com/graphistry/pygraphistry.git@dev/depman"
      ]
    },
    {
      "cell_type": "code",
      "source": [
        "!pip install -q umap_learn dirty_cat"
      ],
      "metadata": {
        "colab": {
          "base_uri": "https://localhost:8080/"
        },
        "id": "k99pN22PNiu_",
        "outputId": "ba79e2dd-932f-4e77-f429-6d17bc6569de"
      },
      "execution_count": 2,
      "outputs": [
        {
          "output_type": "stream",
          "name": "stdout",
          "text": [
            "\u001b[?25l   \u001b[90m━━━━━━━━━━━━━━━━━━━━━━━━━━━━━━━━━━━━━━━━\u001b[0m \u001b[32m0.0/85.7 kB\u001b[0m \u001b[31m?\u001b[0m eta \u001b[36m-:--:--\u001b[0m\r\u001b[2K   \u001b[90m━━━━━━━━━━━━━━━━━━━━━━━━━━━━━━━━━━━━━━━━\u001b[0m \u001b[32m85.7/85.7 kB\u001b[0m \u001b[31m4.5 MB/s\u001b[0m eta \u001b[36m0:00:00\u001b[0m\n",
            "\u001b[?25h\u001b[?25l   \u001b[90m━━━━━━━━━━━━━━━━━━━━━━━━━━━━━━━━━━━━━━━━\u001b[0m \u001b[32m0.0/56.9 kB\u001b[0m \u001b[31m?\u001b[0m eta \u001b[36m-:--:--\u001b[0m\r\u001b[2K   \u001b[90m━━━━━━━━━━━━━━━━━━━━━━━━━━━━━━━━━━━━━━━━\u001b[0m \u001b[32m56.9/56.9 kB\u001b[0m \u001b[31m2.4 MB/s\u001b[0m eta \u001b[36m0:00:00\u001b[0m\n",
            "\u001b[?25h"
          ]
        }
      ]
    },
    {
      "cell_type": "code",
      "source": [
        "from google.colab import userdata\n",
        "g_user=userdata.get('g_user')\n",
        "g_pass=userdata.get('g_pass')"
      ],
      "metadata": {
        "id": "310_tOjzMxje"
      },
      "execution_count": 3,
      "outputs": []
    },
    {
      "cell_type": "code",
      "source": [
        "import graphistry\n",
        "graphistry.register(api=3,protocol=\"https\", server=\"hub.graphistry.com\", username=g_user, password=g_pass) ## key id, secret key\n",
        "\n",
        "graphistry.__version__\n",
        "import pandas as pd"
      ],
      "metadata": {
        "id": "-RiaJXDOJyJM"
      },
      "execution_count": 4,
      "outputs": []
    },
    {
      "cell_type": "code",
      "source": [
        "%time\n",
        "df = pd.read_csv('https://gist.githubusercontent.com/silkspace/c7b50d0c03dc59f63c48d68d696958ff/raw/31d918267f86f8252d42d2e9597ba6fc03fcdac2/redteam_50k.csv', index_col=0)\n",
        "red_team = pd.read_csv('https://gist.githubusercontent.com/silkspace/5cf5a94b9ac4b4ffe38904f20d93edb1/raw/888dabd86f88ea747cf9ff5f6c44725e21536465/redteam_labels.csv', index_col=0)\n",
        "df['feats'] = df.src_computer + ' ' + df.dst_computer + ' ' + df.auth_type + ' ' + df.logontype\n",
        "df['feats2'] = df.src_computer + ' ' + df.dst_computer\n",
        "ndf = df.drop_duplicates(subset=['feats'])\n",
        "tdf = pd.concat([red_team.reset_index(), ndf.reset_index()])\n",
        "tdf['node'] = range(len(tdf))\n",
        "tdf.RED.sum()"
      ],
      "metadata": {
        "colab": {
          "base_uri": "https://localhost:8080/"
        },
        "id": "0Y-oACC_M2qq",
        "outputId": "d5b33b2f-d1a4-4c67-c4e3-2333b65d2988"
      },
      "execution_count": 5,
      "outputs": [
        {
          "output_type": "stream",
          "name": "stdout",
          "text": [
            "CPU times: user 2 µs, sys: 0 ns, total: 2 µs\n",
            "Wall time: 4.53 µs\n"
          ]
        },
        {
          "output_type": "execute_result",
          "data": {
            "text/plain": [
              "749.0"
            ]
          },
          "metadata": {},
          "execution_count": 5
        }
      ]
    },
    {
      "cell_type": "markdown",
      "source": [
        "## out-of-the-box without GPU"
      ],
      "metadata": {
        "id": "GVqxZPYpU_Sg"
      }
    },
    {
      "cell_type": "code",
      "source": [
        "%%time\n",
        "\n",
        "g = graphistry.nodes(tdf, 'node')\n",
        "g.featurize()"
      ],
      "metadata": {
        "colab": {
          "base_uri": "https://localhost:8080/"
        },
        "id": "ZmMB0MlPuq6K",
        "outputId": "f052fb86-1c3a-4457-90fc-c3008063f94d"
      },
      "execution_count": 6,
      "outputs": [
        {
          "output_type": "stream",
          "name": "stderr",
          "text": [
            "ERROR:graphistry.feature_utils:dirty_cat not found for featurizing/usr/local/lib/python3.10/dist-packages/cudf/utils/_ptxcompiler.py:61: UserWarning: Error getting driver and runtime versions:\n",
            "\n",
            "stdout:\n",
            "\n",
            "\n",
            "\n",
            "stderr:\n",
            "\n",
            "Traceback (most recent call last):\n",
            "  File \"<string>\", line 4, in <module>\n",
            "  File \"/usr/local/lib/python3.10/dist-packages/numba/cuda/cudadrv/driver.py\", line 295, in __getattr__\n",
            "    raise CudaSupportError(\"Error at driver init: \\n%s:\" %\n",
            "numba.cuda.cudadrv.error.CudaSupportError: Error at driver init: \n",
            "\n",
            "CUDA driver library cannot be found.\n",
            "If you are sure that a CUDA driver is installed,\n",
            "try setting environment variable NUMBA_CUDA_DRIVER\n",
            "with the file path of the CUDA driver shared library.\n",
            ":\n",
            "\n",
            "\n",
            "Not patching Numba\n",
            "  warnings.warn(msg, UserWarning)\n",
            "/usr/local/lib/python3.10/dist-packages/cudf/utils/gpu_utils.py:62: UserWarning: Function \"cuInit\" not found\n",
            "  warnings.warn(str(e))\n",
            "ERROR:graphistry.utils.dep_manager:cudf installed but misconfigured/usr/local/lib/python3.10/dist-packages/cudf/utils/_ptxcompiler.py:61: UserWarning: Error getting driver and runtime versions:\n",
            "\n",
            "stdout:\n",
            "\n",
            "\n",
            "\n",
            "stderr:\n",
            "\n",
            "Traceback (most recent call last):\n",
            "  File \"<string>\", line 4, in <module>\n",
            "  File \"/usr/local/lib/python3.10/dist-packages/numba/cuda/cudadrv/driver.py\", line 295, in __getattr__\n",
            "    raise CudaSupportError(\"Error at driver init: \\n%s:\" %\n",
            "numba.cuda.cudadrv.error.CudaSupportError: Error at driver init: \n",
            "\n",
            "CUDA driver library cannot be found.\n",
            "If you are sure that a CUDA driver is installed,\n",
            "try setting environment variable NUMBA_CUDA_DRIVER\n",
            "with the file path of the CUDA driver shared library.\n",
            ":\n",
            "\n",
            "\n",
            "Not patching Numba\n",
            "  warnings.warn(msg, UserWarning)\n",
            "/usr/local/lib/python3.10/dist-packages/cudf/utils/gpu_utils.py:62: UserWarning: Function \"cuInit\" not found\n",
            "  warnings.warn(str(e))\n",
            "ERROR:graphistry.utils.dep_manager:cudf installed but misconfiguredERROR:graphistry.feature_utils:dirty_cat not found for featurizing/usr/local/lib/python3.10/dist-packages/cudf/utils/_ptxcompiler.py:61: UserWarning: Error getting driver and runtime versions:\n",
            "\n",
            "stdout:\n",
            "\n",
            "\n",
            "\n",
            "stderr:\n",
            "\n",
            "Traceback (most recent call last):\n",
            "  File \"<string>\", line 4, in <module>\n",
            "  File \"/usr/local/lib/python3.10/dist-packages/numba/cuda/cudadrv/driver.py\", line 295, in __getattr__\n",
            "    raise CudaSupportError(\"Error at driver init: \\n%s:\" %\n",
            "numba.cuda.cudadrv.error.CudaSupportError: Error at driver init: \n",
            "\n",
            "CUDA driver library cannot be found.\n",
            "If you are sure that a CUDA driver is installed,\n",
            "try setting environment variable NUMBA_CUDA_DRIVER\n",
            "with the file path of the CUDA driver shared library.\n",
            ":\n",
            "\n",
            "\n",
            "Not patching Numba\n",
            "  warnings.warn(msg, UserWarning)\n",
            "/usr/local/lib/python3.10/dist-packages/cudf/utils/gpu_utils.py:62: UserWarning: Function \"cuInit\" not found\n",
            "  warnings.warn(str(e))\n",
            "ERROR:graphistry.utils.dep_manager:cudf installed but misconfigured/usr/local/lib/python3.10/dist-packages/cudf/utils/_ptxcompiler.py:61: UserWarning: Error getting driver and runtime versions:\n",
            "\n",
            "stdout:\n",
            "\n",
            "\n",
            "\n",
            "stderr:\n",
            "\n",
            "Traceback (most recent call last):\n",
            "  File \"<string>\", line 4, in <module>\n",
            "  File \"/usr/local/lib/python3.10/dist-packages/numba/cuda/cudadrv/driver.py\", line 295, in __getattr__\n",
            "    raise CudaSupportError(\"Error at driver init: \\n%s:\" %\n",
            "numba.cuda.cudadrv.error.CudaSupportError: Error at driver init: \n",
            "\n",
            "CUDA driver library cannot be found.\n",
            "If you are sure that a CUDA driver is installed,\n",
            "try setting environment variable NUMBA_CUDA_DRIVER\n",
            "with the file path of the CUDA driver shared library.\n",
            ":\n",
            "\n",
            "\n",
            "Not patching Numba\n",
            "  warnings.warn(msg, UserWarning)\n",
            "/usr/local/lib/python3.10/dist-packages/cudf/utils/gpu_utils.py:62: UserWarning: Function \"cuInit\" not found\n",
            "  warnings.warn(str(e))\n",
            "ERROR:graphistry.utils.dep_manager:cudf installed but misconfigured"
          ]
        },
        {
          "output_type": "stream",
          "name": "stdout",
          "text": [
            "CPU times: user 1.02 s, sys: 146 ms, total: 1.17 s\n",
            "Wall time: 10.4 s\n"
          ]
        },
        {
          "output_type": "execute_result",
          "data": {
            "text/plain": [
              "{'bindings': {'edges': None,\n",
              "  'nodes':           index    time             src_domain src_computer dst_computer  \\\n",
              "  0             0  150885              U620@DOM1       C17693        C1003   \n",
              "  1             1  151036              U748@DOM1       C17693         C305   \n",
              "  2             2  151648              U748@DOM1       C17693         C728   \n",
              "  3             3  151993             U6115@DOM1       C17693        C1173   \n",
              "  4             4  153792              U636@DOM1       C17693         C294   \n",
              "  ...         ...     ...                    ...          ...          ...   \n",
              "  19008   8463107   48263           C11843$@DOM1       C11843         C528   \n",
              "  19009  14394630   77937            C8470$@DOM1        C8470         C528   \n",
              "  19010  33398153  173300             C716$@DOM1         C716         C716   \n",
              "  19011  18353851  102472             U7365@DOM1       C16126         C586   \n",
              "  19012  27372458  141156  NETWORK SERVICE@C6215        C6215        C6215   \n",
              "  \n",
              "                                 feats  RED             dst_domain  auth_type  \\\n",
              "  0                       C17693 C1003  1.0                    NaN        NaN   \n",
              "  1                        C17693 C305  1.0                    NaN        NaN   \n",
              "  2                        C17693 C728  1.0                    NaN        NaN   \n",
              "  3                       C17693 C1173  1.0                    NaN        NaN   \n",
              "  4                        C17693 C294  1.0                    NaN        NaN   \n",
              "  ...                              ...  ...                    ...        ...   \n",
              "  19008   C11843 C528 Kerberos Network  0.0           C11843$@DOM1   Kerberos   \n",
              "  19009        C8470 C528 NTLM Network  0.0            C8470$@DOM1       NTLM   \n",
              "  19010                  C716 C716 ? ?  0.0             C716$@DOM1          ?   \n",
              "  19011                C16126 C586 ? ?  0.0             U7365@DOM1          ?   \n",
              "  19012  C6215 C6215 Negotiate Service  0.0  NETWORK SERVICE@C6215  Negotiate   \n",
              "  \n",
              "        logontype authentication_orientation success_or_failure       feats2  \\\n",
              "  0           NaN                        NaN                NaN          NaN   \n",
              "  1           NaN                        NaN                NaN          NaN   \n",
              "  2           NaN                        NaN                NaN          NaN   \n",
              "  3           NaN                        NaN                NaN          NaN   \n",
              "  4           NaN                        NaN                NaN          NaN   \n",
              "  ...         ...                        ...                ...          ...   \n",
              "  19008   Network                      LogOn            Success  C11843 C528   \n",
              "  19009   Network                      LogOn            Success   C8470 C528   \n",
              "  19010         ?                    AuthMap            Success    C716 C716   \n",
              "  19011         ?                        TGS            Success  C16126 C586   \n",
              "  19012   Service                      LogOn            Success  C6215 C6215   \n",
              "  \n",
              "          node  \n",
              "  0          0  \n",
              "  1          1  \n",
              "  2          2  \n",
              "  3          3  \n",
              "  4          4  \n",
              "  ...      ...  \n",
              "  19008  19757  \n",
              "  19009  19758  \n",
              "  19010  19759  \n",
              "  19011  19760  \n",
              "  19012  19761  \n",
              "  \n",
              "  [19762 rows x 14 columns],\n",
              "  'source': None,\n",
              "  'destination': None,\n",
              "  'node': 'node',\n",
              "  'edge_label': None,\n",
              "  'edge_color': None,\n",
              "  'edge_size': None,\n",
              "  'edge_weight': None,\n",
              "  'edge_title': None,\n",
              "  'edge_icon': None,\n",
              "  'edge_opacity': None,\n",
              "  'edge_source_color': None,\n",
              "  'edge_destination_color': None,\n",
              "  'point_label': None,\n",
              "  'point_color': None,\n",
              "  'point_size': None,\n",
              "  'point_weight': None,\n",
              "  'point_title': None,\n",
              "  'point_icon': None,\n",
              "  'point_opacity': None,\n",
              "  'point_x': None,\n",
              "  'point_y': None},\n",
              " 'settings': {'height': 500, 'url_params': {'info': 'true'}}}"
            ]
          },
          "metadata": {},
          "execution_count": 6
        }
      ]
    },
    {
      "cell_type": "code",
      "source": [
        "%%time\n",
        "\n",
        "g = graphistry.nodes(tdf, 'node')\n",
        "g1 = g.umap(engine='umap_learn')"
      ],
      "metadata": {
        "colab": {
          "base_uri": "https://localhost:8080/"
        },
        "id": "qlI4yA88NODJ",
        "outputId": "148d8f10-fc26-4127-df6a-bddd0fff25c0"
      },
      "execution_count": 7,
      "outputs": [
        {
          "output_type": "stream",
          "name": "stderr",
          "text": [
            "WARNING:graphistry.utils.lazy_import:Unexpected exn during lazy import\n",
            "Traceback (most recent call last):\n",
            "  File \"/usr/local/lib/python3.10/dist-packages/cupy/__init__.py\", line 17, in <module>\n",
            "    from cupy import _core  # NOQA\n",
            "  File \"/usr/local/lib/python3.10/dist-packages/cupy/_core/__init__.py\", line 3, in <module>\n",
            "    from cupy._core import core  # NOQA\n",
            "ImportError: libcuda.so.1: cannot open shared object file: No such file or directory\n",
            "\n",
            "The above exception was the direct cause of the following exception:\n",
            "\n",
            "Traceback (most recent call last):\n",
            "  File \"/usr/local/lib/python3.10/dist-packages/graphistry/utils/lazy_import.py\", line 11, in lazy_cudf_import\n",
            "    import cudf  # type: ignore\n",
            "  File \"/usr/local/lib/python3.10/dist-packages/cudf/__init__.py\", line 12, in <module>\n",
            "    import cupy\n",
            "  File \"/usr/local/lib/python3.10/dist-packages/cupy/__init__.py\", line 19, in <module>\n",
            "    raise ImportError(f'''\n",
            "ImportError: \n",
            "================================================================\n",
            "Failed to import CuPy.\n",
            "\n",
            "If you installed CuPy via wheels (cupy-cudaXXX or cupy-rocm-X-X), make sure that the package matches with the version of CUDA or ROCm installed.\n",
            "\n",
            "On Linux, you may need to set LD_LIBRARY_PATH environment variable depending on how you installed CUDA/ROCm.\n",
            "On Windows, try setting CUDA_PATH environment variable.\n",
            "\n",
            "Check the Installation Guide for details:\n",
            "  https://docs.cupy.dev/en/latest/install.html\n",
            "\n",
            "Original error:\n",
            "  ImportError: libcuda.so.1: cannot open shared object file: No such file or directory\n",
            "================================================================\n",
            "ERROR:graphistry.utils.dep_manager:cudf installed but misconfiguredERROR:graphistry.utils.dep_manager:cudf installed but misconfiguredERROR:graphistry.utils.dep_manager:cudf installed but misconfiguredERROR:graphistry.feature_utils:dirty_cat not found for featurizingERROR:graphistry.utils.dep_manager:cudf installed but misconfiguredERROR:graphistry.utils.dep_manager:cudf installed but misconfiguredWARNING:graphistry.umap_utils:* Ignoring target column of shape (19762, 0) in UMAP fit, as it is not one dimensional"
          ]
        },
        {
          "output_type": "stream",
          "name": "stdout",
          "text": [
            "CPU times: user 4min 28s, sys: 2.32 s, total: 4min 30s\n",
            "Wall time: 3min 16s\n"
          ]
        }
      ]
    },
    {
      "cell_type": "code",
      "source": [
        "g1.plot()"
      ],
      "metadata": {
        "colab": {
          "base_uri": "https://localhost:8080/",
          "height": 543
        },
        "id": "PegCp4BqNcK4",
        "outputId": "55abd625-fae1-43ad-cd7c-0ada5321f091"
      },
      "execution_count": 8,
      "outputs": [
        {
          "output_type": "execute_result",
          "data": {
            "text/plain": [
              "<IPython.core.display.HTML object>"
            ],
            "text/html": [
              "\n",
              "            <iframe id=\"353770f0-6884-4ac3-8e1f-46976ee1dc07\" src=\"https://hub.graphistry.com/graph/graph.html?dataset=d92416f9e19245b1bbc32cd358dfb945&type=arrow&viztoken=cfbca178-5d4e-4f14-bfbb-0110a0719e7f&usertag=73817d8a-pygraphistry-0.34.3+446.g6f455d1&splashAfter=1723190744&info=true&play=0\"\n",
              "                    allowfullscreen=\"true\" webkitallowfullscreen=\"true\" mozallowfullscreen=\"true\"\n",
              "                    oallowfullscreen=\"true\" msallowfullscreen=\"true\"\n",
              "                    style=\"width:100%; height:500px; border: 1px solid #DDD; overflow: hidden\"\n",
              "                    \n",
              "            >\n",
              "            </iframe>\n",
              "        \n",
              "            <script>\n",
              "                try {\n",
              "                  $(\"#353770f0-6884-4ac3-8e1f-46976ee1dc07\").bind('mousewheel', function(e) { e.preventDefault(); });\n",
              "                } catch (e) { console.error('exn catching scroll', e); }\n",
              "            </script>\n",
              "        "
            ]
          },
          "metadata": {},
          "execution_count": 8
        }
      ]
    },
    {
      "cell_type": "markdown",
      "source": [
        "## out-of-the-box with GPU"
      ],
      "metadata": {
        "id": "45urujEpVN9Q"
      }
    },
    {
      "cell_type": "code",
      "source": [
        "%%time\n",
        "\n",
        "g = graphistry.nodes(tdf, 'node')\n",
        "g.featurize()"
      ],
      "metadata": {
        "colab": {
          "base_uri": "https://localhost:8080/"
        },
        "id": "6KKGp509uolU",
        "outputId": "0f0d0260-4d5f-4852-fd9e-e8f545486b19"
      },
      "execution_count": 6,
      "outputs": [
        {
          "output_type": "stream",
          "name": "stderr",
          "text": [
            "ERROR:graphistry.feature_utils:dirty_cat not found for featurizingERROR:graphistry.feature_utils:dirty_cat not found for featurizing"
          ]
        },
        {
          "output_type": "stream",
          "name": "stdout",
          "text": [
            "CPU times: user 382 ms, sys: 73.3 ms, total: 455 ms\n",
            "Wall time: 910 ms\n"
          ]
        },
        {
          "output_type": "execute_result",
          "data": {
            "text/plain": [
              "{'bindings': {'edges': None,\n",
              "  'nodes':           index    time             src_domain src_computer dst_computer  \\\n",
              "  0             0  150885              U620@DOM1       C17693        C1003   \n",
              "  1             1  151036              U748@DOM1       C17693         C305   \n",
              "  2             2  151648              U748@DOM1       C17693         C728   \n",
              "  3             3  151993             U6115@DOM1       C17693        C1173   \n",
              "  4             4  153792              U636@DOM1       C17693         C294   \n",
              "  ...         ...     ...                    ...          ...          ...   \n",
              "  19008   8463107   48263           C11843$@DOM1       C11843         C528   \n",
              "  19009  14394630   77937            C8470$@DOM1        C8470         C528   \n",
              "  19010  33398153  173300             C716$@DOM1         C716         C716   \n",
              "  19011  18353851  102472             U7365@DOM1       C16126         C586   \n",
              "  19012  27372458  141156  NETWORK SERVICE@C6215        C6215        C6215   \n",
              "  \n",
              "                                 feats  RED             dst_domain  auth_type  \\\n",
              "  0                       C17693 C1003  1.0                    NaN        NaN   \n",
              "  1                        C17693 C305  1.0                    NaN        NaN   \n",
              "  2                        C17693 C728  1.0                    NaN        NaN   \n",
              "  3                       C17693 C1173  1.0                    NaN        NaN   \n",
              "  4                        C17693 C294  1.0                    NaN        NaN   \n",
              "  ...                              ...  ...                    ...        ...   \n",
              "  19008   C11843 C528 Kerberos Network  0.0           C11843$@DOM1   Kerberos   \n",
              "  19009        C8470 C528 NTLM Network  0.0            C8470$@DOM1       NTLM   \n",
              "  19010                  C716 C716 ? ?  0.0             C716$@DOM1          ?   \n",
              "  19011                C16126 C586 ? ?  0.0             U7365@DOM1          ?   \n",
              "  19012  C6215 C6215 Negotiate Service  0.0  NETWORK SERVICE@C6215  Negotiate   \n",
              "  \n",
              "        logontype authentication_orientation success_or_failure       feats2  \\\n",
              "  0           NaN                        NaN                NaN          NaN   \n",
              "  1           NaN                        NaN                NaN          NaN   \n",
              "  2           NaN                        NaN                NaN          NaN   \n",
              "  3           NaN                        NaN                NaN          NaN   \n",
              "  4           NaN                        NaN                NaN          NaN   \n",
              "  ...         ...                        ...                ...          ...   \n",
              "  19008   Network                      LogOn            Success  C11843 C528   \n",
              "  19009   Network                      LogOn            Success   C8470 C528   \n",
              "  19010         ?                    AuthMap            Success    C716 C716   \n",
              "  19011         ?                        TGS            Success  C16126 C586   \n",
              "  19012   Service                      LogOn            Success  C6215 C6215   \n",
              "  \n",
              "          node  \n",
              "  0          0  \n",
              "  1          1  \n",
              "  2          2  \n",
              "  3          3  \n",
              "  4          4  \n",
              "  ...      ...  \n",
              "  19008  19757  \n",
              "  19009  19758  \n",
              "  19010  19759  \n",
              "  19011  19760  \n",
              "  19012  19761  \n",
              "  \n",
              "  [19762 rows x 14 columns],\n",
              "  'source': None,\n",
              "  'destination': None,\n",
              "  'node': 'node',\n",
              "  'edge_label': None,\n",
              "  'edge_color': None,\n",
              "  'edge_size': None,\n",
              "  'edge_weight': None,\n",
              "  'edge_title': None,\n",
              "  'edge_icon': None,\n",
              "  'edge_opacity': None,\n",
              "  'edge_source_color': None,\n",
              "  'edge_destination_color': None,\n",
              "  'point_label': None,\n",
              "  'point_color': None,\n",
              "  'point_size': None,\n",
              "  'point_weight': None,\n",
              "  'point_title': None,\n",
              "  'point_icon': None,\n",
              "  'point_opacity': None,\n",
              "  'point_x': None,\n",
              "  'point_y': None},\n",
              " 'settings': {'height': 500, 'url_params': {'info': 'true'}}}"
            ]
          },
          "metadata": {},
          "execution_count": 6
        }
      ]
    },
    {
      "cell_type": "code",
      "source": [
        "%%time\n",
        "\n",
        "g = graphistry.nodes(tdf, 'node')\n",
        "g2 = g.umap(engine='umap_learn')"
      ],
      "metadata": {
        "colab": {
          "base_uri": "https://localhost:8080/"
        },
        "id": "27bsYEl4VOMI",
        "outputId": "1783961f-62d8-4bc1-9d8e-b329f738a558"
      },
      "execution_count": 7,
      "outputs": [
        {
          "output_type": "stream",
          "name": "stderr",
          "text": [
            "ERROR:graphistry.feature_utils:dirty_cat not found for featurizingWARNING:graphistry.umap_utils:* Ignoring target column of shape (19762, 0) in UMAP fit, as it is not one dimensional"
          ]
        },
        {
          "output_type": "stream",
          "name": "stdout",
          "text": [
            "CPU times: user 4min 5s, sys: 1.38 s, total: 4min 6s\n",
            "Wall time: 2min 45s\n"
          ]
        }
      ]
    },
    {
      "cell_type": "code",
      "source": [
        "g2.plot()"
      ],
      "metadata": {
        "colab": {
          "base_uri": "https://localhost:8080/",
          "height": 543
        },
        "id": "H1bz75FZVeth",
        "outputId": "5fd91abe-0aaf-4929-9682-72f7b6a63344"
      },
      "execution_count": 8,
      "outputs": [
        {
          "output_type": "execute_result",
          "data": {
            "text/plain": [
              "<IPython.core.display.HTML object>"
            ],
            "text/html": [
              "\n",
              "            <iframe id=\"2edbac50-56e0-48f0-a3fe-24df427adebe\" src=\"https://hub.graphistry.com/graph/graph.html?dataset=610595f83c674e60a2a54ecfe757a84a&type=arrow&viztoken=4aad3c51-4e68-4a64-abb6-af4d4524cc3d&usertag=8a2d70a6-pygraphistry-0.34.3+446.g6f455d1&splashAfter=1723191030&info=true&play=0\"\n",
              "                    allowfullscreen=\"true\" webkitallowfullscreen=\"true\" mozallowfullscreen=\"true\"\n",
              "                    oallowfullscreen=\"true\" msallowfullscreen=\"true\"\n",
              "                    style=\"width:100%; height:500px; border: 1px solid #DDD; overflow: hidden\"\n",
              "                    \n",
              "            >\n",
              "            </iframe>\n",
              "        \n",
              "            <script>\n",
              "                try {\n",
              "                  $(\"#2edbac50-56e0-48f0-a3fe-24df427adebe\").bind('mousewheel', function(e) { e.preventDefault(); });\n",
              "                } catch (e) { console.error('exn catching scroll', e); }\n",
              "            </script>\n",
              "        "
            ]
          },
          "metadata": {},
          "execution_count": 8
        }
      ]
    },
    {
      "cell_type": "markdown",
      "source": [
        "## install RAPIDS"
      ],
      "metadata": {
        "id": "z1bbXaaAuP70"
      }
    },
    {
      "cell_type": "code",
      "source": [
        "# !pip install -q --extra-index-url=https://pypi.nvidia.com cuml-cu12==24.8.0 cugraph-cu12==24.8.0  #cudf-cu12==24.8.1 already installed & confuses system\n",
        "!git clone https://github.com/rapidsai/rapidsai-csp-utils.git\n",
        "!python rapidsai-csp-utils/colab/pip-install.py\n"
      ],
      "metadata": {
        "id": "uy0-TC3IywHB"
      },
      "execution_count": null,
      "outputs": []
    },
    {
      "cell_type": "code",
      "source": [
        "import cuml"
      ],
      "metadata": {
        "id": "8KUG-B0aE_fD"
      },
      "execution_count": 11,
      "outputs": []
    },
    {
      "cell_type": "code",
      "source": [
        "import cugraph"
      ],
      "metadata": {
        "id": "vkMpRZWAFCMT"
      },
      "execution_count": 12,
      "outputs": []
    },
    {
      "cell_type": "code",
      "source": [
        "%%time\n",
        "df = pd.read_csv('https://raw.githubusercontent.com/graphistry/pygraphistry/master/demos/data/lesmiserables.csv')\n",
        "g = graphistry.edges(df, df.columns[0], df.columns[1])\n",
        "g._edges.sample(5)\n",
        "g2 = g.compute_cugraph('pagerank')\n",
        "g2._nodes.sample(5)"
      ],
      "metadata": {
        "colab": {
          "base_uri": "https://localhost:8080/",
          "height": 242
        },
        "id": "Rzn01RjxugbS",
        "outputId": "8abd75a9-2416-41a0-d3f7-3b56fffafa8b"
      },
      "execution_count": 23,
      "outputs": [
        {
          "output_type": "stream",
          "name": "stdout",
          "text": [
            "CPU times: user 925 ms, sys: 191 ms, total: 1.12 s\n",
            "Wall time: 1.53 s\n"
          ]
        },
        {
          "output_type": "execute_result",
          "data": {
            "text/plain": [
              "            id  pagerank\n",
              "26  Marguerite  0.008150\n",
              "33   Favourite  0.010886\n",
              "11     Bahorel  0.005785\n",
              "4    BaronessT  0.004004\n",
              "42  Bamatabois  0.011859"
            ],
            "text/html": [
              "<div>\n",
              "<style scoped>\n",
              "    .dataframe tbody tr th:only-of-type {\n",
              "        vertical-align: middle;\n",
              "    }\n",
              "\n",
              "    .dataframe tbody tr th {\n",
              "        vertical-align: top;\n",
              "    }\n",
              "\n",
              "    .dataframe thead th {\n",
              "        text-align: right;\n",
              "    }\n",
              "</style>\n",
              "<table border=\"1\" class=\"dataframe\">\n",
              "  <thead>\n",
              "    <tr style=\"text-align: right;\">\n",
              "      <th></th>\n",
              "      <th>id</th>\n",
              "      <th>pagerank</th>\n",
              "    </tr>\n",
              "  </thead>\n",
              "  <tbody>\n",
              "    <tr>\n",
              "      <th>26</th>\n",
              "      <td>Marguerite</td>\n",
              "      <td>0.008150</td>\n",
              "    </tr>\n",
              "    <tr>\n",
              "      <th>33</th>\n",
              "      <td>Favourite</td>\n",
              "      <td>0.010886</td>\n",
              "    </tr>\n",
              "    <tr>\n",
              "      <th>11</th>\n",
              "      <td>Bahorel</td>\n",
              "      <td>0.005785</td>\n",
              "    </tr>\n",
              "    <tr>\n",
              "      <th>4</th>\n",
              "      <td>BaronessT</td>\n",
              "      <td>0.004004</td>\n",
              "    </tr>\n",
              "    <tr>\n",
              "      <th>42</th>\n",
              "      <td>Bamatabois</td>\n",
              "      <td>0.011859</td>\n",
              "    </tr>\n",
              "  </tbody>\n",
              "</table>\n",
              "</div>"
            ]
          },
          "metadata": {},
          "execution_count": 23
        }
      ]
    },
    {
      "cell_type": "code",
      "source": [
        "%%time\n",
        "\n",
        "g = graphistry.nodes(tdf, 'node')\n",
        "g.featurize()"
      ],
      "metadata": {
        "colab": {
          "base_uri": "https://localhost:8080/"
        },
        "id": "9uRjYKF0ukwu",
        "outputId": "1bfaa587-81e8-4090-e4ee-9098f765c380"
      },
      "execution_count": 14,
      "outputs": [
        {
          "output_type": "stream",
          "name": "stderr",
          "text": [
            "ERROR:graphistry.feature_utils:dirty_cat not found for featurizingERROR:graphistry.feature_utils:dirty_cat not found for featurizing"
          ]
        },
        {
          "output_type": "stream",
          "name": "stdout",
          "text": [
            "CPU times: user 84.1 ms, sys: 4.9 ms, total: 89 ms\n",
            "Wall time: 212 ms\n"
          ]
        },
        {
          "output_type": "execute_result",
          "data": {
            "text/plain": [
              "{'bindings': {'edges': None,\n",
              "  'nodes':           index    time             src_domain src_computer dst_computer  \\\n",
              "  0             0  150885              U620@DOM1       C17693        C1003   \n",
              "  1             1  151036              U748@DOM1       C17693         C305   \n",
              "  2             2  151648              U748@DOM1       C17693         C728   \n",
              "  3             3  151993             U6115@DOM1       C17693        C1173   \n",
              "  4             4  153792              U636@DOM1       C17693         C294   \n",
              "  ...         ...     ...                    ...          ...          ...   \n",
              "  19008   8463107   48263           C11843$@DOM1       C11843         C528   \n",
              "  19009  14394630   77937            C8470$@DOM1        C8470         C528   \n",
              "  19010  33398153  173300             C716$@DOM1         C716         C716   \n",
              "  19011  18353851  102472             U7365@DOM1       C16126         C586   \n",
              "  19012  27372458  141156  NETWORK SERVICE@C6215        C6215        C6215   \n",
              "  \n",
              "                                 feats  RED             dst_domain  auth_type  \\\n",
              "  0                       C17693 C1003  1.0                    NaN        NaN   \n",
              "  1                        C17693 C305  1.0                    NaN        NaN   \n",
              "  2                        C17693 C728  1.0                    NaN        NaN   \n",
              "  3                       C17693 C1173  1.0                    NaN        NaN   \n",
              "  4                        C17693 C294  1.0                    NaN        NaN   \n",
              "  ...                              ...  ...                    ...        ...   \n",
              "  19008   C11843 C528 Kerberos Network  0.0           C11843$@DOM1   Kerberos   \n",
              "  19009        C8470 C528 NTLM Network  0.0            C8470$@DOM1       NTLM   \n",
              "  19010                  C716 C716 ? ?  0.0             C716$@DOM1          ?   \n",
              "  19011                C16126 C586 ? ?  0.0             U7365@DOM1          ?   \n",
              "  19012  C6215 C6215 Negotiate Service  0.0  NETWORK SERVICE@C6215  Negotiate   \n",
              "  \n",
              "        logontype authentication_orientation success_or_failure       feats2  \\\n",
              "  0           NaN                        NaN                NaN          NaN   \n",
              "  1           NaN                        NaN                NaN          NaN   \n",
              "  2           NaN                        NaN                NaN          NaN   \n",
              "  3           NaN                        NaN                NaN          NaN   \n",
              "  4           NaN                        NaN                NaN          NaN   \n",
              "  ...         ...                        ...                ...          ...   \n",
              "  19008   Network                      LogOn            Success  C11843 C528   \n",
              "  19009   Network                      LogOn            Success   C8470 C528   \n",
              "  19010         ?                    AuthMap            Success    C716 C716   \n",
              "  19011         ?                        TGS            Success  C16126 C586   \n",
              "  19012   Service                      LogOn            Success  C6215 C6215   \n",
              "  \n",
              "          node  \n",
              "  0          0  \n",
              "  1          1  \n",
              "  2          2  \n",
              "  3          3  \n",
              "  4          4  \n",
              "  ...      ...  \n",
              "  19008  19757  \n",
              "  19009  19758  \n",
              "  19010  19759  \n",
              "  19011  19760  \n",
              "  19012  19761  \n",
              "  \n",
              "  [19762 rows x 14 columns],\n",
              "  'source': None,\n",
              "  'destination': None,\n",
              "  'node': 'node',\n",
              "  'edge_label': None,\n",
              "  'edge_color': None,\n",
              "  'edge_size': None,\n",
              "  'edge_weight': None,\n",
              "  'edge_title': None,\n",
              "  'edge_icon': None,\n",
              "  'edge_opacity': None,\n",
              "  'edge_source_color': None,\n",
              "  'edge_destination_color': None,\n",
              "  'point_label': None,\n",
              "  'point_color': None,\n",
              "  'point_size': None,\n",
              "  'point_weight': None,\n",
              "  'point_title': None,\n",
              "  'point_icon': None,\n",
              "  'point_opacity': None,\n",
              "  'point_x': None,\n",
              "  'point_y': None},\n",
              " 'settings': {'height': 500, 'url_params': {'info': 'true'}}}"
            ]
          },
          "metadata": {},
          "execution_count": 14
        }
      ]
    },
    {
      "cell_type": "code",
      "source": [
        "%%time\n",
        "\n",
        "g = graphistry.nodes(tdf, 'node')\n",
        "g3 = g.umap(engine='cuml')"
      ],
      "metadata": {
        "colab": {
          "base_uri": "https://localhost:8080/"
        },
        "id": "nei_0HiluPVw",
        "outputId": "5849ac6d-67b1-4bd8-9b90-6efb2ed5ced5"
      },
      "execution_count": 17,
      "outputs": [
        {
          "output_type": "stream",
          "name": "stderr",
          "text": [
            "ERROR:graphistry.feature_utils:dirty_cat not found for featurizingWARNING:graphistry.util.memoization:! Failed umap speedup attempt. Continuing without memoization speedups.WARNING:graphistry.umap_utils:* Ignoring target column of shape (19762, 0) in UMAP fit, as it is not one dimensional"
          ]
        },
        {
          "output_type": "stream",
          "name": "stdout",
          "text": [
            "CPU times: user 9.73 s, sys: 636 ms, total: 10.4 s\n",
            "Wall time: 11.7 s\n"
          ]
        }
      ]
    }
  ]
}