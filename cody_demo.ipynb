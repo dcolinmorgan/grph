{
  "cells": [
    {
      "cell_type": "markdown",
      "metadata": {
        "id": "view-in-github",
        "colab_type": "text"
      },
      "source": [
        "<a href=\"https://colab.research.google.com/github/dcolinmorgan/grph/blob/main/cody_demo.ipynb\" target=\"_parent\"><img src=\"https://colab.research.google.com/assets/colab-badge.svg\" alt=\"Open In Colab\"/></a>"
      ]
    },
    {
      "cell_type": "markdown",
      "source": [
        "# gpu demo for cody"
      ],
      "metadata": {
        "id": "4Y1PPZV1dpo9"
      },
      "id": "4Y1PPZV1dpo9"
    },
    {
      "cell_type": "code",
      "execution_count": null,
      "metadata": {
        "id": "pZ2B17Vp2EY1"
      },
      "outputs": [],
      "source": [
        "!pip install --extra-index-url=https://pypi.nvidia.com cuml-cu11 cudf-cu11 cugraph-cu11 pylibraft_cu11 raft_dask_cu11 dask_cudf_cu11 pylibcugraph_cu11 pylibraft_cu11"
      ],
      "id": "pZ2B17Vp2EY1"
    },
    {
      "cell_type": "code",
      "execution_count": 2,
      "metadata": {
        "colab": {
          "base_uri": "https://localhost:8080/",
          "height": 35
        },
        "id": "3EszGClHTCC_",
        "outputId": "e42abab5-33a7-4911-9157-cc8a7c93ed27"
      },
      "outputs": [
        {
          "output_type": "execute_result",
          "data": {
            "text/plain": [
              "'23.04.01'"
            ],
            "application/vnd.google.colaboratory.intrinsic+json": {
              "type": "string"
            }
          },
          "metadata": {},
          "execution_count": 2
        }
      ],
      "source": [
        "import cuml,cudf\n",
        "cuml.__version__"
      ],
      "id": "3EszGClHTCC_"
    },
    {
      "cell_type": "code",
      "execution_count": null,
      "metadata": {
        "id": "ftp6d6qUjyXe"
      },
      "outputs": [],
      "source": [
        "!pip install -U --force git+https://github.com/graphistry/pygraphistry.git@cudf\n",
        "!pip install -U git+https://github.com/graphistry/cu-cat.git@DT"
      ],
      "id": "ftp6d6qUjyXe"
    },
    {
      "cell_type": "code",
      "execution_count": 4,
      "metadata": {
        "id": "219c6516-e381-4d41-aebb-a17704888e5a"
      },
      "outputs": [],
      "source": [
        "import locale\n",
        "def getpreferredencoding(do_setlocale = True):\n",
        "    return \"UTF-8\"\n",
        "locale.getpreferredencoding = getpreferredencoding"
      ],
      "id": "219c6516-e381-4d41-aebb-a17704888e5a"
    },
    {
      "cell_type": "code",
      "execution_count": 5,
      "metadata": {
        "id": "9da43cdd-e7c2-45e2-83cb-e7b6a3efe896"
      },
      "outputs": [],
      "source": [
        "import os\n",
        "from collections import Counter\n",
        "import cProfile\n",
        "import pandas as pd\n",
        "import numpy as np\n",
        "import matplotlib.pyplot as plt\n",
        "from pstats import Stats\n",
        "import cudf\n",
        "from time import time\n",
        "import warnings\n",
        "warnings.filterwarnings('ignore')\n",
        "\n",
        "pd.set_option('display.max_colwidth', 200)"
      ],
      "id": "9da43cdd-e7c2-45e2-83cb-e7b6a3efe896"
    },
    {
      "cell_type": "code",
      "execution_count": 6,
      "metadata": {
        "colab": {
          "base_uri": "https://localhost:8080/"
        },
        "id": "af47c1f6-003b-4585-9722-c13d9a93eb4b",
        "outputId": "f66e1f67-82c6-4aa3-ef74-ac9f3b25e4c7"
      },
      "outputs": [
        {
          "output_type": "stream",
          "name": "stdout",
          "text": [
            "/usr/local/lib/python3.10/dist-packages/cu_cat/__init__.py\n"
          ]
        }
      ],
      "source": [
        "import graphistry\n",
        "graphistry.register(api=3,protocol=\"https\", server=\"hub.graphistry.com\", username='dcolinmorgan', password='fXjJnkE3Gik6BWy') ## key id, secret key\n",
        "\n",
        "# graphistry.register(api=3,protocol=\"https\", server=\"hub.graphistry.com\", username='dcolinmorgan', password='***') ## key id, secret key\n",
        "graphistry.__version__\n",
        "\n",
        "import cu_cat\n",
        "print(cu_cat.__file__)"
      ],
      "id": "af47c1f6-003b-4585-9722-c13d9a93eb4b"
    },
    {
      "cell_type": "code",
      "execution_count": 7,
      "metadata": {
        "colab": {
          "base_uri": "https://localhost:8080/"
        },
        "id": "D5w567tn2Uok",
        "outputId": "30e49159-94a4-41df-95ef-1242afbe2961"
      },
      "outputs": [
        {
          "output_type": "stream",
          "name": "stdout",
          "text": [
            "Tesla T4\n"
          ]
        }
      ],
      "source": [
        "# !nvidia-smi --query-gpu=gpu_name --format=csv\n",
        "!nvidia-smi --query-gpu=gpu_name --format=csv,noheader\n",
        "# !nvidia-smi -L\n",
        "# import sys\n",
        "# import os\n",
        "\n",
        "# gpu=(sys.argv[1])\n",
        "# gpu\n",
        "import os"
      ],
      "id": "D5w567tn2Uok"
    },
    {
      "cell_type": "code",
      "source": [
        "!nvidia-smi --query-gpu=gpu_name --format=csv\n",
        "!pip install nvsmi\n",
        "import nvsmi\n",
        "gpu=str(nvsmi.get_gpu_processes()).split('|')[3].split(':')[1]"
      ],
      "metadata": {
        "colab": {
          "base_uri": "https://localhost:8080/"
        },
        "id": "AuJH7SQMmllb",
        "outputId": "e46c3382-638e-4dc0-846a-a5713d70971c"
      },
      "id": "AuJH7SQMmllb",
      "execution_count": 8,
      "outputs": [
        {
          "output_type": "stream",
          "name": "stdout",
          "text": [
            "name\n",
            "Tesla T4\n",
            "Looking in indexes: https://pypi.org/simple, https://us-python.pkg.dev/colab-wheels/public/simple/\n",
            "Collecting nvsmi\n",
            "  Downloading nvsmi-0.4.2-py3-none-any.whl (5.5 kB)\n",
            "Installing collected packages: nvsmi\n",
            "Successfully installed nvsmi-0.4.2\n"
          ]
        }
      ]
    },
    {
      "cell_type": "code",
      "source": [
        "!wget https://www.dropbox.com/s/owzp6af8v4vcp1s/sample-state-with-severity.csv.zip\n",
        "!unzip sample-state-with-severity.csv.zip"
      ],
      "metadata": {
        "id": "lOThEVFDngW-"
      },
      "id": "lOThEVFDngW-",
      "execution_count": null,
      "outputs": []
    },
    {
      "cell_type": "code",
      "source": [
        "filtered_df=pd.read_csv(\"sample-state-with-severity.csv\").drop(columns=[\"Unnamed: 0\"])\n",
        "samp=filtered_df.sample(500000)\n",
        "\n",
        "from graphistry.features import ModelDict, topic_model\n",
        "\n",
        "X = ['DRUG_NAME',\"severity_level\",'BUYER_BUS_ACT',\"BUYER_COUNTY\",\"BUYER_STATE\"] #buyer_state and county only for multi states\n",
        "\n",
        "# samp['feats'] = samp[X].astype(str).agg(' '.join, axis=1)\n",
        "samp['month_date']=pd.to_datetime(samp['month_date'])\n",
        "samp['day'] = samp['month_date'].dt.day\n",
        "samp['month'] = samp['month_date'].dt.month\n",
        "samp['year'] = samp['month_date'].dt.year\n",
        "\n",
        "samp.drop(columns=['month_date','ds'],inplace=True)\n",
        "\n",
        "g = graphistry.nodes(cudf.from_pandas(samp))\n",
        "\n",
        "process=True\n",
        "if process:\n",
        "    t=time()\n",
        "    g2 = g.umap(X=X, feature_engine='cu_cat', engine='cuml')\n",
        "    print(time()-t)\n",
        "    # g2.save_search_instance('severity-level-25k.umap')\n",
        "else:\n",
        "    print('boo')\n",
        "    # g2 = g.load_search_instance('severity-level-25k.umap')\n",
        "\n",
        "g2.plot()"
      ],
      "metadata": {
        "id": "TynqOl1p3FoG",
        "outputId": "53ebeeae-5b03-44cc-8e48-8e239109008f",
        "colab": {
          "base_uri": "https://localhost:8080/",
          "height": 578
        }
      },
      "id": "TynqOl1p3FoG",
      "execution_count": 14,
      "outputs": [
        {
          "output_type": "stream",
          "name": "stderr",
          "text": [
            "WARNING:root:! Failed featurize speedup attempt. Continuing without memoization speedups.WARNING:root:Target is not of type(DataFrame) and has no columns"
          ]
        },
        {
          "output_type": "stream",
          "name": "stdout",
          "text": [
            "Using GPU: cu_cat\n"
          ]
        },
        {
          "output_type": "stream",
          "name": "stderr",
          "text": [
            "WARNING:root:! Failed umap speedup attempt. Continuing without memoization speedups.WARNING:graphistry.umap_utils:* Ignoring target column of shape (500000, 0) in UMAP fit, as it is not one dimensional"
          ]
        },
        {
          "output_type": "stream",
          "name": "stdout",
          "text": [
            "-112.72469186782837\n"
          ]
        },
        {
          "output_type": "execute_result",
          "data": {
            "text/plain": [
              "<IPython.core.display.HTML object>"
            ],
            "text/html": [
              "\n",
              "            <iframe id=\"8b910a09-eedf-4d84-b683-3d3a7ccbbd1c\" src=\"https://hub.graphistry.com/graph/graph.html?dataset=450f4c1bc60742299653caa477b547e7&type=arrow&viztoken=b2f0882f-0057-4b22-9563-cafc326375f1&usertag=d19887f4-pygraphistry-0.28.7+463.gfb96400&splashAfter=1684922974&info=true&play=0\"\n",
              "                    allowfullscreen=\"true\" webkitallowfullscreen=\"true\" mozallowfullscreen=\"true\"\n",
              "                    oallowfullscreen=\"true\" msallowfullscreen=\"true\"\n",
              "                    style=\"width:100%; height:500px; border: 1px solid #DDD; overflow: hidden\"\n",
              "                    \n",
              "            >\n",
              "            </iframe>\n",
              "        \n",
              "            <script>\n",
              "                try {\n",
              "                  $(\"#8b910a09-eedf-4d84-b683-3d3a7ccbbd1c\").bind('mousewheel', function(e) { e.preventDefault(); });\n",
              "                } catch (e) { console.error('exn catching scroll', e); }\n",
              "            </script>\n",
              "        "
            ]
          },
          "metadata": {},
          "execution_count": 14
        }
      ]
    },
    {
      "cell_type": "code",
      "source": [],
      "metadata": {
        "id": "qEHyz7D6_iWS"
      },
      "id": "qEHyz7D6_iWS",
      "execution_count": 10,
      "outputs": []
    }
  ],
  "metadata": {
    "accelerator": "GPU",
    "colab": {
      "collapsed_sections": [
        "poLK-68Y-lFB"
      ],
      "machine_shape": "hm",
      "provenance": [],
      "gpuType": "T4",
      "include_colab_link": true
    },
    "gpuClass": "premium",
    "kernelspec": {
      "display_name": "Python 3 (ipykernel)",
      "language": "python",
      "name": "python3"
    },
    "language_info": {
      "codemirror_mode": {
        "name": "ipython",
        "version": 3
      },
      "file_extension": ".py",
      "mimetype": "text/x-python",
      "name": "python",
      "nbconvert_exporter": "python",
      "pygments_lexer": "ipython3",
      "version": "3.8.13"
    }
  },
  "nbformat": 4,
  "nbformat_minor": 5
}