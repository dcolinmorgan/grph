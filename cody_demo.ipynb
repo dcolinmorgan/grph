{
  "cells": [
    {
      "cell_type": "markdown",
      "metadata": {
        "id": "view-in-github",
        "colab_type": "text"
      },
      "source": [
        "<a href=\"https://colab.research.google.com/github/dcolinmorgan/grph/blob/main/cody_demo.ipynb\" target=\"_parent\"><img src=\"https://colab.research.google.com/assets/colab-badge.svg\" alt=\"Open In Colab\"/></a>"
      ]
    },
    {
      "cell_type": "markdown",
      "source": [
        "# gpu demo for cody"
      ],
      "metadata": {
        "id": "4Y1PPZV1dpo9"
      },
      "id": "4Y1PPZV1dpo9"
    },
    {
      "cell_type": "code",
      "source": [],
      "metadata": {
        "id": "L-5wCniMd-J1"
      },
      "id": "L-5wCniMd-J1",
      "execution_count": null,
      "outputs": []
    },
    {
      "cell_type": "code",
      "execution_count": null,
      "metadata": {
        "id": "pZ2B17Vp2EY1"
      },
      "outputs": [],
      "source": [
        "# !pip install --extra-index-url=https://pypi.nvidia.com cuml-cu11==22.10.0 cudf-cu11==22.10.0 cugraph-cu11==22.10.0 pylibraft_cu11==22.10.0 raft_dask_cu11==22.10.0 dask_cudf_cu11==22.10.0 pylibcugraph_cu11==22.10.0 pylibraft_cu11==22.10.0\n",
        "!pip install --extra-index-url=https://pypi.nvidia.com cuml-cu11 cudf-cu11 cugraph-cu11 pylibraft_cu11 raft_dask_cu11 dask_cudf_cu11 pylibcugraph_cu11 pylibraft_cu11\n"
      ],
      "id": "pZ2B17Vp2EY1"
    },
    {
      "cell_type": "code",
      "execution_count": null,
      "metadata": {
        "colab": {
          "base_uri": "https://localhost:8080/",
          "height": 35
        },
        "id": "3EszGClHTCC_",
        "outputId": "f107f7e4-6da3-4ed5-eef9-f53c9343f2bb"
      },
      "outputs": [
        {
          "output_type": "execute_result",
          "data": {
            "text/plain": [
              "'23.04.01'"
            ],
            "application/vnd.google.colaboratory.intrinsic+json": {
              "type": "string"
            }
          },
          "metadata": {},
          "execution_count": 2
        }
      ],
      "source": [
        "import cuml,cudf\n",
        "cuml.__version__"
      ],
      "id": "3EszGClHTCC_"
    },
    {
      "cell_type": "code",
      "execution_count": null,
      "metadata": {
        "id": "ftp6d6qUjyXe"
      },
      "outputs": [],
      "source": [
        "!pip install -U --force git+https://github.com/graphistry/pygraphistry.git@cudf\n",
        "!pip install -U git+https://github.com/graphistry/cu-cat.git@DT"
      ],
      "id": "ftp6d6qUjyXe"
    },
    {
      "cell_type": "code",
      "execution_count": null,
      "metadata": {
        "id": "219c6516-e381-4d41-aebb-a17704888e5a"
      },
      "outputs": [],
      "source": [
        "import locale\n",
        "def getpreferredencoding(do_setlocale = True):\n",
        "    return \"UTF-8\"\n",
        "locale.getpreferredencoding = getpreferredencoding"
      ],
      "id": "219c6516-e381-4d41-aebb-a17704888e5a"
    },
    {
      "cell_type": "code",
      "execution_count": null,
      "metadata": {
        "id": "9da43cdd-e7c2-45e2-83cb-e7b6a3efe896"
      },
      "outputs": [],
      "source": [
        "import os\n",
        "from collections import Counter\n",
        "import cProfile\n",
        "import pandas as pd\n",
        "import numpy as np\n",
        "import matplotlib.pyplot as plt\n",
        "from pstats import Stats\n",
        "import cudf\n",
        "from time import time\n",
        "import warnings\n",
        "warnings.filterwarnings('ignore')\n",
        "\n",
        "pd.set_option('display.max_colwidth', 200)"
      ],
      "id": "9da43cdd-e7c2-45e2-83cb-e7b6a3efe896"
    },
    {
      "cell_type": "code",
      "execution_count": null,
      "metadata": {
        "colab": {
          "base_uri": "https://localhost:8080/",
          "height": 35
        },
        "id": "af47c1f6-003b-4585-9722-c13d9a93eb4b",
        "outputId": "bc7b78d2-c539-409a-d43f-5d1721f783a9"
      },
      "outputs": [
        {
          "output_type": "execute_result",
          "data": {
            "text/plain": [
              "'0.28.7+463.gfb96400'"
            ],
            "application/vnd.google.colaboratory.intrinsic+json": {
              "type": "string"
            }
          },
          "metadata": {},
          "execution_count": 10
        }
      ],
      "source": [
        "import graphistry\n",
        "graphistry.register(api=3,protocol=\"https\", server=\"hub.graphistry.com\", username='dcolinmorgan', password='fXjJnkE3Gik6BWy') ## key id, secret key\n",
        "\n",
        "# graphistry.register(api=3,protocol=\"https\", server=\"hub.graphistry.com\", username='dcolinmorgan', password='***') ## key id, secret key\n",
        "graphistry.__version__\n",
        "\n",
        "import cu_cat\n",
        "print(cu_cat.__file__)"
      ],
      "id": "af47c1f6-003b-4585-9722-c13d9a93eb4b"
    },
    {
      "cell_type": "code",
      "execution_count": null,
      "metadata": {
        "colab": {
          "base_uri": "https://localhost:8080/"
        },
        "id": "D5w567tn2Uok",
        "outputId": "10fd948c-316f-406d-9473-369b5065ee1f"
      },
      "outputs": [
        {
          "output_type": "stream",
          "name": "stdout",
          "text": [
            "Tesla T4\n"
          ]
        }
      ],
      "source": [
        "# !nvidia-smi --query-gpu=gpu_name --format=csv\n",
        "!nvidia-smi --query-gpu=gpu_name --format=csv,noheader\n",
        "# !nvidia-smi -L\n",
        "# import sys\n",
        "# import os\n",
        "\n",
        "# gpu=(sys.argv[1])\n",
        "# gpu\n",
        "import os"
      ],
      "id": "D5w567tn2Uok"
    },
    {
      "cell_type": "code",
      "source": [
        "!nvidia-smi --query-gpu=gpu_name --format=csv\n",
        "!pip install nvsmi\n",
        "import nvsmi\n",
        "gpu=str(nvsmi.get_gpu_processes()).split('|')[3].split(':')[1]"
      ],
      "metadata": {
        "colab": {
          "base_uri": "https://localhost:8080/"
        },
        "id": "AuJH7SQMmllb",
        "outputId": "3e91db9c-c4b8-4122-920f-f96211909a23"
      },
      "id": "AuJH7SQMmllb",
      "execution_count": null,
      "outputs": [
        {
          "output_type": "stream",
          "name": "stdout",
          "text": [
            "name\n",
            "Tesla T4\n",
            "Looking in indexes: https://pypi.org/simple, https://us-python.pkg.dev/colab-wheels/public/simple/\n",
            "Collecting nvsmi\n",
            "  Downloading nvsmi-0.4.2-py3-none-any.whl (5.5 kB)\n",
            "Installing collected packages: nvsmi\n",
            "Successfully installed nvsmi-0.4.2\n"
          ]
        }
      ]
    },
    {
      "cell_type": "code",
      "source": [
        "https://www.dropbox.com/s/owzp6af8v4vcp1s/sample-state-with-severity.csv.zip?dl=0\n",
        "!unzip /content/drive/MyDrive/graphistry/sample-state-with-severity.csv.zip"
      ],
      "metadata": {
        "colab": {
          "base_uri": "https://localhost:8080/"
        },
        "id": "lOThEVFDngW-",
        "outputId": "01a7241a-c6a3-4a72-d196-ba601244cb95"
      },
      "id": "lOThEVFDngW-",
      "execution_count": null,
      "outputs": [
        {
          "output_type": "stream",
          "name": "stdout",
          "text": [
            "Mounted at /content/drive\n",
            "Archive:  /content/drive/MyDrive/graphistry/sample-state-with-severity.csv.zip\n",
            "  inflating: sample-state-with-severity.csv  \n",
            "  inflating: __MACOSX/._sample-state-with-severity.csv  \n"
          ]
        }
      ]
    },
    {
      "cell_type": "code",
      "source": [],
      "metadata": {
        "id": "sUfo8O-c3FkP"
      },
      "id": "sUfo8O-c3FkP",
      "execution_count": null,
      "outputs": []
    },
    {
      "cell_type": "code",
      "source": [
        "filtered_df=pd.read_csv(\"sample-state-with-severity.csv\").drop(columns=[\"Unnamed: 0\"])\n",
        "samp=filtered_df#.sample(25000)\n",
        "\n",
        "from graphistry.features import ModelDict, topic_model\n",
        "\n",
        "X = ['DRUG_NAME',\"severity_level\",'BUYER_BUS_ACT',\"BUYER_COUNTY\",\"BUYER_STATE\"] #buyer_state and county only for multi states\n",
        "\n",
        "# samp['feats'] = samp[X].astype(str).agg(' '.join, axis=1)\n",
        "\n",
        "samp.drop(columns=['month_date','ds'],inplace=True)\n",
        "\n",
        "g = graphistry.nodes(cudf.from_pandas(samp))\n",
        "\n",
        "process=True\n",
        "if process:\n",
        "    t=time()\n",
        "    g2 = g.umap(X=X, feature_engine='cu_cat', engine='cuml')\n",
        "    print(t-time())\n",
        "    # g2.save_search_instance('severity-level-25k.umap')\n",
        "else:\n",
        "    print('boo')\n",
        "    # g2 = g.load_search_instance('severity-level-25k.umap')\n",
        "\n",
        "g2.plot()"
      ],
      "metadata": {
        "id": "TynqOl1p3FoG",
        "outputId": "2f5366dd-2ffb-48a8-a9fb-6cd9eb670433",
        "colab": {
          "base_uri": "https://localhost:8080/"
        }
      },
      "id": "TynqOl1p3FoG",
      "execution_count": null,
      "outputs": [
        {
          "output_type": "stream",
          "name": "stdout",
          "text": [
            "Using GPU: cu_cat\n"
          ]
        },
        {
          "output_type": "stream",
          "name": "stderr",
          "text": [
            "WARNING:root:! Failed featurize speedup attempt. Continuing without memoization speedups.WARNING:root:Target is not of type(DataFrame) and has no columnsWARNING:root:! Failed umap speedup attempt. Continuing without memoization speedups.WARNING:graphistry.umap_utils:* Ignoring target column of shape (1728516, 0) in UMAP fit, as it is not one dimensional"
          ]
        }
      ]
    },
    {
      "cell_type": "code",
      "source": [
        "X"
      ],
      "metadata": {
        "id": "4UPoUeGt4BmR",
        "outputId": "f5dc9a0b-7aae-4f5f-cf34-9eb392fabe6b",
        "colab": {
          "base_uri": "https://localhost:8080/"
        }
      },
      "id": "4UPoUeGt4BmR",
      "execution_count": null,
      "outputs": [
        {
          "output_type": "execute_result",
          "data": {
            "text/plain": [
              "['DRUG_NAME', 'severity_level', 'BUYER_BUS_ACT', 'BUYER_COUNTY', 'BUYER_STATE']"
            ]
          },
          "metadata": {},
          "execution_count": 154
        }
      ]
    },
    {
      "cell_type": "code",
      "source": [],
      "metadata": {
        "id": "89lqLulw4B3t"
      },
      "id": "89lqLulw4B3t",
      "execution_count": null,
      "outputs": []
    }
  ],
  "metadata": {
    "accelerator": "GPU",
    "colab": {
      "collapsed_sections": [
        "poLK-68Y-lFB"
      ],
      "machine_shape": "hm",
      "provenance": [],
      "gpuType": "T4",
      "toc_visible": true,
      "include_colab_link": true
    },
    "gpuClass": "premium",
    "kernelspec": {
      "display_name": "Python 3 (ipykernel)",
      "language": "python",
      "name": "python3"
    },
    "language_info": {
      "codemirror_mode": {
        "name": "ipython",
        "version": 3
      },
      "file_extension": ".py",
      "mimetype": "text/x-python",
      "name": "python",
      "nbconvert_exporter": "python",
      "pygments_lexer": "ipython3",
      "version": "3.8.13"
    }
  },
  "nbformat": 4,
  "nbformat_minor": 5
}