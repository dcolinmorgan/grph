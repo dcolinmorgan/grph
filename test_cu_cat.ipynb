{
  "cells": [
    {
      "cell_type": "markdown",
      "metadata": {
        "id": "view-in-github",
        "colab_type": "text"
      },
      "source": [
        "<a href=\"https://colab.research.google.com/github/dcolinmorgan/grph/blob/main/test_cu_cat.ipynb\" target=\"_parent\"><img src=\"https://colab.research.google.com/assets/colab-badge.svg\" alt=\"Open In Colab\"/></a>"
      ]
    },
    {
      "cell_type": "markdown",
      "metadata": {
        "id": "4Y1PPZV1dpo9"
      },
      "source": [
        "# Test cu_cat for cuda version issues\n"
      ],
      "id": "4Y1PPZV1dpo9"
    },
    {
      "cell_type": "code",
      "source": [
        "# !pip install Ipython --upgrade\n",
        "\n",
        "# %load_ext autoreload\n",
        "# %autoreload 2"
      ],
      "metadata": {
        "id": "7fwQEu4_MrJU"
      },
      "id": "7fwQEu4_MrJU",
      "execution_count": 1,
      "outputs": []
    },
    {
      "cell_type": "code",
      "execution_count": null,
      "metadata": {
        "id": "pZ2B17Vp2EY1",
        "outputId": "55d70e12-67eb-4f53-9f69-5e81617ee042",
        "colab": {
          "base_uri": "https://localhost:8080/"
        }
      },
      "outputs": [
        {
          "output_type": "stream",
          "name": "stdout",
          "text": [
            "Looking in indexes: https://pypi.org/simple, https://pypi.nvidia.com\n",
            "Collecting cuml-cu12==23.12.00\n",
            "  Downloading https://pypi.nvidia.com/cuml-cu12/cuml_cu12-23.12.0-cp310-cp310-manylinux_2_17_x86_64.manylinux2014_x86_64.whl (955.2 MB)\n",
            "\u001b[2K     \u001b[91m━━━━━━━━━━━━━━━━\u001b[0m\u001b[90m╺\u001b[0m\u001b[90m━━━━━━━━━━━━━━━━━━━━━━━\u001b[0m \u001b[32m393.9/955.2 MB\u001b[0m \u001b[31m27.7 MB/s\u001b[0m eta \u001b[36m0:00:21\u001b[0m"
          ]
        }
      ],
      "source": [
        "!pip install --extra-index-url=https://pypi.nvidia.com cuml-cu12==23.12.00 cudf-cu12==23.12.00 #cugraph-cu11 pylibraft_cu11 raft_dask_cu11 dask_cudf_cu11 pylibcugraph_cu11 pylibraft_cu11"
      ],
      "id": "pZ2B17Vp2EY1"
    },
    {
      "cell_type": "code",
      "source": [
        "!pip install --upgrade cu-cat\n",
        "!pip install git+https://github.com/graphistry/pygraphistry.git@dev/depman_gpufeat\n"
      ],
      "metadata": {
        "id": "UJHNzeQ6kZzp"
      },
      "id": "UJHNzeQ6kZzp",
      "execution_count": null,
      "outputs": []
    },
    {
      "cell_type": "code",
      "execution_count": null,
      "metadata": {
        "id": "F-cgIZ2iNC3K"
      },
      "outputs": [],
      "source": [
        "import cu_cat\n",
        "import cudf"
      ],
      "id": "F-cgIZ2iNC3K"
    },
    {
      "cell_type": "code",
      "execution_count": null,
      "metadata": {
        "id": "219c6516-e381-4d41-aebb-a17704888e5a"
      },
      "outputs": [],
      "source": [
        "import locale\n",
        "def getpreferredencoding(do_setlocale = True):\n",
        "    return \"UTF-8\"\n",
        "locale.getpreferredencoding = getpreferredencoding"
      ],
      "id": "219c6516-e381-4d41-aebb-a17704888e5a"
    },
    {
      "cell_type": "code",
      "execution_count": null,
      "metadata": {
        "id": "9da43cdd-e7c2-45e2-83cb-e7b6a3efe896"
      },
      "outputs": [],
      "source": [
        "import os\n",
        "from collections import Counter\n",
        "import cProfile\n",
        "import pandas as pd\n",
        "import numpy as np\n",
        "import matplotlib.pyplot as plt\n",
        "from pstats import Stats\n",
        "# import cudf\n",
        "from time import time\n",
        "import warnings\n",
        "warnings.filterwarnings('ignore')\n",
        "\n",
        "pd.set_option('display.max_colwidth', 200)"
      ],
      "id": "9da43cdd-e7c2-45e2-83cb-e7b6a3efe896"
    },
    {
      "cell_type": "code",
      "execution_count": null,
      "metadata": {
        "id": "af47c1f6-003b-4585-9722-c13d9a93eb4b"
      },
      "outputs": [],
      "source": [
        "import graphistry\n",
        "\n",
        "graphistry.register(api=3,protocol=\"https\", server=\"hub.graphistry.com\", username='dcolinmorgan', password='fXjJnkE3Gik6BWy') ## key id, secret key\n",
        "graphistry.__version__\n"
      ],
      "id": "af47c1f6-003b-4585-9722-c13d9a93eb4b"
    },
    {
      "cell_type": "code",
      "execution_count": null,
      "metadata": {
        "id": "AuJH7SQMmllb"
      },
      "outputs": [],
      "source": [
        "!nvidia-smi #-h #--format=csv\n",
        "# !pip install nvsmi\n",
        "# import nvsmi\n",
        "# gpu=str(nvsmi.get_gpu_processes()).split('|')[3].split(':')[1]"
      ],
      "id": "AuJH7SQMmllb"
    },
    {
      "cell_type": "markdown",
      "metadata": {
        "id": "QAwlxmRDso3p"
      },
      "source": [
        "## look at dataset (select non-sparse columns)"
      ],
      "id": "QAwlxmRDso3p"
    },
    {
      "cell_type": "code",
      "execution_count": null,
      "metadata": {
        "id": "Mfs2wwMwoahF"
      },
      "outputs": [],
      "source": [
        "!wget -nc https://www.dropbox.com/s/31dx1g6g59exoc3/part.88.parquet\n",
        "winlogsA=pd.read_parquet('part.88.parquet')\n"
      ],
      "id": "Mfs2wwMwoahF"
    },
    {
      "cell_type": "markdown",
      "metadata": {
        "id": "hoM53bR4DOTG"
      },
      "source": [
        "# Graphistry[AI] - Feature Engineering:\n",
        "## CUDA_cat GPU engine\n",
        "- data: **5million row** x dozens of sparse columns Windows log dataset\n",
        "- data subset: parred down to **20k** rows, selecting just dense columns"
      ],
      "id": "hoM53bR4DOTG"
    },
    {
      "cell_type": "code",
      "execution_count": null,
      "metadata": {
        "id": "-ksOnvDUyYXK"
      },
      "outputs": [],
      "source": [
        "import logging\n",
        "logging.basicConfig(level=logging.DEBUG)"
      ],
      "id": "-ksOnvDUyYXK"
    },
    {
      "cell_type": "code",
      "execution_count": null,
      "metadata": {
        "id": "85kLoG1fyY9U"
      },
      "outputs": [],
      "source": [
        "winlogs=winlogsA[['LogonID','UserName','LogHost','Time','DomainName','LogonType','SubjectLogonID','Status','Destination','ServiceName']]#.convert_dtypes() #.replace('nan',np.nan).fillna('0o0o0')\n",
        "winlogs=winlogs.sample(10000,replace=False)"
      ],
      "id": "85kLoG1fyY9U"
    },
    {
      "cell_type": "code",
      "source": [
        "aa=cu_cat.TableVectorizer()\n",
        "aa.fit_transform((winlogs))"
      ],
      "metadata": {
        "id": "f7k7xTUWHstj"
      },
      "id": "f7k7xTUWHstj",
      "execution_count": null,
      "outputs": []
    },
    {
      "cell_type": "code",
      "source": [
        "aa.fit(winlogs).transform((winlogs))"
      ],
      "metadata": {
        "id": "hciJ3mZVHtYI"
      },
      "id": "hciJ3mZVHtYI",
      "execution_count": null,
      "outputs": []
    },
    {
      "cell_type": "code",
      "source": [
        "g1 = graphistry.nodes(cudf.from_pandas(winlogs))\n",
        "\n",
        "t=time()\n",
        "g11=g1.umap(feature_engine='cu_cat',engine='cuml',memoize=False)\n",
        "t2=time()-t\n",
        "print(t2)"
      ],
      "metadata": {
        "id": "vOJXOkB-JDKx"
      },
      "id": "vOJXOkB-JDKx",
      "execution_count": null,
      "outputs": []
    },
    {
      "cell_type": "code",
      "source": [
        "g1 = graphistry.nodes((winlogs))\n",
        "\n",
        "t=time()\n",
        "g11=g1.umap(feature_engine='cu_cat',engine='cuml',memoize=False)\n",
        "t2=time()-t\n",
        "print(t2)"
      ],
      "metadata": {
        "id": "qkl-gTqAPltR"
      },
      "id": "qkl-gTqAPltR",
      "execution_count": null,
      "outputs": []
    }
  ],
  "metadata": {
    "accelerator": "GPU",
    "colab": {
      "provenance": [],
      "gpuType": "T4",
      "include_colab_link": true
    },
    "kernelspec": {
      "display_name": "Python 3",
      "name": "python3"
    },
    "language_info": {
      "codemirror_mode": {
        "name": "ipython",
        "version": 3
      },
      "file_extension": ".py",
      "mimetype": "text/x-python",
      "name": "python",
      "nbconvert_exporter": "python",
      "pygments_lexer": "ipython3",
      "version": "3.8.13"
    }
  },
  "nbformat": 4,
  "nbformat_minor": 5
}