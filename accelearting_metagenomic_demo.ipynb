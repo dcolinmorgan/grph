{
  "cells": [
    {
      "cell_type": "markdown",
      "metadata": {
        "id": "view-in-github",
        "colab_type": "text"
      },
      "source": [
        "<a href=\"https://colab.research.google.com/github/dcolinmorgan/grph/blob/main/accelearting_metagenomic_demo.ipynb\" target=\"_parent\"><img src=\"https://colab.research.google.com/assets/colab-badge.svg\" alt=\"Open In Colab\"/></a>"
      ]
    },
    {
      "cell_type": "markdown",
      "source": [
        "# Accelerating metagenomic analysis with [Graphistry](graphistry.com)"
      ],
      "metadata": {
        "id": "ozrca88hza85"
      }
    },
    {
      "cell_type": "markdown",
      "source": [
        "Using GPU-accelerated UMAP + DBScan analysis & visualization, metagenomic samples can be compared faster and much more easily explored.\n",
        "\n",
        "*   Task: Analyze metagenomic samples for similarity\n",
        "*   Data: 10 samples\n",
        "*   [data](https://figshare.scilifelab.se/articles/dataset/Metagenomic_dataset_from_Swedish_urban_lakes/22270225?file=39602290)\n",
        "*   [paper](https://pubmed.ncbi.nlm.nih.gov/15560821/)\n",
        "\n",
        "**Insight/ Result:**\n",
        "\n",
        "over XXx faster for entire\n",
        "Offers more insight when static plot would otherwise fail\n",
        "\n",
        "(See also: [CPU baseline](https://github.com/dcolinmorgan/grph/blob/main/accelerating_chemical_mappings.ipynb))"
      ],
      "metadata": {
        "id": "tLRHg2VEzoYy"
      }
    },
    {
      "cell_type": "markdown",
      "metadata": {
        "id": "PjnS_PCWaClg"
      },
      "source": [
        "# Setup"
      ]
    },
    {
      "cell_type": "code",
      "execution_count": null,
      "metadata": {
        "id": "JTzHVRgEcDUV"
      },
      "outputs": [],
      "source": [
        "!pip install --extra-index-url=https://pypi.nvidia.com cuml-cu11 cudf-cu11 cugraph-cu11 pylibraft_cu11 raft_dask_cu11 dask_cudf_cu11 pylibcugraph_cu11 pylibraft_cu11\n",
        "import cuml,cudf\n",
        "print(cuml.__version__)\n",
        "\n",
        "!pip install -U --force git+https://github.com/graphistry/pygraphistry.git@cudf\n",
        "!pip install -U git+https://github.com/graphistry/cu-cat.git@DT3\n",
        "# !pip install dirty_cat\n",
        "\n",
        "!pip install Biopython\n",
        "\n",
        "!nvidia-smi\n"
      ]
    },
    {
      "cell_type": "markdown",
      "source": [
        "# import /configure\n",
        "\n",
        "get a free api-key at https://www.graphistry.com/\n"
      ],
      "metadata": {
        "id": "HK_8_7UB0mhx"
      }
    },
    {
      "cell_type": "code",
      "source": [
        "import pandas as pd\n",
        "import graphistry\n",
        "from time import time\n",
        "\n",
        "\n",
        "graphistry.register(api=3,protocol=\"https\", server=\"hub.graphistry.com\", username='dcolinmorgan', password='fXjJnkE3Gik6BWy') ## key id, secret key\n",
        "\n",
        "# graphistry.register(api=3,protocol=\"https\", server=\"hub.graphistry.com\", username='dcolinmorgan', password='***') ## key id, secret key\n",
        "graphistry.__version__"
      ],
      "metadata": {
        "id": "i42QrQ_ejC4h",
        "colab": {
          "base_uri": "https://localhost:8080/",
          "height": 35
        },
        "outputId": "58e4c0eb-11e1-448f-896b-3931664a09da"
      },
      "execution_count": null,
      "outputs": [
        {
          "output_type": "execute_result",
          "data": {
            "text/plain": [
              "'0.29.1'"
            ],
            "application/vnd.google.colaboratory.intrinsic+json": {
              "type": "string"
            }
          },
          "metadata": {},
          "execution_count": 4
        }
      ]
    },
    {
      "cell_type": "markdown",
      "source": [
        "# bio-ml dataset\n",
        "\n",
        "\n",
        "1.   [3 subjects x 10 time points](\n",
        "https://www.ebi.ac.uk/ena/browser/view/PRJNA544527)\n",
        "\n",
        "2.  [metadata](\n",
        "https://static-content.springer.com/esm/art%3A10.1038%2Fs41591-019-0559-3/MediaObjects/41591_2019_559_MOESM3_ESM.xlsx)\n",
        "\n",
        "3.   !wget https://raw.githubusercontent.com/dcolinmorgan/grph/main/ftp_PRJNA544527.txt\n"
      ],
      "metadata": {
        "id": "_Y1VlCGy4_FR"
      }
    },
    {
      "cell_type": "code",
      "source": [
        "!wget -nc ftp://ftp.sra.ebi.ac.uk/vol1/fastq/SRR922/006/SRR9224006/SRR9224006_1.fastq.gz\n",
        "!wget -nc ftp://ftp.sra.ebi.ac.uk/vol1/fastq/SRR922/006/SRR9224006/SRR9224006_2.fastq.gz"
      ],
      "metadata": {
        "id": "CBN6Z_77Sduq"
      },
      "execution_count": null,
      "outputs": []
    },
    {
      "cell_type": "code",
      "source": [
        "! gunzip SRR9224006_1.fastq.gz\n",
        "! gunzip SRR9224006_2.fastq.gz"
      ],
      "metadata": {
        "id": "UjbF1ZfwULLt"
      },
      "execution_count": null,
      "outputs": []
    },
    {
      "cell_type": "code",
      "source": [
        "!head /content/SRR9224006_1.fastq"
      ],
      "metadata": {
        "colab": {
          "base_uri": "https://localhost:8080/"
        },
        "id": "ljJnoNeLSnWq",
        "outputId": "64e52f66-1939-417f-ef5b-2ebc2306a133"
      },
      "execution_count": null,
      "outputs": [
        {
          "output_type": "stream",
          "name": "stdout",
          "text": [
            "@SRR9224006.1 7001174F:HVTFNBCXX161011:HVTFNBCXX:2:2206:18894:58151/1\n",
            "AAAAAAAACAAAATAATGGAAACAAAAAACATCTACTTCATCAGCGGCATTGATACAGATGCCGGAAAAAGCTATTGCACCGCCTGGTATGCCCGTGAGCT\n",
            "+\n",
            "DDDDDIIIIIIGIIIIIIIIIIIIHIIIIIIIIIIIIIIIIIIIIIIIIIIIIIIIIIIIIIIDHGIIIIGGHIIHHHIIIIIIIHHIIIIIIHIIIIIII\n",
            "@SRR9224006.2 7001174F:HVTFNBCXX161011:HVTFNBCXX:1:1108:17623:49640/1\n",
            "AAAAAAAACAACCCAATGCGATTCTGATCGCAATCTACATAAGTTACTACTGGTTATCTTCCCTGAAG\n",
            "+\n",
            "DDBDDIGIIHIIIGHGHFHIGHIIIEHIHIIIIIIIIIIIIEHHHGHIIIIIIIIIIIIIIEHHHHHH\n",
            "@SRR9224006.3 7001174F:HVTFNBCXX161011:HVTFNBCXX:1:1204:5345:82516/1\n",
            "AAAAAAAACAAGAGCTTTATTAAACACGTCTTGATCTTTTTTACACCTGCCGGAAATTCCATCGT\n"
          ]
        }
      ]
    },
    {
      "cell_type": "code",
      "source": [
        "from Bio import SeqIO\n",
        "import glob,os\n",
        "import pandas as pd\n",
        "B=pd.DataFrame()\n",
        "for i in glob.glob('/content/*.fastq'):\n",
        "    # j=os.path.basename(i)\n",
        "    fasta_sequences = SeqIO.parse(open(i),'fastq')\n",
        "    identifiers = []\n",
        "    sequences = []\n",
        "    for fasta in fasta_sequences:\n",
        "        name, sequence = fasta.id, str(fasta.seq)\n",
        "        identifiers.append(name)\n",
        "        sequences.append(sequence)\n",
        "\n",
        "    A=pd.DataFrame([identifiers,sequences]).T\n",
        "    A.columns=['ID','seq']\n",
        "    A.dropna(inplace=True)\n",
        "    B=B.append(A)\n",
        "    # A['ID']#=A.ID.str.split('-')[0:1]\n",
        "# B['ID']=B['ID'].str.split('-').str[0]+'_'+B['ID'].str.split('-').str[1]#.cat()\n",
        "B['ID']=B.ID.str.split('_length').str[0]\n",
        "B.index=B.ID"
      ],
      "metadata": {
        "id": "UWDGFCWxSpv_"
      },
      "execution_count": null,
      "outputs": []
    },
    {
      "cell_type": "markdown",
      "source": [
        "# install [HUMAnN 3](https://huttenhower.sph.harvard.edu/humann), a method for efficiently and accurately profiling the abundance of microbial metabolic pathways and other molecular functions from metagenomic or metatranscriptomic sequencing data."
      ],
      "metadata": {
        "id": "fDvymRFjHPNB"
      }
    },
    {
      "cell_type": "code",
      "source": [
        "# !pip install humann --no-binary :all:\n",
        "!pip install metaphlan"
      ],
      "metadata": {
        "id": "yIeeDXPBHN6D"
      },
      "execution_count": null,
      "outputs": []
    },
    {
      "cell_type": "code",
      "source": [
        "### !humann_databases --download utility_mapping full /path/to/databases --update-config yes\n",
        "\n",
        "# !humann_test\n",
        "\n",
        "# !wget https://github.com/biobakery/humann/raw/master/examples/demo.fastq.gz\n",
        "# !humann -i demo.fastq.gz -o sample_results"
      ],
      "metadata": {
        "id": "TnYmqPJ-bHPa"
      },
      "execution_count": null,
      "outputs": []
    },
    {
      "cell_type": "markdown",
      "source": [
        "### takes very long for running all samples\n",
        " (1day+ run on cluster)"
      ],
      "metadata": {
        "id": "gtOG0QeoUoX6"
      }
    },
    {
      "cell_type": "code",
      "source": [
        "mkdir assemble epi_sam_out mpa4_out\n",
        "# !humann -i /content/All_MAGs/Sample_101_S75_bin_1.fa -o test_out\n",
        "%%bash\n",
        "seq=$(ls /content/*.fastq | cut -d / -f2| cut -d _ -f1)\n",
        "\n",
        "for i in $(eval \"echo \"$seq\" | cut -d _ -f1\")\n",
        "\n",
        "do\n",
        "metaphlan /content/${i}.fa --nproc 40 --input_type fasta -o /content/assemble/${i}/h4_out.txt -t rel_ab_w_read_stats\n",
        "done"
      ],
      "metadata": {
        "id": "XAtq7G_waxLd"
      },
      "execution_count": null,
      "outputs": []
    },
    {
      "cell_type": "code",
      "source": [
        "# from sqlalchemy.util.compat import dataclass_fields\n",
        "!wget https://github.com/dcolinmorgan/grph/raw/main/PRJNA544527_mpa4out.txt\n",
        "data=pd.read_csv('/content/PRJNA544527_mpa4out.txt',sep='\\t',skiprows=1,index_col=0)\n",
        "data.index=data.reset_index().clade_name.str.split('|',expand=True)[6]\n",
        "data=data.reset_index().dropna(axis=0)\n",
        "data.index=data2[6]\n",
        "data=data.drop(columns=6)\n",
        "\n",
        "!wget https://raw.githubusercontent.com/dcolinmorgan/grph/main/PRJNA544527-meta_inf.txt\n",
        "meta=pd.read_csv('/content/PRJNA544527-meta_inf.txt',sep='\\t',header=None)\n",
        "\n",
        "mm=pd.merge(data.T,meta[[3,5]],left_index=True,right_on=3)\n",
        "\n",
        "mm['id']=mm[5].str.split('-').str[0]\n",
        "mm['time']=mm[5].str.split('_').str[0].str.split('-').str[1]\n",
        "\n",
        "!wget https://static-content.springer.com/esm/art%3A10.1038%2Fs41591-019-0559-3/MediaObjects/41591_2019_559_MOESM3_ESM.xlsx\n",
        "metaa=pd.read_excel('/content/41591_2019_559_MOESM3_ESM.xlsx',sheet_name='SupTable2',skiprows=3)\n",
        "metaa=metaa[['Donor','Age','Sex','BMI']]\n",
        "\n",
        "Full_table=pd.merge(mm,metaa,left_on='id',right_on='Donor')\n",
        "Full_table=Full_table.drop(columns=[3,\t5,\t'id'])\n",
        "Full_table.time=pd.to_datetime(Full_table.time,unit='s')\n",
        "data2=Full_table.melt(id_vars=['time','Donor','Age','Sex','BMI'])\n",
        "data2.to_csv('PRJNA544527_mpa4_annot_table.txt',sep='\\t')"
      ],
      "metadata": {
        "id": "RoIBLY3-670T"
      },
      "execution_count": null,
      "outputs": []
    },
    {
      "cell_type": "markdown",
      "source": [
        "# umap and dbscan\n",
        "\n",
        "idea for metagenomic analysis based on [Quantifying Shared and Unique Gene Content across 17 Microbial Ecosystems\n",
        "](https://journals.asm.org/doi/full/10.1128/msystems.00118-23)\n",
        "\n",
        "(analyze all samples run on cluster)"
      ],
      "metadata": {
        "id": "dHbwBIEn6Wxr"
      }
    },
    {
      "cell_type": "code",
      "source": [
        "!wget https://raw.githubusercontent.com/dcolinmorgan/grph/main/PRJNA544527_mpa4_annot_table.txt\n",
        "\n",
        "data2=pd.read_csv('PRJNA544527_mpa4_annot_table.txt',sep='\\t')"
      ],
      "metadata": {
        "id": "lvmeVTRoPKVM"
      },
      "execution_count": null,
      "outputs": []
    },
    {
      "cell_type": "code",
      "execution_count": null,
      "metadata": {
        "id": "6Zoo17Ui9zxh"
      },
      "outputs": [],
      "source": [
        "g = graphistry.nodes(data2)\n",
        "\n",
        "t=time()\n",
        "g2=g.umap(dbscan=True) #feature_engine='cu_cat',engine='cuml')\n",
        "print(\"\\n\"+str(time()-t))\n",
        "\n",
        "g2.plot()"
      ]
    },
    {
      "cell_type": "code",
      "source": [],
      "metadata": {
        "id": "vBxk7SSfJAd8"
      },
      "execution_count": null,
      "outputs": []
    }
  ],
  "metadata": {
    "colab": {
      "provenance": [],
      "collapsed_sections": [
        "Dd_4UZYz0zGr"
      ],
      "gpuType": "T4",
      "machine_shape": "hm",
      "include_colab_link": true
    },
    "kernelspec": {
      "display_name": "Python 3",
      "name": "python3"
    },
    "language_info": {
      "name": "python"
    }
  },
  "nbformat": 4,
  "nbformat_minor": 0
}