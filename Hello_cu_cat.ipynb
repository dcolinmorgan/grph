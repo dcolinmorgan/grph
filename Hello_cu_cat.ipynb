{
  "cells": [
    {
      "cell_type": "markdown",
      "metadata": {
        "id": "view-in-github",
        "colab_type": "text"
      },
      "source": [
        "<a href=\"https://colab.research.google.com/github/dcolinmorgan/grph/blob/main/Hello_cu_cat.ipynb\" target=\"_parent\"><img src=\"https://colab.research.google.com/assets/colab-badge.svg\" alt=\"Open In Colab\"/></a>"
      ]
    },
    {
      "cell_type": "markdown",
      "source": [
        "# Hello cu_cat: Easy automatic feature engineering for messy dataframes on GPUs!\n",
        "Daniel, Tanmoy, Alex, Leo\n"
      ],
      "metadata": {
        "id": "4Y1PPZV1dpo9"
      },
      "id": "4Y1PPZV1dpo9"
    },
    {
      "cell_type": "markdown",
      "source": [
        "[  [LOOM](https://www.loom.com/share/10231b9dd07f4e979942fd10140e2dd0)  ] – press play and dive into analysis!\n",
        "\n",
        "The latest [PyGraphistry[AI]](https://github.com/graphistry/pygraphistry/) release GPU accelerates its automatic feature encoding pipeline, by introducing a new member to the open source GPU dataframe ecosystem: cu_cat.\n",
        "\n",
        "Cu_cat is our GPU-accelerated open source fork of the popular CPU Python  library dirty_cat.   Like dirty_cat, cu_cat makes it easy to convert messy dataframes filled with numbers, strings, and timestamps into numeric feature columns optimized for AI models. It adds interoperability for GPU dataframes and replaces key kernels and algorithms with faster and more scalable GPU variants. **Even on low-end GPUs, we are now able to tackle much larger datasets in the same amount of time – or for the first time! – with end-to-end pipelines. We typically save time with 3-5X speedups and will even see 10X+.**"
      ],
      "metadata": {
        "id": "LJZKwblsd-k1"
      },
      "id": "LJZKwblsd-k1"
    },
    {
      "cell_type": "code",
      "source": [],
      "metadata": {
        "id": "L-5wCniMd-J1"
      },
      "id": "L-5wCniMd-J1",
      "execution_count": null,
      "outputs": []
    },
    {
      "cell_type": "code",
      "execution_count": null,
      "metadata": {
        "id": "pZ2B17Vp2EY1"
      },
      "outputs": [],
      "source": [
        "# !pip install --extra-index-url=https://pypi.nvidia.com cuml-cu11==22.10.0 cudf-cu11==22.10.0 cugraph-cu11==22.10.0 pylibraft_cu11==22.10.0 raft_dask_cu11==22.10.0 dask_cudf_cu11==22.10.0 pylibcugraph_cu11==22.10.0 pylibraft_cu11==22.10.0\n",
        "!pip install --extra-index-url=https://pypi.nvidia.com cuml-cu11 cudf-cu11 cugraph-cu11 pylibraft_cu11 raft_dask_cu11 dask_cudf_cu11 pylibcugraph_cu11 pylibraft_cu11\n"
      ],
      "id": "pZ2B17Vp2EY1"
    },
    {
      "cell_type": "code",
      "execution_count": 2,
      "metadata": {
        "colab": {
          "base_uri": "https://localhost:8080/",
          "height": 35
        },
        "id": "3EszGClHTCC_",
        "outputId": "681c6734-0e99-45cf-edac-9b31c02da47e"
      },
      "outputs": [
        {
          "output_type": "execute_result",
          "data": {
            "text/plain": [
              "'23.04.01'"
            ],
            "application/vnd.google.colaboratory.intrinsic+json": {
              "type": "string"
            }
          },
          "metadata": {},
          "execution_count": 2
        }
      ],
      "source": [
        "import cuml,cudf\n",
        "cuml.__version__"
      ],
      "id": "3EszGClHTCC_"
    },
    {
      "cell_type": "code",
      "execution_count": null,
      "metadata": {
        "id": "ftp6d6qUjyXe"
      },
      "outputs": [],
      "source": [
        "!pip install -U --force git+https://github.com/graphistry/pygraphistry.git@feat/gpu-featurization\n",
        "!pip install -U git+https://github.com/graphistry/cu-cat.git@DT5"
      ],
      "id": "ftp6d6qUjyXe"
    },
    {
      "cell_type": "code",
      "execution_count": 4,
      "metadata": {
        "colab": {
          "base_uri": "https://localhost:8080/"
        },
        "id": "0YAFn_UdzFVI",
        "outputId": "ae1f09fa-792a-4701-8d7b-e6886526f660"
      },
      "outputs": [
        {
          "output_type": "stream",
          "name": "stdout",
          "text": [
            "/bin/bash: git+http://github.com/graphistry/cu-cat/tarball/datetimeegg=package-0.03.0: No such file or directory\n"
          ]
        }
      ],
      "source": [
        "!git+http://github.com/graphistry/cu-cat/tarball/datetimeegg=package-0.03.0"
      ],
      "id": "0YAFn_UdzFVI"
    },
    {
      "cell_type": "code",
      "execution_count": 5,
      "metadata": {
        "id": "219c6516-e381-4d41-aebb-a17704888e5a"
      },
      "outputs": [],
      "source": [
        "import locale\n",
        "def getpreferredencoding(do_setlocale = True):\n",
        "    return \"UTF-8\"\n",
        "locale.getpreferredencoding = getpreferredencoding"
      ],
      "id": "219c6516-e381-4d41-aebb-a17704888e5a"
    },
    {
      "cell_type": "code",
      "execution_count": 5,
      "metadata": {
        "id": "dg58Olv22IS1"
      },
      "outputs": [],
      "source": [],
      "id": "dg58Olv22IS1"
    },
    {
      "cell_type": "code",
      "execution_count": 6,
      "metadata": {
        "colab": {
          "base_uri": "https://localhost:8080/"
        },
        "id": "iGnFPi8x2IVW",
        "outputId": "b6dd680f-6cb0-47ab-a5d7-506fdf99e2d6"
      },
      "outputs": [
        {
          "output_type": "stream",
          "name": "stdout",
          "text": [
            "cp: cannot create regular file '/root/.local/lib/python3.9/site-packages/cu_cat/': No such file or directory\n"
          ]
        }
      ],
      "source": [
        "!echo \"0.01.0\" > VERSION.txt\n",
        "!cp VERSION.txt /root/.local/lib/python3.9/site-packages/cu_cat/\n",
        "# !cp VERSION.txt /usr/local/lib/python3.9/dist-packages/cu_cat/"
      ],
      "id": "iGnFPi8x2IVW"
    },
    {
      "cell_type": "code",
      "execution_count": 7,
      "metadata": {
        "colab": {
          "base_uri": "https://localhost:8080/"
        },
        "id": "oQJKUVqZ2IXr",
        "outputId": "74dc3cf8-cb63-4859-fe8c-6151b411472c"
      },
      "outputs": [
        {
          "output_type": "stream",
          "name": "stdout",
          "text": [
            "/usr/local/lib/python3.10/dist-packages/cu_cat/__init__.py\n"
          ]
        }
      ],
      "source": [
        "# from importlib import reload\n",
        "# reload(cu_cat)\n",
        "import cu_cat\n",
        "print(cu_cat.__file__)"
      ],
      "id": "oQJKUVqZ2IXr"
    },
    {
      "cell_type": "code",
      "execution_count": 8,
      "metadata": {
        "id": "9da43cdd-e7c2-45e2-83cb-e7b6a3efe896"
      },
      "outputs": [],
      "source": [
        "import os\n",
        "from collections import Counter\n",
        "import cProfile\n",
        "import pandas as pd\n",
        "import numpy as np\n",
        "import matplotlib.pyplot as plt\n",
        "from pstats import Stats\n",
        "import cudf\n",
        "from time import time\n",
        "import warnings\n",
        "warnings.filterwarnings('ignore')\n",
        "\n",
        "pd.set_option('display.max_colwidth', 200)"
      ],
      "id": "9da43cdd-e7c2-45e2-83cb-e7b6a3efe896"
    },
    {
      "cell_type": "code",
      "execution_count": 9,
      "metadata": {
        "colab": {
          "base_uri": "https://localhost:8080/",
          "height": 35
        },
        "id": "af47c1f6-003b-4585-9722-c13d9a93eb4b",
        "outputId": "b3dfb88f-7131-4982-fada-6093c236c4ec"
      },
      "outputs": [
        {
          "output_type": "execute_result",
          "data": {
            "text/plain": [
              "'0.28.7+463.gfb96400'"
            ],
            "application/vnd.google.colaboratory.intrinsic+json": {
              "type": "string"
            }
          },
          "metadata": {},
          "execution_count": 9
        }
      ],
      "source": [
        "import graphistry\n",
        "\n",
        "graphistry.register(api=3,protocol=\"https\", server=\"hub.graphistry.com\", username='dcolinmorgan', password='***') ## key id, secret key\n",
        "graphistry.__version__\n"
      ],
      "id": "af47c1f6-003b-4585-9722-c13d9a93eb4b"
    },
    {
      "cell_type": "code",
      "execution_count": null,
      "metadata": {
        "id": "JAGuCnaz2UmD"
      },
      "outputs": [],
      "source": [
        "!pip install dirty_cat"
      ],
      "id": "JAGuCnaz2UmD"
    },
    {
      "cell_type": "code",
      "execution_count": 64,
      "metadata": {
        "colab": {
          "base_uri": "https://localhost:8080/"
        },
        "id": "D5w567tn2Uok",
        "outputId": "16bbb405-d861-440f-e2e3-776e276cd33b"
      },
      "outputs": [
        {
          "output_type": "stream",
          "name": "stdout",
          "text": [
            "Tesla T4\n"
          ]
        }
      ],
      "source": [
        "# !nvidia-smi --query-gpu=gpu_name --format=csv\n",
        "!nvidia-smi --query-gpu=gpu_name --format=csv,noheader\n",
        "# !nvidia-smi -L\n",
        "# import sys\n",
        "# import os\n",
        "\n",
        "# gpu=(sys.argv[1])\n",
        "# gpu\n",
        "import os"
      ],
      "id": "D5w567tn2Uok"
    },
    {
      "cell_type": "code",
      "source": [
        "!nvidia-smi --query-gpu=gpu_name --format=csv\n",
        "!pip install nvsmi\n",
        "import nvsmi\n",
        "gpu=str(nvsmi.get_gpu_processes()).split('|')[3].split(':')[1]"
      ],
      "metadata": {
        "colab": {
          "base_uri": "https://localhost:8080/"
        },
        "id": "AuJH7SQMmllb",
        "outputId": "6aadcb5e-5cd9-4fe0-e7c8-18858ef1df8e"
      },
      "id": "AuJH7SQMmllb",
      "execution_count": 98,
      "outputs": [
        {
          "output_type": "stream",
          "name": "stdout",
          "text": [
            "Looking in indexes: https://pypi.org/simple, https://us-python.pkg.dev/colab-wheels/public/simple/\n",
            "Requirement already satisfied: nvsmi in /usr/local/lib/python3.10/dist-packages (0.4.2)\n"
          ]
        }
      ]
    },
    {
      "cell_type": "code",
      "execution_count": 57,
      "metadata": {
        "id": "xrzf3ha3Vp2H"
      },
      "outputs": [],
      "source": [
        "X=1\n",
        "import time\n",
        "timestr = time.strftime(\"%Y%m%d-%H%M%S\")\n",
        "from time import time\n"
      ],
      "id": "xrzf3ha3Vp2H"
    },
    {
      "cell_type": "code",
      "execution_count": null,
      "metadata": {
        "id": "VoGhBKOCsxec"
      },
      "outputs": [],
      "source": [
        "# import cupy as cp\n",
        "# del g\n",
        "# cp._default_memory_pool.free_all_blocks()\n",
        "# winlogs.drop(columns='Time')"
      ],
      "id": "VoGhBKOCsxec"
    },
    {
      "cell_type": "markdown",
      "source": [
        "## look at dataset (select non-sparse columns)"
      ],
      "metadata": {
        "id": "QAwlxmRDso3p"
      },
      "id": "QAwlxmRDso3p"
    },
    {
      "cell_type": "code",
      "source": [
        "winlogsA=pd.read_parquet('part.88.parquet')\n",
        "winlogsA"
      ],
      "metadata": {
        "colab": {
          "base_uri": "https://localhost:8080/",
          "height": 519
        },
        "id": "Mfs2wwMwoahF",
        "outputId": "dac5a4e6-abe9-4032-b919-f9d9a630c892"
      },
      "id": "Mfs2wwMwoahF",
      "execution_count": 138,
      "outputs": [
        {
          "output_type": "execute_result",
          "data": {
            "text/plain": [
              "                        UserName  EventID     LogHost    LogonID DomainName  \\\n",
              "__null_dask_index__                                                           \n",
              "0                    Comp079636$     4688  Comp079636      0x3e7  Domain001   \n",
              "1                    Comp798894$     4688  Comp798894      0x3e7  Domain001   \n",
              "2                    Comp798894$     4688  Comp798894      0x3e7  Domain001   \n",
              "3                    Comp918018$     4688  Comp918018      0x3e7  Domain001   \n",
              "4                    Comp459973$     4688  Comp459973      0x3e7  Domain001   \n",
              "...                          ...      ...         ...        ...        ...   \n",
              "4999995                  Scanner     4672  Comp803010  0x64b0826  Domain001   \n",
              "4999996                  Scanner     4624  Comp803010  0x64b0826  Domain001   \n",
              "4999997                  Scanner     4634  Comp803010  0x64b0826  Domain001   \n",
              "4999998                  Scanner     4672  Comp803010  0x64b0841  Domain001   \n",
              "4999999                  Scanner     4624  Comp803010  0x64b0841  Domain001   \n",
              "\n",
              "                    ParentProcessName ParentProcessID     ProcessName  \\\n",
              "__null_dask_index__                                                     \n",
              "0                             svchost           0x434     taskeng.exe   \n",
              "1                               csrss           0x1f8     conhost.exe   \n",
              "2                            services           0x2c0  Proc857443.exe   \n",
              "3                             svchost           0x360     dllhost.exe   \n",
              "4                             svchost           0x458     taskeng.exe   \n",
              "...                               ...             ...             ...   \n",
              "4999995                          None            None            None   \n",
              "4999996                          None            None            None   \n",
              "4999997                          None            None            None   \n",
              "4999998                          None            None            None   \n",
              "4999999                          None            None            None   \n",
              "\n",
              "                        Time ProcessID  ...      Source AuthenticationPackage  \\\n",
              "__null_dask_index__                     ...                                     \n",
              "0                    7603200    0x283c  ...        None                  None   \n",
              "1                    7603200    0x19e0  ...        None                  None   \n",
              "2                    7603200    0x1d08  ...        None                  None   \n",
              "3                    7603200    0x12b0  ...        None                  None   \n",
              "4                    7603200    0x5090  ...        None                  None   \n",
              "...                      ...       ...  ...         ...                   ...   \n",
              "4999995              7610591      None  ...        None                  None   \n",
              "4999996              7610591      None  ...  Comp073202                  NTLM   \n",
              "4999997              7610591      None  ...        None                  None   \n",
              "4999998              7610591      None  ...        None                  None   \n",
              "4999999              7610591      None  ...  Comp073202                  NTLM   \n",
              "\n",
              "                    LogonType  Destination SubjectUserName SubjectLogonID  \\\n",
              "__null_dask_index__                                                         \n",
              "0                         NaN         None            None           None   \n",
              "1                         NaN         None            None           None   \n",
              "2                         NaN         None            None           None   \n",
              "3                         NaN         None            None           None   \n",
              "4                         NaN         None            None           None   \n",
              "...                       ...          ...             ...            ...   \n",
              "4999995                   NaN         None            None           None   \n",
              "4999996                   3.0         None            None           None   \n",
              "4999997                   3.0         None            None           None   \n",
              "4999998                   NaN         None            None           None   \n",
              "4999999                   3.0         None            None           None   \n",
              "\n",
              "                    SubjectDomainName FailureReason Status ServiceName  \n",
              "__null_dask_index__                                                     \n",
              "0                                None          None   None        None  \n",
              "1                                None          None   None        None  \n",
              "2                                None          None   None        None  \n",
              "3                                None          None   None        None  \n",
              "4                                None          None   None        None  \n",
              "...                               ...           ...    ...         ...  \n",
              "4999995                          None          None   None        None  \n",
              "4999996                          None          None   None        None  \n",
              "4999997                          None          None   None        None  \n",
              "4999998                          None          None   None        None  \n",
              "4999999                          None          None   None        None  \n",
              "\n",
              "[5000000 rows x 21 columns]"
            ],
            "text/html": [
              "\n",
              "  <div id=\"df-d25cc354-d16b-4591-9aae-346cf7f9667b\">\n",
              "    <div class=\"colab-df-container\">\n",
              "      <div>\n",
              "<style scoped>\n",
              "    .dataframe tbody tr th:only-of-type {\n",
              "        vertical-align: middle;\n",
              "    }\n",
              "\n",
              "    .dataframe tbody tr th {\n",
              "        vertical-align: top;\n",
              "    }\n",
              "\n",
              "    .dataframe thead th {\n",
              "        text-align: right;\n",
              "    }\n",
              "</style>\n",
              "<table border=\"1\" class=\"dataframe\">\n",
              "  <thead>\n",
              "    <tr style=\"text-align: right;\">\n",
              "      <th></th>\n",
              "      <th>UserName</th>\n",
              "      <th>EventID</th>\n",
              "      <th>LogHost</th>\n",
              "      <th>LogonID</th>\n",
              "      <th>DomainName</th>\n",
              "      <th>ParentProcessName</th>\n",
              "      <th>ParentProcessID</th>\n",
              "      <th>ProcessName</th>\n",
              "      <th>Time</th>\n",
              "      <th>ProcessID</th>\n",
              "      <th>...</th>\n",
              "      <th>Source</th>\n",
              "      <th>AuthenticationPackage</th>\n",
              "      <th>LogonType</th>\n",
              "      <th>Destination</th>\n",
              "      <th>SubjectUserName</th>\n",
              "      <th>SubjectLogonID</th>\n",
              "      <th>SubjectDomainName</th>\n",
              "      <th>FailureReason</th>\n",
              "      <th>Status</th>\n",
              "      <th>ServiceName</th>\n",
              "    </tr>\n",
              "    <tr>\n",
              "      <th>__null_dask_index__</th>\n",
              "      <th></th>\n",
              "      <th></th>\n",
              "      <th></th>\n",
              "      <th></th>\n",
              "      <th></th>\n",
              "      <th></th>\n",
              "      <th></th>\n",
              "      <th></th>\n",
              "      <th></th>\n",
              "      <th></th>\n",
              "      <th></th>\n",
              "      <th></th>\n",
              "      <th></th>\n",
              "      <th></th>\n",
              "      <th></th>\n",
              "      <th></th>\n",
              "      <th></th>\n",
              "      <th></th>\n",
              "      <th></th>\n",
              "      <th></th>\n",
              "      <th></th>\n",
              "    </tr>\n",
              "  </thead>\n",
              "  <tbody>\n",
              "    <tr>\n",
              "      <th>0</th>\n",
              "      <td>Comp079636$</td>\n",
              "      <td>4688</td>\n",
              "      <td>Comp079636</td>\n",
              "      <td>0x3e7</td>\n",
              "      <td>Domain001</td>\n",
              "      <td>svchost</td>\n",
              "      <td>0x434</td>\n",
              "      <td>taskeng.exe</td>\n",
              "      <td>7603200</td>\n",
              "      <td>0x283c</td>\n",
              "      <td>...</td>\n",
              "      <td>None</td>\n",
              "      <td>None</td>\n",
              "      <td>NaN</td>\n",
              "      <td>None</td>\n",
              "      <td>None</td>\n",
              "      <td>None</td>\n",
              "      <td>None</td>\n",
              "      <td>None</td>\n",
              "      <td>None</td>\n",
              "      <td>None</td>\n",
              "    </tr>\n",
              "    <tr>\n",
              "      <th>1</th>\n",
              "      <td>Comp798894$</td>\n",
              "      <td>4688</td>\n",
              "      <td>Comp798894</td>\n",
              "      <td>0x3e7</td>\n",
              "      <td>Domain001</td>\n",
              "      <td>csrss</td>\n",
              "      <td>0x1f8</td>\n",
              "      <td>conhost.exe</td>\n",
              "      <td>7603200</td>\n",
              "      <td>0x19e0</td>\n",
              "      <td>...</td>\n",
              "      <td>None</td>\n",
              "      <td>None</td>\n",
              "      <td>NaN</td>\n",
              "      <td>None</td>\n",
              "      <td>None</td>\n",
              "      <td>None</td>\n",
              "      <td>None</td>\n",
              "      <td>None</td>\n",
              "      <td>None</td>\n",
              "      <td>None</td>\n",
              "    </tr>\n",
              "    <tr>\n",
              "      <th>2</th>\n",
              "      <td>Comp798894$</td>\n",
              "      <td>4688</td>\n",
              "      <td>Comp798894</td>\n",
              "      <td>0x3e7</td>\n",
              "      <td>Domain001</td>\n",
              "      <td>services</td>\n",
              "      <td>0x2c0</td>\n",
              "      <td>Proc857443.exe</td>\n",
              "      <td>7603200</td>\n",
              "      <td>0x1d08</td>\n",
              "      <td>...</td>\n",
              "      <td>None</td>\n",
              "      <td>None</td>\n",
              "      <td>NaN</td>\n",
              "      <td>None</td>\n",
              "      <td>None</td>\n",
              "      <td>None</td>\n",
              "      <td>None</td>\n",
              "      <td>None</td>\n",
              "      <td>None</td>\n",
              "      <td>None</td>\n",
              "    </tr>\n",
              "    <tr>\n",
              "      <th>3</th>\n",
              "      <td>Comp918018$</td>\n",
              "      <td>4688</td>\n",
              "      <td>Comp918018</td>\n",
              "      <td>0x3e7</td>\n",
              "      <td>Domain001</td>\n",
              "      <td>svchost</td>\n",
              "      <td>0x360</td>\n",
              "      <td>dllhost.exe</td>\n",
              "      <td>7603200</td>\n",
              "      <td>0x12b0</td>\n",
              "      <td>...</td>\n",
              "      <td>None</td>\n",
              "      <td>None</td>\n",
              "      <td>NaN</td>\n",
              "      <td>None</td>\n",
              "      <td>None</td>\n",
              "      <td>None</td>\n",
              "      <td>None</td>\n",
              "      <td>None</td>\n",
              "      <td>None</td>\n",
              "      <td>None</td>\n",
              "    </tr>\n",
              "    <tr>\n",
              "      <th>4</th>\n",
              "      <td>Comp459973$</td>\n",
              "      <td>4688</td>\n",
              "      <td>Comp459973</td>\n",
              "      <td>0x3e7</td>\n",
              "      <td>Domain001</td>\n",
              "      <td>svchost</td>\n",
              "      <td>0x458</td>\n",
              "      <td>taskeng.exe</td>\n",
              "      <td>7603200</td>\n",
              "      <td>0x5090</td>\n",
              "      <td>...</td>\n",
              "      <td>None</td>\n",
              "      <td>None</td>\n",
              "      <td>NaN</td>\n",
              "      <td>None</td>\n",
              "      <td>None</td>\n",
              "      <td>None</td>\n",
              "      <td>None</td>\n",
              "      <td>None</td>\n",
              "      <td>None</td>\n",
              "      <td>None</td>\n",
              "    </tr>\n",
              "    <tr>\n",
              "      <th>...</th>\n",
              "      <td>...</td>\n",
              "      <td>...</td>\n",
              "      <td>...</td>\n",
              "      <td>...</td>\n",
              "      <td>...</td>\n",
              "      <td>...</td>\n",
              "      <td>...</td>\n",
              "      <td>...</td>\n",
              "      <td>...</td>\n",
              "      <td>...</td>\n",
              "      <td>...</td>\n",
              "      <td>...</td>\n",
              "      <td>...</td>\n",
              "      <td>...</td>\n",
              "      <td>...</td>\n",
              "      <td>...</td>\n",
              "      <td>...</td>\n",
              "      <td>...</td>\n",
              "      <td>...</td>\n",
              "      <td>...</td>\n",
              "      <td>...</td>\n",
              "    </tr>\n",
              "    <tr>\n",
              "      <th>4999995</th>\n",
              "      <td>Scanner</td>\n",
              "      <td>4672</td>\n",
              "      <td>Comp803010</td>\n",
              "      <td>0x64b0826</td>\n",
              "      <td>Domain001</td>\n",
              "      <td>None</td>\n",
              "      <td>None</td>\n",
              "      <td>None</td>\n",
              "      <td>7610591</td>\n",
              "      <td>None</td>\n",
              "      <td>...</td>\n",
              "      <td>None</td>\n",
              "      <td>None</td>\n",
              "      <td>NaN</td>\n",
              "      <td>None</td>\n",
              "      <td>None</td>\n",
              "      <td>None</td>\n",
              "      <td>None</td>\n",
              "      <td>None</td>\n",
              "      <td>None</td>\n",
              "      <td>None</td>\n",
              "    </tr>\n",
              "    <tr>\n",
              "      <th>4999996</th>\n",
              "      <td>Scanner</td>\n",
              "      <td>4624</td>\n",
              "      <td>Comp803010</td>\n",
              "      <td>0x64b0826</td>\n",
              "      <td>Domain001</td>\n",
              "      <td>None</td>\n",
              "      <td>None</td>\n",
              "      <td>None</td>\n",
              "      <td>7610591</td>\n",
              "      <td>None</td>\n",
              "      <td>...</td>\n",
              "      <td>Comp073202</td>\n",
              "      <td>NTLM</td>\n",
              "      <td>3.0</td>\n",
              "      <td>None</td>\n",
              "      <td>None</td>\n",
              "      <td>None</td>\n",
              "      <td>None</td>\n",
              "      <td>None</td>\n",
              "      <td>None</td>\n",
              "      <td>None</td>\n",
              "    </tr>\n",
              "    <tr>\n",
              "      <th>4999997</th>\n",
              "      <td>Scanner</td>\n",
              "      <td>4634</td>\n",
              "      <td>Comp803010</td>\n",
              "      <td>0x64b0826</td>\n",
              "      <td>Domain001</td>\n",
              "      <td>None</td>\n",
              "      <td>None</td>\n",
              "      <td>None</td>\n",
              "      <td>7610591</td>\n",
              "      <td>None</td>\n",
              "      <td>...</td>\n",
              "      <td>None</td>\n",
              "      <td>None</td>\n",
              "      <td>3.0</td>\n",
              "      <td>None</td>\n",
              "      <td>None</td>\n",
              "      <td>None</td>\n",
              "      <td>None</td>\n",
              "      <td>None</td>\n",
              "      <td>None</td>\n",
              "      <td>None</td>\n",
              "    </tr>\n",
              "    <tr>\n",
              "      <th>4999998</th>\n",
              "      <td>Scanner</td>\n",
              "      <td>4672</td>\n",
              "      <td>Comp803010</td>\n",
              "      <td>0x64b0841</td>\n",
              "      <td>Domain001</td>\n",
              "      <td>None</td>\n",
              "      <td>None</td>\n",
              "      <td>None</td>\n",
              "      <td>7610591</td>\n",
              "      <td>None</td>\n",
              "      <td>...</td>\n",
              "      <td>None</td>\n",
              "      <td>None</td>\n",
              "      <td>NaN</td>\n",
              "      <td>None</td>\n",
              "      <td>None</td>\n",
              "      <td>None</td>\n",
              "      <td>None</td>\n",
              "      <td>None</td>\n",
              "      <td>None</td>\n",
              "      <td>None</td>\n",
              "    </tr>\n",
              "    <tr>\n",
              "      <th>4999999</th>\n",
              "      <td>Scanner</td>\n",
              "      <td>4624</td>\n",
              "      <td>Comp803010</td>\n",
              "      <td>0x64b0841</td>\n",
              "      <td>Domain001</td>\n",
              "      <td>None</td>\n",
              "      <td>None</td>\n",
              "      <td>None</td>\n",
              "      <td>7610591</td>\n",
              "      <td>None</td>\n",
              "      <td>...</td>\n",
              "      <td>Comp073202</td>\n",
              "      <td>NTLM</td>\n",
              "      <td>3.0</td>\n",
              "      <td>None</td>\n",
              "      <td>None</td>\n",
              "      <td>None</td>\n",
              "      <td>None</td>\n",
              "      <td>None</td>\n",
              "      <td>None</td>\n",
              "      <td>None</td>\n",
              "    </tr>\n",
              "  </tbody>\n",
              "</table>\n",
              "<p>5000000 rows × 21 columns</p>\n",
              "</div>\n",
              "      <button class=\"colab-df-convert\" onclick=\"convertToInteractive('df-d25cc354-d16b-4591-9aae-346cf7f9667b')\"\n",
              "              title=\"Convert this dataframe to an interactive table.\"\n",
              "              style=\"display:none;\">\n",
              "        \n",
              "  <svg xmlns=\"http://www.w3.org/2000/svg\" height=\"24px\"viewBox=\"0 0 24 24\"\n",
              "       width=\"24px\">\n",
              "    <path d=\"M0 0h24v24H0V0z\" fill=\"none\"/>\n",
              "    <path d=\"M18.56 5.44l.94 2.06.94-2.06 2.06-.94-2.06-.94-.94-2.06-.94 2.06-2.06.94zm-11 1L8.5 8.5l.94-2.06 2.06-.94-2.06-.94L8.5 2.5l-.94 2.06-2.06.94zm10 10l.94 2.06.94-2.06 2.06-.94-2.06-.94-.94-2.06-.94 2.06-2.06.94z\"/><path d=\"M17.41 7.96l-1.37-1.37c-.4-.4-.92-.59-1.43-.59-.52 0-1.04.2-1.43.59L10.3 9.45l-7.72 7.72c-.78.78-.78 2.05 0 2.83L4 21.41c.39.39.9.59 1.41.59.51 0 1.02-.2 1.41-.59l7.78-7.78 2.81-2.81c.8-.78.8-2.07 0-2.86zM5.41 20L4 18.59l7.72-7.72 1.47 1.35L5.41 20z\"/>\n",
              "  </svg>\n",
              "      </button>\n",
              "      \n",
              "  <style>\n",
              "    .colab-df-container {\n",
              "      display:flex;\n",
              "      flex-wrap:wrap;\n",
              "      gap: 12px;\n",
              "    }\n",
              "\n",
              "    .colab-df-convert {\n",
              "      background-color: #E8F0FE;\n",
              "      border: none;\n",
              "      border-radius: 50%;\n",
              "      cursor: pointer;\n",
              "      display: none;\n",
              "      fill: #1967D2;\n",
              "      height: 32px;\n",
              "      padding: 0 0 0 0;\n",
              "      width: 32px;\n",
              "    }\n",
              "\n",
              "    .colab-df-convert:hover {\n",
              "      background-color: #E2EBFA;\n",
              "      box-shadow: 0px 1px 2px rgba(60, 64, 67, 0.3), 0px 1px 3px 1px rgba(60, 64, 67, 0.15);\n",
              "      fill: #174EA6;\n",
              "    }\n",
              "\n",
              "    [theme=dark] .colab-df-convert {\n",
              "      background-color: #3B4455;\n",
              "      fill: #D2E3FC;\n",
              "    }\n",
              "\n",
              "    [theme=dark] .colab-df-convert:hover {\n",
              "      background-color: #434B5C;\n",
              "      box-shadow: 0px 1px 3px 1px rgba(0, 0, 0, 0.15);\n",
              "      filter: drop-shadow(0px 1px 2px rgba(0, 0, 0, 0.3));\n",
              "      fill: #FFFFFF;\n",
              "    }\n",
              "  </style>\n",
              "\n",
              "      <script>\n",
              "        const buttonEl =\n",
              "          document.querySelector('#df-d25cc354-d16b-4591-9aae-346cf7f9667b button.colab-df-convert');\n",
              "        buttonEl.style.display =\n",
              "          google.colab.kernel.accessAllowed ? 'block' : 'none';\n",
              "\n",
              "        async function convertToInteractive(key) {\n",
              "          const element = document.querySelector('#df-d25cc354-d16b-4591-9aae-346cf7f9667b');\n",
              "          const dataTable =\n",
              "            await google.colab.kernel.invokeFunction('convertToInteractive',\n",
              "                                                     [key], {});\n",
              "          if (!dataTable) return;\n",
              "\n",
              "          const docLinkHtml = 'Like what you see? Visit the ' +\n",
              "            '<a target=\"_blank\" href=https://colab.research.google.com/notebooks/data_table.ipynb>data table notebook</a>'\n",
              "            + ' to learn more about interactive tables.';\n",
              "          element.innerHTML = '';\n",
              "          dataTable['output_type'] = 'display_data';\n",
              "          await google.colab.output.renderOutput(dataTable, element);\n",
              "          const docLink = document.createElement('div');\n",
              "          docLink.innerHTML = docLinkHtml;\n",
              "          element.appendChild(docLink);\n",
              "        }\n",
              "      </script>\n",
              "    </div>\n",
              "  </div>\n",
              "  "
            ]
          },
          "metadata": {},
          "execution_count": 138
        }
      ]
    },
    {
      "cell_type": "markdown",
      "source": [
        "## run loops per size and feature_engine, ie cu_cat and dirty_cat, remembering to set memoize=False"
      ],
      "metadata": {
        "id": "FQj6CzACstGG"
      },
      "id": "FQj6CzACstGG"
    },
    {
      "cell_type": "code",
      "execution_count": 139,
      "metadata": {
        "colab": {
          "base_uri": "https://localhost:8080/"
        },
        "id": "c00b3f92-9e41-4e0d-82e5-70cc4fce5e91",
        "outputId": "08a1e7ca-2fc7-490e-94f8-10639c7341eb"
      },
      "outputs": [
        {
          "output_type": "stream",
          "name": "stdout",
          "text": [
            "File ‘part.88.parquet’ already there; not retrieving.\n",
            "\n"
          ]
        },
        {
          "output_type": "stream",
          "name": "stderr",
          "text": [
            "WARNING:root:Target is not of type(DataFrame) and has no columns"
          ]
        },
        {
          "output_type": "stream",
          "name": "stdout",
          "text": [
            "Featurizing nodes with feature_engine=cu_cat\n",
            "Using GPU: cu_cat\n",
            "Featurizing nodes with feature_engine=dirty_cat\n",
            "Using GPU: dirty_cat\n"
          ]
        },
        {
          "output_type": "stream",
          "name": "stderr",
          "text": [
            "WARNING:root:Target is not of type(DataFrame) and has no columns"
          ]
        },
        {
          "output_type": "stream",
          "name": "stdout",
          "text": [
            "Featurizing nodes with feature_engine=cu_cat\n",
            "Using GPU: cu_cat\n",
            "Featurizing nodes with feature_engine=dirty_cat\n",
            "Using GPU: dirty_cat\n"
          ]
        },
        {
          "output_type": "stream",
          "name": "stderr",
          "text": [
            "WARNING:root:Target is not of type(DataFrame) and has no columns"
          ]
        },
        {
          "output_type": "stream",
          "name": "stdout",
          "text": [
            "Featurizing nodes with feature_engine=cu_cat\n",
            "Using GPU: cu_cat\n",
            "Featurizing nodes with feature_engine=dirty_cat\n",
            "Using GPU: dirty_cat\n"
          ]
        },
        {
          "output_type": "stream",
          "name": "stderr",
          "text": [
            "WARNING:root:Target is not of type(DataFrame) and has no columns"
          ]
        },
        {
          "output_type": "stream",
          "name": "stdout",
          "text": [
            "Featurizing nodes with feature_engine=cu_cat\n",
            "Using GPU: cu_cat\n",
            "Featurizing nodes with feature_engine=dirty_cat\n",
            "Using GPU: dirty_cat\n"
          ]
        }
      ],
      "source": [
        "# bench=pd.DataFrame(columns=['dataset','row','col','cc_time','dc_time'])\n",
        "!wget -nc https://www.dropbox.com/s/31dx1g6g59exoc3/part.88.parquet\n",
        "\n",
        "bench=pd.DataFrame(columns=['dataset','row','col','cc_time','dc_time'])\n",
        "\n",
        "winlogsA=pd.read_parquet('part.88.parquet')\n",
        "n=[5000,10000,50000,100000]#,500000,1000000]\n",
        "\n",
        "for ii,i in enumerate(n):\n",
        "\n",
        "      winlogs=winlogsA.sample(i,replace=False)#.iloc[:,:10]\n",
        "      # winlogs.drop(columns='Time',inplace=True)\n",
        "      # winlogs=winlogs[['EventID','LogHost','UserName','Time']] #,'DomainName']]\n",
        "\n",
        "      g = graphistry.nodes(cudf.from_pandas(winlogs))\n",
        "      t=time()\n",
        "      g.umap(engine='cuda',memoize=False)\n",
        "      t1=time()-t\n",
        "\n",
        "      g = graphistry.nodes(winlogs)\n",
        "      t=time()\n",
        "      g.featurize(feature_engine='dirty_cat',engine='cuml',memoize=False)\n",
        "      t2=time()-t\n",
        "\n",
        "      bench.loc[1+bench.shape[0]]=['winlogs',winlogs.shape[0],winlogs.shape[1],t1,t2]\n",
        "      bench.to_csv('winlogs_'+str(gpu.strip())+'_bench_'+timestr+'.txt',sep='\\t',mode='a')\n"
      ],
      "id": "c00b3f92-9e41-4e0d-82e5-70cc4fce5e91"
    },
    {
      "cell_type": "code",
      "source": [
        "i"
      ],
      "metadata": {
        "colab": {
          "base_uri": "https://localhost:8080/"
        },
        "id": "nnzfajjIyjt6",
        "outputId": "e5c8d5d2-c759-4987-8885-f9e3e13499f1"
      },
      "id": "nnzfajjIyjt6",
      "execution_count": 137,
      "outputs": [
        {
          "output_type": "execute_result",
          "data": {
            "text/plain": [
              "100000"
            ]
          },
          "metadata": {},
          "execution_count": 137
        }
      ]
    },
    {
      "cell_type": "markdown",
      "source": [
        "#plot results and export"
      ],
      "metadata": {
        "id": "jYsjKwZkskar"
      },
      "id": "jYsjKwZkskar"
    },
    {
      "cell_type": "code",
      "source": [
        "bench=bench.rename(columns={'cc_time':'cu_cat','dc_time':'dirty_cat'})\n",
        "dd=bench.melt(id_vars=['dataset','row','col'])\n",
        "dd=dd[dd.dataset.str.contains('winlogs')]\n",
        "\n",
        "dd.value=dd.value.astype('float')\n",
        "dd.row=dd.row.astype('int')\n",
        "dd=dd.rename(columns={'row':'row_count','value':'time (sec)'})\n",
        "dd\n",
        "\n",
        "dd=dd[dd.row_count<1000000]\n",
        "dd=dd[dd.row_count>2000]\n",
        "\n",
        "\n",
        "plt.figure(figsize=(8, 6))\n",
        "\n",
        "import seaborn as sns\n",
        "\n",
        "capsize = .1\n",
        "\n",
        "ax = sns.barplot(data=dd,  x=\"row_count\", y=\"time (sec)\", hue=\"variable\", capsize=capsize)\n",
        "\n",
        "patches = ax.patches\n",
        "lines_per_err = 1 if capsize is None else 3\n",
        "ax.bar_label(ax.containers[0], fmt='%.1f')\n",
        "ax.bar_label(ax.containers[1], fmt='%.1f')\n",
        "\n",
        "for i, line in enumerate(ax.get_lines()):\n",
        "    newcolor = patches[i // lines_per_err]#.get_facecolor()\n",
        "    line.set_color('black')\n",
        "\n",
        "fig = ax.get_figure()\n",
        "fig.savefig('winlogs_'+str(gpu.strip())+'_bench_'+timestr+'.png') \n"
      ],
      "metadata": {
        "colab": {
          "base_uri": "https://localhost:8080/",
          "height": 542
        },
        "id": "zpbJ4k2TkPhp",
        "outputId": "70ffa661-2bad-4f06-92f8-d4cc292fdd5a"
      },
      "id": "zpbJ4k2TkPhp",
      "execution_count": 140,
      "outputs": [
        {
          "output_type": "display_data",
          "data": {
            "text/plain": [
              "<Figure size 800x600 with 1 Axes>"
            ],
            "image/png": "[encoded data removed]"
          },
          "metadata": {}
        }
      ]
    },
    {
      "cell_type": "code",
      "execution_count": 141,
      "metadata": {
        "id": "7VzRYIAQ-nDD",
        "colab": {
          "base_uri": "https://localhost:8080/",
          "height": 17
        },
        "outputId": "466add17-833d-4ba5-de97-28e7b1590703"
      },
      "outputs": [
        {
          "output_type": "display_data",
          "data": {
            "text/plain": [
              "<IPython.core.display.Javascript object>"
            ],
            "application/javascript": [
              "\n",
              "    async function download(id, filename, size) {\n",
              "      if (!google.colab.kernel.accessAllowed) {\n",
              "        return;\n",
              "      }\n",
              "      const div = document.createElement('div');\n",
              "      const label = document.createElement('label');\n",
              "      label.textContent = `Downloading \"${filename}\": `;\n",
              "      div.appendChild(label);\n",
              "      const progress = document.createElement('progress');\n",
              "      progress.max = size;\n",
              "      div.appendChild(progress);\n",
              "      document.body.appendChild(div);\n",
              "\n",
              "      const buffers = [];\n",
              "      let downloaded = 0;\n",
              "\n",
              "      const channel = await google.colab.kernel.comms.open(id);\n",
              "      // Send a message to notify the kernel that we're ready.\n",
              "      channel.send({})\n",
              "\n",
              "      for await (const message of channel.messages) {\n",
              "        // Send a message to notify the kernel that we're ready.\n",
              "        channel.send({})\n",
              "        if (message.buffers) {\n",
              "          for (const buffer of message.buffers) {\n",
              "            buffers.push(buffer);\n",
              "            downloaded += buffer.byteLength;\n",
              "            progress.value = downloaded;\n",
              "          }\n",
              "        }\n",
              "      }\n",
              "      const blob = new Blob(buffers, {type: 'application/binary'});\n",
              "      const a = document.createElement('a');\n",
              "      a.href = window.URL.createObjectURL(blob);\n",
              "      a.download = filename;\n",
              "      div.appendChild(a);\n",
              "      a.click();\n",
              "      div.remove();\n",
              "    }\n",
              "  "
            ]
          },
          "metadata": {}
        },
        {
          "output_type": "display_data",
          "data": {
            "text/plain": [
              "<IPython.core.display.Javascript object>"
            ],
            "application/javascript": [
              "download(\"download_a01ba0c2-c00d-4c69-aa3e-3d716a69bc75\", \"winlogs_Tesla T4_bench_20230522-035835.txt\", 4245)"
            ]
          },
          "metadata": {}
        },
        {
          "output_type": "display_data",
          "data": {
            "text/plain": [
              "<IPython.core.display.Javascript object>"
            ],
            "application/javascript": [
              "\n",
              "    async function download(id, filename, size) {\n",
              "      if (!google.colab.kernel.accessAllowed) {\n",
              "        return;\n",
              "      }\n",
              "      const div = document.createElement('div');\n",
              "      const label = document.createElement('label');\n",
              "      label.textContent = `Downloading \"${filename}\": `;\n",
              "      div.appendChild(label);\n",
              "      const progress = document.createElement('progress');\n",
              "      progress.max = size;\n",
              "      div.appendChild(progress);\n",
              "      document.body.appendChild(div);\n",
              "\n",
              "      const buffers = [];\n",
              "      let downloaded = 0;\n",
              "\n",
              "      const channel = await google.colab.kernel.comms.open(id);\n",
              "      // Send a message to notify the kernel that we're ready.\n",
              "      channel.send({})\n",
              "\n",
              "      for await (const message of channel.messages) {\n",
              "        // Send a message to notify the kernel that we're ready.\n",
              "        channel.send({})\n",
              "        if (message.buffers) {\n",
              "          for (const buffer of message.buffers) {\n",
              "            buffers.push(buffer);\n",
              "            downloaded += buffer.byteLength;\n",
              "            progress.value = downloaded;\n",
              "          }\n",
              "        }\n",
              "      }\n",
              "      const blob = new Blob(buffers, {type: 'application/binary'});\n",
              "      const a = document.createElement('a');\n",
              "      a.href = window.URL.createObjectURL(blob);\n",
              "      a.download = filename;\n",
              "      div.appendChild(a);\n",
              "      a.click();\n",
              "      div.remove();\n",
              "    }\n",
              "  "
            ]
          },
          "metadata": {}
        },
        {
          "output_type": "display_data",
          "data": {
            "text/plain": [
              "<IPython.core.display.Javascript object>"
            ],
            "application/javascript": [
              "download(\"download_a28b0335-58b9-4358-a53b-f2cc50dcd7b9\", \"winlogs_Tesla T4_bench_20230522-035835.png\", 21107)"
            ]
          },
          "metadata": {}
        }
      ],
      "source": [
        "from google.colab import files\n",
        "files.download('winlogs_'+str(gpu.strip())+'_bench_'+timestr+'.txt')\n",
        "files.download('winlogs_'+str(gpu.strip())+'_bench_'+timestr+'.png')"
      ],
      "id": "7VzRYIAQ-nDD"
    },
    {
      "cell_type": "code",
      "source": [
        "bench"
      ],
      "metadata": {
        "colab": {
          "base_uri": "https://localhost:8080/",
          "height": 175
        },
        "id": "NCiq7x5Vscqn",
        "outputId": "86a9fd01-a1f8-401b-b956-e46aa30b3b12"
      },
      "id": "NCiq7x5Vscqn",
      "execution_count": 142,
      "outputs": [
        {
          "output_type": "execute_result",
          "data": {
            "text/plain": [
              "   dataset     row  col     cu_cat   dirty_cat\n",
              "1  winlogs    5000    4  10.711245   10.747021\n",
              "2  winlogs   10000    4  17.536561   23.531860\n",
              "3  winlogs   50000    4  50.776295  130.950002\n",
              "4  winlogs  100000    4  68.502170  257.844444"
            ],
            "text/html": [
              "\n",
              "  <div id=\"df-2e1c9a59-06a0-45ac-8c9b-b2b03a7525f4\">\n",
              "    <div class=\"colab-df-container\">\n",
              "      <div>\n",
              "<style scoped>\n",
              "    .dataframe tbody tr th:only-of-type {\n",
              "        vertical-align: middle;\n",
              "    }\n",
              "\n",
              "    .dataframe tbody tr th {\n",
              "        vertical-align: top;\n",
              "    }\n",
              "\n",
              "    .dataframe thead th {\n",
              "        text-align: right;\n",
              "    }\n",
              "</style>\n",
              "<table border=\"1\" class=\"dataframe\">\n",
              "  <thead>\n",
              "    <tr style=\"text-align: right;\">\n",
              "      <th></th>\n",
              "      <th>dataset</th>\n",
              "      <th>row</th>\n",
              "      <th>col</th>\n",
              "      <th>cu_cat</th>\n",
              "      <th>dirty_cat</th>\n",
              "    </tr>\n",
              "  </thead>\n",
              "  <tbody>\n",
              "    <tr>\n",
              "      <th>1</th>\n",
              "      <td>winlogs</td>\n",
              "      <td>5000</td>\n",
              "      <td>4</td>\n",
              "      <td>10.711245</td>\n",
              "      <td>10.747021</td>\n",
              "    </tr>\n",
              "    <tr>\n",
              "      <th>2</th>\n",
              "      <td>winlogs</td>\n",
              "      <td>10000</td>\n",
              "      <td>4</td>\n",
              "      <td>17.536561</td>\n",
              "      <td>23.531860</td>\n",
              "    </tr>\n",
              "    <tr>\n",
              "      <th>3</th>\n",
              "      <td>winlogs</td>\n",
              "      <td>50000</td>\n",
              "      <td>4</td>\n",
              "      <td>50.776295</td>\n",
              "      <td>130.950002</td>\n",
              "    </tr>\n",
              "    <tr>\n",
              "      <th>4</th>\n",
              "      <td>winlogs</td>\n",
              "      <td>100000</td>\n",
              "      <td>4</td>\n",
              "      <td>68.502170</td>\n",
              "      <td>257.844444</td>\n",
              "    </tr>\n",
              "  </tbody>\n",
              "</table>\n",
              "</div>\n",
              "      <button class=\"colab-df-convert\" onclick=\"convertToInteractive('df-2e1c9a59-06a0-45ac-8c9b-b2b03a7525f4')\"\n",
              "              title=\"Convert this dataframe to an interactive table.\"\n",
              "              style=\"display:none;\">\n",
              "        \n",
              "  <svg xmlns=\"http://www.w3.org/2000/svg\" height=\"24px\"viewBox=\"0 0 24 24\"\n",
              "       width=\"24px\">\n",
              "    <path d=\"M0 0h24v24H0V0z\" fill=\"none\"/>\n",
              "    <path d=\"M18.56 5.44l.94 2.06.94-2.06 2.06-.94-2.06-.94-.94-2.06-.94 2.06-2.06.94zm-11 1L8.5 8.5l.94-2.06 2.06-.94-2.06-.94L8.5 2.5l-.94 2.06-2.06.94zm10 10l.94 2.06.94-2.06 2.06-.94-2.06-.94-.94-2.06-.94 2.06-2.06.94z\"/><path d=\"M17.41 7.96l-1.37-1.37c-.4-.4-.92-.59-1.43-.59-.52 0-1.04.2-1.43.59L10.3 9.45l-7.72 7.72c-.78.78-.78 2.05 0 2.83L4 21.41c.39.39.9.59 1.41.59.51 0 1.02-.2 1.41-.59l7.78-7.78 2.81-2.81c.8-.78.8-2.07 0-2.86zM5.41 20L4 18.59l7.72-7.72 1.47 1.35L5.41 20z\"/>\n",
              "  </svg>\n",
              "      </button>\n",
              "      \n",
              "  <style>\n",
              "    .colab-df-container {\n",
              "      display:flex;\n",
              "      flex-wrap:wrap;\n",
              "      gap: 12px;\n",
              "    }\n",
              "\n",
              "    .colab-df-convert {\n",
              "      background-color: #E8F0FE;\n",
              "      border: none;\n",
              "      border-radius: 50%;\n",
              "      cursor: pointer;\n",
              "      display: none;\n",
              "      fill: #1967D2;\n",
              "      height: 32px;\n",
              "      padding: 0 0 0 0;\n",
              "      width: 32px;\n",
              "    }\n",
              "\n",
              "    .colab-df-convert:hover {\n",
              "      background-color: #E2EBFA;\n",
              "      box-shadow: 0px 1px 2px rgba(60, 64, 67, 0.3), 0px 1px 3px 1px rgba(60, 64, 67, 0.15);\n",
              "      fill: #174EA6;\n",
              "    }\n",
              "\n",
              "    [theme=dark] .colab-df-convert {\n",
              "      background-color: #3B4455;\n",
              "      fill: #D2E3FC;\n",
              "    }\n",
              "\n",
              "    [theme=dark] .colab-df-convert:hover {\n",
              "      background-color: #434B5C;\n",
              "      box-shadow: 0px 1px 3px 1px rgba(0, 0, 0, 0.15);\n",
              "      filter: drop-shadow(0px 1px 2px rgba(0, 0, 0, 0.3));\n",
              "      fill: #FFFFFF;\n",
              "    }\n",
              "  </style>\n",
              "\n",
              "      <script>\n",
              "        const buttonEl =\n",
              "          document.querySelector('#df-2e1c9a59-06a0-45ac-8c9b-b2b03a7525f4 button.colab-df-convert');\n",
              "        buttonEl.style.display =\n",
              "          google.colab.kernel.accessAllowed ? 'block' : 'none';\n",
              "\n",
              "        async function convertToInteractive(key) {\n",
              "          const element = document.querySelector('#df-2e1c9a59-06a0-45ac-8c9b-b2b03a7525f4');\n",
              "          const dataTable =\n",
              "            await google.colab.kernel.invokeFunction('convertToInteractive',\n",
              "                                                     [key], {});\n",
              "          if (!dataTable) return;\n",
              "\n",
              "          const docLinkHtml = 'Like what you see? Visit the ' +\n",
              "            '<a target=\"_blank\" href=https://colab.research.google.com/notebooks/data_table.ipynb>data table notebook</a>'\n",
              "            + ' to learn more about interactive tables.';\n",
              "          element.innerHTML = '';\n",
              "          dataTable['output_type'] = 'display_data';\n",
              "          await google.colab.output.renderOutput(dataTable, element);\n",
              "          const docLink = document.createElement('div');\n",
              "          docLink.innerHTML = docLinkHtml;\n",
              "          element.appendChild(docLink);\n",
              "        }\n",
              "      </script>\n",
              "    </div>\n",
              "  </div>\n",
              "  "
            ]
          },
          "metadata": {},
          "execution_count": 142
        }
      ]
    },
    {
      "cell_type": "code",
      "source": [],
      "metadata": {
        "id": "oa5z3d07xSrb"
      },
      "id": "oa5z3d07xSrb",
      "execution_count": null,
      "outputs": []
    }
  ],
  "metadata": {
    "accelerator": "GPU",
    "colab": {
      "collapsed_sections": [
        "poLK-68Y-lFB"
      ],
      "machine_shape": "hm",
      "provenance": [],
      "gpuType": "T4",
      "include_colab_link": true
    },
    "gpuClass": "premium",
    "kernelspec": {
      "display_name": "Python 3 (ipykernel)",
      "language": "python",
      "name": "python3"
    },
    "language_info": {
      "codemirror_mode": {
        "name": "ipython",
        "version": 3
      },
      "file_extension": ".py",
      "mimetype": "text/x-python",
      "name": "python",
      "nbconvert_exporter": "python",
      "pygments_lexer": "ipython3",
      "version": "3.8.13"
    }
  },
  "nbformat": 4,
  "nbformat_minor": 5
}
