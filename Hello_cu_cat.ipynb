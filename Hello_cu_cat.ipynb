{
  "cells": [
    {
      "cell_type": "markdown",
      "metadata": {
        "id": "view-in-github",
        "colab_type": "text"
      },
      "source": [
        "<a href=\"https://colab.research.google.com/github/dcolinmorgan/grph/blob/main/Hello_cu_cat.ipynb\" target=\"_parent\"><img src=\"https://colab.research.google.com/assets/colab-badge.svg\" alt=\"Open In Colab\"/></a>"
      ]
    },
    {
      "cell_type": "markdown",
      "source": [
        "# Hello cu_cat: Easy automatic feature engineering for messy dataframes on GPUs!\n",
        "Daniel, Tanmoy, Alex, Leo\n"
      ],
      "metadata": {
        "id": "4Y1PPZV1dpo9"
      },
      "id": "4Y1PPZV1dpo9"
    },
    {
      "cell_type": "markdown",
      "source": [
        "[  [LOOM](https://www.loom.com/share/10231b9dd07f4e979942fd10140e2dd0)  ] – press play and dive into analysis!\n",
        "\n",
        "The latest [PyGraphistry[AI]](https://github.com/graphistry/pygraphistry/) release GPU accelerates its automatic feature encoding pipeline, by introducing a new member to the open source GPU dataframe ecosystem: cu_cat.\n",
        "\n",
        "Cu_cat is our GPU-accelerated open source fork of the popular CPU Python  library dirty_cat.   Like dirty_cat, cu_cat makes it easy to convert messy dataframes filled with numbers, strings, and timestamps into numeric feature columns optimized for AI models. It adds interoperability for GPU dataframes and replaces key kernels and algorithms with faster and more scalable GPU variants. **Even on low-end GPUs, we are now able to tackle much larger datasets in the same amount of time – or for the first time! – with end-to-end pipelines. We typically save time with 3-5X speedups and will even see 10X+.**"
      ],
      "metadata": {
        "id": "LJZKwblsd-k1"
      },
      "id": "LJZKwblsd-k1"
    },
    {
      "cell_type": "code",
      "source": [],
      "metadata": {
        "id": "L-5wCniMd-J1"
      },
      "id": "L-5wCniMd-J1",
      "execution_count": null,
      "outputs": []
    },
    {
      "cell_type": "code",
      "execution_count": null,
      "metadata": {
        "colab": {
          "background_save": true,
          "base_uri": "https://localhost:8080/"
        },
        "id": "pZ2B17Vp2EY1",
        "outputId": "d53e24df-9e7b-450f-f093-42a1c645d16b"
      },
      "outputs": [
        {
          "output_type": "stream",
          "name": "stdout",
          "text": [
            "Looking in indexes: https://pypi.org/simple, https://us-python.pkg.dev/colab-wheels/public/simple/, https://pypi.nvidia.com\n",
            "Collecting cuml-cu11\n",
            "  Downloading https://pypi.nvidia.com/cuml-cu11/cuml_cu11-23.4.1-cp310-cp310-manylinux_2_17_x86_64.manylinux2014_x86_64.whl (1110.9 MB)\n",
            "\u001b[2K     \u001b[90m━━━━━━━━━━━━━━━━━━━━━━━━━━━━━━━━━━━━━━━━\u001b[0m \u001b[32m1.1/1.1 GB\u001b[0m \u001b[31m1.5 MB/s\u001b[0m eta \u001b[36m0:00:00\u001b[0m\n",
            "\u001b[?25hCollecting cudf-cu11\n",
            "  Downloading https://pypi.nvidia.com/cudf-cu11/cudf_cu11-23.4.1-cp310-cp310-manylinux_2_17_x86_64.manylinux2014_x86_64.whl (496.6 MB)\n",
            "\u001b[2K     \u001b[90m━━━━━━━━━━━━━━━━━━━━━━━━━━━━━━━━━━━━━━━\u001b[0m \u001b[32m496.6/496.6 MB\u001b[0m \u001b[31m2.5 MB/s\u001b[0m eta \u001b[36m0:00:00\u001b[0m\n",
            "\u001b[?25hCollecting cugraph-cu11\n",
            "  Downloading https://pypi.nvidia.com/cugraph-cu11/cugraph_cu11-23.4.1-cp310-cp310-manylinux_2_17_x86_64.manylinux2014_x86_64.whl (1142.4 MB)\n",
            "\u001b[2K     \u001b[91m━━━━━━━━━━━━━━━━━━━━━━━━━━━━━━━━━━━━━━━\u001b[0m\u001b[91m╸\u001b[0m \u001b[32m1.1/1.1 GB\u001b[0m \u001b[31m123.7 MB/s\u001b[0m eta \u001b[36m0:00:01\u001b[0m"
          ]
        }
      ],
      "source": [
        "# !pip install --extra-index-url=https://pypi.nvidia.com cuml-cu11==22.10.0 cudf-cu11==22.10.0 cugraph-cu11==22.10.0 pylibraft_cu11==22.10.0 raft_dask_cu11==22.10.0 dask_cudf_cu11==22.10.0 pylibcugraph_cu11==22.10.0 pylibraft_cu11==22.10.0\n",
        "!pip install --extra-index-url=https://pypi.nvidia.com cuml-cu11 cudf-cu11 cugraph-cu11 pylibraft_cu11 raft_dask_cu11 dask_cudf_cu11 pylibcugraph_cu11 pylibraft_cu11\n"
      ],
      "id": "pZ2B17Vp2EY1"
    },
    {
      "cell_type": "code",
      "execution_count": null,
      "metadata": {
        "colab": {
          "background_save": true
        },
        "id": "3EszGClHTCC_"
      },
      "outputs": [],
      "source": [
        "import cuml,cudf\n",
        "cuml.__version__"
      ],
      "id": "3EszGClHTCC_"
    },
    {
      "cell_type": "code",
      "execution_count": null,
      "metadata": {
        "colab": {
          "background_save": true
        },
        "id": "ftp6d6qUjyXe"
      },
      "outputs": [],
      "source": [
        "!pip install -U --force git+https://github.com/graphistry/pygraphistry.git@cudf\n",
        "!pip install -U git+https://github.com/graphistry/cu-cat.git@DT"
      ],
      "id": "ftp6d6qUjyXe"
    },
    {
      "cell_type": "code",
      "execution_count": null,
      "metadata": {
        "colab": {
          "background_save": true
        },
        "id": "0YAFn_UdzFVI"
      },
      "outputs": [],
      "source": [
        "!git+http://github.com/graphistry/cu-cat/tarball/datetimeegg=package-0.03.0"
      ],
      "id": "0YAFn_UdzFVI"
    },
    {
      "cell_type": "code",
      "execution_count": null,
      "metadata": {
        "colab": {
          "background_save": true
        },
        "id": "219c6516-e381-4d41-aebb-a17704888e5a"
      },
      "outputs": [],
      "source": [
        "import locale\n",
        "def getpreferredencoding(do_setlocale = True):\n",
        "    return \"UTF-8\"\n",
        "locale.getpreferredencoding = getpreferredencoding"
      ],
      "id": "219c6516-e381-4d41-aebb-a17704888e5a"
    },
    {
      "cell_type": "code",
      "execution_count": null,
      "metadata": {
        "colab": {
          "background_save": true
        },
        "id": "dg58Olv22IS1"
      },
      "outputs": [],
      "source": [],
      "id": "dg58Olv22IS1"
    },
    {
      "cell_type": "code",
      "execution_count": null,
      "metadata": {
        "colab": {
          "background_save": true
        },
        "id": "iGnFPi8x2IVW"
      },
      "outputs": [],
      "source": [
        "!echo \"0.01.0\" > VERSION.txt\n",
        "!cp VERSION.txt /root/.local/lib/python3.9/site-packages/cu_cat/\n",
        "# !cp VERSION.txt /usr/local/lib/python3.9/dist-packages/cu_cat/"
      ],
      "id": "iGnFPi8x2IVW"
    },
    {
      "cell_type": "code",
      "execution_count": null,
      "metadata": {
        "colab": {
          "background_save": true
        },
        "id": "oQJKUVqZ2IXr"
      },
      "outputs": [],
      "source": [
        "# from importlib import reload\n",
        "# reload(cu_cat)\n",
        "import cu_cat\n",
        "print(cu_cat.__file__)"
      ],
      "id": "oQJKUVqZ2IXr"
    },
    {
      "cell_type": "code",
      "execution_count": null,
      "metadata": {
        "colab": {
          "background_save": true
        },
        "id": "9da43cdd-e7c2-45e2-83cb-e7b6a3efe896"
      },
      "outputs": [],
      "source": [
        "import os\n",
        "from collections import Counter\n",
        "import cProfile\n",
        "import pandas as pd\n",
        "import numpy as np\n",
        "import matplotlib.pyplot as plt\n",
        "from pstats import Stats\n",
        "import cudf\n",
        "from time import time\n",
        "import warnings\n",
        "warnings.filterwarnings('ignore')\n",
        "\n",
        "pd.set_option('display.max_colwidth', 200)"
      ],
      "id": "9da43cdd-e7c2-45e2-83cb-e7b6a3efe896"
    },
    {
      "cell_type": "code",
      "execution_count": null,
      "metadata": {
        "colab": {
          "background_save": true
        },
        "id": "af47c1f6-003b-4585-9722-c13d9a93eb4b"
      },
      "outputs": [],
      "source": [
        "import graphistry\n",
        "\n",
        "graphistry.register(api=3,protocol=\"https\", server=\"hub.graphistry.com\", username='dcolinmorgan', password='fXjJnkE3Gik6BWy') ## key id, secret key\n",
        "\n",
        "# graphistry.register(api=3,protocol=\"https\", server=\"hub.graphistry.com\", username='dcolinmorgan', password='***') ## key id, secret key\n",
        "graphistry.__version__\n"
      ],
      "id": "af47c1f6-003b-4585-9722-c13d9a93eb4b"
    },
    {
      "cell_type": "code",
      "execution_count": null,
      "metadata": {
        "colab": {
          "background_save": true
        },
        "id": "JAGuCnaz2UmD"
      },
      "outputs": [],
      "source": [
        "!pip install dirty_cat"
      ],
      "id": "JAGuCnaz2UmD"
    },
    {
      "cell_type": "code",
      "execution_count": null,
      "metadata": {
        "colab": {
          "background_save": true
        },
        "id": "D5w567tn2Uok"
      },
      "outputs": [],
      "source": [
        "gpu = nvidia-smi --query-gpu=gpu_name --format=csv\n",
        "nvidia-smi -L"
      ],
      "id": "D5w567tn2Uok"
    },
    {
      "cell_type": "code",
      "execution_count": null,
      "metadata": {
        "colab": {
          "background_save": true
        },
        "id": "xrzf3ha3Vp2H"
      },
      "outputs": [],
      "source": [
        "X=1\n",
        "import time\n",
        "timestr = time.strftime(\"%Y%m%d-%H%M%S\")\n",
        "from time import time\n"
      ],
      "id": "xrzf3ha3Vp2H"
    },
    {
      "cell_type": "code",
      "execution_count": null,
      "metadata": {
        "colab": {
          "background_save": true
        },
        "id": "VoGhBKOCsxec"
      },
      "outputs": [],
      "source": [
        "# import cupy as cp\n",
        "# del g\n",
        "# cp._default_memory_pool.free_all_blocks()\n",
        "winlogs.drop(columns='Time')"
      ],
      "id": "VoGhBKOCsxec"
    },
    {
      "cell_type": "code",
      "execution_count": null,
      "metadata": {
        "colab": {
          "background_save": true
        },
        "id": "c00b3f92-9e41-4e0d-82e5-70cc4fce5e91"
      },
      "outputs": [],
      "source": [
        "# bench=pd.DataFrame(columns=['dataset','row','col','cc_time','dc_time'])\n",
        "!wget -nc https://www.dropbox.com/s/31dx1g6g59exoc3/part.88.parquet\n",
        "\n",
        "bench=pd.DataFrame(columns=['dataset','row','col','cc_time','dc_time'])\n",
        "\n",
        "winlogsA=pd.read_parquet('part.88.parquet')\n",
        "n=[5000,10000,50000,100000,500000,1000000]\n",
        "for p in np.arange(X):\n",
        "\n",
        "    for ii,i in enumerate(n):\n",
        "\n",
        "        winlogs=winlogsA.sample(i,replace=False).iloc[:,:6]\n",
        "        winlogs=winlogs[['EventID','LogHost','Time']]\n",
        "        # winlogs=winlogs.drop(columns='Time')\n",
        "        g = graphistry.nodes(cudf.from_pandas(winlogs))\n",
        "        t=time()\n",
        "        g.featurize(feature_engine='cu_cat',memoize=False)\n",
        "        t1=time()-t\n",
        "\n",
        "        g = graphistry.nodes(winlogs)\n",
        "        t=time()\n",
        "        g.featurize(feature_engine='dirty_cat',memoize=False)\n",
        "        t2=time()-t\n",
        "\n",
        "        bench.loc[1+bench.shape[0]]=['winlogs',winlogs.shape[0],winlogs.shape[1],t1,t2]\n",
        "        bench.to_csv('winlogs_'+str(gpu)+'_bench_'+timestr+'.txt',sep='\\t',mode='a')\n"
      ],
      "id": "c00b3f92-9e41-4e0d-82e5-70cc4fce5e91"
    },
    {
      "cell_type": "code",
      "execution_count": null,
      "metadata": {
        "id": "7VzRYIAQ-nDD"
      },
      "outputs": [],
      "source": [
        "from google.colab import files\n",
        "files.download(\"bench.txt\")"
      ],
      "id": "7VzRYIAQ-nDD"
    },
    {
      "cell_type": "code",
      "source": [],
      "metadata": {
        "id": "hZCuIzGJkFMf"
      },
      "id": "hZCuIzGJkFMf",
      "execution_count": null,
      "outputs": []
    }
  ],
  "metadata": {
    "accelerator": "GPU",
    "colab": {
      "collapsed_sections": [
        "poLK-68Y-lFB"
      ],
      "machine_shape": "hm",
      "toc_visible": true,
      "provenance": [],
      "gpuType": "T4",
      "include_colab_link": true
    },
    "gpuClass": "premium",
    "kernelspec": {
      "display_name": "Python 3 (ipykernel)",
      "language": "python",
      "name": "python3"
    },
    "language_info": {
      "codemirror_mode": {
        "name": "ipython",
        "version": 3
      },
      "file_extension": ".py",
      "mimetype": "text/x-python",
      "name": "python",
      "nbconvert_exporter": "python",
      "pygments_lexer": "ipython3",
      "version": "3.8.13"
    }
  },
  "nbformat": 4,
  "nbformat_minor": 5
}