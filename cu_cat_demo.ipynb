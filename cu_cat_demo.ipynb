{
  "cells": [
    {
      "cell_type": "markdown",
      "metadata": {
        "id": "view-in-github",
        "colab_type": "text"
      },
      "source": [
        "<a href=\"https://colab.research.google.com/github/dcolinmorgan/grph/blob/main/cu_cat_demo.ipynb\" target=\"_parent\"><img src=\"https://colab.research.google.com/assets/colab-badge.svg\" alt=\"Open In Colab\"/></a>"
      ]
    },
    {
      "cell_type": "markdown",
      "id": "4e5661c3-f960-479c-9c66-280b835318b5",
      "metadata": {
        "execution": {
          "iopub.execute_input": "2023-08-16T02:41:49.571858Z",
          "iopub.status.busy": "2023-08-16T02:41:49.571332Z",
          "iopub.status.idle": "2023-08-16T02:41:49.577971Z",
          "shell.execute_reply": "2023-08-16T02:41:49.576855Z",
          "shell.execute_reply.started": "2023-08-16T02:41:49.571809Z"
        },
        "tags": [],
        "id": "4e5661c3-f960-479c-9c66-280b835318b5"
      },
      "source": [
        "# Analyzing Network Identity Data and Red Team Response with Graphistry AutoML + UMAP\n",
        "We find a simple model that when clustered in a 2d plane via UMAP allows fast identification of anomalous computer to computer connections"
      ]
    },
    {
      "cell_type": "code",
      "source": [
        "!pip install --extra-index-url=https://pypi.nvidia.com cuml-cu11 cudf-cu11 cugraph-cu11 pylibraft_cu11 raft_dask_cu11 dask_cudf_cu11 pylibcugraph_cu11 pylibraft_cu11\n",
        "import cuml,cudf\n",
        "print(cuml.__version__)\n",
        "\n",
        "!pip install -U --force git+https://github.com/graphistry/pygraphistry.git@feat/gpu-featurization\n",
        "!pip install -U git+https://github.com/graphistry/cu-cat.git@DT4\n",
        "!pip install dirty_cat\n",
        "!pip install umap_learn==0.5.2\n",
        "# !pip install Biopython\n",
        "\n",
        "!nvidia-smi"
      ],
      "metadata": {
        "id": "fz2z6HTGQhlz"
      },
      "id": "fz2z6HTGQhlz",
      "execution_count": null,
      "outputs": []
    },
    {
      "cell_type": "code",
      "execution_count": null,
      "id": "515b40ff-6af7-4160-a0d0-4b6dddb88485",
      "metadata": {
        "execution": {
          "iopub.execute_input": "2023-08-15T07:28:57.236448Z",
          "iopub.status.busy": "2023-08-15T07:28:57.236252Z",
          "iopub.status.idle": "2023-08-15T07:29:03.766979Z",
          "shell.execute_reply": "2023-08-15T07:29:03.766052Z",
          "shell.execute_reply.started": "2023-08-15T07:28:57.236426Z"
        },
        "tags": [],
        "id": "515b40ff-6af7-4160-a0d0-4b6dddb88485"
      },
      "outputs": [],
      "source": [
        "import os\n",
        "from collections import Counter\n",
        "import cProfile\n",
        "import pandas as pd\n",
        "import numpy as np\n",
        "import matplotlib.pyplot as plt\n",
        "from pstats import Stats\n",
        "import cudf\n",
        "import warnings\n",
        "warnings.filterwarnings('ignore')\n",
        "\n",
        "pd.set_option('display.max_colwidth', 200)"
      ]
    },
    {
      "cell_type": "code",
      "execution_count": null,
      "id": "65e8dccf-5b22-469b-b1db-1dcccaea2517",
      "metadata": {
        "execution": {
          "iopub.execute_input": "2023-08-15T07:29:03.769487Z",
          "iopub.status.busy": "2023-08-15T07:29:03.768854Z",
          "iopub.status.idle": "2023-08-15T07:29:05.633820Z",
          "shell.execute_reply": "2023-08-15T07:29:05.632922Z",
          "shell.execute_reply.started": "2023-08-15T07:29:03.769457Z"
        },
        "tags": [],
        "id": "65e8dccf-5b22-469b-b1db-1dcccaea2517",
        "outputId": "76ade2ff-a546-46f7-a7fc-9cde0896c635"
      },
      "outputs": [
        {
          "data": {
            "text/plain": [
              "'0.29.1+37.g5677bea1'"
            ]
          },
          "execution_count": 2,
          "metadata": {},
          "output_type": "execute_result"
        }
      ],
      "source": [
        "import dirty_cat\n",
        "\n",
        "# !pip install -q -U --user git+https://github.com/graphistry/pygraphistry.git@feat/gpu-featurization\n",
        "\n",
        "os.chdir('pygraphistry')\n",
        "import graphistry\n",
        "os.chdir('..')\n",
        "\n",
        "graphistry.register(api=3,protocol=\"https\", server=\"hub.graphistry.com\", username='dcolinmorgan', password='***')\n",
        "graphistry.__version__"
      ]
    },
    {
      "cell_type": "code",
      "execution_count": null,
      "id": "acaa3721-5277-40f5-bddc-652d82d021d3",
      "metadata": {
        "execution": {
          "iopub.execute_input": "2023-08-15T07:29:05.635226Z",
          "iopub.status.busy": "2023-08-15T07:29:05.634916Z",
          "iopub.status.idle": "2023-08-15T07:29:05.638071Z",
          "shell.execute_reply": "2023-08-15T07:29:05.637514Z",
          "shell.execute_reply.started": "2023-08-15T07:29:05.635201Z"
        },
        "tags": [],
        "id": "acaa3721-5277-40f5-bddc-652d82d021d3"
      },
      "outputs": [],
      "source": [
        "# import logging\n",
        "# logging.basicConfig(level=logging.DEBUG)"
      ]
    },
    {
      "cell_type": "code",
      "execution_count": null,
      "id": "eced52e6-fb35-426d-89ac-487a3a0a0146",
      "metadata": {
        "tags": [],
        "id": "eced52e6-fb35-426d-89ac-487a3a0a0146"
      },
      "outputs": [],
      "source": [
        "# !pip install -U git+https://github.com/graphistry/cu-cat.git@DT4\n",
        "os.chdir('cu-cat')\n",
        "import cu_cat\n",
        "os.chdir('..')"
      ]
    },
    {
      "cell_type": "markdown",
      "id": "25af369a-7724-4249-9504-abeb88796241",
      "metadata": {
        "id": "25af369a-7724-4249-9504-abeb88796241"
      },
      "source": [
        "Alert on & visualize anomalous identity events\n",
        "\n",
        "Demo dataset: 1.6B windows events over 58 days => logins by 12K user over 14K systems adapt to any identity system with logins. Here we subsample down to a small set of 50k events to prove out the pipeline.\n",
        "\n",
        "=> Can we identify accounts & computers acting anomalously? Resources being oddly accessed?\n",
        "=> Can we spot the red team?\n",
        "=> Operations: Identity incident alerting + identity data investigations\n",
        "Community/contact for help handling bigger-than-memory & additional features\n",
        "\n",
        "Runs on both CPU + multi-GPU Tools: PyGraphistry[AI], DGL + PyTorch, and NVIDIA RAPIDS / umap-learn"
      ]
    },
    {
      "cell_type": "code",
      "execution_count": null,
      "id": "673a437f-c049-4651-beee-98664984afc3",
      "metadata": {
        "execution": {
          "iopub.execute_input": "2023-08-16T02:42:44.094579Z",
          "iopub.status.busy": "2023-08-16T02:42:44.094027Z",
          "iopub.status.idle": "2023-08-16T02:42:44.098501Z",
          "shell.execute_reply": "2023-08-16T02:42:44.097725Z",
          "shell.execute_reply.started": "2023-08-16T02:42:44.094530Z"
        },
        "tags": [],
        "id": "673a437f-c049-4651-beee-98664984afc3"
      },
      "outputs": [],
      "source": [
        "# data source citation\n",
        "# \"\"\"A. D. Kent, \"Cybersecurity Data Sources for Dynamic Network Research,\"\n",
        "# in Dynamic Networks in Cybersecurity, 2015.\n",
        "\n",
        "# @InProceedings{akent-2015-enterprise-data,\n",
        "#    author = {Alexander D. Kent},\n",
        "#    title = {{Cybersecurity Data Sources for Dynamic Network Research}},\n",
        "#    year = 2015,\n",
        "#    booktitle = {Dynamic Networks in Cybersecurity},\n",
        "#    month =        jun,\n",
        "#    publisher = {Imperial College Press}\n",
        "# }\"\"\""
      ]
    },
    {
      "cell_type": "markdown",
      "id": "b9fa2d4e-53e8-4eb5-bdbf-c5c1908159ad",
      "metadata": {
        "tags": [],
        "id": "b9fa2d4e-53e8-4eb5-bdbf-c5c1908159ad"
      },
      "source": [
        "### redteam"
      ]
    },
    {
      "cell_type": "code",
      "execution_count": null,
      "id": "3fe52faa-c35c-492e-98c1-7cfc46888a5f",
      "metadata": {
        "execution": {
          "iopub.execute_input": "2023-08-15T07:29:19.134428Z",
          "iopub.status.busy": "2023-08-15T07:29:19.134048Z",
          "iopub.status.idle": "2023-08-15T07:29:19.672262Z",
          "shell.execute_reply": "2023-08-15T07:29:19.671538Z",
          "shell.execute_reply.started": "2023-08-15T07:29:19.134387Z"
        },
        "tags": [],
        "id": "3fe52faa-c35c-492e-98c1-7cfc46888a5f",
        "outputId": "2db031d6-4a4a-441f-b83b-20ff11789926"
      },
      "outputs": [
        {
          "data": {
            "text/plain": [
              "749.0"
            ]
          },
          "execution_count": 5,
          "metadata": {},
          "output_type": "execute_result"
        }
      ],
      "source": [
        "df = pd.read_csv('https://gist.githubusercontent.com/silkspace/c7b50d0c03dc59f63c48d68d696958ff/raw/31d918267f86f8252d42d2e9597ba6fc03fcdac2/redteam_50k.csv', index_col=0)\n",
        "red_team = pd.read_csv('https://gist.githubusercontent.com/silkspace/5cf5a94b9ac4b4ffe38904f20d93edb1/raw/888dabd86f88ea747cf9ff5f6c44725e21536465/redteam_labels.csv', index_col=0)\n",
        "df['feats'] = df.src_computer + ' ' + df.dst_computer + ' ' + df.auth_type + ' ' + df.logontype\n",
        "df['feats2'] = df.src_computer + ' ' + df.dst_computer\n",
        "ndf = df.drop_duplicates(subset=['feats'])\n",
        "tdf = pd.concat([red_team.reset_index(), ndf.reset_index()])\n",
        "tdf['node'] = range(len(tdf))\n",
        "tdf.RED.sum()"
      ]
    },
    {
      "cell_type": "code",
      "execution_count": null,
      "id": "8ce7dfe5-43f2-456d-9ed6-ebe62bbfb3bd",
      "metadata": {
        "execution": {
          "iopub.execute_input": "2023-08-15T07:59:22.225877Z",
          "iopub.status.busy": "2023-08-15T07:59:22.225380Z",
          "iopub.status.idle": "2023-08-15T07:59:22.263558Z",
          "shell.execute_reply": "2023-08-15T07:59:22.262438Z",
          "shell.execute_reply.started": "2023-08-15T07:59:22.225835Z"
        },
        "tags": [],
        "id": "8ce7dfe5-43f2-456d-9ed6-ebe62bbfb3bd",
        "outputId": "c56c804b-b03c-4741-bf12-2aaebb61f782"
      },
      "outputs": [
        {
          "data": {
            "text/html": [
              "<div>\n",
              "<style scoped>\n",
              "    .dataframe tbody tr th:only-of-type {\n",
              "        vertical-align: middle;\n",
              "    }\n",
              "\n",
              "    .dataframe tbody tr th {\n",
              "        vertical-align: top;\n",
              "    }\n",
              "\n",
              "    .dataframe thead th {\n",
              "        text-align: right;\n",
              "    }\n",
              "</style>\n",
              "<table border=\"1\" class=\"dataframe\">\n",
              "  <thead>\n",
              "    <tr style=\"text-align: right;\">\n",
              "      <th></th>\n",
              "      <th>index</th>\n",
              "      <th>time</th>\n",
              "      <th>src_domain</th>\n",
              "      <th>src_computer</th>\n",
              "      <th>dst_computer</th>\n",
              "      <th>feats</th>\n",
              "      <th>RED</th>\n",
              "      <th>dst_domain</th>\n",
              "      <th>auth_type</th>\n",
              "      <th>logontype</th>\n",
              "      <th>authentication_orientation</th>\n",
              "      <th>success_or_failure</th>\n",
              "      <th>feats2</th>\n",
              "      <th>node</th>\n",
              "    </tr>\n",
              "  </thead>\n",
              "  <tbody>\n",
              "    <tr>\n",
              "      <th>0</th>\n",
              "      <td>0</td>\n",
              "      <td>150885</td>\n",
              "      <td>U620@DOM1</td>\n",
              "      <td>C17693</td>\n",
              "      <td>C1003</td>\n",
              "      <td>C17693 C1003</td>\n",
              "      <td>1.0</td>\n",
              "      <td>NaN</td>\n",
              "      <td>NaN</td>\n",
              "      <td>NaN</td>\n",
              "      <td>NaN</td>\n",
              "      <td>NaN</td>\n",
              "      <td>NaN</td>\n",
              "      <td>0</td>\n",
              "    </tr>\n",
              "    <tr>\n",
              "      <th>1</th>\n",
              "      <td>1</td>\n",
              "      <td>151036</td>\n",
              "      <td>U748@DOM1</td>\n",
              "      <td>C17693</td>\n",
              "      <td>C305</td>\n",
              "      <td>C17693 C305</td>\n",
              "      <td>1.0</td>\n",
              "      <td>NaN</td>\n",
              "      <td>NaN</td>\n",
              "      <td>NaN</td>\n",
              "      <td>NaN</td>\n",
              "      <td>NaN</td>\n",
              "      <td>NaN</td>\n",
              "      <td>1</td>\n",
              "    </tr>\n",
              "    <tr>\n",
              "      <th>2</th>\n",
              "      <td>2</td>\n",
              "      <td>151648</td>\n",
              "      <td>U748@DOM1</td>\n",
              "      <td>C17693</td>\n",
              "      <td>C728</td>\n",
              "      <td>C17693 C728</td>\n",
              "      <td>1.0</td>\n",
              "      <td>NaN</td>\n",
              "      <td>NaN</td>\n",
              "      <td>NaN</td>\n",
              "      <td>NaN</td>\n",
              "      <td>NaN</td>\n",
              "      <td>NaN</td>\n",
              "      <td>2</td>\n",
              "    </tr>\n",
              "    <tr>\n",
              "      <th>3</th>\n",
              "      <td>3</td>\n",
              "      <td>151993</td>\n",
              "      <td>U6115@DOM1</td>\n",
              "      <td>C17693</td>\n",
              "      <td>C1173</td>\n",
              "      <td>C17693 C1173</td>\n",
              "      <td>1.0</td>\n",
              "      <td>NaN</td>\n",
              "      <td>NaN</td>\n",
              "      <td>NaN</td>\n",
              "      <td>NaN</td>\n",
              "      <td>NaN</td>\n",
              "      <td>NaN</td>\n",
              "      <td>3</td>\n",
              "    </tr>\n",
              "    <tr>\n",
              "      <th>4</th>\n",
              "      <td>4</td>\n",
              "      <td>153792</td>\n",
              "      <td>U636@DOM1</td>\n",
              "      <td>C17693</td>\n",
              "      <td>C294</td>\n",
              "      <td>C17693 C294</td>\n",
              "      <td>1.0</td>\n",
              "      <td>NaN</td>\n",
              "      <td>NaN</td>\n",
              "      <td>NaN</td>\n",
              "      <td>NaN</td>\n",
              "      <td>NaN</td>\n",
              "      <td>NaN</td>\n",
              "      <td>4</td>\n",
              "    </tr>\n",
              "    <tr>\n",
              "      <th>...</th>\n",
              "      <td>...</td>\n",
              "      <td>...</td>\n",
              "      <td>...</td>\n",
              "      <td>...</td>\n",
              "      <td>...</td>\n",
              "      <td>...</td>\n",
              "      <td>...</td>\n",
              "      <td>...</td>\n",
              "      <td>...</td>\n",
              "      <td>...</td>\n",
              "      <td>...</td>\n",
              "      <td>...</td>\n",
              "      <td>...</td>\n",
              "      <td>...</td>\n",
              "    </tr>\n",
              "    <tr>\n",
              "      <th>19008</th>\n",
              "      <td>8463107</td>\n",
              "      <td>48263</td>\n",
              "      <td>C11843$@DOM1</td>\n",
              "      <td>C11843</td>\n",
              "      <td>C528</td>\n",
              "      <td>C11843 C528 Kerberos Network</td>\n",
              "      <td>0.0</td>\n",
              "      <td>C11843$@DOM1</td>\n",
              "      <td>Kerberos</td>\n",
              "      <td>Network</td>\n",
              "      <td>LogOn</td>\n",
              "      <td>Success</td>\n",
              "      <td>C11843 C528</td>\n",
              "      <td>19757</td>\n",
              "    </tr>\n",
              "    <tr>\n",
              "      <th>19009</th>\n",
              "      <td>14394630</td>\n",
              "      <td>77937</td>\n",
              "      <td>C8470$@DOM1</td>\n",
              "      <td>C8470</td>\n",
              "      <td>C528</td>\n",
              "      <td>C8470 C528 NTLM Network</td>\n",
              "      <td>0.0</td>\n",
              "      <td>C8470$@DOM1</td>\n",
              "      <td>NTLM</td>\n",
              "      <td>Network</td>\n",
              "      <td>LogOn</td>\n",
              "      <td>Success</td>\n",
              "      <td>C8470 C528</td>\n",
              "      <td>19758</td>\n",
              "    </tr>\n",
              "    <tr>\n",
              "      <th>19010</th>\n",
              "      <td>33398153</td>\n",
              "      <td>173300</td>\n",
              "      <td>C716$@DOM1</td>\n",
              "      <td>C716</td>\n",
              "      <td>C716</td>\n",
              "      <td>C716 C716 ? ?</td>\n",
              "      <td>0.0</td>\n",
              "      <td>C716$@DOM1</td>\n",
              "      <td>?</td>\n",
              "      <td>?</td>\n",
              "      <td>AuthMap</td>\n",
              "      <td>Success</td>\n",
              "      <td>C716 C716</td>\n",
              "      <td>19759</td>\n",
              "    </tr>\n",
              "    <tr>\n",
              "      <th>19011</th>\n",
              "      <td>18353851</td>\n",
              "      <td>102472</td>\n",
              "      <td>U7365@DOM1</td>\n",
              "      <td>C16126</td>\n",
              "      <td>C586</td>\n",
              "      <td>C16126 C586 ? ?</td>\n",
              "      <td>0.0</td>\n",
              "      <td>U7365@DOM1</td>\n",
              "      <td>?</td>\n",
              "      <td>?</td>\n",
              "      <td>TGS</td>\n",
              "      <td>Success</td>\n",
              "      <td>C16126 C586</td>\n",
              "      <td>19760</td>\n",
              "    </tr>\n",
              "    <tr>\n",
              "      <th>19012</th>\n",
              "      <td>27372458</td>\n",
              "      <td>141156</td>\n",
              "      <td>NETWORK SERVICE@C6215</td>\n",
              "      <td>C6215</td>\n",
              "      <td>C6215</td>\n",
              "      <td>C6215 C6215 Negotiate Service</td>\n",
              "      <td>0.0</td>\n",
              "      <td>NETWORK SERVICE@C6215</td>\n",
              "      <td>Negotiate</td>\n",
              "      <td>Service</td>\n",
              "      <td>LogOn</td>\n",
              "      <td>Success</td>\n",
              "      <td>C6215 C6215</td>\n",
              "      <td>19761</td>\n",
              "    </tr>\n",
              "  </tbody>\n",
              "</table>\n",
              "<p>19762 rows × 14 columns</p>\n",
              "</div>"
            ],
            "text/plain": [
              "          index    time             src_domain src_computer dst_computer  \\\n",
              "0             0  150885              U620@DOM1       C17693        C1003   \n",
              "1             1  151036              U748@DOM1       C17693         C305   \n",
              "2             2  151648              U748@DOM1       C17693         C728   \n",
              "3             3  151993             U6115@DOM1       C17693        C1173   \n",
              "4             4  153792              U636@DOM1       C17693         C294   \n",
              "...         ...     ...                    ...          ...          ...   \n",
              "19008   8463107   48263           C11843$@DOM1       C11843         C528   \n",
              "19009  14394630   77937            C8470$@DOM1        C8470         C528   \n",
              "19010  33398153  173300             C716$@DOM1         C716         C716   \n",
              "19011  18353851  102472             U7365@DOM1       C16126         C586   \n",
              "19012  27372458  141156  NETWORK SERVICE@C6215        C6215        C6215   \n",
              "\n",
              "                               feats  RED             dst_domain  auth_type  \\\n",
              "0                       C17693 C1003  1.0                    NaN        NaN   \n",
              "1                        C17693 C305  1.0                    NaN        NaN   \n",
              "2                        C17693 C728  1.0                    NaN        NaN   \n",
              "3                       C17693 C1173  1.0                    NaN        NaN   \n",
              "4                        C17693 C294  1.0                    NaN        NaN   \n",
              "...                              ...  ...                    ...        ...   \n",
              "19008   C11843 C528 Kerberos Network  0.0           C11843$@DOM1   Kerberos   \n",
              "19009        C8470 C528 NTLM Network  0.0            C8470$@DOM1       NTLM   \n",
              "19010                  C716 C716 ? ?  0.0             C716$@DOM1          ?   \n",
              "19011                C16126 C586 ? ?  0.0             U7365@DOM1          ?   \n",
              "19012  C6215 C6215 Negotiate Service  0.0  NETWORK SERVICE@C6215  Negotiate   \n",
              "\n",
              "      logontype authentication_orientation success_or_failure       feats2  \\\n",
              "0           NaN                        NaN                NaN          NaN   \n",
              "1           NaN                        NaN                NaN          NaN   \n",
              "2           NaN                        NaN                NaN          NaN   \n",
              "3           NaN                        NaN                NaN          NaN   \n",
              "4           NaN                        NaN                NaN          NaN   \n",
              "...         ...                        ...                ...          ...   \n",
              "19008   Network                      LogOn            Success  C11843 C528   \n",
              "19009   Network                      LogOn            Success   C8470 C528   \n",
              "19010         ?                    AuthMap            Success    C716 C716   \n",
              "19011         ?                        TGS            Success  C16126 C586   \n",
              "19012   Service                      LogOn            Success  C6215 C6215   \n",
              "\n",
              "        node  \n",
              "0          0  \n",
              "1          1  \n",
              "2          2  \n",
              "3          3  \n",
              "4          4  \n",
              "...      ...  \n",
              "19008  19757  \n",
              "19009  19758  \n",
              "19010  19759  \n",
              "19011  19760  \n",
              "19012  19761  \n",
              "\n",
              "[19762 rows x 14 columns]"
            ]
          },
          "execution_count": 20,
          "metadata": {},
          "output_type": "execute_result"
        }
      ],
      "source": [
        "tdf"
      ]
    },
    {
      "cell_type": "markdown",
      "id": "179e7003-0b4a-4345-ad18-6c8c7d398a43",
      "metadata": {
        "id": "179e7003-0b4a-4345-ad18-6c8c7d398a43"
      },
      "source": [
        "## A model of Computer-Computer features only\n",
        "We run 3 versions using different engine combinations --\n",
        "\n",
        "1. first full gpu pipeline via 'engine=cuda' employing 'cu_cat' for freaturization of the raw dataframe + 'cuml' for umap\n",
        "2. then 'dirty_cat' on cpu encoding and standard umap_learn umapping\n",
        "3. then cu_cat gpu encoding back to cpu umapping (for the masochists of the world)\n",
        "\n",
        "You will note full gpu (1) is understandably the fastest, followed by partial gpu (3) and finally full cup (2)"
      ]
    },
    {
      "cell_type": "code",
      "execution_count": null,
      "id": "28017a3b-6a39-4c33-8d6d-78cecb73ecf2",
      "metadata": {
        "execution": {
          "iopub.execute_input": "2023-08-15T07:29:19.673382Z",
          "iopub.status.busy": "2023-08-15T07:29:19.673100Z",
          "iopub.status.idle": "2023-08-15T07:30:07.621102Z",
          "shell.execute_reply": "2023-08-15T07:30:07.620406Z",
          "shell.execute_reply.started": "2023-08-15T07:29:19.673361Z"
        },
        "tags": [],
        "id": "28017a3b-6a39-4c33-8d6d-78cecb73ecf2",
        "outputId": "98966939-c1ec-4a8f-8ebb-142cd7cad354"
      },
      "outputs": [
        {
          "name": "stderr",
          "output_type": "stream",
          "text": [
            "* Ignoring target column of shape (19762, 0) in UMAP fit, as it is not one dimensional"
          ]
        },
        {
          "name": "stdout",
          "output_type": "stream",
          "text": [
            "         1671337 function calls (1647190 primitive calls) in 47.672 seconds\n",
            "\n",
            "   Ordered by: internal time\n",
            "   List reduced from 5214 to 20 due to restriction <20>\n",
            "\n",
            "   ncalls  tottime  percall  cumtime  percall filename:lineno(function)\n",
            "        8   20.192    2.524   25.020    3.127 /home/graphistry/notebooks/daniel/cu-cat/cu_cat/_gap_encoder.py:1286(_multiplicative_update_h_smallfast)\n",
            "        3   12.285    4.095   12.286    4.095 /opt/conda/envs/rapids/lib/python3.8/site-packages/numpy/lib/arraysetops.py:523(in1d)\n",
            "       20    4.296    0.215    4.298    0.215 /opt/conda/envs/rapids/lib/python3.8/site-packages/cudf/core/column/column.py:301(from_arrow)\n",
            "     4463    3.621    0.001    3.655    0.001 /opt/conda/envs/rapids/lib/python3.8/site-packages/rmm/rmm.py:216(rmm_cupy_allocator)\n",
            "        7    1.286    0.184    1.529    0.218 /home/graphistry/notebooks/daniel/cu-cat/cu_cat/_gap_encoder.py:275(_get_H)\n",
            "      216    0.625    0.003    0.626    0.003 {built-in method cupy._core._routines_linalg.matmul}\n",
            "      397    0.617    0.002    0.617    0.002 {built-in method builtins.compile}\n",
            "       10    0.592    0.059    0.592    0.059 {built-in method posix.read}\n",
            "        5    0.479    0.096    0.578    0.116 /home/graphistry/notebooks/daniel/cu-cat/cu_cat/_gap_encoder.py:1142(_multiplicative_update_w_smallfast)\n",
            "       10    0.409    0.041    0.409    0.041 {built-in method _posixsubprocess.fork_exec}\n",
            "      213    0.407    0.002    0.669    0.003 /opt/conda/envs/rapids/lib/python3.8/site-packages/cupyx/scipy/sparse/_csr.py:148(__mul__)\n",
            "      729    0.280    0.000    0.310    0.000 {method 'update' of 'dict' objects}\n",
            "11082/1214    0.230    0.000    5.146    0.004 /opt/conda/envs/rapids/lib/python3.8/contextlib.py:72(inner)\n",
            "      219    0.229    0.001    0.229    0.001 {built-in method cupy.cuda.device.get_cusparse_handle}\n",
            "     1479    0.176    0.000    0.180    0.000 /opt/conda/envs/rapids/lib/python3.8/site-packages/cudf/core/column/numerical.py:81(__init__)\n",
            "    91521    0.121    0.000    0.142    0.000 {built-in method cupy._core.core.array}\n",
            "     19/5    0.111    0.006   41.924    8.385 /opt/conda/envs/rapids/lib/python3.8/site-packages/cuml/internals/api_decorators.py:140(wrapper)\n",
            "        1    0.103    0.103    0.103    0.103 {built-in method cupy_backends.cuda.libs.nvrtc.compileProgram}\n",
            "      463    0.092    0.000    0.092    0.000 {method 'read' of '_io.BufferedReader' objects}\n",
            "       58    0.061    0.001    0.061    0.001 {method 'load' of 'cupy.cuda.function.Module' objects}\n",
            "\n",
            "\n",
            "CPU times: user 37.6 s, sys: 9.82 s, total: 47.4 s\n",
            "Wall time: 47.9 s\n"
          ]
        }
      ],
      "source": [
        "%%time\n",
        "# process = True  # set to false after it's run for ease of speed\n",
        "pr = cProfile.Profile()\n",
        "pr.enable()\n",
        "\n",
        "g = graphistry.nodes(tdf, 'node')\n",
        "\n",
        "g5a = g.umap(X=['feats'],\n",
        "            min_words=1000000, # force high so that we don't use Sentence Transformers\n",
        "            cardinality_threshold=4, # set low so we force topic model\n",
        "            n_topics=32, # number of topics\n",
        "            use_scaler=None,\n",
        "            # feature_engine='cu_cat',\n",
        "            memoize=False,\n",
        "             # remove_node_column=False,\n",
        "            engine='cuda',\n",
        "            use_scaler_target=None\n",
        "           )\n",
        "\n",
        "pr.disable()\n",
        "stats = Stats(pr)\n",
        "stats.sort_stats('tottime').print_stats(20)\n",
        "\n",
        "with open('redteam_cuda.txt', 'w') as stream:\n",
        "    stats = Stats(pr,stream=stream)\n",
        "    stats.sort_stats('tottime').print_stats(20)"
      ]
    },
    {
      "cell_type": "code",
      "execution_count": null,
      "id": "df94cfc1-ef21-4ff8-b81f-8f5b08968129",
      "metadata": {
        "execution": {
          "iopub.execute_input": "2023-08-15T07:49:39.233036Z",
          "iopub.status.busy": "2023-08-15T07:49:39.232528Z",
          "iopub.status.idle": "2023-08-15T07:50:50.880282Z",
          "shell.execute_reply": "2023-08-15T07:50:50.879518Z",
          "shell.execute_reply.started": "2023-08-15T07:49:39.232993Z"
        },
        "tags": [],
        "id": "df94cfc1-ef21-4ff8-b81f-8f5b08968129",
        "outputId": "672c7812-92e4-4878-91a3-9019928930c0"
      },
      "outputs": [
        {
          "name": "stdout",
          "output_type": "stream",
          "text": [
            "         24274251 function calls (24273175 primitive calls) in 71.590 seconds\n",
            "\n",
            "   Ordered by: internal time\n",
            "   List reduced from 1518 to 20 due to restriction <20>\n",
            "\n",
            "   ncalls  tottime  percall  cumtime  percall filename:lineno(function)\n",
            "     1054   15.874    0.015   43.214    0.041 /opt/conda/envs/rapids/lib/python3.8/site-packages/dirty_cat/gap_encoder.py:815(_multiplicative_update_h)\n",
            "        3   13.987    4.662   13.987    4.662 /opt/conda/envs/rapids/lib/python3.8/site-packages/numpy/lib/arraysetops.py:523(in1d)\n",
            "3280085/3279849   10.899    0.000   25.132    0.000 {built-in method numpy.core._multiarray_umath.implement_array_function}\n",
            "      775    4.272    0.006   10.009    0.013 /opt/conda/envs/rapids/lib/python3.8/site-packages/dirty_cat/gap_encoder.py:791(_multiplicative_update_w)\n",
            "   273080    3.324    0.000    6.809    0.000 /opt/conda/envs/rapids/lib/python3.8/site-packages/scipy/sparse/_sputils.py:147(get_index_dtype)\n",
            "   134949    2.750    0.000    8.322    0.000 /opt/conda/envs/rapids/lib/python3.8/site-packages/scipy/sparse/_compressed.py:136(check_format)\n",
            "  2730687    2.496    0.000   13.138    0.000 <__array_function__ internals>:177(dot)\n",
            "   546167    1.385    0.000    1.385    0.000 /opt/conda/envs/rapids/lib/python3.8/site-packages/numpy/core/getlimits.py:648(__init__)\n",
            "134949/134908    1.359    0.000   16.935    0.000 /opt/conda/envs/rapids/lib/python3.8/site-packages/scipy/sparse/_compressed.py:26(__init__)\n",
            "   134949    1.012    0.000    2.182    0.000 /opt/conda/envs/rapids/lib/python3.8/site-packages/scipy/sparse/_compressed.py:1168(prune)\n",
            "    32550    0.769    0.000    0.769    0.000 {built-in method scipy.sparse._sparsetools.coo_matvec}\n",
            "   136499    0.717    0.000    1.404    0.000 /opt/conda/envs/rapids/lib/python3.8/site-packages/scipy/sparse/_sputils.py:295(check_shape)\n",
            "   133914    0.711    0.000   16.969    0.000 /opt/conda/envs/rapids/lib/python3.8/site-packages/scipy/sparse/_csr.py:236(__iter__)\n",
            "        7    0.710    0.101    2.371    0.339 /opt/conda/envs/rapids/lib/python3.8/site-packages/sklearn/feature_extraction/text.py:1257(_count_vocab)\n",
            "      775    0.707    0.001    0.962    0.001 /opt/conda/envs/rapids/lib/python3.8/site-packages/dirty_cat/gap_encoder.py:781(_rescale_W)\n",
            "   409430    0.633    0.000    0.633    0.000 {built-in method numpy.array}\n",
            "  2730687    0.618    0.000    0.618    0.000 /opt/conda/envs/rapids/lib/python3.8/site-packages/numpy/core/multiarray.py:736(dot)\n",
            "    63053    0.584    0.000    0.841    0.000 /opt/conda/envs/rapids/lib/python3.8/site-packages/sklearn/feature_extraction/text.py:275(_char_ngrams)\n",
            "   136458    0.542    0.000    0.553    0.000 /opt/conda/envs/rapids/lib/python3.8/site-packages/scipy/sparse/_sputils.py:238(isshape)\n",
            "   540126    0.529    0.000    1.511    0.000 <__array_function__ internals>:177(can_cast)\n",
            "\n",
            "\n",
            "CPU times: user 3min 12s, sys: 3min 15s, total: 6min 27s\n",
            "Wall time: 1min 11s\n"
          ]
        }
      ],
      "source": [
        "%%time\n",
        "# process = True  # set to false after it's run for ease of speed\n",
        "pr = cProfile.Profile()\n",
        "pr.enable()\n",
        "\n",
        "g = graphistry.nodes((tdf), 'node')\n",
        "# t=time()\n",
        "g5b = g.featurize(X=['feats'],\n",
        "           #  min_words=1000000, # force high so that we don't use Sentence Transformers\n",
        "           #  cardinality_threshold=4, # set low so we force topic model\n",
        "           #  n_topics=32, # number of topics\n",
        "           #  use_scaler=None,\n",
        "            feature_engine='dirty_cat')#,\n",
        "           #  memoize=False,\n",
        "           #   # remove_node_column=False,\n",
        "            # engine='umap_learn',\n",
        "           #  use_scaler_target=None\n",
        "           # )\n",
        "\n",
        "# pr.disable()\n",
        "# stats = Stats(pr)\n",
        "# stats.sort_stats('tottime').print_stats(20)\n",
        "\n",
        "# j=time()-t\n",
        "# print(\"umap: \\n\"+str(j))\n",
        "\n",
        "with open('redteam_cpu.txt', 'w') as stream:\n",
        "    stats = Stats(pr,stream=stream)\n",
        "    stats.sort_stats('tottime').print_stats(20)"
      ]
    },
    {
      "cell_type": "code",
      "execution_count": null,
      "id": "343d14cc-e1e4-4f6c-aa0d-ff4e6f0dcefa",
      "metadata": {
        "execution": {
          "iopub.execute_input": "2023-08-15T07:38:09.168617Z",
          "iopub.status.busy": "2023-08-15T07:38:09.168306Z",
          "iopub.status.idle": "2023-08-15T07:39:01.522913Z",
          "shell.execute_reply": "2023-08-15T07:39:01.522154Z",
          "shell.execute_reply.started": "2023-08-15T07:38:09.168593Z"
        },
        "tags": [],
        "id": "343d14cc-e1e4-4f6c-aa0d-ff4e6f0dcefa",
        "outputId": "cb720b1b-c276-48cf-d147-1f7cb566be8c"
      },
      "outputs": [
        {
          "name": "stderr",
          "output_type": "stream",
          "text": [
            "* Ignoring target column of shape (19762, 0) in UMAP fit, as it is not one dimensional"
          ]
        },
        {
          "name": "stdout",
          "output_type": "stream",
          "text": [
            "         5788799 function calls (5451682 primitive calls) in 52.187 seconds\n",
            "\n",
            "   Ordered by: internal time\n",
            "   List reduced from 5229 to 20 due to restriction <20>\n",
            "\n",
            "   ncalls  tottime  percall  cumtime  percall filename:lineno(function)\n",
            "        8   19.784    2.473   23.914    2.989 /home/graphistry/notebooks/daniel/cu-cat/cu_cat/_gap_encoder.py:1286(_multiplicative_update_h_smallfast)\n",
            "        3   12.768    4.256   12.768    4.256 /opt/conda/envs/rapids/lib/python3.8/site-packages/numpy/lib/arraysetops.py:523(in1d)\n",
            "      200    5.370    0.027    5.370    0.027 /opt/conda/envs/rapids/lib/python3.8/site-packages/umap/layouts.py:61(_optimize_layout_euclidean_single_epoch)\n",
            "     4391    3.597    0.001    3.630    0.001 /opt/conda/envs/rapids/lib/python3.8/site-packages/rmm/rmm.py:216(rmm_cupy_allocator)\n",
            "        7    1.299    0.186    1.544    0.221 /home/graphistry/notebooks/daniel/cu-cat/cu_cat/_gap_encoder.py:275(_get_H)\n",
            "      728    0.775    0.001    1.336    0.002 /opt/conda/envs/rapids/lib/python3.8/site-packages/scipy/sparse/linalg/_eigen/arpack/arpack.py:535(iterate)\n",
            "     1404    0.738    0.001    0.768    0.001 {method 'update' of 'dict' objects}\n",
            "       10    0.736    0.074    0.736    0.074 {built-in method posix.read}\n",
            "     2481    0.599    0.000    0.636    0.000 /opt/conda/envs/rapids/lib/python3.8/site-packages/llvmlite/binding/ffi.py:149(__call__)\n",
            "        1    0.584    0.584    0.584    0.584 /opt/conda/envs/rapids/lib/python3.8/site-packages/pynndescent/pynndescent_.py:326(nn_descent)\n",
            "       10    0.525    0.052    0.525    0.052 {built-in method _posixsubprocess.fork_exec}\n",
            "      725    0.508    0.001    0.508    0.001 {built-in method scipy.sparse._sparsetools.csr_matvec}\n",
            "        5    0.476    0.095    0.573    0.115 /home/graphistry/notebooks/daniel/cu-cat/cu_cat/_gap_encoder.py:1142(_multiplicative_update_w_smallfast)\n",
            "      211    0.398    0.002    0.633    0.003 /opt/conda/envs/rapids/lib/python3.8/site-packages/cupyx/scipy/sparse/_csr.py:148(__mul__)\n",
            "10904/1194    0.230    0.000    0.671    0.001 /opt/conda/envs/rapids/lib/python3.8/contextlib.py:72(inner)\n",
            "202552/31318    0.176    0.000    0.258    0.000 /opt/conda/envs/rapids/lib/python3.8/site-packages/numba/core/ir.py:313(_rec_list_vars)\n",
            "1429864/1429539    0.173    0.000    0.211    0.000 {built-in method builtins.isinstance}\n",
            "    91476    0.115    0.000    0.132    0.000 {built-in method cupy._core.core.array}\n",
            "       17    0.103    0.006    0.103    0.006 {method 'read' of '_io.BufferedReader' objects}\n",
            "38978/38896    0.080    0.000   12.923    0.000 {built-in method numpy.core._multiarray_umath.implement_array_function}\n",
            "\n",
            "\n",
            "CPU times: user 1min 24s, sys: 13.9 s, total: 1min 38s\n",
            "Wall time: 52.3 s\n"
          ]
        }
      ],
      "source": [
        "%%time\n",
        "# process = True  # set to false after it's run for ease of speed\n",
        "pr = cProfile.Profile()\n",
        "pr.enable()\n",
        "\n",
        "g = graphistry.nodes((tdf), 'node')\n",
        "\n",
        "g5c = g.umap(X=['feats'],\n",
        "            min_words=1000000, # force high so that we don't use Sentence Transformers\n",
        "            cardinality_threshold=4, # set low so we force topic model\n",
        "            n_topics=32, # number of topics\n",
        "            use_scaler=None,\n",
        "            feature_engine='cu_cat',\n",
        "            memoize=False,\n",
        "             # remove_node_column=False,\n",
        "            engine='umap_learn',\n",
        "            use_scaler_target=None\n",
        "           )\n",
        "\n",
        "pr.disable()\n",
        "stats = Stats(pr)\n",
        "stats.sort_stats('tottime').print_stats(20)\n",
        "\n",
        "with open('redteam_gpu_cpu.txt', 'w') as stream:\n",
        "    stats = Stats(pr,stream=stream)\n",
        "    stats.sort_stats('tottime').print_stats(20)"
      ]
    }
  ],
  "metadata": {
    "kernelspec": {
      "display_name": "Python 3.8 (RAPIDS)",
      "language": "python",
      "name": "rapids"
    },
    "language_info": {
      "codemirror_mode": {
        "name": "ipython",
        "version": 3
      },
      "file_extension": ".py",
      "mimetype": "text/x-python",
      "name": "python",
      "nbconvert_exporter": "python",
      "pygments_lexer": "ipython3",
      "version": "3.8.16"
    },
    "colab": {
      "provenance": [],
      "include_colab_link": true
    }
  },
  "nbformat": 4,
  "nbformat_minor": 5
}