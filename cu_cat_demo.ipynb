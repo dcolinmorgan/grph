{
  "cells": [
    {
      "cell_type": "markdown",
      "metadata": {
        "id": "view-in-github",
        "colab_type": "text"
      },
      "source": [
        "<a href=\"https://colab.research.google.com/github/dcolinmorgan/grph/blob/main/cu_cat_demo.ipynb\" target=\"_parent\"><img src=\"https://colab.research.google.com/assets/colab-badge.svg\" alt=\"Open In Colab\"/></a>"
      ]
    },
    {
      "cell_type": "markdown",
      "id": "4e5661c3-f960-479c-9c66-280b835318b5",
      "metadata": {
        "execution": {
          "iopub.execute_input": "2023-08-16T02:41:49.571858Z",
          "iopub.status.busy": "2023-08-16T02:41:49.571332Z",
          "iopub.status.idle": "2023-08-16T02:41:49.577971Z",
          "shell.execute_reply": "2023-08-16T02:41:49.576855Z",
          "shell.execute_reply.started": "2023-08-16T02:41:49.571809Z"
        },
        "tags": [],
        "id": "4e5661c3-f960-479c-9c66-280b835318b5"
      },
      "source": [
        "# Analyzing Network Identity Data and Red Team Response with Graphistry AutoML + UMAP\n",
        "We find a simple model that when clustered in a 2d plane via UMAP allows fast identification of anomalous computer to computer connections"
      ]
    },
    {
      "cell_type": "code",
      "source": [
        "!pip install --extra-index-url=https://pypi.nvidia.com cuml-cu11 cudf-cu11 cugraph-cu11 pylibraft_cu11 raft_dask_cu11 dask_cudf_cu11 pylibcugraph_cu11 pylibraft_cu11\n",
        "import cuml,cudf\n",
        "print(cuml.__version__)\n",
        "\n",
        "!pip install -U --force git+https://github.com/graphistry/pygraphistry.git@feat/gpu-featurization\n",
        "!pip install -U git+https://github.com/graphistry/cu-cat.git@DT4\n",
        "!pip install dirty_cat\n",
        "!pip install umap_learn==0.5.2\n",
        "# !pip install Biopython\n",
        "\n",
        "!nvidia-smi"
      ],
      "metadata": {
        "id": "fz2z6HTGQhlz"
      },
      "id": "fz2z6HTGQhlz",
      "execution_count": null,
      "outputs": []
    },
    {
      "cell_type": "code",
      "execution_count": null,
      "id": "515b40ff-6af7-4160-a0d0-4b6dddb88485",
      "metadata": {
        "execution": {
          "iopub.execute_input": "2023-08-15T07:28:57.236448Z",
          "iopub.status.busy": "2023-08-15T07:28:57.236252Z",
          "iopub.status.idle": "2023-08-15T07:29:03.766979Z",
          "shell.execute_reply": "2023-08-15T07:29:03.766052Z",
          "shell.execute_reply.started": "2023-08-15T07:28:57.236426Z"
        },
        "tags": [],
        "id": "515b40ff-6af7-4160-a0d0-4b6dddb88485"
      },
      "outputs": [],
      "source": [
        "import os\n",
        "from collections import Counter\n",
        "import cProfile\n",
        "import pandas as pd\n",
        "import numpy as np\n",
        "import matplotlib.pyplot as plt\n",
        "from pstats import Stats\n",
        "import cudf\n",
        "import warnings\n",
        "warnings.filterwarnings('ignore')\n",
        "\n",
        "pd.set_option('display.max_colwidth', 200)"
      ]
    },
    {
      "cell_type": "code",
      "execution_count": null,
      "id": "65e8dccf-5b22-469b-b1db-1dcccaea2517",
      "metadata": {
        "execution": {
          "iopub.execute_input": "2023-08-15T07:29:03.769487Z",
          "iopub.status.busy": "2023-08-15T07:29:03.768854Z",
          "iopub.status.idle": "2023-08-15T07:29:05.633820Z",
          "shell.execute_reply": "2023-08-15T07:29:05.632922Z",
          "shell.execute_reply.started": "2023-08-15T07:29:03.769457Z"
        },
        "tags": [],
        "id": "65e8dccf-5b22-469b-b1db-1dcccaea2517",
        "outputId": "76ade2ff-a546-46f7-a7fc-9cde0896c635"
      },
      "outputs": [
        {
          "data": {
            "text/plain": [
              "'0.29.1+37.g5677bea1'"
            ]
          },
          "execution_count": 2,
          "metadata": {},
          "output_type": "execute_result"
        }
      ],
      "source": [
        "import dirty_cat\n",
        "\n",
        "# !pip install -q -U --user git+https://github.com/graphistry/pygraphistry.git@feat/gpu-featurization\n",
        "\n",
        "os.chdir('pygraphistry')\n",
        "import graphistry\n",
        "os.chdir('..')\n",
        "\n",
        "graphistry.register(api=3,protocol=\"https\", server=\"hub.graphistry.com\", username='dcolinmorgan', password='***')\n",
        "graphistry.__version__"
      ]
    },
    {
      "cell_type": "code",
      "execution_count": null,
      "id": "acaa3721-5277-40f5-bddc-652d82d021d3",
      "metadata": {
        "execution": {
          "iopub.execute_input": "2023-08-15T07:29:05.635226Z",
          "iopub.status.busy": "2023-08-15T07:29:05.634916Z",
          "iopub.status.idle": "2023-08-15T07:29:05.638071Z",
          "shell.execute_reply": "2023-08-15T07:29:05.637514Z",
          "shell.execute_reply.started": "2023-08-15T07:29:05.635201Z"
        },
        "tags": [],
        "id": "acaa3721-5277-40f5-bddc-652d82d021d3"
      },
      "outputs": [],
      "source": [
        "# import logging\n",
        "# logging.basicConfig(level=logging.DEBUG)"
      ]
    },
    {
      "cell_type": "code",
      "execution_count": null,
      "id": "eced52e6-fb35-426d-89ac-487a3a0a0146",
      "metadata": {
        "tags": [],
        "id": "eced52e6-fb35-426d-89ac-487a3a0a0146"
      },
      "outputs": [],
      "source": [
        "# !pip install -U git+https://github.com/graphistry/cu-cat.git@DT4\n",
        "os.chdir('cu-cat')\n",
        "import cu_cat\n",
        "os.chdir('..')"
      ]
    },
    {
      "cell_type": "markdown",
      "id": "25af369a-7724-4249-9504-abeb88796241",
      "metadata": {
        "id": "25af369a-7724-4249-9504-abeb88796241"
      },
      "source": [
        "Alert on & visualize anomalous identity events\n",
        "\n",
        "Demo dataset: 1.6B windows events over 58 days => logins by 12K user over 14K systems adapt to any identity system with logins. Here we subsample down to a small set of 50k events to prove out the pipeline.\n",
        "\n",
        "=> Can we identify accounts & computers acting anomalously? Resources being oddly accessed?\n",
        "=> Can we spot the red team?\n",
        "=> Operations: Identity incident alerting + identity data investigations\n",
        "Community/contact for help handling bigger-than-memory & additional features\n",
        "\n",
        "Runs on both CPU + multi-GPU Tools: PyGraphistry[AI], DGL + PyTorch, and NVIDIA RAPIDS / umap-learn"
      ]
    },
    {
      "cell_type": "code",
      "execution_count": null,
      "id": "673a437f-c049-4651-beee-98664984afc3",
      "metadata": {
        "execution": {
          "iopub.execute_input": "2023-08-16T02:42:44.094579Z",
          "iopub.status.busy": "2023-08-16T02:42:44.094027Z",
          "iopub.status.idle": "2023-08-16T02:42:44.098501Z",
          "shell.execute_reply": "2023-08-16T02:42:44.097725Z",
          "shell.execute_reply.started": "2023-08-16T02:42:44.094530Z"
        },
        "tags": [],
        "id": "673a437f-c049-4651-beee-98664984afc3"
      },
      "outputs": [],
      "source": [
        "# data source citation\n",
        "# \"\"\"A. D. Kent, \"Cybersecurity Data Sources for Dynamic Network Research,\"\n",
        "# in Dynamic Networks in Cybersecurity, 2015.\n",
        "\n",
        "# @InProceedings{akent-2015-enterprise-data,\n",
        "#    author = {Alexander D. Kent},\n",
        "#    title = {{Cybersecurity Data Sources for Dynamic Network Research}},\n",
        "#    year = 2015,\n",
        "#    booktitle = {Dynamic Networks in Cybersecurity},\n",
        "#    month =        jun,\n",
        "#    publisher = {Imperial College Press}\n",
        "# }\"\"\""
      ]
    },
    {
      "cell_type": "markdown",
      "id": "b9fa2d4e-53e8-4eb5-bdbf-c5c1908159ad",
      "metadata": {
        "tags": [],
        "id": "b9fa2d4e-53e8-4eb5-bdbf-c5c1908159ad"
      },
      "source": [
        "### redteam"
      ]
    },
    {
      "cell_type": "code",
      "execution_count": null,
      "id": "3fe52faa-c35c-492e-98c1-7cfc46888a5f",
      "metadata": {
        "execution": {
          "iopub.execute_input": "2023-08-15T07:29:19.134428Z",
          "iopub.status.busy": "2023-08-15T07:29:19.134048Z",
          "iopub.status.idle": "2023-08-15T07:29:19.672262Z",
          "shell.execute_reply": "2023-08-15T07:29:19.671538Z",
          "shell.execute_reply.started": "2023-08-15T07:29:19.134387Z"
        },
        "tags": [],
        "id": "3fe52faa-c35c-492e-98c1-7cfc46888a5f",
        "outputId": "2db031d6-4a4a-441f-b83b-20ff11789926"
      },
      "outputs": [
        {
          "data": {
            "text/plain": [
              "749.0"
            ]
          },
          "execution_count": 5,
          "metadata": {},
          "output_type": "execute_result"
        }
      ],
      "source": [
        "df = pd.read_csv('https://gist.githubusercontent.com/silkspace/c7b50d0c03dc59f63c48d68d696958ff/raw/31d918267f86f8252d42d2e9597ba6fc03fcdac2/redteam_50k.csv', index_col=0)\n",
        "red_team = pd.read_csv('https://gist.githubusercontent.com/silkspace/5cf5a94b9ac4b4ffe38904f20d93edb1/raw/888dabd86f88ea747cf9ff5f6c44725e21536465/redteam_labels.csv', index_col=0)\n",
        "df['feats'] = df.src_computer + ' ' + df.dst_computer + ' ' + df.auth_type + ' ' + df.logontype\n",
        "df['feats2'] = df.src_computer + ' ' + df.dst_computer\n",
        "ndf = df.drop_duplicates(subset=['feats'])\n",
        "tdf = pd.concat([red_team.reset_index(), ndf.reset_index()])\n",
        "tdf['node'] = range(len(tdf))\n",
        "tdf.RED.sum()"
      ]
    },
    {
      "cell_type": "code",
      "execution_count": null,
      "id": "8ce7dfe5-43f2-456d-9ed6-ebe62bbfb3bd",
      "metadata": {
        "execution": {
          "iopub.execute_input": "2023-08-15T07:59:22.225877Z",
          "iopub.status.busy": "2023-08-15T07:59:22.225380Z",
          "iopub.status.idle": "2023-08-15T07:59:22.263558Z",
          "shell.execute_reply": "2023-08-15T07:59:22.262438Z",
          "shell.execute_reply.started": "2023-08-15T07:59:22.225835Z"
        },
        "tags": [],
        "id": "8ce7dfe5-43f2-456d-9ed6-ebe62bbfb3bd",
        "outputId": "c56c804b-b03c-4741-bf12-2aaebb61f782"
      },
      "outputs": [
        {
          "data": {
            "text/html": [
              "<div>\n",
              "<style scoped>\n",
              "    .dataframe tbody tr th:only-of-type {\n",
              "        vertical-align: middle;\n",
              "    }\n",
              "\n",
              "    .dataframe tbody tr th {\n",
              "        vertical-align: top;\n",
              "    }\n",
              "\n",
              "    .dataframe thead th {\n",
              "        text-align: right;\n",
              "    }\n",
              "</style>\n",
              "<table border=\"1\" class=\"dataframe\">\n",
              "  <thead>\n",
              "    <tr style=\"text-align: right;\">\n",
              "      <th></th>\n",
              "      <th>index</th>\n",
              "      <th>time</th>\n",
              "      <th>src_domain</th>\n",
              "      <th>src_computer</th>\n",
              "      <th>dst_computer</th>\n",
              "      <th>feats</th>\n",
              "      <th>RED</th>\n",
              "      <th>dst_domain</th>\n",
              "      <th>auth_type</th>\n",
              "      <th>logontype</th>\n",
              "      <th>authentication_orientation</th>\n",
              "      <th>success_or_failure</th>\n",
              "      <th>feats2</th>\n",
              "      <th>node</th>\n",
              "    </tr>\n",
              "  </thead>\n",
              "  <tbody>\n",
              "    <tr>\n",
              "      <th>0</th>\n",
              "      <td>0</td>\n",
              "      <td>150885</td>\n",
              "      <td>U620@DOM1</td>\n",
              "      <td>C17693</td>\n",
              "      <td>C1003</td>\n",
              "      <td>C17693 C1003</td>\n",
              "      <td>1.0</td>\n",
              "      <td>NaN</td>\n",
              "      <td>NaN</td>\n",
              "      <td>NaN</td>\n",
              "      <td>NaN</td>\n",
              "      <td>NaN</td>\n",
              "      <td>NaN</td>\n",
              "      <td>0</td>\n",
              "    </tr>\n",
              "    <tr>\n",
              "      <th>1</th>\n",
              "      <td>1</td>\n",
              "      <td>151036</td>\n",
              "      <td>U748@DOM1</td>\n",
              "      <td>C17693</td>\n",
              "      <td>C305</td>\n",
              "      <td>C17693 C305</td>\n",
              "      <td>1.0</td>\n",
              "      <td>NaN</td>\n",
              "      <td>NaN</td>\n",
              "      <td>NaN</td>\n",
              "      <td>NaN</td>\n",
              "      <td>NaN</td>\n",
              "      <td>NaN</td>\n",
              "      <td>1</td>\n",
              "    </tr>\n",
              "    <tr>\n",
              "      <th>2</th>\n",
              "      <td>2</td>\n",
              "      <td>151648</td>\n",
              "      <td>U748@DOM1</td>\n",
              "      <td>C17693</td>\n",
              "      <td>C728</td>\n",
              "      <td>C17693 C728</td>\n",
              "      <td>1.0</td>\n",
              "      <td>NaN</td>\n",
              "      <td>NaN</td>\n",
              "      <td>NaN</td>\n",
              "      <td>NaN</td>\n",
              "      <td>NaN</td>\n",
              "      <td>NaN</td>\n",
              "      <td>2</td>\n",
              "    </tr>\n",
              "    <tr>\n",
              "      <th>3</th>\n",
              "      <td>3</td>\n",
              "      <td>151993</td>\n",
              "      <td>U6115@DOM1</td>\n",
              "      <td>C17693</td>\n",
              "      <td>C1173</td>\n",
              "      <td>C17693 C1173</td>\n",
              "      <td>1.0</td>\n",
              "      <td>NaN</td>\n",
              "      <td>NaN</td>\n",
              "      <td>NaN</td>\n",
              "      <td>NaN</td>\n",
              "      <td>NaN</td>\n",
              "      <td>NaN</td>\n",
              "      <td>3</td>\n",
              "    </tr>\n",
              "    <tr>\n",
              "      <th>4</th>\n",
              "      <td>4</td>\n",
              "      <td>153792</td>\n",
              "      <td>U636@DOM1</td>\n",
              "      <td>C17693</td>\n",
              "      <td>C294</td>\n",
              "      <td>C17693 C294</td>\n",
              "      <td>1.0</td>\n",
              "      <td>NaN</td>\n",
              "      <td>NaN</td>\n",
              "      <td>NaN</td>\n",
              "      <td>NaN</td>\n",
              "      <td>NaN</td>\n",
              "      <td>NaN</td>\n",
              "      <td>4</td>\n",
              "    </tr>\n",
              "    <tr>\n",
              "      <th>...</th>\n",
              "      <td>...</td>\n",
              "      <td>...</td>\n",
              "      <td>...</td>\n",
              "      <td>...</td>\n",
              "      <td>...</td>\n",
              "      <td>...</td>\n",
              "      <td>...</td>\n",
              "      <td>...</td>\n",
              "      <td>...</td>\n",
              "      <td>...</td>\n",
              "      <td>...</td>\n",
              "      <td>...</td>\n",
              "      <td>...</td>\n",
              "      <td>...</td>\n",
              "    </tr>\n",
              "    <tr>\n",
              "      <th>19008</th>\n",
              "      <td>8463107</td>\n",
              "      <td>48263</td>\n",
              "      <td>C11843$@DOM1</td>\n",
              "      <td>C11843</td>\n",
              "      <td>C528</td>\n",
              "      <td>C11843 C528 Kerberos Network</td>\n",
              "      <td>0.0</td>\n",
              "      <td>C11843$@DOM1</td>\n",
              "      <td>Kerberos</td>\n",
              "      <td>Network</td>\n",
              "      <td>LogOn</td>\n",
              "      <td>Success</td>\n",
              "      <td>C11843 C528</td>\n",
              "      <td>19757</td>\n",
              "    </tr>\n",
              "    <tr>\n",
              "      <th>19009</th>\n",
              "      <td>14394630</td>\n",
              "      <td>77937</td>\n",
              "      <td>C8470$@DOM1</td>\n",
              "      <td>C8470</td>\n",
              "      <td>C528</td>\n",
              "      <td>C8470 C528 NTLM Network</td>\n",
              "      <td>0.0</td>\n",
              "      <td>C8470$@DOM1</td>\n",
              "      <td>NTLM</td>\n",
              "      <td>Network</td>\n",
              "      <td>LogOn</td>\n",
              "      <td>Success</td>\n",
              "      <td>C8470 C528</td>\n",
              "      <td>19758</td>\n",
              "    </tr>\n",
              "    <tr>\n",
              "      <th>19010</th>\n",
              "      <td>33398153</td>\n",
              "      <td>173300</td>\n",
              "      <td>C716$@DOM1</td>\n",
              "      <td>C716</td>\n",
              "      <td>C716</td>\n",
              "      <td>C716 C716 ? ?</td>\n",
              "      <td>0.0</td>\n",
              "      <td>C716$@DOM1</td>\n",
              "      <td>?</td>\n",
              "      <td>?</td>\n",
              "      <td>AuthMap</td>\n",
              "      <td>Success</td>\n",
              "      <td>C716 C716</td>\n",
              "      <td>19759</td>\n",
              "    </tr>\n",
              "    <tr>\n",
              "      <th>19011</th>\n",
              "      <td>18353851</td>\n",
              "      <td>102472</td>\n",
              "      <td>U7365@DOM1</td>\n",
              "      <td>C16126</td>\n",
              "      <td>C586</td>\n",
              "      <td>C16126 C586 ? ?</td>\n",
              "      <td>0.0</td>\n",
              "      <td>U7365@DOM1</td>\n",
              "      <td>?</td>\n",
              "      <td>?</td>\n",
              "      <td>TGS</td>\n",
              "      <td>Success</td>\n",
              "      <td>C16126 C586</td>\n",
              "      <td>19760</td>\n",
              "    </tr>\n",
              "    <tr>\n",
              "      <th>19012</th>\n",
              "      <td>27372458</td>\n",
              "      <td>141156</td>\n",
              "      <td>NETWORK SERVICE@C6215</td>\n",
              "      <td>C6215</td>\n",
              "      <td>C6215</td>\n",
              "      <td>C6215 C6215 Negotiate Service</td>\n",
              "      <td>0.0</td>\n",
              "      <td>NETWORK SERVICE@C6215</td>\n",
              "      <td>Negotiate</td>\n",
              "      <td>Service</td>\n",
              "      <td>LogOn</td>\n",
              "      <td>Success</td>\n",
              "      <td>C6215 C6215</td>\n",
              "      <td>19761</td>\n",
              "    </tr>\n",
              "  </tbody>\n",
              "</table>\n",
              "<p>19762 rows × 14 columns</p>\n",
              "</div>"
            ],
            "text/plain": [
              "          index    time             src_domain src_computer dst_computer  \\\n",
              "0             0  150885              U620@DOM1       C17693        C1003   \n",
              "1             1  151036              U748@DOM1       C17693         C305   \n",
              "2             2  151648              U748@DOM1       C17693         C728   \n",
              "3             3  151993             U6115@DOM1       C17693        C1173   \n",
              "4             4  153792              U636@DOM1       C17693         C294   \n",
              "...         ...     ...                    ...          ...          ...   \n",
              "19008   8463107   48263           C11843$@DOM1       C11843         C528   \n",
              "19009  14394630   77937            C8470$@DOM1        C8470         C528   \n",
              "19010  33398153  173300             C716$@DOM1         C716         C716   \n",
              "19011  18353851  102472             U7365@DOM1       C16126         C586   \n",
              "19012  27372458  141156  NETWORK SERVICE@C6215        C6215        C6215   \n",
              "\n",
              "                               feats  RED             dst_domain  auth_type  \\\n",
              "0                       C17693 C1003  1.0                    NaN        NaN   \n",
              "1                        C17693 C305  1.0                    NaN        NaN   \n",
              "2                        C17693 C728  1.0                    NaN        NaN   \n",
              "3                       C17693 C1173  1.0                    NaN        NaN   \n",
              "4                        C17693 C294  1.0                    NaN        NaN   \n",
              "...                              ...  ...                    ...        ...   \n",
              "19008   C11843 C528 Kerberos Network  0.0           C11843$@DOM1   Kerberos   \n",
              "19009        C8470 C528 NTLM Network  0.0            C8470$@DOM1       NTLM   \n",
              "19010                  C716 C716 ? ?  0.0             C716$@DOM1          ?   \n",
              "19011                C16126 C586 ? ?  0.0             U7365@DOM1          ?   \n",
              "19012  C6215 C6215 Negotiate Service  0.0  NETWORK SERVICE@C6215  Negotiate   \n",
              "\n",
              "      logontype authentication_orientation success_or_failure       feats2  \\\n",
              "0           NaN                        NaN                NaN          NaN   \n",
              "1           NaN                        NaN                NaN          NaN   \n",
              "2           NaN                        NaN                NaN          NaN   \n",
              "3           NaN                        NaN                NaN          NaN   \n",
              "4           NaN                        NaN                NaN          NaN   \n",
              "...         ...                        ...                ...          ...   \n",
              "19008   Network                      LogOn            Success  C11843 C528   \n",
              "19009   Network                      LogOn            Success   C8470 C528   \n",
              "19010         ?                    AuthMap            Success    C716 C716   \n",
              "19011         ?                        TGS            Success  C16126 C586   \n",
              "19012   Service                      LogOn            Success  C6215 C6215   \n",
              "\n",
              "        node  \n",
              "0          0  \n",
              "1          1  \n",
              "2          2  \n",
              "3          3  \n",
              "4          4  \n",
              "...      ...  \n",
              "19008  19757  \n",
              "19009  19758  \n",
              "19010  19759  \n",
              "19011  19760  \n",
              "19012  19761  \n",
              "\n",
              "[19762 rows x 14 columns]"
            ]
          },
          "execution_count": 20,
          "metadata": {},
          "output_type": "execute_result"
        }
      ],
      "source": [
        "tdf"
      ]
    },
    {
      "cell_type": "markdown",
      "id": "179e7003-0b4a-4345-ad18-6c8c7d398a43",
      "metadata": {
        "id": "179e7003-0b4a-4345-ad18-6c8c7d398a43"
      },
      "source": [
        "## A model of Computer-Computer features only\n",
        "We run 3 versions using different engine combinations --\n",
        "\n",
        "1. first full gpu pipeline via 'engine=cuda' employing 'cu_cat' for freaturization of the raw dataframe + 'cuml' for umap\n",
        "2. then 'dirty_cat' on cpu encoding and standard umap_learn umapping\n",
        "3. then cu_cat gpu encoding back to cpu umapping (for the masochists of the world)\n",
        "\n",
        "You will note full gpu (1) is understandably the fastest, followed by partial gpu (3) and finally full cup (2)"
      ]
    },
    {
      "cell_type": "code",
      "execution_count": null,
      "id": "28017a3b-6a39-4c33-8d6d-78cecb73ecf2",
      "metadata": {
        "execution": {
          "iopub.execute_input": "2023-08-15T07:29:19.673382Z",
          "iopub.status.busy": "2023-08-15T07:29:19.673100Z",
          "iopub.status.idle": "2023-08-15T07:30:07.621102Z",
          "shell.execute_reply": "2023-08-15T07:30:07.620406Z",
          "shell.execute_reply.started": "2023-08-15T07:29:19.673361Z"
        },
        "tags": [],
        "id": "28017a3b-6a39-4c33-8d6d-78cecb73ecf2",
        "outputId": "98966939-c1ec-4a8f-8ebb-142cd7cad354"
      },
      "outputs": [
        {
          "name": "stderr",
          "output_type": "stream",
          "text": [
            "* Ignoring target column of shape (19762, 0) in UMAP fit, as it is not one dimensional"
          ]
        },
        {
          "name": "stdout",
          "output_type": "stream",
          "text": [
            "         1671337 function calls (1647190 primitive calls) in 47.672 seconds\n",
            "\n",
            "   Ordered by: internal time\n",
            "   List reduced from 5214 to 20 due to restriction <20>\n",
            "\n",
            "   ncalls  tottime  percall  cumtime  percall filename:lineno(function)\n",
            "        8   20.192    2.524   25.020    3.127 /home/graphistry/notebooks/daniel/cu-cat/cu_cat/_gap_encoder.py:1286(_multiplicative_update_h_smallfast)\n",
            "        3   12.285    4.095   12.286    4.095 /opt/conda/envs/rapids/lib/python3.8/site-packages/numpy/lib/arraysetops.py:523(in1d)\n",
            "       20    4.296    0.215    4.298    0.215 /opt/conda/envs/rapids/lib/python3.8/site-packages/cudf/core/column/column.py:301(from_arrow)\n",
            "     4463    3.621    0.001    3.655    0.001 /opt/conda/envs/rapids/lib/python3.8/site-packages/rmm/rmm.py:216(rmm_cupy_allocator)\n",
            "        7    1.286    0.184    1.529    0.218 /home/graphistry/notebooks/daniel/cu-cat/cu_cat/_gap_encoder.py:275(_get_H)\n",
            "      216    0.625    0.003    0.626    0.003 {built-in method cupy._core._routines_linalg.matmul}\n",
            "      397    0.617    0.002    0.617    0.002 {built-in method builtins.compile}\n",
            "       10    0.592    0.059    0.592    0.059 {built-in method posix.read}\n",
            "        5    0.479    0.096    0.578    0.116 /home/graphistry/notebooks/daniel/cu-cat/cu_cat/_gap_encoder.py:1142(_multiplicative_update_w_smallfast)\n",
            "       10    0.409    0.041    0.409    0.041 {built-in method _posixsubprocess.fork_exec}\n",
            "      213    0.407    0.002    0.669    0.003 /opt/conda/envs/rapids/lib/python3.8/site-packages/cupyx/scipy/sparse/_csr.py:148(__mul__)\n",
            "      729    0.280    0.000    0.310    0.000 {method 'update' of 'dict' objects}\n",
            "11082/1214    0.230    0.000    5.146    0.004 /opt/conda/envs/rapids/lib/python3.8/contextlib.py:72(inner)\n",
            "      219    0.229    0.001    0.229    0.001 {built-in method cupy.cuda.device.get_cusparse_handle}\n",
            "     1479    0.176    0.000    0.180    0.000 /opt/conda/envs/rapids/lib/python3.8/site-packages/cudf/core/column/numerical.py:81(__init__)\n",
            "    91521    0.121    0.000    0.142    0.000 {built-in method cupy._core.core.array}\n",
            "     19/5    0.111    0.006   41.924    8.385 /opt/conda/envs/rapids/lib/python3.8/site-packages/cuml/internals/api_decorators.py:140(wrapper)\n",
            "        1    0.103    0.103    0.103    0.103 {built-in method cupy_backends.cuda.libs.nvrtc.compileProgram}\n",
            "      463    0.092    0.000    0.092    0.000 {method 'read' of '_io.BufferedReader' objects}\n",
            "       58    0.061    0.001    0.061    0.001 {method 'load' of 'cupy.cuda.function.Module' objects}\n",
            "\n",
            "\n",
            "CPU times: user 37.6 s, sys: 9.82 s, total: 47.4 s\n",
            "Wall time: 47.9 s\n"
          ]
        }
      ],
      "source": [
        "%%time\n",
        "# process = True  # set to false after it's run for ease of speed\n",
        "pr = cProfile.Profile()\n",
        "pr.enable()\n",
        "\n",
        "g = graphistry.nodes(tdf, 'node')\n",
        "\n",
        "g5a = g.umap(X=['feats'],\n",
        "            min_words=1000000, # force high so that we don't use Sentence Transformers\n",
        "            cardinality_threshold=4, # set low so we force topic model\n",
        "            n_topics=32, # number of topics\n",
        "            use_scaler=None,\n",
        "            # feature_engine='cu_cat',\n",
        "            memoize=False,\n",
        "             # remove_node_column=False,\n",
        "            engine='cuda',\n",
        "            use_scaler_target=None\n",
        "           )\n",
        "\n",
        "pr.disable()\n",
        "stats = Stats(pr)\n",
        "stats.sort_stats('tottime').print_stats(20)\n",
        "\n",
        "with open('redteam_cuda.txt', 'w') as stream:\n",
        "    stats = Stats(pr,stream=stream)\n",
        "    stats.sort_stats('tottime').print_stats(20)"
      ]
    },
    {
      "cell_type": "code",
      "execution_count": null,
      "id": "df94cfc1-ef21-4ff8-b81f-8f5b08968129",
      "metadata": {
        "execution": {
          "iopub.execute_input": "2023-08-15T07:49:39.233036Z",
          "iopub.status.busy": "2023-08-15T07:49:39.232528Z",
          "iopub.status.idle": "2023-08-15T07:50:50.880282Z",
          "shell.execute_reply": "2023-08-15T07:50:50.879518Z",
          "shell.execute_reply.started": "2023-08-15T07:49:39.232993Z"
        },
        "tags": [],
        "id": "df94cfc1-ef21-4ff8-b81f-8f5b08968129",
        "outputId": "672c7812-92e4-4878-91a3-9019928930c0"
      },
      "outputs": [
        {
          "name": "stdout",
          "output_type": "stream",
          "text": [
            "         24274251 function calls (24273175 primitive calls) in 71.590 seconds\n",
            "\n",
            "   Ordered by: internal time\n",
            "   List reduced from 1518 to 20 due to restriction <20>\n",
            "\n",
            "   ncalls  tottime  percall  cumtime  percall filename:lineno(function)\n",
            "     1054   15.874    0.015   43.214    0.041 /opt/conda/envs/rapids/lib/python3.8/site-packages/dirty_cat/gap_encoder.py:815(_multiplicative_update_h)\n",
            "        3   13.987    4.662   13.987    4.662 /opt/conda/envs/rapids/lib/python3.8/site-packages/numpy/lib/arraysetops.py:523(in1d)\n",
            "3280085/3279849   10.899    0.000   25.132    0.000 {built-in method numpy.core._multiarray_umath.implement_array_function}\n",
            "      775    4.272    0.006   10.009    0.013 /opt/conda/envs/rapids/lib/python3.8/site-packages/dirty_cat/gap_encoder.py:791(_multiplicative_update_w)\n",
            "   273080    3.324    0.000    6.809    0.000 /opt/conda/envs/rapids/lib/python3.8/site-packages/scipy/sparse/_sputils.py:147(get_index_dtype)\n",
            "   134949    2.750    0.000    8.322    0.000 /opt/conda/envs/rapids/lib/python3.8/site-packages/scipy/sparse/_compressed.py:136(check_format)\n",
            "  2730687    2.496    0.000   13.138    0.000 <__array_function__ internals>:177(dot)\n",
            "   546167    1.385    0.000    1.385    0.000 /opt/conda/envs/rapids/lib/python3.8/site-packages/numpy/core/getlimits.py:648(__init__)\n",
            "134949/134908    1.359    0.000   16.935    0.000 /opt/conda/envs/rapids/lib/python3.8/site-packages/scipy/sparse/_compressed.py:26(__init__)\n",
            "   134949    1.012    0.000    2.182    0.000 /opt/conda/envs/rapids/lib/python3.8/site-packages/scipy/sparse/_compressed.py:1168(prune)\n",
            "    32550    0.769    0.000    0.769    0.000 {built-in method scipy.sparse._sparsetools.coo_matvec}\n",
            "   136499    0.717    0.000    1.404    0.000 /opt/conda/envs/rapids/lib/python3.8/site-packages/scipy/sparse/_sputils.py:295(check_shape)\n",
            "   133914    0.711    0.000   16.969    0.000 /opt/conda/envs/rapids/lib/python3.8/site-packages/scipy/sparse/_csr.py:236(__iter__)\n",
            "        7    0.710    0.101    2.371    0.339 /opt/conda/envs/rapids/lib/python3.8/site-packages/sklearn/feature_extraction/text.py:1257(_count_vocab)\n",
            "      775    0.707    0.001    0.962    0.001 /opt/conda/envs/rapids/lib/python3.8/site-packages/dirty_cat/gap_encoder.py:781(_rescale_W)\n",
            "   409430    0.633    0.000    0.633    0.000 {built-in method numpy.array}\n",
            "  2730687    0.618    0.000    0.618    0.000 /opt/conda/envs/rapids/lib/python3.8/site-packages/numpy/core/multiarray.py:736(dot)\n",
            "    63053    0.584    0.000    0.841    0.000 /opt/conda/envs/rapids/lib/python3.8/site-packages/sklearn/feature_extraction/text.py:275(_char_ngrams)\n",
            "   136458    0.542    0.000    0.553    0.000 /opt/conda/envs/rapids/lib/python3.8/site-packages/scipy/sparse/_sputils.py:238(isshape)\n",
            "   540126    0.529    0.000    1.511    0.000 <__array_function__ internals>:177(can_cast)\n",
            "\n",
            "\n",
            "CPU times: user 3min 12s, sys: 3min 15s, total: 6min 27s\n",
            "Wall time: 1min 11s\n"
          ]
        }
      ],
      "source": [
        "%%time\n",
        "# process = True  # set to false after it's run for ease of speed\n",
        "pr = cProfile.Profile()\n",
        "pr.enable()\n",
        "\n",
        "g = graphistry.nodes((tdf), 'node')\n",
        "# t=time()\n",
        "g5b = g.featurize(X=['feats'],\n",
        "           #  min_words=1000000, # force high so that we don't use Sentence Transformers\n",
        "           #  cardinality_threshold=4, # set low so we force topic model\n",
        "           #  n_topics=32, # number of topics\n",
        "           #  use_scaler=None,\n",
        "            feature_engine='dirty_cat')#,\n",
        "           #  memoize=False,\n",
        "           #   # remove_node_column=False,\n",
        "            # engine='umap_learn',\n",
        "           #  use_scaler_target=None\n",
        "           # )\n",
        "\n",
        "# pr.disable()\n",
        "# stats = Stats(pr)\n",
        "# stats.sort_stats('tottime').print_stats(20)\n",
        "\n",
        "# j=time()-t\n",
        "# print(\"umap: \\n\"+str(j))\n",
        "\n",
        "with open('redteam_cpu.txt', 'w') as stream:\n",
        "    stats = Stats(pr,stream=stream)\n",
        "    stats.sort_stats('tottime').print_stats(20)"
      ]
    },
    {
      "cell_type": "code",
      "execution_count": null,
      "id": "343d14cc-e1e4-4f6c-aa0d-ff4e6f0dcefa",
      "metadata": {
        "execution": {
          "iopub.execute_input": "2023-08-15T07:38:09.168617Z",
          "iopub.status.busy": "2023-08-15T07:38:09.168306Z",
          "iopub.status.idle": "2023-08-15T07:39:01.522913Z",
          "shell.execute_reply": "2023-08-15T07:39:01.522154Z",
          "shell.execute_reply.started": "2023-08-15T07:38:09.168593Z"
        },
        "tags": [],
        "id": "343d14cc-e1e4-4f6c-aa0d-ff4e6f0dcefa",
        "outputId": "cb720b1b-c276-48cf-d147-1f7cb566be8c"
      },
      "outputs": [
        {
          "name": "stderr",
          "output_type": "stream",
          "text": [
            "* Ignoring target column of shape (19762, 0) in UMAP fit, as it is not one dimensional"
          ]
        },
        {
          "name": "stdout",
          "output_type": "stream",
          "text": [
            "         5788799 function calls (5451682 primitive calls) in 52.187 seconds\n",
            "\n",
            "   Ordered by: internal time\n",
            "   List reduced from 5229 to 20 due to restriction <20>\n",
            "\n",
            "   ncalls  tottime  percall  cumtime  percall filename:lineno(function)\n",
            "        8   19.784    2.473   23.914    2.989 /home/graphistry/notebooks/daniel/cu-cat/cu_cat/_gap_encoder.py:1286(_multiplicative_update_h_smallfast)\n",
            "        3   12.768    4.256   12.768    4.256 /opt/conda/envs/rapids/lib/python3.8/site-packages/numpy/lib/arraysetops.py:523(in1d)\n",
            "      200    5.370    0.027    5.370    0.027 /opt/conda/envs/rapids/lib/python3.8/site-packages/umap/layouts.py:61(_optimize_layout_euclidean_single_epoch)\n",
            "     4391    3.597    0.001    3.630    0.001 /opt/conda/envs/rapids/lib/python3.8/site-packages/rmm/rmm.py:216(rmm_cupy_allocator)\n",
            "        7    1.299    0.186    1.544    0.221 /home/graphistry/notebooks/daniel/cu-cat/cu_cat/_gap_encoder.py:275(_get_H)\n",
            "      728    0.775    0.001    1.336    0.002 /opt/conda/envs/rapids/lib/python3.8/site-packages/scipy/sparse/linalg/_eigen/arpack/arpack.py:535(iterate)\n",
            "     1404    0.738    0.001    0.768    0.001 {method 'update' of 'dict' objects}\n",
            "       10    0.736    0.074    0.736    0.074 {built-in method posix.read}\n",
            "     2481    0.599    0.000    0.636    0.000 /opt/conda/envs/rapids/lib/python3.8/site-packages/llvmlite/binding/ffi.py:149(__call__)\n",
            "        1    0.584    0.584    0.584    0.584 /opt/conda/envs/rapids/lib/python3.8/site-packages/pynndescent/pynndescent_.py:326(nn_descent)\n",
            "       10    0.525    0.052    0.525    0.052 {built-in method _posixsubprocess.fork_exec}\n",
            "      725    0.508    0.001    0.508    0.001 {built-in method scipy.sparse._sparsetools.csr_matvec}\n",
            "        5    0.476    0.095    0.573    0.115 /home/graphistry/notebooks/daniel/cu-cat/cu_cat/_gap_encoder.py:1142(_multiplicative_update_w_smallfast)\n",
            "      211    0.398    0.002    0.633    0.003 /opt/conda/envs/rapids/lib/python3.8/site-packages/cupyx/scipy/sparse/_csr.py:148(__mul__)\n",
            "10904/1194    0.230    0.000    0.671    0.001 /opt/conda/envs/rapids/lib/python3.8/contextlib.py:72(inner)\n",
            "202552/31318    0.176    0.000    0.258    0.000 /opt/conda/envs/rapids/lib/python3.8/site-packages/numba/core/ir.py:313(_rec_list_vars)\n",
            "1429864/1429539    0.173    0.000    0.211    0.000 {built-in method builtins.isinstance}\n",
            "    91476    0.115    0.000    0.132    0.000 {built-in method cupy._core.core.array}\n",
            "       17    0.103    0.006    0.103    0.006 {method 'read' of '_io.BufferedReader' objects}\n",
            "38978/38896    0.080    0.000   12.923    0.000 {built-in method numpy.core._multiarray_umath.implement_array_function}\n",
            "\n",
            "\n",
            "CPU times: user 1min 24s, sys: 13.9 s, total: 1min 38s\n",
            "Wall time: 52.3 s\n"
          ]
        }
      ],
      "source": [
        "%%time\n",
        "# process = True  # set to false after it's run for ease of speed\n",
        "pr = cProfile.Profile()\n",
        "pr.enable()\n",
        "\n",
        "g = graphistry.nodes((tdf), 'node')\n",
        "\n",
        "g5c = g.umap(X=['feats'],\n",
        "            min_words=1000000, # force high so that we don't use Sentence Transformers\n",
        "            cardinality_threshold=4, # set low so we force topic model\n",
        "            n_topics=32, # number of topics\n",
        "            use_scaler=None,\n",
        "            feature_engine='cu_cat',\n",
        "            memoize=False,\n",
        "             # remove_node_column=False,\n",
        "            engine='umap_learn',\n",
        "            use_scaler_target=None\n",
        "           )\n",
        "\n",
        "pr.disable()\n",
        "stats = Stats(pr)\n",
        "stats.sort_stats('tottime').print_stats(20)\n",
        "\n",
        "with open('redteam_gpu_cpu.txt', 'w') as stream:\n",
        "    stats = Stats(pr,stream=stream)\n",
        "    stats.sort_stats('tottime').print_stats(20)"
      ]
    },
    {
      "cell_type": "code",
      "execution_count": null,
      "id": "44bbd703-0c8c-48cc-be2c-f4bbe53879d4",
      "metadata": {
        "execution": {
          "iopub.status.busy": "2023-08-15T07:34:19.670511Z",
          "iopub.status.idle": "2023-08-15T07:34:19.671437Z",
          "shell.execute_reply": "2023-08-15T07:34:19.671123Z",
          "shell.execute_reply.started": "2023-08-15T07:34:19.671082Z"
        },
        "tags": [],
        "id": "44bbd703-0c8c-48cc-be2c-f4bbe53879d4"
      },
      "outputs": [],
      "source": [
        "# # get the data top 3000 posts on Hacker News\n",
        "askHN = pd.read_csv('https://storage.googleapis.com/cohere-assets/blog/text-clustering/data/askhn3k_df.csv', index_col=0)\n",
        "\n",
        "# df = askHN.sample(1000,replace=True) # set smaller if you want to test a minibatch\n",
        "# df = df[['text','title']]\n",
        "# df['title'] = df['title'].sample(frac=1).values"
      ]
    },
    {
      "cell_type": "code",
      "execution_count": null,
      "id": "9495d871-f449-4565-97e7-298496146ade",
      "metadata": {
        "id": "9495d871-f449-4565-97e7-298496146ade"
      },
      "outputs": [],
      "source": []
    },
    {
      "cell_type": "code",
      "execution_count": null,
      "id": "cab7e1db-329c-4be7-9760-471d0e9916a6",
      "metadata": {
        "execution": {
          "iopub.status.busy": "2023-08-15T07:34:19.672951Z",
          "iopub.status.idle": "2023-08-15T07:34:19.673878Z",
          "shell.execute_reply": "2023-08-15T07:34:19.673558Z",
          "shell.execute_reply.started": "2023-08-15T07:34:19.673517Z"
        },
        "tags": [],
        "id": "cab7e1db-329c-4be7-9760-471d0e9916a6"
      },
      "outputs": [],
      "source": [
        "g = graphistry.nodes(cudf.from_pandas(askHN))\n",
        "pr = cProfile.Profile()\n",
        "pr.enable()\n",
        "\n",
        "g1 = g.featurize(feature_engine='cu_cat',memoize=False,remove_node_column=False)\n",
        "# g1a = g1.umap(engine='cuml')\n",
        "\n",
        "pr.disable()\n",
        "stats = Stats(pr)\n",
        "stats.sort_stats('tottime').print_stats(20)\n",
        "\n",
        "with open('aHN_umap_cudf-cu_cat_3k.txt', 'w') as stream:\n",
        "    stats = Stats(pr,stream=stream)\n",
        "    stats.sort_stats('tottime').print_stats(20)"
      ]
    },
    {
      "cell_type": "code",
      "execution_count": null,
      "id": "353f72e4-2119-4546-9dcb-45647881ab2d",
      "metadata": {
        "execution": {
          "iopub.status.busy": "2023-08-15T07:34:19.675374Z",
          "iopub.status.idle": "2023-08-15T07:34:19.676095Z",
          "shell.execute_reply": "2023-08-15T07:34:19.675777Z",
          "shell.execute_reply.started": "2023-08-15T07:34:19.675739Z"
        },
        "tags": [],
        "id": "353f72e4-2119-4546-9dcb-45647881ab2d"
      },
      "outputs": [],
      "source": [
        "g = graphistry.nodes(askHN)\n",
        "pr = cProfile.Profile()\n",
        "pr.enable()\n",
        "\n",
        "g2 = g.featurize(feature_engine='cu_cat',memoize=False,remove_node_column=False)\n",
        "# g2a = g2.umap(engine='cuml')#,feature_engine='cu_cat',memoize=False)\n",
        "\n",
        "pr.disable()\n",
        "stats = Stats(pr)\n",
        "stats.sort_stats('tottime').print_stats(20)\n",
        "\n",
        "with open('aHN_umap_cu_cat_3k.txt', 'w') as stream:\n",
        "    stats = Stats(pr,stream=stream)\n",
        "    stats.sort_stats('tottime').print_stats(20)"
      ]
    },
    {
      "cell_type": "code",
      "execution_count": null,
      "id": "505ed578-f056-4d53-9feb-514f07aa0ca3",
      "metadata": {
        "execution": {
          "iopub.status.busy": "2023-08-15T07:34:19.677859Z",
          "iopub.status.idle": "2023-08-15T07:34:19.678608Z",
          "shell.execute_reply": "2023-08-15T07:34:19.678368Z",
          "shell.execute_reply.started": "2023-08-15T07:34:19.678338Z"
        },
        "tags": [],
        "id": "505ed578-f056-4d53-9feb-514f07aa0ca3"
      },
      "outputs": [],
      "source": [
        "g = graphistry.nodes(askHN)\n",
        "pr = cProfile.Profile()\n",
        "pr.enable()\n",
        "\n",
        "\n",
        "g3 = g.featurize(feature_engine='dirty_cat',memoize=False,remove_node_column=False)\n",
        "# g3a = g3.umap(engine='cuml')#,feature_engine='cu_cat',memoize=False)\n",
        "\n",
        "pr.disable()\n",
        "stats = Stats(pr)\n",
        "stats.sort_stats('tottime').print_stats(20)\n",
        "\n",
        "with open('aHN_umap_dirtycat_3k.txt', 'w') as stream:\n",
        "    stats = Stats(pr,stream=stream)\n",
        "    stats.sort_stats('tottime').print_stats(20)"
      ]
    },
    {
      "cell_type": "code",
      "execution_count": null,
      "id": "a5599817-e773-4369-9049-ea7fc4d7cfa6",
      "metadata": {
        "execution": {
          "iopub.status.busy": "2023-08-15T07:34:19.679850Z",
          "iopub.status.idle": "2023-08-15T07:34:19.680612Z",
          "shell.execute_reply": "2023-08-15T07:34:19.680408Z",
          "shell.execute_reply.started": "2023-08-15T07:34:19.680382Z"
        },
        "tags": [],
        "id": "a5599817-e773-4369-9049-ea7fc4d7cfa6"
      },
      "outputs": [],
      "source": [
        "# g1a.plot()"
      ]
    },
    {
      "cell_type": "code",
      "execution_count": null,
      "id": "e6d6b656-ef14-4e9c-8032-d8f551e04438",
      "metadata": {
        "execution": {
          "iopub.status.busy": "2023-08-15T07:34:19.681731Z",
          "iopub.status.idle": "2023-08-15T07:34:19.682423Z",
          "shell.execute_reply": "2023-08-15T07:34:19.682226Z",
          "shell.execute_reply.started": "2023-08-15T07:34:19.682201Z"
        },
        "tags": [],
        "id": "e6d6b656-ef14-4e9c-8032-d8f551e04438"
      },
      "outputs": [],
      "source": [
        "# g1b.plot()"
      ]
    },
    {
      "cell_type": "code",
      "execution_count": null,
      "id": "a8f1d082-2e6c-4ff8-89ce-68744323106f",
      "metadata": {
        "execution": {
          "iopub.execute_input": "2023-08-15T07:33:45.627590Z",
          "iopub.status.busy": "2023-08-15T07:33:45.627137Z",
          "iopub.status.idle": "2023-08-15T07:33:49.031826Z",
          "shell.execute_reply": "2023-08-15T07:33:49.030995Z",
          "shell.execute_reply.started": "2023-08-15T07:33:45.627553Z"
        },
        "tags": [],
        "id": "a8f1d082-2e6c-4ff8-89ce-68744323106f"
      },
      "outputs": [],
      "source": [
        "winlogs=pd.read_parquet('~/notebooks/daniel/part.88 (1).parquet')\n",
        "n=100000\n",
        "winlogs=winlogs.sample(n,replace=False).iloc[:,:10]"
      ]
    },
    {
      "cell_type": "code",
      "execution_count": null,
      "id": "19f2bbfd-602b-46cf-bdf3-0f99ea7f84ac",
      "metadata": {
        "execution": {
          "iopub.execute_input": "2023-08-15T07:33:49.033447Z",
          "iopub.status.busy": "2023-08-15T07:33:49.033059Z",
          "iopub.status.idle": "2023-08-15T07:34:19.650108Z",
          "shell.execute_reply": "2023-08-15T07:34:19.647445Z",
          "shell.execute_reply.started": "2023-08-15T07:33:49.033410Z"
        },
        "tags": [],
        "id": "19f2bbfd-602b-46cf-bdf3-0f99ea7f84ac",
        "outputId": "cab05f34-585d-4c2a-af28-73b4e05c3c3a"
      },
      "outputs": [
        {
          "ename": "MemoryError",
          "evalue": "std::bad_alloc: out_of_memory: CUDA error at: /opt/conda/envs/rapids/include/rmm/mr/device/cuda_memory_resource.hpp",
          "output_type": "error",
          "traceback": [
            "\u001b[0;31m---------------------------------------------------------------------------\u001b[0m",
            "\u001b[0;31mMemoryError\u001b[0m                               Traceback (most recent call last)",
            "Cell \u001b[0;32mIn[11], line 5\u001b[0m\n\u001b[1;32m      2\u001b[0m pr \u001b[38;5;241m=\u001b[39m cProfile\u001b[38;5;241m.\u001b[39mProfile()\n\u001b[1;32m      3\u001b[0m pr\u001b[38;5;241m.\u001b[39menable()\n\u001b[0;32m----> 5\u001b[0m g4a \u001b[38;5;241m=\u001b[39m \u001b[43mg\u001b[49m\u001b[38;5;241;43m.\u001b[39;49m\u001b[43mfeaturize\u001b[49m\u001b[43m(\u001b[49m\u001b[43mfeature_engine\u001b[49m\u001b[38;5;241;43m=\u001b[39;49m\u001b[38;5;124;43m'\u001b[39;49m\u001b[38;5;124;43mcu_cat\u001b[39;49m\u001b[38;5;124;43m'\u001b[39;49m\u001b[43m,\u001b[49m\u001b[43mmemoize\u001b[49m\u001b[38;5;241;43m=\u001b[39;49m\u001b[38;5;28;43;01mFalse\u001b[39;49;00m\u001b[43m,\u001b[49m\u001b[43mremove_node_column\u001b[49m\u001b[38;5;241;43m=\u001b[39;49m\u001b[38;5;28;43;01mFalse\u001b[39;49;00m\u001b[43m)\u001b[49m\n\u001b[1;32m      6\u001b[0m \u001b[38;5;66;03m# g4b = g.umap(umap_engine='cuml',feature_engine='cu_cat',memoize=False,remove_node_column=False)\u001b[39;00m\n\u001b[1;32m      8\u001b[0m pr\u001b[38;5;241m.\u001b[39mdisable()\n",
            "File \u001b[0;32m~/notebooks/daniel/pygraphistry/graphistry/feature_utils.py:2628\u001b[0m, in \u001b[0;36mFeatureMixin.featurize\u001b[0;34m(self, kind, X, y, use_scaler, use_scaler_target, cardinality_threshold, cardinality_threshold_target, n_topics, n_topics_target, multilabel, embedding, use_ngrams, ngram_range, max_df, min_df, min_words, model_name, impute, n_quantiles, output_distribution, quantile_range, n_bins, encode, strategy, similarity, categories, keep_n_decimals, remove_node_column, inplace, feature_engine, engine, dbscan, min_dist, min_samples, memoize, verbose)\u001b[0m\n\u001b[1;32m   2624\u001b[0m     res \u001b[38;5;241m=\u001b[39m \u001b[38;5;28mself\u001b[39m\u001b[38;5;241m.\u001b[39mbind()\n\u001b[1;32m   2627\u001b[0m \u001b[38;5;28;01mif\u001b[39;00m kind \u001b[38;5;241m==\u001b[39m \u001b[38;5;124m\"\u001b[39m\u001b[38;5;124mnodes\u001b[39m\u001b[38;5;124m\"\u001b[39m:\n\u001b[0;32m-> 2628\u001b[0m     res \u001b[38;5;241m=\u001b[39m \u001b[43mres\u001b[49m\u001b[38;5;241;43m.\u001b[39;49m\u001b[43m_featurize_nodes\u001b[49m\u001b[43m(\u001b[49m\n\u001b[1;32m   2629\u001b[0m \u001b[43m        \u001b[49m\u001b[43mX\u001b[49m\u001b[38;5;241;43m=\u001b[39;49m\u001b[43mX\u001b[49m\u001b[43m,\u001b[49m\n\u001b[1;32m   2630\u001b[0m \u001b[43m        \u001b[49m\u001b[43my\u001b[49m\u001b[38;5;241;43m=\u001b[39;49m\u001b[43my\u001b[49m\u001b[43m,\u001b[49m\n\u001b[1;32m   2631\u001b[0m \u001b[43m        \u001b[49m\u001b[43muse_scaler\u001b[49m\u001b[38;5;241;43m=\u001b[39;49m\u001b[43muse_scaler\u001b[49m\u001b[43m,\u001b[49m\n\u001b[1;32m   2632\u001b[0m \u001b[43m        \u001b[49m\u001b[43muse_scaler_target\u001b[49m\u001b[38;5;241;43m=\u001b[39;49m\u001b[43muse_scaler_target\u001b[49m\u001b[43m,\u001b[49m\n\u001b[1;32m   2633\u001b[0m \u001b[43m        \u001b[49m\u001b[43mcardinality_threshold\u001b[49m\u001b[38;5;241;43m=\u001b[39;49m\u001b[43mcardinality_threshold\u001b[49m\u001b[43m,\u001b[49m\n\u001b[1;32m   2634\u001b[0m \u001b[43m        \u001b[49m\u001b[43mcardinality_threshold_target\u001b[49m\u001b[38;5;241;43m=\u001b[39;49m\u001b[43mcardinality_threshold_target\u001b[49m\u001b[43m,\u001b[49m\n\u001b[1;32m   2635\u001b[0m \u001b[43m        \u001b[49m\u001b[43mn_topics\u001b[49m\u001b[38;5;241;43m=\u001b[39;49m\u001b[43mn_topics\u001b[49m\u001b[43m,\u001b[49m\n\u001b[1;32m   2636\u001b[0m \u001b[43m        \u001b[49m\u001b[43mn_topics_target\u001b[49m\u001b[38;5;241;43m=\u001b[39;49m\u001b[43mn_topics_target\u001b[49m\u001b[43m,\u001b[49m\n\u001b[1;32m   2637\u001b[0m \u001b[43m        \u001b[49m\u001b[43mmultilabel\u001b[49m\u001b[38;5;241;43m=\u001b[39;49m\u001b[43mmultilabel\u001b[49m\u001b[43m,\u001b[49m\n\u001b[1;32m   2638\u001b[0m \u001b[43m        \u001b[49m\u001b[43membedding\u001b[49m\u001b[38;5;241;43m=\u001b[39;49m\u001b[43membedding\u001b[49m\u001b[43m,\u001b[49m\n\u001b[1;32m   2639\u001b[0m \u001b[43m        \u001b[49m\u001b[43muse_ngrams\u001b[49m\u001b[38;5;241;43m=\u001b[39;49m\u001b[43muse_ngrams\u001b[49m\u001b[43m,\u001b[49m\n\u001b[1;32m   2640\u001b[0m \u001b[43m        \u001b[49m\u001b[43mngram_range\u001b[49m\u001b[38;5;241;43m=\u001b[39;49m\u001b[43mngram_range\u001b[49m\u001b[43m,\u001b[49m\n\u001b[1;32m   2641\u001b[0m \u001b[43m        \u001b[49m\u001b[43mmax_df\u001b[49m\u001b[38;5;241;43m=\u001b[39;49m\u001b[43mmax_df\u001b[49m\u001b[43m,\u001b[49m\n\u001b[1;32m   2642\u001b[0m \u001b[43m        \u001b[49m\u001b[43mmin_df\u001b[49m\u001b[38;5;241;43m=\u001b[39;49m\u001b[43mmin_df\u001b[49m\u001b[43m,\u001b[49m\n\u001b[1;32m   2643\u001b[0m \u001b[43m        \u001b[49m\u001b[43mmin_words\u001b[49m\u001b[38;5;241;43m=\u001b[39;49m\u001b[43mmin_words\u001b[49m\u001b[43m,\u001b[49m\n\u001b[1;32m   2644\u001b[0m \u001b[43m        \u001b[49m\u001b[43mmodel_name\u001b[49m\u001b[38;5;241;43m=\u001b[39;49m\u001b[43mmodel_name\u001b[49m\u001b[43m,\u001b[49m\n\u001b[1;32m   2645\u001b[0m \u001b[43m        \u001b[49m\u001b[43msimilarity\u001b[49m\u001b[38;5;241;43m=\u001b[39;49m\u001b[43msimilarity\u001b[49m\u001b[43m,\u001b[49m\u001b[43m  \u001b[49m\n\u001b[1;32m   2646\u001b[0m \u001b[43m        \u001b[49m\u001b[43mcategories\u001b[49m\u001b[38;5;241;43m=\u001b[39;49m\u001b[43mcategories\u001b[49m\u001b[43m,\u001b[49m\n\u001b[1;32m   2647\u001b[0m \u001b[43m        \u001b[49m\u001b[43mimpute\u001b[49m\u001b[38;5;241;43m=\u001b[39;49m\u001b[43mimpute\u001b[49m\u001b[43m,\u001b[49m\n\u001b[1;32m   2648\u001b[0m \u001b[43m        \u001b[49m\u001b[43mn_quantiles\u001b[49m\u001b[38;5;241;43m=\u001b[39;49m\u001b[43mn_quantiles\u001b[49m\u001b[43m,\u001b[49m\n\u001b[1;32m   2649\u001b[0m \u001b[43m        \u001b[49m\u001b[43mquantile_range\u001b[49m\u001b[38;5;241;43m=\u001b[39;49m\u001b[43mquantile_range\u001b[49m\u001b[43m,\u001b[49m\n\u001b[1;32m   2650\u001b[0m \u001b[43m        \u001b[49m\u001b[43moutput_distribution\u001b[49m\u001b[38;5;241;43m=\u001b[39;49m\u001b[43moutput_distribution\u001b[49m\u001b[43m,\u001b[49m\n\u001b[1;32m   2651\u001b[0m \u001b[43m        \u001b[49m\u001b[43mn_bins\u001b[49m\u001b[38;5;241;43m=\u001b[39;49m\u001b[43mn_bins\u001b[49m\u001b[43m,\u001b[49m\n\u001b[1;32m   2652\u001b[0m \u001b[43m        \u001b[49m\u001b[43mencode\u001b[49m\u001b[38;5;241;43m=\u001b[39;49m\u001b[43mencode\u001b[49m\u001b[43m,\u001b[49m\n\u001b[1;32m   2653\u001b[0m \u001b[43m        \u001b[49m\u001b[43mstrategy\u001b[49m\u001b[38;5;241;43m=\u001b[39;49m\u001b[43mstrategy\u001b[49m\u001b[43m,\u001b[49m\n\u001b[1;32m   2654\u001b[0m \u001b[43m        \u001b[49m\u001b[43mkeep_n_decimals\u001b[49m\u001b[38;5;241;43m=\u001b[39;49m\u001b[43mkeep_n_decimals\u001b[49m\u001b[43m,\u001b[49m\n\u001b[1;32m   2655\u001b[0m \u001b[43m        \u001b[49m\u001b[43mremove_node_column\u001b[49m\u001b[38;5;241;43m=\u001b[39;49m\u001b[43mremove_node_column\u001b[49m\u001b[43m,\u001b[49m\n\u001b[1;32m   2656\u001b[0m \u001b[43m        \u001b[49m\u001b[43mfeature_engine\u001b[49m\u001b[38;5;241;43m=\u001b[39;49m\u001b[43mfeature_engine\u001b[49m\u001b[43m,\u001b[49m\n\u001b[1;32m   2657\u001b[0m \u001b[43m        \u001b[49m\u001b[43mmemoize\u001b[49m\u001b[38;5;241;43m=\u001b[39;49m\u001b[43mmemoize\u001b[49m\u001b[43m,\u001b[49m\n\u001b[1;32m   2658\u001b[0m \u001b[43m        \u001b[49m\u001b[43mverbose\u001b[49m\u001b[38;5;241;43m=\u001b[39;49m\u001b[43mverbose\u001b[49m\n\u001b[1;32m   2659\u001b[0m \u001b[43m    \u001b[49m\u001b[43m)\u001b[49m\n\u001b[1;32m   2660\u001b[0m \u001b[38;5;28;01melif\u001b[39;00m kind \u001b[38;5;241m==\u001b[39m \u001b[38;5;124m\"\u001b[39m\u001b[38;5;124medges\u001b[39m\u001b[38;5;124m\"\u001b[39m:\n\u001b[1;32m   2661\u001b[0m     res \u001b[38;5;241m=\u001b[39m res\u001b[38;5;241m.\u001b[39m_featurize_edges(\n\u001b[1;32m   2662\u001b[0m         X\u001b[38;5;241m=\u001b[39mX,\n\u001b[1;32m   2663\u001b[0m         y\u001b[38;5;241m=\u001b[39my,\n\u001b[0;32m   (...)\u001b[0m\n\u001b[1;32m   2689\u001b[0m         verbose\u001b[38;5;241m=\u001b[39mverbose\n\u001b[1;32m   2690\u001b[0m     )\n",
            "File \u001b[0;32m~/notebooks/daniel/pygraphistry/graphistry/feature_utils.py:2135\u001b[0m, in \u001b[0;36mFeatureMixin._featurize_nodes\u001b[0;34m(self, X, y, use_scaler, use_scaler_target, cardinality_threshold, cardinality_threshold_target, n_topics, n_topics_target, multilabel, embedding, use_ngrams, ngram_range, max_df, min_df, min_words, model_name, similarity, categories, impute, n_quantiles, output_distribution, quantile_range, n_bins, encode, strategy, keep_n_decimals, remove_node_column, feature_engine, memoize, verbose)\u001b[0m\n\u001b[1;32m   2133\u001b[0m \u001b[38;5;66;03m# ############################################################\u001b[39;00m\n\u001b[1;32m   2134\u001b[0m encoder \u001b[38;5;241m=\u001b[39m FastEncoder(X_resolved, y_resolved, kind\u001b[38;5;241m=\u001b[39m\u001b[38;5;124m\"\u001b[39m\u001b[38;5;124mnodes\u001b[39m\u001b[38;5;124m\"\u001b[39m)\n\u001b[0;32m-> 2135\u001b[0m \u001b[43mencoder\u001b[49m\u001b[38;5;241;43m.\u001b[39;49m\u001b[43mfit\u001b[49m\u001b[43m(\u001b[49m\u001b[38;5;241;43m*\u001b[39;49m\u001b[38;5;241;43m*\u001b[39;49m\u001b[43mnfkwargs\u001b[49m\u001b[43m)\u001b[49m\n\u001b[1;32m   2136\u001b[0m \u001b[38;5;66;03m# ###########################################################\u001b[39;00m\n\u001b[1;32m   2137\u001b[0m \n\u001b[1;32m   2138\u001b[0m \u001b[38;5;66;03m# if changing, also update fresh_res\u001b[39;00m\n\u001b[1;32m   2139\u001b[0m res\u001b[38;5;241m.\u001b[39m_node_features \u001b[38;5;241m=\u001b[39m encoder\u001b[38;5;241m.\u001b[39mX\n",
            "File \u001b[0;32m~/notebooks/daniel/pygraphistry/graphistry/feature_utils.py:1819\u001b[0m, in \u001b[0;36mFastEncoder.fit\u001b[0;34m(self, src, dst, *args, **kwargs)\u001b[0m\n\u001b[1;32m   1817\u001b[0m \u001b[38;5;28mself\u001b[39m\u001b[38;5;241m.\u001b[39msrc \u001b[38;5;241m=\u001b[39m src\n\u001b[1;32m   1818\u001b[0m \u001b[38;5;28mself\u001b[39m\u001b[38;5;241m.\u001b[39mdst \u001b[38;5;241m=\u001b[39m dst\n\u001b[0;32m-> 1819\u001b[0m res \u001b[38;5;241m=\u001b[39m \u001b[38;5;28;43mself\u001b[39;49m\u001b[38;5;241;43m.\u001b[39;49m\u001b[43m_encode\u001b[49m\u001b[43m(\u001b[49m\n\u001b[1;32m   1820\u001b[0m \u001b[43m    \u001b[49m\u001b[38;5;28;43mself\u001b[39;49m\u001b[38;5;241;43m.\u001b[39;49m\u001b[43m_df\u001b[49m\u001b[43m,\u001b[49m\u001b[43m \u001b[49m\u001b[38;5;28;43mself\u001b[39;49m\u001b[38;5;241;43m.\u001b[39;49m\u001b[43m_y\u001b[49m\u001b[43m,\u001b[49m\u001b[43m \u001b[49m\u001b[38;5;28;43mself\u001b[39;49m\u001b[38;5;241;43m.\u001b[39;49m\u001b[43mkind\u001b[49m\u001b[43m,\u001b[49m\u001b[43m \u001b[49m\u001b[43msrc\u001b[49m\u001b[43m,\u001b[49m\u001b[43m \u001b[49m\u001b[43mdst\u001b[49m\u001b[43m,\u001b[49m\u001b[43m \u001b[49m\u001b[38;5;241;43m*\u001b[39;49m\u001b[43margs\u001b[49m\u001b[43m,\u001b[49m\u001b[43m \u001b[49m\u001b[38;5;241;43m*\u001b[39;49m\u001b[38;5;241;43m*\u001b[39;49m\u001b[43mkwargs\u001b[49m\n\u001b[1;32m   1821\u001b[0m \u001b[43m\u001b[49m\u001b[43m)\u001b[49m\n\u001b[1;32m   1822\u001b[0m \u001b[38;5;28mself\u001b[39m\u001b[38;5;241m.\u001b[39m_set_result(res)\n",
            "File \u001b[0;32m~/notebooks/daniel/pygraphistry/graphistry/feature_utils.py:1762\u001b[0m, in \u001b[0;36mFastEncoder._encode\u001b[0;34m(self, df, y, kind, src, dst, *args, **kwargs)\u001b[0m\n\u001b[1;32m   1760\u001b[0m \u001b[38;5;28;01mdef\u001b[39;00m \u001b[38;5;21m_encode\u001b[39m(\u001b[38;5;28mself\u001b[39m, df, y, kind, src, dst, \u001b[38;5;241m*\u001b[39margs, \u001b[38;5;241m*\u001b[39m\u001b[38;5;241m*\u001b[39mkwargs):\n\u001b[1;32m   1761\u001b[0m     \u001b[38;5;28;01mif\u001b[39;00m kind \u001b[38;5;241m==\u001b[39m \u001b[38;5;124m\"\u001b[39m\u001b[38;5;124mnodes\u001b[39m\u001b[38;5;124m\"\u001b[39m:\n\u001b[0;32m-> 1762\u001b[0m         res \u001b[38;5;241m=\u001b[39m \u001b[43mprocess_nodes_dataframes\u001b[49m\u001b[43m(\u001b[49m\u001b[43mdf\u001b[49m\u001b[43m,\u001b[49m\u001b[43m \u001b[49m\u001b[43my\u001b[49m\u001b[43m,\u001b[49m\u001b[43m \u001b[49m\u001b[38;5;241;43m*\u001b[39;49m\u001b[43margs\u001b[49m\u001b[43m,\u001b[49m\u001b[43m \u001b[49m\u001b[38;5;241;43m*\u001b[39;49m\u001b[38;5;241;43m*\u001b[39;49m\u001b[43mkwargs\u001b[49m\u001b[43m)\u001b[49m\n\u001b[1;32m   1763\u001b[0m     \u001b[38;5;28;01melif\u001b[39;00m kind \u001b[38;5;241m==\u001b[39m \u001b[38;5;124m\"\u001b[39m\u001b[38;5;124medges\u001b[39m\u001b[38;5;124m\"\u001b[39m:\n\u001b[1;32m   1764\u001b[0m         res \u001b[38;5;241m=\u001b[39m process_edge_dataframes(\n\u001b[1;32m   1765\u001b[0m             df, y, src\u001b[38;5;241m=\u001b[39msrc, dst\u001b[38;5;241m=\u001b[39mdst, \u001b[38;5;241m*\u001b[39margs, \u001b[38;5;241m*\u001b[39m\u001b[38;5;241m*\u001b[39mkwargs\n\u001b[1;32m   1766\u001b[0m         )\n",
            "File \u001b[0;32m~/notebooks/daniel/pygraphistry/graphistry/feature_utils.py:1210\u001b[0m, in \u001b[0;36mprocess_nodes_dataframes\u001b[0;34m(df, y, cardinality_threshold, cardinality_threshold_target, n_topics, n_topics_target, use_scaler, use_scaler_target, multilabel, embedding, use_ngrams, ngram_range, max_df, min_df, min_words, model_name, similarity, categories, impute, n_quantiles, output_distribution, quantile_range, n_bins, encode, strategy, keep_n_decimals, feature_engine)\u001b[0m\n\u001b[1;32m   1203\u001b[0m     logger\u001b[38;5;241m.\u001b[39mdebug(\n\u001b[1;32m   1204\u001b[0m         \u001b[38;5;124m\"\u001b[39m\u001b[38;5;124m! Skipping encoding any textual features\u001b[39m\u001b[38;5;124m\"\u001b[39m\n\u001b[1;32m   1205\u001b[0m         \u001b[38;5;124mf\u001b[39m\u001b[38;5;124m\"\u001b[39m\u001b[38;5;124msince dependency \u001b[39m\u001b[38;5;132;01m{\u001b[39;00mimport_text_exn\u001b[38;5;132;01m}\u001b[39;00m\u001b[38;5;124m is not met\u001b[39m\u001b[38;5;124m\"\u001b[39m\n\u001b[1;32m   1206\u001b[0m     )\n\u001b[1;32m   1208\u001b[0m other_df \u001b[38;5;241m=\u001b[39m df\u001b[38;5;241m.\u001b[39mdrop(columns\u001b[38;5;241m=\u001b[39mtext_cols, errors\u001b[38;5;241m=\u001b[39m\u001b[38;5;124m\"\u001b[39m\u001b[38;5;124mignore\u001b[39m\u001b[38;5;124m\"\u001b[39m)  \u001b[38;5;66;03m# type: ignore\u001b[39;00m\n\u001b[0;32m-> 1210\u001b[0m X_enc, y_enc, data_encoder, label_encoder \u001b[38;5;241m=\u001b[39m \u001b[43mprocess_dirty_dataframes\u001b[49m\u001b[43m(\u001b[49m\n\u001b[1;32m   1211\u001b[0m \u001b[43m    \u001b[49m\u001b[43mother_df\u001b[49m\u001b[43m,\u001b[49m\n\u001b[1;32m   1212\u001b[0m \u001b[43m    \u001b[49m\u001b[43my\u001b[49m\u001b[43m,\u001b[49m\n\u001b[1;32m   1213\u001b[0m \u001b[43m    \u001b[49m\u001b[43mcardinality_threshold\u001b[49m\u001b[38;5;241;43m=\u001b[39;49m\u001b[43mcardinality_threshold\u001b[49m\u001b[43m,\u001b[49m\n\u001b[1;32m   1214\u001b[0m \u001b[43m    \u001b[49m\u001b[43mcardinality_threshold_target\u001b[49m\u001b[38;5;241;43m=\u001b[39;49m\u001b[43mcardinality_threshold_target\u001b[49m\u001b[43m,\u001b[49m\n\u001b[1;32m   1215\u001b[0m \u001b[43m    \u001b[49m\u001b[43mn_topics\u001b[49m\u001b[38;5;241;43m=\u001b[39;49m\u001b[43mn_topics\u001b[49m\u001b[43m,\u001b[49m\n\u001b[1;32m   1216\u001b[0m \u001b[43m    \u001b[49m\u001b[43mn_topics_target\u001b[49m\u001b[38;5;241;43m=\u001b[39;49m\u001b[43mn_topics_target\u001b[49m\u001b[43m,\u001b[49m\n\u001b[1;32m   1217\u001b[0m \u001b[43m    \u001b[49m\u001b[43msimilarity\u001b[49m\u001b[38;5;241;43m=\u001b[39;49m\u001b[43msimilarity\u001b[49m\u001b[43m,\u001b[49m\n\u001b[1;32m   1218\u001b[0m \u001b[43m    \u001b[49m\u001b[43mcategories\u001b[49m\u001b[38;5;241;43m=\u001b[39;49m\u001b[43mcategories\u001b[49m\u001b[43m,\u001b[49m\n\u001b[1;32m   1219\u001b[0m \u001b[43m    \u001b[49m\u001b[43mmultilabel\u001b[49m\u001b[38;5;241;43m=\u001b[39;49m\u001b[43mmultilabel\u001b[49m\u001b[43m,\u001b[49m\n\u001b[1;32m   1220\u001b[0m \u001b[43m    \u001b[49m\u001b[43mfeature_engine\u001b[49m\u001b[38;5;241;43m=\u001b[39;49m\u001b[43mfeature_engine\u001b[49m\u001b[43m,\u001b[49m\n\u001b[1;32m   1221\u001b[0m \u001b[43m\u001b[49m\u001b[43m)\u001b[49m\n\u001b[1;32m   1223\u001b[0m \u001b[38;5;28;01mif\u001b[39;00m embedding:\n\u001b[1;32m   1224\u001b[0m     data_encoder \u001b[38;5;241m=\u001b[39m Embedding(df)\n",
            "File \u001b[0;32m~/notebooks/daniel/pygraphistry/graphistry/feature_utils.py:980\u001b[0m, in \u001b[0;36mprocess_dirty_dataframes\u001b[0;34m(ndf, y, cardinality_threshold, cardinality_threshold_target, n_topics, n_topics_target, similarity, categories, multilabel, feature_engine)\u001b[0m\n\u001b[1;32m    968\u001b[0m data_encoder \u001b[38;5;241m=\u001b[39m SuperVectorizer(\n\u001b[1;32m    969\u001b[0m     auto_cast\u001b[38;5;241m=\u001b[39m\u001b[38;5;28;01mTrue\u001b[39;00m,\n\u001b[1;32m    970\u001b[0m     cardinality_threshold\u001b[38;5;241m=\u001b[39mcardinality_threshold,\n\u001b[0;32m   (...)\u001b[0m\n\u001b[1;32m    975\u001b[0m     \u001b[38;5;66;03m#  does not provide get_feature_names.\u001b[39;00m\n\u001b[1;32m    976\u001b[0m )\n\u001b[1;32m    978\u001b[0m logger\u001b[38;5;241m.\u001b[39minfo(\u001b[38;5;124m\"\u001b[39m\u001b[38;5;124m:: Encoding DataFrame might take a few minutes ------\u001b[39m\u001b[38;5;124m\"\u001b[39m)\n\u001b[0;32m--> 980\u001b[0m X_enc \u001b[38;5;241m=\u001b[39m \u001b[43mdata_encoder\u001b[49m\u001b[38;5;241;43m.\u001b[39;49m\u001b[43mfit_transform\u001b[49m\u001b[43m(\u001b[49m\u001b[43mndf\u001b[49m\u001b[43m,\u001b[49m\u001b[43m \u001b[49m\u001b[43my\u001b[49m\u001b[43m)\u001b[49m\n\u001b[1;32m    981\u001b[0m X_enc \u001b[38;5;241m=\u001b[39m make_array(X_enc)\n\u001b[1;32m    983\u001b[0m \u001b[38;5;28;01mimport\u001b[39;00m \u001b[38;5;21;01mwarnings\u001b[39;00m\n",
            "File \u001b[0;32m/opt/conda/envs/rapids/lib/python3.8/site-packages/cuml/internals/api_decorators.py:192\u001b[0m, in \u001b[0;36m_make_decorator_function.<locals>.decorator_function.<locals>.decorator_closure.<locals>.wrapper\u001b[0;34m(*args, **kwargs)\u001b[0m\n\u001b[1;32m    190\u001b[0m         ret \u001b[38;5;241m=\u001b[39m func(\u001b[38;5;241m*\u001b[39margs, \u001b[38;5;241m*\u001b[39m\u001b[38;5;241m*\u001b[39mkwargs)\n\u001b[1;32m    191\u001b[0m     \u001b[38;5;28;01melse\u001b[39;00m:\n\u001b[0;32m--> 192\u001b[0m         \u001b[38;5;28;01mreturn\u001b[39;00m \u001b[43mfunc\u001b[49m\u001b[43m(\u001b[49m\u001b[38;5;241;43m*\u001b[39;49m\u001b[43margs\u001b[49m\u001b[43m,\u001b[49m\u001b[43m \u001b[49m\u001b[38;5;241;43m*\u001b[39;49m\u001b[38;5;241;43m*\u001b[39;49m\u001b[43mkwargs\u001b[49m\u001b[43m)\u001b[49m\n\u001b[1;32m    194\u001b[0m \u001b[38;5;28;01mreturn\u001b[39;00m cm\u001b[38;5;241m.\u001b[39mprocess_return(ret)\n",
            "File \u001b[0;32m~/notebooks/daniel/cu-cat/cu_cat/_table_vectorizer.py:653\u001b[0m, in \u001b[0;36mTableVectorizer.fit_transform\u001b[0;34m(self, X, y)\u001b[0m\n\u001b[1;32m    651\u001b[0m     X\u001b[38;5;241m=\u001b[39mcudf\u001b[38;5;241m.\u001b[39mfrom_pandas(X)\u001b[38;5;66;03m#,nan_as_null=True) ### see how flag acts\u001b[39;00m\n\u001b[1;32m    652\u001b[0m X \u001b[38;5;241m=\u001b[39m X\u001b[38;5;241m.\u001b[39mfillna(\u001b[38;5;241m0\u001b[39m)\n\u001b[0;32m--> 653\u001b[0m X_enc \u001b[38;5;241m=\u001b[39m \u001b[38;5;28;43msuper\u001b[39;49m\u001b[43m(\u001b[49m\u001b[43m)\u001b[49m\u001b[38;5;241;43m.\u001b[39;49m\u001b[43mfit_transform\u001b[49m\u001b[43m(\u001b[49m\u001b[43mX\u001b[49m\u001b[43m,\u001b[49m\u001b[43m \u001b[49m\u001b[43my\u001b[49m\u001b[43m)\u001b[49m\n\u001b[1;32m    655\u001b[0m X_enc \u001b[38;5;241m=\u001b[39m cudf\u001b[38;5;241m.\u001b[39mDataFrame(X_enc) \u001b[38;5;66;03m#from cuml.arraydata\u001b[39;00m\n\u001b[1;32m    656\u001b[0m \u001b[38;5;66;03m# print(str(getmodule(X_enc)))\u001b[39;00m\n\u001b[1;32m    657\u001b[0m \u001b[38;5;66;03m# X_enc.columns = X_enc.columns.astype('str')\u001b[39;00m\n\u001b[1;32m    658\u001b[0m \u001b[38;5;66;03m# X_enc = X_enc.to_arrow()\u001b[39;00m\n\u001b[0;32m   (...)\u001b[0m\n\u001b[1;32m    664\u001b[0m \u001b[38;5;66;03m# so we convert the values to the appropriate column names\u001b[39;00m\n\u001b[1;32m    665\u001b[0m \u001b[38;5;66;03m# if there is less than 20 columns in the remainder.\u001b[39;00m\n",
            "File \u001b[0;32m/opt/conda/envs/rapids/lib/python3.8/site-packages/cuml/internals/api_decorators.py:190\u001b[0m, in \u001b[0;36m_make_decorator_function.<locals>.decorator_function.<locals>.decorator_closure.<locals>.wrapper\u001b[0;34m(*args, **kwargs)\u001b[0m\n\u001b[1;32m    187\u001b[0m     set_api_output_dtype(output_dtype)\n\u001b[1;32m    189\u001b[0m \u001b[38;5;28;01mif\u001b[39;00m process_return:\n\u001b[0;32m--> 190\u001b[0m     ret \u001b[38;5;241m=\u001b[39m \u001b[43mfunc\u001b[49m\u001b[43m(\u001b[49m\u001b[38;5;241;43m*\u001b[39;49m\u001b[43margs\u001b[49m\u001b[43m,\u001b[49m\u001b[43m \u001b[49m\u001b[38;5;241;43m*\u001b[39;49m\u001b[38;5;241;43m*\u001b[39;49m\u001b[43mkwargs\u001b[49m\u001b[43m)\u001b[49m\n\u001b[1;32m    191\u001b[0m \u001b[38;5;28;01melse\u001b[39;00m:\n\u001b[1;32m    192\u001b[0m     \u001b[38;5;28;01mreturn\u001b[39;00m func(\u001b[38;5;241m*\u001b[39margs, \u001b[38;5;241m*\u001b[39m\u001b[38;5;241m*\u001b[39mkwargs)\n",
            "File \u001b[0;32m/opt/conda/envs/rapids/lib/python3.8/site-packages/cuml/_thirdparty/sklearn/preprocessing/_column_transformer.py:894\u001b[0m, in \u001b[0;36mColumnTransformer.fit_transform\u001b[0;34m(self, X, y)\u001b[0m\n\u001b[1;32m    891\u001b[0m \u001b[38;5;28mself\u001b[39m\u001b[38;5;241m.\u001b[39m_validate_column_callables(X)\n\u001b[1;32m    892\u001b[0m \u001b[38;5;28mself\u001b[39m\u001b[38;5;241m.\u001b[39m_validate_remainder(X)\n\u001b[0;32m--> 894\u001b[0m result \u001b[38;5;241m=\u001b[39m \u001b[38;5;28;43mself\u001b[39;49m\u001b[38;5;241;43m.\u001b[39;49m\u001b[43m_fit_transform\u001b[49m\u001b[43m(\u001b[49m\u001b[43mX\u001b[49m\u001b[43m,\u001b[49m\u001b[43m \u001b[49m\u001b[43my\u001b[49m\u001b[43m,\u001b[49m\u001b[43m \u001b[49m\u001b[43m_fit_transform_one\u001b[49m\u001b[43m)\u001b[49m\n\u001b[1;32m    896\u001b[0m \u001b[38;5;28;01mif\u001b[39;00m \u001b[38;5;129;01mnot\u001b[39;00m result:\n\u001b[1;32m    897\u001b[0m     \u001b[38;5;28mself\u001b[39m\u001b[38;5;241m.\u001b[39m_update_fitted_transformers([])\n",
            "File \u001b[0;32m/opt/conda/envs/rapids/lib/python3.8/site-packages/cuml/_thirdparty/sklearn/preprocessing/_column_transformer.py:822\u001b[0m, in \u001b[0;36mColumnTransformer._fit_transform\u001b[0;34m(self, X, y, func, fitted)\u001b[0m\n\u001b[1;32m    819\u001b[0m transformers \u001b[38;5;241m=\u001b[39m \u001b[38;5;28mlist\u001b[39m(\n\u001b[1;32m    820\u001b[0m     \u001b[38;5;28mself\u001b[39m\u001b[38;5;241m.\u001b[39m_iter(fitted\u001b[38;5;241m=\u001b[39mfitted, replace_strings\u001b[38;5;241m=\u001b[39m\u001b[38;5;28;01mTrue\u001b[39;00m))\n\u001b[1;32m    821\u001b[0m \u001b[38;5;28;01mtry\u001b[39;00m:\n\u001b[0;32m--> 822\u001b[0m     \u001b[38;5;28;01mreturn\u001b[39;00m \u001b[43mParallel\u001b[49m\u001b[43m(\u001b[49m\u001b[43mn_jobs\u001b[49m\u001b[38;5;241;43m=\u001b[39;49m\u001b[38;5;28;43mself\u001b[39;49m\u001b[38;5;241;43m.\u001b[39;49m\u001b[43mn_jobs\u001b[49m\u001b[43m)\u001b[49m\u001b[43m(\u001b[49m\n\u001b[1;32m    823\u001b[0m \u001b[43m        \u001b[49m\u001b[43mdelayed\u001b[49m\u001b[43m(\u001b[49m\u001b[43mfunc\u001b[49m\u001b[43m)\u001b[49m\u001b[43m(\u001b[49m\n\u001b[1;32m    824\u001b[0m \u001b[43m            \u001b[49m\u001b[43mtransformer\u001b[49m\u001b[38;5;241;43m=\u001b[39;49m\u001b[43mclone\u001b[49m\u001b[43m(\u001b[49m\u001b[43mtrans\u001b[49m\u001b[43m)\u001b[49m\u001b[43m \u001b[49m\u001b[38;5;28;43;01mif\u001b[39;49;00m\u001b[43m \u001b[49m\u001b[38;5;129;43;01mnot\u001b[39;49;00m\u001b[43m \u001b[49m\u001b[43mfitted\u001b[49m\u001b[43m \u001b[49m\u001b[38;5;28;43;01melse\u001b[39;49;00m\u001b[43m \u001b[49m\u001b[43mtrans\u001b[49m\u001b[43m,\u001b[49m\n\u001b[1;32m    825\u001b[0m \u001b[43m            \u001b[49m\u001b[43mX\u001b[49m\u001b[38;5;241;43m=\u001b[39;49m\u001b[43m_safe_indexing\u001b[49m\u001b[43m(\u001b[49m\u001b[43mX\u001b[49m\u001b[43m,\u001b[49m\u001b[43m \u001b[49m\u001b[43mcolumn\u001b[49m\u001b[43m,\u001b[49m\u001b[43m \u001b[49m\u001b[43maxis\u001b[49m\u001b[38;5;241;43m=\u001b[39;49m\u001b[38;5;241;43m1\u001b[39;49m\u001b[43m)\u001b[49m\u001b[43m,\u001b[49m\n\u001b[1;32m    826\u001b[0m \u001b[43m            \u001b[49m\u001b[43my\u001b[49m\u001b[38;5;241;43m=\u001b[39;49m\u001b[43my\u001b[49m\u001b[43m,\u001b[49m\n\u001b[1;32m    827\u001b[0m \u001b[43m            \u001b[49m\u001b[43mweight\u001b[49m\u001b[38;5;241;43m=\u001b[39;49m\u001b[43mweight\u001b[49m\u001b[43m,\u001b[49m\n\u001b[1;32m    828\u001b[0m \u001b[43m            \u001b[49m\u001b[43mmessage_clsname\u001b[49m\u001b[38;5;241;43m=\u001b[39;49m\u001b[38;5;124;43m'\u001b[39;49m\u001b[38;5;124;43mColumnTransformer\u001b[39;49m\u001b[38;5;124;43m'\u001b[39;49m\u001b[43m,\u001b[49m\n\u001b[1;32m    829\u001b[0m \u001b[43m            \u001b[49m\u001b[43mmessage\u001b[49m\u001b[38;5;241;43m=\u001b[39;49m\u001b[38;5;28;43mself\u001b[39;49m\u001b[38;5;241;43m.\u001b[39;49m\u001b[43m_log_message\u001b[49m\u001b[43m(\u001b[49m\u001b[43mname\u001b[49m\u001b[43m,\u001b[49m\u001b[43m \u001b[49m\u001b[43midx\u001b[49m\u001b[43m,\u001b[49m\u001b[43m \u001b[49m\u001b[38;5;28;43mlen\u001b[39;49m\u001b[43m(\u001b[49m\u001b[43mtransformers\u001b[49m\u001b[43m)\u001b[49m\u001b[43m)\u001b[49m\u001b[43m)\u001b[49m\n\u001b[1;32m    830\u001b[0m \u001b[43m        \u001b[49m\u001b[38;5;28;43;01mfor\u001b[39;49;00m\u001b[43m \u001b[49m\u001b[43midx\u001b[49m\u001b[43m,\u001b[49m\u001b[43m \u001b[49m\u001b[43m(\u001b[49m\u001b[43mname\u001b[49m\u001b[43m,\u001b[49m\u001b[43m \u001b[49m\u001b[43mtrans\u001b[49m\u001b[43m,\u001b[49m\u001b[43m \u001b[49m\u001b[43mcolumn\u001b[49m\u001b[43m,\u001b[49m\u001b[43m \u001b[49m\u001b[43mweight\u001b[49m\u001b[43m)\u001b[49m\u001b[43m \u001b[49m\u001b[38;5;129;43;01min\u001b[39;49;00m\u001b[43m \u001b[49m\u001b[38;5;28;43menumerate\u001b[39;49m\u001b[43m(\u001b[49m\n\u001b[1;32m    831\u001b[0m \u001b[43m            \u001b[49m\u001b[38;5;28;43mself\u001b[39;49m\u001b[38;5;241;43m.\u001b[39;49m\u001b[43m_iter\u001b[49m\u001b[43m(\u001b[49m\u001b[43mfitted\u001b[49m\u001b[38;5;241;43m=\u001b[39;49m\u001b[43mfitted\u001b[49m\u001b[43m,\u001b[49m\u001b[43m \u001b[49m\u001b[43mreplace_strings\u001b[49m\u001b[38;5;241;43m=\u001b[39;49m\u001b[38;5;28;43;01mTrue\u001b[39;49;00m\u001b[43m)\u001b[49m\u001b[43m,\u001b[49m\u001b[43m \u001b[49m\u001b[38;5;241;43m1\u001b[39;49m\u001b[43m)\u001b[49m\u001b[43m)\u001b[49m\n\u001b[1;32m    832\u001b[0m \u001b[38;5;28;01mexcept\u001b[39;00m \u001b[38;5;167;01mValueError\u001b[39;00m \u001b[38;5;28;01mas\u001b[39;00m e:\n\u001b[1;32m    833\u001b[0m     \u001b[38;5;28;01mif\u001b[39;00m \u001b[38;5;124m\"\u001b[39m\u001b[38;5;124mExpected 2D array, got 1D array instead\u001b[39m\u001b[38;5;124m\"\u001b[39m \u001b[38;5;129;01min\u001b[39;00m \u001b[38;5;28mstr\u001b[39m(e):\n",
            "File \u001b[0;32m/opt/conda/envs/rapids/lib/python3.8/site-packages/joblib/parallel.py:1088\u001b[0m, in \u001b[0;36mParallel.__call__\u001b[0;34m(self, iterable)\u001b[0m\n\u001b[1;32m   1085\u001b[0m \u001b[38;5;28;01mif\u001b[39;00m \u001b[38;5;28mself\u001b[39m\u001b[38;5;241m.\u001b[39mdispatch_one_batch(iterator):\n\u001b[1;32m   1086\u001b[0m     \u001b[38;5;28mself\u001b[39m\u001b[38;5;241m.\u001b[39m_iterating \u001b[38;5;241m=\u001b[39m \u001b[38;5;28mself\u001b[39m\u001b[38;5;241m.\u001b[39m_original_iterator \u001b[38;5;129;01mis\u001b[39;00m \u001b[38;5;129;01mnot\u001b[39;00m \u001b[38;5;28;01mNone\u001b[39;00m\n\u001b[0;32m-> 1088\u001b[0m \u001b[38;5;28;01mwhile\u001b[39;00m \u001b[38;5;28;43mself\u001b[39;49m\u001b[38;5;241;43m.\u001b[39;49m\u001b[43mdispatch_one_batch\u001b[49m\u001b[43m(\u001b[49m\u001b[43miterator\u001b[49m\u001b[43m)\u001b[49m:\n\u001b[1;32m   1089\u001b[0m     \u001b[38;5;28;01mpass\u001b[39;00m\n\u001b[1;32m   1091\u001b[0m \u001b[38;5;28;01mif\u001b[39;00m pre_dispatch \u001b[38;5;241m==\u001b[39m \u001b[38;5;124m\"\u001b[39m\u001b[38;5;124mall\u001b[39m\u001b[38;5;124m\"\u001b[39m \u001b[38;5;129;01mor\u001b[39;00m n_jobs \u001b[38;5;241m==\u001b[39m \u001b[38;5;241m1\u001b[39m:\n\u001b[1;32m   1092\u001b[0m     \u001b[38;5;66;03m# The iterable was consumed all at once by the above for loop.\u001b[39;00m\n\u001b[1;32m   1093\u001b[0m     \u001b[38;5;66;03m# No need to wait for async callbacks to trigger to\u001b[39;00m\n\u001b[1;32m   1094\u001b[0m     \u001b[38;5;66;03m# consumption.\u001b[39;00m\n",
            "File \u001b[0;32m/opt/conda/envs/rapids/lib/python3.8/site-packages/joblib/parallel.py:901\u001b[0m, in \u001b[0;36mParallel.dispatch_one_batch\u001b[0;34m(self, iterator)\u001b[0m\n\u001b[1;32m    899\u001b[0m     \u001b[38;5;28;01mreturn\u001b[39;00m \u001b[38;5;28;01mFalse\u001b[39;00m\n\u001b[1;32m    900\u001b[0m \u001b[38;5;28;01melse\u001b[39;00m:\n\u001b[0;32m--> 901\u001b[0m     \u001b[38;5;28;43mself\u001b[39;49m\u001b[38;5;241;43m.\u001b[39;49m\u001b[43m_dispatch\u001b[49m\u001b[43m(\u001b[49m\u001b[43mtasks\u001b[49m\u001b[43m)\u001b[49m\n\u001b[1;32m    902\u001b[0m     \u001b[38;5;28;01mreturn\u001b[39;00m \u001b[38;5;28;01mTrue\u001b[39;00m\n",
            "File \u001b[0;32m/opt/conda/envs/rapids/lib/python3.8/site-packages/joblib/parallel.py:819\u001b[0m, in \u001b[0;36mParallel._dispatch\u001b[0;34m(self, batch)\u001b[0m\n\u001b[1;32m    817\u001b[0m \u001b[38;5;28;01mwith\u001b[39;00m \u001b[38;5;28mself\u001b[39m\u001b[38;5;241m.\u001b[39m_lock:\n\u001b[1;32m    818\u001b[0m     job_idx \u001b[38;5;241m=\u001b[39m \u001b[38;5;28mlen\u001b[39m(\u001b[38;5;28mself\u001b[39m\u001b[38;5;241m.\u001b[39m_jobs)\n\u001b[0;32m--> 819\u001b[0m     job \u001b[38;5;241m=\u001b[39m \u001b[38;5;28;43mself\u001b[39;49m\u001b[38;5;241;43m.\u001b[39;49m\u001b[43m_backend\u001b[49m\u001b[38;5;241;43m.\u001b[39;49m\u001b[43mapply_async\u001b[49m\u001b[43m(\u001b[49m\u001b[43mbatch\u001b[49m\u001b[43m,\u001b[49m\u001b[43m \u001b[49m\u001b[43mcallback\u001b[49m\u001b[38;5;241;43m=\u001b[39;49m\u001b[43mcb\u001b[49m\u001b[43m)\u001b[49m\n\u001b[1;32m    820\u001b[0m     \u001b[38;5;66;03m# A job can complete so quickly than its callback is\u001b[39;00m\n\u001b[1;32m    821\u001b[0m     \u001b[38;5;66;03m# called before we get here, causing self._jobs to\u001b[39;00m\n\u001b[1;32m    822\u001b[0m     \u001b[38;5;66;03m# grow. To ensure correct results ordering, .insert is\u001b[39;00m\n\u001b[1;32m    823\u001b[0m     \u001b[38;5;66;03m# used (rather than .append) in the following line\u001b[39;00m\n\u001b[1;32m    824\u001b[0m     \u001b[38;5;28mself\u001b[39m\u001b[38;5;241m.\u001b[39m_jobs\u001b[38;5;241m.\u001b[39minsert(job_idx, job)\n",
            "File \u001b[0;32m/opt/conda/envs/rapids/lib/python3.8/site-packages/joblib/_parallel_backends.py:208\u001b[0m, in \u001b[0;36mSequentialBackend.apply_async\u001b[0;34m(self, func, callback)\u001b[0m\n\u001b[1;32m    206\u001b[0m \u001b[38;5;28;01mdef\u001b[39;00m \u001b[38;5;21mapply_async\u001b[39m(\u001b[38;5;28mself\u001b[39m, func, callback\u001b[38;5;241m=\u001b[39m\u001b[38;5;28;01mNone\u001b[39;00m):\n\u001b[1;32m    207\u001b[0m \u001b[38;5;250m    \u001b[39m\u001b[38;5;124;03m\"\"\"Schedule a func to be run\"\"\"\u001b[39;00m\n\u001b[0;32m--> 208\u001b[0m     result \u001b[38;5;241m=\u001b[39m \u001b[43mImmediateResult\u001b[49m\u001b[43m(\u001b[49m\u001b[43mfunc\u001b[49m\u001b[43m)\u001b[49m\n\u001b[1;32m    209\u001b[0m     \u001b[38;5;28;01mif\u001b[39;00m callback:\n\u001b[1;32m    210\u001b[0m         callback(result)\n",
            "File \u001b[0;32m/opt/conda/envs/rapids/lib/python3.8/site-packages/joblib/_parallel_backends.py:597\u001b[0m, in \u001b[0;36mImmediateResult.__init__\u001b[0;34m(self, batch)\u001b[0m\n\u001b[1;32m    594\u001b[0m \u001b[38;5;28;01mdef\u001b[39;00m \u001b[38;5;21m__init__\u001b[39m(\u001b[38;5;28mself\u001b[39m, batch):\n\u001b[1;32m    595\u001b[0m     \u001b[38;5;66;03m# Don't delay the application, to avoid keeping the input\u001b[39;00m\n\u001b[1;32m    596\u001b[0m     \u001b[38;5;66;03m# arguments in memory\u001b[39;00m\n\u001b[0;32m--> 597\u001b[0m     \u001b[38;5;28mself\u001b[39m\u001b[38;5;241m.\u001b[39mresults \u001b[38;5;241m=\u001b[39m \u001b[43mbatch\u001b[49m\u001b[43m(\u001b[49m\u001b[43m)\u001b[49m\n",
            "File \u001b[0;32m/opt/conda/envs/rapids/lib/python3.8/site-packages/joblib/parallel.py:288\u001b[0m, in \u001b[0;36mBatchedCalls.__call__\u001b[0;34m(self)\u001b[0m\n\u001b[1;32m    284\u001b[0m \u001b[38;5;28;01mdef\u001b[39;00m \u001b[38;5;21m__call__\u001b[39m(\u001b[38;5;28mself\u001b[39m):\n\u001b[1;32m    285\u001b[0m     \u001b[38;5;66;03m# Set the default nested backend to self._backend but do not set the\u001b[39;00m\n\u001b[1;32m    286\u001b[0m     \u001b[38;5;66;03m# change the default number of processes to -1\u001b[39;00m\n\u001b[1;32m    287\u001b[0m     \u001b[38;5;28;01mwith\u001b[39;00m parallel_backend(\u001b[38;5;28mself\u001b[39m\u001b[38;5;241m.\u001b[39m_backend, n_jobs\u001b[38;5;241m=\u001b[39m\u001b[38;5;28mself\u001b[39m\u001b[38;5;241m.\u001b[39m_n_jobs):\n\u001b[0;32m--> 288\u001b[0m         \u001b[38;5;28;01mreturn\u001b[39;00m [func(\u001b[38;5;241m*\u001b[39margs, \u001b[38;5;241m*\u001b[39m\u001b[38;5;241m*\u001b[39mkwargs)\n\u001b[1;32m    289\u001b[0m                 \u001b[38;5;28;01mfor\u001b[39;00m func, args, kwargs \u001b[38;5;129;01min\u001b[39;00m \u001b[38;5;28mself\u001b[39m\u001b[38;5;241m.\u001b[39mitems]\n",
            "File \u001b[0;32m/opt/conda/envs/rapids/lib/python3.8/site-packages/joblib/parallel.py:288\u001b[0m, in \u001b[0;36m<listcomp>\u001b[0;34m(.0)\u001b[0m\n\u001b[1;32m    284\u001b[0m \u001b[38;5;28;01mdef\u001b[39;00m \u001b[38;5;21m__call__\u001b[39m(\u001b[38;5;28mself\u001b[39m):\n\u001b[1;32m    285\u001b[0m     \u001b[38;5;66;03m# Set the default nested backend to self._backend but do not set the\u001b[39;00m\n\u001b[1;32m    286\u001b[0m     \u001b[38;5;66;03m# change the default number of processes to -1\u001b[39;00m\n\u001b[1;32m    287\u001b[0m     \u001b[38;5;28;01mwith\u001b[39;00m parallel_backend(\u001b[38;5;28mself\u001b[39m\u001b[38;5;241m.\u001b[39m_backend, n_jobs\u001b[38;5;241m=\u001b[39m\u001b[38;5;28mself\u001b[39m\u001b[38;5;241m.\u001b[39m_n_jobs):\n\u001b[0;32m--> 288\u001b[0m         \u001b[38;5;28;01mreturn\u001b[39;00m [\u001b[43mfunc\u001b[49m\u001b[43m(\u001b[49m\u001b[38;5;241;43m*\u001b[39;49m\u001b[43margs\u001b[49m\u001b[43m,\u001b[49m\u001b[43m \u001b[49m\u001b[38;5;241;43m*\u001b[39;49m\u001b[38;5;241;43m*\u001b[39;49m\u001b[43mkwargs\u001b[49m\u001b[43m)\u001b[49m\n\u001b[1;32m    289\u001b[0m                 \u001b[38;5;28;01mfor\u001b[39;00m func, args, kwargs \u001b[38;5;129;01min\u001b[39;00m \u001b[38;5;28mself\u001b[39m\u001b[38;5;241m.\u001b[39mitems]\n",
            "File \u001b[0;32m/opt/conda/envs/rapids/lib/python3.8/site-packages/cuml/_thirdparty/sklearn/preprocessing/_column_transformer.py:374\u001b[0m, in \u001b[0;36m_FuncWrapper.__call__\u001b[0;34m(self, *args, **kwargs)\u001b[0m\n\u001b[1;32m    372\u001b[0m \u001b[38;5;28;01mdef\u001b[39;00m \u001b[38;5;21m__call__\u001b[39m(\u001b[38;5;28mself\u001b[39m, \u001b[38;5;241m*\u001b[39margs, \u001b[38;5;241m*\u001b[39m\u001b[38;5;241m*\u001b[39mkwargs):\n\u001b[1;32m    373\u001b[0m     _global_settings_data\u001b[38;5;241m.\u001b[39mshared_state \u001b[38;5;241m=\u001b[39m \u001b[38;5;28mself\u001b[39m\u001b[38;5;241m.\u001b[39mconfig\n\u001b[0;32m--> 374\u001b[0m     \u001b[38;5;28;01mreturn\u001b[39;00m \u001b[38;5;28;43mself\u001b[39;49m\u001b[38;5;241;43m.\u001b[39;49m\u001b[43mfunction\u001b[49m\u001b[43m(\u001b[49m\u001b[38;5;241;43m*\u001b[39;49m\u001b[43margs\u001b[49m\u001b[43m,\u001b[49m\u001b[43m \u001b[49m\u001b[38;5;241;43m*\u001b[39;49m\u001b[38;5;241;43m*\u001b[39;49m\u001b[43mkwargs\u001b[49m\u001b[43m)\u001b[49m\n",
            "File \u001b[0;32m/opt/conda/envs/rapids/lib/python3.8/site-packages/cuml/_thirdparty/sklearn/preprocessing/_column_transformer.py:322\u001b[0m, in \u001b[0;36m_fit_transform_one\u001b[0;34m(transformer, X, y, weight, message_clsname, message, **fit_params)\u001b[0m\n\u001b[1;32m    320\u001b[0m transformer\u001b[38;5;241m.\u001b[39maccept_sparse \u001b[38;5;241m=\u001b[39m \u001b[38;5;28;01mTrue\u001b[39;00m\n\u001b[1;32m    321\u001b[0m \u001b[38;5;28;01mif\u001b[39;00m \u001b[38;5;28mhasattr\u001b[39m(transformer, \u001b[38;5;124m'\u001b[39m\u001b[38;5;124mfit_transform\u001b[39m\u001b[38;5;124m'\u001b[39m):\n\u001b[0;32m--> 322\u001b[0m     res \u001b[38;5;241m=\u001b[39m \u001b[43mtransformer\u001b[49m\u001b[38;5;241;43m.\u001b[39;49m\u001b[43mfit_transform\u001b[49m\u001b[43m(\u001b[49m\u001b[43mX\u001b[49m\u001b[43m,\u001b[49m\u001b[43m \u001b[49m\u001b[43my\u001b[49m\u001b[43m,\u001b[49m\u001b[43m \u001b[49m\u001b[38;5;241;43m*\u001b[39;49m\u001b[38;5;241;43m*\u001b[39;49m\u001b[43mfit_params\u001b[49m\u001b[43m)\u001b[49m\n\u001b[1;32m    323\u001b[0m \u001b[38;5;28;01melse\u001b[39;00m:\n\u001b[1;32m    324\u001b[0m     res \u001b[38;5;241m=\u001b[39m transformer\u001b[38;5;241m.\u001b[39mfit(X, y, \u001b[38;5;241m*\u001b[39m\u001b[38;5;241m*\u001b[39mfit_params)\u001b[38;5;241m.\u001b[39mtransform(X)\n",
            "File \u001b[0;32m/opt/conda/envs/rapids/lib/python3.8/site-packages/sklearn/utils/_set_output.py:142\u001b[0m, in \u001b[0;36m_wrap_method_output.<locals>.wrapped\u001b[0;34m(self, X, *args, **kwargs)\u001b[0m\n\u001b[1;32m    140\u001b[0m \u001b[38;5;129m@wraps\u001b[39m(f)\n\u001b[1;32m    141\u001b[0m \u001b[38;5;28;01mdef\u001b[39;00m \u001b[38;5;21mwrapped\u001b[39m(\u001b[38;5;28mself\u001b[39m, X, \u001b[38;5;241m*\u001b[39margs, \u001b[38;5;241m*\u001b[39m\u001b[38;5;241m*\u001b[39mkwargs):\n\u001b[0;32m--> 142\u001b[0m     data_to_wrap \u001b[38;5;241m=\u001b[39m \u001b[43mf\u001b[49m\u001b[43m(\u001b[49m\u001b[38;5;28;43mself\u001b[39;49m\u001b[43m,\u001b[49m\u001b[43m \u001b[49m\u001b[43mX\u001b[49m\u001b[43m,\u001b[49m\u001b[43m \u001b[49m\u001b[38;5;241;43m*\u001b[39;49m\u001b[43margs\u001b[49m\u001b[43m,\u001b[49m\u001b[43m \u001b[49m\u001b[38;5;241;43m*\u001b[39;49m\u001b[38;5;241;43m*\u001b[39;49m\u001b[43mkwargs\u001b[49m\u001b[43m)\u001b[49m\n\u001b[1;32m    143\u001b[0m     \u001b[38;5;28;01mif\u001b[39;00m \u001b[38;5;28misinstance\u001b[39m(data_to_wrap, \u001b[38;5;28mtuple\u001b[39m):\n\u001b[1;32m    144\u001b[0m         \u001b[38;5;66;03m# only wrap the first output for cross decomposition\u001b[39;00m\n\u001b[1;32m    145\u001b[0m         \u001b[38;5;28;01mreturn\u001b[39;00m (\n\u001b[1;32m    146\u001b[0m             _wrap_data_with_container(method, data_to_wrap[\u001b[38;5;241m0\u001b[39m], X, \u001b[38;5;28mself\u001b[39m),\n\u001b[1;32m    147\u001b[0m             \u001b[38;5;241m*\u001b[39mdata_to_wrap[\u001b[38;5;241m1\u001b[39m:],\n\u001b[1;32m    148\u001b[0m         )\n",
            "File \u001b[0;32m/opt/conda/envs/rapids/lib/python3.8/site-packages/sklearn/base.py:862\u001b[0m, in \u001b[0;36mTransformerMixin.fit_transform\u001b[0;34m(self, X, y, **fit_params)\u001b[0m\n\u001b[1;32m    859\u001b[0m     \u001b[38;5;28;01mreturn\u001b[39;00m \u001b[38;5;28mself\u001b[39m\u001b[38;5;241m.\u001b[39mfit(X, \u001b[38;5;241m*\u001b[39m\u001b[38;5;241m*\u001b[39mfit_params)\u001b[38;5;241m.\u001b[39mtransform(X)\n\u001b[1;32m    860\u001b[0m \u001b[38;5;28;01melse\u001b[39;00m:\n\u001b[1;32m    861\u001b[0m     \u001b[38;5;66;03m# fit method of arity 2 (supervised transformation)\u001b[39;00m\n\u001b[0;32m--> 862\u001b[0m     \u001b[38;5;28;01mreturn\u001b[39;00m \u001b[38;5;28;43mself\u001b[39;49m\u001b[38;5;241;43m.\u001b[39;49m\u001b[43mfit\u001b[49m\u001b[43m(\u001b[49m\u001b[43mX\u001b[49m\u001b[43m,\u001b[49m\u001b[43m \u001b[49m\u001b[43my\u001b[49m\u001b[43m,\u001b[49m\u001b[43m \u001b[49m\u001b[38;5;241;43m*\u001b[39;49m\u001b[38;5;241;43m*\u001b[39;49m\u001b[43mfit_params\u001b[49m\u001b[43m)\u001b[49m\u001b[38;5;241m.\u001b[39mtransform(X)\n",
            "File \u001b[0;32m~/notebooks/daniel/cu-cat/cu_cat/_gap_encoder.py:975\u001b[0m, in \u001b[0;36mGapEncoder.fit\u001b[0;34m(self, X, y)\u001b[0m\n\u001b[1;32m    973\u001b[0m     \u001b[38;5;28;01mfor\u001b[39;00m k \u001b[38;5;129;01min\u001b[39;00m \u001b[38;5;28mrange\u001b[39m(X\u001b[38;5;241m.\u001b[39mshape[\u001b[38;5;241m1\u001b[39m]):\n\u001b[1;32m    974\u001b[0m         col_enc \u001b[38;5;241m=\u001b[39m \u001b[38;5;28mself\u001b[39m\u001b[38;5;241m.\u001b[39m_create_column_gap_encoder()\n\u001b[0;32m--> 975\u001b[0m         \u001b[38;5;28mself\u001b[39m\u001b[38;5;241m.\u001b[39mfitted_models_\u001b[38;5;241m.\u001b[39mappend(\u001b[43mcol_enc\u001b[49m\u001b[38;5;241;43m.\u001b[39;49m\u001b[43mfit\u001b[49m\u001b[43m(\u001b[49m\u001b[43mX\u001b[49m\u001b[38;5;241;43m.\u001b[39;49m\u001b[43miloc\u001b[49m\u001b[43m[\u001b[49m\u001b[43m:\u001b[49m\u001b[43m,\u001b[49m\u001b[43mk\u001b[49m\u001b[43m]\u001b[49m\u001b[43m)\u001b[49m)\n\u001b[1;32m    977\u001b[0m \u001b[38;5;28;01mreturn\u001b[39;00m \u001b[38;5;28mself\u001b[39m\n",
            "File \u001b[0;32m~/notebooks/daniel/cu-cat/cu_cat/_gap_encoder.py:423\u001b[0m, in \u001b[0;36mGapEncoderColumn.fit\u001b[0;34m(***failed resolving arguments***)\u001b[0m\n\u001b[1;32m    421\u001b[0m         \u001b[38;5;28mself\u001b[39m\u001b[38;5;241m.\u001b[39mW_\u001b[38;5;241m=\u001b[39m\u001b[38;5;28mself\u001b[39m\u001b[38;5;241m.\u001b[39mW_\u001b[38;5;241m.\u001b[39mto_cupy();\u001b[38;5;28mself\u001b[39m\u001b[38;5;241m.\u001b[39mB_\u001b[38;5;241m=\u001b[39m\u001b[38;5;28mself\u001b[39m\u001b[38;5;241m.\u001b[39mB_\u001b[38;5;241m.\u001b[39mto_cupy();\u001b[38;5;28mself\u001b[39m\u001b[38;5;241m.\u001b[39mA_\u001b[38;5;241m=\u001b[39m\u001b[38;5;28mself\u001b[39m\u001b[38;5;241m.\u001b[39mA_\u001b[38;5;241m.\u001b[39mto_cupy()\n\u001b[1;32m    422\u001b[0m     W_last \u001b[38;5;241m=\u001b[39m \u001b[38;5;28mself\u001b[39m\u001b[38;5;241m.\u001b[39mW_\u001b[38;5;241m.\u001b[39mcopy()\n\u001b[0;32m--> 423\u001b[0m     unq_H \u001b[38;5;241m=\u001b[39m \u001b[43m_multiplicative_update_h_smallfast\u001b[49m\u001b[43m(\u001b[49m\n\u001b[1;32m    424\u001b[0m \u001b[43m        \u001b[49m\u001b[43munq_V\u001b[49m\u001b[43m,\u001b[49m\n\u001b[1;32m    425\u001b[0m \u001b[43m        \u001b[49m\u001b[38;5;28;43mself\u001b[39;49m\u001b[38;5;241;43m.\u001b[39;49m\u001b[43mW_\u001b[49m\u001b[43m,\u001b[49m\n\u001b[1;32m    426\u001b[0m \u001b[43m        \u001b[49m\u001b[43munq_H\u001b[49m\u001b[43m,\u001b[49m\n\u001b[1;32m    427\u001b[0m \u001b[43m        \u001b[49m\u001b[43mepsilon\u001b[49m\u001b[38;5;241;43m=\u001b[39;49m\u001b[38;5;241;43m1e-3\u001b[39;49m\u001b[43m,\u001b[49m\n\u001b[1;32m    428\u001b[0m \u001b[43m        \u001b[49m\u001b[43mmax_iter\u001b[49m\u001b[38;5;241;43m=\u001b[39;49m\u001b[38;5;28;43mself\u001b[39;49m\u001b[38;5;241;43m.\u001b[39;49m\u001b[43mmax_iter_e_step\u001b[49m\u001b[43m,\u001b[49m\n\u001b[1;32m    429\u001b[0m \u001b[43m        \u001b[49m\u001b[43mrescale_W\u001b[49m\u001b[38;5;241;43m=\u001b[39;49m\u001b[38;5;28;43mself\u001b[39;49m\u001b[38;5;241;43m.\u001b[39;49m\u001b[43mrescale_W\u001b[49m\u001b[43m,\u001b[49m\n\u001b[1;32m    430\u001b[0m \u001b[43m        \u001b[49m\u001b[43mgamma_shape_prior\u001b[49m\u001b[38;5;241;43m=\u001b[39;49m\u001b[38;5;28;43mself\u001b[39;49m\u001b[38;5;241;43m.\u001b[39;49m\u001b[43mgamma_shape_prior\u001b[49m\u001b[43m,\u001b[49m\n\u001b[1;32m    431\u001b[0m \u001b[43m        \u001b[49m\u001b[43mgamma_scale_prior\u001b[49m\u001b[38;5;241;43m=\u001b[39;49m\u001b[38;5;28;43mself\u001b[39;49m\u001b[38;5;241;43m.\u001b[39;49m\u001b[43mgamma_scale_prior\u001b[49m\u001b[43m,\u001b[49m\n\u001b[1;32m    432\u001b[0m \u001b[43m    \u001b[49m\u001b[43m)\u001b[49m\n\u001b[1;32m    433\u001b[0m     _multiplicative_update_w_smallfast(\n\u001b[1;32m    434\u001b[0m         unq_V,\n\u001b[1;32m    435\u001b[0m         \u001b[38;5;28mself\u001b[39m\u001b[38;5;241m.\u001b[39mW_,\n\u001b[0;32m   (...)\u001b[0m\n\u001b[1;32m    440\u001b[0m         \u001b[38;5;28mself\u001b[39m\u001b[38;5;241m.\u001b[39mrho_,\n\u001b[1;32m    441\u001b[0m     )\n\u001b[1;32m    442\u001b[0m \u001b[38;5;28;01melse\u001b[39;00m:\n",
            "File \u001b[0;32m~/notebooks/daniel/cu-cat/cu_cat/_gap_encoder.py:1313\u001b[0m, in \u001b[0;36m_multiplicative_update_h_smallfast\u001b[0;34m(Vt, W, Ht, epsilon, max_iter, rescale_W, gamma_shape_prior, gamma_scale_prior)\u001b[0m\n\u001b[1;32m   1311\u001b[0m \u001b[38;5;28;01mif\u001b[39;00m squared_norm \u001b[38;5;241m<\u001b[39m\u001b[38;5;241m=\u001b[39m squared_epsilon:\n\u001b[1;32m   1312\u001b[0m     \u001b[38;5;28;01mbreak\u001b[39;00m\n\u001b[0;32m-> 1313\u001b[0m C\u001b[38;5;241m=\u001b[39mVt\u001b[38;5;241m.\u001b[39mmultiply( cp\u001b[38;5;241m.\u001b[39mreciprocal(\u001b[43mcp\u001b[49m\u001b[38;5;241;43m.\u001b[39;49m\u001b[43mmatmul\u001b[49m\u001b[43m(\u001b[49m\u001b[43mHt\u001b[49m\u001b[43m,\u001b[49m\u001b[43m \u001b[49m\u001b[43mW\u001b[49m\u001b[43m)\u001b[49m \u001b[38;5;241m+\u001b[39m \u001b[38;5;241m1e-10\u001b[39m)) \u001b[38;5;66;03m##sparse now\u001b[39;00m\n\u001b[1;32m   1314\u001b[0m aux\u001b[38;5;241m=\u001b[39mC\u001b[38;5;241m.\u001b[39mdot(W_WT1)\n\u001b[1;32m   1315\u001b[0m ht_out \u001b[38;5;241m=\u001b[39m cp\u001b[38;5;241m.\u001b[39mmultiply(Ht,aux) \u001b[38;5;241m+\u001b[39m const\n",
            "File \u001b[0;32m/opt/conda/envs/rapids/lib/python3.8/site-packages/cupy/_core/_gufuncs.py:671\u001b[0m, in \u001b[0;36m_GUFunc.__call__\u001b[0;34m(self, *args, **kwargs)\u001b[0m\n\u001b[1;32m    668\u001b[0m out_shape \u001b[38;5;241m=\u001b[39m \u001b[38;5;28mtuple\u001b[39m(out_shape)\n\u001b[1;32m    670\u001b[0m \u001b[38;5;28;01mif\u001b[39;00m outs \u001b[38;5;129;01mis\u001b[39;00m \u001b[38;5;28;01mNone\u001b[39;00m:\n\u001b[0;32m--> 671\u001b[0m     outs \u001b[38;5;241m=\u001b[39m \u001b[43mcupy\u001b[49m\u001b[38;5;241;43m.\u001b[39;49m\u001b[43mempty\u001b[49m\u001b[43m(\u001b[49m\u001b[43mout_shape\u001b[49m\u001b[43m,\u001b[49m\u001b[43m \u001b[49m\u001b[43mdtype\u001b[49m\u001b[38;5;241;43m=\u001b[39;49m\u001b[43mret_dtype\u001b[49m\u001b[43m,\u001b[49m\u001b[43m \u001b[49m\u001b[43morder\u001b[49m\u001b[38;5;241;43m=\u001b[39;49m\u001b[43mfilter_order\u001b[49m\u001b[43m)\u001b[49m\n\u001b[1;32m    672\u001b[0m     \u001b[38;5;28;01mif\u001b[39;00m order \u001b[38;5;241m==\u001b[39m \u001b[38;5;124m'\u001b[39m\u001b[38;5;124mK\u001b[39m\u001b[38;5;124m'\u001b[39m:\n\u001b[1;32m    673\u001b[0m         strides \u001b[38;5;241m=\u001b[39m internal\u001b[38;5;241m.\u001b[39m_get_strides_for_order_K(\n\u001b[1;32m    674\u001b[0m             outs, ret_dtype, out_shape)\n",
            "File \u001b[0;32m/opt/conda/envs/rapids/lib/python3.8/site-packages/cupy/_creation/basic.py:22\u001b[0m, in \u001b[0;36mempty\u001b[0;34m(shape, dtype, order)\u001b[0m\n\u001b[1;32m      7\u001b[0m \u001b[38;5;28;01mdef\u001b[39;00m \u001b[38;5;21mempty\u001b[39m(shape, dtype\u001b[38;5;241m=\u001b[39m\u001b[38;5;28mfloat\u001b[39m, order\u001b[38;5;241m=\u001b[39m\u001b[38;5;124m'\u001b[39m\u001b[38;5;124mC\u001b[39m\u001b[38;5;124m'\u001b[39m):\n\u001b[1;32m      8\u001b[0m \u001b[38;5;250m    \u001b[39m\u001b[38;5;124;03m\"\"\"Returns an array without initializing the elements.\u001b[39;00m\n\u001b[1;32m      9\u001b[0m \n\u001b[1;32m     10\u001b[0m \u001b[38;5;124;03m    Args:\u001b[39;00m\n\u001b[0;32m   (...)\u001b[0m\n\u001b[1;32m     20\u001b[0m \n\u001b[1;32m     21\u001b[0m \u001b[38;5;124;03m    \"\"\"\u001b[39;00m\n\u001b[0;32m---> 22\u001b[0m     \u001b[38;5;28;01mreturn\u001b[39;00m \u001b[43mcupy\u001b[49m\u001b[38;5;241;43m.\u001b[39;49m\u001b[43mndarray\u001b[49m\u001b[43m(\u001b[49m\u001b[43mshape\u001b[49m\u001b[43m,\u001b[49m\u001b[43m \u001b[49m\u001b[43mdtype\u001b[49m\u001b[43m,\u001b[49m\u001b[43m \u001b[49m\u001b[43morder\u001b[49m\u001b[38;5;241;43m=\u001b[39;49m\u001b[43morder\u001b[49m\u001b[43m)\u001b[49m\n",
            "File \u001b[0;32mcupy/_core/core.pyx:136\u001b[0m, in \u001b[0;36mcupy._core.core.ndarray.__new__\u001b[0;34m()\u001b[0m\n",
            "File \u001b[0;32mcupy/_core/core.pyx:224\u001b[0m, in \u001b[0;36mcupy._core.core._ndarray_base._init\u001b[0;34m()\u001b[0m\n",
            "File \u001b[0;32mcupy/cuda/memory.pyx:742\u001b[0m, in \u001b[0;36mcupy.cuda.memory.alloc\u001b[0;34m()\u001b[0m\n",
            "File \u001b[0;32m/opt/conda/envs/rapids/lib/python3.8/site-packages/rmm/rmm.py:230\u001b[0m, in \u001b[0;36mrmm_cupy_allocator\u001b[0;34m(nbytes)\u001b[0m\n\u001b[1;32m    227\u001b[0m     \u001b[38;5;28;01mraise\u001b[39;00m \u001b[38;5;167;01mModuleNotFoundError\u001b[39;00m(\u001b[38;5;124m\"\u001b[39m\u001b[38;5;124mNo module named \u001b[39m\u001b[38;5;124m'\u001b[39m\u001b[38;5;124mcupy\u001b[39m\u001b[38;5;124m'\u001b[39m\u001b[38;5;124m\"\u001b[39m)\n\u001b[1;32m    229\u001b[0m stream \u001b[38;5;241m=\u001b[39m Stream(obj\u001b[38;5;241m=\u001b[39mcupy\u001b[38;5;241m.\u001b[39mcuda\u001b[38;5;241m.\u001b[39mget_current_stream())\n\u001b[0;32m--> 230\u001b[0m buf \u001b[38;5;241m=\u001b[39m \u001b[43mlibrmm\u001b[49m\u001b[38;5;241;43m.\u001b[39;49m\u001b[43mdevice_buffer\u001b[49m\u001b[38;5;241;43m.\u001b[39;49m\u001b[43mDeviceBuffer\u001b[49m\u001b[43m(\u001b[49m\u001b[43msize\u001b[49m\u001b[38;5;241;43m=\u001b[39;49m\u001b[43mnbytes\u001b[49m\u001b[43m,\u001b[49m\u001b[43m \u001b[49m\u001b[43mstream\u001b[49m\u001b[38;5;241;43m=\u001b[39;49m\u001b[43mstream\u001b[49m\u001b[43m)\u001b[49m\n\u001b[1;32m    231\u001b[0m dev_id \u001b[38;5;241m=\u001b[39m \u001b[38;5;241m-\u001b[39m\u001b[38;5;241m1\u001b[39m \u001b[38;5;28;01mif\u001b[39;00m buf\u001b[38;5;241m.\u001b[39mptr \u001b[38;5;28;01melse\u001b[39;00m cupy\u001b[38;5;241m.\u001b[39mcuda\u001b[38;5;241m.\u001b[39mdevice\u001b[38;5;241m.\u001b[39mget_device_id()\n\u001b[1;32m    232\u001b[0m mem \u001b[38;5;241m=\u001b[39m cupy\u001b[38;5;241m.\u001b[39mcuda\u001b[38;5;241m.\u001b[39mUnownedMemory(\n\u001b[1;32m    233\u001b[0m     ptr\u001b[38;5;241m=\u001b[39mbuf\u001b[38;5;241m.\u001b[39mptr, size\u001b[38;5;241m=\u001b[39mbuf\u001b[38;5;241m.\u001b[39msize, owner\u001b[38;5;241m=\u001b[39mbuf, device_id\u001b[38;5;241m=\u001b[39mdev_id\n\u001b[1;32m    234\u001b[0m )\n",
            "File \u001b[0;32mdevice_buffer.pyx:85\u001b[0m, in \u001b[0;36mrmm._lib.device_buffer.DeviceBuffer.__cinit__\u001b[0;34m()\u001b[0m\n",
            "\u001b[0;31mMemoryError\u001b[0m: std::bad_alloc: out_of_memory: CUDA error at: /opt/conda/envs/rapids/include/rmm/mr/device/cuda_memory_resource.hpp"
          ]
        }
      ],
      "source": [
        "g = graphistry.nodes(cudf.from_pandas(winlogs))\n",
        "pr = cProfile.Profile()\n",
        "pr.enable()\n",
        "\n",
        "g4a = g.featurize(feature_engine='cu_cat',memoize=False,remove_node_column=False)\n",
        "# g4b = g.umap(umap_engine='cuml',feature_engine='cu_cat',memoize=False,remove_node_column=False)\n",
        "\n",
        "pr.disable()\n",
        "stats = Stats(pr)\n",
        "stats.sort_stats('tottime').print_stats(20)\n",
        "\n",
        "with open('winlogs_umap_cudf_cuda_cat_'+str(n)+'.txt', 'w') as stream:\n",
        "    stats = Stats(pr,stream=stream)\n",
        "    stats.sort_stats('tottime').print_stats(20)"
      ]
    },
    {
      "cell_type": "code",
      "execution_count": null,
      "id": "e5fdf7f1-9868-4136-aac3-1378fffd374d",
      "metadata": {
        "id": "e5fdf7f1-9868-4136-aac3-1378fffd374d"
      },
      "outputs": [],
      "source": []
    },
    {
      "cell_type": "code",
      "execution_count": null,
      "id": "6dc2c652-d8ae-4b7b-baff-cac35323451b",
      "metadata": {
        "id": "6dc2c652-d8ae-4b7b-baff-cac35323451b"
      },
      "outputs": [],
      "source": []
    },
    {
      "cell_type": "code",
      "execution_count": null,
      "id": "d47893d5-18b7-4267-9bf0-07d414d3390b",
      "metadata": {
        "id": "d47893d5-18b7-4267-9bf0-07d414d3390b"
      },
      "outputs": [],
      "source": []
    },
    {
      "cell_type": "code",
      "execution_count": null,
      "id": "cb30a063-3732-4f71-9bf4-ca55eee16962",
      "metadata": {
        "execution": {
          "iopub.status.busy": "2023-08-15T07:34:19.651163Z",
          "iopub.status.idle": "2023-08-15T07:34:19.651585Z",
          "shell.execute_reply": "2023-08-15T07:34:19.651393Z",
          "shell.execute_reply.started": "2023-08-15T07:34:19.651368Z"
        },
        "tags": [],
        "id": "cb30a063-3732-4f71-9bf4-ca55eee16962"
      },
      "outputs": [],
      "source": [
        "stopppp"
      ]
    },
    {
      "cell_type": "code",
      "execution_count": null,
      "id": "216f66ba-18a5-4ac5-bb10-b7aefe086df0",
      "metadata": {
        "execution": {
          "iopub.status.busy": "2023-08-15T07:34:19.653516Z",
          "iopub.status.idle": "2023-08-15T07:34:19.654262Z",
          "shell.execute_reply": "2023-08-15T07:34:19.653938Z",
          "shell.execute_reply.started": "2023-08-15T07:34:19.653897Z"
        },
        "tags": [],
        "id": "216f66ba-18a5-4ac5-bb10-b7aefe086df0"
      },
      "outputs": [],
      "source": [
        "winlogs=pd.read_parquet('~/notebooks/daniel/part.88 (1).parquet')\n",
        "winlogs=winlogs.sample(500000,replace=False).iloc[:,:10]\n",
        "\n",
        "# g = graphistry.nodes(winlogs)\n",
        "# pr = cProfile.Profile()\n",
        "# pr.enable()\n",
        "\n",
        "# g10 = g.featurize(feature_engine='cu_cat',memoize=False,remove_node_column=False)\n",
        "# g10a = g10.umap(engine='cuml')#,feature_engine='cu_cat',memoize=False)\n",
        "\n",
        "# pr.disable()\n",
        "# stats = Stats(pr)\n",
        "# stats.sort_stats('tottime').print_stats(20)\n",
        "\n",
        "# with open('winlogs_featurize_cu_cat_500k.txt', 'w') as stream:\n",
        "#     stats = Stats(pr,stream=stream)\n",
        "#     stats.sort_stats('tottime').print_stats(20)\n",
        "\n",
        "g = graphistry.nodes(cudf.from_pandas(winlogs))\n",
        "pr = cProfile.Profile()\n",
        "pr.enable()\n",
        "\n",
        "g11 = g.featurize(feature_engine='cu_cat',memoize=False,remove_node_column=False)\n",
        "g11b = g11.umap(engine='cuml')#,feature_engine='cu_cat',memoize=False)\n",
        "\n",
        "pr.disable()\n",
        "stats = Stats(pr)\n",
        "stats.sort_stats('tottime').print_stats(20)\n",
        "\n",
        "with open('winlogs_featurize_cudf-cu_cat_500k.txt', 'w') as stream:\n",
        "    stats = Stats(pr,stream=stream)\n",
        "    stats.sort_stats('tottime').print_stats(20)\n",
        "\n",
        "\n",
        "# g = graphistry.nodes(winlogs)\n",
        "# pr = cProfile.Profile()\n",
        "# pr.enable()\n",
        "\n",
        "\n",
        "# g12 = g.featurize(feature_engine='cu_cat',memoize=False,remove_node_column=False)\n",
        "# g12c = g12.umap(engine='cuml')#,feature_engine='cu_cat',memoize=False)\n",
        "\n",
        "# pr.disable()\n",
        "# stats = Stats(pr)\n",
        "# stats.sort_stats('tottime').print_stats(20)\n",
        "\n",
        "# with open('winlogs_featurize_dirtycat_500k.txt', 'w') as stream:\n",
        "#     stats = Stats(pr,stream=stream)\n",
        "#     stats.sort_stats('tottime').print_stats(20)"
      ]
    },
    {
      "cell_type": "code",
      "execution_count": null,
      "id": "e4d46d21-854b-47d9-8add-f829bc2d083a",
      "metadata": {
        "execution": {
          "iopub.status.busy": "2023-08-15T07:34:19.656136Z",
          "iopub.status.idle": "2023-08-15T07:34:19.657041Z",
          "shell.execute_reply": "2023-08-15T07:34:19.656720Z",
          "shell.execute_reply.started": "2023-08-15T07:34:19.656679Z"
        },
        "tags": [],
        "id": "e4d46d21-854b-47d9-8add-f829bc2d083a"
      },
      "outputs": [],
      "source": [
        "winlogs=pd.read_parquet('~/notebooks/daniel/part.88 (1).parquet')\n",
        "winlogs=winlogs.sample(1000000,replace=False).iloc[:,:10]\n",
        "\n",
        "# g = graphistry.nodes(winlogs)\n",
        "# pr = cProfile.Profile()\n",
        "# pr.enable()\n",
        "\n",
        "# g13 = g.featurize(feature_engine='cu_cat',memoize=False,remove_node_column=False)\n",
        "# g13a = g13.umap(engine='cuml')#,feature_engine='cu_cat',memoize=False)\n",
        "\n",
        "# pr.disable()\n",
        "# stats = Stats(pr)\n",
        "# stats.sort_stats('tottime').print_stats(20)\n",
        "\n",
        "# with open('winlogs_featurize_cu_cat_1m.txt', 'w') as stream:\n",
        "#     stats = Stats(pr,stream=stream)\n",
        "#     stats.sort_stats('tottime').print_stats(20)\n",
        "\n",
        "g = graphistry.nodes(cudf.from_pandas(winlogs))\n",
        "pr = cProfile.Profile()\n",
        "pr.enable()\n",
        "\n",
        "g14 = g.featurize(feature_engine='cu_cat',memoize=False,remove_node_column=False)\n",
        "g14b = g14.umap(engine='cuml')#,feature_engine='cu_cat',memoize=False)\n",
        "\n",
        "pr.disable()\n",
        "stats = Stats(pr)\n",
        "stats.sort_stats('tottime').print_stats(20)\n",
        "\n",
        "with open('winlogs_featurize_cudf-cu_cat_1m.txt', 'w') as stream:\n",
        "    stats = Stats(pr,stream=stream)\n",
        "    stats.sort_stats('tottime').print_stats(20)\n",
        "\n",
        "\n",
        "# g = graphistry.nodes(winlogs)\n",
        "# pr = cProfile.Profile()\n",
        "# pr.enable()\n",
        "\n",
        "# g15 = g.featurize(feature_engine='cu_cat',memoize=False,remove_node_column=False)\n",
        "# g15b = g15.umap(engine='cuml')#,feature_engine='cu_cat',memoize=False)\n",
        "\n",
        "\n",
        "# pr.disable()\n",
        "# stats = Stats(pr)\n",
        "# stats.sort_stats('tottime').print_stats(20)\n",
        "\n",
        "# with open('winlogs_featurize_dirtycat_1m.txt', 'w') as stream:\n",
        "#     stats = Stats(pr,stream=stream)\n",
        "#     stats.sort_stats('tottime').print_stats(20)"
      ]
    },
    {
      "cell_type": "code",
      "execution_count": null,
      "id": "87452d7b-60b4-4c23-88c3-b60ee8ae06bf",
      "metadata": {
        "id": "87452d7b-60b4-4c23-88c3-b60ee8ae06bf"
      },
      "outputs": [],
      "source": []
    },
    {
      "cell_type": "code",
      "execution_count": null,
      "id": "a1cd00e1-2b9e-4e08-affe-29a8d52b0dca",
      "metadata": {
        "execution": {
          "iopub.status.busy": "2023-08-15T07:34:19.658601Z",
          "iopub.status.idle": "2023-08-15T07:34:19.659413Z",
          "shell.execute_reply": "2023-08-15T07:34:19.659096Z",
          "shell.execute_reply.started": "2023-08-15T07:34:19.659040Z"
        },
        "tags": [],
        "id": "a1cd00e1-2b9e-4e08-affe-29a8d52b0dca"
      },
      "outputs": [],
      "source": [
        "stopppp"
      ]
    },
    {
      "cell_type": "code",
      "execution_count": null,
      "id": "21c2ce89-b39c-49ee-955e-932b40c2cf31",
      "metadata": {
        "id": "21c2ce89-b39c-49ee-955e-932b40c2cf31"
      },
      "outputs": [],
      "source": []
    },
    {
      "cell_type": "code",
      "execution_count": null,
      "id": "625c5db9-bd1e-40df-9cce-604a675de2aa",
      "metadata": {
        "execution": {
          "iopub.status.busy": "2023-08-15T07:34:19.683465Z",
          "iopub.status.idle": "2023-08-15T07:34:19.683970Z",
          "shell.execute_reply": "2023-08-15T07:34:19.683775Z",
          "shell.execute_reply.started": "2023-08-15T07:34:19.683750Z"
        },
        "tags": [],
        "id": "625c5db9-bd1e-40df-9cce-604a675de2aa"
      },
      "outputs": [],
      "source": [
        "from sklearn.datasets import fetch_20newsgroups\n",
        "# newsgroups = fetch_20newsgroups()#categories=categories)\n",
        "n_samples = 1000\n",
        "# n_features = 1000\n",
        "# n_components = 10\n",
        "# n_top_words = 20\n",
        "# batch_size = 128\n",
        "# init = \"nndsvda\"\n",
        "\n",
        "news, _ = fetch_20newsgroups(\n",
        "    shuffle=True,\n",
        "    random_state=1,\n",
        "    remove=(\"headers\", \"footers\", \"quotes\"),\n",
        "    return_X_y=True,\n",
        ")\n",
        "\n",
        "news = news[:n_samples]\n",
        "news=pd.DataFrame(news)"
      ]
    },
    {
      "cell_type": "code",
      "execution_count": null,
      "id": "9683c33e-aa71-47a2-87f2-16b69d482a85",
      "metadata": {
        "execution": {
          "iopub.status.busy": "2023-08-15T07:34:19.685225Z",
          "iopub.status.idle": "2023-08-15T07:34:19.685939Z",
          "shell.execute_reply": "2023-08-15T07:34:19.685742Z",
          "shell.execute_reply.started": "2023-08-15T07:34:19.685716Z"
        },
        "tags": [],
        "id": "9683c33e-aa71-47a2-87f2-16b69d482a85"
      },
      "outputs": [],
      "source": [
        "g = graphistry.nodes(news)\n",
        "pr = cProfile.Profile()\n",
        "pr.enable()\n",
        "\n",
        "\n",
        "g7 = g.featurize(feature_engine='cu_cat',memoize=False,remove_node_column=False)\n",
        "g7a = g7.umap(engine='cuml')#,feature_engine='cu_cat',memoize=False)\n",
        "\n",
        "pr.disable()\n",
        "stats = Stats(pr)\n",
        "stats.sort_stats('tottime').print_stats(20)\n",
        "\n",
        "with open('20news_umap_cu_cat.txt', 'w') as stream:\n",
        "    stats = Stats(pr,stream=stream)\n",
        "    stats.sort_stats('tottime').print_stats(20)"
      ]
    },
    {
      "cell_type": "code",
      "execution_count": null,
      "id": "427e3cb3-60fe-4289-9655-fbdecda1a9ca",
      "metadata": {
        "execution": {
          "iopub.status.busy": "2023-08-15T07:34:19.687152Z",
          "iopub.status.idle": "2023-08-15T07:34:19.687681Z",
          "shell.execute_reply": "2023-08-15T07:34:19.687490Z",
          "shell.execute_reply.started": "2023-08-15T07:34:19.687467Z"
        },
        "tags": [],
        "id": "427e3cb3-60fe-4289-9655-fbdecda1a9ca"
      },
      "outputs": [],
      "source": [
        "g = graphistry.nodes(cudf.from_pandas(news))\n",
        "pr = cProfile.Profile()\n",
        "pr.enable()\n",
        "\n",
        "\n",
        "g8 = g.featurize(feature_engine='cu_cat',memoize=False,remove_node_column=False)\n",
        "g8b = g8.umap(engine='cuml')#,feature_engine='cu_cat',memoize=False)\n",
        "\n",
        "pr.disable()\n",
        "stats = Stats(pr)\n",
        "stats.sort_stats('tottime').print_stats(20)\n",
        "\n",
        "with open('20news_umap_cudf-cu_cat.txt', 'w') as stream:\n",
        "    stats = Stats(pr,stream=stream)\n",
        "    stats.sort_stats('tottime').print_stats(20)"
      ]
    },
    {
      "cell_type": "code",
      "execution_count": null,
      "id": "b88c5fba-32d3-4140-9a9e-8fd6a652f07c",
      "metadata": {
        "execution": {
          "iopub.status.busy": "2023-08-15T07:34:19.688872Z",
          "iopub.status.idle": "2023-08-15T07:34:19.689533Z",
          "shell.execute_reply": "2023-08-15T07:34:19.689339Z",
          "shell.execute_reply.started": "2023-08-15T07:34:19.689313Z"
        },
        "tags": [],
        "id": "b88c5fba-32d3-4140-9a9e-8fd6a652f07c"
      },
      "outputs": [],
      "source": [
        "g = graphistry.nodes(news)\n",
        "pr = cProfile.Profile()\n",
        "pr.enable()\n",
        "\n",
        "g9 = g.featurize(feature_engine='dirty_cat',memoize=False,remove_node_column=False)\n",
        "g9c = g9.umap(engine='cuml')#,feature_engine='cu_cat',memoize=False)\n",
        "\n",
        "pr.disable()\n",
        "stats = Stats(pr)\n",
        "stats.sort_stats('tottime').print_stats(20)\n",
        "\n",
        "with open('20news_umap_dirtycat.txt', 'w') as stream:\n",
        "    stats = Stats(pr,stream=stream)\n",
        "    stats.sort_stats('tottime').print_stats(20)"
      ]
    }
  ],
  "metadata": {
    "kernelspec": {
      "display_name": "Python 3.8 (RAPIDS)",
      "language": "python",
      "name": "rapids"
    },
    "language_info": {
      "codemirror_mode": {
        "name": "ipython",
        "version": 3
      },
      "file_extension": ".py",
      "mimetype": "text/x-python",
      "name": "python",
      "nbconvert_exporter": "python",
      "pygments_lexer": "ipython3",
      "version": "3.8.16"
    },
    "colab": {
      "provenance": [],
      "include_colab_link": true
    }
  },
  "nbformat": 4,
  "nbformat_minor": 5
}