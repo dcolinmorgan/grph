{
  "cells": [
    {
      "cell_type": "markdown",
      "metadata": {
        "id": "view-in-github",
        "colab_type": "text"
      },
      "source": [
        "<a href=\"https://colab.research.google.com/github/dcolinmorgan/grph/blob/main/colab_cucat_bench.ipynb\" target=\"_parent\"><img src=\"https://colab.research.google.com/assets/colab-badge.svg\" alt=\"Open In Colab\"/></a>"
      ]
    },
    {
      "cell_type": "markdown",
      "source": [
        "# cu_cat demo\n",
        "\n",
        "(not so risky)"
      ],
      "metadata": {
        "id": "jPDc4enqfZvs"
      },
      "id": "jPDc4enqfZvs"
    },
    {
      "cell_type": "code",
      "source": [
        "# !pip install --extra-index-url=https://pypi.nvidia.com cuml-cu11==22.10.0 cudf-cu11==22.10.0 cugraph-cu11==22.10.0 pylibraft_cu11==22.10.0 raft_dask_cu11==22.10.0 dask_cudf_cu11==22.10.0 pylibcugraph_cu11==22.10.0 pylibraft_cu11==22.10.0\n",
        "# !pip install git+https://github.com/graphistry/pygraphistry.git@cuCat\n",
        "# !pip install -U git+https://github.com/graphistry/cu-cat.git@cu-cat #@0.01.0"
      ],
      "metadata": {
        "id": "VJ-t1XwVfarl"
      },
      "id": "VJ-t1XwVfarl",
      "execution_count": null,
      "outputs": []
    },
    {
      "cell_type": "code",
      "source": [
        "import cuml\n",
        "cuml.__version__"
      ],
      "metadata": {
        "colab": {
          "base_uri": "https://localhost:8080/",
          "height": 35
        },
        "id": "QEzJ_Nm9joqY",
        "outputId": "e8bf7e7a-4a6b-4620-ffab-d0f88c22cac6"
      },
      "id": "QEzJ_Nm9joqY",
      "execution_count": 1,
      "outputs": [
        {
          "output_type": "execute_result",
          "data": {
            "text/plain": [
              "'22.10.00a+119.gb30ef85c1'"
            ],
            "application/vnd.google.colaboratory.intrinsic+json": {
              "type": "string"
            }
          },
          "metadata": {},
          "execution_count": 1
        }
      ]
    },
    {
      "cell_type": "code",
      "source": [
        "!echo \"0.01.0\" > VERSION.txt\n",
        "!cp VERSION.txt /usr/local/lib/python3.8/dist-packages/cu_cat/"
      ],
      "metadata": {
        "id": "9uTg9osmvjuE"
      },
      "id": "9uTg9osmvjuE",
      "execution_count": 2,
      "outputs": []
    },
    {
      "cell_type": "code",
      "source": [
        "# from importlib import reload\n",
        "# reload(cu_cat)\n",
        "import cu_cat\n",
        "print(cu_cat.__file__)"
      ],
      "metadata": {
        "colab": {
          "base_uri": "https://localhost:8080/"
        },
        "id": "LTHaS1gDvMOO",
        "outputId": "536379a2-d709-46ba-d451-8b0cfd7cf59e"
      },
      "id": "LTHaS1gDvMOO",
      "execution_count": 3,
      "outputs": [
        {
          "output_type": "stream",
          "name": "stdout",
          "text": [
            "/usr/local/lib/python3.8/dist-packages/cu_cat/__init__.py\n"
          ]
        }
      ]
    },
    {
      "cell_type": "code",
      "source": [
        "import os\n",
        "from collections import Counter\n",
        "import cProfile\n",
        "import pandas as pd\n",
        "import numpy as np\n",
        "import matplotlib.pyplot as plt\n",
        "from pstats import Stats\n",
        "import warnings\n",
        "warnings.filterwarnings('ignore')\n",
        "pd.set_option('display.max_colwidth', 200)\n"
      ],
      "metadata": {
        "id": "iFB0x33yj6Ik"
      },
      "id": "iFB0x33yj6Ik",
      "execution_count": 4,
      "outputs": []
    },
    {
      "cell_type": "code",
      "execution_count": 5,
      "id": "65e8dccf-5b22-469b-b1db-1dcccaea2517",
      "metadata": {
        "execution": {
          "iopub.execute_input": "2023-02-24T07:27:44.576039Z",
          "iopub.status.busy": "2023-02-24T07:27:44.575780Z",
          "iopub.status.idle": "2023-02-24T07:27:50.654477Z",
          "shell.execute_reply": "2023-02-24T07:27:50.653926Z",
          "shell.execute_reply.started": "2023-02-24T07:27:44.575975Z"
        },
        "tags": [],
        "colab": {
          "base_uri": "https://localhost:8080/",
          "height": 35
        },
        "id": "65e8dccf-5b22-469b-b1db-1dcccaea2517",
        "outputId": "bfbf689d-8e17-4447-cf03-e7141a1d0b09"
      },
      "outputs": [
        {
          "output_type": "execute_result",
          "data": {
            "text/plain": [
              "'0.28.6+17.g21dac04'"
            ],
            "application/vnd.google.colaboratory.intrinsic+json": {
              "type": "string"
            }
          },
          "metadata": {},
          "execution_count": 5
        }
      ],
      "source": [
        "import graphistry\n",
        "graphistry.register(api=3,protocol=\"https\", server=\"hub.graphistry.com\", username='dcolinmorgan', password='fXjJnkE3Gik6BWy') ## key id, secret key\n",
        "graphistry.__version__\n"
      ]
    },
    {
      "cell_type": "code",
      "source": [
        "import locale\n",
        "def getpreferredencoding(do_setlocale = True):\n",
        "    return \"UTF-8\"\n",
        "locale.getpreferredencoding = getpreferredencoding\n",
        "# !pip install dirty_cat\n",
        "import dirty_cat"
      ],
      "metadata": {
        "id": "EM_oLqLby0Dm"
      },
      "id": "EM_oLqLby0Dm",
      "execution_count": 6,
      "outputs": []
    },
    {
      "cell_type": "markdown",
      "id": "a1f6bcea-42c9-4f00-baf1-86e4c4349434",
      "metadata": {
        "jp-MarkdownHeadingCollapsed": true,
        "tags": [],
        "id": "a1f6bcea-42c9-4f00-baf1-86e4c4349434"
      },
      "source": [
        "### ask HN"
      ]
    },
    {
      "cell_type": "code",
      "execution_count": null,
      "id": "44bbd703-0c8c-48cc-be2c-f4bbe53879d4",
      "metadata": {
        "execution": {
          "iopub.execute_input": "2023-02-22T10:53:40.532968Z",
          "iopub.status.busy": "2023-02-22T10:53:40.532675Z",
          "iopub.status.idle": "2023-02-22T10:53:40.797356Z",
          "shell.execute_reply": "2023-02-22T10:53:40.796616Z",
          "shell.execute_reply.started": "2023-02-22T10:53:40.532946Z"
        },
        "tags": [],
        "id": "44bbd703-0c8c-48cc-be2c-f4bbe53879d4"
      },
      "outputs": [],
      "source": [
        "# # get the data top 3000 posts on Hacker News\n",
        "askHN = pd.read_csv('https://storage.googleapis.com/cohere-assets/blog/text-clustering/data/askhn3k_df.csv', index_col=0)\n",
        "\n",
        "# df = askHN.sample(1000,replace=True) # set smaller if you want to test a minibatch \n",
        "# df = df[['text','title']]\n",
        "# df['title'] = df['title'].sample(frac=1).values"
      ]
    },
    {
      "cell_type": "code",
      "execution_count": null,
      "id": "353f72e4-2119-4546-9dcb-45647881ab2d",
      "metadata": {
        "execution": {
          "iopub.execute_input": "2023-02-22T10:53:40.799266Z",
          "iopub.status.busy": "2023-02-22T10:53:40.798946Z",
          "iopub.status.idle": "2023-02-22T10:55:12.373210Z",
          "shell.execute_reply": "2023-02-22T10:55:12.372795Z",
          "shell.execute_reply.started": "2023-02-22T10:53:40.799231Z"
        },
        "tags": [],
        "colab": {
          "base_uri": "https://localhost:8080/"
        },
        "id": "353f72e4-2119-4546-9dcb-45647881ab2d",
        "outputId": "fcb39e72-2cfa-456e-bc7c-9acde9e2a990"
      },
      "outputs": [
        {
          "output_type": "stream",
          "name": "stderr",
          "text": [
            "WARNING:root:* Ignoring target column of shape (3000, 0) in UMAP fit, as it is not one dimensional"
          ]
        },
        {
          "output_type": "stream",
          "name": "stdout",
          "text": [
            "         24512419 function calls (24455828 primitive calls) in 113.449 seconds\n",
            "\n",
            "   Ordered by: internal time\n",
            "   List reduced from 2487 to 20 due to restriction <20>\n",
            "\n",
            "   ncalls  tottime  percall  cumtime  percall filename:lineno(function)\n",
            "       13   35.883    2.760   51.176    3.937 /usr/local/lib/python3.8/dist-packages/cu_cat/_gap_encoder.py:984(_multiplicative_update_h_smallfast)\n",
            "      242   10.592    0.044   19.350    0.080 /usr/local/lib/python3.8/dist-packages/cu_cat/_gap_encoder.py:932(_multiplicative_update_h)\n",
            "        9    9.809    1.090    9.810    1.090 /usr/local/lib/python3.8/dist-packages/numpy/lib/arraysetops.py:519(in1d)\n",
            "       36    7.886    0.219    7.886    0.219 {built-in method cupy_backends.cuda.libs.nvrtc.compileProgram}\n",
            "        1    7.176    7.176    7.404    7.404 /usr/local/lib/python3.8/dist-packages/cuml/internals/api_decorators.py:397(inner_with_setters)\n",
            "       21    4.920    0.234   12.281    0.585 /usr/local/lib/python3.8/dist-packages/sklearn/feature_extraction/text.py:1184(_count_vocab)\n",
            "    78473    3.624    0.000    4.806    0.000 /usr/local/lib/python3.8/dist-packages/sklearn/feature_extraction/text.py:262(_char_ngrams)\n",
            "1994637/1993882    3.562    0.000   14.445    0.000 {built-in method numpy.core._multiarray_umath.implement_array_function}\n",
            "      451    3.382    0.007    3.386    0.008 {built-in method cupy._core._routines_linalg.matmul}\n",
            "     9287    3.091    0.000    3.183    0.000 /usr/local/lib/python3.8/dist-packages/rmm/rmm.py:216(rmm_cupy_allocator)\n",
            "      123    2.924    0.024    2.924    0.024 {built-in method scipy.sparse._sparsetools.csc_tocsr}\n",
            "  1854054    1.948    0.000    5.284    0.000 <__array_function__ internals>:177(dot)\n",
            "      445    1.875    0.004    2.155    0.005 /usr/local/lib/python3.8/dist-packages/cupyx/scipy/sparse/csr.py:148(__mul__)\n",
            "      487    1.320    0.003    1.320    0.003 {built-in method cupy.cuda.device.get_cusparse_handle}\n",
            " 12694212    1.049    0.000    1.049    0.000 {method 'append' of 'list' objects}\n",
            "   113976    0.678    0.000    0.678    0.000 {method 'extend' of 'array.array' objects}\n",
            "    31831    0.632    0.000    1.810    0.000 /usr/local/lib/python3.8/dist-packages/scipy/sparse/compressed.py:136(check_format)\n",
            "    63914    0.522    0.000    1.205    0.000 /usr/local/lib/python3.8/dist-packages/scipy/sparse/sputils.py:131(get_index_dtype)\n",
            "232780/232757    0.494    0.000    0.765    0.000 {built-in method numpy.asarray}\n",
            "120216/114216    0.469    0.000    0.675    0.000 {built-in method numpy.array}\n",
            "\n",
            "\n"
          ]
        },
        {
          "output_type": "execute_result",
          "data": {
            "text/plain": [
              "<pstats.Stats at 0x7fa6e99f4a60>"
            ]
          },
          "metadata": {},
          "execution_count": 12
        }
      ],
      "source": [
        "g = graphistry.nodes(askHN)\n",
        "pr = cProfile.Profile()\n",
        "pr.enable()\n",
        "\n",
        "# g1a = g.featurize(feature_engine='cuCat',memoize=False)\n",
        "g1a = g.umap(engine='cuml',memoize=False,feature_engine='cu_cat')\n",
        "\n",
        "pr.disable()\n",
        "stats = Stats(pr)\n",
        "stats.sort_stats('tottime').print_stats(20)\n",
        "\n",
        "with open('aHN_umap_cucat_3k.txt', 'w') as stream:\n",
        "    stats = Stats(pr,stream=stream)\n",
        "    stats.sort_stats('tottime').print_stats(20)"
      ]
    },
    {
      "cell_type": "code",
      "execution_count": null,
      "id": "505ed578-f056-4d53-9feb-514f07aa0ca3",
      "metadata": {
        "execution": {
          "iopub.execute_input": "2023-02-22T10:55:12.374182Z",
          "iopub.status.busy": "2023-02-22T10:55:12.373973Z",
          "iopub.status.idle": "2023-02-22T10:57:23.232276Z",
          "shell.execute_reply": "2023-02-22T10:57:23.231836Z",
          "shell.execute_reply.started": "2023-02-22T10:55:12.374163Z"
        },
        "tags": [],
        "colab": {
          "base_uri": "https://localhost:8080/"
        },
        "id": "505ed578-f056-4d53-9feb-514f07aa0ca3",
        "outputId": "3b6d78cb-8232-4c3c-d230-474ddb884b43"
      },
      "outputs": [
        {
          "output_type": "stream",
          "name": "stderr",
          "text": [
            "WARNING:root:* Ignoring target column of shape (3000, 0) in UMAP fit, as it is not one dimensional"
          ]
        },
        {
          "output_type": "stream",
          "name": "stdout",
          "text": [
            "         35746123 function calls (35683329 primitive calls) in 161.237 seconds\n",
            "\n",
            "   Ordered by: internal time\n",
            "   List reduced from 2498 to 20 due to restriction <20>\n",
            "\n",
            "   ncalls  tottime  percall  cumtime  percall filename:lineno(function)\n",
            "      764   44.261    0.058   93.230    0.122 /usr/local/lib/python3.8/dist-packages/dirty_cat/_gap_encoder.py:1003(_multiplicative_update_h)\n",
            "4183584/4182799   41.336    0.000   51.035    0.000 {built-in method numpy.core._multiarray_umath.implement_array_function}\n",
            "      360   15.234    0.042   37.327    0.104 /usr/local/lib/python3.8/dist-packages/dirty_cat/_gap_encoder.py:971(_multiplicative_update_w)\n",
            "        9    8.568    0.952    8.568    0.952 /usr/local/lib/python3.8/dist-packages/numpy/lib/arraysetops.py:519(in1d)\n",
            "  3786716    5.616    0.000   46.662    0.000 <__array_function__ internals>:177(dot)\n",
            "       21    4.458    0.212   11.217    0.534 /usr/local/lib/python3.8/dist-packages/sklearn/feature_extraction/text.py:1184(_count_vocab)\n",
            "    15120    4.066    0.000    4.066    0.000 {built-in method scipy.sparse._sparsetools.coo_matvec}\n",
            "      123    3.361    0.027    3.361    0.027 {built-in method scipy.sparse._sparsetools.csc_tocsr}\n",
            "    78473    3.153    0.000    4.213    0.000 /usr/local/lib/python3.8/dist-packages/sklearn/feature_extraction/text.py:262(_char_ngrams)\n",
            "    95607    2.771    0.000    7.889    0.000 /usr/local/lib/python3.8/dist-packages/scipy/sparse/compressed.py:136(check_format)\n",
            "   192906    2.347    0.000    5.428    0.000 /usr/local/lib/python3.8/dist-packages/scipy/sparse/sputils.py:131(get_index_dtype)\n",
            "95607/95484    1.475    0.000   18.669    0.000 /usr/local/lib/python3.8/dist-packages/scipy/sparse/compressed.py:27(__init__)\n",
            "      360    1.333    0.004    2.070    0.006 /usr/local/lib/python3.8/dist-packages/dirty_cat/_gap_encoder.py:961(_rescale_W)\n",
            "    95607    1.153    0.000    2.236    0.000 /usr/local/lib/python3.8/dist-packages/scipy/sparse/compressed.py:1156(prune)\n",
            "   385834    1.145    0.000    1.145    0.000 /usr/local/lib/python3.8/dist-packages/numpy/core/getlimits.py:647(__init__)\n",
            "    18251    1.111    0.000    1.111    0.000 {method 'reduce' of 'numpy.ufunc' objects}\n",
            "312802/306802    0.984    0.000    1.193    0.000 {built-in method numpy.array}\n",
            "      360    0.935    0.003    1.326    0.004 /usr/local/lib/python3.8/dist-packages/scipy/sparse/compressed.py:365(multiply)\n",
            "     8290    0.935    0.000    0.935    0.000 {built-in method numpy.zeros}\n",
            " 12700947    0.911    0.000    0.911    0.000 {method 'append' of 'list' objects}\n",
            "\n",
            "\n"
          ]
        },
        {
          "output_type": "execute_result",
          "data": {
            "text/plain": [
              "<pstats.Stats at 0x7fa7addde7f0>"
            ]
          },
          "metadata": {},
          "execution_count": 16
        }
      ],
      "source": [
        "g = graphistry.nodes(askHN)\n",
        "pr = cProfile.Profile()\n",
        "pr.enable()\n",
        "\n",
        "\n",
        "# g1b = g.featurize(feature_engine='dirty_cat',memoize=False)\n",
        "g1b = g.umap(engine='cuml',memoize=False,feature_engine='dirty_cat')\n",
        "\n",
        "pr.disable()\n",
        "stats = Stats(pr)\n",
        "stats.sort_stats('tottime').print_stats(20)\n",
        "\n",
        "# with open('aHN_umap_dirtycat_3k.txt', 'w') as stream:\n",
        "#     stats = Stats(pr,stream=stream)\n",
        "#     stats.sort_stats('tottime').print_stats(20)"
      ]
    },
    {
      "cell_type": "code",
      "execution_count": null,
      "id": "a5599817-e773-4369-9049-ea7fc4d7cfa6",
      "metadata": {
        "execution": {
          "iopub.execute_input": "2023-02-22T10:57:23.233244Z",
          "iopub.status.busy": "2023-02-22T10:57:23.233032Z",
          "iopub.status.idle": "2023-02-22T10:57:24.788984Z",
          "shell.execute_reply": "2023-02-22T10:57:24.788519Z",
          "shell.execute_reply.started": "2023-02-22T10:57:23.233225Z"
        },
        "tags": [],
        "colab": {
          "base_uri": "https://localhost:8080/"
        },
        "id": "a5599817-e773-4369-9049-ea7fc4d7cfa6",
        "outputId": "ba999f2f-d893-4ca7-8528-4dfbe9b69047"
      },
      "outputs": [
        {
          "output_type": "execute_result",
          "data": {
            "text/plain": [
              "<IPython.core.display.HTML object>"
            ],
            "text/html": [
              "\n",
              "            <iframe id=\"88387cb3-e4f0-4459-af12-efe7ae36b48d\" src=\"https://hub.graphistry.com/graph/graph.html?dataset=11eb2940c0ae4405a699222bd6bfca47&type=arrow&viztoken=2e157acb-8073-4b28-91d7-e924e03692a2&usertag=55016aa6-pygraphistry-0.28.6+16.gebe0f16&splashAfter=1677651284&info=true&play=0\"\n",
              "                    allowfullscreen=\"true\" webkitallowfullscreen=\"true\" mozallowfullscreen=\"true\"\n",
              "                    oallowfullscreen=\"true\" msallowfullscreen=\"true\"\n",
              "                    style=\"width:100%; height:500px; border: 1px solid #DDD; overflow: hidden\"\n",
              "                    \n",
              "            >\n",
              "            </iframe>\n",
              "        \n",
              "            <script>\n",
              "                try {\n",
              "                  $(\"#88387cb3-e4f0-4459-af12-efe7ae36b48d\").bind('mousewheel', function(e) { e.preventDefault(); });\n",
              "                } catch (e) { console.error('exn catching scroll', e); }\n",
              "            </script>\n",
              "        "
            ]
          },
          "metadata": {},
          "execution_count": 17
        }
      ],
      "source": [
        "g1a.plot()"
      ]
    },
    {
      "cell_type": "code",
      "execution_count": null,
      "id": "e6d6b656-ef14-4e9c-8032-d8f551e04438",
      "metadata": {
        "execution": {
          "iopub.execute_input": "2023-02-22T10:57:24.790604Z",
          "iopub.status.busy": "2023-02-22T10:57:24.790392Z",
          "iopub.status.idle": "2023-02-22T10:57:26.361933Z",
          "shell.execute_reply": "2023-02-22T10:57:26.361281Z",
          "shell.execute_reply.started": "2023-02-22T10:57:24.790579Z"
        },
        "colab": {
          "base_uri": "https://localhost:8080/"
        },
        "id": "e6d6b656-ef14-4e9c-8032-d8f551e04438",
        "outputId": "7327b317-411d-46be-cf26-8d81ae410ca0"
      },
      "outputs": [
        {
          "output_type": "execute_result",
          "data": {
            "text/plain": [
              "<IPython.core.display.HTML object>"
            ],
            "text/html": [
              "\n",
              "            <iframe id=\"3d4e9f09-3ad3-4c42-a1ad-e4ac2879d108\" src=\"https://hub.graphistry.com/graph/graph.html?dataset=07365c9d0216468aa21bb017a02651f4&type=arrow&viztoken=10f3cfb8-8091-4106-9f32-6ffc37ed839f&usertag=55016aa6-pygraphistry-0.28.6+16.gebe0f16&splashAfter=1677651286&info=true&play=0\"\n",
              "                    allowfullscreen=\"true\" webkitallowfullscreen=\"true\" mozallowfullscreen=\"true\"\n",
              "                    oallowfullscreen=\"true\" msallowfullscreen=\"true\"\n",
              "                    style=\"width:100%; height:500px; border: 1px solid #DDD; overflow: hidden\"\n",
              "                    \n",
              "            >\n",
              "            </iframe>\n",
              "        \n",
              "            <script>\n",
              "                try {\n",
              "                  $(\"#3d4e9f09-3ad3-4c42-a1ad-e4ac2879d108\").bind('mousewheel', function(e) { e.preventDefault(); });\n",
              "                } catch (e) { console.error('exn catching scroll', e); }\n",
              "            </script>\n",
              "        "
            ]
          },
          "metadata": {},
          "execution_count": 18
        }
      ],
      "source": [
        "g1b.plot()"
      ]
    },
    {
      "cell_type": "markdown",
      "id": "6657b008-5094-42fd-96a8-177edf7e5ebd",
      "metadata": {
        "jp-MarkdownHeadingCollapsed": true,
        "tags": [],
        "id": "6657b008-5094-42fd-96a8-177edf7e5ebd"
      },
      "source": [
        "### 20newsgroups"
      ]
    },
    {
      "cell_type": "code",
      "execution_count": null,
      "id": "625c5db9-bd1e-40df-9cce-604a675de2aa",
      "metadata": {
        "execution": {
          "iopub.execute_input": "2023-02-22T10:57:26.363119Z",
          "iopub.status.busy": "2023-02-22T10:57:26.362878Z",
          "iopub.status.idle": "2023-02-22T10:57:34.183199Z",
          "shell.execute_reply": "2023-02-22T10:57:34.182513Z",
          "shell.execute_reply.started": "2023-02-22T10:57:26.363099Z"
        },
        "tags": [],
        "id": "625c5db9-bd1e-40df-9cce-604a675de2aa"
      },
      "outputs": [],
      "source": [
        "from sklearn.datasets import fetch_20newsgroups\n",
        "# newsgroups = fetch_20newsgroups()#categories=categories)\n",
        "n_samples = 1000\n",
        "# n_features = 1000\n",
        "# n_components = 10\n",
        "# n_top_words = 20\n",
        "# batch_size = 128\n",
        "# init = \"nndsvda\"\n",
        "\n",
        "news, _ = fetch_20newsgroups(\n",
        "    shuffle=True,\n",
        "    random_state=1,\n",
        "    remove=(\"headers\", \"footers\", \"quotes\"),\n",
        "    return_X_y=True,\n",
        ")\n",
        "\n",
        "news = news[:n_samples]\n",
        "news=pd.DataFrame(news)"
      ]
    },
    {
      "cell_type": "code",
      "execution_count": null,
      "id": "9683c33e-aa71-47a2-87f2-16b69d482a85",
      "metadata": {
        "execution": {
          "iopub.execute_input": "2023-02-22T10:57:34.184601Z",
          "iopub.status.busy": "2023-02-22T10:57:34.184159Z"
        },
        "tags": [],
        "id": "9683c33e-aa71-47a2-87f2-16b69d482a85"
      },
      "outputs": [],
      "source": [
        "g = graphistry.nodes(news)\n",
        "pr = cProfile.Profile()\n",
        "pr.enable()\n",
        "\n",
        "\n",
        "# g2 = g.featurize(feature_engine='dirty_cat',memoize=False)\n",
        "g2a = g.umap(engine='cuml',feature_engine='cu_cat',memoize=False)\n",
        "\n",
        "pr.disable()\n",
        "stats = Stats(pr)\n",
        "stats.sort_stats('tottime').print_stats(20)\n",
        "\n",
        "with open('20news_umap_cucat.txt', 'w') as stream:\n",
        "    stats = Stats(pr,stream=stream)\n",
        "    stats.sort_stats('tottime').print_stats(20)"
      ]
    },
    {
      "cell_type": "code",
      "execution_count": null,
      "id": "b88c5fba-32d3-4140-9a9e-8fd6a652f07c",
      "metadata": {
        "tags": [],
        "id": "b88c5fba-32d3-4140-9a9e-8fd6a652f07c"
      },
      "outputs": [],
      "source": [
        "g = graphistry.nodes(news)\n",
        "pr = cProfile.Profile()\n",
        "pr.enable()\n",
        "\n",
        "\n",
        "# g2 = g.featurize(feature_engine='dirty_cat',memoize=False)\n",
        "g2b = g.umap(engine='cuml',feature_engine='dirty_cat',memoize=False)\n",
        "\n",
        "pr.disable()\n",
        "stats = Stats(pr)\n",
        "stats.sort_stats('tottime').print_stats(20)\n",
        "\n",
        "with open('20news_umap_dirtycat.txt', 'w') as stream:\n",
        "    stats = Stats(pr,stream=stream)\n",
        "    stats.sort_stats('tottime').print_stats(20)"
      ]
    },
    {
      "cell_type": "code",
      "source": [
        "g2a.plot()"
      ],
      "metadata": {
        "id": "IEsE-QH10AXp"
      },
      "id": "IEsE-QH10AXp",
      "execution_count": null,
      "outputs": []
    },
    {
      "cell_type": "code",
      "source": [
        "g2b.plot()"
      ],
      "metadata": {
        "id": "Y7OnX7gh0AZ6"
      },
      "id": "Y7OnX7gh0AZ6",
      "execution_count": null,
      "outputs": []
    },
    {
      "cell_type": "markdown",
      "id": "f2eafa7a-9b51-492a-ab0e-ed7ec89a2a6f",
      "metadata": {
        "jp-MarkdownHeadingCollapsed": true,
        "tags": [],
        "id": "f2eafa7a-9b51-492a-ab0e-ed7ec89a2a6f"
      },
      "source": [
        "### winlogs"
      ]
    },
    {
      "cell_type": "code",
      "execution_count": 13,
      "id": "80d63f55-ebfc-4963-813e-ed96f4f7799e",
      "metadata": {
        "tags": [],
        "id": "80d63f55-ebfc-4963-813e-ed96f4f7799e"
      },
      "outputs": [],
      "source": [
        "# !wget -nc https://www.dropbox.com/s/31dx1g6g59exoc3/part.88.parquet\n",
        "winlogs=pd.read_parquet('part.88.parquet')\n",
        "\n",
        "winlogs=winlogs.sample(100000,replace=False).iloc[:,:10]"
      ]
    },
    {
      "cell_type": "code",
      "execution_count": 8,
      "id": "cb4118a6-f1fe-4893-a767-c45ee96633a8",
      "metadata": {
        "tags": [],
        "id": "cb4118a6-f1fe-4893-a767-c45ee96633a8"
      },
      "outputs": [],
      "source": [
        "# import cupy as cp\n",
        "# del g,g2,g3\n",
        "# cp._default_memory_pool.free_all_blocks()"
      ]
    },
    {
      "cell_type": "code",
      "source": [
        "# from importlib import reload\n",
        "# reload(cu_cat)\n",
        "# import cu_cat\n",
        "# print(cu_cat.__file__)"
      ],
      "metadata": {
        "id": "wFkqXOrPWsh1"
      },
      "id": "wFkqXOrPWsh1",
      "execution_count": 9,
      "outputs": []
    },
    {
      "cell_type": "code",
      "execution_count": null,
      "id": "ea9e2fb1-fe96-4b4a-bd5e-09184bd37426",
      "metadata": {
        "tags": [],
        "id": "ea9e2fb1-fe96-4b4a-bd5e-09184bd37426"
      },
      "outputs": [],
      "source": [
        "g = graphistry.nodes(winlogs)\n",
        "pr = cProfile.Profile()\n",
        "pr.enable()\n",
        "\n",
        "g3a = g.featurize(feature_engine='cu_cat',memoize=False)\n",
        "# g3a = g.umap(engine='cuml',feature_engine='cu_cat',memoize=False)\n",
        "pr.disable()\n",
        "stats = Stats(pr)\n",
        "stats.sort_stats('tottime').print_stats(20)\n",
        "\n",
        "with open('winlogs_featurize_cucat_100k.txt', 'w') as stream:\n",
        "    stats = Stats(pr,stream=stream)\n",
        "    stats.sort_stats('tottime').print_stats(20)"
      ]
    },
    {
      "cell_type": "code",
      "execution_count": 42,
      "id": "10526794-559b-407d-865a-84fd94e560e5",
      "metadata": {
        "tags": [],
        "id": "10526794-559b-407d-865a-84fd94e560e5",
        "colab": {
          "base_uri": "https://localhost:8080/"
        },
        "outputId": "00fb34c5-399a-409b-e05e-49966fb68895"
      },
      "outputs": [
        {
          "output_type": "stream",
          "name": "stderr",
          "text": [
            "WARNING:root:* Ignoring target column of shape (10000, 0) in UMAP fit, as it is not one dimensional"
          ]
        },
        {
          "output_type": "stream",
          "name": "stdout",
          "text": [
            "         31951570 function calls (31788559 primitive calls) in 116.870 seconds\n",
            "\n",
            "   Ordered by: internal time\n",
            "   List reduced from 1963 to 20 due to restriction <20>\n",
            "\n",
            "   ncalls  tottime  percall  cumtime  percall filename:lineno(function)\n",
            "3655414/3653726   23.330    0.000   28.512    0.000 {built-in method numpy.core._multiarray_umath.implement_array_function}\n",
            "     3095   22.475    0.007   64.168    0.021 /usr/local/lib/python3.8/dist-packages/dirty_cat/_gap_encoder.py:1003(_multiplicative_update_h)\n",
            "     2765   11.887    0.004   31.699    0.011 /usr/local/lib/python3.8/dist-packages/dirty_cat/_gap_encoder.py:971(_multiplicative_update_w)\n",
            "   165456    5.149    0.000   15.205    0.000 /usr/local/lib/python3.8/dist-packages/scipy/sparse/compressed.py:136(check_format)\n",
            "  2936401    5.053    0.000   25.508    0.000 <__array_function__ internals>:177(dot)\n",
            "       21    4.434    0.211    4.435    0.211 /usr/local/lib/python3.8/dist-packages/numpy/lib/arraysetops.py:519(in1d)\n",
            "   342552    4.382    0.000   10.276    0.000 /usr/local/lib/python3.8/dist-packages/scipy/sparse/sputils.py:131(get_index_dtype)\n",
            "165456/165169    2.733    0.000   28.361    0.000 /usr/local/lib/python3.8/dist-packages/scipy/sparse/compressed.py:27(__init__)\n",
            "     2765    2.355    0.001    3.248    0.001 /usr/local/lib/python3.8/dist-packages/dirty_cat/_gap_encoder.py:961(_rescale_W)\n",
            "   165456    2.303    0.000    4.556    0.000 /usr/local/lib/python3.8/dist-packages/scipy/sparse/compressed.py:1156(prune)\n",
            "   685151    2.075    0.000    2.075    0.000 /usr/local/lib/python3.8/dist-packages/numpy/core/getlimits.py:647(__init__)\n",
            "    20000    1.867    0.000    2.588    0.000 /usr/local/lib/python3.8/dist-packages/pandas/core/missing.py:60(mask_missing)\n",
            "    81070    1.864    0.000    1.864    0.000 {method 'reduce' of 'numpy.ufunc' objects}\n",
            "   170989    1.320    0.000    1.913    0.000 /usr/local/lib/python3.8/dist-packages/scipy/sparse/sputils.py:277(check_shape)\n",
            "   160873    1.289    0.000   27.998    0.000 /usr/local/lib/python3.8/dist-packages/scipy/sparse/csr.py:240(__iter__)\n",
            "   664135    1.227    0.000    2.846    0.000 <__array_function__ internals>:177(can_cast)\n",
            "   784349    1.191    0.000    2.170    0.000 /usr/local/lib/python3.8/dist-packages/scipy/sparse/base.py:238(nnz)\n",
            "   116130    1.052    0.000    1.052    0.000 {built-in method scipy.sparse._sparsetools.coo_matvec}\n",
            "   572262    1.010    0.000    1.011    0.000 {built-in method numpy.array}\n",
            "    32352    0.988    0.000    0.988    0.000 {built-in method numpy.zeros}\n",
            "\n",
            "\n"
          ]
        }
      ],
      "source": [
        "g = graphistry.nodes(winlogs)\n",
        "pr = cProfile.Profile()\n",
        "pr.enable()\n",
        "\n",
        "\n",
        "# g3b = g.featurize(feature_engine='dirty_cat',memoize=False)\n",
        "g3b = g.umap(engine='cuml',feature_engine='dirty_cat',memoize=False)\n",
        "\n",
        "pr.disable()\n",
        "stats = Stats(pr)\n",
        "stats.sort_stats('tottime').print_stats(20)\n",
        "\n",
        "with open('winlogs_featurize_dirtycat_50k.txt', 'w') as stream:\n",
        "    stats = Stats(pr,stream=stream)\n",
        "    stats.sort_stats('tottime').print_stats(20)"
      ]
    },
    {
      "cell_type": "code",
      "source": [
        "g3a.plot()"
      ],
      "metadata": {
        "id": "3A4rYX7D0Fpp"
      },
      "id": "3A4rYX7D0Fpp",
      "execution_count": null,
      "outputs": []
    },
    {
      "cell_type": "code",
      "source": [
        "g3b.plot()"
      ],
      "metadata": {
        "id": "rtMe7Vec0FrJ"
      },
      "id": "rtMe7Vec0FrJ",
      "execution_count": null,
      "outputs": []
    },
    {
      "cell_type": "markdown",
      "id": "b9fa2d4e-53e8-4eb5-bdbf-c5c1908159ad",
      "metadata": {
        "jp-MarkdownHeadingCollapsed": true,
        "tags": [],
        "id": "b9fa2d4e-53e8-4eb5-bdbf-c5c1908159ad"
      },
      "source": [
        "### redteam"
      ]
    },
    {
      "cell_type": "code",
      "execution_count": null,
      "id": "3fe52faa-c35c-492e-98c1-7cfc46888a5f",
      "metadata": {
        "tags": [],
        "colab": {
          "base_uri": "https://localhost:8080/"
        },
        "id": "3fe52faa-c35c-492e-98c1-7cfc46888a5f",
        "outputId": "f0f1a953-e909-4413-dbae-892f17c3b0ba"
      },
      "outputs": [
        {
          "output_type": "execute_result",
          "data": {
            "text/plain": [
              "749.0"
            ]
          },
          "metadata": {},
          "execution_count": 7
        }
      ],
      "source": [
        "df = pd.read_csv('https://gist.githubusercontent.com/silkspace/c7b50d0c03dc59f63c48d68d696958ff/raw/31d918267f86f8252d42d2e9597ba6fc03fcdac2/redteam_50k.csv', index_col=0)\n",
        "red_team = pd.read_csv('https://gist.githubusercontent.com/silkspace/5cf5a94b9ac4b4ffe38904f20d93edb1/raw/888dabd86f88ea747cf9ff5f6c44725e21536465/redteam_labels.csv', index_col=0)\n",
        "df['feats'] = df.src_computer + ' ' + df.dst_computer + ' ' + df.auth_type + ' ' + df.logontype\n",
        "df['feats2'] = df.src_computer + ' ' + df.dst_computer\n",
        "ndf = df.drop_duplicates(subset=['feats'])\n",
        "tdf = pd.concat([red_team.reset_index(), ndf.reset_index()])\n",
        "tdf['node'] = range(len(tdf))\n",
        "tdf.RED.sum()"
      ]
    },
    {
      "cell_type": "code",
      "execution_count": null,
      "id": "28017a3b-6a39-4c33-8d6d-78cecb73ecf2",
      "metadata": {
        "tags": [],
        "id": "28017a3b-6a39-4c33-8d6d-78cecb73ecf2"
      },
      "outputs": [],
      "source": [
        "g = graphistry.nodes(tdf)\n",
        "pr = cProfile.Profile()\n",
        "pr.enable()\n",
        "\n",
        "g4a = g.featurize(feature_engine='cu_cat',memoize=False)\n",
        "# g3 = g.umap(engine='cuml',feature_engine='cuCat',memoize=False)\n",
        "\n",
        "pr.disable()\n",
        "stats = Stats(pr)\n",
        "stats.sort_stats('tottime').print_stats(20)\n"
      ]
    },
    {
      "cell_type": "code",
      "execution_count": null,
      "id": "343d14cc-e1e4-4f6c-aa0d-ff4e6f0dcefa",
      "metadata": {
        "tags": [],
        "id": "343d14cc-e1e4-4f6c-aa0d-ff4e6f0dcefa"
      },
      "outputs": [],
      "source": [
        "g = graphistry.nodes(tdf)\n",
        "pr = cProfile.Profile()\n",
        "pr.enable()\n",
        "\n",
        "g4b = g.featurize(feature_engine='dirty_cat',memoize=False)\n",
        "# g3 = g.umap(engine='cuml',feature_engine='cuCat',memoize=False)\n",
        "\n",
        "pr.disable()\n",
        "stats = Stats(pr)\n",
        "stats.sort_stats('tottime').print_stats(20)\n"
      ]
    },
    {
      "cell_type": "code",
      "execution_count": null,
      "id": "65589ec6-7112-43eb-895c-8f0e3610f0cf",
      "metadata": {
        "tags": [],
        "id": "65589ec6-7112-43eb-895c-8f0e3610f0cf"
      },
      "outputs": [],
      "source": [
        "%%time\n",
        "pr = cProfile.Profile()\n",
        "pr.enable()\n",
        "g = graphistry.nodes(tdf, 'node')\n",
        "g4a = g.umap(X=['feats'], \n",
        "            min_words=1000000, # force high so that we don't use Sentence Transformers\n",
        "            cardinality_threshold=4, # set low so we force topic model\n",
        "            n_topics=32, # number of topics\n",
        "            use_scaler=None,\n",
        "            feature_engine='dirty_cat',\n",
        "            memoize=False,\n",
        "            # engine='cuml',\n",
        "            use_scaler_target=None\n",
        "           )\n",
        "\n",
        "pr.disable()\n",
        "stats = Stats(pr)\n",
        "stats.sort_stats('tottime').print_stats(20)\n",
        "\n",
        "with open('redteam_umap_dirtycat.txt', 'w') as stream:\n",
        "    stats = Stats(pr,stream=stream)\n",
        "    stats.sort_stats('tottime').print_stats(20)"
      ]
    },
    {
      "cell_type": "code",
      "execution_count": null,
      "id": "50a61cf4-316f-4a78-854d-72c73f89e4ce",
      "metadata": {
        "tags": [],
        "colab": {
          "base_uri": "https://localhost:8080/"
        },
        "id": "50a61cf4-316f-4a78-854d-72c73f89e4ce",
        "outputId": "233bdaf7-5352-4bd2-f98d-61bef97951c8"
      },
      "outputs": [
        {
          "output_type": "stream",
          "name": "stderr",
          "text": [
            "WARNING:root:* Ignoring target column of shape (19762, 0) in UMAP fit, as it is not one dimensional"
          ]
        },
        {
          "output_type": "stream",
          "name": "stdout",
          "text": [
            "         12162452 function calls (12121835 primitive calls) in 80.919 seconds\n",
            "\n",
            "   Ordered by: internal time\n",
            "   List reduced from 2081 to 20 due to restriction <20>\n",
            "\n",
            "   ncalls  tottime  percall  cumtime  percall filename:lineno(function)\n",
            "        5   18.267    3.653   27.114    5.423 /usr/local/lib/python3.8/dist-packages/cu_cat/_gap_encoder.py:984(_multiplicative_update_h_smallfast)\n",
            "        3   17.220    5.740   17.220    5.740 /usr/local/lib/python3.8/dist-packages/numpy/lib/arraysetops.py:519(in1d)\n",
            "    39524    8.155    0.000   10.360    0.000 /usr/local/lib/python3.8/dist-packages/pandas/core/missing.py:60(mask_missing)\n",
            "42881/42646    7.562    0.000   24.912    0.001 {built-in method numpy.core._multiarray_umath.implement_array_function}\n",
            "        1    7.102    7.102    7.115    7.115 /usr/local/lib/python3.8/dist-packages/cuml/internals/api_decorators.py:397(inner_with_setters)\n",
            "      212    4.661    0.022    4.663    0.022 {built-in method cupy._core._routines_linalg.matmul}\n",
            "     4282    2.645    0.001    2.697    0.001 /usr/local/lib/python3.8/dist-packages/rmm/rmm.py:216(rmm_cupy_allocator)\n",
            "    79468    1.927    0.000    1.927    0.000 {method 'reduce' of 'numpy.ufunc' objects}\n",
            "        7    0.853    0.122    2.612    0.373 /usr/local/lib/python3.8/dist-packages/sklearn/feature_extraction/text.py:1184(_count_vocab)\n",
            "2618218/2578691    0.841    0.000    1.133    0.000 {built-in method builtins.isinstance}\n",
            "      224    0.782    0.003    0.782    0.003 {built-in method cupy.cuda.device.get_cusparse_handle}\n",
            "    63053    0.646    0.000    0.890    0.000 /usr/local/lib/python3.8/dist-packages/sklearn/feature_extraction/text.py:262(_char_ngrams)\n",
            "    79048    0.390    0.000    0.623    0.000 /usr/local/lib/python3.8/dist-packages/pandas/core/dtypes/cast.py:689(infer_dtype_from_scalar)\n",
            "    39668    0.359    0.000    0.359    0.000 {built-in method numpy.zeros}\n",
            "      210    0.354    0.002    0.525    0.003 /usr/local/lib/python3.8/dist-packages/cupyx/scipy/sparse/csr.py:148(__mul__)\n",
            "       31    0.286    0.009    0.286    0.009 {built-in method scipy.sparse._sparsetools.csc_tocsr}\n",
            "    39524    0.257    0.000    3.469    0.000 /usr/local/lib/python3.8/dist-packages/pandas/core/internals/blocks.py:1055(coerce_to_target_dtype)\n",
            "      8/5    0.255    0.032   24.841    4.968 /usr/local/lib/python3.8/dist-packages/pandas/core/generic.py:6440(replace)\n",
            "   109832    0.240    0.000    1.323    0.000 /usr/local/lib/python3.8/dist-packages/sklearn/feature_extraction/text.py:77(_analyze)\n",
            "    39525    0.236    0.000    0.513    0.000 {method 'any' of 'numpy.generic' objects}\n",
            "\n",
            "\n",
            "CPU times: user 1min 1s, sys: 9.75 s, total: 1min 10s\n",
            "Wall time: 1min 21s\n"
          ]
        }
      ],
      "source": [
        "%%time\n",
        "# process = True  # set to false after it's run for ease of speed\n",
        "pr = cProfile.Profile()\n",
        "pr.enable()\n",
        "g = graphistry.nodes(tdf, 'node')\n",
        "g4b = g.umap(X=['feats'], \n",
        "            min_words=1000000, # force high so that we don't use Sentence Transformers\n",
        "            cardinality_threshold=4, # set low so we force topic model\n",
        "            n_topics=32, # number of topics\n",
        "            use_scaler=None,\n",
        "            feature_engine='cu_cat',\n",
        "            memoize=False,\n",
        "            # engine='cuml',\n",
        "            use_scaler_target=None\n",
        "           )\n",
        "\n",
        "pr.disable()\n",
        "stats = Stats(pr)\n",
        "stats.sort_stats('tottime').print_stats(20)\n",
        "\n",
        "with open('redteam_umap_cucat.txt', 'w') as stream:\n",
        "    stats = Stats(pr,stream=stream)\n",
        "    stats.sort_stats('tottime').print_stats(20)"
      ]
    },
    {
      "cell_type": "code",
      "source": [
        "g4a.plot()"
      ],
      "metadata": {
        "id": "LG_T7aGA0I-q"
      },
      "id": "LG_T7aGA0I-q",
      "execution_count": null,
      "outputs": []
    },
    {
      "cell_type": "code",
      "source": [
        "g4b.plot()"
      ],
      "metadata": {
        "id": "BOU_19sP0JAr"
      },
      "id": "BOU_19sP0JAr",
      "execution_count": null,
      "outputs": []
    },
    {
      "cell_type": "markdown",
      "id": "3eb4ae8b-2a14-43fe-ac7f-1714e38272aa",
      "metadata": {
        "tags": [],
        "id": "3eb4ae8b-2a14-43fe-ac7f-1714e38272aa"
      },
      "source": [
        "### CTU-13 malware dataset"
      ]
    },
    {
      "cell_type": "code",
      "execution_count": null,
      "id": "3b2f1b00-6984-44c2-9148-6f38282bc0de",
      "metadata": {
        "execution": {
          "iopub.execute_input": "2023-02-24T07:28:15.681832Z",
          "iopub.status.busy": "2023-02-24T07:28:15.681414Z",
          "iopub.status.idle": "2023-02-24T07:28:16.326674Z",
          "shell.execute_reply": "2023-02-24T07:28:16.326116Z",
          "shell.execute_reply.started": "2023-02-24T07:28:15.681805Z"
        },
        "tags": [],
        "id": "3b2f1b00-6984-44c2-9148-6f38282bc0de"
      },
      "outputs": [],
      "source": [
        "edf = pd.read_csv('https://gist.githubusercontent.com/silkspace/33bde3e69ae24fee1298a66d1e00b467/raw/dc66bd6f1687270be7098f94b3929d6a055b4438/malware_bots.csv', index_col=0)\n",
        "T = edf.Label.apply(lambda x: True if 'Botnet' in x else False)\n",
        "bot = edf[T]\n",
        "nbot = edf[~T]\n",
        "print(f'Botnet abundance: {100*len(bot)/len(edf):0.2f}%')# so botnet traffic makes up a tiny fraction of total\n",
        "\n",
        "# let's balance the dataset in a 10-1 ratio, for speed and demonstrative purposes\n",
        "negs = nbot.sample(10*len(bot))\n",
        "edf = pd.concat([bot, negs])  # top part of arrays are bot traffic, then all non-bot traffic\n",
        "edf = edf.drop_duplicates()\n",
        "\n",
        "# some useful indicators for later that predict Botnet as Bool and Int\n",
        "Y = edf.Label.apply(lambda x: 1 if 'Botnet' in x else 0)  # np.array(T)\n",
        "\n",
        "# Later we will use and exploit any meaning shared between the labels in a latent distribution\n",
        "\n",
        "# add it to the dataframe\n",
        "edf['bot'] = Y\n",
        "\n",
        "# name some columns for edges and features\n",
        "src = 'SrcAddr'\n",
        "dst = 'DstAddr'\n",
        "good_cols_with_edges = ['Dur', 'Proto', 'Sport',\n",
        "       'Dport', 'State', 'TotPkts', 'TotBytes', 'SrcBytes', src, dst]\n",
        "\n",
        "good_cols_without_edges = ['Dur', 'Proto', 'Sport',\n",
        "       'Dport', 'State', 'TotPkts', 'TotBytes', 'SrcBytes']\n",
        "\n",
        "## some encoding parameters\n",
        "n_topics = 20\n",
        "n_topics_target = 7\n",
        "\n"
      ]
    },
    {
      "cell_type": "code",
      "execution_count": null,
      "id": "80afba3a-6fd0-40cb-a7b6-1fcea986c6eb",
      "metadata": {
        "execution": {
          "iopub.execute_input": "2023-02-24T08:45:20.454445Z",
          "iopub.status.busy": "2023-02-24T08:45:20.454079Z",
          "iopub.status.idle": "2023-02-24T08:45:20.458317Z",
          "shell.execute_reply": "2023-02-24T08:45:20.457457Z",
          "shell.execute_reply.started": "2023-02-24T08:45:20.454407Z"
        },
        "tags": [],
        "id": "80afba3a-6fd0-40cb-a7b6-1fcea986c6eb"
      },
      "outputs": [],
      "source": [
        "from inspect import getmodule"
      ]
    },
    {
      "cell_type": "code",
      "execution_count": null,
      "id": "b0947964-efba-43be-acdc-39e52d7e2261",
      "metadata": {
        "execution": {
          "iopub.execute_input": "2023-02-24T07:28:18.004231Z",
          "iopub.status.busy": "2023-02-24T07:28:18.003853Z",
          "iopub.status.idle": "2023-02-24T07:28:30.085904Z",
          "shell.execute_reply": "2023-02-24T07:28:30.084405Z",
          "shell.execute_reply.started": "2023-02-24T07:28:18.004191Z"
        },
        "tags": [],
        "id": "b0947964-efba-43be-acdc-39e52d7e2261"
      },
      "outputs": [],
      "source": [
        "# lets umap the data\n",
        "g = graphistry.edges(edf, src, dst)\n",
        "\n",
        "pr = cProfile.Profile()\n",
        "pr.enable()\n",
        "g5a = g.umap(kind='edges', \n",
        "            X=good_cols_with_edges, \n",
        "            y = ['bot'], \n",
        "            use_scaler='quantile',\n",
        "            use_scaler_target=None,\n",
        "            cardinality_threshold=20,\n",
        "            cardinality_threshold_target=2, \n",
        "            n_topics=n_topics,\n",
        "            feature_engine='cu_cat',\n",
        "            engine='cuml',\n",
        "            memoize=False,\n",
        "            n_topics_target=n_topics_target,\n",
        "            n_bins=n_topics_target,\n",
        "            metric='euclidean', \n",
        "            n_neighbors=12)\n",
        "pr.disable()\n",
        "stats = Stats(pr)\n",
        "stats.sort_stats('tottime').print_stats(20)\n",
        "\n",
        "with open('ctu13_umap_cucat.txt', 'w') as stream:\n",
        "    stats = Stats(pr,stream=stream)\n",
        "    stats.sort_stats('tottime').print_stats(20)\n"
      ]
    },
    {
      "cell_type": "code",
      "execution_count": null,
      "id": "066c8421-4c91-4e6a-b6de-07a62eecdfb1",
      "metadata": {
        "execution": {
          "iopub.execute_input": "2023-02-23T04:03:02.445797Z",
          "iopub.status.busy": "2023-02-23T04:03:02.445498Z",
          "iopub.status.idle": "2023-02-23T04:03:07.977348Z",
          "shell.execute_reply": "2023-02-23T04:03:07.976107Z",
          "shell.execute_reply.started": "2023-02-23T04:03:02.445765Z"
        },
        "tags": [],
        "id": "066c8421-4c91-4e6a-b6de-07a62eecdfb1"
      },
      "outputs": [],
      "source": [
        "### lets umap the data\n",
        "g = graphistry.edges(edf, src, dst)\n",
        "pr = cProfile.Profile()\n",
        "pr.enable()\n",
        "g5b = g.umap(kind='edges', \n",
        "            X=good_cols_with_edges, \n",
        "            y = ['bot'], \n",
        "            use_scaler='quantile',\n",
        "            use_scaler_target=None,\n",
        "            cardinality_threshold=20,\n",
        "            cardinality_threshold_target=2, \n",
        "            n_topics=n_topics,\n",
        "            feature_engine='dirty_cat',\n",
        "            engine='cuml',\n",
        "            memoize=False,\n",
        "            n_topics_target=n_topics_target,\n",
        "            n_bins=n_topics_target,\n",
        "            metric='euclidean', \n",
        "            n_neighbors=12)\n",
        "pr.disable()\n",
        "stats = Stats(pr)\n",
        "stats.sort_stats('tottime').print_stats(20)\n",
        "\n",
        "with open('ctu13_umap_dirtycat.txt', 'w') as stream:\n",
        "    stats = Stats(pr,stream=stream)\n",
        "    stats.sort_stats('tottime').print_stats(20)\n"
      ]
    },
    {
      "cell_type": "code",
      "execution_count": null,
      "id": "216f66ba-18a5-4ac5-bb10-b7aefe086df0",
      "metadata": {
        "id": "216f66ba-18a5-4ac5-bb10-b7aefe086df0"
      },
      "outputs": [],
      "source": [
        "g5a.plot()"
      ]
    },
    {
      "cell_type": "code",
      "source": [
        "g5b.plot()"
      ],
      "metadata": {
        "id": "6rlxC5d_0PZi"
      },
      "id": "6rlxC5d_0PZi",
      "execution_count": null,
      "outputs": []
    },
    {
      "cell_type": "code",
      "source": [],
      "metadata": {
        "id": "eNP5tQbH7cAJ"
      },
      "id": "eNP5tQbH7cAJ",
      "execution_count": null,
      "outputs": []
    }
  ],
  "metadata": {
    "kernelspec": {
      "display_name": "Python 3",
      "name": "python3"
    },
    "language_info": {
      "name": "python"
    },
    "colab": {
      "provenance": [],
      "collapsed_sections": [
        "a1f6bcea-42c9-4f00-baf1-86e4c4349434",
        "6657b008-5094-42fd-96a8-177edf7e5ebd"
      ],
      "include_colab_link": true
    },
    "gpuClass": "standard",
    "accelerator": "GPU"
  },
  "nbformat": 4,
  "nbformat_minor": 5
}