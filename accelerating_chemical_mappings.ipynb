{
  "cells": [
    {
      "cell_type": "markdown",
      "metadata": {
        "id": "view-in-github",
        "colab_type": "text"
      },
      "source": [
        "<a href=\"https://colab.research.google.com/github/dcolinmorgan/grph/blob/main/accelerating_chemical_mappings.ipynb\" target=\"_parent\"><img src=\"https://colab.research.google.com/assets/colab-badge.svg\" alt=\"Open In Colab\"/></a>"
      ]
    },
    {
      "cell_type": "markdown",
      "metadata": {
        "id": "dzmJAwfiAi6k"
      },
      "source": [
        "# Mapping Chemical Space with UMAP (adapted from [blog post](https://blog.reverielabs.com/mapping-chemical-space-with-umap))\n",
        "\n",
        "This notebook visualizes a chemical dataset describing Blood Brain Barrier Permeability (BBBP) from [MoleculeNet](http://moleculenet.ai/datasets-1) and [ECFPs](https://pubs.acs.org/doi/10.1021/ci100050t), then reduce those high-dimensional vectors down to 2 dimensions using conventional statistical tools. Ultimately we demonstrate how such an OPEN-SOURCE analysis can be sped-up and scaled-up massively with the [graphistry](graphistry.com) environment and toolkit\n"
      ]
    },
    {
      "cell_type": "markdown",
      "metadata": {
        "id": "w89wE473URRH"
      },
      "source": [
        "# Import accelerator libraries"
      ]
    },
    {
      "cell_type": "code",
      "execution_count": null,
      "metadata": {
        "id": "ABA00KeDT6Gx"
      },
      "outputs": [],
      "source": [
        "!pip install --extra-index-url=https://pypi.nvidia.com cuml-cu11 cudf-cu11 cugraph-cu11 pylibraft_cu11 raft_dask_cu11 dask_cudf_cu11 pylibcugraph_cu11 pylibraft_cu11\n",
        "import cuml,cudf\n",
        "print(cuml.__version__)\n",
        "\n",
        "!pip install -U --force git+https://github.com/graphistry/pygraphistry.git@cudf\n",
        "!pip install -U git+https://github.com/graphistry/cu-cat.git@DT\n",
        "!pip install dirty_cat"
      ]
    },
    {
      "cell_type": "code",
      "execution_count": null,
      "metadata": {
        "id": "mgP9tmho9DHj",
        "colab": {
          "base_uri": "https://localhost:8080/"
        },
        "outputId": "3231b670-4f9b-4f2c-b00d-73be2a025baa"
      },
      "outputs": [
        {
          "output_type": "stream",
          "name": "stdout",
          "text": [
            "23.06.00\n"
          ]
        }
      ],
      "source": [
        "print(cuml.__version__)"
      ]
    },
    {
      "cell_type": "code",
      "execution_count": null,
      "metadata": {
        "id": "7_t1UL7YUAx3",
        "colab": {
          "base_uri": "https://localhost:8080/"
        },
        "outputId": "224cd9b9-0366-4358-beab-11306b9a447c"
      },
      "outputs": [
        {
          "output_type": "stream",
          "name": "stdout",
          "text": [
            "0.28.7+463.gfb96400\n",
            "/usr/local/lib/python3.10/dist-packages/cu_cat/__init__.py\n"
          ]
        }
      ],
      "source": [
        "import graphistry\n",
        "graphistry.register(api=3,protocol=\"https\", server=\"hub.graphistry.com\", username='dcolinmorgan', password='fXjJnkE3Gik6BWy') ## key id, secret key\n",
        "\n",
        "# graphistry.register(api=3,protocol=\"https\", server=\"hub.graphistry.com\", username='dcolinmorgan', password='***') ## key id, secret key\n",
        "print(graphistry.__version__)\n",
        "\n",
        "import cu_cat\n",
        "print(cu_cat.__file__)\n",
        "\n",
        "import os\n",
        "from collections import Counter\n",
        "import cProfile\n",
        "import pandas as pd\n",
        "import numpy as np\n",
        "import matplotlib.pyplot as plt\n",
        "from pstats import Stats\n",
        "import cudf\n",
        "from time import time\n",
        "import warnings\n",
        "warnings.filterwarnings('ignore')\n",
        "from typing import List\n",
        "import seaborn as sns\n",
        "pd.set_option('display.max_colwidth', 200)"
      ]
    },
    {
      "cell_type": "code",
      "execution_count": null,
      "metadata": {
        "id": "EtU413LOUG_S",
        "colab": {
          "base_uri": "https://localhost:8080/"
        },
        "outputId": "382d80c2-2484-4d94-8698-9f2afc6bbdc7"
      },
      "outputs": [
        {
          "output_type": "stream",
          "name": "stdout",
          "text": [
            "Tesla T4\n"
          ]
        }
      ],
      "source": [
        "!nvidia-smi --query-gpu=gpu_name --format=csv,noheader"
      ]
    },
    {
      "cell_type": "markdown",
      "metadata": {
        "id": "ZfM8WRfW4gOY"
      },
      "source": [
        "# Import Basics"
      ]
    },
    {
      "cell_type": "code",
      "execution_count": null,
      "metadata": {
        "id": "niFt_nv8N8nY"
      },
      "outputs": [],
      "source": [
        "!pip install umap-learn hdbscan rdkit\n",
        "\n",
        "# import umap\n",
        "# import hdbscan\n",
        "\n",
        "!pip install --pre deepchem"
      ]
    },
    {
      "cell_type": "code",
      "execution_count": null,
      "metadata": {
        "id": "prDjzDTU384B"
      },
      "outputs": [],
      "source": [
        "from rdkit import Chem, DataStructs\n",
        "from rdkit.Chem.rdchem import Mol\n",
        "from rdkit.Chem.MolStandardize.rdMolStandardize import LargestFragmentChooser\n",
        "\n",
        "from rdkit import RDLogger\n",
        "lg = RDLogger.logger()\n",
        "lg.setLevel(RDLogger.CRITICAL)\n",
        "\n"
      ]
    },
    {
      "cell_type": "markdown",
      "metadata": {
        "id": "uHEaHOadUYRy"
      },
      "source": [
        "# Fingerprint functions"
      ]
    },
    {
      "cell_type": "code",
      "execution_count": null,
      "metadata": {
        "id": "3E4Tl7mx4HNV"
      },
      "outputs": [],
      "source": [
        "from typing import List\n",
        "def get_largest_fragment_from_smiles(s: str):\n",
        "    mol = Chem.MolFromSmiles(s)\n",
        "    if mol:\n",
        "        clean_mol = LargestFragmentChooser().choose(mol)\n",
        "        return Chem.MolToSmiles(clean_mol)\n",
        "    return None\n",
        "\n",
        "def compute_ecfp_descriptors(smiles_list: List[str]):\n",
        "    \"\"\" Computes ecfp descriptors \"\"\"\n",
        "\n",
        "    keep_idx = []\n",
        "    descriptors = []\n",
        "    for i, smiles in enumerate(smiles_list):\n",
        "        ecfp = _compute_single_ecfp_descriptor(smiles)\n",
        "        if ecfp is not None:\n",
        "            keep_idx.append(i)\n",
        "            descriptors.append(ecfp)\n",
        "\n",
        "    return np.vstack(descriptors), keep_idx\n",
        "\n",
        "def _compute_single_ecfp_descriptor(smiles: str):\n",
        "    try:\n",
        "        mol = Chem.MolFromSmiles(smiles)\n",
        "    except Exception as E:\n",
        "        return None\n",
        "\n",
        "    if mol:\n",
        "        fp = Chem.AllChem.GetMorganFingerprintAsBitVect(mol, radius=2, nBits=2048)\n",
        "        return np.array(fp)\n",
        "\n",
        "    return None"
      ]
    },
    {
      "cell_type": "code",
      "execution_count": null,
      "metadata": {
        "id": "249bcQe54JE9"
      },
      "outputs": [],
      "source": [
        "def plot_global_embeddings_with_clusters(df: pd.DataFrame,\n",
        "                          x_col: str,\n",
        "                          y_col: str,\n",
        "                          cluster_col: str,\n",
        "                          title: str = \"\",\n",
        "                          x_lim = None,\n",
        "                          y_lim = None):\n",
        "    \"\"\" Plots data colored by soft HDBSCAN clusters\n",
        "\n",
        "    If the cluster of a compund is not specified (cluster < 0), it will be\n",
        "    plotted gray, otherwise it will be colored by the cluster value.\n",
        "    \"\"\"\n",
        "    clustered = df[cluster_col].values >= 0\n",
        "\n",
        "    plt.figure(figsize=(10,8))\n",
        "    ax=sns.scatterplot(data=df.iloc[~clustered],\n",
        "                    x=x_col,\n",
        "                    y=y_col,\n",
        "                    color=(0.5, 0.5, 0.5),\n",
        "                    s=10,\n",
        "                    alpha=0.1)\n",
        "    sns.scatterplot(data=df.iloc[clustered],\n",
        "                    x=x_col,\n",
        "                    y=y_col,\n",
        "                    hue=cluster_col,\n",
        "                    alpha=0.5,\n",
        "                    palette=\"nipy_spectral\",\n",
        "                    ax=ax)\n",
        "    if x_lim:\n",
        "      ax.set_xlim(x_lim)\n",
        "    if y_lim:\n",
        "      ax.set_ylim(y_lim)\n",
        "\n",
        "    sm = plt.cm.ScalarMappable(cmap=\"nipy_spectral\")\n",
        "    sm.set_array([])\n",
        "    ax.get_legend().remove()\n",
        "    ax.figure.colorbar(sm, label=\"Global Cluster\")\n",
        "\n",
        "    plt.title(title)\n",
        "    plt.show()"
      ]
    },
    {
      "cell_type": "markdown",
      "metadata": {
        "id": "jovz3xVc4M8X"
      },
      "source": [
        "# Embed BBBP with UMAP"
      ]
    },
    {
      "cell_type": "markdown",
      "metadata": {
        "id": "ZlQqzKMB4Qq7"
      },
      "source": [
        "### Read in and process small data"
      ]
    },
    {
      "cell_type": "code",
      "execution_count": null,
      "metadata": {
        "id": "HR2S6BbP4JlB",
        "colab": {
          "base_uri": "https://localhost:8080/"
        },
        "outputId": "1feae808-01fa-4174-b947-30fd791d6342"
      },
      "outputs": [
        {
          "output_type": "stream",
          "name": "stdout",
          "text": [
            "10.007198333740234\n",
            "(2039, 3)\n"
          ]
        }
      ],
      "source": [
        "# Read in data from MoleculeNet\n",
        "bbbp = pd.read_csv(\"https://deepchemdata.s3-us-west-1.amazonaws.com/datasets/BBBP.csv\")\n",
        "\n",
        "# Clean up columnn names so they are easier to interpret\n",
        "bbbp = bbbp[[\"smiles\", \"p_np\", \"name\"]].reset_index(drop=True).rename({\"p_np\": \"permeable\"}, axis=1)\n",
        "\n",
        "# Remove extra fragments in SMILES (typically salts, which are irrelevant to BBB permeability)\n",
        "bbbp[\"smiles\"] = bbbp[\"smiles\"].apply(get_largest_fragment_from_smiles).dropna()\n",
        "t=time()\n",
        "# Compute descriptors and keep track of which failed to featurize\n",
        "ecfp_descriptors, keep_idx = compute_ecfp_descriptors(bbbp[\"smiles\"])\n",
        "\n",
        "# Only keep those that sucessfully featurized\n",
        "bbbp = bbbp.iloc[keep_idx]\n",
        "print(time()-t)\n",
        "print(bbbp.shape)"
      ]
    },
    {
      "cell_type": "code",
      "execution_count": null,
      "metadata": {
        "id": "TpDXJ1qX5IZK"
      },
      "outputs": [],
      "source": [
        "# t=time()\n",
        "# umap_model = umap.UMAP(metric = \"jaccard\",\n",
        "#                       n_neighbors = 25,\n",
        "#                       n_components = 2,\n",
        "#                       low_memory = False,\n",
        "#                       min_dist = 0.001)\n",
        "# X_umap = umap_model.fit_transform(ecfp_descriptors)\n",
        "# bbbp[\"UMAP_0\"], bbbp[\"UMAP_1\"] = X_umap[:,0], X_umap[:,1]\n",
        "# print(time()-t)\n",
        "# palette = sns.color_palette([\"hotpink\", \"dodgerblue\"])\n",
        "# for method in [\"UMAP\"]:\n",
        "#     plt.figure(figsize=(8,8))\n",
        "#     sns.scatterplot(data=bbbp,\n",
        "#                     x=f\"{method}_0\",\n",
        "#                     y=f\"{method}_1\",\n",
        "#                     hue=\"permeable\",\n",
        "#                     alpha=0.5,\n",
        "#                     palette=palette)\n",
        "#     plt.title(f\"{method} Embedding of bbbp Dataset\")\n",
        "#     plt.show()\n"
      ]
    },
    {
      "cell_type": "code",
      "execution_count": null,
      "metadata": {
        "id": "i9iRe44glrPq",
        "colab": {
          "base_uri": "https://localhost:8080/",
          "height": 424
        },
        "outputId": "c29336ec-faf4-4a5b-f04d-4d1367445422"
      },
      "outputs": [
        {
          "output_type": "execute_result",
          "data": {
            "text/plain": [
              "                                   name  permeable\n",
              "0                            Propanolol          1\n",
              "1                  Terbutylchlorambucil          1\n",
              "2                                 40730          1\n",
              "3                                    24          1\n",
              "4                           cloxacillin          1\n",
              "...                                 ...        ...\n",
              "2045                         licostinel          1\n",
              "2046  ademetionine(adenosyl-methionine)          1\n",
              "2047                           mesocarb          1\n",
              "2048                         tofisoline          1\n",
              "2049                      azidamfenicol          1\n",
              "\n",
              "[2016 rows x 2 columns]"
            ],
            "text/html": [
              "\n",
              "  <div id=\"df-78d2ce4e-38d4-439c-860e-37b196887d90\">\n",
              "    <div class=\"colab-df-container\">\n",
              "      <div>\n",
              "<style scoped>\n",
              "    .dataframe tbody tr th:only-of-type {\n",
              "        vertical-align: middle;\n",
              "    }\n",
              "\n",
              "    .dataframe tbody tr th {\n",
              "        vertical-align: top;\n",
              "    }\n",
              "\n",
              "    .dataframe thead th {\n",
              "        text-align: right;\n",
              "    }\n",
              "</style>\n",
              "<table border=\"1\" class=\"dataframe\">\n",
              "  <thead>\n",
              "    <tr style=\"text-align: right;\">\n",
              "      <th></th>\n",
              "      <th>name</th>\n",
              "      <th>permeable</th>\n",
              "    </tr>\n",
              "  </thead>\n",
              "  <tbody>\n",
              "    <tr>\n",
              "      <th>0</th>\n",
              "      <td>Propanolol</td>\n",
              "      <td>1</td>\n",
              "    </tr>\n",
              "    <tr>\n",
              "      <th>1</th>\n",
              "      <td>Terbutylchlorambucil</td>\n",
              "      <td>1</td>\n",
              "    </tr>\n",
              "    <tr>\n",
              "      <th>2</th>\n",
              "      <td>40730</td>\n",
              "      <td>1</td>\n",
              "    </tr>\n",
              "    <tr>\n",
              "      <th>3</th>\n",
              "      <td>24</td>\n",
              "      <td>1</td>\n",
              "    </tr>\n",
              "    <tr>\n",
              "      <th>4</th>\n",
              "      <td>cloxacillin</td>\n",
              "      <td>1</td>\n",
              "    </tr>\n",
              "    <tr>\n",
              "      <th>...</th>\n",
              "      <td>...</td>\n",
              "      <td>...</td>\n",
              "    </tr>\n",
              "    <tr>\n",
              "      <th>2045</th>\n",
              "      <td>licostinel</td>\n",
              "      <td>1</td>\n",
              "    </tr>\n",
              "    <tr>\n",
              "      <th>2046</th>\n",
              "      <td>ademetionine(adenosyl-methionine)</td>\n",
              "      <td>1</td>\n",
              "    </tr>\n",
              "    <tr>\n",
              "      <th>2047</th>\n",
              "      <td>mesocarb</td>\n",
              "      <td>1</td>\n",
              "    </tr>\n",
              "    <tr>\n",
              "      <th>2048</th>\n",
              "      <td>tofisoline</td>\n",
              "      <td>1</td>\n",
              "    </tr>\n",
              "    <tr>\n",
              "      <th>2049</th>\n",
              "      <td>azidamfenicol</td>\n",
              "      <td>1</td>\n",
              "    </tr>\n",
              "  </tbody>\n",
              "</table>\n",
              "<p>2016 rows × 2 columns</p>\n",
              "</div>\n",
              "      <button class=\"colab-df-convert\" onclick=\"convertToInteractive('df-78d2ce4e-38d4-439c-860e-37b196887d90')\"\n",
              "              title=\"Convert this dataframe to an interactive table.\"\n",
              "              style=\"display:none;\">\n",
              "        \n",
              "  <svg xmlns=\"http://www.w3.org/2000/svg\" height=\"24px\"viewBox=\"0 0 24 24\"\n",
              "       width=\"24px\">\n",
              "    <path d=\"M0 0h24v24H0V0z\" fill=\"none\"/>\n",
              "    <path d=\"M18.56 5.44l.94 2.06.94-2.06 2.06-.94-2.06-.94-.94-2.06-.94 2.06-2.06.94zm-11 1L8.5 8.5l.94-2.06 2.06-.94-2.06-.94L8.5 2.5l-.94 2.06-2.06.94zm10 10l.94 2.06.94-2.06 2.06-.94-2.06-.94-.94-2.06-.94 2.06-2.06.94z\"/><path d=\"M17.41 7.96l-1.37-1.37c-.4-.4-.92-.59-1.43-.59-.52 0-1.04.2-1.43.59L10.3 9.45l-7.72 7.72c-.78.78-.78 2.05 0 2.83L4 21.41c.39.39.9.59 1.41.59.51 0 1.02-.2 1.41-.59l7.78-7.78 2.81-2.81c.8-.78.8-2.07 0-2.86zM5.41 20L4 18.59l7.72-7.72 1.47 1.35L5.41 20z\"/>\n",
              "  </svg>\n",
              "      </button>\n",
              "      \n",
              "  <style>\n",
              "    .colab-df-container {\n",
              "      display:flex;\n",
              "      flex-wrap:wrap;\n",
              "      gap: 12px;\n",
              "    }\n",
              "\n",
              "    .colab-df-convert {\n",
              "      background-color: #E8F0FE;\n",
              "      border: none;\n",
              "      border-radius: 50%;\n",
              "      cursor: pointer;\n",
              "      display: none;\n",
              "      fill: #1967D2;\n",
              "      height: 32px;\n",
              "      padding: 0 0 0 0;\n",
              "      width: 32px;\n",
              "    }\n",
              "\n",
              "    .colab-df-convert:hover {\n",
              "      background-color: #E2EBFA;\n",
              "      box-shadow: 0px 1px 2px rgba(60, 64, 67, 0.3), 0px 1px 3px 1px rgba(60, 64, 67, 0.15);\n",
              "      fill: #174EA6;\n",
              "    }\n",
              "\n",
              "    [theme=dark] .colab-df-convert {\n",
              "      background-color: #3B4455;\n",
              "      fill: #D2E3FC;\n",
              "    }\n",
              "\n",
              "    [theme=dark] .colab-df-convert:hover {\n",
              "      background-color: #434B5C;\n",
              "      box-shadow: 0px 1px 3px 1px rgba(0, 0, 0, 0.15);\n",
              "      filter: drop-shadow(0px 1px 2px rgba(0, 0, 0, 0.3));\n",
              "      fill: #FFFFFF;\n",
              "    }\n",
              "  </style>\n",
              "\n",
              "      <script>\n",
              "        const buttonEl =\n",
              "          document.querySelector('#df-78d2ce4e-38d4-439c-860e-37b196887d90 button.colab-df-convert');\n",
              "        buttonEl.style.display =\n",
              "          google.colab.kernel.accessAllowed ? 'block' : 'none';\n",
              "\n",
              "        async function convertToInteractive(key) {\n",
              "          const element = document.querySelector('#df-78d2ce4e-38d4-439c-860e-37b196887d90');\n",
              "          const dataTable =\n",
              "            await google.colab.kernel.invokeFunction('convertToInteractive',\n",
              "                                                     [key], {});\n",
              "          if (!dataTable) return;\n",
              "\n",
              "          const docLinkHtml = 'Like what you see? Visit the ' +\n",
              "            '<a target=\"_blank\" href=https://colab.research.google.com/notebooks/data_table.ipynb>data table notebook</a>'\n",
              "            + ' to learn more about interactive tables.';\n",
              "          element.innerHTML = '';\n",
              "          dataTable['output_type'] = 'display_data';\n",
              "          await google.colab.output.renderOutput(dataTable, element);\n",
              "          const docLink = document.createElement('div');\n",
              "          docLink.innerHTML = docLinkHtml;\n",
              "          element.appendChild(docLink);\n",
              "        }\n",
              "      </script>\n",
              "    </div>\n",
              "  </div>\n",
              "  "
            ]
          },
          "metadata": {},
          "execution_count": 12
        }
      ],
      "source": [
        "BBBP=bbbp[~bbbp.name.duplicated(keep='first')]\n",
        "BBBP[['name','permeable']][BBBP.smiles.str.len()>3]#.reset_index(drop=True)"
      ]
    },
    {
      "cell_type": "markdown",
      "metadata": {
        "id": "6L8TZ5qx530H"
      },
      "source": [
        "### ... and with graphistry"
      ]
    },
    {
      "cell_type": "code",
      "source": [
        "ecfp_descriptors"
      ],
      "metadata": {
        "colab": {
          "base_uri": "https://localhost:8080/"
        },
        "id": "fdvAXUCi9oGZ",
        "outputId": "3bb2e2ce-2ad1-4da1-be52-5eff13411d81"
      },
      "execution_count": null,
      "outputs": [
        {
          "output_type": "execute_result",
          "data": {
            "text/plain": [
              "array([[0, 1, 0, ..., 0, 0, 0],\n",
              "       [0, 0, 0, ..., 0, 0, 0],\n",
              "       [0, 0, 0, ..., 1, 0, 0],\n",
              "       ...,\n",
              "       [0, 1, 0, ..., 0, 0, 0],\n",
              "       [0, 0, 0, ..., 0, 0, 0],\n",
              "       [0, 1, 0, ..., 0, 0, 0]])"
            ]
          },
          "metadata": {},
          "execution_count": 18
        }
      ]
    },
    {
      "cell_type": "code",
      "execution_count": null,
      "metadata": {
        "id": "vA8LG2dFgKrc",
        "colab": {
          "base_uri": "https://localhost:8080/"
        },
        "outputId": "8d1c292d-3128-4553-83f1-d153b7c0847c"
      },
      "outputs": [
        {
          "output_type": "stream",
          "name": "stderr",
          "text": [
            "WARNING:root:! Failed featurize speedup attempt. Continuing without memoization speedups.WARNING:root:Target is not of type(DataFrame) and has no columns"
          ]
        },
        {
          "output_type": "stream",
          "name": "stdout",
          "text": [
            "Using GPU: cu_cat\n"
          ]
        },
        {
          "output_type": "stream",
          "name": "stderr",
          "text": [
            "WARNING:root:! Failed umap speedup attempt. Continuing without memoization speedups.WARNING:graphistry.umap_utils:* Ignoring target column of shape (2016, 0) in UMAP fit, as it is not one dimensional"
          ]
        },
        {
          "output_type": "stream",
          "name": "stdout",
          "text": [
            "\n",
            "44.57150363922119\n"
          ]
        }
      ],
      "source": [
        "BBBP=bbbp[~bbbp.name.duplicated(keep='first')]\n",
        "\n",
        "g = graphistry.nodes(cudf.from_pandas(BBBP[['smiles','permeable']][BBBP.smiles.str.len()>3]))\n",
        "t=time()\n",
        "# g2=g.featurize(feature_engine='cu_cat',memoize=True)\n",
        "g3=g.umap(feature_engine='cu_cat',engine='cuml',metric = \"jaccard\",\n",
        "                      n_neighbors = 25,\n",
        "                      n_components = 2,\n",
        "                      low_memory = False,\n",
        "                      min_dist = 0.001)\n",
        "print(\"\\n\"+str(time()-t))"
      ]
    },
    {
      "cell_type": "code",
      "execution_count": null,
      "metadata": {
        "id": "WMzz0EfaqR03",
        "colab": {
          "base_uri": "https://localhost:8080/",
          "height": 543
        },
        "outputId": "9618b7e1-5681-426b-a06d-8a869d2bbfaa"
      },
      "outputs": [
        {
          "output_type": "execute_result",
          "data": {
            "text/plain": [
              "<IPython.core.display.HTML object>"
            ],
            "text/html": [
              "\n",
              "            <iframe id=\"77c9913d-76bb-44bc-bbb1-d76137dddc5a\" src=\"https://hub.graphistry.com/graph/graph.html?dataset=67c3eb2009454940a696cce5338b2932&type=arrow&viztoken=26ef09cd-2d5b-47a0-9ba2-74ab68529726&usertag=15934855-pygraphistry-0.28.7+463.gfb96400&splashAfter=1688356900&info=true&play=0\"\n",
              "                    allowfullscreen=\"true\" webkitallowfullscreen=\"true\" mozallowfullscreen=\"true\"\n",
              "                    oallowfullscreen=\"true\" msallowfullscreen=\"true\"\n",
              "                    style=\"width:100%; height:500px; border: 1px solid #DDD; overflow: hidden\"\n",
              "                    \n",
              "            >\n",
              "            </iframe>\n",
              "        \n",
              "            <script>\n",
              "                try {\n",
              "                  $(\"#77c9913d-76bb-44bc-bbb1-d76137dddc5a\").bind('mousewheel', function(e) { e.preventDefault(); });\n",
              "                } catch (e) { console.error('exn catching scroll', e); }\n",
              "            </script>\n",
              "        "
            ]
          },
          "metadata": {},
          "execution_count": 14
        }
      ],
      "source": [
        "# g2.bind(node=BBBP.permeable) #[BBBP.smiles.str.len()>3])\n",
        "g3.encode_point_color('permeable',palette=[\"hotpink\", \"dodgerblue\"],as_continuous=True).plot()\n"
      ]
    },
    {
      "cell_type": "markdown",
      "metadata": {
        "id": "gI0YsM12V3Nt"
      },
      "source": [
        "## using a [universal fingerprint](https://jcheminf.biomedcentral.com/articles/10.1186/s13321-020-00445-4) rather than [morgan fingerprint from 1965](https://pubs.acs.org/doi/abs/10.1021/c160017a018)"
      ]
    },
    {
      "cell_type": "code",
      "execution_count": null,
      "metadata": {
        "id": "m26BEG2HVBdv"
      },
      "outputs": [],
      "source": [
        "import locale\n",
        "def getpreferredencoding(do_setlocale = True):\n",
        "    return \"UTF-8\"\n",
        "locale.getpreferredencoding = getpreferredencoding\n",
        "\n",
        "!pip install tmap\n",
        "!pip install git+https://github.com/reymond-group/map4@v1.0\n"
      ]
    },
    {
      "cell_type": "code",
      "execution_count": null,
      "metadata": {
        "id": "TIn7kPdTCT5P"
      },
      "outputs": [],
      "source": [
        "# !pip install -q condacolab\n",
        "# import condacolab\n",
        "condacolab.install()\n",
        "\n",
        "!conda install -c tmap tmap"
      ]
    },
    {
      "cell_type": "code",
      "execution_count": null,
      "metadata": {
        "id": "Ep_UAw7CQ0S0"
      },
      "outputs": [],
      "source": [
        "from rdkit import Chem\n",
        "import tmap as tm\n",
        "from map4 import MAP4Calculator\n",
        "\n",
        "dim = 1024\n",
        "\n",
        "MAP4 = MAP4Calculator(dimensions=dim)\n",
        "ENC = tm.Minhash(dim)\n",
        "\n",
        "smiles_a = 'c1ccccc1'\n",
        "mol_a = Chem.MolFromSmiles(smiles_a)\n",
        "map4_a = MAP4.calculate(mol_a)\n",
        "\n"
      ]
    },
    {
      "cell_type": "markdown",
      "metadata": {
        "id": "v4Ov_xoI51tG"
      },
      "source": [
        "### ... and with graphistry"
      ]
    },
    {
      "cell_type": "code",
      "execution_count": null,
      "metadata": {
        "id": "t7qqMDBbQ0VH"
      },
      "outputs": [],
      "source": [
        "# PPB = PPB[PPB.columns.drop(list(PPB.filter(regex='UMAP')))]\n",
        "g = graphistry.nodes(cudf.from_pandas(PPB[['smiles']][PPB.smiles.str.len()>3]))\n",
        "\n",
        "t=time()\n",
        "# g2=g.featurize(feature_engine='cu_cat',memoize=True)\n",
        "g3=g.umap(feature_engine='cu_cat',engine='cuml',metric = \"jaccard\",\n",
        "                      n_neighbors = 25,\n",
        "                      n_components = 2,\n",
        "                      low_memory = False,\n",
        "                      min_dist = 0.001)\n",
        "print(\"\\n\"+str(time()-t))\n",
        "emb2=g3._node_embedding\n",
        "g222=graphistry.nodes(emb2.reset_index(),'index').edges(g3._edges,'_src_implicit','_dst_implicit').bind(point_x=\"x\",point_y=\"y\").settings(url_params={\"play\":0})\n",
        "g222.plot()"
      ]
    },
    {
      "cell_type": "markdown",
      "metadata": {
        "id": "f4X6aRSQUkBn"
      },
      "source": [
        "## and larger data"
      ]
    },
    {
      "cell_type": "code",
      "execution_count": null,
      "metadata": {
        "id": "S4rnM7NmM17T"
      },
      "outputs": [],
      "source": [
        "PPB = pd.read_csv(\"https://deepchemdata.s3-us-west-1.amazonaws.com/datasets/qm9.csv\")\n",
        "t=time()\n",
        "#Compute ECFP Descriptors\n",
        "ecfp_descriptors, keep_idx = compute_ecfp_descriptors(PPB[\"smiles\"])\n",
        "PPB = PPB.iloc[keep_idx]\n",
        "print(PPB.shape)\n",
        "print(time()-t)"
      ]
    },
    {
      "cell_type": "code",
      "execution_count": null,
      "metadata": {
        "id": "VcSQV0P9HKZ4"
      },
      "outputs": [],
      "source": [
        "t=time()\n",
        "umap_model = umap.UMAP(metric = \"jaccard\",\n",
        "                      n_neighbors = 25,\n",
        "                      n_components = 2,\n",
        "                      low_memory = False,\n",
        "                      min_dist = 0.001)\n",
        "X_umap = umap_model.fit_transform(ecfp_descriptors)\n",
        "PPB[\"UMAP_0\"], PPB[\"UMAP_1\"] = X_umap[:,0], X_umap[:,1]\n",
        "print(time()-t)\n",
        "palette = sns.color_palette([\"hotpink\", \"dodgerblue\"])\n",
        "for method in [\"UMAP\"]:\n",
        "    plt.figure(figsize=(8,8))\n",
        "    sns.scatterplot(data=PPB,\n",
        "                    x=f\"{method}_0\",\n",
        "                    y=f\"{method}_1\",\n",
        "                    # hue=\"permeable\",\n",
        "                    alpha=0.5,\n",
        "                    palette=palette)\n",
        "    plt.title(f\"{method} Embedding of PPB Dataset\")\n",
        "    plt.show()"
      ]
    },
    {
      "cell_type": "markdown",
      "metadata": {
        "id": "_M-ZH2jJRD6y"
      },
      "source": [
        "### ... and with graphistry"
      ]
    },
    {
      "cell_type": "code",
      "execution_count": null,
      "metadata": {
        "id": "5EHc3y0jVBba"
      },
      "outputs": [],
      "source": [
        "# PPB = PPB[PPB.columns.drop(list(PPB.filter(regex='UMAP')))]\n",
        "g = graphistry.nodes(cudf.from_pandas(PPB[['smiles']][PPB.smiles.str.len()>3]))\n",
        "t=time()\n",
        "# g2=g.featurize(feature_engine='cu_cat',memoize=True)\n",
        "g3=g.umap(feature_engine='cu_cat',engine='cuml',metric = \"jaccard\",\n",
        "                      n_neighbors = 25,\n",
        "                      n_components = 2,\n",
        "                      low_memory = False,\n",
        "                      min_dist = 0.001)\n",
        "\n",
        "print(\"\\n\"+str(time()-t))\n"
      ]
    },
    {
      "cell_type": "code",
      "execution_count": null,
      "metadata": {
        "id": "FdbQoMjHQ8D-"
      },
      "outputs": [],
      "source": [
        "emb2=g3._node_embedding\n",
        "g222=graphistry.nodes(emb2.reset_index(),'index').edges(g3._edges,'_src_implicit','_dst_implicit').bind(point_x=\"x\",point_y=\"y\").settings(url_params={\"play\":0})\n",
        "g222.plot()"
      ]
    },
    {
      "cell_type": "markdown",
      "metadata": {
        "id": "L8NcwLVK5s_i"
      },
      "source": [
        "# Embed BBBP in Global Chemical Space Approximation (Dataset-Agnostic Embedding)"
      ]
    },
    {
      "cell_type": "markdown",
      "metadata": {
        "id": "gdXebUL45usJ"
      },
      "source": [
        "### Read in and process ChEMBL data\n",
        "_Note: We want this walk-through to be fully reproducible with publicly available data. Since the dataset we used at Reverie create our internal Dataset-Agnostic Embedding can't be shared here, instead we select a random sample of ChEMBL compounds as our approximation of global chemical space._"
      ]
    },
    {
      "cell_type": "code",
      "source": [
        "import pandas as pd\n",
        "import numpy as np"
      ],
      "metadata": {
        "id": "wLSGHEs6OayN"
      },
      "execution_count": null,
      "outputs": []
    },
    {
      "cell_type": "code",
      "execution_count": null,
      "metadata": {
        "id": "HUbDr8Dp5uOB"
      },
      "outputs": [],
      "source": [
        "# Read in data from MoleculeNet\n",
        "chembl = pd.read_csv(\"https://deepchemdata.s3-us-west-1.amazonaws.com/datasets/chembl_sparse.csv.gz\", compression='gzip')\n",
        "\n",
        "# Sample a random 10k\n",
        "chembl_sample = chembl.sample(n=10000)"
      ]
    },
    {
      "cell_type": "markdown",
      "metadata": {
        "id": "KF75X2375xdH"
      },
      "source": [
        "### Compute ECFP descriptors"
      ]
    },
    {
      "cell_type": "code",
      "execution_count": null,
      "metadata": {
        "id": "whnZgtY05wPe"
      },
      "outputs": [],
      "source": [
        "%%time\n",
        "# Compute desrciptors and keep track of which failed to featurize\n",
        "chembl_ecfp_descriptors, chembl_keep_idx = compute_ecfp_descriptors(chembl[\"smiles\"])\n",
        "\n",
        "# Only keep those that sucessfully featurized\n",
        "chembl_sample = chembl_sample.iloc[chembl_keep_idx]"
      ]
    },
    {
      "cell_type": "markdown",
      "metadata": {
        "id": "gEugkEzB55Vj"
      },
      "source": [
        "### Embed 'global' sample with UMAP to create Dataset-Agnostic model"
      ]
    },
    {
      "cell_type": "code",
      "execution_count": null,
      "metadata": {
        "id": "jYrKYEzK547k"
      },
      "outputs": [],
      "source": [
        "%%time\n",
        "umap_model_global = umap.UMAP(metric = \"jaccard\",\n",
        "                               n_neighbors = 25,\n",
        "                               n_components = 2,\n",
        "                               low_memory = False,\n",
        "                               min_dist = 0.001)\n",
        "X_umap_global = umap_model_global.fit_transform(chembl_ecfp_descriptors)\n",
        "chembl_sample[\"UMAP_0\"], chembl_sample[\"UMAP_1\"] = X_umap_global[:,0], X_umap_global[:,1]"
      ]
    },
    {
      "cell_type": "code",
      "source": [
        "# BBBP=bbbp[~bbbp.name.duplicated(keep='first')]\n",
        "\n",
        "g = graphistry.nodes(cudf.from_pandas(chembl[\"smiles\"][chembl.smiles.str.len()>3]))\n",
        "t=time()\n",
        "# g2=g.featurize(feature_engine='cu_cat',memoize=True)\n",
        "g3=g.umap(feature_engine='cu_cat',engine='cuml',metric = \"jaccard\",\n",
        "                      n_neighbors = 25,\n",
        "                      n_components = 2,\n",
        "                      low_memory = False,\n",
        "                      min_dist = 0.001)\n",
        "print(\"\\n\"+str(time()-t))"
      ],
      "metadata": {
        "id": "DnXz47yx9MdU"
      },
      "execution_count": null,
      "outputs": []
    },
    {
      "cell_type": "markdown",
      "metadata": {
        "id": "VaIg9smL57ff"
      },
      "source": [
        "### Use Dataset-Agnostic UMAP model to embed BBBP"
      ]
    },
    {
      "cell_type": "code",
      "execution_count": null,
      "metadata": {
        "id": "GjVox3N25858"
      },
      "outputs": [],
      "source": [
        "%%time\n",
        "X_umap_bbbp = umap_model_global.transform(ecfp_descriptors)\n",
        "bbbp[\"UMAP_0 (global)\"], bbbp[\"UMAP_1 (global)\"] = X_umap_bbbp[:,0], X_umap_bbbp[:,1]"
      ]
    },
    {
      "cell_type": "markdown",
      "metadata": {
        "id": "CzfriiPD6Cu2"
      },
      "source": [
        "### Fit HDBScan clustering model on 'global' data & use to cluster BBBP"
      ]
    },
    {
      "cell_type": "code",
      "execution_count": null,
      "metadata": {
        "id": "AyMmh7Ja5_Gs"
      },
      "outputs": [],
      "source": [
        "# Define HDBSCAN model\n",
        "hdbscan_model = hdbscan.HDBSCAN(\n",
        "        min_cluster_size=10,\n",
        "        min_samples=10,\n",
        "        prediction_data=True,\n",
        "        cluster_selection_method=\"eom\")\n",
        "\n",
        "# Fit and predict on ChEMBL-sample\n",
        "chembl_sample[\"global_cluster\"] = hdbscan_model.fit_predict(X_umap_global)\n",
        "\n",
        "# Use ChEMBL-sample HDBSCAN model to cluster BBBP data\n",
        "bbbp[\"global_cluster\"], _ = hdbscan.approximate_predict(hdbscan_model, np.nan_to_num(X_umap_bbbp, nan=0))"
      ]
    },
    {
      "cell_type": "markdown",
      "metadata": {
        "id": "fxMbqbJO6G-E"
      },
      "source": [
        "### Visualize Dataset-Agnostic BBBP Embedding and Global Chemical Space Approximation (colored by global cluster)\n",
        "* Because this is a soft clustering, some compounds don't end up getting assigned a cluster (their cluster value = 0)\n",
        "* These compounds that do not end up in clusters are colored gray in these depictions\n",
        "* With a larger 'global approximation' dataset than this 10k sample you are likely to have more compounds in the BBBP dataset that are represented by global clusters"
      ]
    },
    {
      "cell_type": "code",
      "execution_count": null,
      "metadata": {
        "id": "T5N0GN3X91nr"
      },
      "outputs": [],
      "source": [
        "# Determine axes limits to put plots on the same scale\n",
        "buffer_space = 0.5 # Extra space around the edges\n",
        "x_lim = chembl_sample[\"UMAP_0\"].min()-buffer_space, chembl_sample[\"UMAP_0\"].max()+buffer_space\n",
        "y_lim = chembl_sample[\"UMAP_1\"].min()-buffer_space, chembl_sample[\"UMAP_1\"].max()+buffer_space"
      ]
    },
    {
      "cell_type": "code",
      "execution_count": null,
      "metadata": {
        "id": "FF8jIjpT6HYC"
      },
      "outputs": [],
      "source": [
        "plot_global_embeddings_with_clusters(bbbp,\n",
        "                      x_col=\"UMAP_0 (global)\",\n",
        "                      y_col=\"UMAP_1 (global)\",\n",
        "                      x_lim=x_lim,\n",
        "                      y_lim=y_lim,\n",
        "                      cluster_col=\"global_cluster\",\n",
        "                      title=\"Dataset-Agnostic Embedding of BBBP Dataset\")\n",
        "\n",
        "plot_global_embeddings_with_clusters(chembl_sample,\n",
        "                      x_col=\"UMAP_0\",\n",
        "                      y_col=\"UMAP_1\",\n",
        "                      x_lim=x_lim,\n",
        "                      y_lim=y_lim,\n",
        "                      cluster_col=\"global_cluster\",\n",
        "                      title=\"Global Chemical Space Embedding\")"
      ]
    },
    {
      "cell_type": "code",
      "execution_count": null,
      "metadata": {
        "id": "YaU50R26FJ4o"
      },
      "outputs": [],
      "source": []
    }
  ],
  "metadata": {
    "accelerator": "GPU",
    "colab": {
      "collapsed_sections": [
        "jovz3xVc4M8X"
      ],
      "machine_shape": "hm",
      "provenance": [],
      "include_colab_link": true
    },
    "kernelspec": {
      "display_name": "Python 3",
      "name": "python3"
    }
  },
  "nbformat": 4,
  "nbformat_minor": 0
}